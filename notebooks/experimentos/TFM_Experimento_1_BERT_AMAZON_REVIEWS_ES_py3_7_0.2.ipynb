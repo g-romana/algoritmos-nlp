{
 "cells": [
  {
   "cell_type": "code",
   "execution_count": 2,
   "metadata": {
    "colab": {
     "base_uri": "https://localhost:8080/"
    },
    "id": "YUozhFHDLypS",
    "outputId": "ba220683-c8fc-4b71-c5de-a1277282f1ba"
   },
   "outputs": [
    {
     "name": "stdout",
     "output_type": "stream",
     "text": [
      "Sun May 28 16:38:08 2023       \n",
      "+---------------------------------------------------------------------------------------+\n",
      "| NVIDIA-SMI 531.79                 Driver Version: 531.79       CUDA Version: 12.1     |\n",
      "|-----------------------------------------+----------------------+----------------------+\n",
      "| GPU  Name                      TCC/WDDM | Bus-Id        Disp.A | Volatile Uncorr. ECC |\n",
      "| Fan  Temp  Perf            Pwr:Usage/Cap|         Memory-Usage | GPU-Util  Compute M. |\n",
      "|                                         |                      |               MIG M. |\n",
      "|=========================================+======================+======================|\n",
      "|   0  NVIDIA GeForce GTX 1060 6GB   WDDM | 00000000:29:00.0  On |                  N/A |\n",
      "| 25%   32C    P8                7W / 120W|    686MiB /  6144MiB |      4%      Default |\n",
      "|                                         |                      |                  N/A |\n",
      "+-----------------------------------------+----------------------+----------------------+\n",
      "                                                                                         \n",
      "+---------------------------------------------------------------------------------------+\n",
      "| Processes:                                                                            |\n",
      "|  GPU   GI   CI        PID   Type   Process name                            GPU Memory |\n",
      "|        ID   ID                                                             Usage      |\n",
      "|=======================================================================================|\n",
      "|    0   N/A  N/A      1324    C+G   C:\\Windows\\System32\\dwm.exe               N/A      |\n",
      "|    0   N/A  N/A      7780    C+G   ...tionsPlus\\logioptionsplus_agent.exe    N/A      |\n",
      "|    0   N/A  N/A      9876    C+G   ...86)\\MSI\\Gaming APP\\GamingHotkey.exe    N/A      |\n",
      "|    0   N/A  N/A     10232    C+G   C:\\Windows\\explorer.exe                   N/A      |\n",
      "|    0   N/A  N/A     10504    C+G   ...crosoft\\Edge\\Application\\msedge.exe    N/A      |\n",
      "|    0   N/A  N/A     12536    C+G   ...2txyewy\\StartMenuExperienceHost.exe    N/A      |\n",
      "|    0   N/A  N/A     13688    C+G   ....Search_cw5n1h2txyewy\\SearchApp.exe    N/A      |\n",
      "|    0   N/A  N/A     14536    C+G   ...t.LockApp_cw5n1h2txyewy\\LockApp.exe    N/A      |\n",
      "|    0   N/A  N/A     15744    C+G   ...1.0_x64__8wekyb3d8bbwe\\Video.UI.exe    N/A      |\n",
      "|    0   N/A  N/A     16716    C+G   ...GeForce Experience\\NVIDIA Share.exe    N/A      |\n",
      "|    0   N/A  N/A     16920    C+G   ...CBS_cw5n1h2txyewy\\TextInputHost.exe    N/A      |\n",
      "|    0   N/A  N/A     16940    C+G   ...soft Office\\root\\Office16\\EXCEL.EXE    N/A      |\n",
      "|    0   N/A  N/A     17312    C+G   ...cal\\Microsoft\\OneDrive\\OneDrive.exe    N/A      |\n",
      "|    0   N/A  N/A     18020    C+G   ...cal\\Microsoft\\OneDrive\\OneDrive.exe    N/A      |\n",
      "|    0   N/A  N/A     19424    C+G   ...e Stream\\75.0.2.0\\GoogleDriveFS.exe    N/A      |\n",
      "|    0   N/A  N/A     20224    C+G   ...am Files\\Microsoft VS Code\\Code.exe    N/A      |\n",
      "|    0   N/A  N/A     20412    C+G   ...03.0_x64__8wekyb3d8bbwe\\Cortana.exe    N/A      |\n",
      "|    0   N/A  N/A     20868    C+G   ...61.0_x64__8wekyb3d8bbwe\\GameBar.exe    N/A      |\n",
      "|    0   N/A  N/A     20948    C+G   ...siveControlPanel\\SystemSettings.exe    N/A      |\n",
      "|    0   N/A  N/A     21244    C+G   ...s (x86)\\Razer\\Synapse\\RzSynapse.exe    N/A      |\n",
      "|    0   N/A  N/A     21380    C+G   ...5n1h2txyewy\\ShellExperienceHost.exe    N/A      |\n",
      "|    0   N/A  N/A     23248    C+G   ...ekyb3d8bbwe\\PhoneExperienceHost.exe    N/A      |\n",
      "|    0   N/A  N/A     25860    C+G   ...7.0_x64__cv1g1gvanyjgm\\WhatsApp.exe    N/A      |\n",
      "|    0   N/A  N/A     27756    C+G   ...64__8wekyb3d8bbwe\\CalculatorApp.exe    N/A      |\n",
      "+---------------------------------------------------------------------------------------+\n"
     ]
    }
   ],
   "source": [
    "!nvidia-smi"
   ]
  },
  {
   "cell_type": "code",
   "execution_count": 3,
   "metadata": {
    "colab": {
     "base_uri": "https://localhost:8080/"
    },
    "id": "CgWVQrHWG2uF",
    "outputId": "09bf4581-f36a-4888-9839-d0c9cd09cc7c"
   },
   "outputs": [
    {
     "name": "stdout",
     "output_type": "stream",
     "text": [
      "Looking in indexes: https://download.pytorch.org/whl/cu118\n",
      "Requirement already satisfied: torch==2.0.0+cu118 in c:\\users\\guill\\.conda\\envs\\nlptfm\\lib\\site-packages (2.0.0+cu118)\n",
      "Requirement already satisfied: torchvision==0.15.1+cu118 in c:\\users\\guill\\.conda\\envs\\nlptfm\\lib\\site-packages (0.15.1+cu118)\n",
      "Requirement already satisfied: torchaudio==2.0.1 in c:\\users\\guill\\.conda\\envs\\nlptfm\\lib\\site-packages (2.0.1+cu118)\n",
      "Requirement already satisfied: filelock in c:\\users\\guill\\.conda\\envs\\nlptfm\\lib\\site-packages (from torch==2.0.0+cu118) (3.9.0)\n",
      "Requirement already satisfied: typing-extensions in c:\\users\\guill\\.conda\\envs\\nlptfm\\lib\\site-packages (from torch==2.0.0+cu118) (4.6.2)\n",
      "Requirement already satisfied: sympy in c:\\users\\guill\\.conda\\envs\\nlptfm\\lib\\site-packages (from torch==2.0.0+cu118) (1.11.1)\n",
      "Requirement already satisfied: networkx in c:\\users\\guill\\.conda\\envs\\nlptfm\\lib\\site-packages (from torch==2.0.0+cu118) (3.0)\n",
      "Requirement already satisfied: jinja2 in c:\\users\\guill\\.conda\\envs\\nlptfm\\lib\\site-packages (from torch==2.0.0+cu118) (3.1.2)\n",
      "Requirement already satisfied: numpy in c:\\users\\guill\\.conda\\envs\\nlptfm\\lib\\site-packages (from torchvision==0.15.1+cu118) (1.24.1)\n",
      "Requirement already satisfied: requests in c:\\users\\guill\\.conda\\envs\\nlptfm\\lib\\site-packages (from torchvision==0.15.1+cu118) (2.28.1)\n",
      "Requirement already satisfied: pillow!=8.3.*,>=5.3.0 in c:\\users\\guill\\.conda\\envs\\nlptfm\\lib\\site-packages (from torchvision==0.15.1+cu118) (9.3.0)\n",
      "Requirement already satisfied: MarkupSafe>=2.0 in c:\\users\\guill\\.conda\\envs\\nlptfm\\lib\\site-packages (from jinja2->torch==2.0.0+cu118) (2.1.2)\n",
      "Requirement already satisfied: charset-normalizer<3,>=2 in c:\\users\\guill\\.conda\\envs\\nlptfm\\lib\\site-packages (from requests->torchvision==0.15.1+cu118) (2.1.1)\n",
      "Requirement already satisfied: idna<4,>=2.5 in c:\\users\\guill\\.conda\\envs\\nlptfm\\lib\\site-packages (from requests->torchvision==0.15.1+cu118) (3.4)\n",
      "Requirement already satisfied: urllib3<1.27,>=1.21.1 in c:\\users\\guill\\.conda\\envs\\nlptfm\\lib\\site-packages (from requests->torchvision==0.15.1+cu118) (1.26.13)\n",
      "Requirement already satisfied: certifi>=2017.4.17 in c:\\users\\guill\\.conda\\envs\\nlptfm\\lib\\site-packages (from requests->torchvision==0.15.1+cu118) (2022.12.7)\n",
      "Requirement already satisfied: mpmath>=0.19 in c:\\users\\guill\\.conda\\envs\\nlptfm\\lib\\site-packages (from sympy->torch==2.0.0+cu118) (1.2.1)\n",
      "Requirement already satisfied: seaborn in c:\\users\\guill\\.conda\\envs\\nlptfm\\lib\\site-packages (0.12.2)\n",
      "Requirement already satisfied: matplotlib in c:\\users\\guill\\.conda\\envs\\nlptfm\\lib\\site-packages (3.7.1)\n",
      "Requirement already satisfied: scikit-learn in c:\\users\\guill\\.conda\\envs\\nlptfm\\lib\\site-packages (1.2.2)\n",
      "Requirement already satisfied: IProgress in c:\\users\\guill\\.conda\\envs\\nlptfm\\lib\\site-packages (0.4)\n",
      "Requirement already satisfied: numpy!=1.24.0,>=1.17 in c:\\users\\guill\\.conda\\envs\\nlptfm\\lib\\site-packages (from seaborn) (1.24.1)\n",
      "Requirement already satisfied: pandas>=0.25 in c:\\users\\guill\\.conda\\envs\\nlptfm\\lib\\site-packages (from seaborn) (2.0.1)\n",
      "Requirement already satisfied: contourpy>=1.0.1 in c:\\users\\guill\\.conda\\envs\\nlptfm\\lib\\site-packages (from matplotlib) (1.0.7)\n",
      "Requirement already satisfied: cycler>=0.10 in c:\\users\\guill\\.conda\\envs\\nlptfm\\lib\\site-packages (from matplotlib) (0.11.0)\n",
      "Requirement already satisfied: fonttools>=4.22.0 in c:\\users\\guill\\.conda\\envs\\nlptfm\\lib\\site-packages (from matplotlib) (4.39.4)\n",
      "Requirement already satisfied: kiwisolver>=1.0.1 in c:\\users\\guill\\.conda\\envs\\nlptfm\\lib\\site-packages (from matplotlib) (1.4.4)\n",
      "Requirement already satisfied: packaging>=20.0 in c:\\users\\guill\\.conda\\envs\\nlptfm\\lib\\site-packages (from matplotlib) (23.1)\n",
      "Requirement already satisfied: pillow>=6.2.0 in c:\\users\\guill\\.conda\\envs\\nlptfm\\lib\\site-packages (from matplotlib) (9.3.0)\n",
      "Requirement already satisfied: pyparsing>=2.3.1 in c:\\users\\guill\\.conda\\envs\\nlptfm\\lib\\site-packages (from matplotlib) (3.0.9)\n",
      "Requirement already satisfied: python-dateutil>=2.7 in c:\\users\\guill\\.conda\\envs\\nlptfm\\lib\\site-packages (from matplotlib) (2.8.2)\n",
      "Requirement already satisfied: scipy>=1.3.2 in c:\\users\\guill\\.conda\\envs\\nlptfm\\lib\\site-packages (from scikit-learn) (1.10.1)\n",
      "Requirement already satisfied: joblib>=1.1.1 in c:\\users\\guill\\.conda\\envs\\nlptfm\\lib\\site-packages (from scikit-learn) (1.2.0)\n",
      "Requirement already satisfied: threadpoolctl>=2.0.0 in c:\\users\\guill\\.conda\\envs\\nlptfm\\lib\\site-packages (from scikit-learn) (3.1.0)\n",
      "Requirement already satisfied: six in c:\\users\\guill\\.conda\\envs\\nlptfm\\lib\\site-packages (from IProgress) (1.16.0)\n",
      "Requirement already satisfied: pytz>=2020.1 in c:\\users\\guill\\.conda\\envs\\nlptfm\\lib\\site-packages (from pandas>=0.25->seaborn) (2023.3)\n",
      "Requirement already satisfied: tzdata>=2022.1 in c:\\users\\guill\\.conda\\envs\\nlptfm\\lib\\site-packages (from pandas>=0.25->seaborn) (2023.3)\n",
      "Requirement already satisfied: transformers in c:\\users\\guill\\.conda\\envs\\nlptfm\\lib\\site-packages (4.29.2)\n",
      "Requirement already satisfied: filelock in c:\\users\\guill\\.conda\\envs\\nlptfm\\lib\\site-packages (from transformers) (3.9.0)\n",
      "Requirement already satisfied: huggingface-hub<1.0,>=0.14.1 in c:\\users\\guill\\.conda\\envs\\nlptfm\\lib\\site-packages (from transformers) (0.14.1)\n",
      "Requirement already satisfied: numpy>=1.17 in c:\\users\\guill\\.conda\\envs\\nlptfm\\lib\\site-packages (from transformers) (1.24.1)\n",
      "Requirement already satisfied: packaging>=20.0 in c:\\users\\guill\\.conda\\envs\\nlptfm\\lib\\site-packages (from transformers) (23.1)\n",
      "Requirement already satisfied: pyyaml>=5.1 in c:\\users\\guill\\.conda\\envs\\nlptfm\\lib\\site-packages (from transformers) (5.4.1)\n",
      "Requirement already satisfied: regex!=2019.12.17 in c:\\users\\guill\\.conda\\envs\\nlptfm\\lib\\site-packages (from transformers) (2023.5.5)\n",
      "Requirement already satisfied: requests in c:\\users\\guill\\.conda\\envs\\nlptfm\\lib\\site-packages (from transformers) (2.28.1)\n",
      "Requirement already satisfied: tokenizers!=0.11.3,<0.14,>=0.11.1 in c:\\users\\guill\\.conda\\envs\\nlptfm\\lib\\site-packages (from transformers) (0.13.3)\n",
      "Requirement already satisfied: tqdm>=4.27 in c:\\users\\guill\\.conda\\envs\\nlptfm\\lib\\site-packages (from transformers) (4.65.0)\n",
      "Requirement already satisfied: fsspec in c:\\users\\guill\\.conda\\envs\\nlptfm\\lib\\site-packages (from huggingface-hub<1.0,>=0.14.1->transformers) (2023.5.0)\n",
      "Requirement already satisfied: typing-extensions>=3.7.4.3 in c:\\users\\guill\\.conda\\envs\\nlptfm\\lib\\site-packages (from huggingface-hub<1.0,>=0.14.1->transformers) (4.6.2)\n",
      "Requirement already satisfied: colorama in c:\\users\\guill\\.conda\\envs\\nlptfm\\lib\\site-packages (from tqdm>=4.27->transformers) (0.4.4)\n",
      "Requirement already satisfied: charset-normalizer<3,>=2 in c:\\users\\guill\\.conda\\envs\\nlptfm\\lib\\site-packages (from requests->transformers) (2.1.1)\n",
      "Requirement already satisfied: idna<4,>=2.5 in c:\\users\\guill\\.conda\\envs\\nlptfm\\lib\\site-packages (from requests->transformers) (3.4)\n",
      "Requirement already satisfied: urllib3<1.27,>=1.21.1 in c:\\users\\guill\\.conda\\envs\\nlptfm\\lib\\site-packages (from requests->transformers) (1.26.13)\n",
      "Requirement already satisfied: certifi>=2017.4.17 in c:\\users\\guill\\.conda\\envs\\nlptfm\\lib\\site-packages (from requests->transformers) (2022.12.7)\n",
      "Requirement already satisfied: numpy in c:\\users\\guill\\.conda\\envs\\nlptfm\\lib\\site-packages (1.24.1)\n",
      "Requirement already satisfied: pandas in c:\\users\\guill\\.conda\\envs\\nlptfm\\lib\\site-packages (2.0.1)\n",
      "Requirement already satisfied: seaborn in c:\\users\\guill\\.conda\\envs\\nlptfm\\lib\\site-packages (0.12.2)\n",
      "Requirement already satisfied: psutil in c:\\users\\guill\\.conda\\envs\\nlptfm\\lib\\site-packages (5.9.5)\n",
      "Requirement already satisfied: sympy in c:\\users\\guill\\.conda\\envs\\nlptfm\\lib\\site-packages (1.11.1)\n",
      "Requirement already satisfied: filelock in c:\\users\\guill\\.conda\\envs\\nlptfm\\lib\\site-packages (3.9.0)\n",
      "Requirement already satisfied: jinja2 in c:\\users\\guill\\.conda\\envs\\nlptfm\\lib\\site-packages (3.1.2)\n",
      "Requirement already satisfied: networkx in c:\\users\\guill\\.conda\\envs\\nlptfm\\lib\\site-packages (3.0)\n",
      "Requirement already satisfied: typing-extensions in c:\\users\\guill\\.conda\\envs\\nlptfm\\lib\\site-packages (4.6.2)\n",
      "Requirement already satisfied: awscli in c:\\users\\guill\\.conda\\envs\\nlptfm\\lib\\site-packages (1.27.141)\n",
      "Requirement already satisfied: python-dateutil>=2.8.2 in c:\\users\\guill\\.conda\\envs\\nlptfm\\lib\\site-packages (from pandas) (2.8.2)\n",
      "Requirement already satisfied: pytz>=2020.1 in c:\\users\\guill\\.conda\\envs\\nlptfm\\lib\\site-packages (from pandas) (2023.3)\n",
      "Requirement already satisfied: tzdata>=2022.1 in c:\\users\\guill\\.conda\\envs\\nlptfm\\lib\\site-packages (from pandas) (2023.3)\n",
      "Requirement already satisfied: matplotlib!=3.6.1,>=3.1 in c:\\users\\guill\\.conda\\envs\\nlptfm\\lib\\site-packages (from seaborn) (3.7.1)\n",
      "Requirement already satisfied: mpmath>=0.19 in c:\\users\\guill\\.conda\\envs\\nlptfm\\lib\\site-packages (from sympy) (1.2.1)\n",
      "Requirement already satisfied: MarkupSafe>=2.0 in c:\\users\\guill\\.conda\\envs\\nlptfm\\lib\\site-packages (from jinja2) (2.1.2)\n",
      "Requirement already satisfied: botocore==1.29.141 in c:\\users\\guill\\.conda\\envs\\nlptfm\\lib\\site-packages (from awscli) (1.29.141)\n",
      "Requirement already satisfied: docutils<0.17,>=0.10 in c:\\users\\guill\\.conda\\envs\\nlptfm\\lib\\site-packages (from awscli) (0.16)\n",
      "Requirement already satisfied: s3transfer<0.7.0,>=0.6.0 in c:\\users\\guill\\.conda\\envs\\nlptfm\\lib\\site-packages (from awscli) (0.6.1)\n",
      "Requirement already satisfied: PyYAML<5.5,>=3.10 in c:\\users\\guill\\.conda\\envs\\nlptfm\\lib\\site-packages (from awscli) (5.4.1)\n",
      "Requirement already satisfied: colorama<0.4.5,>=0.2.5 in c:\\users\\guill\\.conda\\envs\\nlptfm\\lib\\site-packages (from awscli) (0.4.4)\n",
      "Requirement already satisfied: rsa<4.8,>=3.1.2 in c:\\users\\guill\\.conda\\envs\\nlptfm\\lib\\site-packages (from awscli) (4.7.2)\n",
      "Requirement already satisfied: jmespath<2.0.0,>=0.7.1 in c:\\users\\guill\\.conda\\envs\\nlptfm\\lib\\site-packages (from botocore==1.29.141->awscli) (1.0.1)\n",
      "Requirement already satisfied: urllib3<1.27,>=1.25.4 in c:\\users\\guill\\.conda\\envs\\nlptfm\\lib\\site-packages (from botocore==1.29.141->awscli) (1.26.13)\n",
      "Requirement already satisfied: contourpy>=1.0.1 in c:\\users\\guill\\.conda\\envs\\nlptfm\\lib\\site-packages (from matplotlib!=3.6.1,>=3.1->seaborn) (1.0.7)\n",
      "Requirement already satisfied: cycler>=0.10 in c:\\users\\guill\\.conda\\envs\\nlptfm\\lib\\site-packages (from matplotlib!=3.6.1,>=3.1->seaborn) (0.11.0)\n",
      "Requirement already satisfied: fonttools>=4.22.0 in c:\\users\\guill\\.conda\\envs\\nlptfm\\lib\\site-packages (from matplotlib!=3.6.1,>=3.1->seaborn) (4.39.4)\n",
      "Requirement already satisfied: kiwisolver>=1.0.1 in c:\\users\\guill\\.conda\\envs\\nlptfm\\lib\\site-packages (from matplotlib!=3.6.1,>=3.1->seaborn) (1.4.4)\n",
      "Requirement already satisfied: packaging>=20.0 in c:\\users\\guill\\.conda\\envs\\nlptfm\\lib\\site-packages (from matplotlib!=3.6.1,>=3.1->seaborn) (23.1)\n",
      "Requirement already satisfied: pillow>=6.2.0 in c:\\users\\guill\\.conda\\envs\\nlptfm\\lib\\site-packages (from matplotlib!=3.6.1,>=3.1->seaborn) (9.3.0)\n",
      "Requirement already satisfied: pyparsing>=2.3.1 in c:\\users\\guill\\.conda\\envs\\nlptfm\\lib\\site-packages (from matplotlib!=3.6.1,>=3.1->seaborn) (3.0.9)\n",
      "Requirement already satisfied: six>=1.5 in c:\\users\\guill\\.conda\\envs\\nlptfm\\lib\\site-packages (from python-dateutil>=2.8.2->pandas) (1.16.0)\n",
      "Requirement already satisfied: pyasn1>=0.1.3 in c:\\users\\guill\\.conda\\envs\\nlptfm\\lib\\site-packages (from rsa<4.8,>=3.1.2->awscli) (0.5.0)\n",
      "C:\\Users\\guill\\.conda\\envs\\nlptfm\\python.exe\n"
     ]
    }
   ],
   "source": [
    "# @title Setup & Config\n",
    "import os\n",
    "import subprocess\n",
    "import platform\n",
    "from IPython.display import clear_output\n",
    "import sys\n",
    "import time\n",
    "\n",
    "\n",
    "def setup():\n",
    "    libraries = \"\"\"torch\n",
    "        numpy\n",
    "        pandas\n",
    "        seaborn\n",
    "        matplotlib\n",
    "        scikit-learn\n",
    "        watermark\n",
    "        psutil\n",
    "        IProgress\n",
    "        sympy\n",
    "        filelock\n",
    "        jinja2\n",
    "        networkx\n",
    "        typing-extensions\n",
    "        IProgress\n",
    "        awscli\n",
    "        transformers\n",
    "        \"\"\".split()\n",
    "\n",
    "    with open('requirements.txt', 'w') as f:\n",
    "        f.write(\"\\n\".join(libraries))\n",
    "    \n",
    "    if platform.system() == 'Linux':\n",
    "        commands = [\n",
    "            # 'sudo update-alternatives --install /usr/bin/python3 python3 /usr/bin/python3.8 1',\n",
    "            # 'echo 2 | sudo update-alternatives --config python3',\n",
    "            # 'sudo apt install python3-pip',\n",
    "            'python -m pip install --upgrade pip',\n",
    "            'pip install -r requirements.txt',\n",
    "            'python3 --version'\n",
    "        ]\n",
    "        for command in commands:\n",
    "            output = subprocess.check_output(command, shell=True)\n",
    "            print(output.decode())\n",
    "            clear_output(wait=True)\n",
    "    elif platform.system() == 'Windows':\n",
    "        # Comandos para Windows\n",
    "        # !conda config --add channels nvidia\n",
    "        # !conda install --file requirements.txt -y\n",
    "        # !conda install pytorch torchvision torchaudio pytorch-cuda=11.8 -c pytorch -c nvidia\n",
    "        !pip install -qq watermark awscli\n",
    "        !pip install torch==2.0.0+cu118 torchvision==0.15.1+cu118 torchaudio==2.0.1 --index-url https://download.pytorch.org/whl/cu118\n",
    "        !pip install seaborn matplotlib scikit-learn scikit-learn IProgress\n",
    "        !pip install transformers\n",
    "        !pip install numpy pandas seaborn psutil sympy filelock jinja2 networkx typing-extensions awscli\n",
    "        pass\n",
    "\n",
    "setup()\n",
    "print(sys.executable)\n"
   ]
  },
  {
   "cell_type": "code",
   "execution_count": 4,
   "metadata": {},
   "outputs": [],
   "source": [
    "# !pip install torch==2.0.0+cu118 torchvision==0.15.1+cu118 torchaudio==2.0.1 --index-url https://download.pytorch.org/whl/cu118"
   ]
  },
  {
   "cell_type": "code",
   "execution_count": 5,
   "metadata": {
    "colab": {
     "base_uri": "https://localhost:8080/",
     "height": 35
    },
    "id": "BnTDJ-QDLypV",
    "outputId": "51ea18f8-6148-43ee-9f27-a51744379187"
   },
   "outputs": [
    {
     "data": {
      "text/plain": [
       "'Windows'"
      ]
     },
     "execution_count": 5,
     "metadata": {},
     "output_type": "execute_result"
    }
   ],
   "source": [
    "platform.system()"
   ]
  },
  {
   "cell_type": "code",
   "execution_count": 6,
   "metadata": {
    "colab": {
     "base_uri": "https://localhost:8080/",
     "height": 53
    },
    "id": "cA2SCKDLQ78E",
    "outputId": "e6f3bcad-46da-4e4a-e9d1-c58a8d0556ec"
   },
   "outputs": [
    {
     "data": {
      "text/plain": [
       "'\\npara evitar que se ponga en off, hacer ctrol + shift + i y luego a consola\\nfunction ConnectButton(){\\n    console.log(\"Connect pushed\"); \\n    document.querySelector(\"#top-toolbar > colab-connect-button\").shadowRoot.querySelector(\"#connect\").click() \\n}\\nsetInterval(ConnectButton,60000);\\n'"
      ]
     },
     "execution_count": 6,
     "metadata": {},
     "output_type": "execute_result"
    }
   ],
   "source": [
    "'''\n",
    "para evitar que se ponga en off, hacer ctrol + shift + i y luego a consola\n",
    "function ConnectButton(){\n",
    "    console.log(\"Connect pushed\"); \n",
    "    document.querySelector(\"#top-toolbar > colab-connect-button\").shadowRoot.querySelector(\"#connect\").click() \n",
    "}\n",
    "setInterval(ConnectButton,60000);\n",
    "'''"
   ]
  },
  {
   "cell_type": "code",
   "execution_count": 7,
   "metadata": {
    "colab": {
     "base_uri": "https://localhost:8080/"
    },
    "id": "3HF_585KGljk",
    "outputId": "75ef79ca-9f6f-4a0b-c237-7935b8c9865d"
   },
   "outputs": [
    {
     "name": "stdout",
     "output_type": "stream",
     "text": [
      "Collecting environment information...\n",
      "PyTorch version: 2.0.0+cu118\n",
      "Is debug build: False\n",
      "CUDA used to build PyTorch: 11.8\n",
      "ROCM used to build PyTorch: N/A\n",
      "\n",
      "OS: Microsoft Windows 10 Pro\n",
      "GCC version: Could not collect\n",
      "Clang version: Could not collect\n",
      "CMake version: Could not collect\n",
      "Libc version: N/A\n",
      "\n",
      "Python version: 3.10.11 | packaged by conda-forge | (main, May 10 2023, 18:51:25) [MSC v.1934 64 bit (AMD64)] (64-bit runtime)\n",
      "Python platform: Windows-10-10.0.19045-SP0\n",
      "Is CUDA available: True\n",
      "CUDA runtime version: 11.8.89\n",
      "\n",
      "CUDA_MODULE_LOADING set to: LAZY\n",
      "GPU models and configuration: GPU 0: NVIDIA GeForce GTX 1060 6GB\n",
      "Nvidia driver version: 531.79\n",
      "cuDNN version: C:\\Program Files\\NVIDIA GPU Computing Toolkit\\CUDA\\v11.8\\bin\\cudnn64_8.dll\n",
      "HIP runtime version: N/A\n",
      "MIOpen runtime version: N/A\n",
      "Is XNNPACK available: True\n",
      "\n",
      "CPU:\n",
      "Architecture=9\n",
      "\n",
      "\n",
      "CurrentClockSpeed=3700\n",
      "\n",
      "\n",
      "DeviceID=CPU0\n",
      "\n",
      "\n",
      "Family=107\n",
      "\n",
      "\n",
      "L2CacheSize=2048\n",
      "\n",
      "\n",
      "L2CacheSpeed=\n",
      "\n",
      "\n",
      "Manufacturer=AuthenticAMD\n",
      "\n",
      "\n",
      "MaxClockSpeed=3700\n",
      "\n",
      "\n",
      "Name=AMD Ryzen 5 1500X Quad-Core Processor          \n",
      "\n",
      "\n",
      "ProcessorType=3\n",
      "\n",
      "\n",
      "Revision=257\n",
      "\n",
      "Versions of relevant libraries:\n",
      "[pip3] numpy==1.24.1\n",
      "[pip3] torch==2.0.0+cu118\n",
      "[pip3] torchaudio==2.0.1+cu118\n",
      "[pip3] torchvision==0.15.1+cu118\n",
      "[conda] numpy                     1.24.1                   pypi_0    pypi\n",
      "[conda] torch                     2.0.0+cu118              pypi_0    pypi\n",
      "[conda] torchaudio                2.0.1+cu118              pypi_0    pypi\n",
      "[conda] torchvision               0.15.1+cu118             pypi_0    pypi\n"
     ]
    }
   ],
   "source": [
    "!python -m torch.utils.collect_env"
   ]
  },
  {
   "cell_type": "code",
   "execution_count": 8,
   "metadata": {
    "colab": {
     "base_uri": "https://localhost:8080/"
    },
    "id": "1_qWhEQ7LypX",
    "outputId": "e65d539f-e08f-43ab-f8f9-037779d7dd66"
   },
   "outputs": [
    {
     "data": {
      "text/plain": [
       "True"
      ]
     },
     "execution_count": 8,
     "metadata": {},
     "output_type": "execute_result"
    }
   ],
   "source": [
    "import torch\n",
    "# torch.cuda.device_count()\n",
    "torch.cuda.is_available()\n"
   ]
  },
  {
   "attachments": {},
   "cell_type": "markdown",
   "metadata": {
    "id": "lb-Rkj0PGaVF"
   },
   "source": [
    "## Setup\n",
    "\n",
    "Necesitamos  [the Transformers library](https://huggingface.co/transformers/) by Hugging Face:\n",
    "\n",
    "**OTRAS URL**\n",
    "\n",
    "[DOC1](https://github.com/alexliqu09/Sentiment-Analysis-on-Amazon-Reviews/blob/main/Beto.ipynb)\n",
    "[DOC2](https://curiousily.com/posts/sentiment-analysis-with-bert-and-hugging-face-using-pytorch-and-python/)"
   ]
  },
  {
   "cell_type": "code",
   "execution_count": 9,
   "metadata": {
    "colab": {
     "base_uri": "https://localhost:8080/"
    },
    "id": "FaVZzQ9oGNXp",
    "outputId": "ad9041c9-7030-4b92-ac83-1267f35a43b9"
   },
   "outputs": [
    {
     "name": "stdout",
     "output_type": "stream",
     "text": [
      "C:\\Users\\guill\\.conda\\envs\\nlptfm\\python.exe\n",
      "C:\\Users\\guill\\AppData\\Local\\Microsoft\\WindowsApps\\python.exe\n"
     ]
    }
   ],
   "source": [
    "if platform.system() == 'Linux':\n",
    "    !which python\n",
    "    !pip install transformers -qq\n",
    "else:\n",
    "    !where python"
   ]
  },
  {
   "cell_type": "code",
   "execution_count": 10,
   "metadata": {
    "colab": {
     "base_uri": "https://localhost:8080/"
    },
    "id": "gT1yr3mHGljn",
    "outputId": "305ec21d-191f-48a8-ecfa-7cb69387f164"
   },
   "outputs": [
    {
     "name": "stdout",
     "output_type": "stream",
     "text": [
      "Name: transformers\n",
      "Version: 4.29.2\n",
      "Summary: State-of-the-art Machine Learning for JAX, PyTorch and TensorFlow\n",
      "Home-page: https://github.com/huggingface/transformers\n",
      "Author: The Hugging Face team (past and future) with the help of all our contributors (https://github.com/huggingface/transformers/graphs/contributors)\n",
      "Author-email: transformers@huggingface.co\n",
      "License: Apache 2.0 License\n",
      "Location: c:\\users\\guill\\.conda\\envs\\nlptfm\\lib\\site-packages\n",
      "Requires: filelock, huggingface-hub, numpy, packaging, pyyaml, regex, requests, tokenizers, tqdm\n",
      "Required-by: \n",
      "---\n",
      "Name: torch\n",
      "Version: 2.0.0+cu118\n",
      "Summary: Tensors and Dynamic neural networks in Python with strong GPU acceleration\n",
      "Home-page: https://pytorch.org/\n",
      "Author: PyTorch Team\n",
      "Author-email: packages@pytorch.org\n",
      "License: BSD-3\n",
      "Location: c:\\users\\guill\\.conda\\envs\\nlptfm\\lib\\site-packages\n",
      "Requires: filelock, jinja2, networkx, sympy, typing-extensions\n",
      "Required-by: torchaudio, torchvision\n"
     ]
    }
   ],
   "source": [
    "!pip show transformers torch"
   ]
  },
  {
   "cell_type": "code",
   "execution_count": 11,
   "metadata": {},
   "outputs": [],
   "source": [
    "# !pip install watermark transformers\n",
    "# !pip install numpy pandas seaborn matplotlib scikit-learn psutil IProgress sympy filelock jinja2 networkx typing-extensions awscli\n",
    "# !pip install seaborn matplotlib scikit-learn scikit-learn IProgress"
   ]
  },
  {
   "cell_type": "code",
   "execution_count": 12,
   "metadata": {
    "id": "3gZ6z1LQGe-F"
   },
   "outputs": [
    {
     "name": "stdout",
     "output_type": "stream",
     "text": [
      "Python implementation: CPython\n",
      "Python version       : 3.10.11\n",
      "IPython version      : 8.13.2\n",
      "\n",
      "numpy       : 1.24.1\n",
      "pandas      : 2.0.1\n",
      "torch       : 2.0.0+cu118\n",
      "transformers: 4.29.2\n",
      "\n"
     ]
    }
   ],
   "source": [
    "%reload_ext watermark\n",
    "%watermark -v -p numpy,pandas,torch,transformers"
   ]
  },
  {
   "cell_type": "code",
   "execution_count": 13,
   "metadata": {
    "colab": {
     "base_uri": "https://localhost:8080/"
    },
    "id": "phxWt3SHGogY",
    "outputId": "38dfee21-6f70-49a5-f3d8-2e246789376c"
   },
   "outputs": [
    {
     "data": {
      "text/plain": [
       "device(type='cuda', index=0)"
      ]
     },
     "execution_count": 13,
     "metadata": {},
     "output_type": "execute_result"
    }
   ],
   "source": [
    "import transformers\n",
    "from transformers import BertModel, BertTokenizer, AdamW, get_linear_schedule_with_warmup\n",
    "import torch\n",
    "\n",
    "import numpy as np\n",
    "import pandas as pd\n",
    "import seaborn as sns\n",
    "from pylab import rcParams\n",
    "import matplotlib.pyplot as plt\n",
    "from matplotlib import rc\n",
    "from sklearn.model_selection import train_test_split\n",
    "from sklearn.metrics import confusion_matrix, classification_report, accuracy_score\n",
    "from collections import defaultdict\n",
    "from textwrap import wrap\n",
    "\n",
    "from torch import nn, optim\n",
    "from torch.utils.data import Dataset, DataLoader\n",
    "import torch.nn.functional as F\n",
    "\n",
    "\n",
    "pd.set_option('display.width', 144)\n",
    "pd.set_option('display.max_columns', None)\n",
    "\n",
    "if not os.path.exists('./sample_data'):\n",
    "    os.makedirs('./sample_data')\n",
    "\n",
    "%matplotlib inline\n",
    "%config InlineBackend.figure_format='retina'\n",
    "\n",
    "sns.set(style='whitegrid', palette='muted', font_scale=1.2)\n",
    "\n",
    "HAPPY_COLORS_PALETTE = [\"#01BEFE\", \"#FFDD00\", \"#FF7D00\", \"#FF006D\", \"#ADFF02\", \"#8F00FF\"]\n",
    "\n",
    "sns.set_palette(sns.color_palette(HAPPY_COLORS_PALETTE))\n",
    "\n",
    "rcParams['figure.figsize'] = 12, 8\n",
    "\n",
    "RANDOM_SEED = 42\n",
    "np.random.seed(RANDOM_SEED)\n",
    "torch.manual_seed(RANDOM_SEED)\n",
    "# seleccionamos la GPU si está disponible\n",
    "device = torch.device(\"cuda:0\" if torch.cuda.is_available() else \"cpu\")\n",
    "device"
   ]
  },
  {
   "attachments": {},
   "cell_type": "markdown",
   "metadata": {
    "id": "aABKlrKFM92G"
   },
   "source": [
    "## CONFIGURACIÓN DE LOS MODELOS PREENTRENADOS BERT\n",
    "\n",
    ">CONSULTAR LOS MODELOS PREENTRENADOS DISPONIBLES [AQUI](https://huggingface.co/transformers/pretrained_models.html)\n",
    "\n"
   ]
  },
  {
   "cell_type": "code",
   "execution_count": 14,
   "metadata": {
    "id": "yyTKvv4bdFX-"
   },
   "outputs": [],
   "source": [
    "def experimento(tipo: str, idioma: str):\n",
    "    \"\"\"\n",
    "    Configura y devuelve los parámetros para un experimento.\n",
    "\n",
    "    Parámetros\n",
    "    ----------\n",
    "    tipo : str\n",
    "        El tipo de experimento a realizar. Debe ser \"AMAZON\" o \"AGNEWS\".\n",
    "    idioma : str\n",
    "        El idioma del modelo pre-entrenado a utilizar. Debe ser \"EN\" o \"ES\".\n",
    "\n",
    "    Devoluciones\n",
    "    -------\n",
    "    int\n",
    "        El tamaño del lote a utilizar en el experimento.\n",
    "    int\n",
    "        El número de épocas a utilizar en el experimento.\n",
    "    float\n",
    "        La tasa de aprendizaje a utilizar en el experimento.\n",
    "    str\n",
    "        El nombre del modelo pre-entrenado a utilizar en el experimento.\n",
    "\n",
    "    \"\"\"\n",
    "    \n",
    "    experiment_params = {\n",
    "         \"AMAZON\": (16,2,1e-5),\n",
    "        # \"AMAZON\": (16,5,1e-5), # demasiado 5 epochs, casi 6h de entrenamiento. con 2 se consigue casi lo mismo. \n",
    "        # \"AMAZON\":(16, 4, 2e-5),\n",
    "        # \"AMAZON\": (16, 2, 5e-5),\n",
    "        \"AGNEWS\": (32, 4, 3e-5) \n",
    "    }\n",
    "    \n",
    "    model_names = {\n",
    "        \"ES\": 'dccuchile/bert-base-spanish-wwm-cased', # https://sparknlp.org/2021/09/07/bert_base_cased_es.html\n",
    "        # \"ES\": 'bert-base-multilingual-cased',\n",
    "        \"EN\": 'google/bert_uncased_L-4_H-256_A-4',\n",
    "    }\n",
    "    \n",
    "    if tipo.upper() not in experiment_params:\n",
    "        print(\"elige experimento\")\n",
    "        return\n",
    "    \n",
    "    if idioma.upper() not in model_names:\n",
    "        print(\"modelo no elegido\")\n",
    "        return\n",
    "    \n",
    "    BATCH_SIZE, EPOCHS, LEARNING_RATE = experiment_params[tipo.upper()]\n",
    "    PRE_TRAINED_MODEL_NAME = model_names[idioma.upper()]\n",
    "    \n",
    "    return BATCH_SIZE, EPOCHS, LEARNING_RATE, PRE_TRAINED_MODEL_NAME, tipo, idioma\n",
    "\n",
    "\n",
    "BATCH_SIZE, EPOCHS, LEARNING_RATE, PRE_TRAINED_MODEL_NAME, tipo, idioma = experimento(tipo = \"AMAZON\", idioma =\"es\")"
   ]
  },
  {
   "cell_type": "code",
   "execution_count": 15,
   "metadata": {
    "colab": {
     "base_uri": "https://localhost:8080/"
    },
    "id": "CuIw7VhddzCv",
    "outputId": "d2af314f-c1bb-4f7b-90ea-649987d7880a"
   },
   "outputs": [
    {
     "name": "stdout",
     "output_type": "stream",
     "text": [
      "BATCH_SIZE: 16\n",
      "LEARNING_RATE: 1e-05\n",
      "EPOCHS: 2\n",
      "PRE_TRAINED_MODEL_NAME: dccuchile/bert-base-spanish-wwm-cased\n",
      "DATASET: AMAZON\n",
      "Idioma: es\n"
     ]
    }
   ],
   "source": [
    "print(f\"BATCH_SIZE: {BATCH_SIZE}\")\n",
    "print(f\"LEARNING_RATE: {LEARNING_RATE}\")\n",
    "print(f\"EPOCHS: {EPOCHS}\")\n",
    "print(f\"PRE_TRAINED_MODEL_NAME: {PRE_TRAINED_MODEL_NAME}\")\n",
    "print(f\"DATASET: {tipo}\")\n",
    "print(f\"Idioma: {idioma}\")"
   ]
  },
  {
   "attachments": {},
   "cell_type": "markdown",
   "metadata": {
    "id": "biJVRoiiGzbL"
   },
   "source": [
    "## Exploración de datos"
   ]
  },
  {
   "attachments": {},
   "cell_type": "markdown",
   "metadata": {
    "id": "kzfXwdbdUGOq"
   },
   "source": [
    "### download data"
   ]
  },
  {
   "cell_type": "code",
   "execution_count": 16,
   "metadata": {
    "colab": {
     "base_uri": "https://localhost:8080/"
    },
    "id": "cxSM3-q9QI-D",
    "outputId": "3b3a7908-e2b4-41e4-956a-8ef4df6aa981"
   },
   "outputs": [],
   "source": [
    "!pip install awscli -qq\n",
    "\n",
    "root_folder = \"./sample_data/\"\n",
    "\n",
    "if not os.path.isfile(os.path.join(root_folder,'dataset_es_test.json')):\n",
    "    !aws s3 cp s3://amazon-reviews-ml/json/test/dataset_es_test.json ./sample_data/ --no-sign-request\n",
    "if not os.path.isfile(os.path.join(root_folder,'dataset_es_train.json')):\n",
    "    !aws s3 cp s3://amazon-reviews-ml/json/train/dataset_es_train.json ./sample_data/ --no-sign-request"
   ]
  },
  {
   "cell_type": "code",
   "execution_count": 17,
   "metadata": {
    "colab": {
     "base_uri": "https://localhost:8080/"
    },
    "id": "GarGXlW2UFZ4",
    "outputId": "8e9d4cad-6b4d-4b56-ffd1-07532ff23a2c"
   },
   "outputs": [
    {
     "data": {
      "text/plain": [
       "['dataset_es_test.json',\n",
       " 'dataset_es_train.json',\n",
       " 'news_category_test.csv',\n",
       " 'news_category_train.csv']"
      ]
     },
     "execution_count": 17,
     "metadata": {},
     "output_type": "execute_result"
    }
   ],
   "source": [
    "os.listdir(root_folder)"
   ]
  },
  {
   "cell_type": "code",
   "execution_count": 18,
   "metadata": {
    "colab": {
     "base_uri": "https://localhost:8080/",
     "height": 35
    },
    "id": "Z-8J7Hh9wrPP",
    "outputId": "d060beea-2cdf-400d-bf46-f9dd1b3fc030"
   },
   "outputs": [
    {
     "data": {
      "text/plain": [
       "'\\n(trainingData, testData) = trainDataset.randomSplit([0.7, 0.3], seed = 100)\\nprint(\"Training Dataset Count: \" + str(trainingData.count()))\\nprint(\"Test Dataset Count: \" + str(testData.count()))\\n'"
      ]
     },
     "execution_count": 18,
     "metadata": {},
     "output_type": "execute_result"
    }
   ],
   "source": [
    "\n",
    "# Si queremos hacer el split al dataset\n",
    "'''\n",
    "(trainingData, testData) = trainDataset.randomSplit([0.7, 0.3], seed = 100)\n",
    "print(\"Training Dataset Count: \" + str(trainingData.count()))\n",
    "print(\"Test Dataset Count: \" + str(testData.count()))\n",
    "'''"
   ]
  },
  {
   "cell_type": "code",
   "execution_count": 19,
   "metadata": {
    "id": "KgwfSC1SQGsG"
   },
   "outputs": [],
   "source": [
    "root_folder = \"./sample_data/\"\n",
    "\n",
    "traindata = os.path.join(root_folder, \"dataset_es_train.json\")\n",
    "testdata = os.path.join(root_folder, \"dataset_es_test.json\") \n"
   ]
  },
  {
   "cell_type": "code",
   "execution_count": 20,
   "metadata": {
    "colab": {
     "base_uri": "https://localhost:8080/"
    },
    "id": "BtH3Zwq37J1y",
    "outputId": "dac077f7-2c4f-44ae-f6d6-f4503055868c"
   },
   "outputs": [
    {
     "name": "stdout",
     "output_type": "stream",
     "text": [
      "{\"review_id\": \"es_0491108\", \"product_id\": \"product_es_0296024\", \"reviewer_id\": \"reviewer_es_0999081\", \"stars\": \"1\", \"review_body\": \"Nada bueno se me fue ka pantalla en menos de 8 meses y no he recibido respuesta del fabricante\", \"review_title\": \"television Nevir\", \"language\": \"es\", \"product_category\": \"electronics\"}\n",
      "{\"review_id\": \"es_0869872\", \"product_id\": \"product_es_0922286\", \"reviewer_id\": \"reviewer_es_0216771\", \"stars\": \"1\", \"review_body\": \"Horrible, nos tuvimos que comprar otro porque ni nosotros que sabemos ingl\\u00e9s, ni un inform\\u00e1tico, despu\\u00e9s de una hora fue capaz de instalarlo\", \"review_title\": \"Dinero tirado a la basura con esta compra\", \"language\": \"es\", \"product_category\": \"electronics\"}\n",
      "{\"review_id\": \"es_0811721\", \"product_id\": \"product_es_0474543\", \"reviewer_id\": \"reviewer_es_0929213\", \"stars\": \"1\", \"review_body\": \"Te obligan a comprar dos unidades y te llega solo una y no hay forma de reclamar, una autentica estafa, no compreis!!\", \"review_title\": \"solo llega una unidad cuando te obligan a comprar dos\", \"language\": \"es\", \"product_category\": \"drugstore\"}\n",
      "{\"review_id\": \"es_0359921\", \"product_id\": \"product_es_0656090\", \"reviewer_id\": \"reviewer_es_0224702\", \"stars\": \"1\", \"review_body\": \"No entro en descalificar al vendedor, solo puedo decir que tras dos meses de espera.... sigo sin el producto y tuve que contactar con Amazon para reclamar su reembolso. Amazon un 10 . Se hace cargo del problema, pero yo e desembolsado mi dinero y en dos meses me lo devuelven Perdida de tiempo TOTAL. Sin palabras. Y Ustedes deciden\", \"review_title\": \"PRODUCTO NO RECIBIDO.\", \"language\": \"es\", \"product_category\": \"wireless\"}\n",
      "{\"review_id\": \"es_0068940\", \"product_id\": \"product_es_0662544\", \"reviewer_id\": \"reviewer_es_0224827\", \"stars\": \"1\", \"review_body\": \"Llega tarde y co la talla equivocada\", \"review_title\": \"Devuelto\", \"language\": \"es\", \"product_category\": \"shoes\"}\n",
      "{\"review_id\": \"es_0779978\", \"product_id\": \"product_es_0103315\", \"reviewer_id\": \"reviewer_es_0304973\", \"stars\": \"1\", \"review_body\": \"Jam\\u00e1s me lleg\\u00f3 y el vendedor nunca contacto conmigo a pesar de intentarlo 2 veces\", \"review_title\": \"Jam\\u00e1s me lleg\\u00f3\", \"language\": \"es\", \"product_category\": \"home\"}\n",
      "{\"review_id\": \"es_0591840\", \"product_id\": \"product_es_0880915\", \"reviewer_id\": \"reviewer_es_0642702\", \"stars\": \"1\", \"review_body\": \"El paraguas es de muy mala calidad,da la sensaci\\u00f3n que se va a romper cuando lo abres. Es muy cutre.\", \"review_title\": \"Horroroso!!!\", \"language\": \"es\", \"product_category\": \"luggage\"}\n",
      "{\"review_id\": \"es_0173297\", \"product_id\": \"product_es_0814677\", \"reviewer_id\": \"reviewer_es_0895784\", \"stars\": \"1\", \"review_body\": \"Tuve que devolverla porque al ser triangular no se agarra de forma c\\u00f3moda para la escritura. Bonita, calidad-precio aceptable, pero poco funcional.\", \"review_title\": \"Poco funcional\", \"language\": \"es\", \"product_category\": \"office_product\"}\n",
      "{\"review_id\": \"es_0101300\", \"product_id\": \"product_es_0654228\", \"reviewer_id\": \"reviewer_es_0789283\", \"stars\": \"1\", \"review_body\": \"Estoy esperando despues de protestar varias veces pero veo que no hay solucion y no haceis caso me dicen de un reembolso pero yo quiero el auricular\", \"review_title\": \"No me llego\", \"language\": \"es\", \"product_category\": \"electronics\"}\n",
      "{\"review_id\": \"es_0487007\", \"product_id\": \"product_es_0877793\", \"reviewer_id\": \"reviewer_es_0986278\", \"stars\": \"1\", \"review_body\": \"Defectuoso. En apariencia muy bien producto, pero al tercer uso del vaso mezclador m\\u00e1s grande ha dejado de funcionar. Intentaba hacer un pur\\u00e9, nada que requiera una fuerza excesiva y las cuchillas dejaron de girar. Una pena porque es una herramienta, en principio, muy funcional. Al final lo \\u201cbarato\\u201d sale caro. Tres meses de vida. Decepcionada.\", \"review_title\": \"Mala calidad, defectuoso\", \"language\": \"es\", \"product_category\": \"kitchen\"}\n"
     ]
    }
   ],
   "source": [
    "if platform.system() == 'Linux':\n",
    "    !head {traindata}\n",
    "else:\n",
    "    !powershell -command \"gc {traindata} | select -first 10 # head\""
   ]
  },
  {
   "cell_type": "code",
   "execution_count": 21,
   "metadata": {
    "colab": {
     "base_uri": "https://localhost:8080/",
     "height": 380
    },
    "id": "zSJVlvMYG3XY",
    "outputId": "748bc15a-887a-427e-ee89-2ae309539825"
   },
   "outputs": [
    {
     "name": "stdout",
     "output_type": "stream",
     "text": [
      "Tamaño total  (200000, 2)\n"
     ]
    },
    {
     "data": {
      "text/html": [
       "<div>\n",
       "<style scoped>\n",
       "    .dataframe tbody tr th:only-of-type {\n",
       "        vertical-align: middle;\n",
       "    }\n",
       "\n",
       "    .dataframe tbody tr th {\n",
       "        vertical-align: top;\n",
       "    }\n",
       "\n",
       "    .dataframe thead th {\n",
       "        text-align: right;\n",
       "    }\n",
       "</style>\n",
       "<table border=\"1\" class=\"dataframe\">\n",
       "  <thead>\n",
       "    <tr style=\"text-align: right;\">\n",
       "      <th></th>\n",
       "      <th>stars</th>\n",
       "      <th>description</th>\n",
       "    </tr>\n",
       "  </thead>\n",
       "  <tbody>\n",
       "    <tr>\n",
       "      <th>0</th>\n",
       "      <td>1</td>\n",
       "      <td>Nada bueno se me fue ka pantalla en menos de 8...</td>\n",
       "    </tr>\n",
       "    <tr>\n",
       "      <th>1</th>\n",
       "      <td>1</td>\n",
       "      <td>Horrible, nos tuvimos que comprar otro porque ...</td>\n",
       "    </tr>\n",
       "    <tr>\n",
       "      <th>2</th>\n",
       "      <td>1</td>\n",
       "      <td>Te obligan a comprar dos unidades y te llega s...</td>\n",
       "    </tr>\n",
       "    <tr>\n",
       "      <th>3</th>\n",
       "      <td>1</td>\n",
       "      <td>No entro en descalificar al vendedor, solo pue...</td>\n",
       "    </tr>\n",
       "    <tr>\n",
       "      <th>4</th>\n",
       "      <td>1</td>\n",
       "      <td>Llega tarde y co la talla equivocada</td>\n",
       "    </tr>\n",
       "    <tr>\n",
       "      <th>5</th>\n",
       "      <td>1</td>\n",
       "      <td>Jamás me llegó y el vendedor nunca contacto co...</td>\n",
       "    </tr>\n",
       "    <tr>\n",
       "      <th>6</th>\n",
       "      <td>1</td>\n",
       "      <td>El paraguas es de muy mala calidad,da la sensa...</td>\n",
       "    </tr>\n",
       "    <tr>\n",
       "      <th>7</th>\n",
       "      <td>1</td>\n",
       "      <td>Tuve que devolverla porque al ser triangular n...</td>\n",
       "    </tr>\n",
       "    <tr>\n",
       "      <th>8</th>\n",
       "      <td>1</td>\n",
       "      <td>Estoy esperando despues de protestar varias ve...</td>\n",
       "    </tr>\n",
       "    <tr>\n",
       "      <th>9</th>\n",
       "      <td>1</td>\n",
       "      <td>Defectuoso. En apariencia muy bien producto, p...</td>\n",
       "    </tr>\n",
       "  </tbody>\n",
       "</table>\n",
       "</div>"
      ],
      "text/plain": [
       "   stars                                        description\n",
       "0      1  Nada bueno se me fue ka pantalla en menos de 8...\n",
       "1      1  Horrible, nos tuvimos que comprar otro porque ...\n",
       "2      1  Te obligan a comprar dos unidades y te llega s...\n",
       "3      1  No entro en descalificar al vendedor, solo pue...\n",
       "4      1               Llega tarde y co la talla equivocada\n",
       "5      1  Jamás me llegó y el vendedor nunca contacto co...\n",
       "6      1  El paraguas es de muy mala calidad,da la sensa...\n",
       "7      1  Tuve que devolverla porque al ser triangular n...\n",
       "8      1  Estoy esperando despues de protestar varias ve...\n",
       "9      1  Defectuoso. En apariencia muy bien producto, p..."
      ]
     },
     "execution_count": 21,
     "metadata": {},
     "output_type": "execute_result"
    }
   ],
   "source": [
    "# from google.colab import data_table\n",
    "import json\n",
    "df = pd.read_json(traindata, lines=True)[[\"stars\",\t\"review_body\"]].rename(\n",
    "    columns={\"review_body\": \"description\"})\n",
    "df_testdata = pd.read_json(testdata, lines=True)[\n",
    "    [\"stars\",\t\"review_body\"]].rename(columns={\"review_body\": \"description\"})\n",
    "print(\"Tamaño total \", df.shape)\n",
    "\n",
    "\n",
    "df[:10]"
   ]
  },
  {
   "attachments": {},
   "cell_type": "markdown",
   "metadata": {
    "id": "rRKzWbPueY6M"
   },
   "source": [
    "# Creando las categorías del sentiment en base al numero de estrellas:\n",
    "Este fragmento de código crea una nueva columna llamada \"sentiment\" en dos DataFrames `df` y `df_testdata`. La columna \"sentiment\" se llena con valores basados en la columna \"stars\" de cada DataFrame.\n",
    "\n",
    "Para cada fila en el DataFrame `df`, si el valor en la columna \"stars\" está entre 0 y 2 (exclusivo), el valor correspondiente en la columna \"sentiment\" se establece en \"negative\". Si el valor en la columna \"stars\" es igual a 3, el valor correspondiente en la columna \"sentiment\" se establece en \"neutral\". Para todos los demás valores en la columna \"stars\", el valor correspondiente en la columna \"sentiment\" se establece en \"positive\".\n",
    "\n",
    "El mismo proceso se aplica al DataFrame `df_testdata`.\n",
    "\n",
    "Esto se logra utilizando la función `np.select` de NumPy, que toma una lista de condiciones y una lista de valores a seleccionar cuando se cumple cada condición. Si ninguna de las condiciones se cumple para un elemento dado, se selecciona el valor especificado por el parámetro `default`."
   ]
  },
  {
   "cell_type": "code",
   "execution_count": 22,
   "metadata": {
    "id": "2P9zX6fTXggS"
   },
   "outputs": [],
   "source": [
    "\n",
    "df[\"sentiment\"]= np.select([df['stars'].between(0, 2, inclusive='neither'), df['stars']==3], \n",
    "    ['negative', 'neutral'],\n",
    "    default=\"positive\")\n",
    "\n",
    "df_testdata[\"sentiment\"]= np.select([df_testdata['stars'].between(0, 2, inclusive='neither'), df_testdata['stars']==3], \n",
    "    ['negative', 'neutral'],\n",
    "    default=\"positive\")\n"
   ]
  },
  {
   "cell_type": "code",
   "execution_count": 23,
   "metadata": {
    "colab": {
     "base_uri": "https://localhost:8080/",
     "height": 206
    },
    "id": "yyymmQWTZsRK",
    "outputId": "6491fb9c-cc03-45b3-e435-98b5000c4880"
   },
   "outputs": [
    {
     "data": {
      "text/html": [
       "<div>\n",
       "<style scoped>\n",
       "    .dataframe tbody tr th:only-of-type {\n",
       "        vertical-align: middle;\n",
       "    }\n",
       "\n",
       "    .dataframe tbody tr th {\n",
       "        vertical-align: top;\n",
       "    }\n",
       "\n",
       "    .dataframe thead th {\n",
       "        text-align: right;\n",
       "    }\n",
       "</style>\n",
       "<table border=\"1\" class=\"dataframe\">\n",
       "  <thead>\n",
       "    <tr style=\"text-align: right;\">\n",
       "      <th></th>\n",
       "      <th>stars</th>\n",
       "      <th>description</th>\n",
       "      <th>sentiment</th>\n",
       "    </tr>\n",
       "  </thead>\n",
       "  <tbody>\n",
       "    <tr>\n",
       "      <th>0</th>\n",
       "      <td>1</td>\n",
       "      <td>no me llego el articulo me lo mando por correo...</td>\n",
       "      <td>negative</td>\n",
       "    </tr>\n",
       "    <tr>\n",
       "      <th>1</th>\n",
       "      <td>1</td>\n",
       "      <td>la mensajería horrible, no compro mas</td>\n",
       "      <td>negative</td>\n",
       "    </tr>\n",
       "    <tr>\n",
       "      <th>2</th>\n",
       "      <td>1</td>\n",
       "      <td>Estoy muy decepcionado con el vendedor ya que ...</td>\n",
       "      <td>negative</td>\n",
       "    </tr>\n",
       "    <tr>\n",
       "      <th>3</th>\n",
       "      <td>1</td>\n",
       "      <td>Mi valoración no es sobre el producto sino sob...</td>\n",
       "      <td>negative</td>\n",
       "    </tr>\n",
       "    <tr>\n",
       "      <th>4</th>\n",
       "      <td>1</td>\n",
       "      <td>Pues tenía interés en este libro y probé la ve...</td>\n",
       "      <td>negative</td>\n",
       "    </tr>\n",
       "  </tbody>\n",
       "</table>\n",
       "</div>"
      ],
      "text/plain": [
       "   stars                                        description sentiment\n",
       "0      1  no me llego el articulo me lo mando por correo...  negative\n",
       "1      1              la mensajería horrible, no compro mas  negative\n",
       "2      1  Estoy muy decepcionado con el vendedor ya que ...  negative\n",
       "3      1  Mi valoración no es sobre el producto sino sob...  negative\n",
       "4      1  Pues tenía interés en este libro y probé la ve...  negative"
      ]
     },
     "execution_count": 23,
     "metadata": {},
     "output_type": "execute_result"
    }
   ],
   "source": [
    "df_testdata[:5]"
   ]
  },
  {
   "cell_type": "code",
   "execution_count": 24,
   "metadata": {
    "id": "6XW5cat-R53V"
   },
   "outputs": [],
   "source": [
    "from sklearn import preprocessing\n",
    "le = preprocessing.LabelEncoder()\n",
    "df[\"category_encoded\"] = le.fit_transform(df.sentiment)\n",
    "df_testdata[\"category_encoded\"] = le.fit_transform(df_testdata.sentiment)"
   ]
  },
  {
   "cell_type": "code",
   "execution_count": 25,
   "metadata": {
    "colab": {
     "base_uri": "https://localhost:8080/"
    },
    "id": "sNU8baZyTJjG",
    "outputId": "bd9ecc66-cd5a-4cce-94b3-a1bc999276aa"
   },
   "outputs": [
    {
     "data": {
      "text/plain": [
       "array(['negative', 'neutral', 'positive'], dtype=object)"
      ]
     },
     "execution_count": 25,
     "metadata": {},
     "output_type": "execute_result"
    }
   ],
   "source": [
    "le.classes_"
   ]
  },
  {
   "cell_type": "code",
   "execution_count": 26,
   "metadata": {
    "id": "zEfU48rvbrjw"
   },
   "outputs": [],
   "source": [
    "# igualamos el numero de ocurrencias por categoria para no tener bias.\n",
    "df_temp = pd.concat([\n",
    "    df.query(\"sentiment=='negative'\")[:40000],\n",
    "    df.query(\"sentiment=='neutral'\")[:40000],\n",
    "    df.query(\"sentiment=='positive'\")[:40000]\n",
    "], ignore_index=True)\n",
    "\n",
    "df_testdata_temp = pd.concat([\n",
    "    df_testdata.query(\"sentiment=='negative'\")[:1000],\n",
    "    df_testdata.query(\"sentiment=='neutral'\")[:1000],\n",
    "    df_testdata.query(\"sentiment=='positive'\")[:1000]\n",
    "], ignore_index=True)\n"
   ]
  },
  {
   "cell_type": "code",
   "execution_count": 27,
   "metadata": {
    "colab": {
     "base_uri": "https://localhost:8080/"
    },
    "id": "JoXgawHn79nn",
    "outputId": "a0cc8bb4-ca52-4c6c-da6d-c2f3293ee351"
   },
   "outputs": [
    {
     "data": {
      "text/plain": [
       "sentiment\n",
       "negative    40000\n",
       "neutral     40000\n",
       "positive    40000\n",
       "Name: count, dtype: int64"
      ]
     },
     "execution_count": 27,
     "metadata": {},
     "output_type": "execute_result"
    }
   ],
   "source": [
    "df = df_temp\n",
    "df_testdata = df_testdata_temp\n",
    "df.sentiment.value_counts().where(lambda x: x>1).dropna()"
   ]
  },
  {
   "cell_type": "code",
   "execution_count": 28,
   "metadata": {
    "colab": {
     "base_uri": "https://localhost:8080/"
    },
    "id": "0JNext0zai7M",
    "outputId": "8bb198ae-6c4d-4c7c-b144-7509b3342bb4"
   },
   "outputs": [
    {
     "data": {
      "text/plain": [
       "sentiment\n",
       "negative    1000\n",
       "neutral     1000\n",
       "positive    1000\n",
       "Name: count, dtype: int64"
      ]
     },
     "execution_count": 28,
     "metadata": {},
     "output_type": "execute_result"
    }
   ],
   "source": [
    "df_testdata.sentiment.value_counts().where(lambda x: x > 1).dropna()"
   ]
  },
  {
   "cell_type": "code",
   "execution_count": 29,
   "metadata": {
    "colab": {
     "base_uri": "https://localhost:8080/",
     "height": 763
    },
    "id": "eINI59X63KGW",
    "outputId": "57f04587-0c3f-4a5e-a543-9c1f0e22375c"
   },
   "outputs": [
    {
     "data": {
      "text/plain": [
       "<Axes: xlabel='sentiment'>"
      ]
     },
     "execution_count": 29,
     "metadata": {},
     "output_type": "execute_result"
    },
    {
     "data": {
      "image/png": "[encoded data removed]",
      "text/plain": [
       "<Figure size 1200x800 with 1 Axes>"
      ]
     },
     "metadata": {
      "image/png": {
       "height": 742,
       "width": 1014
      }
     },
     "output_type": "display_data"
    }
   ],
   "source": [
    "colors = [\n",
    "    \"#7f7f7f\",\n",
    "    \"#bcbd22\",\n",
    "    \"#17becf\",\n",
    "    \"#1a55FF\",\n",
    "    \"#1f77b4\",\n",
    "    \"#ff7f0e\",\n",
    "    \"#2ca02c\",\n",
    "    \"#d62728\",\n",
    "    \"#9467bd\",\n",
    "    \"#8c564b\",\n",
    "    \"#e377c2\",\n",
    "]\n",
    "df.sentiment.value_counts().where(lambda x: x > 1000).dropna().plot.bar(color=colors)"
   ]
  },
  {
   "cell_type": "code",
   "execution_count": 30,
   "metadata": {
    "colab": {
     "base_uri": "https://localhost:8080/",
     "height": 113,
     "referenced_widgets": [
      "7b043b2ae22e41d1ac0fc7246eced94e",
      "e3e33cca421c4e28a7d6b93b2772b8fb",
      "e08b64a207ed442c940e7ce7d0513a77",
      "44489409362e4ec382364d95e37a4759",
      "c0abe3451af44dcba54f5c4e38e884bf",
      "d5605ac814414bf6b8692f70cac24d71",
      "f56b335b847746e588ba5da0b887900c",
      "9d13887c6f3f49a79f1b97bb716a9c0d",
      "718cb439d1cc45b1a8cacafefae154ae",
      "4a5a10c291c44a8ba6ac4a5f640a3247",
      "1b55415900f74c23a703e2a573dba8fc",
      "b9653d2146bc44539e0500dc868c85aa",
      "9abb85c7c7664db7affbe1222410990a",
      "822b505b48514296805d7f21f7b6d921",
      "730e0fea196e43be9a629c679dc4dff0",
      "2710692a6cdf4f0b8049bc078955a03b",
      "45ee6362d5404ec1abc9b8cc088ec62b",
      "246641f0164a41748774b12386148309",
      "74b1c356df4f4f4f94cc9f04b83e5c20",
      "6d3222e8202e424799150f6a72e93f95",
      "326a3054f38e452c93335cb06e03b83c",
      "bfd4cc031ed04a79a444b981396b5577",
      "4475e2d740804c349163ab574084964f",
      "44dfddd5ba8e4f7382c59fd7ad46d5eb",
      "9f29b0e90f174b16b81b917f1963fefe",
      "9637e8e348fc488e8b8762883eba72f3",
      "941a2318b2b5464286b4a83f12f0bb42",
      "43ce655618af41c99c61d5d0a6750c52",
      "30e4c134efec457ba5f5187838a39fa9",
      "defea695c7b94deb9b9fb22a7eef25d4",
      "184e4202caf147f199d54af28fe668b3",
      "f3be9469b80a4795b2af74efe3c27e90",
      "f97ebb29f26f4cc98097b6ffe5cf8dff"
     ]
    },
    "id": "XF6eVF1UKaow",
    "outputId": "78d9c224-e916-4606-eab6-f186f50034bd"
   },
   "outputs": [],
   "source": [
    "# creamos tokenizador bert\n",
    "tokenizer = BertTokenizer.from_pretrained(PRE_TRAINED_MODEL_NAME)"
   ]
  },
  {
   "cell_type": "code",
   "execution_count": 31,
   "metadata": {
    "colab": {
     "base_uri": "https://localhost:8080/"
    },
    "id": "SWWMYxnbKp7g",
    "outputId": "f3835ec0-e4c6-469c-e358-b0b9d7430eb7"
   },
   "outputs": [
    {
     "name": "stdout",
     "output_type": "stream",
     "text": [
      " Sentence: Cuanto fue la ultima vez que salí? Me quedé encerrado en casa dos semanas.\n",
      "   Tokens: ['Cuanto', 'fue', 'la', 'ultima', 'vez', 'que', 'salí', '?', 'Me', 'quedé', 'encerrado', 'en', 'casa', 'dos', 'semanas', '.']\n",
      "Token IDs: [12475, 1341, 1030, 22938, 1480, 1038, 19835, 1064, 1369, 16349, 17990, 1036, 1753, 1471, 4171, 1009]\n"
     ]
    }
   ],
   "source": [
    "# frase ejemplo \n",
    "sample_txt = 'Cuanto fue la ultima vez que salí? Me quedé encerrado en casa dos semanas.'\n",
    "# ejemplo tokenización manual (separando x listas )\n",
    "tokens = tokenizer.tokenize(sample_txt)\n",
    "token_ids = tokenizer.convert_tokens_to_ids(tokens)\n",
    "\n",
    "print(f' Sentence: {sample_txt}')\n",
    "print(f'   Tokens: {tokens}')\n",
    "print(f'Token IDs: {token_ids}')"
   ]
  },
  {
   "cell_type": "code",
   "execution_count": 32,
   "metadata": {
    "colab": {
     "base_uri": "https://localhost:8080/"
    },
    "id": "I_pzoJsWK6XG",
    "outputId": "bb438f90-67a0-4273-887c-b1d4a6fe1d5e"
   },
   "outputs": [
    {
     "data": {
      "text/plain": [
       "dict_keys(['input_ids', 'attention_mask'])"
      ]
     },
     "execution_count": 32,
     "metadata": {},
     "output_type": "execute_result"
    }
   ],
   "source": [
    "# Mismo ejemplo pero preparandolo para Pytorch (tensors) con encode_plus\n",
    "\n",
    "sample_txt = \"'Los medicos entregan a Freeman 'Devastado' y encuentran los escaneres cerebrales computerizados.'\"\n",
    "\n",
    "encoding = tokenizer.encode_plus(\n",
    "  sample_txt,\n",
    "  max_length=32,\n",
    "  add_special_tokens=True, # Añadir '[CLS]' & '[SEP]'\n",
    "  return_token_type_ids=False,\n",
    "  padding='max_length',\n",
    "  return_attention_mask=True,\n",
    "  return_tensors='pt',  # Devolver PyTorch tensors\n",
    ")\n",
    "\n",
    "encoding.keys()\n"
   ]
  },
  {
   "cell_type": "code",
   "execution_count": 33,
   "metadata": {
    "colab": {
     "base_uri": "https://localhost:8080/"
    },
    "id": "807R1vytcB3u",
    "outputId": "6b82512b-a0c3-4d9f-ab4f-f0ec82928002"
   },
   "outputs": [
    {
     "name": "stdout",
     "output_type": "stream",
     "text": [
      "--->longitud tokens: 32\n"
     ]
    },
    {
     "data": {
      "text/plain": [
       "['[CLS]',\n",
       " '[UNK]',\n",
       " 'Los',\n",
       " 'medi',\n",
       " '##cos',\n",
       " 'entrega',\n",
       " '##n',\n",
       " 'a',\n",
       " 'Free',\n",
       " '##man',\n",
       " '[UNK]',\n",
       " 'Dev',\n",
       " '##asta',\n",
       " '##do',\n",
       " '[UNK]',\n",
       " 'y',\n",
       " 'encuentran',\n",
       " 'los',\n",
       " 'escan',\n",
       " '##eres',\n",
       " 'cerebral',\n",
       " '##es',\n",
       " 'comput',\n",
       " '##eri',\n",
       " '##zados',\n",
       " '.',\n",
       " '[UNK]',\n",
       " '[SEP]',\n",
       " '[PAD]',\n",
       " '[PAD]',\n",
       " '[PAD]',\n",
       " '[PAD]']"
      ]
     },
     "execution_count": 33,
     "metadata": {},
     "output_type": "execute_result"
    }
   ],
   "source": [
    "# para ver los tokens (convertirlo a algo legible)\n",
    "print(f\"--->longitud tokens: {len(tokenizer.convert_ids_to_tokens(encoding['input_ids'][0]) )}\")\n",
    "tokenizer.convert_ids_to_tokens(encoding['input_ids'][0]) "
   ]
  },
  {
   "attachments": {},
   "cell_type": "markdown",
   "metadata": {
    "id": "-hnn6D5BLoyS"
   },
   "source": [
    "### Eligiendo la longitud de la secuencia (Sequence Length)\n",
    "\n",
    "BERT funciona bien con secuencias de igual tamaño (longitud). Se usa una estrategia simple para elegir la longitud maxima. \n",
    "\n",
    "Veamos la longitud de los tokens para cada review"
   ]
  },
  {
   "cell_type": "code",
   "execution_count": 34,
   "metadata": {
    "colab": {
     "base_uri": "https://localhost:8080/",
     "height": 938
    },
    "id": "egOCqTiwLiMG",
    "outputId": "832a47e6-1769-400c-99e3-8c5e8482bad4"
   },
   "outputs": [
    {
     "name": "stderr",
     "output_type": "stream",
     "text": [
      "Truncation was not explicitly activated but `max_length` is provided a specific value, please use `truncation=True` to explicitly truncate examples to max length. Defaulting to 'longest_first' truncation strategy. If you encode pairs of sequences (GLUE-style) with the tokenizer you can select this strategy more precisely by providing a specific strategy to `truncation`.\n",
      "C:\\Users\\guill\\AppData\\Local\\Temp\\ipykernel_21392\\2172327978.py:21: UserWarning: \n",
      "\n",
      "`distplot` is a deprecated function and will be removed in seaborn v0.14.0.\n",
      "\n",
      "Please adapt your code to use either `displot` (a figure-level function with\n",
      "similar flexibility) or `histplot` (an axes-level function for histograms).\n",
      "\n",
      "For a guide to updating your code to use the new functions, please see\n",
      "https://gist.github.com/mwaskom/de44147ed2974457ad6372750bbe5751\n",
      "\n",
      "  sns.distplot(token_lens)\n"
     ]
    },
    {
     "data": {
      "text/plain": [
       "Text(0.5, 0, 'Token count')"
      ]
     },
     "execution_count": 34,
     "metadata": {},
     "output_type": "execute_result"
    },
    {
     "data": {
      "image/png": "[encoded data removed]",
      "text/plain": [
       "<Figure size 1200x800 with 1 Axes>"
      ]
     },
     "metadata": {
      "image/png": {
       "height": 689,
       "width": 1032
      }
     },
     "output_type": "display_data"
    }
   ],
   "source": [
    "# token_lens = []\n",
    "\n",
    "# for txt in df.description:\n",
    "#   tokens = tokenizer.encode(txt, max_length=512)\n",
    "#   token_lens.append(len(tokens))\n",
    "# # lo visualizamos para hacernos una idea\n",
    "# sns.distplot(token_lens)\n",
    "# plt.xlim([0, 256]);\n",
    "# plt.xlabel('Token count');\n",
    "\n",
    "\n",
    "def get_token_lengths(tokenizer,df, field_name):\n",
    "    token_lens = []\n",
    "    for txt in df[field_name]:\n",
    "        tokens = tokenizer.encode(txt, max_length=512)\n",
    "        token_lens.append(len(tokens))\n",
    "    return token_lens\n",
    "\n",
    "# tomando la longitud de los token:\n",
    "token_lens = get_token_lengths(tokenizer,df, 'description')\n",
    "sns.distplot(token_lens)\n",
    "plt.xlim([0, 256])\n",
    "plt.xlabel('Token count')\n",
    "\n",
    "\n",
    "# vemos a ojo el numero de tokens.\n",
    "# y asignamos un valor"
   ]
  },
  {
   "cell_type": "code",
   "execution_count": 35,
   "metadata": {
    "id": "dmYybzVbMAxE"
   },
   "outputs": [],
   "source": [
    "# valor para el numero de tokens por lote\n",
    "MAX_LEN = 200 # 150"
   ]
  },
  {
   "attachments": {},
   "cell_type": "markdown",
   "metadata": {
    "id": "1YwSw-cnMJye"
   },
   "source": [
    "# Construir el dataset y dataloader"
   ]
  },
  {
   "cell_type": "code",
   "execution_count": 36,
   "metadata": {
    "id": "w_vUG1-PMI3J"
   },
   "outputs": [],
   "source": [
    "# construimos dataloader\n",
    "class MyDatasetBuilder(Dataset):\n",
    "    \"\"\"\n",
    "    Un conjunto de datos personalizado para cargar y tokenizar datos de revisión.\n",
    "\n",
    "    Atributos\n",
    "    ----------\n",
    "    reviews : numpy.ndarray\n",
    "        El texto a clasificar.\n",
    "    targets : numpy.ndarray\n",
    "        El topic/sentiment/objetivo.\n",
    "    tokenizer : transformers.PreTrainedTokenizer\n",
    "        El objeto tokenizer de Huggingface o transformación aplicada a los datos.\n",
    "    max_len : int\n",
    "        Número de tokens por frase.\n",
    "\n",
    "    Métodos\n",
    "    -------\n",
    "    __len__(self):\n",
    "        Devuelve la longitud del conjunto de datos.\n",
    "    __getitem__(self, item):\n",
    "        Devuelve un elemento del conjunto de datos.\n",
    "\n",
    "    \"\"\"\n",
    "    \n",
    "    def __init__(self, text_toclasify, targets, tokenizer, max_len):\n",
    "        \"\"\"\n",
    "        Inicializa el conjunto de datos con los datos y el tokenizador.\n",
    "\n",
    "        Parámetros\n",
    "        ----------\n",
    "        text_toclasify : numpy.ndarray\n",
    "            El texto a clasificar.\n",
    "        targets : numpy.ndarray\n",
    "            El topic/sentiment/objetivo.\n",
    "        tokenizer : transformers.PreTrainedTokenizer\n",
    "            El objeto tokenizer de Huggingface o transformación aplicada a los datos.\n",
    "        max_len : int\n",
    "            Número de tokens por frase.\n",
    "\n",
    "        \"\"\"\n",
    "        self.reviews = text_toclasify # el texto a clasificar\n",
    "        self.targets = targets # el topic/sentiment/objetivo.\n",
    "        self.tokenizer = tokenizer # el objeto tokenizer de Huggingface o transformación aplicada a los datos\n",
    "        self.max_len = max_len # número de tokens por frase\n",
    "\n",
    "    def __len__(self):\n",
    "        \"\"\"\n",
    "        Devuelve la longitud del conjunto de datos.\n",
    "\n",
    "        Devoluciones\n",
    "        -------\n",
    "        int\n",
    "            La longitud del conjunto de datos.\n",
    "\n",
    "        \"\"\"\n",
    "        return len(self.reviews)\n",
    "\n",
    "    def __getitem__(self, item):\n",
    "        \"\"\"\n",
    "        Devuelve un elemento del conjunto de datos.\n",
    "\n",
    "        Parámetros\n",
    "        ----------\n",
    "        item : int\n",
    "            El índice del elemento a devolver.\n",
    "\n",
    "        Devoluciones\n",
    "        -------\n",
    "        dict\n",
    "            Un diccionario que contiene el texto de revisión, los identificadores de entrada,\n",
    "            la máscara de atención y las etiquetas objetivo.\n",
    "\n",
    "        \"\"\"\n",
    "        \n",
    "        review = str(self.reviews[item])\n",
    "        target = self.targets[item]\n",
    "        \n",
    "        # Configuración del tokenizador.        \n",
    "        encoding = self.tokenizer.encode_plus(\n",
    "            review,\n",
    "            add_special_tokens=True,\n",
    "            max_length=self.max_len,\n",
    "            return_token_type_ids=False,\n",
    "            truncation=True,\n",
    "            padding='max_length',\n",
    "            return_attention_mask=True,\n",
    "            return_tensors='pt',\n",
    "         )\n",
    "        \n",
    "        # Devolvemos un diccionario con los input codificados.         \n",
    "        return {\n",
    "            'review_text': review,\n",
    "            'input_ids': encoding['input_ids'].flatten(),\n",
    "            'attention_mask': encoding['attention_mask'].flatten(),\n",
    "            'targets': torch.tensor(target, dtype=torch.long)\n",
    "        }\n"
   ]
  },
  {
   "attachments": {},
   "cell_type": "markdown",
   "metadata": {
    "id": "iIGTcSrSonjI"
   },
   "source": [
    "## Train-test split"
   ]
  },
  {
   "cell_type": "code",
   "execution_count": 37,
   "metadata": {
    "id": "c8DcdXh9ogcE"
   },
   "outputs": [],
   "source": [
    "df_train, df_test = train_test_split(df, test_size=0.1, random_state=RANDOM_SEED)\n",
    "# aqui añado los datos csv del segundo dataset `testdata`\n",
    "df_val, df_test2 = train_test_split(df_testdata, test_size=0.5, random_state=RANDOM_SEED)"
   ]
  },
  {
   "cell_type": "code",
   "execution_count": 38,
   "metadata": {
    "colab": {
     "base_uri": "https://localhost:8080/"
    },
    "id": "PC2UayEnosvF",
    "outputId": "a62b5415-9e58-4ca0-f868-9d42f54f3f5a"
   },
   "outputs": [
    {
     "name": "stdout",
     "output_type": "stream",
     "text": [
      "Training Dataset shape: (108000, 4)\n",
      "Evaluation Dataset shape: (1500, 4)\n",
      "Test Dataset shape: (12000, 4)\n"
     ]
    }
   ],
   "source": [
    "# df_train.shape, df_val.shape, df_test.shape\n",
    "\n",
    "print(\"Training Dataset shape: \" + str(df_train.shape))\n",
    "print(\"Evaluation Dataset shape: \" + str(df_val.shape))\n",
    "print(\"Test Dataset shape: \" + str(df_test.shape))"
   ]
  },
  {
   "cell_type": "code",
   "execution_count": 39,
   "metadata": {
    "id": "GK5MBVGfpOPi"
   },
   "outputs": [],
   "source": [
    "def create_data_loader(df, col_text, col_targets, tokenizer, max_len, batch_size):\n",
    "    \"\"\"\n",
    "    Crea un cargador de datos a partir de un DataFrame.\n",
    "\n",
    "    Parámetros\n",
    "    ----------\n",
    "    df : pandas.DataFrame\n",
    "        El DataFrame que contiene los datos.\n",
    "    col_text : str\n",
    "        El nombre de la columna que contiene el texto a clasificar.\n",
    "    col_targets : str\n",
    "        El nombre de la columna que contiene las etiquetas objetivo.\n",
    "    tokenizer : transformers.PreTrainedTokenizer\n",
    "        El tokenizador a utilizar para tokenizar el texto.\n",
    "    max_len : int\n",
    "        La longitud máxima de las secuencias tokenizadas.\n",
    "    batch_size : int\n",
    "        El tamaño del lote a utilizar al cargar los datos.\n",
    "\n",
    "    Output\n",
    "    -------\n",
    "    torch.utils.data.DataLoader\n",
    "        Un cargador de datos que proporciona lotes de datos para entrenamiento o evaluación.\n",
    "\n",
    "    \"\"\"\n",
    "    ds = MyDatasetBuilder(\n",
    "        text_toclasify=df[col_text].to_numpy(),\n",
    "        targets=df[col_targets].to_numpy(),\n",
    "        tokenizer=tokenizer,\n",
    "        max_len=max_len\n",
    "    )\n",
    "\n",
    "    return DataLoader(\n",
    "        ds,\n",
    "        batch_size=batch_size,\n",
    "        # Antes el número de workers era num_workers=4, pero para optimizar mejor el rendimiento el sistema pide 2\n",
    "        # en linux usar tantos como cores tenga. En windows mejor no utilizar y config a cero. \n",
    "        # en todo caso. Utilizar la GPU siempre que se pueda.  \n",
    "        num_workers=0,\n",
    "        pin_memory=True\n",
    "    )\n"
   ]
  },
  {
   "cell_type": "code",
   "execution_count": 40,
   "metadata": {
    "colab": {
     "base_uri": "https://localhost:8080/"
    },
    "id": "YfbHCc1xqk60",
    "outputId": "d09efdb8-0013-41a2-dd75-38306823b032"
   },
   "outputs": [
    {
     "data": {
      "text/plain": [
       "Index(['stars', 'description', 'sentiment', 'category_encoded'], dtype='object')"
      ]
     },
     "execution_count": 40,
     "metadata": {},
     "output_type": "execute_result"
    }
   ],
   "source": [
    "df.columns"
   ]
  },
  {
   "attachments": {},
   "cell_type": "markdown",
   "metadata": {
    "id": "e1S3IgxLLypt"
   },
   "source": [
    "### Incorporando datos al dataloader"
   ]
  },
  {
   "cell_type": "code",
   "execution_count": 41,
   "metadata": {
    "id": "G6fBbHlLYxH3"
   },
   "outputs": [],
   "source": [
    "### HAY QUE HACER ONE HOT ENCODING PARA PODER METERLO EN EL BERT"
   ]
  },
  {
   "cell_type": "code",
   "execution_count": 42,
   "metadata": {
    "id": "tZOu150Tqejy"
   },
   "outputs": [],
   "source": [
    "train_data_loader = create_data_loader(df_train, \"description\",\"category_encoded\", tokenizer, MAX_LEN, BATCH_SIZE)\n",
    "val_data_loader = create_data_loader(df_val,\"description\",\"category_encoded\",tokenizer, MAX_LEN, BATCH_SIZE)\n",
    "test_data_loader = create_data_loader(df_test,   \"description\",\"category_encoded\",tokenizer, MAX_LEN, BATCH_SIZE)"
   ]
  },
  {
   "cell_type": "code",
   "execution_count": 43,
   "metadata": {
    "colab": {
     "base_uri": "https://localhost:8080/"
    },
    "id": "aWgGXG45q1Cd",
    "outputId": "e32253fd-5d68-4472-c49e-c98f07d34245"
   },
   "outputs": [
    {
     "name": "stdout",
     "output_type": "stream",
     "text": [
      "keys train dataset dict_keys(['review_text', 'input_ids', 'attention_mask', 'targets'])\n",
      "torch.Size([16, 200])\n",
      "torch.Size([16, 200])\n",
      "torch.Size([16])\n"
     ]
    }
   ],
   "source": [
    "# vemos la estructura de un batch para el training\n",
    "data = next(iter(train_data_loader)) \n",
    "print(\"keys train dataset\",data.keys())\n",
    "print(data['input_ids'].shape)\n",
    "print(data['attention_mask'].shape)\n",
    "print(data['targets'].shape)"
   ]
  },
  {
   "cell_type": "code",
   "execution_count": 44,
   "metadata": {
    "colab": {
     "base_uri": "https://localhost:8080/"
    },
    "id": "vnbVOR2nhbkH",
    "outputId": "4afaad80-c96b-4d6d-f0c2-cb004eea7dd5"
   },
   "outputs": [
    {
     "name": "stdout",
     "output_type": "stream",
     "text": [
      "keys evaluation dataset dict_keys(['review_text', 'input_ids', 'attention_mask', 'targets'])\n",
      "torch.Size([16, 200])\n",
      "torch.Size([16, 200])\n",
      "torch.Size([16])\n"
     ]
    }
   ],
   "source": [
    "data = next(iter(val_data_loader))\n",
    "print(\"keys evaluation dataset\",data.keys())\n",
    "print(data['input_ids'].shape)\n",
    "print(data['attention_mask'].shape)\n",
    "print(data['targets'].shape)"
   ]
  },
  {
   "cell_type": "code",
   "execution_count": 45,
   "metadata": {
    "id": "OMhPsjtHv5UE"
   },
   "outputs": [],
   "source": [
    "# cargamos el modelo BERT\n",
    "#creamos un clasificador BERT para realizar clasificaciones\n",
    "class SentimentClassifier(nn.Module):\n",
    "\n",
    "  def __init__(self, n_classes):\n",
    "    super(SentimentClassifier, self).__init__() # hereda propiedades y methods de otras clases. llama al init de otra clase.\n",
    "    # Cuando creamos nuestro modelo, podemos elegir el modelo base o pillar BertForSequenceClassification.from_pretrained(PRE_TRAINED_MODEL_NAME)\n",
    "    self.bert = BertModel.from_pretrained(PRE_TRAINED_MODEL_NAME)\n",
    "    self.drop = nn.Dropout(p=0.3) # dropout layer\n",
    "    self.out = nn.Linear(self.bert.config.hidden_size, n_classes)\n",
    "  \n",
    "  def forward(self, input_ids, attention_mask):\n",
    "    _, pooled_output = self.bert(\n",
    "      input_ids=input_ids,\n",
    "      attention_mask=attention_mask,\n",
    "      # es necesario añadirlo despues del cambio de la v3 a la v4\n",
    "      return_dict=False \n",
    "    )\n",
    "    output = self.drop(pooled_output)\n",
    "    return self.out(output)"
   ]
  },
  {
   "cell_type": "code",
   "execution_count": 46,
   "metadata": {
    "colab": {
     "base_uri": "https://localhost:8080/"
    },
    "id": "cTiTkP12znqi",
    "outputId": "76929de2-26c7-404d-832b-119f4becdf57"
   },
   "outputs": [
    {
     "name": "stdout",
     "output_type": "stream",
     "text": [
      "Numero de cagetorias: 3\n"
     ]
    }
   ],
   "source": [
    "class_names=le.classes_\n",
    "# print(f\"Numero de cagetorias: {len(class_names)}\")\n",
    "print(f\"Numero de cagetorias: {len(le.classes_)}\")"
   ]
  },
  {
   "attachments": {},
   "cell_type": "markdown",
   "metadata": {
    "id": "cd3En_92e3pt"
   },
   "source": [
    "## asignamos el modelo"
   ]
  },
  {
   "cell_type": "code",
   "execution_count": 47,
   "metadata": {
    "colab": {
     "base_uri": "https://localhost:8080/",
     "height": 121,
     "referenced_widgets": [
      "604dcbdbb701406fb49d6ead355cf310",
      "371d41c06d6f40cc9baa251687a4c84b",
      "ec9752aa31e544c4ab6ead2d598fd870",
      "ebf22748cd064a81919f5d893cdead9d",
      "e295d35291bb45058c69e32c65c69545",
      "4b6aae26e045410faacd9081ef92e7e5",
      "9a656a04b99546a085f9174544c1baea",
      "1b728df1f4d040968b699f893c4fa7f9",
      "ac5a234a289646c9ba5f93f9a1f95547",
      "30ed236a2a484d7ca6bd88cb100f94d2",
      "d1408a4ecca24e97a69cca9c85fe4935"
     ]
    },
    "id": "CzF5yPLCzUsW",
    "outputId": "c49e6b8e-1cdc-4635-d0c6-a11328f2b510"
   },
   "outputs": [
    {
     "name": "stderr",
     "output_type": "stream",
     "text": [
      "Some weights of the model checkpoint at dccuchile/bert-base-spanish-wwm-cased were not used when initializing BertModel: ['cls.predictions.transform.LayerNorm.bias', 'cls.predictions.bias', 'cls.predictions.transform.dense.weight', 'cls.predictions.decoder.bias', 'cls.predictions.decoder.weight', 'cls.predictions.transform.dense.bias', 'cls.predictions.transform.LayerNorm.weight']\n",
      "- This IS expected if you are initializing BertModel from the checkpoint of a model trained on another task or with another architecture (e.g. initializing a BertForSequenceClassification model from a BertForPreTraining model).\n",
      "- This IS NOT expected if you are initializing BertModel from the checkpoint of a model that you expect to be exactly identical (initializing a BertForSequenceClassification model from a BertForSequenceClassification model).\n",
      "Some weights of BertModel were not initialized from the model checkpoint at dccuchile/bert-base-spanish-wwm-cased and are newly initialized: ['bert.pooler.dense.bias', 'bert.pooler.dense.weight']\n",
      "You should probably TRAIN this model on a down-stream task to be able to use it for predictions and inference.\n"
     ]
    }
   ],
   "source": [
    "# asignamos el modelo a un objeto, le pasamos como argumento el countdistinct de todas las etiquetas que tenemos.\n",
    "# y lo movemos a la memoria de la GPU\n",
    "\n",
    "model = SentimentClassifier(len(le.classes_))\n",
    "model = model.to(device)"
   ]
  },
  {
   "attachments": {},
   "cell_type": "markdown",
   "metadata": {
    "id": "g9xikRdtRN1N"
   },
   "source": [
    "### Training"
   ]
  },
  {
   "attachments": {},
   "cell_type": "markdown",
   "metadata": {
    "id": "76g7FV85H-T8"
   },
   "source": [
    "Para reproducir el procedimiento de entrenamiento del **documento BERT**  usaremos el optimizador [AdamW](https://huggingface.co/transformers/main_classes/optimizer_schedules.html#adamw) de Hugging Face. Corregirá el reparto/decadencia de pesos (weight decay), para que sea similar al documento original.  Tambien usaremos un planificador lineal (para la curva de aprendizaje) sin steps de calentamiento (warmup steps). "
   ]
  },
  {
   "cell_type": "code",
   "execution_count": 48,
   "metadata": {
    "colab": {
     "base_uri": "https://localhost:8080/"
    },
    "id": "5v-ArJ2fCCcU",
    "outputId": "695a6bb5-f19a-4c96-9246-6767c6c4ec7c"
   },
   "outputs": [
    {
     "name": "stderr",
     "output_type": "stream",
     "text": [
      "C:\\Users\\guill\\.conda\\envs\\nlptfm\\lib\\site-packages\\transformers\\optimization.py:407: FutureWarning: This implementation of AdamW is deprecated and will be removed in a future version. Use the PyTorch implementation torch.optim.AdamW instead, or set `no_deprecation_warning=True` to disable this warning\n",
      "  warnings.warn(\n"
     ]
    }
   ],
   "source": [
    "# EPOCHS = 4 # 10\n",
    "# LEARNING_RATE = 2e-5\n",
    "optimizer = AdamW(model.parameters(), lr=LEARNING_RATE, correct_bias=False)\n",
    "total_steps = len(train_data_loader) * EPOCHS\n",
    "\n",
    "scheduler = get_linear_schedule_with_warmup(\n",
    "  optimizer,\n",
    "  num_warmup_steps=0,\n",
    "  num_training_steps=total_steps\n",
    ")\n",
    "# la funcion de perdida en este caso es entropia cruzada, que combina LogSoftMax y NLLLoss en una sola clase. Muy utilizada en ML y concretamente en clasificación multietiqueta. \n",
    "loss_fn = nn.CrossEntropyLoss().to(device)"
   ]
  },
  {
   "attachments": {},
   "cell_type": "markdown",
   "metadata": {
    "id": "A8522g7JIu5J"
   },
   "source": [
    "¿Cómo llegamos a la conclusion de usar este numero de hiperparámetros? Los autores de BERT tienen algunas recomendaciones para el ajuste fino: \n",
    "\n",
    "- Batch size: 16, 32\n",
    "- Learning rate (Adam): 5e-5, 3e-5, 2e-5\n",
    "- Number of epochs: 2, 3, 4\n",
    "\n",
    "Vamos a ignorar la recomendación del numero de \"vueltas\" *epochs* pero nos quedamos con el resto. A tener en cuenta, que al aumentar el tamaño del lote (batch size) se reduce significativamente el tiempo de entrenamiento a costas de una menor precision (lower accuracy).\n",
    "\n",
    "Escribimos una funcion auxiliar que nos ayude a entrenar nuestro modelo solo una vuelta."
   ]
  },
  {
   "cell_type": "code",
   "execution_count": 49,
   "metadata": {
    "id": "bzl9UhuNx1_Q"
   },
   "outputs": [],
   "source": [
    "def train_epoch(model, data_loader, loss_fn, optimizer, device, scheduler, n_examples):\n",
    "    \"\"\"\n",
    "    Entrena el modelo para una época.\n",
    "\n",
    "    Parámetros\n",
    "    ----------\n",
    "    model : torch.nn.Module\n",
    "        El modelo a entrenar.\n",
    "    data_loader : torch.utils.data.DataLoader\n",
    "        El cargador de datos que proporciona lotes de datos de entrenamiento.\n",
    "    loss_fn : callable\n",
    "        La función de pérdida a utilizar.\n",
    "    optimizer : torch.optim.Optimizer\n",
    "        El optimizador a utilizar para actualizar los parámetros del modelo.\n",
    "    device : torch.device\n",
    "        El dispositivo al que mover los datos (por ejemplo, 'cuda' o 'cpu').\n",
    "    scheduler : torch.optim.lr_scheduler._LRScheduler\n",
    "        El programador de tasa de aprendizaje a utilizar.\n",
    "    n_examples : int\n",
    "        El número de ejemplos en el conjunto de datos.\n",
    "\n",
    "    Output\n",
    "    -------\n",
    "    float\n",
    "        La precisión del modelo en los datos de entrenamiento.\n",
    "    float\n",
    "        La pérdida promedio del modelo en los datos de entrenamiento.\n",
    "\n",
    "    \"\"\"\n",
    "    model = model.train()\n",
    "\n",
    "    losses = []\n",
    "    correct_predictions = 0\n",
    "    # Aquí el Scheduler se llama cada vez que se alimenta otro lote (d) al modelo.\n",
    "    for d in data_loader:\n",
    "        input_ids = d[\"input_ids\"].to(device)\n",
    "        attention_mask = d[\"attention_mask\"].to(device)\n",
    "        targets = d[\"targets\"].to(device)\n",
    "        # Salidas del modelo \n",
    "        outputs = model(\n",
    "            input_ids=input_ids,\n",
    "            attention_mask=attention_mask\n",
    "        )\n",
    "\n",
    "        _, preds = torch.max(outputs, dim=1)\n",
    "        \n",
    "        loss = loss_fn(outputs, targets)\n",
    "\n",
    "        correct_predictions += torch.sum(preds == targets)\n",
    "        losses.append(loss.item())\n",
    "\n",
    "        loss.backward()\n",
    "        # Con clip_grad_norm normalizamos los parámetros del modelo evitando Gradient exploding\n",
    "        nn.utils.clip_grad_norm_(model.parameters(), max_norm=1.0)\n",
    "        optimizer.step()\n",
    "        scheduler.step()\n",
    "        optimizer.zero_grad()\n",
    "\n",
    "    return correct_predictions.double() / n_examples, np.mean(losses)\n"
   ]
  },
  {
   "attachments": {},
   "cell_type": "markdown",
   "metadata": {
    "id": "336WoqhwVwA9"
   },
   "source": [
    "# Evaluar el modelo\n",
    "funcion para evaluar el modelo y luego crear loop"
   ]
  },
  {
   "cell_type": "code",
   "execution_count": 50,
   "metadata": {
    "id": "yx4pU4RXVut0"
   },
   "outputs": [],
   "source": [
    "def eval_model(model, data_loader, loss_fn, device, n_examples):\n",
    "  \"\"\"\n",
    "  Evaluate the performance of a PyTorch model on a given dataset.\n",
    "\n",
    "  Parameters\n",
    "  ----------\n",
    "  model : torch.nn.Module\n",
    "      The PyTorch model to evaluate.\n",
    "  data_loader : torch.utils.data.DataLoader\n",
    "      The data loader for the dataset to evaluate on.\n",
    "  loss_fn : callable\n",
    "      The loss function to use for evaluation.\n",
    "  device : torch.device\n",
    "      The device (CPU or GPU) to use for evaluation.\n",
    "  n_examples : int\n",
    "      The total number of examples in the dataset.\n",
    "\n",
    "  Returns\n",
    "  -------\n",
    "  accuracy : float\n",
    "      The accuracy of the model on the dataset.\n",
    "  loss : float\n",
    "      The average loss of the model on the dataset.\n",
    "  \"\"\"\n",
    "  model = model.eval()\n",
    "\n",
    "  losses = []\n",
    "  correct_predictions = 0\n",
    "\n",
    "  with torch.no_grad():\n",
    "    for d in data_loader:\n",
    "      input_ids = d[\"input_ids\"].to(device)\n",
    "      attention_mask = d[\"attention_mask\"].to(device)\n",
    "      targets = d[\"targets\"].to(device)\n",
    "\n",
    "      outputs = model(\n",
    "        input_ids=input_ids,\n",
    "        attention_mask=attention_mask\n",
    "      )\n",
    "      _, preds = torch.max(outputs, dim=1)\n",
    "\n",
    "      loss = loss_fn(outputs, targets)\n",
    "\n",
    "      correct_predictions += torch.sum(preds == targets)\n",
    "      losses.append(loss.item())\n",
    "\n",
    "  return correct_predictions.double() / n_examples, np.mean(losses)"
   ]
  },
  {
   "attachments": {},
   "cell_type": "markdown",
   "metadata": {
    "id": "9c27XnwfWHoU"
   },
   "source": [
    "### loop de entrenamiento"
   ]
  },
  {
   "cell_type": "code",
   "execution_count": 51,
   "metadata": {
    "colab": {
     "base_uri": "https://localhost:8080/"
    },
    "id": "ANzYwBuiWG8X",
    "outputId": "3dc4ad5a-622e-47e4-817b-bb5f9da3940c"
   },
   "outputs": [
    {
     "name": "stdout",
     "output_type": "stream",
     "text": [
      "Epoch 1/2\n",
      "----------\n",
      "Train loss 0.7989231712111721 accuracy 0.6259537037037037\n",
      "Val   loss 0.7663798940942642 accuracy 0.6446666666666666\n",
      "Epoch 2/2\n",
      "----------\n",
      "Train loss 0.7113819047720344 accuracy 0.6771111111111111\n",
      "Val   loss 0.7645764138470305 accuracy 0.6506666666666666\n",
      "CPU times: total: 2h 45min 32s\n",
      "Wall time: 2h 46min 35s\n"
     ]
    }
   ],
   "source": [
    "%%time\n",
    "\n",
    "inicio = time.time()\n",
    "\n",
    "\n",
    "history = defaultdict(list)# creamos un diccionario de listas vacio, para añadir las vueltas\n",
    "best_accuracy = 0\n",
    "\n",
    "for epoch in range(EPOCHS):\n",
    "\n",
    "  print(f'Epoch {epoch + 1}/{EPOCHS}')\n",
    "  print('-' * 10)\n",
    "\n",
    "  train_acc, train_loss = train_epoch(\n",
    "    model,\n",
    "    train_data_loader,    \n",
    "    loss_fn, \n",
    "    optimizer, \n",
    "    device, \n",
    "    scheduler, \n",
    "    len(df_train)\n",
    "  )\n",
    "\n",
    "  print(f'Train loss {train_loss} accuracy {train_acc}')\n",
    "\n",
    "  val_acc, val_loss = eval_model(\n",
    "    model,\n",
    "    val_data_loader,\n",
    "    loss_fn, \n",
    "    device, \n",
    "    len(df_val)\n",
    "  )\n",
    "\n",
    "  print(f'Val   loss {val_loss} accuracy {val_acc}')\n",
    "\n",
    "  history['train_acc'].append(train_acc)\n",
    "  history['train_loss'].append(train_loss)\n",
    "  history['val_acc'].append(val_acc)\n",
    "  history['val_loss'].append(val_loss)\n",
    "  # almacenamos el mejor estado del modelo \n",
    "  if val_acc > best_accuracy:\n",
    "    torch.save(model.state_dict(), 'best_model_state.bin')\n",
    "    best_accuracy = val_acc\n",
    "  \n",
    "fin = time.time() - inicio"
   ]
  },
  {
   "cell_type": "code",
   "execution_count": 52,
   "metadata": {
    "id": "dwld1s97UL6r"
   },
   "outputs": [],
   "source": [
    "if not os.path.exists('./modelos'):\n",
    "    os.makedirs('./modelos')"
   ]
  },
  {
   "cell_type": "code",
   "execution_count": 53,
   "metadata": {
    "id": "oLV3w1ONS6F0"
   },
   "outputs": [
    {
     "name": "stdout",
     "output_type": "stream",
     "text": [
      "modelo best_model_state.bin\n",
      " guardado en ../resultados/modelos/2023-05-28_19-27-55_AMAZON_bert_model_state_es.bin\n",
      "csv 2023-05-28_19-27-55_metadata.csv\n",
      " guardado en ../resultados/notas\\2023-05-28_19-27-55_metadata.csv\n"
     ]
    }
   ],
   "source": [
    "# si el modelo es de nuestro agrado podemos guardarlo en drive\n",
    "import datetime\n",
    "import shutil\n",
    "\n",
    "\n",
    "def guardar_modelo(tipo, idioma,modelo='best_model_state.bin', ruta_guardado='../resultados/modelos/'):\n",
    "    \"\"\"\n",
    "    Guarda el modelo en la ruta especificada.\n",
    "\n",
    "    Args:\n",
    "        modelo: modelo a guardar.\n",
    "        ruta_guardado: ruta donde se guardará el modelo.\n",
    "    \"\"\"\n",
    "    # Crear la carpeta si no existe\n",
    "    carpeta_guardado = os.path.dirname(ruta_guardado)\n",
    "    if not os.path.exists(carpeta_guardado):\n",
    "        os.makedirs(carpeta_guardado)\n",
    "\n",
    "    # Generar el nombre del archivo con la fecha y hora actual\n",
    "    fecha_actual = datetime.datetime.now().strftime(r\"%Y-%m-%d_%H-%M-%S\")\n",
    "    nombre_archivo = f\"{fecha_actual}_{tipo}_bert_model_state_{idioma}.bin\"\n",
    "\n",
    "    \n",
    "    # Unir la ruta de la carpeta con el nombre del archivo\n",
    "    ruta_archivo = os.path.join(ruta_guardado, nombre_archivo)\n",
    "    shutil.move(modelo, ruta_archivo)\n",
    "    print(f\"modelo {modelo}\\n guardado en {ruta_archivo}\")\n",
    "\n",
    "def guardar_metadata(BATCH_SIZE, EPOCHS, LEARNING_RATE, PRE_TRAINED_MODEL_NAME, tipo, idioma, train_acc:torch.tensor, val_acc:torch.tensor, fin):\n",
    "    # donde se guardan por defecto\n",
    "    ruta_guardado = '../resultados/notas/'\n",
    "    ruta_guardado = os.path.dirname(ruta_guardado)    \n",
    "    \n",
    "    if not os.path.exists(ruta_guardado):\n",
    "        os.makedirs(ruta_guardado)\n",
    "    metadata = {\n",
    "        \"BATCH_SIZE\": [BATCH_SIZE],\n",
    "        \"EPOCHS\": [EPOCHS],\n",
    "        \"LEARNING_RATE\": [LEARNING_RATE],\n",
    "        \"PRE_TRAINED_MODEL_NAME\": [PRE_TRAINED_MODEL_NAME],\n",
    "        \"tipo\": [tipo],\n",
    "        \"idioma\": [idioma],\n",
    "        \"train_acc\": [train_acc.item()],\n",
    "        \"val_acc\": [val_acc.item()],\n",
    "        \"tiempo_seg\":[fin],\n",
    "    }\n",
    "    df = pd.DataFrame(metadata)\n",
    "    fecha_actual = datetime.datetime.now().strftime(\"%Y-%m-%d_%H-%M-%S\")\n",
    "    nombre_archivo = f\"{fecha_actual}_metadata.csv\"\n",
    "    ruta_archivo = os.path.join(ruta_guardado, nombre_archivo)\n",
    "    df.to_csv(ruta_archivo, index=False)\n",
    "    print(f\"csv {nombre_archivo}\\n guardado en {ruta_archivo}\")\n",
    "\n",
    "\n",
    "guardar_modelo(tipo, idioma)\n",
    "guardar_metadata(BATCH_SIZE, EPOCHS, LEARNING_RATE, PRE_TRAINED_MODEL_NAME, tipo, idioma, train_acc, val_acc, fin)  \n"
   ]
  },
  {
   "attachments": {},
   "cell_type": "markdown",
   "metadata": {
    "id": "wLQf52c7fbzr"
   },
   "source": [
    "Ahora podemos ver el historial de entrenamiento Vs la precisión de la validación."
   ]
  },
  {
   "cell_type": "code",
   "execution_count": 54,
   "metadata": {
    "colab": {
     "base_uri": "https://localhost:8080/"
    },
    "id": "paGPGvYyLypz",
    "outputId": "431ce919-b6f0-4508-83b4-9763764f4b28"
   },
   "outputs": [
    {
     "data": {
      "text/plain": [
       "defaultdict(list,\n",
       "            {'train_acc': [tensor(0.6260, device='cuda:0', dtype=torch.float64),\n",
       "              tensor(0.6771, device='cuda:0', dtype=torch.float64)],\n",
       "             'train_loss': [0.7989231712111721, 0.7113819047720344],\n",
       "             'val_acc': [tensor(0.6447, device='cuda:0', dtype=torch.float64),\n",
       "              tensor(0.6507, device='cuda:0', dtype=torch.float64)],\n",
       "             'val_loss': [0.7663798940942642, 0.7645764138470305]})"
      ]
     },
     "execution_count": 54,
     "metadata": {},
     "output_type": "execute_result"
    }
   ],
   "source": [
    "history"
   ]
  },
  {
   "cell_type": "code",
   "execution_count": 55,
   "metadata": {
    "colab": {
     "base_uri": "https://localhost:8080/",
     "height": 734
    },
    "id": "-FWG7kBm372V",
    "outputId": "c74c8236-a1db-41fb-9310-ac42b2921366"
   },
   "outputs": [
    {
     "data": {
      "image/png": "[encoded data removed]",
      "text/plain": [
       "<Figure size 1200x800 with 1 Axes>"
      ]
     },
     "metadata": {
      "image/png": {
       "height": 712,
       "width": 1022
      }
     },
     "output_type": "display_data"
    }
   ],
   "source": [
    "# plt.plot(history['train_acc'], label='train accuracy') # precisión de entrenamiento\n",
    "# plt.plot(history['val_acc'], label='validation accuracy') # precisión de validación.\n",
    "\n",
    "# plt.title('Historial de entrenamiento')\n",
    "# plt.ylabel('Accuracy')\n",
    "# plt.xlabel('Epoch')\n",
    "# plt.legend()\n",
    "# plt.ylim([0, 1]);\n",
    "\n",
    "# Convertir los tensores de precisión a listas de Python\n",
    "train_acc = [x.item() for x in history['train_acc']]\n",
    "val_acc = [x.item() for x in history['val_acc']]\n",
    "\n",
    "# Crear un DataFrame con la precisión de entrenamiento y validación por época\n",
    "df = pd.DataFrame({'Epoch': range(1, len(train_acc) + 1), 'Train Accuracy': train_acc, 'Validation Accuracy': val_acc})\n",
    "\n",
    "# Utilizar el método melt para reorganizar el DataFrame para la visualización\n",
    "df_melted = pd.melt(df, id_vars=['Epoch'], value_vars=['Train Accuracy', 'Validation Accuracy'], var_name='Data', value_name='Accuracy')\n",
    "\n",
    "# aplicar gráfico\n",
    "sns.lineplot(data=df_melted, x='Epoch', y='Accuracy', hue='Data')\n",
    "plt.title('Accuracy by Epoch')\n",
    "plt.show()"
   ]
  },
  {
   "attachments": {},
   "cell_type": "markdown",
   "metadata": {
    "id": "U3HZb3NWFtFf"
   },
   "source": [
    "## Evaluacion\n",
    "Como sabemos que nuestro modelo está prediciendo bien? Se empieza calculando la precisión en nuestro set de prueba."
   ]
  },
  {
   "cell_type": "code",
   "execution_count": 56,
   "metadata": {
    "colab": {
     "base_uri": "https://localhost:8080/"
    },
    "id": "jS3gJ_qBEljD",
    "outputId": "371ee590-3eb6-4e7f-a0e5-7c4627945378"
   },
   "outputs": [
    {
     "data": {
      "text/plain": [
       "0.6471666666666667"
      ]
     },
     "execution_count": 56,
     "metadata": {},
     "output_type": "execute_result"
    }
   ],
   "source": [
    "test_acc, _ = eval_model(\n",
    "  model,\n",
    "  test_data_loader,\n",
    "  loss_fn,\n",
    "  device,\n",
    "  len(df_test)\n",
    ")\n",
    "\n",
    "test_acc.item()"
   ]
  },
  {
   "attachments": {},
   "cell_type": "markdown",
   "metadata": {
    "id": "mdQ7-ylCj8Gd"
   },
   "source": [
    "La precisión es casi un 1% mas baja que en la de validación. Nuestro modelo parece generalizar bien.\n",
    "\n",
    "Este modelo pesa mucho mas 400MB y con 2 epochs nos ha permitido alcanzar casi un 70%. A diferencia de AG News este modelo fué mas pesado.\n",
    "\n",
    "El conjunto de datos de Amazon Reviews en español son muchos mas registros y las opiniones son más diversas en el de AGNews. El modelo utilizado fue dccuchile/bert-base-spanish-wwm-cased, y se entrenó durante 5 épocas con una tasa de aprendizaje de `1e-05` y un tamaño de lote de 16.\n",
    "\n",
    "Los resultados muestran que la precisión en el conjunto de entrenamiento aumentó con cada época, alcanzando un valor final de aproximadamente 0.79. Sin embargo, la precisión en el conjunto de validación no mostró una tendencia clara y se mantuvo alrededor del 0.63. Esto podría indicar que el modelo está sobreajustando al conjunto de entrenamiento y no está generalizando bien a nuevos datos.\n",
    "\n",
    "\n",
    "\n",
    "Definamos una función para ayudarnos a tomar predicciones de nuestro modelo:\n",
    "\n",
    "\n",
    "La función siguiente `get_predictions` toma un modelo y un cargador de datos como argumentos y devuelve las predicciones del modelo, las probabilidades de predicción y los valores reales para los datos en el cargador de datos.\n",
    "\n",
    "La función comienza poniendo el modelo en modo de evaluación con `model.eval()`. Luego, inicializa cuatro listas vacías para almacenar los textos de revisión, las predicciones, las probabilidades de predicción y los valores reales.\n",
    "\n",
    "La función itera sobre los lotes de datos en el cargador de datos utilizando un bucle `for`. Para cada lote, extrae el texto de revisión, los identificadores de entrada, la máscara de atención y las etiquetas objetivo del lote y los mueve al dispositivo especificado.\n",
    "\n",
    "Luego, la función pasa los identificadores de entrada y la máscara de atención al modelo para obtener las salidas del modelo. Utiliza `torch.max` para obtener las predicciones del modelo y `F.softmax` para obtener las probabilidades de predicción.\n",
    "\n",
    "La función agrega el texto de revisión, las predicciones, las probabilidades de predicción y las etiquetas objetivo a las listas correspondientes. Después de iterar sobre todos los lotes en el cargador de datos, la función apila las listas de predicciones, probabilidades de predicción y valores reales utilizando `torch.stack` y las mueve a la CPU.\n",
    "\n",
    "Finalmente, la función devuelve las cuatro listas: `review_texts`, `predictions`, `prediction_probs` y `real_values`."
   ]
  },
  {
   "cell_type": "code",
   "execution_count": 57,
   "metadata": {
    "id": "EgR6MuNS8jr_"
   },
   "outputs": [],
   "source": [
    "def get_predictions(model, data_loader):\n",
    "  \"\"\"\n",
    "    Función para obtener predicciones de un modelo PyTorch.\n",
    "\n",
    "    Parameters\n",
    "    ----------\n",
    "    model : torch.nn.Module\n",
    "        Modelo de PyTorch ya entrenado.\n",
    "    data_loader : torch.utils.data.DataLoader\n",
    "        DataLoader de PyTorch que contiene los datos de entrada.\n",
    "\n",
    "    Returns\n",
    "    -------\n",
    "    tuple\n",
    "        Una tupla que contiene las siguientes listas:\n",
    "        - review_texts: Lista de cadenas de texto que representan las reseñas.\n",
    "        - predictions: Lista de predicciones para cada reseña.\n",
    "        - prediction_probs: Lista de probabilidades de predicción para cada reseña.\n",
    "        - real_values: Lista de valores reales para cada reseña.\n",
    "  \"\"\"\n",
    "\n",
    "  model = model.eval()\n",
    "  \n",
    "  review_texts = []\n",
    "  predictions = []\n",
    "  prediction_probs = []\n",
    "  real_values = []\n",
    "\n",
    "  with torch.no_grad():\n",
    "    for d in data_loader:\n",
    "\n",
    "      texts = d[\"review_text\"]\n",
    "      input_ids = d[\"input_ids\"].to(device)\n",
    "      attention_mask = d[\"attention_mask\"].to(device)\n",
    "      targets = d[\"targets\"].to(device)\n",
    "\n",
    "      outputs = model(\n",
    "        input_ids=input_ids,\n",
    "        attention_mask=attention_mask\n",
    "      )\n",
    "      _, preds = torch.max(outputs, dim=1)\n",
    "\n",
    "      probs = F.softmax(outputs, dim=1)\n",
    "\n",
    "      review_texts.extend(texts)\n",
    "      predictions.extend(preds)\n",
    "      prediction_probs.extend(probs)\n",
    "      real_values.extend(targets)\n",
    "\n",
    "  predictions = torch.stack(predictions).cpu()\n",
    "  prediction_probs = torch.stack(prediction_probs).cpu()\n",
    "  real_values = torch.stack(real_values).cpu()\n",
    "  return review_texts, predictions, prediction_probs, real_values"
   ]
  },
  {
   "attachments": {},
   "cell_type": "markdown",
   "metadata": {
    "id": "dkbnBTI7kd_y"
   },
   "source": [
    "Esto es similar a la función de evaluación, excepto que almacenamos el texto de las Reviews y las predicciones. (aplicando la función softmax en la salida del modelo):\n"
   ]
  },
  {
   "cell_type": "code",
   "execution_count": 58,
   "metadata": {
    "id": "zHdPZr60-0c_"
   },
   "outputs": [],
   "source": [
    "y_review_texts, y_pred, y_pred_probs, y_test = get_predictions(\n",
    "  model,\n",
    "  test_data_loader\n",
    ")"
   ]
  },
  {
   "attachments": {},
   "cell_type": "markdown",
   "metadata": {
    "id": "gVwoVij2lC7F"
   },
   "source": [
    "Veeamos el informe de la clasificación."
   ]
  },
  {
   "cell_type": "code",
   "execution_count": 59,
   "metadata": {
    "colab": {
     "base_uri": "https://localhost:8080/"
    },
    "id": "L8a9_8-ND3Is",
    "outputId": "2350ae3c-f1c5-4a3e-f48b-98cfafcbc39a"
   },
   "outputs": [
    {
     "name": "stdout",
     "output_type": "stream",
     "text": [
      "              precision    recall  f1-score   support\n",
      "\n",
      "    negative       0.73      0.72      0.72      4046\n",
      "     neutral       0.72      0.67      0.70      4083\n",
      "    positive       0.50      0.55      0.52      3871\n",
      "\n",
      "    accuracy                           0.65     12000\n",
      "   macro avg       0.65      0.65      0.65     12000\n",
      "weighted avg       0.65      0.65      0.65     12000\n",
      "\n",
      "0.6471666666666667\n"
     ]
    }
   ],
   "source": [
    "print(classification_report(y_test, y_pred, target_names=class_names))\n",
    "print(accuracy_score(y_test, y_pred))"
   ]
  },
  {
   "attachments": {},
   "cell_type": "markdown",
   "metadata": {
    "id": "rFAekw3mmWUi"
   },
   "source": [
    "VER SI ESTA EVALUANDO CORRECTAMENTE.\n",
    "\n",
    "La matriz de confusión:"
   ]
  },
  {
   "cell_type": "code",
   "execution_count": 60,
   "metadata": {
    "colab": {
     "base_uri": "https://localhost:8080/",
     "height": 748
    },
    "id": "6d1qxsc__DTh",
    "outputId": "5b455a0c-5ada-4d2b-80c0-993b6f260da0"
   },
   "outputs": [
    {
     "data": {
      "image/png": "[encoded data removed]",
      "text/plain": [
       "<Figure size 1200x800 with 2 Axes>"
      ]
     },
     "metadata": {
      "image/png": {
       "height": 722,
       "width": 1001
      }
     },
     "output_type": "display_data"
    }
   ],
   "source": [
    "# def show_confusion_matrix(confusion_matrix):\n",
    "#   hmap = sns.heatmap(confusion_matrix, annot=True, fmt=\"d\", cmap=\"Blues\")\n",
    "#   hmap.yaxis.set_ticklabels(hmap.yaxis.get_ticklabels(), rotation=0, ha='right')\n",
    "#   hmap.xaxis.set_ticklabels(hmap.xaxis.get_ticklabels(), rotation=30, ha='right')\n",
    "#   plt.ylabel('True category')\n",
    "#   plt.xlabel('Predicted category');\n",
    "\n",
    "\n",
    "def show_confusion_matrix(confusion_matrix):\n",
    "    \"\"\"\n",
    "    Muestra una matriz de confusión utilizando una mapa de calor.\n",
    "\n",
    "    Parameters\n",
    "    ----------\n",
    "    confusion_matrix : numpy.ndarray\n",
    "        Una matriz de confusión de forma (n_classes, n_classes) donde las filas representan las categorías verdaderas y las columnas representan las categorías predichas.\n",
    "\n",
    "    Returns\n",
    "    -------\n",
    "    None\n",
    "    \"\"\"\n",
    "    sns.heatmap(confusion_matrix, annot=True, fmt=\"d\", cmap=\"Blues\")\n",
    "    plt.yticks(rotation=0)\n",
    "    plt.xticks(rotation=30)\n",
    "    plt.ylabel('Categoría verdadera')\n",
    "    plt.xlabel('Categoría predicha');\n",
    "\n",
    "\n",
    "cm = confusion_matrix(y_test, y_pred)\n",
    "df_cm = pd.DataFrame(cm, index=class_names, columns=class_names)\n",
    "show_confusion_matrix(df_cm)"
   ]
  },
  {
   "cell_type": "code",
   "execution_count": 61,
   "metadata": {
    "colab": {
     "base_uri": "https://localhost:8080/",
     "height": 35
    },
    "id": "BbjNCs5IXRj-",
    "outputId": "e3838744-2322-43ee-9745-9dc2a380f49c"
   },
   "outputs": [
    {
     "data": {
      "text/plain": [
       "'\\nComo podemos observar, al modelo le cuesta diferenciar entre ciencia y tecnología\\n\\ny Negocios, estas categorias agrupan la mayor concentración de falsos positivos.\\n'"
      ]
     },
     "execution_count": 61,
     "metadata": {},
     "output_type": "execute_result"
    }
   ],
   "source": [
    "## VER AQUI FALSOS POSITIVOS Y AJUSTE\n",
    "'''\n",
    "Como podemos observar, al modelo le cuesta diferenciar entre ciencia y tecnología\\n\n",
    "y Negocios, estas categorias agrupan la mayor concentración de falsos positivos.\n",
    "'''"
   ]
  },
  {
   "cell_type": "code",
   "execution_count": 62,
   "metadata": {
    "id": "iANBiY3sLo-K"
   },
   "outputs": [],
   "source": [
    "idx = 2\n",
    "\n",
    "review_text = y_review_texts[idx]\n",
    "true_category = y_test[idx]\n",
    "pred_df = pd.DataFrame({\n",
    "  'class_names': class_names,\n",
    "  'values': y_pred_probs[idx]\n",
    "})"
   ]
  },
  {
   "cell_type": "code",
   "execution_count": 63,
   "metadata": {
    "colab": {
     "base_uri": "https://localhost:8080/"
    },
    "id": "-8D0rb1yfnv4",
    "outputId": "b8e6887d-727d-4163-ea16-db7064e8564a"
   },
   "outputs": [
    {
     "name": "stdout",
     "output_type": "stream",
     "text": [
      "Esperaba que la goma fuese un poco más flexible, hay que apretar mucho\n",
      "para coger la salsa.\n",
      "\n",
      "True category: neutral\n"
     ]
    }
   ],
   "source": [
    "print(\"\\n\".join(wrap(review_text)))\n",
    "print()\n",
    "print(f'True category: {class_names[true_category]}')"
   ]
  },
  {
   "attachments": {},
   "cell_type": "markdown",
   "metadata": {
    "id": "f7hj_IZFnn2X"
   },
   "source": [
    "Ahora podemos mirar la confianza de cada clasificación de nuestro modelo:"
   ]
  },
  {
   "cell_type": "code",
   "execution_count": 64,
   "metadata": {
    "id": "XmdTvuIXXsVq"
   },
   "outputs": [
    {
     "data": {
      "image/png": "[encoded data removed]",
      "text/plain": [
       "<Figure size 1200x800 with 1 Axes>"
      ]
     },
     "metadata": {
      "image/png": {
       "height": 689,
       "width": 1068
      }
     },
     "output_type": "display_data"
    }
   ],
   "source": [
    "# VER LA CONFIANZA DE LA PREDICCIÓN DEL EJEMPLO ANTERIOR.\n",
    "sns.barplot(x='values', y='class_names', data=pred_df, orient='h')\n",
    "plt.ylabel('category')\n",
    "plt.xlabel('probability')\n",
    "plt.xlim([0, 1]);"
   ]
  },
  {
   "cell_type": "code",
   "execution_count": 65,
   "metadata": {
    "id": "fuYBm45CGlkD"
   },
   "outputs": [],
   "source": [
    "if platform.system() == 'Linux':\n",
    "    from google.colab import runtime\n",
    "    runtime.unassign()"
   ]
  }
 ],
 "metadata": {
  "accelerator": "GPU",
  "colab": {
   "gpuType": "T4",
   "provenance": []
  },
  "gpuClass": "standard",
  "kernelspec": {
   "display_name": "Python 3 (ipykernel)",
   "language": "python",
   "name": "python3"
  },
  "language_info": {
   "codemirror_mode": {
    "name": "ipython",
    "version": 3
   },
   "file_extension": ".py",
   "mimetype": "text/x-python",
   "name": "python",
   "nbconvert_exporter": "python",
   "pygments_lexer": "ipython3",
   "version": "3.10.11"
  },
  "widgets": {
   "application/vnd.jupyter.widget-state+json": {
    "184e4202caf147f199d54af28fe668b3": {
     "model_module": "@jupyter-widgets/controls",
     "model_module_version": "1.5.0",
     "model_name": "ProgressStyleModel",
     "state": {
      "_model_module": "@jupyter-widgets/controls",
      "_model_module_version": "1.5.0",
      "_model_name": "ProgressStyleModel",
      "_view_count": null,
      "_view_module": "@jupyter-widgets/base",
      "_view_module_version": "1.2.0",
      "_view_name": "StyleView",
      "bar_color": null,
      "description_width": ""
     }
    },
    "1b55415900f74c23a703e2a573dba8fc": {
     "model_module": "@jupyter-widgets/controls",
     "model_module_version": "1.5.0",
     "model_name": "DescriptionStyleModel",
     "state": {
      "_model_module": "@jupyter-widgets/controls",
      "_model_module_version": "1.5.0",
      "_model_name": "DescriptionStyleModel",
      "_view_count": null,
      "_view_module": "@jupyter-widgets/base",
      "_view_module_version": "1.2.0",
      "_view_name": "StyleView",
      "description_width": ""
     }
    },
    "1b728df1f4d040968b699f893c4fa7f9": {
     "model_module": "@jupyter-widgets/base",
     "model_module_version": "1.2.0",
     "model_name": "LayoutModel",
     "state": {
      "_model_module": "@jupyter-widgets/base",
      "_model_module_version": "1.2.0",
      "_model_name": "LayoutModel",
      "_view_count": null,
      "_view_module": "@jupyter-widgets/base",
      "_view_module_version": "1.2.0",
      "_view_name": "LayoutView",
      "align_content": null,
      "align_items": null,
      "align_self": null,
      "border": null,
      "bottom": null,
      "display": null,
      "flex": null,
      "flex_flow": null,
      "grid_area": null,
      "grid_auto_columns": null,
      "grid_auto_flow": null,
      "grid_auto_rows": null,
      "grid_column": null,
      "grid_gap": null,
      "grid_row": null,
      "grid_template_areas": null,
      "grid_template_columns": null,
      "grid_template_rows": null,
      "height": null,
      "justify_content": null,
      "justify_items": null,
      "left": null,
      "margin": null,
      "max_height": null,
      "max_width": null,
      "min_height": null,
      "min_width": null,
      "object_fit": null,
      "object_position": null,
      "order": null,
      "overflow": null,
      "overflow_x": null,
      "overflow_y": null,
      "padding": null,
      "right": null,
      "top": null,
      "visibility": null,
      "width": null
     }
    },
    "246641f0164a41748774b12386148309": {
     "model_module": "@jupyter-widgets/controls",
     "model_module_version": "1.5.0",
     "model_name": "DescriptionStyleModel",
     "state": {
      "_model_module": "@jupyter-widgets/controls",
      "_model_module_version": "1.5.0",
      "_model_name": "DescriptionStyleModel",
      "_view_count": null,
      "_view_module": "@jupyter-widgets/base",
      "_view_module_version": "1.2.0",
      "_view_name": "StyleView",
      "description_width": ""
     }
    },
    "2710692a6cdf4f0b8049bc078955a03b": {
     "model_module": "@jupyter-widgets/base",
     "model_module_version": "1.2.0",
     "model_name": "LayoutModel",
     "state": {
      "_model_module": "@jupyter-widgets/base",
      "_model_module_version": "1.2.0",
      "_model_name": "LayoutModel",
      "_view_count": null,
      "_view_module": "@jupyter-widgets/base",
      "_view_module_version": "1.2.0",
      "_view_name": "LayoutView",
      "align_content": null,
      "align_items": null,
      "align_self": null,
      "border": null,
      "bottom": null,
      "display": null,
      "flex": null,
      "flex_flow": null,
      "grid_area": null,
      "grid_auto_columns": null,
      "grid_auto_flow": null,
      "grid_auto_rows": null,
      "grid_column": null,
      "grid_gap": null,
      "grid_row": null,
      "grid_template_areas": null,
      "grid_template_columns": null,
      "grid_template_rows": null,
      "height": null,
      "justify_content": null,
      "justify_items": null,
      "left": null,
      "margin": null,
      "max_height": null,
      "max_width": null,
      "min_height": null,
      "min_width": null,
      "object_fit": null,
      "object_position": null,
      "order": null,
      "overflow": null,
      "overflow_x": null,
      "overflow_y": null,
      "padding": null,
      "right": null,
      "top": null,
      "visibility": null,
      "width": null
     }
    },
    "30e4c134efec457ba5f5187838a39fa9": {
     "model_module": "@jupyter-widgets/controls",
     "model_module_version": "1.5.0",
     "model_name": "DescriptionStyleModel",
     "state": {
      "_model_module": "@jupyter-widgets/controls",
      "_model_module_version": "1.5.0",
      "_model_name": "DescriptionStyleModel",
      "_view_count": null,
      "_view_module": "@jupyter-widgets/base",
      "_view_module_version": "1.2.0",
      "_view_name": "StyleView",
      "description_width": ""
     }
    },
    "30ed236a2a484d7ca6bd88cb100f94d2": {
     "model_module": "@jupyter-widgets/base",
     "model_module_version": "1.2.0",
     "model_name": "LayoutModel",
     "state": {
      "_model_module": "@jupyter-widgets/base",
      "_model_module_version": "1.2.0",
      "_model_name": "LayoutModel",
      "_view_count": null,
      "_view_module": "@jupyter-widgets/base",
      "_view_module_version": "1.2.0",
      "_view_name": "LayoutView",
      "align_content": null,
      "align_items": null,
      "align_self": null,
      "border": null,
      "bottom": null,
      "display": null,
      "flex": null,
      "flex_flow": null,
      "grid_area": null,
      "grid_auto_columns": null,
      "grid_auto_flow": null,
      "grid_auto_rows": null,
      "grid_column": null,
      "grid_gap": null,
      "grid_row": null,
      "grid_template_areas": null,
      "grid_template_columns": null,
      "grid_template_rows": null,
      "height": null,
      "justify_content": null,
      "justify_items": null,
      "left": null,
      "margin": null,
      "max_height": null,
      "max_width": null,
      "min_height": null,
      "min_width": null,
      "object_fit": null,
      "object_position": null,
      "order": null,
      "overflow": null,
      "overflow_x": null,
      "overflow_y": null,
      "padding": null,
      "right": null,
      "top": null,
      "visibility": null,
      "width": null
     }
    },
    "326a3054f38e452c93335cb06e03b83c": {
     "model_module": "@jupyter-widgets/base",
     "model_module_version": "1.2.0",
     "model_name": "LayoutModel",
     "state": {
      "_model_module": "@jupyter-widgets/base",
      "_model_module_version": "1.2.0",
      "_model_name": "LayoutModel",
      "_view_count": null,
      "_view_module": "@jupyter-widgets/base",
      "_view_module_version": "1.2.0",
      "_view_name": "LayoutView",
      "align_content": null,
      "align_items": null,
      "align_self": null,
      "border": null,
      "bottom": null,
      "display": null,
      "flex": null,
      "flex_flow": null,
      "grid_area": null,
      "grid_auto_columns": null,
      "grid_auto_flow": null,
      "grid_auto_rows": null,
      "grid_column": null,
      "grid_gap": null,
      "grid_row": null,
      "grid_template_areas": null,
      "grid_template_columns": null,
      "grid_template_rows": null,
      "height": null,
      "justify_content": null,
      "justify_items": null,
      "left": null,
      "margin": null,
      "max_height": null,
      "max_width": null,
      "min_height": null,
      "min_width": null,
      "object_fit": null,
      "object_position": null,
      "order": null,
      "overflow": null,
      "overflow_x": null,
      "overflow_y": null,
      "padding": null,
      "right": null,
      "top": null,
      "visibility": null,
      "width": null
     }
    },
    "371d41c06d6f40cc9baa251687a4c84b": {
     "model_module": "@jupyter-widgets/controls",
     "model_module_version": "1.5.0",
     "model_name": "HTMLModel",
     "state": {
      "_dom_classes": [],
      "_model_module": "@jupyter-widgets/controls",
      "_model_module_version": "1.5.0",
      "_model_name": "HTMLModel",
      "_view_count": null,
      "_view_module": "@jupyter-widgets/controls",
      "_view_module_version": "1.5.0",
      "_view_name": "HTMLView",
      "description": "",
      "description_tooltip": null,
      "layout": "IPY_MODEL_4b6aae26e045410faacd9081ef92e7e5",
      "placeholder": "​",
      "style": "IPY_MODEL_9a656a04b99546a085f9174544c1baea",
      "value": "Downloading pytorch_model.bin: 100%"
     }
    },
    "43ce655618af41c99c61d5d0a6750c52": {
     "model_module": "@jupyter-widgets/base",
     "model_module_version": "1.2.0",
     "model_name": "LayoutModel",
     "state": {
      "_model_module": "@jupyter-widgets/base",
      "_model_module_version": "1.2.0",
      "_model_name": "LayoutModel",
      "_view_count": null,
      "_view_module": "@jupyter-widgets/base",
      "_view_module_version": "1.2.0",
      "_view_name": "LayoutView",
      "align_content": null,
      "align_items": null,
      "align_self": null,
      "border": null,
      "bottom": null,
      "display": null,
      "flex": null,
      "flex_flow": null,
      "grid_area": null,
      "grid_auto_columns": null,
      "grid_auto_flow": null,
      "grid_auto_rows": null,
      "grid_column": null,
      "grid_gap": null,
      "grid_row": null,
      "grid_template_areas": null,
      "grid_template_columns": null,
      "grid_template_rows": null,
      "height": null,
      "justify_content": null,
      "justify_items": null,
      "left": null,
      "margin": null,
      "max_height": null,
      "max_width": null,
      "min_height": null,
      "min_width": null,
      "object_fit": null,
      "object_position": null,
      "order": null,
      "overflow": null,
      "overflow_x": null,
      "overflow_y": null,
      "padding": null,
      "right": null,
      "top": null,
      "visibility": null,
      "width": null
     }
    },
    "44489409362e4ec382364d95e37a4759": {
     "model_module": "@jupyter-widgets/controls",
     "model_module_version": "1.5.0",
     "model_name": "HTMLModel",
     "state": {
      "_dom_classes": [],
      "_model_module": "@jupyter-widgets/controls",
      "_model_module_version": "1.5.0",
      "_model_name": "HTMLModel",
      "_view_count": null,
      "_view_module": "@jupyter-widgets/controls",
      "_view_module_version": "1.5.0",
      "_view_name": "HTMLView",
      "description": "",
      "description_tooltip": null,
      "layout": "IPY_MODEL_4a5a10c291c44a8ba6ac4a5f640a3247",
      "placeholder": "​",
      "style": "IPY_MODEL_1b55415900f74c23a703e2a573dba8fc",
      "value": " 996k/996k [00:00&lt;00:00, 11.8MB/s]"
     }
    },
    "4475e2d740804c349163ab574084964f": {
     "model_module": "@jupyter-widgets/controls",
     "model_module_version": "1.5.0",
     "model_name": "HBoxModel",
     "state": {
      "_dom_classes": [],
      "_model_module": "@jupyter-widgets/controls",
      "_model_module_version": "1.5.0",
      "_model_name": "HBoxModel",
      "_view_count": null,
      "_view_module": "@jupyter-widgets/controls",
      "_view_module_version": "1.5.0",
      "_view_name": "HBoxView",
      "box_style": "",
      "children": [
       "IPY_MODEL_44dfddd5ba8e4f7382c59fd7ad46d5eb",
       "IPY_MODEL_9f29b0e90f174b16b81b917f1963fefe",
       "IPY_MODEL_9637e8e348fc488e8b8762883eba72f3"
      ],
      "layout": "IPY_MODEL_941a2318b2b5464286b4a83f12f0bb42"
     }
    },
    "44dfddd5ba8e4f7382c59fd7ad46d5eb": {
     "model_module": "@jupyter-widgets/controls",
     "model_module_version": "1.5.0",
     "model_name": "HTMLModel",
     "state": {
      "_dom_classes": [],
      "_model_module": "@jupyter-widgets/controls",
      "_model_module_version": "1.5.0",
      "_model_name": "HTMLModel",
      "_view_count": null,
      "_view_module": "@jupyter-widgets/controls",
      "_view_module_version": "1.5.0",
      "_view_name": "HTMLView",
      "description": "",
      "description_tooltip": null,
      "layout": "IPY_MODEL_43ce655618af41c99c61d5d0a6750c52",
      "placeholder": "​",
      "style": "IPY_MODEL_30e4c134efec457ba5f5187838a39fa9",
      "value": "Downloading (…)lve/main/config.json: 100%"
     }
    },
    "45ee6362d5404ec1abc9b8cc088ec62b": {
     "model_module": "@jupyter-widgets/base",
     "model_module_version": "1.2.0",
     "model_name": "LayoutModel",
     "state": {
      "_model_module": "@jupyter-widgets/base",
      "_model_module_version": "1.2.0",
      "_model_name": "LayoutModel",
      "_view_count": null,
      "_view_module": "@jupyter-widgets/base",
      "_view_module_version": "1.2.0",
      "_view_name": "LayoutView",
      "align_content": null,
      "align_items": null,
      "align_self": null,
      "border": null,
      "bottom": null,
      "display": null,
      "flex": null,
      "flex_flow": null,
      "grid_area": null,
      "grid_auto_columns": null,
      "grid_auto_flow": null,
      "grid_auto_rows": null,
      "grid_column": null,
      "grid_gap": null,
      "grid_row": null,
      "grid_template_areas": null,
      "grid_template_columns": null,
      "grid_template_rows": null,
      "height": null,
      "justify_content": null,
      "justify_items": null,
      "left": null,
      "margin": null,
      "max_height": null,
      "max_width": null,
      "min_height": null,
      "min_width": null,
      "object_fit": null,
      "object_position": null,
      "order": null,
      "overflow": null,
      "overflow_x": null,
      "overflow_y": null,
      "padding": null,
      "right": null,
      "top": null,
      "visibility": null,
      "width": null
     }
    },
    "4a5a10c291c44a8ba6ac4a5f640a3247": {
     "model_module": "@jupyter-widgets/base",
     "model_module_version": "1.2.0",
     "model_name": "LayoutModel",
     "state": {
      "_model_module": "@jupyter-widgets/base",
      "_model_module_version": "1.2.0",
      "_model_name": "LayoutModel",
      "_view_count": null,
      "_view_module": "@jupyter-widgets/base",
      "_view_module_version": "1.2.0",
      "_view_name": "LayoutView",
      "align_content": null,
      "align_items": null,
      "align_self": null,
      "border": null,
      "bottom": null,
      "display": null,
      "flex": null,
      "flex_flow": null,
      "grid_area": null,
      "grid_auto_columns": null,
      "grid_auto_flow": null,
      "grid_auto_rows": null,
      "grid_column": null,
      "grid_gap": null,
      "grid_row": null,
      "grid_template_areas": null,
      "grid_template_columns": null,
      "grid_template_rows": null,
      "height": null,
      "justify_content": null,
      "justify_items": null,
      "left": null,
      "margin": null,
      "max_height": null,
      "max_width": null,
      "min_height": null,
      "min_width": null,
      "object_fit": null,
      "object_position": null,
      "order": null,
      "overflow": null,
      "overflow_x": null,
      "overflow_y": null,
      "padding": null,
      "right": null,
      "top": null,
      "visibility": null,
      "width": null
     }
    },
    "4b6aae26e045410faacd9081ef92e7e5": {
     "model_module": "@jupyter-widgets/base",
     "model_module_version": "1.2.0",
     "model_name": "LayoutModel",
     "state": {
      "_model_module": "@jupyter-widgets/base",
      "_model_module_version": "1.2.0",
      "_model_name": "LayoutModel",
      "_view_count": null,
      "_view_module": "@jupyter-widgets/base",
      "_view_module_version": "1.2.0",
      "_view_name": "LayoutView",
      "align_content": null,
      "align_items": null,
      "align_self": null,
      "border": null,
      "bottom": null,
      "display": null,
      "flex": null,
      "flex_flow": null,
      "grid_area": null,
      "grid_auto_columns": null,
      "grid_auto_flow": null,
      "grid_auto_rows": null,
      "grid_column": null,
      "grid_gap": null,
      "grid_row": null,
      "grid_template_areas": null,
      "grid_template_columns": null,
      "grid_template_rows": null,
      "height": null,
      "justify_content": null,
      "justify_items": null,
      "left": null,
      "margin": null,
      "max_height": null,
      "max_width": null,
      "min_height": null,
      "min_width": null,
      "object_fit": null,
      "object_position": null,
      "order": null,
      "overflow": null,
      "overflow_x": null,
      "overflow_y": null,
      "padding": null,
      "right": null,
      "top": null,
      "visibility": null,
      "width": null
     }
    },
    "604dcbdbb701406fb49d6ead355cf310": {
     "model_module": "@jupyter-widgets/controls",
     "model_module_version": "1.5.0",
     "model_name": "HBoxModel",
     "state": {
      "_dom_classes": [],
      "_model_module": "@jupyter-widgets/controls",
      "_model_module_version": "1.5.0",
      "_model_name": "HBoxModel",
      "_view_count": null,
      "_view_module": "@jupyter-widgets/controls",
      "_view_module_version": "1.5.0",
      "_view_name": "HBoxView",
      "box_style": "",
      "children": [
       "IPY_MODEL_371d41c06d6f40cc9baa251687a4c84b",
       "IPY_MODEL_ec9752aa31e544c4ab6ead2d598fd870",
       "IPY_MODEL_ebf22748cd064a81919f5d893cdead9d"
      ],
      "layout": "IPY_MODEL_e295d35291bb45058c69e32c65c69545"
     }
    },
    "6d3222e8202e424799150f6a72e93f95": {
     "model_module": "@jupyter-widgets/controls",
     "model_module_version": "1.5.0",
     "model_name": "ProgressStyleModel",
     "state": {
      "_model_module": "@jupyter-widgets/controls",
      "_model_module_version": "1.5.0",
      "_model_name": "ProgressStyleModel",
      "_view_count": null,
      "_view_module": "@jupyter-widgets/base",
      "_view_module_version": "1.2.0",
      "_view_name": "StyleView",
      "bar_color": null,
      "description_width": ""
     }
    },
    "718cb439d1cc45b1a8cacafefae154ae": {
     "model_module": "@jupyter-widgets/controls",
     "model_module_version": "1.5.0",
     "model_name": "ProgressStyleModel",
     "state": {
      "_model_module": "@jupyter-widgets/controls",
      "_model_module_version": "1.5.0",
      "_model_name": "ProgressStyleModel",
      "_view_count": null,
      "_view_module": "@jupyter-widgets/base",
      "_view_module_version": "1.2.0",
      "_view_name": "StyleView",
      "bar_color": null,
      "description_width": ""
     }
    },
    "730e0fea196e43be9a629c679dc4dff0": {
     "model_module": "@jupyter-widgets/controls",
     "model_module_version": "1.5.0",
     "model_name": "HTMLModel",
     "state": {
      "_dom_classes": [],
      "_model_module": "@jupyter-widgets/controls",
      "_model_module_version": "1.5.0",
      "_model_name": "HTMLModel",
      "_view_count": null,
      "_view_module": "@jupyter-widgets/controls",
      "_view_module_version": "1.5.0",
      "_view_name": "HTMLView",
      "description": "",
      "description_tooltip": null,
      "layout": "IPY_MODEL_326a3054f38e452c93335cb06e03b83c",
      "placeholder": "​",
      "style": "IPY_MODEL_bfd4cc031ed04a79a444b981396b5577",
      "value": " 29.0/29.0 [00:00&lt;00:00, 1.22kB/s]"
     }
    },
    "74b1c356df4f4f4f94cc9f04b83e5c20": {
     "model_module": "@jupyter-widgets/base",
     "model_module_version": "1.2.0",
     "model_name": "LayoutModel",
     "state": {
      "_model_module": "@jupyter-widgets/base",
      "_model_module_version": "1.2.0",
      "_model_name": "LayoutModel",
      "_view_count": null,
      "_view_module": "@jupyter-widgets/base",
      "_view_module_version": "1.2.0",
      "_view_name": "LayoutView",
      "align_content": null,
      "align_items": null,
      "align_self": null,
      "border": null,
      "bottom": null,
      "display": null,
      "flex": null,
      "flex_flow": null,
      "grid_area": null,
      "grid_auto_columns": null,
      "grid_auto_flow": null,
      "grid_auto_rows": null,
      "grid_column": null,
      "grid_gap": null,
      "grid_row": null,
      "grid_template_areas": null,
      "grid_template_columns": null,
      "grid_template_rows": null,
      "height": null,
      "justify_content": null,
      "justify_items": null,
      "left": null,
      "margin": null,
      "max_height": null,
      "max_width": null,
      "min_height": null,
      "min_width": null,
      "object_fit": null,
      "object_position": null,
      "order": null,
      "overflow": null,
      "overflow_x": null,
      "overflow_y": null,
      "padding": null,
      "right": null,
      "top": null,
      "visibility": null,
      "width": null
     }
    },
    "7b043b2ae22e41d1ac0fc7246eced94e": {
     "model_module": "@jupyter-widgets/controls",
     "model_module_version": "1.5.0",
     "model_name": "HBoxModel",
     "state": {
      "_dom_classes": [],
      "_model_module": "@jupyter-widgets/controls",
      "_model_module_version": "1.5.0",
      "_model_name": "HBoxModel",
      "_view_count": null,
      "_view_module": "@jupyter-widgets/controls",
      "_view_module_version": "1.5.0",
      "_view_name": "HBoxView",
      "box_style": "",
      "children": [
       "IPY_MODEL_e3e33cca421c4e28a7d6b93b2772b8fb",
       "IPY_MODEL_e08b64a207ed442c940e7ce7d0513a77",
       "IPY_MODEL_44489409362e4ec382364d95e37a4759"
      ],
      "layout": "IPY_MODEL_c0abe3451af44dcba54f5c4e38e884bf"
     }
    },
    "822b505b48514296805d7f21f7b6d921": {
     "model_module": "@jupyter-widgets/controls",
     "model_module_version": "1.5.0",
     "model_name": "FloatProgressModel",
     "state": {
      "_dom_classes": [],
      "_model_module": "@jupyter-widgets/controls",
      "_model_module_version": "1.5.0",
      "_model_name": "FloatProgressModel",
      "_view_count": null,
      "_view_module": "@jupyter-widgets/controls",
      "_view_module_version": "1.5.0",
      "_view_name": "ProgressView",
      "bar_style": "success",
      "description": "",
      "description_tooltip": null,
      "layout": "IPY_MODEL_74b1c356df4f4f4f94cc9f04b83e5c20",
      "max": 29,
      "min": 0,
      "orientation": "horizontal",
      "style": "IPY_MODEL_6d3222e8202e424799150f6a72e93f95",
      "value": 29
     }
    },
    "941a2318b2b5464286b4a83f12f0bb42": {
     "model_module": "@jupyter-widgets/base",
     "model_module_version": "1.2.0",
     "model_name": "LayoutModel",
     "state": {
      "_model_module": "@jupyter-widgets/base",
      "_model_module_version": "1.2.0",
      "_model_name": "LayoutModel",
      "_view_count": null,
      "_view_module": "@jupyter-widgets/base",
      "_view_module_version": "1.2.0",
      "_view_name": "LayoutView",
      "align_content": null,
      "align_items": null,
      "align_self": null,
      "border": null,
      "bottom": null,
      "display": null,
      "flex": null,
      "flex_flow": null,
      "grid_area": null,
      "grid_auto_columns": null,
      "grid_auto_flow": null,
      "grid_auto_rows": null,
      "grid_column": null,
      "grid_gap": null,
      "grid_row": null,
      "grid_template_areas": null,
      "grid_template_columns": null,
      "grid_template_rows": null,
      "height": null,
      "justify_content": null,
      "justify_items": null,
      "left": null,
      "margin": null,
      "max_height": null,
      "max_width": null,
      "min_height": null,
      "min_width": null,
      "object_fit": null,
      "object_position": null,
      "order": null,
      "overflow": null,
      "overflow_x": null,
      "overflow_y": null,
      "padding": null,
      "right": null,
      "top": null,
      "visibility": null,
      "width": null
     }
    },
    "9637e8e348fc488e8b8762883eba72f3": {
     "model_module": "@jupyter-widgets/controls",
     "model_module_version": "1.5.0",
     "model_name": "HTMLModel",
     "state": {
      "_dom_classes": [],
      "_model_module": "@jupyter-widgets/controls",
      "_model_module_version": "1.5.0",
      "_model_name": "HTMLModel",
      "_view_count": null,
      "_view_module": "@jupyter-widgets/controls",
      "_view_module_version": "1.5.0",
      "_view_name": "HTMLView",
      "description": "",
      "description_tooltip": null,
      "layout": "IPY_MODEL_f3be9469b80a4795b2af74efe3c27e90",
      "placeholder": "​",
      "style": "IPY_MODEL_f97ebb29f26f4cc98097b6ffe5cf8dff",
      "value": " 625/625 [00:00&lt;00:00, 33.4kB/s]"
     }
    },
    "9a656a04b99546a085f9174544c1baea": {
     "model_module": "@jupyter-widgets/controls",
     "model_module_version": "1.5.0",
     "model_name": "DescriptionStyleModel",
     "state": {
      "_model_module": "@jupyter-widgets/controls",
      "_model_module_version": "1.5.0",
      "_model_name": "DescriptionStyleModel",
      "_view_count": null,
      "_view_module": "@jupyter-widgets/base",
      "_view_module_version": "1.2.0",
      "_view_name": "StyleView",
      "description_width": ""
     }
    },
    "9abb85c7c7664db7affbe1222410990a": {
     "model_module": "@jupyter-widgets/controls",
     "model_module_version": "1.5.0",
     "model_name": "HTMLModel",
     "state": {
      "_dom_classes": [],
      "_model_module": "@jupyter-widgets/controls",
      "_model_module_version": "1.5.0",
      "_model_name": "HTMLModel",
      "_view_count": null,
      "_view_module": "@jupyter-widgets/controls",
      "_view_module_version": "1.5.0",
      "_view_name": "HTMLView",
      "description": "",
      "description_tooltip": null,
      "layout": "IPY_MODEL_45ee6362d5404ec1abc9b8cc088ec62b",
      "placeholder": "​",
      "style": "IPY_MODEL_246641f0164a41748774b12386148309",
      "value": "Downloading (…)okenizer_config.json: 100%"
     }
    },
    "9d13887c6f3f49a79f1b97bb716a9c0d": {
     "model_module": "@jupyter-widgets/base",
     "model_module_version": "1.2.0",
     "model_name": "LayoutModel",
     "state": {
      "_model_module": "@jupyter-widgets/base",
      "_model_module_version": "1.2.0",
      "_model_name": "LayoutModel",
      "_view_count": null,
      "_view_module": "@jupyter-widgets/base",
      "_view_module_version": "1.2.0",
      "_view_name": "LayoutView",
      "align_content": null,
      "align_items": null,
      "align_self": null,
      "border": null,
      "bottom": null,
      "display": null,
      "flex": null,
      "flex_flow": null,
      "grid_area": null,
      "grid_auto_columns": null,
      "grid_auto_flow": null,
      "grid_auto_rows": null,
      "grid_column": null,
      "grid_gap": null,
      "grid_row": null,
      "grid_template_areas": null,
      "grid_template_columns": null,
      "grid_template_rows": null,
      "height": null,
      "justify_content": null,
      "justify_items": null,
      "left": null,
      "margin": null,
      "max_height": null,
      "max_width": null,
      "min_height": null,
      "min_width": null,
      "object_fit": null,
      "object_position": null,
      "order": null,
      "overflow": null,
      "overflow_x": null,
      "overflow_y": null,
      "padding": null,
      "right": null,
      "top": null,
      "visibility": null,
      "width": null
     }
    },
    "9f29b0e90f174b16b81b917f1963fefe": {
     "model_module": "@jupyter-widgets/controls",
     "model_module_version": "1.5.0",
     "model_name": "FloatProgressModel",
     "state": {
      "_dom_classes": [],
      "_model_module": "@jupyter-widgets/controls",
      "_model_module_version": "1.5.0",
      "_model_name": "FloatProgressModel",
      "_view_count": null,
      "_view_module": "@jupyter-widgets/controls",
      "_view_module_version": "1.5.0",
      "_view_name": "ProgressView",
      "bar_style": "success",
      "description": "",
      "description_tooltip": null,
      "layout": "IPY_MODEL_defea695c7b94deb9b9fb22a7eef25d4",
      "max": 625,
      "min": 0,
      "orientation": "horizontal",
      "style": "IPY_MODEL_184e4202caf147f199d54af28fe668b3",
      "value": 625
     }
    },
    "ac5a234a289646c9ba5f93f9a1f95547": {
     "model_module": "@jupyter-widgets/controls",
     "model_module_version": "1.5.0",
     "model_name": "ProgressStyleModel",
     "state": {
      "_model_module": "@jupyter-widgets/controls",
      "_model_module_version": "1.5.0",
      "_model_name": "ProgressStyleModel",
      "_view_count": null,
      "_view_module": "@jupyter-widgets/base",
      "_view_module_version": "1.2.0",
      "_view_name": "StyleView",
      "bar_color": null,
      "description_width": ""
     }
    },
    "b9653d2146bc44539e0500dc868c85aa": {
     "model_module": "@jupyter-widgets/controls",
     "model_module_version": "1.5.0",
     "model_name": "HBoxModel",
     "state": {
      "_dom_classes": [],
      "_model_module": "@jupyter-widgets/controls",
      "_model_module_version": "1.5.0",
      "_model_name": "HBoxModel",
      "_view_count": null,
      "_view_module": "@jupyter-widgets/controls",
      "_view_module_version": "1.5.0",
      "_view_name": "HBoxView",
      "box_style": "",
      "children": [
       "IPY_MODEL_9abb85c7c7664db7affbe1222410990a",
       "IPY_MODEL_822b505b48514296805d7f21f7b6d921",
       "IPY_MODEL_730e0fea196e43be9a629c679dc4dff0"
      ],
      "layout": "IPY_MODEL_2710692a6cdf4f0b8049bc078955a03b"
     }
    },
    "bfd4cc031ed04a79a444b981396b5577": {
     "model_module": "@jupyter-widgets/controls",
     "model_module_version": "1.5.0",
     "model_name": "DescriptionStyleModel",
     "state": {
      "_model_module": "@jupyter-widgets/controls",
      "_model_module_version": "1.5.0",
      "_model_name": "DescriptionStyleModel",
      "_view_count": null,
      "_view_module": "@jupyter-widgets/base",
      "_view_module_version": "1.2.0",
      "_view_name": "StyleView",
      "description_width": ""
     }
    },
    "c0abe3451af44dcba54f5c4e38e884bf": {
     "model_module": "@jupyter-widgets/base",
     "model_module_version": "1.2.0",
     "model_name": "LayoutModel",
     "state": {
      "_model_module": "@jupyter-widgets/base",
      "_model_module_version": "1.2.0",
      "_model_name": "LayoutModel",
      "_view_count": null,
      "_view_module": "@jupyter-widgets/base",
      "_view_module_version": "1.2.0",
      "_view_name": "LayoutView",
      "align_content": null,
      "align_items": null,
      "align_self": null,
      "border": null,
      "bottom": null,
      "display": null,
      "flex": null,
      "flex_flow": null,
      "grid_area": null,
      "grid_auto_columns": null,
      "grid_auto_flow": null,
      "grid_auto_rows": null,
      "grid_column": null,
      "grid_gap": null,
      "grid_row": null,
      "grid_template_areas": null,
      "grid_template_columns": null,
      "grid_template_rows": null,
      "height": null,
      "justify_content": null,
      "justify_items": null,
      "left": null,
      "margin": null,
      "max_height": null,
      "max_width": null,
      "min_height": null,
      "min_width": null,
      "object_fit": null,
      "object_position": null,
      "order": null,
      "overflow": null,
      "overflow_x": null,
      "overflow_y": null,
      "padding": null,
      "right": null,
      "top": null,
      "visibility": null,
      "width": null
     }
    },
    "d1408a4ecca24e97a69cca9c85fe4935": {
     "model_module": "@jupyter-widgets/controls",
     "model_module_version": "1.5.0",
     "model_name": "DescriptionStyleModel",
     "state": {
      "_model_module": "@jupyter-widgets/controls",
      "_model_module_version": "1.5.0",
      "_model_name": "DescriptionStyleModel",
      "_view_count": null,
      "_view_module": "@jupyter-widgets/base",
      "_view_module_version": "1.2.0",
      "_view_name": "StyleView",
      "description_width": ""
     }
    },
    "d5605ac814414bf6b8692f70cac24d71": {
     "model_module": "@jupyter-widgets/base",
     "model_module_version": "1.2.0",
     "model_name": "LayoutModel",
     "state": {
      "_model_module": "@jupyter-widgets/base",
      "_model_module_version": "1.2.0",
      "_model_name": "LayoutModel",
      "_view_count": null,
      "_view_module": "@jupyter-widgets/base",
      "_view_module_version": "1.2.0",
      "_view_name": "LayoutView",
      "align_content": null,
      "align_items": null,
      "align_self": null,
      "border": null,
      "bottom": null,
      "display": null,
      "flex": null,
      "flex_flow": null,
      "grid_area": null,
      "grid_auto_columns": null,
      "grid_auto_flow": null,
      "grid_auto_rows": null,
      "grid_column": null,
      "grid_gap": null,
      "grid_row": null,
      "grid_template_areas": null,
      "grid_template_columns": null,
      "grid_template_rows": null,
      "height": null,
      "justify_content": null,
      "justify_items": null,
      "left": null,
      "margin": null,
      "max_height": null,
      "max_width": null,
      "min_height": null,
      "min_width": null,
      "object_fit": null,
      "object_position": null,
      "order": null,
      "overflow": null,
      "overflow_x": null,
      "overflow_y": null,
      "padding": null,
      "right": null,
      "top": null,
      "visibility": null,
      "width": null
     }
    },
    "defea695c7b94deb9b9fb22a7eef25d4": {
     "model_module": "@jupyter-widgets/base",
     "model_module_version": "1.2.0",
     "model_name": "LayoutModel",
     "state": {
      "_model_module": "@jupyter-widgets/base",
      "_model_module_version": "1.2.0",
      "_model_name": "LayoutModel",
      "_view_count": null,
      "_view_module": "@jupyter-widgets/base",
      "_view_module_version": "1.2.0",
      "_view_name": "LayoutView",
      "align_content": null,
      "align_items": null,
      "align_self": null,
      "border": null,
      "bottom": null,
      "display": null,
      "flex": null,
      "flex_flow": null,
      "grid_area": null,
      "grid_auto_columns": null,
      "grid_auto_flow": null,
      "grid_auto_rows": null,
      "grid_column": null,
      "grid_gap": null,
      "grid_row": null,
      "grid_template_areas": null,
      "grid_template_columns": null,
      "grid_template_rows": null,
      "height": null,
      "justify_content": null,
      "justify_items": null,
      "left": null,
      "margin": null,
      "max_height": null,
      "max_width": null,
      "min_height": null,
      "min_width": null,
      "object_fit": null,
      "object_position": null,
      "order": null,
      "overflow": null,
      "overflow_x": null,
      "overflow_y": null,
      "padding": null,
      "right": null,
      "top": null,
      "visibility": null,
      "width": null
     }
    },
    "e08b64a207ed442c940e7ce7d0513a77": {
     "model_module": "@jupyter-widgets/controls",
     "model_module_version": "1.5.0",
     "model_name": "FloatProgressModel",
     "state": {
      "_dom_classes": [],
      "_model_module": "@jupyter-widgets/controls",
      "_model_module_version": "1.5.0",
      "_model_name": "FloatProgressModel",
      "_view_count": null,
      "_view_module": "@jupyter-widgets/controls",
      "_view_module_version": "1.5.0",
      "_view_name": "ProgressView",
      "bar_style": "success",
      "description": "",
      "description_tooltip": null,
      "layout": "IPY_MODEL_9d13887c6f3f49a79f1b97bb716a9c0d",
      "max": 995526,
      "min": 0,
      "orientation": "horizontal",
      "style": "IPY_MODEL_718cb439d1cc45b1a8cacafefae154ae",
      "value": 995526
     }
    },
    "e295d35291bb45058c69e32c65c69545": {
     "model_module": "@jupyter-widgets/base",
     "model_module_version": "1.2.0",
     "model_name": "LayoutModel",
     "state": {
      "_model_module": "@jupyter-widgets/base",
      "_model_module_version": "1.2.0",
      "_model_name": "LayoutModel",
      "_view_count": null,
      "_view_module": "@jupyter-widgets/base",
      "_view_module_version": "1.2.0",
      "_view_name": "LayoutView",
      "align_content": null,
      "align_items": null,
      "align_self": null,
      "border": null,
      "bottom": null,
      "display": null,
      "flex": null,
      "flex_flow": null,
      "grid_area": null,
      "grid_auto_columns": null,
      "grid_auto_flow": null,
      "grid_auto_rows": null,
      "grid_column": null,
      "grid_gap": null,
      "grid_row": null,
      "grid_template_areas": null,
      "grid_template_columns": null,
      "grid_template_rows": null,
      "height": null,
      "justify_content": null,
      "justify_items": null,
      "left": null,
      "margin": null,
      "max_height": null,
      "max_width": null,
      "min_height": null,
      "min_width": null,
      "object_fit": null,
      "object_position": null,
      "order": null,
      "overflow": null,
      "overflow_x": null,
      "overflow_y": null,
      "padding": null,
      "right": null,
      "top": null,
      "visibility": null,
      "width": null
     }
    },
    "e3e33cca421c4e28a7d6b93b2772b8fb": {
     "model_module": "@jupyter-widgets/controls",
     "model_module_version": "1.5.0",
     "model_name": "HTMLModel",
     "state": {
      "_dom_classes": [],
      "_model_module": "@jupyter-widgets/controls",
      "_model_module_version": "1.5.0",
      "_model_name": "HTMLModel",
      "_view_count": null,
      "_view_module": "@jupyter-widgets/controls",
      "_view_module_version": "1.5.0",
      "_view_name": "HTMLView",
      "description": "",
      "description_tooltip": null,
      "layout": "IPY_MODEL_d5605ac814414bf6b8692f70cac24d71",
      "placeholder": "​",
      "style": "IPY_MODEL_f56b335b847746e588ba5da0b887900c",
      "value": "Downloading (…)solve/main/vocab.txt: 100%"
     }
    },
    "ebf22748cd064a81919f5d893cdead9d": {
     "model_module": "@jupyter-widgets/controls",
     "model_module_version": "1.5.0",
     "model_name": "HTMLModel",
     "state": {
      "_dom_classes": [],
      "_model_module": "@jupyter-widgets/controls",
      "_model_module_version": "1.5.0",
      "_model_name": "HTMLModel",
      "_view_count": null,
      "_view_module": "@jupyter-widgets/controls",
      "_view_module_version": "1.5.0",
      "_view_name": "HTMLView",
      "description": "",
      "description_tooltip": null,
      "layout": "IPY_MODEL_30ed236a2a484d7ca6bd88cb100f94d2",
      "placeholder": "​",
      "style": "IPY_MODEL_d1408a4ecca24e97a69cca9c85fe4935",
      "value": " 714M/714M [00:05&lt;00:00, 84.5MB/s]"
     }
    },
    "ec9752aa31e544c4ab6ead2d598fd870": {
     "model_module": "@jupyter-widgets/controls",
     "model_module_version": "1.5.0",
     "model_name": "FloatProgressModel",
     "state": {
      "_dom_classes": [],
      "_model_module": "@jupyter-widgets/controls",
      "_model_module_version": "1.5.0",
      "_model_name": "FloatProgressModel",
      "_view_count": null,
      "_view_module": "@jupyter-widgets/controls",
      "_view_module_version": "1.5.0",
      "_view_name": "ProgressView",
      "bar_style": "success",
      "description": "",
      "description_tooltip": null,
      "layout": "IPY_MODEL_1b728df1f4d040968b699f893c4fa7f9",
      "max": 714314041,
      "min": 0,
      "orientation": "horizontal",
      "style": "IPY_MODEL_ac5a234a289646c9ba5f93f9a1f95547",
      "value": 714314041
     }
    },
    "f3be9469b80a4795b2af74efe3c27e90": {
     "model_module": "@jupyter-widgets/base",
     "model_module_version": "1.2.0",
     "model_name": "LayoutModel",
     "state": {
      "_model_module": "@jupyter-widgets/base",
      "_model_module_version": "1.2.0",
      "_model_name": "LayoutModel",
      "_view_count": null,
      "_view_module": "@jupyter-widgets/base",
      "_view_module_version": "1.2.0",
      "_view_name": "LayoutView",
      "align_content": null,
      "align_items": null,
      "align_self": null,
      "border": null,
      "bottom": null,
      "display": null,
      "flex": null,
      "flex_flow": null,
      "grid_area": null,
      "grid_auto_columns": null,
      "grid_auto_flow": null,
      "grid_auto_rows": null,
      "grid_column": null,
      "grid_gap": null,
      "grid_row": null,
      "grid_template_areas": null,
      "grid_template_columns": null,
      "grid_template_rows": null,
      "height": null,
      "justify_content": null,
      "justify_items": null,
      "left": null,
      "margin": null,
      "max_height": null,
      "max_width": null,
      "min_height": null,
      "min_width": null,
      "object_fit": null,
      "object_position": null,
      "order": null,
      "overflow": null,
      "overflow_x": null,
      "overflow_y": null,
      "padding": null,
      "right": null,
      "top": null,
      "visibility": null,
      "width": null
     }
    },
    "f56b335b847746e588ba5da0b887900c": {
     "model_module": "@jupyter-widgets/controls",
     "model_module_version": "1.5.0",
     "model_name": "DescriptionStyleModel",
     "state": {
      "_model_module": "@jupyter-widgets/controls",
      "_model_module_version": "1.5.0",
      "_model_name": "DescriptionStyleModel",
      "_view_count": null,
      "_view_module": "@jupyter-widgets/base",
      "_view_module_version": "1.2.0",
      "_view_name": "StyleView",
      "description_width": ""
     }
    },
    "f97ebb29f26f4cc98097b6ffe5cf8dff": {
     "model_module": "@jupyter-widgets/controls",
     "model_module_version": "1.5.0",
     "model_name": "DescriptionStyleModel",
     "state": {
      "_model_module": "@jupyter-widgets/controls",
      "_model_module_version": "1.5.0",
      "_model_name": "DescriptionStyleModel",
      "_view_count": null,
      "_view_module": "@jupyter-widgets/base",
      "_view_module_version": "1.2.0",
      "_view_name": "StyleView",
      "description_width": ""
     }
    }
   }
  }
 },
 "nbformat": 4,
 "nbformat_minor": 1
}
