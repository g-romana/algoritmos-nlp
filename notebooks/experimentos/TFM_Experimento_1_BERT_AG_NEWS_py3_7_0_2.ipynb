{
  "cells": [
    {
      "cell_type": "code",
      "execution_count": 1,
      "metadata": {
        "colab": {
          "base_uri": "https://localhost:8080/"
        },
        "id": "G9bhdfV_eaIk",
        "outputId": "e68f6b8e-2bd7-4d4f-dbc5-4d2d3b2e7133"
      },
      "outputs": [
        {
          "name": "stdout",
          "output_type": "stream",
          "text": [
            "Sat May 27 10:21:51 2023       \n",
            "+---------------------------------------------------------------------------------------+\n",
            "| NVIDIA-SMI 531.79                 Driver Version: 531.79       CUDA Version: 12.1     |\n",
            "|-----------------------------------------+----------------------+----------------------+\n",
            "| GPU  Name                      TCC/WDDM | Bus-Id        Disp.A | Volatile Uncorr. ECC |\n",
            "| Fan  Temp  Perf            Pwr:Usage/Cap|         Memory-Usage | GPU-Util  Compute M. |\n",
            "|                                         |                      |               MIG M. |\n",
            "|=========================================+======================+======================|\n",
            "|   0  NVIDIA GeForce GTX 1060 6GB   WDDM | 00000000:29:00.0  On |                  N/A |\n",
            "| 25%   36C    P8                7W / 120W|    806MiB /  6144MiB |     17%      Default |\n",
            "|                                         |                      |                  N/A |\n",
            "+-----------------------------------------+----------------------+----------------------+\n",
            "                                                                                         \n",
            "+---------------------------------------------------------------------------------------+\n",
            "| Processes:                                                                            |\n",
            "|  GPU   GI   CI        PID   Type   Process name                            GPU Memory |\n",
            "|        ID   ID                                                             Usage      |\n",
            "|=======================================================================================|\n",
            "|    0   N/A  N/A      7088    C+G   ...tionsPlus\\logioptionsplus_agent.exe    N/A      |\n",
            "|    0   N/A  N/A      9312    C+G   C:\\Windows\\explorer.exe                   N/A      |\n",
            "|    0   N/A  N/A     11080    C+G   ...1.0_x64__8wekyb3d8bbwe\\Video.UI.exe    N/A      |\n",
            "|    0   N/A  N/A     11784    C+G   ..._8wekyb3d8bbwe\\Microsoft.Photos.exe    N/A      |\n",
            "|    0   N/A  N/A     12468    C+G   ...2txyewy\\StartMenuExperienceHost.exe    N/A      |\n",
            "|    0   N/A  N/A     12996    C+G   ....Search_cw5n1h2txyewy\\SearchApp.exe    N/A      |\n",
            "|    0   N/A  N/A     14012    C+G   ...cal\\Microsoft\\OneDrive\\OneDrive.exe    N/A      |\n",
            "|    0   N/A  N/A     14960    C+G   ...t.LockApp_cw5n1h2txyewy\\LockApp.exe    N/A      |\n",
            "|    0   N/A  N/A     15940    C+G   ...CBS_cw5n1h2txyewy\\TextInputHost.exe    N/A      |\n",
            "|    0   N/A  N/A     16328    C+G   ...61.0_x64__8wekyb3d8bbwe\\GameBar.exe    N/A      |\n",
            "|    0   N/A  N/A     16820    C+G   ...GeForce Experience\\NVIDIA Share.exe    N/A      |\n",
            "|    0   N/A  N/A     17616    C+G   ...cal\\Microsoft\\OneDrive\\OneDrive.exe    N/A      |\n",
            "|    0   N/A  N/A     18500    C+G   ...aming\\Telegram Desktop\\Telegram.exe    N/A      |\n",
            "|    0   N/A  N/A     18664    C+G   ...e Stream\\75.0.2.0\\GoogleDriveFS.exe    N/A      |\n",
            "|    0   N/A  N/A     19356    C+G   ...03.0_x64__8wekyb3d8bbwe\\Cortana.exe    N/A      |\n",
            "|    0   N/A  N/A     20064    C+G   ...s (x86)\\Razer\\Synapse\\RzSynapse.exe    N/A      |\n",
            "|    0   N/A  N/A     20632    C+G   ...5n1h2txyewy\\ShellExperienceHost.exe    N/A      |\n",
            "|    0   N/A  N/A     22848    C+G   ...am Files\\Microsoft VS Code\\Code.exe    N/A      |\n",
            "|    0   N/A  N/A     23292    C+G   ...crosoft\\Edge\\Application\\msedge.exe    N/A      |\n",
            "|    0   N/A  N/A     23308    C+G   ...ekyb3d8bbwe\\PhoneExperienceHost.exe    N/A      |\n",
            "|    0   N/A  N/A     23792    C+G   ...7.0_x64__cv1g1gvanyjgm\\WhatsApp.exe    N/A      |\n",
            "+---------------------------------------------------------------------------------------+\n"
          ]
        }
      ],
      "source": [
        "!nvidia-smi"
      ]
    },
    {
      "cell_type": "code",
      "execution_count": 2,
      "metadata": {
        "colab": {
          "base_uri": "https://localhost:8080/"
        },
        "id": "CgWVQrHWG2uF",
        "outputId": "8366eb84-d8b2-4b4e-94f5-be46c7dd4dac"
      },
      "outputs": [
        {
          "name": "stdout",
          "output_type": "stream",
          "text": [
            "Looking in indexes: https://download.pytorch.org/whl/cu118\n",
            "Requirement already satisfied: torch==2.0.0+cu118 in c:\\users\\guill\\.conda\\envs\\nlptfm\\lib\\site-packages (2.0.0+cu118)\n",
            "Requirement already satisfied: torchvision==0.15.1+cu118 in c:\\users\\guill\\.conda\\envs\\nlptfm\\lib\\site-packages (0.15.1+cu118)\n",
            "Requirement already satisfied: torchaudio==2.0.1 in c:\\users\\guill\\.conda\\envs\\nlptfm\\lib\\site-packages (2.0.1+cu118)\n",
            "Requirement already satisfied: filelock in c:\\users\\guill\\.conda\\envs\\nlptfm\\lib\\site-packages (from torch==2.0.0+cu118) (3.9.0)\n",
            "Requirement already satisfied: typing-extensions in c:\\users\\guill\\.conda\\envs\\nlptfm\\lib\\site-packages (from torch==2.0.0+cu118) (4.6.2)\n",
            "Requirement already satisfied: sympy in c:\\users\\guill\\.conda\\envs\\nlptfm\\lib\\site-packages (from torch==2.0.0+cu118) (1.11.1)\n",
            "Requirement already satisfied: networkx in c:\\users\\guill\\.conda\\envs\\nlptfm\\lib\\site-packages (from torch==2.0.0+cu118) (3.0)\n",
            "Requirement already satisfied: jinja2 in c:\\users\\guill\\.conda\\envs\\nlptfm\\lib\\site-packages (from torch==2.0.0+cu118) (3.1.2)\n",
            "Requirement already satisfied: numpy in c:\\users\\guill\\.conda\\envs\\nlptfm\\lib\\site-packages (from torchvision==0.15.1+cu118) (1.24.1)\n",
            "Requirement already satisfied: requests in c:\\users\\guill\\.conda\\envs\\nlptfm\\lib\\site-packages (from torchvision==0.15.1+cu118) (2.28.1)\n",
            "Requirement already satisfied: pillow!=8.3.*,>=5.3.0 in c:\\users\\guill\\.conda\\envs\\nlptfm\\lib\\site-packages (from torchvision==0.15.1+cu118) (9.3.0)\n",
            "Requirement already satisfied: MarkupSafe>=2.0 in c:\\users\\guill\\.conda\\envs\\nlptfm\\lib\\site-packages (from jinja2->torch==2.0.0+cu118) (2.1.2)\n",
            "Requirement already satisfied: charset-normalizer<3,>=2 in c:\\users\\guill\\.conda\\envs\\nlptfm\\lib\\site-packages (from requests->torchvision==0.15.1+cu118) (2.1.1)\n",
            "Requirement already satisfied: idna<4,>=2.5 in c:\\users\\guill\\.conda\\envs\\nlptfm\\lib\\site-packages (from requests->torchvision==0.15.1+cu118) (3.4)\n",
            "Requirement already satisfied: urllib3<1.27,>=1.21.1 in c:\\users\\guill\\.conda\\envs\\nlptfm\\lib\\site-packages (from requests->torchvision==0.15.1+cu118) (1.26.13)\n",
            "Requirement already satisfied: certifi>=2017.4.17 in c:\\users\\guill\\.conda\\envs\\nlptfm\\lib\\site-packages (from requests->torchvision==0.15.1+cu118) (2022.12.7)\n",
            "Requirement already satisfied: mpmath>=0.19 in c:\\users\\guill\\.conda\\envs\\nlptfm\\lib\\site-packages (from sympy->torch==2.0.0+cu118) (1.2.1)\n",
            "Requirement already satisfied: seaborn in c:\\users\\guill\\.conda\\envs\\nlptfm\\lib\\site-packages (0.12.2)\n",
            "Requirement already satisfied: matplotlib in c:\\users\\guill\\.conda\\envs\\nlptfm\\lib\\site-packages (3.7.1)\n",
            "Requirement already satisfied: scikit-learn in c:\\users\\guill\\.conda\\envs\\nlptfm\\lib\\site-packages (1.2.2)\n",
            "Requirement already satisfied: IProgress in c:\\users\\guill\\.conda\\envs\\nlptfm\\lib\\site-packages (0.4)\n",
            "Requirement already satisfied: numpy!=1.24.0,>=1.17 in c:\\users\\guill\\.conda\\envs\\nlptfm\\lib\\site-packages (from seaborn) (1.24.1)\n",
            "Requirement already satisfied: pandas>=0.25 in c:\\users\\guill\\.conda\\envs\\nlptfm\\lib\\site-packages (from seaborn) (2.0.1)\n",
            "Requirement already satisfied: contourpy>=1.0.1 in c:\\users\\guill\\.conda\\envs\\nlptfm\\lib\\site-packages (from matplotlib) (1.0.7)\n",
            "Requirement already satisfied: cycler>=0.10 in c:\\users\\guill\\.conda\\envs\\nlptfm\\lib\\site-packages (from matplotlib) (0.11.0)\n",
            "Requirement already satisfied: fonttools>=4.22.0 in c:\\users\\guill\\.conda\\envs\\nlptfm\\lib\\site-packages (from matplotlib) (4.39.4)\n",
            "Requirement already satisfied: kiwisolver>=1.0.1 in c:\\users\\guill\\.conda\\envs\\nlptfm\\lib\\site-packages (from matplotlib) (1.4.4)\n",
            "Requirement already satisfied: packaging>=20.0 in c:\\users\\guill\\.conda\\envs\\nlptfm\\lib\\site-packages (from matplotlib) (23.1)\n",
            "Requirement already satisfied: pillow>=6.2.0 in c:\\users\\guill\\.conda\\envs\\nlptfm\\lib\\site-packages (from matplotlib) (9.3.0)\n",
            "Requirement already satisfied: pyparsing>=2.3.1 in c:\\users\\guill\\.conda\\envs\\nlptfm\\lib\\site-packages (from matplotlib) (3.0.9)\n",
            "Requirement already satisfied: python-dateutil>=2.7 in c:\\users\\guill\\.conda\\envs\\nlptfm\\lib\\site-packages (from matplotlib) (2.8.2)\n",
            "Requirement already satisfied: scipy>=1.3.2 in c:\\users\\guill\\.conda\\envs\\nlptfm\\lib\\site-packages (from scikit-learn) (1.10.1)\n",
            "Requirement already satisfied: joblib>=1.1.1 in c:\\users\\guill\\.conda\\envs\\nlptfm\\lib\\site-packages (from scikit-learn) (1.2.0)\n",
            "Requirement already satisfied: threadpoolctl>=2.0.0 in c:\\users\\guill\\.conda\\envs\\nlptfm\\lib\\site-packages (from scikit-learn) (3.1.0)\n",
            "Requirement already satisfied: six in c:\\users\\guill\\.conda\\envs\\nlptfm\\lib\\site-packages (from IProgress) (1.16.0)\n",
            "Requirement already satisfied: pytz>=2020.1 in c:\\users\\guill\\.conda\\envs\\nlptfm\\lib\\site-packages (from pandas>=0.25->seaborn) (2023.3)\n",
            "Requirement already satisfied: tzdata>=2022.1 in c:\\users\\guill\\.conda\\envs\\nlptfm\\lib\\site-packages (from pandas>=0.25->seaborn) (2023.3)\n",
            "Requirement already satisfied: transformers in c:\\users\\guill\\.conda\\envs\\nlptfm\\lib\\site-packages (4.29.2)\n",
            "Requirement already satisfied: filelock in c:\\users\\guill\\.conda\\envs\\nlptfm\\lib\\site-packages (from transformers) (3.9.0)\n",
            "Requirement already satisfied: huggingface-hub<1.0,>=0.14.1 in c:\\users\\guill\\.conda\\envs\\nlptfm\\lib\\site-packages (from transformers) (0.14.1)\n",
            "Requirement already satisfied: numpy>=1.17 in c:\\users\\guill\\.conda\\envs\\nlptfm\\lib\\site-packages (from transformers) (1.24.1)\n",
            "Requirement already satisfied: packaging>=20.0 in c:\\users\\guill\\.conda\\envs\\nlptfm\\lib\\site-packages (from transformers) (23.1)\n",
            "Requirement already satisfied: pyyaml>=5.1 in c:\\users\\guill\\.conda\\envs\\nlptfm\\lib\\site-packages (from transformers) (5.4.1)\n",
            "Requirement already satisfied: regex!=2019.12.17 in c:\\users\\guill\\.conda\\envs\\nlptfm\\lib\\site-packages (from transformers) (2023.5.5)\n",
            "Requirement already satisfied: requests in c:\\users\\guill\\.conda\\envs\\nlptfm\\lib\\site-packages (from transformers) (2.28.1)\n",
            "Requirement already satisfied: tokenizers!=0.11.3,<0.14,>=0.11.1 in c:\\users\\guill\\.conda\\envs\\nlptfm\\lib\\site-packages (from transformers) (0.13.3)\n",
            "Requirement already satisfied: tqdm>=4.27 in c:\\users\\guill\\.conda\\envs\\nlptfm\\lib\\site-packages (from transformers) (4.65.0)\n",
            "Requirement already satisfied: fsspec in c:\\users\\guill\\.conda\\envs\\nlptfm\\lib\\site-packages (from huggingface-hub<1.0,>=0.14.1->transformers) (2023.5.0)\n",
            "Requirement already satisfied: typing-extensions>=3.7.4.3 in c:\\users\\guill\\.conda\\envs\\nlptfm\\lib\\site-packages (from huggingface-hub<1.0,>=0.14.1->transformers) (4.6.2)\n",
            "Requirement already satisfied: colorama in c:\\users\\guill\\.conda\\envs\\nlptfm\\lib\\site-packages (from tqdm>=4.27->transformers) (0.4.4)\n",
            "Requirement already satisfied: charset-normalizer<3,>=2 in c:\\users\\guill\\.conda\\envs\\nlptfm\\lib\\site-packages (from requests->transformers) (2.1.1)\n",
            "Requirement already satisfied: idna<4,>=2.5 in c:\\users\\guill\\.conda\\envs\\nlptfm\\lib\\site-packages (from requests->transformers) (3.4)\n",
            "Requirement already satisfied: urllib3<1.27,>=1.21.1 in c:\\users\\guill\\.conda\\envs\\nlptfm\\lib\\site-packages (from requests->transformers) (1.26.13)\n",
            "Requirement already satisfied: certifi>=2017.4.17 in c:\\users\\guill\\.conda\\envs\\nlptfm\\lib\\site-packages (from requests->transformers) (2022.12.7)\n",
            "Requirement already satisfied: numpy in c:\\users\\guill\\.conda\\envs\\nlptfm\\lib\\site-packages (1.24.1)\n",
            "Requirement already satisfied: pandas in c:\\users\\guill\\.conda\\envs\\nlptfm\\lib\\site-packages (2.0.1)\n",
            "Requirement already satisfied: seaborn in c:\\users\\guill\\.conda\\envs\\nlptfm\\lib\\site-packages (0.12.2)\n",
            "Requirement already satisfied: psutil in c:\\users\\guill\\.conda\\envs\\nlptfm\\lib\\site-packages (5.9.5)\n",
            "Requirement already satisfied: sympy in c:\\users\\guill\\.conda\\envs\\nlptfm\\lib\\site-packages (1.11.1)\n",
            "Requirement already satisfied: filelock in c:\\users\\guill\\.conda\\envs\\nlptfm\\lib\\site-packages (3.9.0)\n",
            "Requirement already satisfied: jinja2 in c:\\users\\guill\\.conda\\envs\\nlptfm\\lib\\site-packages (3.1.2)\n",
            "Requirement already satisfied: networkx in c:\\users\\guill\\.conda\\envs\\nlptfm\\lib\\site-packages (3.0)\n",
            "Requirement already satisfied: typing-extensions in c:\\users\\guill\\.conda\\envs\\nlptfm\\lib\\site-packages (4.6.2)\n",
            "Requirement already satisfied: awscli in c:\\users\\guill\\.conda\\envs\\nlptfm\\lib\\site-packages (1.27.141)\n",
            "Requirement already satisfied: python-dateutil>=2.8.2 in c:\\users\\guill\\.conda\\envs\\nlptfm\\lib\\site-packages (from pandas) (2.8.2)\n",
            "Requirement already satisfied: pytz>=2020.1 in c:\\users\\guill\\.conda\\envs\\nlptfm\\lib\\site-packages (from pandas) (2023.3)\n",
            "Requirement already satisfied: tzdata>=2022.1 in c:\\users\\guill\\.conda\\envs\\nlptfm\\lib\\site-packages (from pandas) (2023.3)\n",
            "Requirement already satisfied: matplotlib!=3.6.1,>=3.1 in c:\\users\\guill\\.conda\\envs\\nlptfm\\lib\\site-packages (from seaborn) (3.7.1)\n",
            "Requirement already satisfied: mpmath>=0.19 in c:\\users\\guill\\.conda\\envs\\nlptfm\\lib\\site-packages (from sympy) (1.2.1)\n",
            "Requirement already satisfied: MarkupSafe>=2.0 in c:\\users\\guill\\.conda\\envs\\nlptfm\\lib\\site-packages (from jinja2) (2.1.2)\n",
            "Requirement already satisfied: botocore==1.29.141 in c:\\users\\guill\\.conda\\envs\\nlptfm\\lib\\site-packages (from awscli) (1.29.141)\n",
            "Requirement already satisfied: docutils<0.17,>=0.10 in c:\\users\\guill\\.conda\\envs\\nlptfm\\lib\\site-packages (from awscli) (0.16)\n",
            "Requirement already satisfied: s3transfer<0.7.0,>=0.6.0 in c:\\users\\guill\\.conda\\envs\\nlptfm\\lib\\site-packages (from awscli) (0.6.1)\n",
            "Requirement already satisfied: PyYAML<5.5,>=3.10 in c:\\users\\guill\\.conda\\envs\\nlptfm\\lib\\site-packages (from awscli) (5.4.1)\n",
            "Requirement already satisfied: colorama<0.4.5,>=0.2.5 in c:\\users\\guill\\.conda\\envs\\nlptfm\\lib\\site-packages (from awscli) (0.4.4)\n",
            "Requirement already satisfied: rsa<4.8,>=3.1.2 in c:\\users\\guill\\.conda\\envs\\nlptfm\\lib\\site-packages (from awscli) (4.7.2)\n",
            "Requirement already satisfied: jmespath<2.0.0,>=0.7.1 in c:\\users\\guill\\.conda\\envs\\nlptfm\\lib\\site-packages (from botocore==1.29.141->awscli) (1.0.1)\n",
            "Requirement already satisfied: urllib3<1.27,>=1.25.4 in c:\\users\\guill\\.conda\\envs\\nlptfm\\lib\\site-packages (from botocore==1.29.141->awscli) (1.26.13)\n",
            "Requirement already satisfied: contourpy>=1.0.1 in c:\\users\\guill\\.conda\\envs\\nlptfm\\lib\\site-packages (from matplotlib!=3.6.1,>=3.1->seaborn) (1.0.7)\n",
            "Requirement already satisfied: cycler>=0.10 in c:\\users\\guill\\.conda\\envs\\nlptfm\\lib\\site-packages (from matplotlib!=3.6.1,>=3.1->seaborn) (0.11.0)\n",
            "Requirement already satisfied: fonttools>=4.22.0 in c:\\users\\guill\\.conda\\envs\\nlptfm\\lib\\site-packages (from matplotlib!=3.6.1,>=3.1->seaborn) (4.39.4)\n",
            "Requirement already satisfied: kiwisolver>=1.0.1 in c:\\users\\guill\\.conda\\envs\\nlptfm\\lib\\site-packages (from matplotlib!=3.6.1,>=3.1->seaborn) (1.4.4)\n",
            "Requirement already satisfied: packaging>=20.0 in c:\\users\\guill\\.conda\\envs\\nlptfm\\lib\\site-packages (from matplotlib!=3.6.1,>=3.1->seaborn) (23.1)\n",
            "Requirement already satisfied: pillow>=6.2.0 in c:\\users\\guill\\.conda\\envs\\nlptfm\\lib\\site-packages (from matplotlib!=3.6.1,>=3.1->seaborn) (9.3.0)\n",
            "Requirement already satisfied: pyparsing>=2.3.1 in c:\\users\\guill\\.conda\\envs\\nlptfm\\lib\\site-packages (from matplotlib!=3.6.1,>=3.1->seaborn) (3.0.9)\n",
            "Requirement already satisfied: six>=1.5 in c:\\users\\guill\\.conda\\envs\\nlptfm\\lib\\site-packages (from python-dateutil>=2.8.2->pandas) (1.16.0)\n",
            "Requirement already satisfied: pyasn1>=0.1.3 in c:\\users\\guill\\.conda\\envs\\nlptfm\\lib\\site-packages (from rsa<4.8,>=3.1.2->awscli) (0.5.0)\n",
            "C:\\Users\\guill\\.conda\\envs\\nlptfm\\python.exe\n"
          ]
        }
      ],
      "source": [
        "# @title Setup & Config\n",
        "import os\n",
        "import subprocess\n",
        "import platform\n",
        "from IPython.display import clear_output\n",
        "import sys\n",
        "import time\n",
        "\n",
        "\n",
        "def setup():\n",
        "    libraries = \"\"\"torch\n",
        "        numpy\n",
        "        pandas\n",
        "        seaborn\n",
        "        matplotlib\n",
        "        scikit-learn\n",
        "        watermark\n",
        "        psutil\n",
        "        IProgress\n",
        "        sympy\n",
        "        filelock\n",
        "        jinja2\n",
        "        networkx\n",
        "        typing-extensions\n",
        "        IProgress\n",
        "        awscli\n",
        "        transformers\n",
        "        \"\"\".split()\n",
        "\n",
        "    with open('requirements.txt', 'w') as f:\n",
        "        f.write(\"\\n\".join(libraries))\n",
        "    \n",
        "    if platform.system() == 'Linux':\n",
        "        commands = [\n",
        "            # 'sudo update-alternatives --install /usr/bin/python3 python3 /usr/bin/python3.8 1',\n",
        "            # 'echo 2 | sudo update-alternatives --config python3',\n",
        "            # 'sudo apt install python3-pip',\n",
        "            'python -m pip install --upgrade pip',\n",
        "            'pip install -r requirements.txt',\n",
        "            'python3 --version'\n",
        "        ]\n",
        "        for command in commands:\n",
        "            output = subprocess.check_output(command, shell=True)\n",
        "            print(output.decode())\n",
        "            clear_output(wait=True)\n",
        "    elif platform.system() == 'Windows':\n",
        "        # Comandos para Windows\n",
        "        # !conda config --add channels nvidia\n",
        "        # !conda install --file requirements.txt -y\n",
        "        # !conda install pytorch torchvision torchaudio pytorch-cuda=11.8 -c pytorch -c nvidia\n",
        "        !pip install -qq watermark awscli\n",
        "        !pip install torch==2.0.0+cu118 torchvision==0.15.1+cu118 torchaudio==2.0.1 --index-url https://download.pytorch.org/whl/cu118\n",
        "        !pip install seaborn matplotlib scikit-learn scikit-learn IProgress\n",
        "        !pip install transformers\n",
        "        !pip install numpy pandas seaborn psutil sympy filelock jinja2 networkx typing-extensions awscli\n",
        "        pass\n",
        "\n",
        "setup()\n",
        "print(sys.executable)\n"
      ]
    },
    {
      "cell_type": "code",
      "execution_count": 3,
      "metadata": {
        "colab": {
          "base_uri": "https://localhost:8080/",
          "height": 35
        },
        "id": "RCUTrguQeaIn",
        "outputId": "9552dedc-5745-4ad6-a558-cc209168e488"
      },
      "outputs": [
        {
          "data": {
            "text/plain": [
              "'Windows'"
            ]
          },
          "execution_count": 3,
          "metadata": {},
          "output_type": "execute_result"
        }
      ],
      "source": [
        "platform.system()"
      ]
    },
    {
      "cell_type": "code",
      "execution_count": 4,
      "metadata": {},
      "outputs": [
        {
          "data": {
            "text/plain": [
              "'\\npara evitar que se ponga en off, hacer ctrol + shift + i y luego a consola\\nfunction ConnectButton(){\\n    console.log(\"Connect pushed\"); \\n    document.querySelector(\"#top-toolbar > colab-connect-button\").shadowRoot.querySelector(\"#connect\").click() \\n}\\nsetInterval(ConnectButton,60000);\\n'"
            ]
          },
          "execution_count": 4,
          "metadata": {},
          "output_type": "execute_result"
        }
      ],
      "source": [
        "'''\n",
        "para evitar que se ponga en off, hacer ctrol + shift + i y luego a consola\n",
        "function ConnectButton(){\n",
        "    console.log(\"Connect pushed\"); \n",
        "    document.querySelector(\"#top-toolbar > colab-connect-button\").shadowRoot.querySelector(\"#connect\").click() \n",
        "}\n",
        "setInterval(ConnectButton,60000);\n",
        "'''"
      ]
    },
    {
      "cell_type": "code",
      "execution_count": 5,
      "metadata": {
        "colab": {
          "base_uri": "https://localhost:8080/"
        },
        "id": "koEaZFXheaIn",
        "outputId": "aea430d7-9e7c-47a1-db7f-8bd20c2251f8"
      },
      "outputs": [
        {
          "name": "stdout",
          "output_type": "stream",
          "text": [
            "Collecting environment information...\n",
            "PyTorch version: 2.0.0+cu118\n",
            "Is debug build: False\n",
            "CUDA used to build PyTorch: 11.8\n",
            "ROCM used to build PyTorch: N/A\n",
            "\n",
            "OS: Microsoft Windows 10 Pro\n",
            "GCC version: Could not collect\n",
            "Clang version: Could not collect\n",
            "CMake version: Could not collect\n",
            "Libc version: N/A\n",
            "\n",
            "Python version: 3.10.11 | packaged by conda-forge | (main, May 10 2023, 18:51:25) [MSC v.1934 64 bit (AMD64)] (64-bit runtime)\n",
            "Python platform: Windows-10-10.0.19045-SP0\n",
            "Is CUDA available: True\n",
            "CUDA runtime version: 11.8.89\n",
            "\n",
            "CUDA_MODULE_LOADING set to: LAZY\n",
            "GPU models and configuration: GPU 0: NVIDIA GeForce GTX 1060 6GB\n",
            "Nvidia driver version: 531.79\n",
            "cuDNN version: Could not collect\n",
            "HIP runtime version: N/A\n",
            "MIOpen runtime version: N/A\n",
            "Is XNNPACK available: True\n",
            "\n",
            "CPU:\n",
            "Architecture=9\n",
            "\n",
            "\n",
            "CurrentClockSpeed=3700\n",
            "\n",
            "\n",
            "DeviceID=CPU0\n",
            "\n",
            "\n",
            "Family=107\n",
            "\n",
            "\n",
            "L2CacheSize=2048\n",
            "\n",
            "\n",
            "L2CacheSpeed=\n",
            "\n",
            "\n",
            "Manufacturer=AuthenticAMD\n",
            "\n",
            "\n",
            "MaxClockSpeed=3700\n",
            "\n",
            "\n",
            "Name=AMD Ryzen 5 1500X Quad-Core Processor          \n",
            "\n",
            "\n",
            "ProcessorType=3\n",
            "\n",
            "\n",
            "Revision=257\n",
            "\n",
            "Versions of relevant libraries:\n",
            "[pip3] numpy==1.24.1\n",
            "[pip3] torch==2.0.0+cu118\n",
            "[pip3] torchaudio==2.0.1+cu118\n",
            "[pip3] torchvision==0.15.1+cu118\n",
            "[conda] numpy                     1.24.1                   pypi_0    pypi\n",
            "[conda] torch                     2.0.0+cu118              pypi_0    pypi\n",
            "[conda] torchaudio                2.0.1+cu118              pypi_0    pypi\n",
            "[conda] torchvision               0.15.1+cu118             pypi_0    pypi\n"
          ]
        }
      ],
      "source": [
        "!python -m torch.utils.collect_env"
      ]
    },
    {
      "cell_type": "code",
      "execution_count": 6,
      "metadata": {
        "colab": {
          "base_uri": "https://localhost:8080/"
        },
        "id": "WNV6bKTIeaIo",
        "outputId": "2aa30bf2-88de-404f-c223-bd1510870a47"
      },
      "outputs": [
        {
          "data": {
            "text/plain": [
              "True"
            ]
          },
          "execution_count": 6,
          "metadata": {},
          "output_type": "execute_result"
        }
      ],
      "source": [
        "import torch\n",
        "# torch.cuda.device_count()\n",
        "torch.cuda.is_available()\n",
        "\n"
      ]
    },
    {
      "attachments": {},
      "cell_type": "markdown",
      "metadata": {
        "id": "lb-Rkj0PGaVF"
      },
      "source": [
        "## Setup\n",
        "\n",
        "We'll need [the Transformers library](https://huggingface.co/transformers/) by Hugging Face:"
      ]
    },
    {
      "cell_type": "code",
      "execution_count": 7,
      "metadata": {
        "colab": {
          "base_uri": "https://localhost:8080/"
        },
        "id": "FaVZzQ9oGNXp",
        "outputId": "a1207da0-86d3-434b-f4b6-81e9a11c4dad"
      },
      "outputs": [
        {
          "name": "stdout",
          "output_type": "stream",
          "text": [
            "C:\\Users\\guill\\.conda\\envs\\nlptfm\\python.exe\n",
            "C:\\Users\\guill\\AppData\\Local\\Microsoft\\WindowsApps\\python.exe\n"
          ]
        }
      ],
      "source": [
        "if platform.system() == 'Linux':\n",
        "    !which python\n",
        "    !pip install transformers -qq\n",
        "else:\n",
        "    !where python"
      ]
    },
    {
      "cell_type": "code",
      "execution_count": 8,
      "metadata": {
        "colab": {
          "base_uri": "https://localhost:8080/"
        },
        "id": "gT1yr3mHGljn",
        "outputId": "cdd58ddc-25a1-4ae9-f8b8-0016d5e4ff1a"
      },
      "outputs": [
        {
          "name": "stdout",
          "output_type": "stream",
          "text": [
            "Name: transformers\n",
            "Version: 4.29.2\n",
            "Summary: State-of-the-art Machine Learning for JAX, PyTorch and TensorFlow\n",
            "Home-page: https://github.com/huggingface/transformers\n",
            "Author: The Hugging Face team (past and future) with the help of all our contributors (https://github.com/huggingface/transformers/graphs/contributors)\n",
            "Author-email: transformers@huggingface.co\n",
            "License: Apache 2.0 License\n",
            "Location: c:\\users\\guill\\.conda\\envs\\nlptfm\\lib\\site-packages\n",
            "Requires: filelock, huggingface-hub, numpy, packaging, pyyaml, regex, requests, tokenizers, tqdm\n",
            "Required-by: \n",
            "---\n",
            "Name: torch\n",
            "Version: 2.0.0+cu118\n",
            "Summary: Tensors and Dynamic neural networks in Python with strong GPU acceleration\n",
            "Home-page: https://pytorch.org/\n",
            "Author: PyTorch Team\n",
            "Author-email: packages@pytorch.org\n",
            "License: BSD-3\n",
            "Location: c:\\users\\guill\\.conda\\envs\\nlptfm\\lib\\site-packages\n",
            "Requires: filelock, jinja2, networkx, sympy, typing-extensions\n",
            "Required-by: torchaudio, torchvision\n"
          ]
        }
      ],
      "source": [
        "!pip show transformers torch"
      ]
    },
    {
      "cell_type": "code",
      "execution_count": 9,
      "metadata": {
        "colab": {
          "base_uri": "https://localhost:8080/"
        },
        "id": "3gZ6z1LQGe-F",
        "outputId": "eb4cad96-eba8-4369-e025-e66f9960943f"
      },
      "outputs": [],
      "source": [
        "%reload_ext watermark\n",
        "%watermark -v -p numpy,pandas,torch,transformers"
      ]
    },
    {
      "cell_type": "code",
      "execution_count": 10,
      "metadata": {
        "colab": {
          "base_uri": "https://localhost:8080/"
        },
        "id": "phxWt3SHGogY",
        "outputId": "4cc75551-9951-43b3-b09e-98e824fdc6f9"
      },
      "outputs": [
        {
          "data": {
            "text/plain": [
              "device(type='cuda', index=0)"
            ]
          },
          "execution_count": 10,
          "metadata": {},
          "output_type": "execute_result"
        }
      ],
      "source": [
        "import transformers\n",
        "from transformers import BertModel, BertTokenizer, AdamW, get_linear_schedule_with_warmup\n",
        "import torch\n",
        "\n",
        "import numpy as np\n",
        "import pandas as pd\n",
        "import seaborn as sns\n",
        "from pylab import rcParams\n",
        "import matplotlib.pyplot as plt\n",
        "from matplotlib import rc\n",
        "from sklearn.model_selection import train_test_split\n",
        "from sklearn.metrics import confusion_matrix, classification_report, accuracy_score\n",
        "from collections import defaultdict\n",
        "from textwrap import wrap\n",
        "\n",
        "from torch import nn, optim\n",
        "from torch.utils.data import Dataset, DataLoader\n",
        "import torch.nn.functional as F\n",
        "\n",
        "\n",
        "pd.set_option('display.width', 144)\n",
        "pd.set_option('display.max_columns', None)\n",
        "\n",
        "if not os.path.exists('./sample_data'):\n",
        "    os.makedirs('./sample_data')\n",
        "\n",
        "%matplotlib inline\n",
        "%config InlineBackend.figure_format='retina'\n",
        "\n",
        "sns.set(style='whitegrid', palette='muted', font_scale=1.2)\n",
        "\n",
        "HAPPY_COLORS_PALETTE = [\"#01BEFE\", \"#FFDD00\", \"#FF7D00\", \"#FF006D\", \"#ADFF02\", \"#8F00FF\"]\n",
        "\n",
        "sns.set_palette(sns.color_palette(HAPPY_COLORS_PALETTE))\n",
        "\n",
        "rcParams['figure.figsize'] = 12, 8\n",
        "\n",
        "RANDOM_SEED = 42\n",
        "np.random.seed(RANDOM_SEED)\n",
        "torch.manual_seed(RANDOM_SEED)\n",
        "# seleccionamos la GPU si está disponible\n",
        "device = torch.device(\"cuda:0\" if torch.cuda.is_available() else \"cpu\")\n",
        "device"
      ]
    },
    {
      "attachments": {},
      "cell_type": "markdown",
      "metadata": {
        "id": "aABKlrKFM92G"
      },
      "source": [
        "## CONFIGURACIÓN DE LOS MODELOS PREENTRENADOS BERT\n",
        "\n",
        ">CONSULTAR LOS MODELOS PREENTRENADOS DISPONIBLES [AQUI](https://huggingface.co/transformers/pretrained_models.html)\n",
        "\n"
      ]
    },
    {
      "cell_type": "code",
      "execution_count": 11,
      "metadata": {
        "id": "yyTKvv4bdFX-"
      },
      "outputs": [],
      "source": [
        "def experimento(tipo: str, idioma: str):\n",
        "    \"\"\"\n",
        "    Configura y devuelve los parámetros para un experimento.\n",
        "\n",
        "    Parámetros\n",
        "    ----------\n",
        "    tipo : str\n",
        "        El tipo de experimento a realizar. Debe ser \"AMAZON\" o \"AGNEWS\".\n",
        "    idioma : str\n",
        "        El idioma del modelo pre-entrenado a utilizar. Debe ser \"EN\" o \"ES\".\n",
        "\n",
        "    Devoluciones\n",
        "    -------\n",
        "    int\n",
        "        El tamaño del lote a utilizar en el experimento.\n",
        "    int\n",
        "        El número de épocas a utilizar en el experimento.\n",
        "    float\n",
        "        La tasa de aprendizaje a utilizar en el experimento.\n",
        "    str\n",
        "        El nombre del modelo pre-entrenado a utilizar en el experimento.\n",
        "\n",
        "    \"\"\"\n",
        "    \n",
        "    experiment_params = {\n",
        "         \"AMAZON\": (16,2,1e-5),\n",
        "        # \"AMAZON\": (16,5,1e-5), # demasiado 5 epochs, casi 6h de entrenamiento. con 2 se consigue casi lo mismo. \n",
        "        # \"AMAZON\":(16, 4, 2e-5),\n",
        "        # \"AMAZON\": (16, 2, 5e-5),\n",
        "        \"AGNEWS\": (32, 4, 3e-5) \n",
        "    }\n",
        "    \n",
        "    model_names = {\n",
        "        \"ES\": 'dccuchile/bert-base-spanish-wwm-cased', # https://sparknlp.org/2021/09/07/bert_base_cased_es.html\n",
        "        # \"ES\": 'bert-base-multilingual-cased',\n",
        "        \"EN\": 'google/bert_uncased_L-4_H-256_A-4',\n",
        "    }\n",
        "    \n",
        "    if tipo.upper() not in experiment_params:\n",
        "        print(\"elige experimento\")\n",
        "        return\n",
        "    \n",
        "    if idioma.upper() not in model_names:\n",
        "        print(\"modelo no elegido\")\n",
        "        return\n",
        "    \n",
        "    BATCH_SIZE, EPOCHS, LEARNING_RATE = experiment_params[tipo.upper()]\n",
        "    PRE_TRAINED_MODEL_NAME = model_names[idioma.upper()]\n",
        "    \n",
        "    return BATCH_SIZE, EPOCHS, LEARNING_RATE, PRE_TRAINED_MODEL_NAME, tipo, idioma\n",
        "\n",
        "BATCH_SIZE, EPOCHS, LEARNING_RATE, PRE_TRAINED_MODEL_NAME, tipo, idioma = experimento(tipo = \"AGNEWS\", idioma =\"en\")"
      ]
    },
    {
      "cell_type": "code",
      "execution_count": 12,
      "metadata": {
        "colab": {
          "base_uri": "https://localhost:8080/"
        },
        "id": "CuIw7VhddzCv",
        "outputId": "f1462ed9-51ba-4ec2-ee33-19870b1b7735"
      },
      "outputs": [
        {
          "name": "stdout",
          "output_type": "stream",
          "text": [
            "BATCH_SIZE: 32\n",
            "LEARNING_RATE: 3e-05\n",
            "EPOCHS: 4\n",
            "PRE_TRAINED_MODEL_NAME: google/bert_uncased_L-4_H-256_A-4\n"
          ]
        }
      ],
      "source": [
        "print(f\"BATCH_SIZE: {BATCH_SIZE}\")\n",
        "print(f\"LEARNING_RATE: {LEARNING_RATE}\")\n",
        "print(f\"EPOCHS: {EPOCHS}\")\n",
        "print(f\"PRE_TRAINED_MODEL_NAME: {PRE_TRAINED_MODEL_NAME}\")\n",
        "print(f\"DATASET: {tipo}\")\n",
        "print(f\"Idioma: {idioma}\")"
      ]
    },
    {
      "attachments": {},
      "cell_type": "markdown",
      "metadata": {
        "id": "biJVRoiiGzbL"
      },
      "source": [
        "## Exploración de datos"
      ]
    },
    {
      "attachments": {},
      "cell_type": "markdown",
      "metadata": {
        "id": "kzfXwdbdUGOq"
      },
      "source": [
        "### download data"
      ]
    },
    {
      "cell_type": "code",
      "execution_count": 13,
      "metadata": {
        "id": "cxSM3-q9QI-D"
      },
      "outputs": [],
      "source": [
        "root_folder = \"./sample_data/\"\n",
        "\n",
        "if not os.path.isfile(os.path.join(root_folder,'news_category_train.csv')):\n",
        "    !wget https://raw.githubusercontent.com/JohnSnowLabs/spark-nlp-workshop/master/tutorials/Certification_Trainings/Public/data/news_category_train.csv -P ./sample_data -q\n",
        "if not os.path.isfile(os.path.join(root_folder,'news_category_test.csv')):\n",
        "    !wget https://raw.githubusercontent.com/JohnSnowLabs/spark-nlp-workshop/master/tutorials/Certification_Trainings/Public/data/news_category_test.csv -P ./sample_data -q"
      ]
    },
    {
      "cell_type": "code",
      "execution_count": 14,
      "metadata": {
        "colab": {
          "base_uri": "https://localhost:8080/"
        },
        "id": "GarGXlW2UFZ4",
        "outputId": "b1ca2e24-ebbb-4b4e-9b28-5d1cf78a76de"
      },
      "outputs": [
        {
          "data": {
            "text/plain": [
              "['dataset_es_test.json',\n",
              " 'dataset_es_train.json',\n",
              " 'news_category_test.csv',\n",
              " 'news_category_train.csv']"
            ]
          },
          "execution_count": 14,
          "metadata": {},
          "output_type": "execute_result"
        }
      ],
      "source": [
        "os.listdir(root_folder)"
      ]
    },
    {
      "cell_type": "code",
      "execution_count": 15,
      "metadata": {
        "colab": {
          "base_uri": "https://localhost:8080/",
          "height": 53
        },
        "id": "Z-8J7Hh9wrPP",
        "outputId": "0a39e8e9-1a45-4da9-c78d-916952435dd7"
      },
      "outputs": [
        {
          "data": {
            "text/plain": [
              "'\\n(trainingData, testData) = trainDataset.randomSplit([0.7, 0.3], seed = 100)\\nprint(\"Training Dataset Count: \" + str(trainingData.count()))\\nprint(\"Test Dataset Count: \" + str(testData.count()))\\n'"
            ]
          },
          "execution_count": 15,
          "metadata": {},
          "output_type": "execute_result"
        }
      ],
      "source": [
        "\n",
        "# Si queremos hacer el split al dataset\n",
        "'''\n",
        "(trainingData, testData) = trainDataset.randomSplit([0.7, 0.3], seed = 100)\n",
        "print(\"Training Dataset Count: \" + str(trainingData.count()))\n",
        "print(\"Test Dataset Count: \" + str(testData.count()))\n",
        "'''"
      ]
    },
    {
      "cell_type": "code",
      "execution_count": 16,
      "metadata": {
        "id": "KgwfSC1SQGsG"
      },
      "outputs": [],
      "source": [
        "# naming values\n",
        "traindata = root_folder + \"news_category_train.csv\"\n",
        "testdata = root_folder + \"news_category_test.csv\"\n"
      ]
    },
    {
      "cell_type": "code",
      "execution_count": 17,
      "metadata": {
        "colab": {
          "base_uri": "https://localhost:8080/"
        },
        "id": "BtH3Zwq37J1y",
        "outputId": "b617ece1-7d4b-427b-93cd-9e0f74fb7726"
      },
      "outputs": [
        {
          "name": "stdout",
          "output_type": "stream",
          "text": [
            "category,description\n",
            "Business,\" Short sellers, Wall Street's dwindling band of ultra cynics, are seeing green again.\"\n",
            "Business,\" Private investment firm Carlyle Group, which has a reputation for making well timed and occasionally controversial plays in the defense industry, has quietly placed its bets on another part of the market.\"\n",
            "Business, Soaring crude prices plus worries about the economy and the outlook for earnings are expected to hang over the stock market next week during the depth of the summer doldrums.\n",
            "Business,\" Authorities have halted oil export flows from the main pipeline in southern Iraq after intelligence showed a rebel militia could strike infrastructure, an oil official said on Saturday.\"\n",
            "Business,\" Tearaway world oil prices, toppling records and straining wallets, present a new economic menace barely three months before the US presidential elections.\"\n",
            "Business,\" Stocks ended slightly higher on Friday but stayed near lows for the year as oil prices surged past  #36;46 a barrel, offsetting a positive outlook from computer maker Dell Inc. (DELL.O)\"\n",
            "Business,\" Assets of the nation's retail money market mutual funds fell by  #36;1.17 billion in the latest week to  #36;849.98 trillion, the Investment Company Institute said Thursday.\"\n",
            "Business,\" Retail sales bounced back a bit in July, and new claims for jobless benefits fell last week, the government said Thursday, indicating the economy is improving from a midsummer slump.\"\n",
            "Business,\" After earning a PH.D. in Sociology, Danny Bazil Riley started to work as the general manager at a commercial real estate firm at an annual base salary of  #36;70,000. Soon after, a financial planner stopped by his desk to drop off brochures about insurance benefits available through his employer. But, at 32, \"\"buying insurance was the furthest thing from my mind,\"\" says Riley.\"\n"
          ]
        }
      ],
      "source": [
        "if platform.system() == 'Linux':\n",
        "    !head {traindata}\n",
        "else:\n",
        "    !powershell -command \"gc {traindata} | select -first 10 # head\""
      ]
    },
    {
      "cell_type": "code",
      "execution_count": 18,
      "metadata": {
        "colab": {
          "base_uri": "https://localhost:8080/",
          "height": 380
        },
        "id": "zSJVlvMYG3XY",
        "outputId": "769bb95e-a508-4714-9953-a0d4fa221aab"
      },
      "outputs": [
        {
          "name": "stdout",
          "output_type": "stream",
          "text": [
            "Tamaño total  (119998, 2)\n"
          ]
        },
        {
          "data": {
            "text/html": [
              "<div>\n",
              "<style scoped>\n",
              "    .dataframe tbody tr th:only-of-type {\n",
              "        vertical-align: middle;\n",
              "    }\n",
              "\n",
              "    .dataframe tbody tr th {\n",
              "        vertical-align: top;\n",
              "    }\n",
              "\n",
              "    .dataframe thead th {\n",
              "        text-align: right;\n",
              "    }\n",
              "</style>\n",
              "<table border=\"1\" class=\"dataframe\">\n",
              "  <thead>\n",
              "    <tr style=\"text-align: right;\">\n",
              "      <th></th>\n",
              "      <th>category</th>\n",
              "      <th>description</th>\n",
              "    </tr>\n",
              "  </thead>\n",
              "  <tbody>\n",
              "    <tr>\n",
              "      <th>0</th>\n",
              "      <td>Business</td>\n",
              "      <td>Short sellers, Wall Street's dwindling band o...</td>\n",
              "    </tr>\n",
              "    <tr>\n",
              "      <th>1</th>\n",
              "      <td>Business</td>\n",
              "      <td>Private investment firm Carlyle Group, which ...</td>\n",
              "    </tr>\n",
              "    <tr>\n",
              "      <th>2</th>\n",
              "      <td>Business</td>\n",
              "      <td>Soaring crude prices plus worries about the e...</td>\n",
              "    </tr>\n",
              "    <tr>\n",
              "      <th>3</th>\n",
              "      <td>Business</td>\n",
              "      <td>Authorities have halted oil export flows from...</td>\n",
              "    </tr>\n",
              "    <tr>\n",
              "      <th>4</th>\n",
              "      <td>Business</td>\n",
              "      <td>Tearaway world oil prices, toppling records a...</td>\n",
              "    </tr>\n",
              "    <tr>\n",
              "      <th>5</th>\n",
              "      <td>Business</td>\n",
              "      <td>Stocks ended slightly higher on Friday but st...</td>\n",
              "    </tr>\n",
              "    <tr>\n",
              "      <th>6</th>\n",
              "      <td>Business</td>\n",
              "      <td>Assets of the nation's retail money market mu...</td>\n",
              "    </tr>\n",
              "    <tr>\n",
              "      <th>7</th>\n",
              "      <td>Business</td>\n",
              "      <td>Retail sales bounced back a bit in July, and ...</td>\n",
              "    </tr>\n",
              "    <tr>\n",
              "      <th>8</th>\n",
              "      <td>Business</td>\n",
              "      <td>After earning a PH.D. in Sociology, Danny Baz...</td>\n",
              "    </tr>\n",
              "    <tr>\n",
              "      <th>9</th>\n",
              "      <td>Business</td>\n",
              "      <td>Short sellers, Wall Street's dwindling  band ...</td>\n",
              "    </tr>\n",
              "  </tbody>\n",
              "</table>\n",
              "</div>"
            ],
            "text/plain": [
              "   category                                        description\n",
              "0  Business   Short sellers, Wall Street's dwindling band o...\n",
              "1  Business   Private investment firm Carlyle Group, which ...\n",
              "2  Business   Soaring crude prices plus worries about the e...\n",
              "3  Business   Authorities have halted oil export flows from...\n",
              "4  Business   Tearaway world oil prices, toppling records a...\n",
              "5  Business   Stocks ended slightly higher on Friday but st...\n",
              "6  Business   Assets of the nation's retail money market mu...\n",
              "7  Business   Retail sales bounced back a bit in July, and ...\n",
              "8  Business   After earning a PH.D. in Sociology, Danny Baz...\n",
              "9  Business   Short sellers, Wall Street's dwindling  band ..."
            ]
          },
          "execution_count": 18,
          "metadata": {},
          "output_type": "execute_result"
        }
      ],
      "source": [
        "# from google.colab import data_table\n",
        "import json\n",
        "df = pd.read_csv(traindata, sep=\",\", engine=\"c\", on_bad_lines='skip').rename(\n",
        "    columns={\"review_body\": \"description\"})\n",
        "df_testdata = pd.read_csv(testdata, sep=\",\", engine=\"c\", on_bad_lines='skip').rename(\n",
        "    columns={\"review_body\": \"description\"})\n",
        "print(\"Tamaño total \", df.shape)\n",
        "\n",
        "\n",
        "df[:10]"
      ]
    },
    {
      "attachments": {},
      "cell_type": "markdown",
      "metadata": {
        "id": "rRKzWbPueY6M"
      },
      "source": [
        "# Describiendo las categorias:\n",
        "A diferencia del Amazon Reviews, AG News la columna \"categoria\" está presente en `df` y `df_testdata`. La columna \"categoria\" contiene la clasificacion (pre etiquetado) de las noticias que nos servirá para entrenar y probar nuestro modelo.\n",
        "\n",
        "`['Business', 'Sci/Tech', 'Sports', 'World']`\n",
        "\n",
        "Sin embargo, tenemos que codificar las etiquetas de categoria para el modelo BERT utlizando `LabelEncoder` de **sklearn**"
      ]
    },
    {
      "cell_type": "code",
      "execution_count": 19,
      "metadata": {
        "colab": {
          "base_uri": "https://localhost:8080/",
          "height": 206
        },
        "id": "yyymmQWTZsRK",
        "outputId": "efd47220-9d76-439d-af49-c66cddf08580"
      },
      "outputs": [
        {
          "data": {
            "text/html": [
              "<div>\n",
              "<style scoped>\n",
              "    .dataframe tbody tr th:only-of-type {\n",
              "        vertical-align: middle;\n",
              "    }\n",
              "\n",
              "    .dataframe tbody tr th {\n",
              "        vertical-align: top;\n",
              "    }\n",
              "\n",
              "    .dataframe thead th {\n",
              "        text-align: right;\n",
              "    }\n",
              "</style>\n",
              "<table border=\"1\" class=\"dataframe\">\n",
              "  <thead>\n",
              "    <tr style=\"text-align: right;\">\n",
              "      <th></th>\n",
              "      <th>category</th>\n",
              "      <th>description</th>\n",
              "    </tr>\n",
              "  </thead>\n",
              "  <tbody>\n",
              "    <tr>\n",
              "      <th>0</th>\n",
              "      <td>Business</td>\n",
              "      <td>Unions representing workers at Turner   Newall...</td>\n",
              "    </tr>\n",
              "    <tr>\n",
              "      <th>1</th>\n",
              "      <td>Sci/Tech</td>\n",
              "      <td>TORONTO, Canada    A second team of rocketeer...</td>\n",
              "    </tr>\n",
              "    <tr>\n",
              "      <th>2</th>\n",
              "      <td>Sci/Tech</td>\n",
              "      <td>A company founded by a chemistry researcher a...</td>\n",
              "    </tr>\n",
              "    <tr>\n",
              "      <th>3</th>\n",
              "      <td>Sci/Tech</td>\n",
              "      <td>It's barely dawn when Mike Fitzpatrick starts...</td>\n",
              "    </tr>\n",
              "    <tr>\n",
              "      <th>4</th>\n",
              "      <td>Sci/Tech</td>\n",
              "      <td>Southern California's smog fighting agency we...</td>\n",
              "    </tr>\n",
              "  </tbody>\n",
              "</table>\n",
              "</div>"
            ],
            "text/plain": [
              "   category                                        description\n",
              "0  Business  Unions representing workers at Turner   Newall...\n",
              "1  Sci/Tech   TORONTO, Canada    A second team of rocketeer...\n",
              "2  Sci/Tech   A company founded by a chemistry researcher a...\n",
              "3  Sci/Tech   It's barely dawn when Mike Fitzpatrick starts...\n",
              "4  Sci/Tech   Southern California's smog fighting agency we..."
            ]
          },
          "execution_count": 19,
          "metadata": {},
          "output_type": "execute_result"
        }
      ],
      "source": [
        "df_testdata[:5]"
      ]
    },
    {
      "cell_type": "code",
      "execution_count": 20,
      "metadata": {
        "id": "6XW5cat-R53V"
      },
      "outputs": [],
      "source": [
        "from sklearn import preprocessing\n",
        "le = preprocessing.LabelEncoder()\n",
        "df[\"category_encoded\"] = le.fit_transform(df.category)\n",
        "df_testdata[\"category_encoded\"] = le.fit_transform(df_testdata.category)"
      ]
    },
    {
      "cell_type": "code",
      "execution_count": 21,
      "metadata": {
        "colab": {
          "base_uri": "https://localhost:8080/"
        },
        "id": "sNU8baZyTJjG",
        "outputId": "05890da7-10b0-4af0-c345-c65bb5583e5d"
      },
      "outputs": [
        {
          "data": {
            "text/plain": [
              "array(['Business', 'Sci/Tech', 'Sports', 'World'], dtype=object)"
            ]
          },
          "execution_count": 21,
          "metadata": {},
          "output_type": "execute_result"
        }
      ],
      "source": [
        "le.classes_"
      ]
    },
    {
      "cell_type": "code",
      "execution_count": 22,
      "metadata": {
        "colab": {
          "base_uri": "https://localhost:8080/"
        },
        "id": "lQLfZ1_LeaIv",
        "outputId": "4b40f3e0-57f0-4d31-e7d4-c90a1284612f"
      },
      "outputs": [
        {
          "data": {
            "text/plain": [
              "category\n",
              "Sports      30000\n",
              "World       30000\n",
              "Business    29999\n",
              "Sci/Tech    29999\n",
              "Name: count, dtype: int64"
            ]
          },
          "execution_count": 22,
          "metadata": {},
          "output_type": "execute_result"
        }
      ],
      "source": [
        "df.category.value_counts()"
      ]
    },
    {
      "cell_type": "code",
      "execution_count": 23,
      "metadata": {
        "colab": {
          "base_uri": "https://localhost:8080/"
        },
        "id": "OakS3hFXeaIv",
        "outputId": "a4b0456b-fe74-4b88-c051-0fd026c056ae"
      },
      "outputs": [
        {
          "data": {
            "text/plain": [
              "category\n",
              "Business    1900\n",
              "Sci/Tech    1900\n",
              "Sports      1900\n",
              "World       1900\n",
              "Name: count, dtype: int64"
            ]
          },
          "execution_count": 23,
          "metadata": {},
          "output_type": "execute_result"
        }
      ],
      "source": [
        "df_testdata.category.value_counts()"
      ]
    },
    {
      "cell_type": "code",
      "execution_count": 24,
      "metadata": {
        "id": "zEfU48rvbrjw"
      },
      "outputs": [],
      "source": [
        "# igualamos el numero de ocurrencias por categoria para no tener bias.\n",
        "df_temp = pd.concat([\n",
        "    df.query(\"category=='Business'\")[:29999],\n",
        "    df.query(\"category=='Sci/Tech'\")[:29999],\n",
        "    df.query(\"category=='Sports'\")[:29999],\n",
        "    df.query(\"category=='World'\")[:29999]\n",
        "], ignore_index=True)\n",
        "df = df_temp"
      ]
    },
    {
      "cell_type": "code",
      "execution_count": 25,
      "metadata": {
        "colab": {
          "base_uri": "https://localhost:8080/",
          "height": 734
        },
        "id": "eINI59X63KGW",
        "outputId": "fb7a3f70-6995-4cb9-c221-a1397f042aa6"
      },
      "outputs": [
        {
          "data": {
            "image/png": "[encoded data removed]",
            "text/plain": [
              "<Figure size 1200x800 with 1 Axes>"
            ]
          },
          "metadata": {
            "image/png": {
              "height": 712,
              "width": 1037
            }
          },
          "output_type": "display_data"
        }
      ],
      "source": [
        "import matplotlib.pyplot as plt\n",
        "colors = [\n",
        "    \"#7f7f7f\",\n",
        "    \"#bcbd22\",\n",
        "    \"#17becf\",\n",
        "    \"#1a55FF\",\n",
        "    \"#1f77b4\",\n",
        "    \"#ff7f0e\",\n",
        "    \"#2ca02c\",\n",
        "    \"#d62728\",\n",
        "    \"#9467bd\",\n",
        "    \"#8c564b\",\n",
        "    \"#e377c2\",\n",
        "]\n",
        "# df.category.value_counts().where(lambda x: x > 1000).dropna().plot.bar(color=colors)\n",
        "category_counts = df.groupby([\"category\"]).count()[[\"description\"]].reset_index()\n",
        "\n",
        "plt.bar(category_counts.category,category_counts.description, color = colors)\n",
        "plt.xlabel(\"category\")\n",
        "plt.ylabel(\"Count\")\n",
        "plt.title(\"category Counts\")\n",
        "plt.show()"
      ]
    },
    {
      "attachments": {},
      "cell_type": "markdown",
      "metadata": {
        "id": "3_2hlTpKeaIw"
      },
      "source": [
        "# creamos tokenizador bert"
      ]
    },
    {
      "cell_type": "code",
      "execution_count": 26,
      "metadata": {
        "colab": {
          "base_uri": "https://localhost:8080/",
          "height": 81,
          "referenced_widgets": [
            "33273e045fa24c0ab1da3eb23bbde347",
            "01fda06fa5a44a259648e1cf91b94e56",
            "3deeda83c9d6443ba09f8a542069fe86",
            "e44f2d83563b466aacbac321aeb58bc0",
            "499f62fead9e412590782774e858a314",
            "bda012d168c54c7ea7b0cd3c51c30de3",
            "b61bf2ae5ea649a8b503436eb39ebb7d",
            "e34557bafb1645628184ff1cc49c1bbe",
            "6e3f9a4b07b747a9913ad4709214d930",
            "47adba611e654572bc56732d2e9915e4",
            "5b20058f941f4a5e9cb5c89db0bc2dc0",
            "948b7302dc8b4353bded8a8625bcd841",
            "66df9d63e5314dbb9e7a550f565d2357",
            "632ada5257ae4be1b69dbc0db4c64cef",
            "acb4d920bd0e4f0eac83121603465d96",
            "8ffbda09e0604471b452288c6a2038bc",
            "a94f271228684f6e964a98f25d481ce0",
            "9df282685a87476cb86068663c53839a",
            "4986deb40f4845cc83c9211b72cddfde",
            "15b53c5cb71845bfbed4fe163fb60474",
            "ab55d78e96b6424498f7da6bb97b00a0",
            "98b9caf5d4984453b1aac8d264431f4f"
          ]
        },
        "id": "XF6eVF1UKaow",
        "outputId": "4299f574-4242-475c-bd45-f2daec8f0791"
      },
      "outputs": [],
      "source": [
        "# creamos tokenizador bert\n",
        "tokenizer = BertTokenizer.from_pretrained(PRE_TRAINED_MODEL_NAME)"
      ]
    },
    {
      "cell_type": "code",
      "execution_count": 27,
      "metadata": {
        "colab": {
          "base_uri": "https://localhost:8080/"
        },
        "id": "SWWMYxnbKp7g",
        "outputId": "05ab2969-e43a-4ab5-8ef1-de3bc1e24224"
      },
      "outputs": [
        {
          "name": "stdout",
          "output_type": "stream",
          "text": [
            " Sentence: This time we are tokenizing an english sentence, as you can see its the same as in the spanish one.\n",
            "   Tokens: ['this', 'time', 'we', 'are', 'token', '##izing', 'an', 'english', 'sentence', ',', 'as', 'you', 'can', 'see', 'its', 'the', 'same', 'as', 'in', 'the', 'spanish', 'one', '.']\n",
            "Token IDs: [2023, 2051, 2057, 2024, 19204, 6026, 2019, 2394, 6251, 1010, 2004, 2017, 2064, 2156, 2049, 1996, 2168, 2004, 1999, 1996, 3009, 2028, 1012]\n"
          ]
        }
      ],
      "source": [
        "# frase ejemplo \n",
        "sample_txt = 'This time we are tokenizing an english sentence, as you can see its the same as in the spanish one.'\n",
        "# ejemplo tokenización manual (separando x listas )\n",
        "tokens = tokenizer.tokenize(sample_txt)\n",
        "token_ids = tokenizer.convert_tokens_to_ids(tokens)\n",
        "\n",
        "print(f' Sentence: {sample_txt}')\n",
        "print(f'   Tokens: {tokens}')\n",
        "print(f'Token IDs: {token_ids}')"
      ]
    },
    {
      "cell_type": "code",
      "execution_count": 28,
      "metadata": {
        "colab": {
          "base_uri": "https://localhost:8080/"
        },
        "id": "I_pzoJsWK6XG",
        "outputId": "2c0f1941-36cc-4759-ff99-c6bd251a1a13"
      },
      "outputs": [
        {
          "data": {
            "text/plain": [
              "dict_keys(['input_ids', 'attention_mask'])"
            ]
          },
          "execution_count": 28,
          "metadata": {},
          "output_type": "execute_result"
        }
      ],
      "source": [
        "# Mismo ejemplo pero preparandolo para Pytorch (tensors) con encode_plus\n",
        "\n",
        "sample_txt = r\"'The medic NPCs from half life 2 can heal you up to 20% of your health bar every 90 seconds.'\"\n",
        "\n",
        "\n",
        "encoding = tokenizer.encode_plus(\n",
        "  sample_txt,\n",
        "  max_length=32,\n",
        "  add_special_tokens=True, # Añadir '[CLS]' & '[SEP]'\n",
        "  return_token_type_ids=False,\n",
        "  padding='max_length',\n",
        "  return_attention_mask=True,\n",
        "  return_tensors='pt',  # Devolver PyTorch tensors\n",
        ")\n",
        "\n",
        "encoding.keys()\n"
      ]
    },
    {
      "cell_type": "code",
      "execution_count": 29,
      "metadata": {
        "colab": {
          "base_uri": "https://localhost:8080/"
        },
        "id": "807R1vytcB3u",
        "outputId": "21c1e4e2-ef4a-4ba8-d5b7-80f57b2ad3a7"
      },
      "outputs": [
        {
          "name": "stdout",
          "output_type": "stream",
          "text": [
            "--->longitud tokens: 32\n"
          ]
        },
        {
          "data": {
            "text/plain": [
              "['[CLS]',\n",
              " \"'\",\n",
              " 'the',\n",
              " 'med',\n",
              " '##ic',\n",
              " 'np',\n",
              " '##cs',\n",
              " 'from',\n",
              " 'half',\n",
              " 'life',\n",
              " '2',\n",
              " 'can',\n",
              " 'heal',\n",
              " 'you',\n",
              " 'up',\n",
              " 'to',\n",
              " '20',\n",
              " '%',\n",
              " 'of',\n",
              " 'your',\n",
              " 'health',\n",
              " 'bar',\n",
              " 'every',\n",
              " '90',\n",
              " 'seconds',\n",
              " '.',\n",
              " \"'\",\n",
              " '[SEP]',\n",
              " '[PAD]',\n",
              " '[PAD]',\n",
              " '[PAD]',\n",
              " '[PAD]']"
            ]
          },
          "execution_count": 29,
          "metadata": {},
          "output_type": "execute_result"
        }
      ],
      "source": [
        "# para ver los tokens (convertirlo a algo legible)\n",
        "print(f\"--->longitud tokens: {len(tokenizer.convert_ids_to_tokens(encoding['input_ids'][0]) )}\")\n",
        "tokenizer.convert_ids_to_tokens(encoding['input_ids'][0]) "
      ]
    },
    {
      "attachments": {},
      "cell_type": "markdown",
      "metadata": {
        "id": "-hnn6D5BLoyS"
      },
      "source": [
        "### Eligiendo la longitud de la secuencia (Sequence Length)\n",
        "\n",
        "BERT funciona bien con secuencias de igual tamaño (longitud). Se usa una estrategia simple para elegir la longitud maxima. \n",
        "\n",
        "Veamos la longitud de los tokens para cada review"
      ]
    },
    {
      "cell_type": "code",
      "execution_count": 30,
      "metadata": {
        "colab": {
          "base_uri": "https://localhost:8080/",
          "height": 938
        },
        "id": "egOCqTiwLiMG",
        "outputId": "0d86f53d-ef3b-4e04-80a1-f5d838037879"
      },
      "outputs": [
        {
          "name": "stderr",
          "output_type": "stream",
          "text": [
            "Truncation was not explicitly activated but `max_length` is provided a specific value, please use `truncation=True` to explicitly truncate examples to max length. Defaulting to 'longest_first' truncation strategy. If you encode pairs of sequences (GLUE-style) with the tokenizer you can select this strategy more precisely by providing a specific strategy to `truncation`.\n",
            "C:\\Users\\guill\\AppData\\Local\\Temp\\ipykernel_23752\\192746740.py:7: UserWarning: \n",
            "\n",
            "`distplot` is a deprecated function and will be removed in seaborn v0.14.0.\n",
            "\n",
            "Please adapt your code to use either `displot` (a figure-level function with\n",
            "similar flexibility) or `histplot` (an axes-level function for histograms).\n",
            "\n",
            "For a guide to updating your code to use the new functions, please see\n",
            "https://gist.github.com/mwaskom/de44147ed2974457ad6372750bbe5751\n",
            "\n",
            "  sns.distplot(token_lens)\n"
          ]
        },
        {
          "data": {
            "image/png": "[encoded data removed]",
            "text/plain": [
              "<Figure size 1200x800 with 1 Axes>"
            ]
          },
          "metadata": {
            "image/png": {
              "height": 689,
              "width": 1032
            }
          },
          "output_type": "display_data"
        }
      ],
      "source": [
        "token_lens = []\n",
        "\n",
        "for txt in df.description:\n",
        "  tokens = tokenizer.encode(txt, max_length=512)\n",
        "  token_lens.append(len(tokens))\n",
        "# lo visualizamos para hacernos una idea\n",
        "sns.distplot(token_lens)\n",
        "plt.xlim([0, 256]);\n",
        "plt.xlabel('Token count');\n",
        "\n",
        "# vemos a ojo el numero de tokens.\n",
        "# y asignamos un valor"
      ]
    },
    {
      "cell_type": "code",
      "execution_count": 31,
      "metadata": {
        "id": "dmYybzVbMAxE"
      },
      "outputs": [],
      "source": [
        "# valor para el numero de tokens por lote (ALGO RAZONABLE 160)\n",
        "MAX_LEN = 80"
      ]
    },
    {
      "attachments": {},
      "cell_type": "markdown",
      "metadata": {
        "id": "1YwSw-cnMJye"
      },
      "source": [
        "# Construir el dataset y dataloader"
      ]
    },
    {
      "cell_type": "code",
      "execution_count": 32,
      "metadata": {
        "id": "w_vUG1-PMI3J"
      },
      "outputs": [],
      "source": [
        "# construimos dataloader\n",
        "class MyDatasetBuilder(Dataset):\n",
        "    \"\"\"\n",
        "    Un conjunto de datos personalizado para cargar y tokenizar datos de revisión.\n",
        "\n",
        "    Atributos\n",
        "    ----------\n",
        "    reviews : numpy.ndarray\n",
        "        El texto a clasificar.\n",
        "    targets : numpy.ndarray\n",
        "        El topic/sentiment/objetivo.\n",
        "    tokenizer : transformers.PreTrainedTokenizer\n",
        "        El objeto tokenizer de Huggingface o transformación aplicada a los datos.\n",
        "    max_len : int\n",
        "        Número de tokens por frase.\n",
        "\n",
        "    Métodos\n",
        "    -------\n",
        "    __len__(self):\n",
        "        Devuelve la longitud del conjunto de datos.\n",
        "    __getitem__(self, item):\n",
        "        Devuelve un elemento del conjunto de datos.\n",
        "\n",
        "    \"\"\"\n",
        "    \n",
        "    def __init__(self, text_toclasify, targets, tokenizer, max_len):\n",
        "        \"\"\"\n",
        "        Inicializa el conjunto de datos con los datos y el tokenizador.\n",
        "\n",
        "        Parámetros\n",
        "        ----------\n",
        "        text_toclasify : numpy.ndarray\n",
        "            El texto a clasificar.\n",
        "        targets : numpy.ndarray\n",
        "            El topic/sentiment/objetivo.\n",
        "        tokenizer : transformers.PreTrainedTokenizer\n",
        "            El objeto tokenizer de Huggingface o transformación aplicada a los datos.\n",
        "        max_len : int\n",
        "            Número de tokens por frase.\n",
        "\n",
        "        \"\"\"\n",
        "        self.reviews = text_toclasify # el texto a clasificar\n",
        "        self.targets = targets # el topic/sentiment/objetivo.\n",
        "        self.tokenizer = tokenizer # el objeto tokenizer de Huggingface o transformación aplicada a los datos\n",
        "        self.max_len = max_len # número de tokens por frase\n",
        "\n",
        "    def __len__(self):\n",
        "        \"\"\"\n",
        "        Devuelve la longitud del conjunto de datos.\n",
        "\n",
        "        Devoluciones\n",
        "        -------\n",
        "        int\n",
        "            La longitud del conjunto de datos.\n",
        "\n",
        "        \"\"\"\n",
        "        return len(self.reviews)\n",
        "\n",
        "    def __getitem__(self, item):\n",
        "        \"\"\"\n",
        "        Devuelve un elemento del conjunto de datos.\n",
        "\n",
        "        Parámetros\n",
        "        ----------\n",
        "        item : int\n",
        "            El índice del elemento a devolver.\n",
        "\n",
        "        Devoluciones\n",
        "        -------\n",
        "        dict\n",
        "            Un diccionario que contiene el texto de revisión, los identificadores de entrada,\n",
        "            la máscara de atención y las etiquetas objetivo.\n",
        "\n",
        "        \"\"\"\n",
        "        \n",
        "        review = str(self.reviews[item])\n",
        "        target = self.targets[item]\n",
        "        \n",
        "        # Configuración del tokenizador.        \n",
        "        encoding = self.tokenizer.encode_plus(\n",
        "            review,\n",
        "            add_special_tokens=True,\n",
        "            max_length=self.max_len,\n",
        "            return_token_type_ids=False,\n",
        "            truncation=True,\n",
        "            padding='max_length',\n",
        "            return_attention_mask=True,\n",
        "            return_tensors='pt',\n",
        "         )\n",
        "        \n",
        "        # Devolvemos un diccionario con los input codificados.         \n",
        "        return {\n",
        "            'review_text': review,\n",
        "            'input_ids': encoding['input_ids'].flatten(),\n",
        "            'attention_mask': encoding['attention_mask'].flatten(),\n",
        "            'targets': torch.tensor(target, dtype=torch.long)\n",
        "        }\n"
      ]
    },
    {
      "attachments": {},
      "cell_type": "markdown",
      "metadata": {
        "id": "iIGTcSrSonjI"
      },
      "source": [
        "## Train-test split"
      ]
    },
    {
      "cell_type": "code",
      "execution_count": 33,
      "metadata": {
        "id": "c8DcdXh9ogcE"
      },
      "outputs": [],
      "source": [
        "df_train, df_test = train_test_split(df, test_size=0.1, random_state=RANDOM_SEED)\n",
        "# aqui añado los datos csv del segundo dataset `testdata`\n",
        "df_val, df_test2 = train_test_split(df_testdata, test_size=0.5, random_state=RANDOM_SEED)"
      ]
    },
    {
      "cell_type": "code",
      "execution_count": 34,
      "metadata": {
        "colab": {
          "base_uri": "https://localhost:8080/"
        },
        "id": "PC2UayEnosvF",
        "outputId": "e2f336ea-d567-4575-bad6-0a8988b30062"
      },
      "outputs": [
        {
          "name": "stdout",
          "output_type": "stream",
          "text": [
            "Training Dataset shape: (107996, 3)\n",
            "Evaluation Dataset shape: (3800, 3)\n",
            "Test Dataset shape: (12000, 3)\n"
          ]
        }
      ],
      "source": [
        "# df_train.shape, df_val.shape, df_test.shape\n",
        "\n",
        "print(\"Training Dataset shape: \" + str(df_train.shape))\n",
        "print(\"Evaluation Dataset shape: \" + str(df_val.shape))\n",
        "print(\"Test Dataset shape: \" + str(df_test.shape))"
      ]
    },
    {
      "cell_type": "code",
      "execution_count": 35,
      "metadata": {
        "id": "GK5MBVGfpOPi"
      },
      "outputs": [],
      "source": [
        "def create_data_loader(df, col_text, col_targets, tokenizer, max_len, batch_size):\n",
        "    \"\"\"\n",
        "    Crea un cargador de datos a partir de un DataFrame.\n",
        "\n",
        "    Parámetros\n",
        "    ----------\n",
        "    df : pandas.DataFrame\n",
        "        El DataFrame que contiene los datos.\n",
        "    col_text : str\n",
        "        El nombre de la columna que contiene el texto a clasificar.\n",
        "    col_targets : str\n",
        "        El nombre de la columna que contiene las etiquetas objetivo.\n",
        "    tokenizer : transformers.PreTrainedTokenizer\n",
        "        El tokenizador a utilizar para tokenizar el texto.\n",
        "    max_len : int\n",
        "        La longitud máxima de las secuencias tokenizadas.\n",
        "    batch_size : int\n",
        "        El tamaño del lote a utilizar al cargar los datos.\n",
        "\n",
        "    Output\n",
        "    -------\n",
        "    torch.utils.data.DataLoader\n",
        "        Un cargador de datos que proporciona lotes de datos para entrenamiento o evaluación.\n",
        "\n",
        "    \"\"\"\n",
        "    ds = MyDatasetBuilder(\n",
        "        text_toclasify=df[col_text].to_numpy(),\n",
        "        targets=df[col_targets].to_numpy(),\n",
        "        tokenizer=tokenizer,\n",
        "        max_len=max_len\n",
        "    )\n",
        "\n",
        "    return DataLoader(\n",
        "        ds,\n",
        "        batch_size=batch_size,\n",
        "        # Antes el número de workers era num_workers=4, pero para optimizar mejor el rendimiento el sistema pide 2\n",
        "        # en linux usar tantos como cores tenga. En windows mejor no utilizar y config a cero. \n",
        "        # en todo caso. Utilizar la GPU siempre que se pueda.\n",
        "        num_workers=0,\n",
        "        pin_memory=True\n",
        "    )\n"
      ]
    },
    {
      "cell_type": "code",
      "execution_count": 36,
      "metadata": {
        "colab": {
          "base_uri": "https://localhost:8080/"
        },
        "id": "YfbHCc1xqk60",
        "outputId": "65a40870-fdc5-4e8a-e034-be31ebc6bf1e"
      },
      "outputs": [
        {
          "data": {
            "text/plain": [
              "Index(['category', 'description', 'category_encoded'], dtype='object')"
            ]
          },
          "execution_count": 36,
          "metadata": {},
          "output_type": "execute_result"
        }
      ],
      "source": [
        "df.columns"
      ]
    },
    {
      "attachments": {},
      "cell_type": "markdown",
      "metadata": {},
      "source": [
        "### Incorporando datos al dataloader"
      ]
    },
    {
      "cell_type": "code",
      "execution_count": 37,
      "metadata": {
        "id": "G6fBbHlLYxH3"
      },
      "outputs": [],
      "source": [
        "### HAY QUE HACER ONE HOT ENCODING PARA PODER METERLO EN EL BERT"
      ]
    },
    {
      "cell_type": "code",
      "execution_count": 38,
      "metadata": {
        "id": "tZOu150Tqejy"
      },
      "outputs": [],
      "source": [
        "train_data_loader = create_data_loader(df_train, \"description\",\"category_encoded\", tokenizer, MAX_LEN, BATCH_SIZE)\n",
        "val_data_loader = create_data_loader(df_val,\"description\",\"category_encoded\",tokenizer, MAX_LEN, BATCH_SIZE)\n",
        "test_data_loader = create_data_loader(df_test,   \"description\",\"category_encoded\",tokenizer, MAX_LEN, BATCH_SIZE)"
      ]
    },
    {
      "cell_type": "code",
      "execution_count": 39,
      "metadata": {
        "colab": {
          "base_uri": "https://localhost:8080/"
        },
        "id": "aWgGXG45q1Cd",
        "outputId": "dc2d1298-5b28-420e-c912-36114296325e"
      },
      "outputs": [
        {
          "name": "stdout",
          "output_type": "stream",
          "text": [
            "keys train dataset dict_keys(['review_text', 'input_ids', 'attention_mask', 'targets'])\n",
            "torch.Size([32, 80])\n",
            "torch.Size([32, 80])\n",
            "torch.Size([32])\n"
          ]
        }
      ],
      "source": [
        "# vemos la estructura de un batch para el training\n",
        "data = next(iter(create_data_loader(df_train[:50], \"description\",\"category_encoded\", tokenizer, MAX_LEN, BATCH_SIZE)))\n",
        "print(\"keys train dataset\",data.keys())\n",
        "print(data['input_ids'].shape)\n",
        "print(data['attention_mask'].shape)\n",
        "print(data['targets'].shape)"
      ]
    },
    {
      "cell_type": "code",
      "execution_count": 40,
      "metadata": {
        "colab": {
          "base_uri": "https://localhost:8080/"
        },
        "id": "vnbVOR2nhbkH",
        "outputId": "4ba14dff-02e0-402f-c254-501d5f04f40a"
      },
      "outputs": [
        {
          "name": "stdout",
          "output_type": "stream",
          "text": [
            "keys evaluation dataset dict_keys(['review_text', 'input_ids', 'attention_mask', 'targets'])\n",
            "torch.Size([32, 80])\n",
            "torch.Size([32, 80])\n",
            "torch.Size([32])\n"
          ]
        }
      ],
      "source": [
        "data = next(iter(val_data_loader))\n",
        "print(\"keys evaluation dataset\",data.keys())\n",
        "print(data['input_ids'].shape)\n",
        "print(data['attention_mask'].shape)\n",
        "print(data['targets'].shape)"
      ]
    },
    {
      "cell_type": "code",
      "execution_count": 41,
      "metadata": {
        "id": "OMhPsjtHv5UE"
      },
      "outputs": [],
      "source": [
        "# cargamos el modelo BERT\n",
        "#creamos un clasificador BERT para realizar clasificaciones\n",
        "class SentimentClassifier(nn.Module):\n",
        "\n",
        "  def __init__(self, n_classes):\n",
        "    super(SentimentClassifier, self).__init__() # hereda propiedades y methods de otras clases. llama al init de otra clase.\n",
        "    # Cuando creamos nuestro modelo, podemos elegir el modelo base o pillar BertForSequenceClassification.from_pretrained(PRE_TRAINED_MODEL_NAME)\n",
        "    self.bert = BertModel.from_pretrained(PRE_TRAINED_MODEL_NAME)\n",
        "    self.drop = nn.Dropout(p=0.3) # dropout layer\n",
        "    self.out = nn.Linear(self.bert.config.hidden_size, n_classes)\n",
        "  \n",
        "  def forward(self, input_ids, attention_mask):\n",
        "    _, pooled_output = self.bert(\n",
        "      input_ids=input_ids,\n",
        "      attention_mask=attention_mask,\n",
        "      # es necesario añadirlo despues del cambio de la v3 a la v4\n",
        "      return_dict=False \n",
        "    )\n",
        "    output = self.drop(pooled_output)\n",
        "    return self.out(output)"
      ]
    },
    {
      "cell_type": "code",
      "execution_count": 42,
      "metadata": {
        "colab": {
          "base_uri": "https://localhost:8080/"
        },
        "id": "cTiTkP12znqi",
        "outputId": "d157d424-f5fe-4b14-d3a8-f51908201d1f"
      },
      "outputs": [
        {
          "name": "stdout",
          "output_type": "stream",
          "text": [
            "Numero de cagetorias: 4\n"
          ]
        }
      ],
      "source": [
        "class_names=le.classes_\n",
        "# print(f\"Numero de cagetorias: {len(class_names)}\")\n",
        "print(f\"Numero de cagetorias: {len(le.classes_)}\")"
      ]
    },
    {
      "attachments": {},
      "cell_type": "markdown",
      "metadata": {
        "id": "cd3En_92e3pt"
      },
      "source": [
        "## asignamos el modelo"
      ]
    },
    {
      "cell_type": "code",
      "execution_count": 43,
      "metadata": {
        "colab": {
          "base_uri": "https://localhost:8080/",
          "height": 121,
          "referenced_widgets": [
            "294c430ee0794a628d4c9731495d992c",
            "02a7852ba52440e1979836efb010947f",
            "db010bf7df854ff79e6704d289f71740",
            "f9aa5c1786a04e85950e23413f265625",
            "95590403490c42c4a6ad6682ff6820e3",
            "8ef7a81fe81945dfa29e6f35314ac2e4",
            "02e3500a3693472d8aec4e87b31b8abe",
            "8ba820c6f5174ce0804b6487c0480b79",
            "c1fb38e8e1284296a298e2b1946c2a25",
            "20974b98ae5a4c1f8afa61aa9d0bac24",
            "23e271c2423e44419158c85ae3af813b"
          ]
        },
        "id": "CzF5yPLCzUsW",
        "outputId": "6c5cea08-a458-4163-b1e0-56f2f403d149"
      },
      "outputs": [
        {
          "data": {
            "application/vnd.jupyter.widget-view+json": {
              "model_id": "d54f3e8922a14e10860c806d5e79a618",
              "version_major": 2,
              "version_minor": 0
            },
            "text/plain": [
              "Downloading pytorch_model.bin:   0%|          | 0.00/45.1M [00:00<?, ?B/s]"
            ]
          },
          "metadata": {},
          "output_type": "display_data"
        },
        {
          "name": "stderr",
          "output_type": "stream",
          "text": [
            "C:\\Users\\guill\\.conda\\envs\\nlptfm\\lib\\site-packages\\huggingface_hub\\file_download.py:133: UserWarning: `huggingface_hub` cache-system uses symlinks by default to efficiently store duplicated files but your machine does not support them in C:\\Users\\guill\\.cache\\huggingface\\hub. Caching files will still work but in a degraded version that might require more space on your disk. This warning can be disabled by setting the `HF_HUB_DISABLE_SYMLINKS_WARNING` environment variable. For more details, see https://huggingface.co/docs/huggingface_hub/how-to-cache#limitations.\n",
            "To support symlinks on Windows, you either need to activate Developer Mode or to run Python as an administrator. In order to see activate developer mode, see this article: https://docs.microsoft.com/en-us/windows/apps/get-started/enable-your-device-for-development\n",
            "  warnings.warn(message)\n",
            "Some weights of the model checkpoint at google/bert_uncased_L-4_H-256_A-4 were not used when initializing BertModel: ['cls.predictions.transform.dense.weight', 'cls.predictions.decoder.bias', 'cls.predictions.transform.dense.bias', 'cls.seq_relationship.weight', 'cls.predictions.transform.LayerNorm.weight', 'cls.predictions.transform.LayerNorm.bias', 'cls.predictions.bias', 'cls.seq_relationship.bias', 'cls.predictions.decoder.weight']\n",
            "- This IS expected if you are initializing BertModel from the checkpoint of a model trained on another task or with another architecture (e.g. initializing a BertForSequenceClassification model from a BertForPreTraining model).\n",
            "- This IS NOT expected if you are initializing BertModel from the checkpoint of a model that you expect to be exactly identical (initializing a BertForSequenceClassification model from a BertForSequenceClassification model).\n"
          ]
        }
      ],
      "source": [
        "# asignamos el modelo a un objeto, le pasamos como argumento el countdistinct de todas las etiquetas que tenemos.\n",
        "# y lo movemos a la memoria de la GPU\n",
        "\n",
        "model = SentimentClassifier(len(le.classes_))\n",
        "model = model.to(device)"
      ]
    },
    {
      "attachments": {},
      "cell_type": "markdown",
      "metadata": {
        "id": "g9xikRdtRN1N"
      },
      "source": [
        "### Training"
      ]
    },
    {
      "attachments": {},
      "cell_type": "markdown",
      "metadata": {
        "id": "76g7FV85H-T8"
      },
      "source": [
        "Para reproducir el procedimiento de entrenamiento del **documento BERT**  usaremos el optimizador [AdamW](https://huggingface.co/transformers/main_classes/optimizer_schedules.html#adamw) de Hugging Face. Corregirá el reparto/decadencia de pesos (weight decay), para que sea similar al documento original.  Tambien usaremos un planificador lineal (para la curva de aprendizaje) sin steps de calentamiento (warmup steps). "
      ]
    },
    {
      "cell_type": "code",
      "execution_count": 44,
      "metadata": {
        "colab": {
          "base_uri": "https://localhost:8080/"
        },
        "id": "5v-ArJ2fCCcU",
        "outputId": "0690b711-964a-4e22-f162-5b5e2ef419ac"
      },
      "outputs": [
        {
          "name": "stderr",
          "output_type": "stream",
          "text": [
            "C:\\Users\\guill\\.conda\\envs\\nlptfm\\lib\\site-packages\\transformers\\optimization.py:407: FutureWarning: This implementation of AdamW is deprecated and will be removed in a future version. Use the PyTorch implementation torch.optim.AdamW instead, or set `no_deprecation_warning=True` to disable this warning\n",
            "  warnings.warn(\n"
          ]
        }
      ],
      "source": [
        "# EPOCHS = 4 # 10\n",
        "# LEARNING_RATE = 2e-5\n",
        "optimizer = AdamW(model.parameters(), lr=LEARNING_RATE, correct_bias=False)\n",
        "total_steps = len(train_data_loader) * EPOCHS\n",
        "\n",
        "scheduler = get_linear_schedule_with_warmup(\n",
        "  optimizer,\n",
        "  num_warmup_steps=0,\n",
        "  num_training_steps=total_steps\n",
        ")\n",
        "# la funcion de perdida en este caso es entropia cruzada, que combina LogSoftMax y NLLLoss en una sola clase. Muy utilizada en ML y concretamente en clasificación multietiqueta. \n",
        "loss_fn = nn.CrossEntropyLoss().to(device)"
      ]
    },
    {
      "attachments": {},
      "cell_type": "markdown",
      "metadata": {
        "id": "A8522g7JIu5J"
      },
      "source": [
        "¿Cómo llegamos a la conclusion de usar este numero de hiperparámetros? Los autores de BERT tienen algunas recomendaciones para el ajuste fino: \n",
        "\n",
        "- Batch size: 16, 32\n",
        "- Learning rate (Adam): 5e-5, 3e-5, 2e-5\n",
        "- Number of epochs: 2, 3, 4\n",
        "\n",
        "Vamos a ignorar la recomendación del numero de \"vueltas\" *epochs* pero nos quedamos con el resto. A tener en cuenta, que al aumentar el tamaño del lote (batch size) se reduce significativamente el tiempo de entrenamiento a costas de una menor precision (lower accuracy).\n",
        "\n",
        "Escribimos una funcion auxiliar que nos ayude a entrenar nuestro modelo solo una vuelta."
      ]
    },
    {
      "cell_type": "code",
      "execution_count": 45,
      "metadata": {
        "id": "bzl9UhuNx1_Q"
      },
      "outputs": [],
      "source": [
        "def train_epoch(model, data_loader, loss_fn, optimizer, device, scheduler, n_examples):\n",
        "    \"\"\"\n",
        "    Entrena el modelo para una época.\n",
        "\n",
        "    Parámetros\n",
        "    ----------\n",
        "    model : torch.nn.Module\n",
        "        El modelo a entrenar.\n",
        "    data_loader : torch.utils.data.DataLoader\n",
        "        El cargador de datos que proporciona lotes de datos de entrenamiento.\n",
        "    loss_fn : callable\n",
        "        La función de pérdida a utilizar.\n",
        "    optimizer : torch.optim.Optimizer\n",
        "        El optimizador a utilizar para actualizar los parámetros del modelo.\n",
        "    device : torch.device\n",
        "        El dispositivo al que mover los datos (por ejemplo, 'cuda' o 'cpu').\n",
        "    scheduler : torch.optim.lr_scheduler._LRScheduler\n",
        "        El programador de tasa de aprendizaje a utilizar.\n",
        "    n_examples : int\n",
        "        El número de ejemplos en el conjunto de datos.\n",
        "\n",
        "    Output\n",
        "    -------\n",
        "    float\n",
        "        La precisión del modelo en los datos de entrenamiento.\n",
        "    float\n",
        "        La pérdida promedio del modelo en los datos de entrenamiento.\n",
        "\n",
        "    \"\"\"\n",
        "    model = model.train()\n",
        "\n",
        "    losses = []\n",
        "    correct_predictions = 0\n",
        "    # Aquí el Scheduler se llama cada vez que se alimenta otro lote (d) al modelo.\n",
        "    for d in data_loader:\n",
        "        input_ids = d[\"input_ids\"].to(device)\n",
        "        attention_mask = d[\"attention_mask\"].to(device)\n",
        "        targets = d[\"targets\"].to(device)\n",
        "        # Salidas del modelo \n",
        "        outputs = model(\n",
        "            input_ids=input_ids,\n",
        "            attention_mask=attention_mask\n",
        "        )\n",
        "\n",
        "        _, preds = torch.max(outputs, dim=1)\n",
        "        \n",
        "        loss = loss_fn(outputs, targets)\n",
        "\n",
        "        correct_predictions += torch.sum(preds == targets)\n",
        "        losses.append(loss.item())\n",
        "\n",
        "        loss.backward()\n",
        "        # Con clip_grad_norm normalizamos los parámetros del modelo evitando Gradient exploding\n",
        "        nn.utils.clip_grad_norm_(model.parameters(), max_norm=1.0)\n",
        "        optimizer.step()\n",
        "        scheduler.step()\n",
        "        optimizer.zero_grad()\n",
        "\n",
        "    return correct_predictions.double() / n_examples, np.mean(losses)\n"
      ]
    },
    {
      "attachments": {},
      "cell_type": "markdown",
      "metadata": {
        "id": "336WoqhwVwA9"
      },
      "source": [
        "# Evaluar el modelo\n",
        "funcion para evaluar el modelo y luego crear loop"
      ]
    },
    {
      "cell_type": "code",
      "execution_count": 46,
      "metadata": {
        "id": "yx4pU4RXVut0"
      },
      "outputs": [],
      "source": [
        "def eval_model(model, data_loader, loss_fn, device, n_examples):\n",
        "  \"\"\"\n",
        "  Evaluate the performance of a PyTorch model on a given dataset.\n",
        "\n",
        "  Parameters\n",
        "  ----------\n",
        "  model : torch.nn.Module\n",
        "      The PyTorch model to evaluate.\n",
        "  data_loader : torch.utils.data.DataLoader\n",
        "      The data loader for the dataset to evaluate on.\n",
        "  loss_fn : callable\n",
        "      The loss function to use for evaluation.\n",
        "  device : torch.device\n",
        "      The device (CPU or GPU) to use for evaluation.\n",
        "  n_examples : int\n",
        "      The total number of examples in the dataset.\n",
        "\n",
        "  Returns\n",
        "  -------\n",
        "  accuracy : float\n",
        "      The accuracy of the model on the dataset.\n",
        "  loss : float\n",
        "      The average loss of the model on the dataset.\n",
        "  \"\"\"\n",
        "  model = model.eval()\n",
        "\n",
        "  losses = []\n",
        "  correct_predictions = 0\n",
        "\n",
        "  with torch.no_grad():\n",
        "    for d in data_loader:\n",
        "      input_ids = d[\"input_ids\"].to(device)\n",
        "      attention_mask = d[\"attention_mask\"].to(device)\n",
        "      targets = d[\"targets\"].to(device)\n",
        "\n",
        "      outputs = model(\n",
        "        input_ids=input_ids,\n",
        "        attention_mask=attention_mask\n",
        "      )\n",
        "      _, preds = torch.max(outputs, dim=1)\n",
        "\n",
        "      loss = loss_fn(outputs, targets)\n",
        "\n",
        "      correct_predictions += torch.sum(preds == targets)\n",
        "      losses.append(loss.item())\n",
        "\n",
        "  return correct_predictions.double() / n_examples, np.mean(losses)"
      ]
    },
    {
      "attachments": {},
      "cell_type": "markdown",
      "metadata": {
        "id": "9c27XnwfWHoU"
      },
      "source": [
        "### loop de entrenamiento"
      ]
    },
    {
      "cell_type": "code",
      "execution_count": 47,
      "metadata": {
        "colab": {
          "base_uri": "https://localhost:8080/"
        },
        "id": "ANzYwBuiWG8X",
        "outputId": "ed3ee0ac-ef08-4867-a532-ccfe4cf87e43"
      },
      "outputs": [
        {
          "name": "stdout",
          "output_type": "stream",
          "text": [
            "Epoch 1/4\n",
            "----------\n",
            "Train loss 0.31787183158706733 accuracy 0.890570021111893\n",
            "Val   loss 0.26893890598992337 accuracy 0.9028947368421052\n",
            "Epoch 2/4\n",
            "----------\n",
            "Train loss 0.23343620666971912 accuracy 0.9206637282862328\n",
            "Val   loss 0.2596736442329002 accuracy 0.9121052631578948\n",
            "Epoch 3/4\n",
            "----------\n",
            "Train loss 0.20009349477594648 accuracy 0.9331919700729656\n",
            "Val   loss 0.2609626799665329 accuracy 0.9144736842105263\n",
            "Epoch 4/4\n",
            "----------\n",
            "Train loss 0.18035633258935477 accuracy 0.9403959405903922\n",
            "Val   loss 0.2674182500658917 accuracy 0.9126315789473683\n",
            "CPU times: total: 19min 39s\n",
            "Wall time: 19min 40s\n"
          ]
        }
      ],
      "source": [
        "%%time\n",
        "\n",
        "inicio = time.time()\n",
        "\n",
        "history = defaultdict(list)# creamos un diccionario de listas vacio, para añadir las vueltas\n",
        "best_accuracy = 0\n",
        "\n",
        "for epoch in range(EPOCHS):\n",
        "\n",
        "  print(f'Epoch {epoch + 1}/{EPOCHS}')\n",
        "  print('-' * 10)\n",
        "\n",
        "  train_acc, train_loss = train_epoch(\n",
        "    model,\n",
        "    train_data_loader,    \n",
        "    loss_fn, \n",
        "    optimizer, \n",
        "    device, \n",
        "    scheduler, \n",
        "    len(df_train)\n",
        "  )\n",
        "\n",
        "  print(f'Train loss {train_loss} accuracy {train_acc}')\n",
        "\n",
        "  val_acc, val_loss = eval_model(\n",
        "    model,\n",
        "    val_data_loader,\n",
        "    loss_fn, \n",
        "    device, \n",
        "    len(df_val)\n",
        "  )\n",
        "\n",
        "  print(f'Val   loss {val_loss} accuracy {val_acc}')\n",
        "\n",
        "  history['train_acc'].append(train_acc)\n",
        "  history['train_loss'].append(train_loss)\n",
        "  history['val_acc'].append(val_acc)\n",
        "  history['val_loss'].append(val_loss)\n",
        "  # almacenamos el mejor estado del modelo \n",
        "  if val_acc > best_accuracy:\n",
        "    torch.save(model.state_dict(), 'best_model_state.bin')\n",
        "    best_accuracy = val_acc\n",
        "    \n",
        "fin =  time.time() - inicio "
      ]
    },
    {
      "cell_type": "code",
      "execution_count": 48,
      "metadata": {
        "id": "dwld1s97UL6r"
      },
      "outputs": [],
      "source": [
        "if not os.path.exists('./modelos'):\n",
        "    os.makedirs('./modelos')"
      ]
    },
    {
      "cell_type": "code",
      "execution_count": 49,
      "metadata": {
        "id": "oLV3w1ONS6F0"
      },
      "outputs": [
        {
          "name": "stdout",
          "output_type": "stream",
          "text": [
            "modelo best_model_state.bin\n",
            " guardado en ../resultados/modelos/2023-05-27_10-45-07_bert_model_state_amazon_reviews_es.bin\n",
            "csv 2023-05-27_10-45-07_metadata.csv\n",
            " guardado en 2023-05-27_10-45-07_metadata.csv\n"
          ]
        }
      ],
      "source": [
        "# si el modelo es de nuestro agrado podemos guardarlo en drive\n",
        "import datetime\n",
        "import shutil\n",
        "\n",
        "\n",
        "def guardar_modelo(tipo, idioma,modelo='best_model_state.bin', ruta_guardado='../resultados/modelos/'):\n",
        "    \"\"\"\n",
        "    Guarda el modelo en la ruta especificada.\n",
        "\n",
        "    Args:\n",
        "        modelo: modelo a guardar.\n",
        "        ruta_guardado: ruta donde se guardará el modelo.\n",
        "    \"\"\"\n",
        "    # Crear la carpeta si no existe\n",
        "    carpeta_guardado = os.path.dirname(ruta_guardado)\n",
        "    if not os.path.exists(carpeta_guardado):\n",
        "        os.makedirs(carpeta_guardado)\n",
        "\n",
        "    # Generar el nombre del archivo con la fecha y hora actual\n",
        "    fecha_actual = datetime.datetime.now().strftime(r\"%Y-%m-%d_%H-%M-%S\")\n",
        "    nombre_archivo = f\"{fecha_actual}_{tipo}_bert_model_state_{idioma}.bin\"\n",
        "\n",
        "    \n",
        "    # Unir la ruta de la carpeta con el nombre del archivo\n",
        "    ruta_archivo = os.path.join(ruta_guardado, nombre_archivo)\n",
        "    shutil.move(modelo, ruta_archivo)\n",
        "    print(f\"modelo {modelo}\\n guardado en {ruta_archivo}\")\n",
        "\n",
        "def guardar_metadata(BATCH_SIZE, EPOCHS, LEARNING_RATE, PRE_TRAINED_MODEL_NAME, tipo, idioma, train_acc:torch.tensor, val_acc:torch.tensor, fin):\n",
        "    # donde se guardan por defecto\n",
        "    ruta_guardado = '../resultados/notas/'\n",
        "    ruta_guardado = os.path.dirname(ruta_guardado)    \n",
        "    \n",
        "    if not os.path.exists(ruta_guardado):\n",
        "        os.makedirs(ruta_guardado)\n",
        "    metadata = {\n",
        "        \"BATCH_SIZE\": [BATCH_SIZE],\n",
        "        \"EPOCHS\": [EPOCHS],\n",
        "        \"LEARNING_RATE\": [LEARNING_RATE],\n",
        "        \"PRE_TRAINED_MODEL_NAME\": [PRE_TRAINED_MODEL_NAME],\n",
        "        \"tipo\": [tipo],\n",
        "        \"idioma\": [idioma],\n",
        "        \"train_acc\": [train_acc.item()],\n",
        "        \"val_acc\": [val_acc.item()],\n",
        "        \"tiempo_seg\":[fin],\n",
        "    }\n",
        "    df = pd.DataFrame(metadata)\n",
        "    fecha_actual = datetime.datetime.now().strftime(\"%Y-%m-%d_%H-%M-%S\")\n",
        "    nombre_archivo = f\"{fecha_actual}_metadata.csv\"\n",
        "    ruta_archivo = os.path.join(ruta_guardado, nombre_archivo)\n",
        "    df.to_csv(ruta_archivo, index=False)\n",
        "    print(f\"csv {nombre_archivo}\\n guardado en {ruta_archivo}\")\n",
        "\n",
        "\n",
        "guardar_modelo(tipo, idioma)\n",
        "guardar_metadata(BATCH_SIZE, EPOCHS, LEARNING_RATE, PRE_TRAINED_MODEL_NAME, tipo, idioma, train_acc, val_acc, fin)  \n"
      ]
    },
    {
      "attachments": {},
      "cell_type": "markdown",
      "metadata": {
        "id": "wLQf52c7fbzr"
      },
      "source": [
        "Ahora podemos ver el historial de entrenamiento Vs la precisión de la validación."
      ]
    },
    {
      "cell_type": "code",
      "execution_count": 50,
      "metadata": {
        "colab": {
          "base_uri": "https://localhost:8080/"
        },
        "id": "YmN-bGhswU7q",
        "outputId": "0d4b52c6-bc40-4819-9683-b7893e5f0b4e"
      },
      "outputs": [
        {
          "data": {
            "text/plain": [
              "defaultdict(list,\n",
              "            {'train_acc': [tensor(0.8906, device='cuda:0', dtype=torch.float64),\n",
              "              tensor(0.9207, device='cuda:0', dtype=torch.float64),\n",
              "              tensor(0.9332, device='cuda:0', dtype=torch.float64),\n",
              "              tensor(0.9404, device='cuda:0', dtype=torch.float64)],\n",
              "             'train_loss': [0.31787183158706733,\n",
              "              0.23343620666971912,\n",
              "              0.20009349477594648,\n",
              "              0.18035633258935477],\n",
              "             'val_acc': [tensor(0.9029, device='cuda:0', dtype=torch.float64),\n",
              "              tensor(0.9121, device='cuda:0', dtype=torch.float64),\n",
              "              tensor(0.9145, device='cuda:0', dtype=torch.float64),\n",
              "              tensor(0.9126, device='cuda:0', dtype=torch.float64)],\n",
              "             'val_loss': [0.26893890598992337,\n",
              "              0.2596736442329002,\n",
              "              0.2609626799665329,\n",
              "              0.2674182500658917]})"
            ]
          },
          "execution_count": 50,
          "metadata": {},
          "output_type": "execute_result"
        }
      ],
      "source": [
        "history"
      ]
    },
    {
      "cell_type": "code",
      "execution_count": 51,
      "metadata": {
        "colab": {
          "base_uri": "https://localhost:8080/",
          "height": 734
        },
        "id": "-FWG7kBm372V",
        "outputId": "732d5353-38c0-453e-ddad-f6298bfdef0b"
      },
      "outputs": [
        {
          "data": {
            "image/png": "[encoded data removed]",
            "text/plain": [
              "<Figure size 1200x800 with 1 Axes>"
            ]
          },
          "metadata": {
            "image/png": {
              "height": 712,
              "width": 1022
            }
          },
          "output_type": "display_data"
        }
      ],
      "source": [
        "# plt.plot(history['train_acc'], label='train accuracy') # precisión de entrenamiento\n",
        "# plt.plot(history['val_acc'], label='validation accuracy') # precisión de validación.\n",
        "\n",
        "# plt.title('Historial de entrenamiento')\n",
        "# plt.ylabel('Accuracy')\n",
        "# plt.xlabel('Epoch')\n",
        "# plt.legend()\n",
        "# plt.ylim([0, 1]);\n",
        "\n",
        "# Convertir los tensores de precisión a listas de Python\n",
        "train_acc = [x.item() for x in history['train_acc']]\n",
        "val_acc = [x.item() for x in history['val_acc']]\n",
        "\n",
        "# Crear un DataFrame con la precisión de entrenamiento y validación por época\n",
        "df = pd.DataFrame({'Epoch': range(1, len(train_acc) + 1), 'Train Accuracy': train_acc, 'Validation Accuracy': val_acc})\n",
        "\n",
        "# Utilizar el método melt para reorganizar el DataFrame para la visualización\n",
        "df_melted = pd.melt(df, id_vars=['Epoch'], value_vars=['Train Accuracy', 'Validation Accuracy'], var_name='Data', value_name='Accuracy')\n",
        "\n",
        "# aplicar gráfico\n",
        "sns.lineplot(data=df_melted, x='Epoch', y='Accuracy', hue='Data')\n",
        "plt.title('Accuracy by Epoch')\n",
        "plt.show()\n"
      ]
    },
    {
      "attachments": {},
      "cell_type": "markdown",
      "metadata": {
        "id": "U3HZb3NWFtFf"
      },
      "source": [
        "## Evaluacion\n",
        "Como sabemos que nuestro modelo está prediciendo bien? Se empieza calculando la precisión en nuestro set de prueba."
      ]
    },
    {
      "cell_type": "code",
      "execution_count": 52,
      "metadata": {
        "colab": {
          "base_uri": "https://localhost:8080/"
        },
        "id": "jS3gJ_qBEljD",
        "outputId": "b46ddeb1-c340-4323-c3ff-44d20082d223"
      },
      "outputs": [
        {
          "data": {
            "text/plain": [
              "0.9208333333333333"
            ]
          },
          "execution_count": 52,
          "metadata": {},
          "output_type": "execute_result"
        }
      ],
      "source": [
        "test_acc, _ = eval_model(\n",
        "  model,\n",
        "  test_data_loader,\n",
        "  loss_fn,\n",
        "  device,\n",
        "  len(df_test)\n",
        ")\n",
        "\n",
        "test_acc.item()"
      ]
    },
    {
      "attachments": {},
      "cell_type": "markdown",
      "metadata": {
        "id": "mdQ7-ylCj8Gd"
      },
      "source": [
        "La precisión es casi un 1% mas baja que en la de validación. Nuestro modelo parece generalizar bien.\n",
        "\n",
        "Este modelo con tan solo 40MB de peso y 4 epochs nos ha permitido alcanzar casi un 90% de accuracy en menos de 15 min utilizando GPU.\n",
        "\n",
        "Ahora definimos una función para ayudarnos a tomar predicciones de nuestro modelo:\n",
        "\n",
        "\n",
        "La función siguiente `get_predictions` toma un modelo y un cargador de datos como argumentos y devuelve las predicciones del modelo, las probabilidades de predicción y los valores reales para los datos en el cargador de datos.\n",
        "\n",
        "La función comienza poniendo el modelo en modo de evaluación con `model.eval()`. Luego, inicializa cuatro listas vacías para almacenar los textos de revisión, las predicciones, las probabilidades de predicción y los valores reales.\n",
        "\n",
        "La función itera sobre los lotes de datos en el cargador de datos utilizando un bucle `for`. Para cada lote, extrae el texto de revisión, los identificadores de entrada, la máscara de atención y las etiquetas objetivo del lote y los mueve al dispositivo especificado.\n",
        "\n",
        "Luego, la función pasa los identificadores de entrada y la máscara de atención al modelo para obtener las salidas del modelo. Utiliza `torch.max` para obtener las predicciones del modelo y `F.softmax` para obtener las probabilidades de predicción.\n",
        "\n",
        "La función agrega el texto de revisión, las predicciones, las probabilidades de predicción y las etiquetas objetivo a las listas correspondientes. Después de iterar sobre todos los lotes en el cargador de datos, la función apila las listas de predicciones, probabilidades de predicción y valores reales utilizando `torch.stack` y las mueve a la CPU.\n",
        "\n",
        "Finalmente, la función devuelve las cuatro listas: `review_texts`, `predictions`, `prediction_probs` y `real_values`."
      ]
    },
    {
      "cell_type": "code",
      "execution_count": 53,
      "metadata": {
        "id": "EgR6MuNS8jr_"
      },
      "outputs": [],
      "source": [
        "def get_predictions(model, data_loader):\n",
        "  \"\"\"\n",
        "    Función para obtener predicciones de un modelo PyTorch.\n",
        "\n",
        "    Parameters\n",
        "    ----------\n",
        "    model : torch.nn.Module\n",
        "        Modelo de PyTorch ya entrenado.\n",
        "    data_loader : torch.utils.data.DataLoader\n",
        "        DataLoader de PyTorch que contiene los datos de entrada.\n",
        "\n",
        "    Returns\n",
        "    -------\n",
        "    tuple\n",
        "        Una tupla que contiene las siguientes listas:\n",
        "        - review_texts: Lista de cadenas de texto que representan las reseñas.\n",
        "        - predictions: Lista de predicciones para cada reseña.\n",
        "        - prediction_probs: Lista de probabilidades de predicción para cada reseña.\n",
        "        - real_values: Lista de valores reales para cada reseña.\n",
        "  \"\"\"\n",
        "\n",
        "  model = model.eval()\n",
        "  \n",
        "  review_texts = []\n",
        "  predictions = []\n",
        "  prediction_probs = []\n",
        "  real_values = []\n",
        "\n",
        "  with torch.no_grad():\n",
        "    for d in data_loader:\n",
        "\n",
        "      texts = d[\"review_text\"]\n",
        "      input_ids = d[\"input_ids\"].to(device)\n",
        "      attention_mask = d[\"attention_mask\"].to(device)\n",
        "      targets = d[\"targets\"].to(device)\n",
        "\n",
        "      outputs = model(\n",
        "        input_ids=input_ids,\n",
        "        attention_mask=attention_mask\n",
        "      )\n",
        "      _, preds = torch.max(outputs, dim=1)\n",
        "\n",
        "      probs = F.softmax(outputs, dim=1)\n",
        "\n",
        "      review_texts.extend(texts)\n",
        "      predictions.extend(preds)\n",
        "      prediction_probs.extend(probs)\n",
        "      real_values.extend(targets)\n",
        "\n",
        "  predictions = torch.stack(predictions).cpu()\n",
        "  prediction_probs = torch.stack(prediction_probs).cpu()\n",
        "  real_values = torch.stack(real_values).cpu()\n",
        "  return review_texts, predictions, prediction_probs, real_values"
      ]
    },
    {
      "attachments": {},
      "cell_type": "markdown",
      "metadata": {
        "id": "dkbnBTI7kd_y"
      },
      "source": [
        "Esto es similar a la función de evaluación, excepto que almacenamos el texto de las Noticias y las predicciones. (aplicando la función softmax en la salida del modelo):\n"
      ]
    },
    {
      "cell_type": "code",
      "execution_count": 54,
      "metadata": {
        "id": "zHdPZr60-0c_"
      },
      "outputs": [],
      "source": [
        "y_review_texts, y_pred, y_pred_probs, y_test = get_predictions(\n",
        "  model,\n",
        "  test_data_loader\n",
        ")"
      ]
    },
    {
      "attachments": {},
      "cell_type": "markdown",
      "metadata": {
        "id": "gVwoVij2lC7F"
      },
      "source": [
        "Veeamos el informe de la clasificación."
      ]
    },
    {
      "cell_type": "code",
      "execution_count": 55,
      "metadata": {
        "colab": {
          "base_uri": "https://localhost:8080/"
        },
        "id": "L8a9_8-ND3Is",
        "outputId": "a63642ff-cdff-439d-8fa7-59774f957752"
      },
      "outputs": [
        {
          "name": "stdout",
          "output_type": "stream",
          "text": [
            "              precision    recall  f1-score   support\n",
            "\n",
            "    Business       0.89      0.89      0.89      3062\n",
            "    Sci/Tech       0.90      0.89      0.89      2993\n",
            "      Sports       0.97      0.98      0.98      3006\n",
            "       World       0.93      0.92      0.92      2939\n",
            "\n",
            "    accuracy                           0.92     12000\n",
            "   macro avg       0.92      0.92      0.92     12000\n",
            "weighted avg       0.92      0.92      0.92     12000\n",
            "\n",
            "0.9208333333333333\n"
          ]
        }
      ],
      "source": [
        "print(classification_report(y_test, y_pred, target_names=class_names))\n",
        "print(accuracy_score(y_test, y_pred))"
      ]
    },
    {
      "attachments": {},
      "cell_type": "markdown",
      "metadata": {
        "id": "rFAekw3mmWUi"
      },
      "source": [
        "VER SI ESTA EVALUANDO CORRECTAMENTE.\n",
        "\n",
        "La matriz de confusión:"
      ]
    },
    {
      "cell_type": "code",
      "execution_count": 56,
      "metadata": {
        "colab": {
          "base_uri": "https://localhost:8080/",
          "height": 749
        },
        "id": "6d1qxsc__DTh",
        "outputId": "fbbb624e-3fd9-4baa-ac42-e5c3b6689210"
      },
      "outputs": [
        {
          "data": {
            "image/png": "[encoded data removed]",
            "text/plain": [
              "<Figure size 1200x800 with 2 Axes>"
            ]
          },
          "metadata": {
            "image/png": {
              "height": 724,
              "width": 1006
            }
          },
          "output_type": "display_data"
        }
      ],
      "source": [
        "# def show_confusion_matrix(confusion_matrix):\n",
        "#   hmap = sns.heatmap(confusion_matrix, annot=True, fmt=\"d\", cmap=\"Blues\")\n",
        "#   hmap.yaxis.set_ticklabels(hmap.yaxis.get_ticklabels(), rotation=0, ha='right')\n",
        "#   hmap.xaxis.set_ticklabels(hmap.xaxis.get_ticklabels(), rotation=30, ha='right')\n",
        "#   plt.ylabel('True category')\n",
        "#   plt.xlabel('Predicted category');\n",
        "\n",
        "\n",
        "def show_confusion_matrix(confusion_matrix):\n",
        "    \"\"\"\n",
        "    Muestra una matriz de confusión utilizando una mapa de calor.\n",
        "\n",
        "    Parameters\n",
        "    ----------\n",
        "    confusion_matrix : numpy.ndarray\n",
        "        Una matriz de confusión de forma (n_classes, n_classes) donde las filas representan las categorías verdaderas y las columnas representan las categorías predichas.\n",
        "\n",
        "    Returns\n",
        "    -------\n",
        "    None\n",
        "    \"\"\"\n",
        "    sns.heatmap(confusion_matrix, annot=True, fmt=\"d\", cmap=\"Blues\")\n",
        "    plt.yticks(rotation=0)\n",
        "    plt.xticks(rotation=30)\n",
        "    plt.ylabel('Categoría verdadera')\n",
        "    plt.xlabel('Categoría predicha');\n",
        "\n",
        "\n",
        "cm = confusion_matrix(y_test, y_pred)\n",
        "df_cm = pd.DataFrame(cm, index=class_names, columns=class_names)\n",
        "show_confusion_matrix(df_cm)"
      ]
    },
    {
      "cell_type": "code",
      "execution_count": 57,
      "metadata": {
        "colab": {
          "base_uri": "https://localhost:8080/",
          "height": 35
        },
        "id": "BbjNCs5IXRj-",
        "outputId": "faf6c9f8-9857-4fd9-ac5e-e49f0eb96804"
      },
      "outputs": [
        {
          "data": {
            "text/plain": [
              "'\\nComo podemos observar, al modelo le cuesta diferenciar entre ciencia y tecnología\\n\\ny Negocios, estas categorias agrupan la mayor concentración de falsos positivos.\\n'"
            ]
          },
          "execution_count": 57,
          "metadata": {},
          "output_type": "execute_result"
        }
      ],
      "source": [
        "## VER AQUI FALSOS POSITIVOS Y AJUSTE\n",
        "'''\n",
        "Como podemos observar, al modelo le cuesta diferenciar entre ciencia y tecnología\\n\n",
        "y Negocios, estas categorias agrupan la mayor concentración de falsos positivos.\n",
        "'''"
      ]
    },
    {
      "cell_type": "code",
      "execution_count": 58,
      "metadata": {
        "id": "iANBiY3sLo-K"
      },
      "outputs": [],
      "source": [
        "idx = 2\n",
        "\n",
        "review_text = y_review_texts[idx]\n",
        "true_category = y_test[idx]\n",
        "pred_df = pd.DataFrame({\n",
        "  'class_names': class_names,\n",
        "  'values': y_pred_probs[idx]\n",
        "})"
      ]
    },
    {
      "cell_type": "code",
      "execution_count": 59,
      "metadata": {
        "colab": {
          "base_uri": "https://localhost:8080/"
        },
        "id": "-8D0rb1yfnv4",
        "outputId": "ccb535f5-5ebf-47af-9c93-fdd9cbf1e5cd"
      },
      "outputs": [
        {
          "name": "stdout",
          "output_type": "stream",
          "text": [
            "IBM signed a definitive agreement to acquire Venetica, a privately\n",
            "held company based in Charlotte, North Carolina. The acquisition is\n",
            "expected to close in the fourth-quarter.\n",
            "\n",
            "True category: Sci/Tech\n"
          ]
        }
      ],
      "source": [
        "print(\"\\n\".join(wrap(review_text)))\n",
        "print()\n",
        "print(f'True category: {class_names[true_category]}')"
      ]
    },
    {
      "attachments": {},
      "cell_type": "markdown",
      "metadata": {
        "id": "f7hj_IZFnn2X"
      },
      "source": [
        "Ahora podemos mirar la confianza de cada clasificación de nuestro modelo:"
      ]
    },
    {
      "cell_type": "code",
      "execution_count": 60,
      "metadata": {
        "colab": {
          "base_uri": "https://localhost:8080/",
          "height": 710
        },
        "id": "XmdTvuIXXsVq",
        "outputId": "86d048da-7b68-457b-e69d-db981600cd4b"
      },
      "outputs": [
        {
          "data": {
            "image/png": "[encoded data removed]",
            "text/plain": [
              "<Figure size 1200x800 with 1 Axes>"
            ]
          },
          "metadata": {
            "image/png": {
              "height": 689,
              "width": 1073
            }
          },
          "output_type": "display_data"
        }
      ],
      "source": [
        "# VER LA CONFIANZA DE LA PREDICCIÓN DEL EJEMPLO ANTERIOR.\n",
        "sns.barplot(x='values', y='class_names', data=pred_df, orient='h')\n",
        "plt.ylabel('category')\n",
        "plt.xlabel('probability')\n",
        "plt.xlim([0, 1]);"
      ]
    },
    {
      "cell_type": "code",
      "execution_count": 61,
      "metadata": {
        "id": "fuYBm45CGlkD"
      },
      "outputs": [],
      "source": [
        "if platform.system() == 'Linux':\n",
        "    from google.colab import runtime\n",
        "    runtime.unassign()"
      ]
    }
  ],
  "metadata": {
    "accelerator": "GPU",
    "colab": {
      "gpuType": "T4",
      "provenance": []
    },
    "gpuClass": "standard",
    "kernelspec": {
      "display_name": "Python 3 (ipykernel)",
      "language": "python",
      "name": "python3"
    },
    "widgets": {
      "application/vnd.jupyter.widget-state+json": {
        "01fda06fa5a44a259648e1cf91b94e56": {
          "model_module": "@jupyter-widgets/controls",
          "model_module_version": "1.5.0",
          "model_name": "HTMLModel",
          "state": {
            "_dom_classes": [],
            "_model_module": "@jupyter-widgets/controls",
            "_model_module_version": "1.5.0",
            "_model_name": "HTMLModel",
            "_view_count": null,
            "_view_module": "@jupyter-widgets/controls",
            "_view_module_version": "1.5.0",
            "_view_name": "HTMLView",
            "description": "",
            "description_tooltip": null,
            "layout": "IPY_MODEL_bda012d168c54c7ea7b0cd3c51c30de3",
            "placeholder": "​",
            "style": "IPY_MODEL_b61bf2ae5ea649a8b503436eb39ebb7d",
            "value": "Downloading (…)solve/main/vocab.txt: 100%"
          }
        },
        "02a7852ba52440e1979836efb010947f": {
          "model_module": "@jupyter-widgets/controls",
          "model_module_version": "1.5.0",
          "model_name": "HTMLModel",
          "state": {
            "_dom_classes": [],
            "_model_module": "@jupyter-widgets/controls",
            "_model_module_version": "1.5.0",
            "_model_name": "HTMLModel",
            "_view_count": null,
            "_view_module": "@jupyter-widgets/controls",
            "_view_module_version": "1.5.0",
            "_view_name": "HTMLView",
            "description": "",
            "description_tooltip": null,
            "layout": "IPY_MODEL_8ef7a81fe81945dfa29e6f35314ac2e4",
            "placeholder": "​",
            "style": "IPY_MODEL_02e3500a3693472d8aec4e87b31b8abe",
            "value": "Downloading pytorch_model.bin: 100%"
          }
        },
        "02e3500a3693472d8aec4e87b31b8abe": {
          "model_module": "@jupyter-widgets/controls",
          "model_module_version": "1.5.0",
          "model_name": "DescriptionStyleModel",
          "state": {
            "_model_module": "@jupyter-widgets/controls",
            "_model_module_version": "1.5.0",
            "_model_name": "DescriptionStyleModel",
            "_view_count": null,
            "_view_module": "@jupyter-widgets/base",
            "_view_module_version": "1.2.0",
            "_view_name": "StyleView",
            "description_width": ""
          }
        },
        "15b53c5cb71845bfbed4fe163fb60474": {
          "model_module": "@jupyter-widgets/controls",
          "model_module_version": "1.5.0",
          "model_name": "ProgressStyleModel",
          "state": {
            "_model_module": "@jupyter-widgets/controls",
            "_model_module_version": "1.5.0",
            "_model_name": "ProgressStyleModel",
            "_view_count": null,
            "_view_module": "@jupyter-widgets/base",
            "_view_module_version": "1.2.0",
            "_view_name": "StyleView",
            "bar_color": null,
            "description_width": ""
          }
        },
        "20974b98ae5a4c1f8afa61aa9d0bac24": {
          "model_module": "@jupyter-widgets/base",
          "model_module_version": "1.2.0",
          "model_name": "LayoutModel",
          "state": {
            "_model_module": "@jupyter-widgets/base",
            "_model_module_version": "1.2.0",
            "_model_name": "LayoutModel",
            "_view_count": null,
            "_view_module": "@jupyter-widgets/base",
            "_view_module_version": "1.2.0",
            "_view_name": "LayoutView",
            "align_content": null,
            "align_items": null,
            "align_self": null,
            "border": null,
            "bottom": null,
            "display": null,
            "flex": null,
            "flex_flow": null,
            "grid_area": null,
            "grid_auto_columns": null,
            "grid_auto_flow": null,
            "grid_auto_rows": null,
            "grid_column": null,
            "grid_gap": null,
            "grid_row": null,
            "grid_template_areas": null,
            "grid_template_columns": null,
            "grid_template_rows": null,
            "height": null,
            "justify_content": null,
            "justify_items": null,
            "left": null,
            "margin": null,
            "max_height": null,
            "max_width": null,
            "min_height": null,
            "min_width": null,
            "object_fit": null,
            "object_position": null,
            "order": null,
            "overflow": null,
            "overflow_x": null,
            "overflow_y": null,
            "padding": null,
            "right": null,
            "top": null,
            "visibility": null,
            "width": null
          }
        },
        "23e271c2423e44419158c85ae3af813b": {
          "model_module": "@jupyter-widgets/controls",
          "model_module_version": "1.5.0",
          "model_name": "DescriptionStyleModel",
          "state": {
            "_model_module": "@jupyter-widgets/controls",
            "_model_module_version": "1.5.0",
            "_model_name": "DescriptionStyleModel",
            "_view_count": null,
            "_view_module": "@jupyter-widgets/base",
            "_view_module_version": "1.2.0",
            "_view_name": "StyleView",
            "description_width": ""
          }
        },
        "294c430ee0794a628d4c9731495d992c": {
          "model_module": "@jupyter-widgets/controls",
          "model_module_version": "1.5.0",
          "model_name": "HBoxModel",
          "state": {
            "_dom_classes": [],
            "_model_module": "@jupyter-widgets/controls",
            "_model_module_version": "1.5.0",
            "_model_name": "HBoxModel",
            "_view_count": null,
            "_view_module": "@jupyter-widgets/controls",
            "_view_module_version": "1.5.0",
            "_view_name": "HBoxView",
            "box_style": "",
            "children": [
              "IPY_MODEL_02a7852ba52440e1979836efb010947f",
              "IPY_MODEL_db010bf7df854ff79e6704d289f71740",
              "IPY_MODEL_f9aa5c1786a04e85950e23413f265625"
            ],
            "layout": "IPY_MODEL_95590403490c42c4a6ad6682ff6820e3"
          }
        },
        "33273e045fa24c0ab1da3eb23bbde347": {
          "model_module": "@jupyter-widgets/controls",
          "model_module_version": "1.5.0",
          "model_name": "HBoxModel",
          "state": {
            "_dom_classes": [],
            "_model_module": "@jupyter-widgets/controls",
            "_model_module_version": "1.5.0",
            "_model_name": "HBoxModel",
            "_view_count": null,
            "_view_module": "@jupyter-widgets/controls",
            "_view_module_version": "1.5.0",
            "_view_name": "HBoxView",
            "box_style": "",
            "children": [
              "IPY_MODEL_01fda06fa5a44a259648e1cf91b94e56",
              "IPY_MODEL_3deeda83c9d6443ba09f8a542069fe86",
              "IPY_MODEL_e44f2d83563b466aacbac321aeb58bc0"
            ],
            "layout": "IPY_MODEL_499f62fead9e412590782774e858a314"
          }
        },
        "3deeda83c9d6443ba09f8a542069fe86": {
          "model_module": "@jupyter-widgets/controls",
          "model_module_version": "1.5.0",
          "model_name": "FloatProgressModel",
          "state": {
            "_dom_classes": [],
            "_model_module": "@jupyter-widgets/controls",
            "_model_module_version": "1.5.0",
            "_model_name": "FloatProgressModel",
            "_view_count": null,
            "_view_module": "@jupyter-widgets/controls",
            "_view_module_version": "1.5.0",
            "_view_name": "ProgressView",
            "bar_style": "success",
            "description": "",
            "description_tooltip": null,
            "layout": "IPY_MODEL_e34557bafb1645628184ff1cc49c1bbe",
            "max": 231508,
            "min": 0,
            "orientation": "horizontal",
            "style": "IPY_MODEL_6e3f9a4b07b747a9913ad4709214d930",
            "value": 231508
          }
        },
        "47adba611e654572bc56732d2e9915e4": {
          "model_module": "@jupyter-widgets/base",
          "model_module_version": "1.2.0",
          "model_name": "LayoutModel",
          "state": {
            "_model_module": "@jupyter-widgets/base",
            "_model_module_version": "1.2.0",
            "_model_name": "LayoutModel",
            "_view_count": null,
            "_view_module": "@jupyter-widgets/base",
            "_view_module_version": "1.2.0",
            "_view_name": "LayoutView",
            "align_content": null,
            "align_items": null,
            "align_self": null,
            "border": null,
            "bottom": null,
            "display": null,
            "flex": null,
            "flex_flow": null,
            "grid_area": null,
            "grid_auto_columns": null,
            "grid_auto_flow": null,
            "grid_auto_rows": null,
            "grid_column": null,
            "grid_gap": null,
            "grid_row": null,
            "grid_template_areas": null,
            "grid_template_columns": null,
            "grid_template_rows": null,
            "height": null,
            "justify_content": null,
            "justify_items": null,
            "left": null,
            "margin": null,
            "max_height": null,
            "max_width": null,
            "min_height": null,
            "min_width": null,
            "object_fit": null,
            "object_position": null,
            "order": null,
            "overflow": null,
            "overflow_x": null,
            "overflow_y": null,
            "padding": null,
            "right": null,
            "top": null,
            "visibility": null,
            "width": null
          }
        },
        "4986deb40f4845cc83c9211b72cddfde": {
          "model_module": "@jupyter-widgets/base",
          "model_module_version": "1.2.0",
          "model_name": "LayoutModel",
          "state": {
            "_model_module": "@jupyter-widgets/base",
            "_model_module_version": "1.2.0",
            "_model_name": "LayoutModel",
            "_view_count": null,
            "_view_module": "@jupyter-widgets/base",
            "_view_module_version": "1.2.0",
            "_view_name": "LayoutView",
            "align_content": null,
            "align_items": null,
            "align_self": null,
            "border": null,
            "bottom": null,
            "display": null,
            "flex": null,
            "flex_flow": null,
            "grid_area": null,
            "grid_auto_columns": null,
            "grid_auto_flow": null,
            "grid_auto_rows": null,
            "grid_column": null,
            "grid_gap": null,
            "grid_row": null,
            "grid_template_areas": null,
            "grid_template_columns": null,
            "grid_template_rows": null,
            "height": null,
            "justify_content": null,
            "justify_items": null,
            "left": null,
            "margin": null,
            "max_height": null,
            "max_width": null,
            "min_height": null,
            "min_width": null,
            "object_fit": null,
            "object_position": null,
            "order": null,
            "overflow": null,
            "overflow_x": null,
            "overflow_y": null,
            "padding": null,
            "right": null,
            "top": null,
            "visibility": null,
            "width": null
          }
        },
        "499f62fead9e412590782774e858a314": {
          "model_module": "@jupyter-widgets/base",
          "model_module_version": "1.2.0",
          "model_name": "LayoutModel",
          "state": {
            "_model_module": "@jupyter-widgets/base",
            "_model_module_version": "1.2.0",
            "_model_name": "LayoutModel",
            "_view_count": null,
            "_view_module": "@jupyter-widgets/base",
            "_view_module_version": "1.2.0",
            "_view_name": "LayoutView",
            "align_content": null,
            "align_items": null,
            "align_self": null,
            "border": null,
            "bottom": null,
            "display": null,
            "flex": null,
            "flex_flow": null,
            "grid_area": null,
            "grid_auto_columns": null,
            "grid_auto_flow": null,
            "grid_auto_rows": null,
            "grid_column": null,
            "grid_gap": null,
            "grid_row": null,
            "grid_template_areas": null,
            "grid_template_columns": null,
            "grid_template_rows": null,
            "height": null,
            "justify_content": null,
            "justify_items": null,
            "left": null,
            "margin": null,
            "max_height": null,
            "max_width": null,
            "min_height": null,
            "min_width": null,
            "object_fit": null,
            "object_position": null,
            "order": null,
            "overflow": null,
            "overflow_x": null,
            "overflow_y": null,
            "padding": null,
            "right": null,
            "top": null,
            "visibility": null,
            "width": null
          }
        },
        "5b20058f941f4a5e9cb5c89db0bc2dc0": {
          "model_module": "@jupyter-widgets/controls",
          "model_module_version": "1.5.0",
          "model_name": "DescriptionStyleModel",
          "state": {
            "_model_module": "@jupyter-widgets/controls",
            "_model_module_version": "1.5.0",
            "_model_name": "DescriptionStyleModel",
            "_view_count": null,
            "_view_module": "@jupyter-widgets/base",
            "_view_module_version": "1.2.0",
            "_view_name": "StyleView",
            "description_width": ""
          }
        },
        "632ada5257ae4be1b69dbc0db4c64cef": {
          "model_module": "@jupyter-widgets/controls",
          "model_module_version": "1.5.0",
          "model_name": "FloatProgressModel",
          "state": {
            "_dom_classes": [],
            "_model_module": "@jupyter-widgets/controls",
            "_model_module_version": "1.5.0",
            "_model_name": "FloatProgressModel",
            "_view_count": null,
            "_view_module": "@jupyter-widgets/controls",
            "_view_module_version": "1.5.0",
            "_view_name": "ProgressView",
            "bar_style": "success",
            "description": "",
            "description_tooltip": null,
            "layout": "IPY_MODEL_4986deb40f4845cc83c9211b72cddfde",
            "max": 383,
            "min": 0,
            "orientation": "horizontal",
            "style": "IPY_MODEL_15b53c5cb71845bfbed4fe163fb60474",
            "value": 383
          }
        },
        "66df9d63e5314dbb9e7a550f565d2357": {
          "model_module": "@jupyter-widgets/controls",
          "model_module_version": "1.5.0",
          "model_name": "HTMLModel",
          "state": {
            "_dom_classes": [],
            "_model_module": "@jupyter-widgets/controls",
            "_model_module_version": "1.5.0",
            "_model_name": "HTMLModel",
            "_view_count": null,
            "_view_module": "@jupyter-widgets/controls",
            "_view_module_version": "1.5.0",
            "_view_name": "HTMLView",
            "description": "",
            "description_tooltip": null,
            "layout": "IPY_MODEL_a94f271228684f6e964a98f25d481ce0",
            "placeholder": "​",
            "style": "IPY_MODEL_9df282685a87476cb86068663c53839a",
            "value": "Downloading (…)lve/main/config.json: 100%"
          }
        },
        "6e3f9a4b07b747a9913ad4709214d930": {
          "model_module": "@jupyter-widgets/controls",
          "model_module_version": "1.5.0",
          "model_name": "ProgressStyleModel",
          "state": {
            "_model_module": "@jupyter-widgets/controls",
            "_model_module_version": "1.5.0",
            "_model_name": "ProgressStyleModel",
            "_view_count": null,
            "_view_module": "@jupyter-widgets/base",
            "_view_module_version": "1.2.0",
            "_view_name": "StyleView",
            "bar_color": null,
            "description_width": ""
          }
        },
        "8ba820c6f5174ce0804b6487c0480b79": {
          "model_module": "@jupyter-widgets/base",
          "model_module_version": "1.2.0",
          "model_name": "LayoutModel",
          "state": {
            "_model_module": "@jupyter-widgets/base",
            "_model_module_version": "1.2.0",
            "_model_name": "LayoutModel",
            "_view_count": null,
            "_view_module": "@jupyter-widgets/base",
            "_view_module_version": "1.2.0",
            "_view_name": "LayoutView",
            "align_content": null,
            "align_items": null,
            "align_self": null,
            "border": null,
            "bottom": null,
            "display": null,
            "flex": null,
            "flex_flow": null,
            "grid_area": null,
            "grid_auto_columns": null,
            "grid_auto_flow": null,
            "grid_auto_rows": null,
            "grid_column": null,
            "grid_gap": null,
            "grid_row": null,
            "grid_template_areas": null,
            "grid_template_columns": null,
            "grid_template_rows": null,
            "height": null,
            "justify_content": null,
            "justify_items": null,
            "left": null,
            "margin": null,
            "max_height": null,
            "max_width": null,
            "min_height": null,
            "min_width": null,
            "object_fit": null,
            "object_position": null,
            "order": null,
            "overflow": null,
            "overflow_x": null,
            "overflow_y": null,
            "padding": null,
            "right": null,
            "top": null,
            "visibility": null,
            "width": null
          }
        },
        "8ef7a81fe81945dfa29e6f35314ac2e4": {
          "model_module": "@jupyter-widgets/base",
          "model_module_version": "1.2.0",
          "model_name": "LayoutModel",
          "state": {
            "_model_module": "@jupyter-widgets/base",
            "_model_module_version": "1.2.0",
            "_model_name": "LayoutModel",
            "_view_count": null,
            "_view_module": "@jupyter-widgets/base",
            "_view_module_version": "1.2.0",
            "_view_name": "LayoutView",
            "align_content": null,
            "align_items": null,
            "align_self": null,
            "border": null,
            "bottom": null,
            "display": null,
            "flex": null,
            "flex_flow": null,
            "grid_area": null,
            "grid_auto_columns": null,
            "grid_auto_flow": null,
            "grid_auto_rows": null,
            "grid_column": null,
            "grid_gap": null,
            "grid_row": null,
            "grid_template_areas": null,
            "grid_template_columns": null,
            "grid_template_rows": null,
            "height": null,
            "justify_content": null,
            "justify_items": null,
            "left": null,
            "margin": null,
            "max_height": null,
            "max_width": null,
            "min_height": null,
            "min_width": null,
            "object_fit": null,
            "object_position": null,
            "order": null,
            "overflow": null,
            "overflow_x": null,
            "overflow_y": null,
            "padding": null,
            "right": null,
            "top": null,
            "visibility": null,
            "width": null
          }
        },
        "8ffbda09e0604471b452288c6a2038bc": {
          "model_module": "@jupyter-widgets/base",
          "model_module_version": "1.2.0",
          "model_name": "LayoutModel",
          "state": {
            "_model_module": "@jupyter-widgets/base",
            "_model_module_version": "1.2.0",
            "_model_name": "LayoutModel",
            "_view_count": null,
            "_view_module": "@jupyter-widgets/base",
            "_view_module_version": "1.2.0",
            "_view_name": "LayoutView",
            "align_content": null,
            "align_items": null,
            "align_self": null,
            "border": null,
            "bottom": null,
            "display": null,
            "flex": null,
            "flex_flow": null,
            "grid_area": null,
            "grid_auto_columns": null,
            "grid_auto_flow": null,
            "grid_auto_rows": null,
            "grid_column": null,
            "grid_gap": null,
            "grid_row": null,
            "grid_template_areas": null,
            "grid_template_columns": null,
            "grid_template_rows": null,
            "height": null,
            "justify_content": null,
            "justify_items": null,
            "left": null,
            "margin": null,
            "max_height": null,
            "max_width": null,
            "min_height": null,
            "min_width": null,
            "object_fit": null,
            "object_position": null,
            "order": null,
            "overflow": null,
            "overflow_x": null,
            "overflow_y": null,
            "padding": null,
            "right": null,
            "top": null,
            "visibility": null,
            "width": null
          }
        },
        "948b7302dc8b4353bded8a8625bcd841": {
          "model_module": "@jupyter-widgets/controls",
          "model_module_version": "1.5.0",
          "model_name": "HBoxModel",
          "state": {
            "_dom_classes": [],
            "_model_module": "@jupyter-widgets/controls",
            "_model_module_version": "1.5.0",
            "_model_name": "HBoxModel",
            "_view_count": null,
            "_view_module": "@jupyter-widgets/controls",
            "_view_module_version": "1.5.0",
            "_view_name": "HBoxView",
            "box_style": "",
            "children": [
              "IPY_MODEL_66df9d63e5314dbb9e7a550f565d2357",
              "IPY_MODEL_632ada5257ae4be1b69dbc0db4c64cef",
              "IPY_MODEL_acb4d920bd0e4f0eac83121603465d96"
            ],
            "layout": "IPY_MODEL_8ffbda09e0604471b452288c6a2038bc"
          }
        },
        "95590403490c42c4a6ad6682ff6820e3": {
          "model_module": "@jupyter-widgets/base",
          "model_module_version": "1.2.0",
          "model_name": "LayoutModel",
          "state": {
            "_model_module": "@jupyter-widgets/base",
            "_model_module_version": "1.2.0",
            "_model_name": "LayoutModel",
            "_view_count": null,
            "_view_module": "@jupyter-widgets/base",
            "_view_module_version": "1.2.0",
            "_view_name": "LayoutView",
            "align_content": null,
            "align_items": null,
            "align_self": null,
            "border": null,
            "bottom": null,
            "display": null,
            "flex": null,
            "flex_flow": null,
            "grid_area": null,
            "grid_auto_columns": null,
            "grid_auto_flow": null,
            "grid_auto_rows": null,
            "grid_column": null,
            "grid_gap": null,
            "grid_row": null,
            "grid_template_areas": null,
            "grid_template_columns": null,
            "grid_template_rows": null,
            "height": null,
            "justify_content": null,
            "justify_items": null,
            "left": null,
            "margin": null,
            "max_height": null,
            "max_width": null,
            "min_height": null,
            "min_width": null,
            "object_fit": null,
            "object_position": null,
            "order": null,
            "overflow": null,
            "overflow_x": null,
            "overflow_y": null,
            "padding": null,
            "right": null,
            "top": null,
            "visibility": null,
            "width": null
          }
        },
        "98b9caf5d4984453b1aac8d264431f4f": {
          "model_module": "@jupyter-widgets/controls",
          "model_module_version": "1.5.0",
          "model_name": "DescriptionStyleModel",
          "state": {
            "_model_module": "@jupyter-widgets/controls",
            "_model_module_version": "1.5.0",
            "_model_name": "DescriptionStyleModel",
            "_view_count": null,
            "_view_module": "@jupyter-widgets/base",
            "_view_module_version": "1.2.0",
            "_view_name": "StyleView",
            "description_width": ""
          }
        },
        "9df282685a87476cb86068663c53839a": {
          "model_module": "@jupyter-widgets/controls",
          "model_module_version": "1.5.0",
          "model_name": "DescriptionStyleModel",
          "state": {
            "_model_module": "@jupyter-widgets/controls",
            "_model_module_version": "1.5.0",
            "_model_name": "DescriptionStyleModel",
            "_view_count": null,
            "_view_module": "@jupyter-widgets/base",
            "_view_module_version": "1.2.0",
            "_view_name": "StyleView",
            "description_width": ""
          }
        },
        "a94f271228684f6e964a98f25d481ce0": {
          "model_module": "@jupyter-widgets/base",
          "model_module_version": "1.2.0",
          "model_name": "LayoutModel",
          "state": {
            "_model_module": "@jupyter-widgets/base",
            "_model_module_version": "1.2.0",
            "_model_name": "LayoutModel",
            "_view_count": null,
            "_view_module": "@jupyter-widgets/base",
            "_view_module_version": "1.2.0",
            "_view_name": "LayoutView",
            "align_content": null,
            "align_items": null,
            "align_self": null,
            "border": null,
            "bottom": null,
            "display": null,
            "flex": null,
            "flex_flow": null,
            "grid_area": null,
            "grid_auto_columns": null,
            "grid_auto_flow": null,
            "grid_auto_rows": null,
            "grid_column": null,
            "grid_gap": null,
            "grid_row": null,
            "grid_template_areas": null,
            "grid_template_columns": null,
            "grid_template_rows": null,
            "height": null,
            "justify_content": null,
            "justify_items": null,
            "left": null,
            "margin": null,
            "max_height": null,
            "max_width": null,
            "min_height": null,
            "min_width": null,
            "object_fit": null,
            "object_position": null,
            "order": null,
            "overflow": null,
            "overflow_x": null,
            "overflow_y": null,
            "padding": null,
            "right": null,
            "top": null,
            "visibility": null,
            "width": null
          }
        },
        "ab55d78e96b6424498f7da6bb97b00a0": {
          "model_module": "@jupyter-widgets/base",
          "model_module_version": "1.2.0",
          "model_name": "LayoutModel",
          "state": {
            "_model_module": "@jupyter-widgets/base",
            "_model_module_version": "1.2.0",
            "_model_name": "LayoutModel",
            "_view_count": null,
            "_view_module": "@jupyter-widgets/base",
            "_view_module_version": "1.2.0",
            "_view_name": "LayoutView",
            "align_content": null,
            "align_items": null,
            "align_self": null,
            "border": null,
            "bottom": null,
            "display": null,
            "flex": null,
            "flex_flow": null,
            "grid_area": null,
            "grid_auto_columns": null,
            "grid_auto_flow": null,
            "grid_auto_rows": null,
            "grid_column": null,
            "grid_gap": null,
            "grid_row": null,
            "grid_template_areas": null,
            "grid_template_columns": null,
            "grid_template_rows": null,
            "height": null,
            "justify_content": null,
            "justify_items": null,
            "left": null,
            "margin": null,
            "max_height": null,
            "max_width": null,
            "min_height": null,
            "min_width": null,
            "object_fit": null,
            "object_position": null,
            "order": null,
            "overflow": null,
            "overflow_x": null,
            "overflow_y": null,
            "padding": null,
            "right": null,
            "top": null,
            "visibility": null,
            "width": null
          }
        },
        "acb4d920bd0e4f0eac83121603465d96": {
          "model_module": "@jupyter-widgets/controls",
          "model_module_version": "1.5.0",
          "model_name": "HTMLModel",
          "state": {
            "_dom_classes": [],
            "_model_module": "@jupyter-widgets/controls",
            "_model_module_version": "1.5.0",
            "_model_name": "HTMLModel",
            "_view_count": null,
            "_view_module": "@jupyter-widgets/controls",
            "_view_module_version": "1.5.0",
            "_view_name": "HTMLView",
            "description": "",
            "description_tooltip": null,
            "layout": "IPY_MODEL_ab55d78e96b6424498f7da6bb97b00a0",
            "placeholder": "​",
            "style": "IPY_MODEL_98b9caf5d4984453b1aac8d264431f4f",
            "value": " 383/383 [00:00&lt;00:00, 13.2kB/s]"
          }
        },
        "b61bf2ae5ea649a8b503436eb39ebb7d": {
          "model_module": "@jupyter-widgets/controls",
          "model_module_version": "1.5.0",
          "model_name": "DescriptionStyleModel",
          "state": {
            "_model_module": "@jupyter-widgets/controls",
            "_model_module_version": "1.5.0",
            "_model_name": "DescriptionStyleModel",
            "_view_count": null,
            "_view_module": "@jupyter-widgets/base",
            "_view_module_version": "1.2.0",
            "_view_name": "StyleView",
            "description_width": ""
          }
        },
        "bda012d168c54c7ea7b0cd3c51c30de3": {
          "model_module": "@jupyter-widgets/base",
          "model_module_version": "1.2.0",
          "model_name": "LayoutModel",
          "state": {
            "_model_module": "@jupyter-widgets/base",
            "_model_module_version": "1.2.0",
            "_model_name": "LayoutModel",
            "_view_count": null,
            "_view_module": "@jupyter-widgets/base",
            "_view_module_version": "1.2.0",
            "_view_name": "LayoutView",
            "align_content": null,
            "align_items": null,
            "align_self": null,
            "border": null,
            "bottom": null,
            "display": null,
            "flex": null,
            "flex_flow": null,
            "grid_area": null,
            "grid_auto_columns": null,
            "grid_auto_flow": null,
            "grid_auto_rows": null,
            "grid_column": null,
            "grid_gap": null,
            "grid_row": null,
            "grid_template_areas": null,
            "grid_template_columns": null,
            "grid_template_rows": null,
            "height": null,
            "justify_content": null,
            "justify_items": null,
            "left": null,
            "margin": null,
            "max_height": null,
            "max_width": null,
            "min_height": null,
            "min_width": null,
            "object_fit": null,
            "object_position": null,
            "order": null,
            "overflow": null,
            "overflow_x": null,
            "overflow_y": null,
            "padding": null,
            "right": null,
            "top": null,
            "visibility": null,
            "width": null
          }
        },
        "c1fb38e8e1284296a298e2b1946c2a25": {
          "model_module": "@jupyter-widgets/controls",
          "model_module_version": "1.5.0",
          "model_name": "ProgressStyleModel",
          "state": {
            "_model_module": "@jupyter-widgets/controls",
            "_model_module_version": "1.5.0",
            "_model_name": "ProgressStyleModel",
            "_view_count": null,
            "_view_module": "@jupyter-widgets/base",
            "_view_module_version": "1.2.0",
            "_view_name": "StyleView",
            "bar_color": null,
            "description_width": ""
          }
        },
        "db010bf7df854ff79e6704d289f71740": {
          "model_module": "@jupyter-widgets/controls",
          "model_module_version": "1.5.0",
          "model_name": "FloatProgressModel",
          "state": {
            "_dom_classes": [],
            "_model_module": "@jupyter-widgets/controls",
            "_model_module_version": "1.5.0",
            "_model_name": "FloatProgressModel",
            "_view_count": null,
            "_view_module": "@jupyter-widgets/controls",
            "_view_module_version": "1.5.0",
            "_view_name": "ProgressView",
            "bar_style": "success",
            "description": "",
            "description_tooltip": null,
            "layout": "IPY_MODEL_8ba820c6f5174ce0804b6487c0480b79",
            "max": 45088961,
            "min": 0,
            "orientation": "horizontal",
            "style": "IPY_MODEL_c1fb38e8e1284296a298e2b1946c2a25",
            "value": 45088961
          }
        },
        "e34557bafb1645628184ff1cc49c1bbe": {
          "model_module": "@jupyter-widgets/base",
          "model_module_version": "1.2.0",
          "model_name": "LayoutModel",
          "state": {
            "_model_module": "@jupyter-widgets/base",
            "_model_module_version": "1.2.0",
            "_model_name": "LayoutModel",
            "_view_count": null,
            "_view_module": "@jupyter-widgets/base",
            "_view_module_version": "1.2.0",
            "_view_name": "LayoutView",
            "align_content": null,
            "align_items": null,
            "align_self": null,
            "border": null,
            "bottom": null,
            "display": null,
            "flex": null,
            "flex_flow": null,
            "grid_area": null,
            "grid_auto_columns": null,
            "grid_auto_flow": null,
            "grid_auto_rows": null,
            "grid_column": null,
            "grid_gap": null,
            "grid_row": null,
            "grid_template_areas": null,
            "grid_template_columns": null,
            "grid_template_rows": null,
            "height": null,
            "justify_content": null,
            "justify_items": null,
            "left": null,
            "margin": null,
            "max_height": null,
            "max_width": null,
            "min_height": null,
            "min_width": null,
            "object_fit": null,
            "object_position": null,
            "order": null,
            "overflow": null,
            "overflow_x": null,
            "overflow_y": null,
            "padding": null,
            "right": null,
            "top": null,
            "visibility": null,
            "width": null
          }
        },
        "e44f2d83563b466aacbac321aeb58bc0": {
          "model_module": "@jupyter-widgets/controls",
          "model_module_version": "1.5.0",
          "model_name": "HTMLModel",
          "state": {
            "_dom_classes": [],
            "_model_module": "@jupyter-widgets/controls",
            "_model_module_version": "1.5.0",
            "_model_name": "HTMLModel",
            "_view_count": null,
            "_view_module": "@jupyter-widgets/controls",
            "_view_module_version": "1.5.0",
            "_view_name": "HTMLView",
            "description": "",
            "description_tooltip": null,
            "layout": "IPY_MODEL_47adba611e654572bc56732d2e9915e4",
            "placeholder": "​",
            "style": "IPY_MODEL_5b20058f941f4a5e9cb5c89db0bc2dc0",
            "value": " 232k/232k [00:00&lt;00:00, 579kB/s]"
          }
        },
        "f9aa5c1786a04e85950e23413f265625": {
          "model_module": "@jupyter-widgets/controls",
          "model_module_version": "1.5.0",
          "model_name": "HTMLModel",
          "state": {
            "_dom_classes": [],
            "_model_module": "@jupyter-widgets/controls",
            "_model_module_version": "1.5.0",
            "_model_name": "HTMLModel",
            "_view_count": null,
            "_view_module": "@jupyter-widgets/controls",
            "_view_module_version": "1.5.0",
            "_view_name": "HTMLView",
            "description": "",
            "description_tooltip": null,
            "layout": "IPY_MODEL_20974b98ae5a4c1f8afa61aa9d0bac24",
            "placeholder": "​",
            "style": "IPY_MODEL_23e271c2423e44419158c85ae3af813b",
            "value": " 45.1M/45.1M [00:05&lt;00:00, 8.03MB/s]"
          }
        }
      }
    }
  },
  "nbformat": 4,
  "nbformat_minor": 0
}
