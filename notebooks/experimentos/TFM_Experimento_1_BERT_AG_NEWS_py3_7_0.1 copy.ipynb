{
  "cells": [
    {
      "cell_type": "code",
      "execution_count": 1,
      "metadata": {
        "id": "CgWVQrHWG2uF"
      },
      "outputs": [
        {
          "name": "stdout",
          "output_type": "stream",
          "text": [
            "c:\\Users\\RomanGu\\OneDrive - BASF\\Documents\\CODE\\tfmfresh\\Scripts\\python.exe\n"
          ]
        }
      ],
      "source": [
        "# @title Setup & Config\n",
        "import os\n",
        "import subprocess\n",
        "import platform\n",
        "from IPython.display import clear_output\n",
        "import sys\n",
        "\n",
        "\n",
        "def setup():\n",
        "    libraries = \"\"\"torch\n",
        "        numpy\n",
        "        pandas\n",
        "        seaborn\n",
        "        matplotlib\n",
        "        scikit-learn\n",
        "        watermark\n",
        "        psutil\n",
        "        IProgress\n",
        "        sympy\n",
        "        filelock\n",
        "        jinja2\n",
        "        networkx\n",
        "        typing-extensions\n",
        "        IProgress\n",
        "        awscli\n",
        "        transformers\"\"\".split()\n",
        "\n",
        "    with open('requirements.txt', 'w') as f:\n",
        "        f.write(\"\\n\".join(libraries))\n",
        "    \n",
        "    if platform.system() == 'Linux':\n",
        "        commands = [\n",
        "            'sudo update-alternatives --install /usr/bin/python3 python3 /usr/bin/python3.8 1',\n",
        "            'echo 2 | sudo update-alternatives --config python3',\n",
        "            'sudo apt install python3-pip',\n",
        "            'python -m pip install --upgrade pip',\n",
        "            'pip install -r requirements.txt',\n",
        "            'python3 --version'\n",
        "        ]\n",
        "        for command in commands:\n",
        "            output = subprocess.check_output(command, shell=True)\n",
        "            print(output.decode())\n",
        "            clear_output(wait=True)\n",
        "    elif platform.system() == 'Windows':\n",
        "        # Agrega aquí los comandos para Windows\n",
        "        !pip install -qq -r ..\\requirements\\pytorch_requirements.txt\n",
        "        pass\n",
        "\n",
        "# setup()\n",
        "print(sys.executable)\n"
      ]
    },
    {
      "cell_type": "code",
      "execution_count": 2,
      "metadata": {},
      "outputs": [
        {
          "data": {
            "text/plain": [
              "'Windows'"
            ]
          },
          "execution_count": 2,
          "metadata": {},
          "output_type": "execute_result"
        }
      ],
      "source": [
        "platform.system()"
      ]
    },
    {
      "cell_type": "code",
      "execution_count": 3,
      "metadata": {
        "colab": {
          "base_uri": "https://localhost:8080/",
          "height": 53
        },
        "id": "cA2SCKDLQ78E",
        "outputId": "b1b20247-7102-4cc7-a9bb-5c7ada328b9b"
      },
      "outputs": [
        {
          "data": {
            "text/plain": [
              "'\\npara evitar que se ponga en off, hacer ctrol + shift + i y luego a consola\\nfunction ConnectButton(){\\n    console.log(\"Connect pushed\"); \\n    document.querySelector(\"#top-toolbar > colab-connect-button\").shadowRoot.querySelector(\"#connect\").click() \\n}\\nsetInterval(ConnectButton,60000);\\n'"
            ]
          },
          "execution_count": 3,
          "metadata": {},
          "output_type": "execute_result"
        }
      ],
      "source": [
        "'''\n",
        "para evitar que se ponga en off, hacer ctrol + shift + i y luego a consola\n",
        "function ConnectButton(){\n",
        "    console.log(\"Connect pushed\"); \n",
        "    document.querySelector(\"#top-toolbar > colab-connect-button\").shadowRoot.querySelector(\"#connect\").click() \n",
        "}\n",
        "setInterval(ConnectButton,60000);\n",
        "'''"
      ]
    },
    {
      "cell_type": "code",
      "execution_count": 4,
      "metadata": {
        "id": "3HF_585KGljk"
      },
      "outputs": [
        {
          "name": "stdout",
          "output_type": "stream",
          "text": [
            "transformers\n",
            "torch\n",
            "numpy\n",
            "pandas\n",
            "seaborn\n",
            "matplotlib\n",
            "scikit-learn\n",
            "watermark\n",
            "psutil\n",
            "IProgress\n",
            "sympy\n",
            "filelock\n",
            "jinja2\n",
            "networkx\n",
            "typing-extensions\n",
            "IProgress \n",
            "awscli\n"
          ]
        },
        {
          "name": "stderr",
          "output_type": "stream",
          "text": [
            "ERROR: Could not install packages due to an OSError: [WinError 4393] The tag present in the reparse point buffer is invalid: 'c:\\\\users\\\\romangu\\\\onedrive - basf\\\\documents\\\\code\\\\tfmfresh\\\\Lib\\\\site-packages\\\\stack_data-0.6.2.dist-info\\\\INSTALLERk8pms8wb.tmp' -> 'c:\\\\users\\\\romangu\\\\onedrive - basf\\\\documents\\\\code\\\\tfmfresh\\\\Lib\\\\site-packages\\\\stack_data-0.6.2.dist-info\\\\INSTALLER'\n",
            "\n"
          ]
        }
      ],
      "source": [
        "!type ..\\requirements\\pytorch_requirements.txt\n",
        "# !nvidia-smi\n",
        "!pip install -qq -r ..\\requirements\\pytorch_requirements.txt\n",
        "# !pip install transformers --force-reinstall"
      ]
    },
    {
      "attachments": {},
      "cell_type": "markdown",
      "metadata": {
        "id": "lb-Rkj0PGaVF"
      },
      "source": [
        "## Setup\n",
        "\n",
        "We'll need [the Transformers library](https://huggingface.co/transformers/) by Hugging Face:"
      ]
    },
    {
      "cell_type": "code",
      "execution_count": 5,
      "metadata": {
        "colab": {
          "base_uri": "https://localhost:8080/"
        },
        "id": "FaVZzQ9oGNXp",
        "outputId": "bcd4eba7-3efd-442d-ed7c-dbc43a2a6b89"
      },
      "outputs": [
        {
          "name": "stderr",
          "output_type": "stream",
          "text": [
            "'which' is not recognized as an internal or external command,\n",
            "operable program or batch file.\n"
          ]
        }
      ],
      "source": [
        "!which python\n",
        "# !which pip\n",
        "# !which pip3.8"
      ]
    },
    {
      "cell_type": "code",
      "execution_count": 6,
      "metadata": {
        "colab": {
          "base_uri": "https://localhost:8080/"
        },
        "id": "gT1yr3mHGljn",
        "outputId": "20f8b1f6-a30f-4577-fb53-0c5245db0405"
      },
      "outputs": [
        {
          "name": "stdout",
          "output_type": "stream",
          "text": [
            "Name: transformers\n",
            "Version: 4.29.2\n",
            "Summary: State-of-the-art Machine Learning for JAX, PyTorch and TensorFlow\n",
            "Home-page: https://github.com/huggingface/transformers\n",
            "Author: The Hugging Face team (past and future) with the help of all our contributors (https://github.com/huggingface/transformers/graphs/contributors)\n",
            "Author-email: transformers@huggingface.co\n",
            "License: Apache 2.0 License\n",
            "Location: c:\\users\\romangu\\onedrive - basf\\documents\\code\\tfmfresh\\lib\\site-packages\n",
            "Requires: filelock, huggingface-hub, numpy, packaging, pyyaml, regex, requests, tokenizers, tqdm\n",
            "Required-by: \n"
          ]
        }
      ],
      "source": [
        "!pip show transformers"
      ]
    },
    {
      "cell_type": "code",
      "execution_count": 7,
      "metadata": {
        "id": "3gZ6z1LQGe-F"
      },
      "outputs": [],
      "source": [
        "# %reload_ext watermark\n",
        "# %watermark -v -p numpy,pandas,torch,transformers"
      ]
    },
    {
      "cell_type": "code",
      "execution_count": 8,
      "metadata": {
        "id": "phxWt3SHGogY"
      },
      "outputs": [
        {
          "name": "stderr",
          "output_type": "stream",
          "text": [
            "c:\\Users\\RomanGu\\OneDrive - BASF\\Documents\\CODE\\tfmfresh\\lib\\site-packages\\tqdm\\auto.py:21: TqdmWarning: IProgress not found. Please update jupyter and ipywidgets. See https://ipywidgets.readthedocs.io/en/stable/user_install.html\n",
            "  from .autonotebook import tqdm as notebook_tqdm\n"
          ]
        },
        {
          "data": {
            "text/plain": [
              "device(type='cpu')"
            ]
          },
          "execution_count": 8,
          "metadata": {},
          "output_type": "execute_result"
        }
      ],
      "source": [
        "\n",
        "import transformers\n",
        "from transformers import BertModel, BertTokenizer, AdamW, get_linear_schedule_with_warmup\n",
        "import torch\n",
        "\n",
        "import numpy as np\n",
        "import pandas as pd\n",
        "import seaborn as sns\n",
        "from pylab import rcParams\n",
        "import matplotlib.pyplot as plt\n",
        "from matplotlib import rc\n",
        "from sklearn.model_selection import train_test_split\n",
        "from sklearn.metrics import confusion_matrix, classification_report, accuracy_score\n",
        "from collections import defaultdict\n",
        "from textwrap import wrap\n",
        "\n",
        "from torch import nn, optim\n",
        "from torch.utils.data import Dataset, DataLoader\n",
        "import torch.nn.functional as F\n",
        "\n",
        "\n",
        "pd.set_option('display.width', 144)\n",
        "pd.set_option('display.max_columns', None)\n",
        "\n",
        "if not os.path.exists('./sample_data'):\n",
        "    os.makedirs('./sample_data')\n",
        "\n",
        "%matplotlib inline\n",
        "%config InlineBackend.figure_format='retina'\n",
        "\n",
        "sns.set(style='whitegrid', palette='muted', font_scale=1.2)\n",
        "\n",
        "HAPPY_COLORS_PALETTE = [\"#01BEFE\", \"#FFDD00\", \"#FF7D00\", \"#FF006D\", \"#ADFF02\", \"#8F00FF\"]\n",
        "\n",
        "sns.set_palette(sns.color_palette(HAPPY_COLORS_PALETTE))\n",
        "\n",
        "rcParams['figure.figsize'] = 12, 8\n",
        "\n",
        "RANDOM_SEED = 42\n",
        "np.random.seed(RANDOM_SEED)\n",
        "torch.manual_seed(RANDOM_SEED)\n",
        "# seleccionamos la GPU si está disponible\n",
        "device = torch.device(\"cuda:0\" if torch.cuda.is_available() else \"cpu\")\n",
        "device"
      ]
    },
    {
      "attachments": {},
      "cell_type": "markdown",
      "metadata": {
        "id": "aABKlrKFM92G"
      },
      "source": [
        "## CONFIGURACIÓN DE LOS MODELOS PREENTRENADOS BERT\n",
        "\n",
        ">CONSULTAR LOS MODELOS PREENTRENADOS DISPONIBLES [AQUI](https://huggingface.co/transformers/pretrained_models.html)\n",
        "\n"
      ]
    },
    {
      "cell_type": "code",
      "execution_count": 9,
      "metadata": {
        "id": "yyTKvv4bdFX-"
      },
      "outputs": [],
      "source": [
        "def experimento(tipo: str, idioma: str):\n",
        "    \"\"\"\n",
        "    Configura y devuelve los parámetros para un experimento.\n",
        "\n",
        "    Parámetros\n",
        "    ----------\n",
        "    tipo : str\n",
        "        El tipo de experimento a realizar. Debe ser \"AMAZON\" o \"AGNEWS\".\n",
        "    idioma : str\n",
        "        El idioma del modelo pre-entrenado a utilizar. Debe ser \"EN\" o \"ES\".\n",
        "\n",
        "    Devoluciones\n",
        "    -------\n",
        "    int\n",
        "        El tamaño del lote a utilizar en el experimento.\n",
        "    int\n",
        "        El número de épocas a utilizar en el experimento.\n",
        "    float\n",
        "        La tasa de aprendizaje a utilizar en el experimento.\n",
        "    str\n",
        "        El nombre del modelo pre-entrenado a utilizar en el experimento.\n",
        "\n",
        "    \"\"\"\n",
        "    \n",
        "    experiment_params = {\n",
        "        \"AMAZON\": (16, 2, 5e-5),\n",
        "        \"AGNEWS\": (32, 4, 3e-5)\n",
        "    }\n",
        "    \n",
        "    model_names = {\n",
        "        \"ES\": 'bert-base-multilingual-cased',\n",
        "        \"EN\": 'google/bert_uncased_L-4_H-256_A-4',\n",
        "    }\n",
        "    \n",
        "    if tipo.upper() not in experiment_params:\n",
        "        print(\"elige experimento\")\n",
        "        return\n",
        "    \n",
        "    if idioma.upper() not in model_names:\n",
        "        print(\"modelo no elegido\")\n",
        "        return\n",
        "    \n",
        "    BATCH_SIZE, EPOCHS, LEARNING_RATE = experiment_params[tipo.upper()]\n",
        "    PRE_TRAINED_MODEL_NAME = model_names[idioma.upper()]\n",
        "    \n",
        "    return BATCH_SIZE, EPOCHS, LEARNING_RATE, PRE_TRAINED_MODEL_NAME\n",
        "\n",
        "\n",
        "BATCH_SIZE, EPOCHS, LEARNING_RATE, PRE_TRAINED_MODEL_NAME = experimento(tipo = \"AGNEWS\", idioma =\"es\")"
      ]
    },
    {
      "cell_type": "code",
      "execution_count": 10,
      "metadata": {
        "id": "CuIw7VhddzCv"
      },
      "outputs": [
        {
          "name": "stdout",
          "output_type": "stream",
          "text": [
            "BATCH_SIZE: 32\n",
            "LEARNING_RATE: 3e-05\n",
            "EPOCHS: 4\n",
            "PRE_TRAINED_MODEL_NAME: bert-base-multilingual-cased\n"
          ]
        }
      ],
      "source": [
        "print(f\"BATCH_SIZE: {BATCH_SIZE}\")\n",
        "print(f\"LEARNING_RATE: {LEARNING_RATE}\")\n",
        "print(f\"EPOCHS: {EPOCHS}\")\n",
        "print(f\"PRE_TRAINED_MODEL_NAME: {PRE_TRAINED_MODEL_NAME}\")"
      ]
    },
    {
      "attachments": {},
      "cell_type": "markdown",
      "metadata": {
        "id": "biJVRoiiGzbL"
      },
      "source": [
        "## Data Exploration\n",
        "\n"
      ]
    },
    {
      "attachments": {},
      "cell_type": "markdown",
      "metadata": {
        "id": "kzfXwdbdUGOq"
      },
      "source": [
        "### download data"
      ]
    },
    {
      "cell_type": "code",
      "execution_count": 11,
      "metadata": {
        "id": "cxSM3-q9QI-D"
      },
      "outputs": [],
      "source": [
        "root_folder = \"./sample_data/\"\n",
        "\n",
        "if not os.path.isfile(os.path.join(root_folder,'news_category_train.csv')):\n",
        "    !wget https://raw.githubusercontent.com/JohnSnowLabs/spark-nlp-workshop/master/tutorials/Certification_Trainings/Public/data/news_category_train.csv -P ./sample_data -q\n",
        "if not os.path.isfile(os.path.join(root_folder,'news_category_test.csv')):\n",
        "    !wget https://raw.githubusercontent.com/JohnSnowLabs/spark-nlp-workshop/master/tutorials/Certification_Trainings/Public/data/news_category_test.csv -P ./sample_data -q"
      ]
    },
    {
      "cell_type": "code",
      "execution_count": 12,
      "metadata": {
        "id": "GarGXlW2UFZ4"
      },
      "outputs": [
        {
          "name": "stderr",
          "output_type": "stream",
          "text": [
            "'ls' is not recognized as an internal or external command,\n",
            "operable program or batch file.\n"
          ]
        }
      ],
      "source": [
        "!ls ./sample_data"
      ]
    },
    {
      "cell_type": "code",
      "execution_count": 13,
      "metadata": {
        "id": "Z-8J7Hh9wrPP"
      },
      "outputs": [
        {
          "data": {
            "text/plain": [
              "'\\n(trainingData, testData) = trainDataset.randomSplit([0.7, 0.3], seed = 100)\\nprint(\"Training Dataset Count: \" + str(trainingData.count()))\\nprint(\"Test Dataset Count: \" + str(testData.count()))\\n'"
            ]
          },
          "execution_count": 13,
          "metadata": {},
          "output_type": "execute_result"
        }
      ],
      "source": [
        "\n",
        "# Si queremos hacer el split al dataset\n",
        "'''\n",
        "(trainingData, testData) = trainDataset.randomSplit([0.7, 0.3], seed = 100)\n",
        "print(\"Training Dataset Count: \" + str(trainingData.count()))\n",
        "print(\"Test Dataset Count: \" + str(testData.count()))\n",
        "'''"
      ]
    },
    {
      "cell_type": "code",
      "execution_count": 14,
      "metadata": {
        "id": "KgwfSC1SQGsG"
      },
      "outputs": [],
      "source": [
        "# naming values\n",
        "traindata = root_folder + \"news_category_train.csv\"\n",
        "testdata = root_folder + \"news_category_test.csv\"\n"
      ]
    },
    {
      "cell_type": "code",
      "execution_count": 15,
      "metadata": {
        "id": "BtH3Zwq37J1y"
      },
      "outputs": [
        {
          "name": "stdout",
          "output_type": "stream",
          "text": [
            "category,description\n",
            "Business,\" Short sellers, Wall Street's dwindling band of ultra cynics, are seeing green again.\"\n",
            "Business,\" Private investment firm Carlyle Group, which has a reputation for making well timed and occasionally controversial plays in the defense industry, has quietly placed its bets on another part of the market.\"\n",
            "Business, Soaring crude prices plus worries about the economy and the outlook for earnings are expected to hang over the stock market next week during the depth of the summer doldrums.\n",
            "Business,\" Authorities have halted oil export flows from the main pipeline in southern Iraq after intelligence showed a rebel militia could strike infrastructure, an oil official said on Saturday.\"\n",
            "Business,\" Tearaway world oil prices, toppling records and straining wallets, present a new economic menace barely three months before the US presidential elections.\"\n",
            "Business,\" Stocks ended slightly higher on Friday but stayed near lows for the year as oil prices surged past  #36;46 a barrel, offsetting a positive outlook from computer maker Dell Inc. (DELL.O)\"\n",
            "Business,\" Assets of the nation's retail money market mutual funds fell by  #36;1.17 billion in the latest week to  #36;849.98 trillion, the Investment Company Institute said Thursday.\"\n",
            "Business,\" Retail sales bounced back a bit in July, and new claims for jobless benefits fell last week, the government said Thursday, indicating the economy is improving from a midsummer slump.\"\n",
            "Business,\" After earning a PH.D. in Sociology, Danny Bazil Riley started to work as the general manager at a commercial real estate firm at an annual base salary of  #36;70,000. Soon after, a financial planner stopped by his desk to drop off brochures about insurance benefits available through his employer. But, at 32, \"\"buying insurance was the furthest thing from my mind,\"\" says Riley.\"\n"
          ]
        }
      ],
      "source": [
        "# !head {traindata}\n",
        "!powershell -command \"gc {traindata} | select -first 10 # head\"\n"
      ]
    },
    {
      "cell_type": "code",
      "execution_count": 16,
      "metadata": {
        "id": "zSJVlvMYG3XY"
      },
      "outputs": [
        {
          "name": "stdout",
          "output_type": "stream",
          "text": [
            "Tamaño total  (119998, 2)\n"
          ]
        },
        {
          "data": {
            "text/html": [
              "<div>\n",
              "<style scoped>\n",
              "    .dataframe tbody tr th:only-of-type {\n",
              "        vertical-align: middle;\n",
              "    }\n",
              "\n",
              "    .dataframe tbody tr th {\n",
              "        vertical-align: top;\n",
              "    }\n",
              "\n",
              "    .dataframe thead th {\n",
              "        text-align: right;\n",
              "    }\n",
              "</style>\n",
              "<table border=\"1\" class=\"dataframe\">\n",
              "  <thead>\n",
              "    <tr style=\"text-align: right;\">\n",
              "      <th></th>\n",
              "      <th>category</th>\n",
              "      <th>description</th>\n",
              "    </tr>\n",
              "  </thead>\n",
              "  <tbody>\n",
              "    <tr>\n",
              "      <th>0</th>\n",
              "      <td>Business</td>\n",
              "      <td>Short sellers, Wall Street's dwindling band o...</td>\n",
              "    </tr>\n",
              "    <tr>\n",
              "      <th>1</th>\n",
              "      <td>Business</td>\n",
              "      <td>Private investment firm Carlyle Group, which ...</td>\n",
              "    </tr>\n",
              "    <tr>\n",
              "      <th>2</th>\n",
              "      <td>Business</td>\n",
              "      <td>Soaring crude prices plus worries about the e...</td>\n",
              "    </tr>\n",
              "    <tr>\n",
              "      <th>3</th>\n",
              "      <td>Business</td>\n",
              "      <td>Authorities have halted oil export flows from...</td>\n",
              "    </tr>\n",
              "    <tr>\n",
              "      <th>4</th>\n",
              "      <td>Business</td>\n",
              "      <td>Tearaway world oil prices, toppling records a...</td>\n",
              "    </tr>\n",
              "    <tr>\n",
              "      <th>5</th>\n",
              "      <td>Business</td>\n",
              "      <td>Stocks ended slightly higher on Friday but st...</td>\n",
              "    </tr>\n",
              "    <tr>\n",
              "      <th>6</th>\n",
              "      <td>Business</td>\n",
              "      <td>Assets of the nation's retail money market mu...</td>\n",
              "    </tr>\n",
              "    <tr>\n",
              "      <th>7</th>\n",
              "      <td>Business</td>\n",
              "      <td>Retail sales bounced back a bit in July, and ...</td>\n",
              "    </tr>\n",
              "    <tr>\n",
              "      <th>8</th>\n",
              "      <td>Business</td>\n",
              "      <td>After earning a PH.D. in Sociology, Danny Baz...</td>\n",
              "    </tr>\n",
              "    <tr>\n",
              "      <th>9</th>\n",
              "      <td>Business</td>\n",
              "      <td>Short sellers, Wall Street's dwindling  band ...</td>\n",
              "    </tr>\n",
              "  </tbody>\n",
              "</table>\n",
              "</div>"
            ],
            "text/plain": [
              "   category                                        description\n",
              "0  Business   Short sellers, Wall Street's dwindling band o...\n",
              "1  Business   Private investment firm Carlyle Group, which ...\n",
              "2  Business   Soaring crude prices plus worries about the e...\n",
              "3  Business   Authorities have halted oil export flows from...\n",
              "4  Business   Tearaway world oil prices, toppling records a...\n",
              "5  Business   Stocks ended slightly higher on Friday but st...\n",
              "6  Business   Assets of the nation's retail money market mu...\n",
              "7  Business   Retail sales bounced back a bit in July, and ...\n",
              "8  Business   After earning a PH.D. in Sociology, Danny Baz...\n",
              "9  Business   Short sellers, Wall Street's dwindling  band ..."
            ]
          },
          "execution_count": 16,
          "metadata": {},
          "output_type": "execute_result"
        }
      ],
      "source": [
        "# from google.colab import data_table\n",
        "import json \n",
        "df = pd.read_csv(traindata,sep=\",\",engine=\"c\",on_bad_lines='skip').rename(columns={\"review_body\": \"description\"})\n",
        "df_testdata = pd.read_csv(testdata,sep=\",\",engine=\"c\",on_bad_lines='skip').rename(columns={\"review_body\": \"description\"})\n",
        "print(\"Tamaño total \",df.shape)\n",
        "\n",
        "\n",
        "df[:10]"
      ]
    },
    {
      "attachments": {},
      "cell_type": "markdown",
      "metadata": {
        "id": "rRKzWbPueY6M"
      },
      "source": [
        "# Describiendo las categorias:\n",
        "A diferencia del Amazon Reviews, AG News la columna \"categoria\" está presente en `df` y `df_testdata`. La columna \"categoria\" contiene la clasificacion (pre etiquetado) de las noticias que nos servirá para entrenar y probar nuestro modelo.\n",
        "\n",
        "`['Business', 'Sci/Tech', 'Sports', 'World']`\n",
        "\n",
        "Sin embargo, tenemos que codificar las etiquetas de categoria para el modelo BERT utlizando `LabelEncoder` de **sklearn**"
      ]
    },
    {
      "cell_type": "code",
      "execution_count": 17,
      "metadata": {
        "id": "yyymmQWTZsRK"
      },
      "outputs": [
        {
          "data": {
            "text/html": [
              "<div>\n",
              "<style scoped>\n",
              "    .dataframe tbody tr th:only-of-type {\n",
              "        vertical-align: middle;\n",
              "    }\n",
              "\n",
              "    .dataframe tbody tr th {\n",
              "        vertical-align: top;\n",
              "    }\n",
              "\n",
              "    .dataframe thead th {\n",
              "        text-align: right;\n",
              "    }\n",
              "</style>\n",
              "<table border=\"1\" class=\"dataframe\">\n",
              "  <thead>\n",
              "    <tr style=\"text-align: right;\">\n",
              "      <th></th>\n",
              "      <th>category</th>\n",
              "      <th>description</th>\n",
              "    </tr>\n",
              "  </thead>\n",
              "  <tbody>\n",
              "    <tr>\n",
              "      <th>0</th>\n",
              "      <td>Business</td>\n",
              "      <td>Unions representing workers at Turner   Newall...</td>\n",
              "    </tr>\n",
              "    <tr>\n",
              "      <th>1</th>\n",
              "      <td>Sci/Tech</td>\n",
              "      <td>TORONTO, Canada    A second team of rocketeer...</td>\n",
              "    </tr>\n",
              "    <tr>\n",
              "      <th>2</th>\n",
              "      <td>Sci/Tech</td>\n",
              "      <td>A company founded by a chemistry researcher a...</td>\n",
              "    </tr>\n",
              "    <tr>\n",
              "      <th>3</th>\n",
              "      <td>Sci/Tech</td>\n",
              "      <td>It's barely dawn when Mike Fitzpatrick starts...</td>\n",
              "    </tr>\n",
              "    <tr>\n",
              "      <th>4</th>\n",
              "      <td>Sci/Tech</td>\n",
              "      <td>Southern California's smog fighting agency we...</td>\n",
              "    </tr>\n",
              "  </tbody>\n",
              "</table>\n",
              "</div>"
            ],
            "text/plain": [
              "   category                                        description\n",
              "0  Business  Unions representing workers at Turner   Newall...\n",
              "1  Sci/Tech   TORONTO, Canada    A second team of rocketeer...\n",
              "2  Sci/Tech   A company founded by a chemistry researcher a...\n",
              "3  Sci/Tech   It's barely dawn when Mike Fitzpatrick starts...\n",
              "4  Sci/Tech   Southern California's smog fighting agency we..."
            ]
          },
          "execution_count": 17,
          "metadata": {},
          "output_type": "execute_result"
        }
      ],
      "source": [
        "df_testdata[:5]"
      ]
    },
    {
      "cell_type": "code",
      "execution_count": 18,
      "metadata": {
        "id": "6XW5cat-R53V"
      },
      "outputs": [],
      "source": [
        "from sklearn import preprocessing\n",
        "le = preprocessing.LabelEncoder()\n",
        "df[\"category_encoded\"]=le.fit_transform(df.category)\n",
        "df_testdata[\"category_encoded\"]=le.fit_transform(df_testdata.category)"
      ]
    },
    {
      "cell_type": "code",
      "execution_count": 19,
      "metadata": {
        "id": "sNU8baZyTJjG"
      },
      "outputs": [
        {
          "data": {
            "text/plain": [
              "array(['Business', 'Sci/Tech', 'Sports', 'World'], dtype=object)"
            ]
          },
          "execution_count": 19,
          "metadata": {},
          "output_type": "execute_result"
        }
      ],
      "source": [
        "le.classes_"
      ]
    },
    {
      "cell_type": "code",
      "execution_count": 20,
      "metadata": {},
      "outputs": [
        {
          "data": {
            "text/plain": [
              "category\n",
              "Sports      30000\n",
              "World       30000\n",
              "Business    29999\n",
              "Sci/Tech    29999\n",
              "Name: count, dtype: int64"
            ]
          },
          "execution_count": 20,
          "metadata": {},
          "output_type": "execute_result"
        }
      ],
      "source": [
        "df.category.value_counts()"
      ]
    },
    {
      "cell_type": "code",
      "execution_count": 21,
      "metadata": {},
      "outputs": [
        {
          "data": {
            "text/plain": [
              "category\n",
              "Business    1900\n",
              "Sci/Tech    1900\n",
              "Sports      1900\n",
              "World       1900\n",
              "Name: count, dtype: int64"
            ]
          },
          "execution_count": 21,
          "metadata": {},
          "output_type": "execute_result"
        }
      ],
      "source": [
        "df_testdata.category.value_counts()"
      ]
    },
    {
      "cell_type": "code",
      "execution_count": 22,
      "metadata": {
        "id": "zEfU48rvbrjw"
      },
      "outputs": [],
      "source": [
        "# igualamos el numero de ocurrencias por categoria para no tener bias.\n",
        "df_temp = pd.concat([\n",
        "    df.query(\"category=='Business'\")[:29999],\n",
        "    df.query(\"category=='Sci/Tech'\")[:29999],\n",
        "    df.query(\"category=='Sports'\")[:29999],\n",
        "    df.query(\"category=='World'\")[:29999]\n",
        "], ignore_index=True)\n",
        "df = df_temp"
      ]
    },
    {
      "cell_type": "code",
      "execution_count": 23,
      "metadata": {
        "id": "eINI59X63KGW"
      },
      "outputs": [
        {
          "data": {
            "image/png": "[encoded data removed]",
            "text/plain": [
              "<Figure size 1200x800 with 1 Axes>"
            ]
          },
          "metadata": {
            "image/png": {
              "height": 712,
              "width": 1037
            }
          },
          "output_type": "display_data"
        }
      ],
      "source": [
        "import matplotlib.pyplot as plt\n",
        "colors = [\n",
        "    \"#7f7f7f\",\n",
        "    \"#bcbd22\",\n",
        "    \"#17becf\",\n",
        "    \"#1a55FF\",\n",
        "    \"#1f77b4\",\n",
        "    \"#ff7f0e\",\n",
        "    \"#2ca02c\",\n",
        "    \"#d62728\",\n",
        "    \"#9467bd\",\n",
        "    \"#8c564b\",\n",
        "    \"#e377c2\",\n",
        "]\n",
        "# df.category.value_counts().where(lambda x: x > 1000).dropna().plot.bar(color=colors)\n",
        "category_counts = df.groupby([\"category\"]).count()[[\"description\"]].reset_index()\n",
        "\n",
        "plt.bar(category_counts.category,category_counts.description, color = colors)\n",
        "plt.xlabel(\"category\")\n",
        "plt.ylabel(\"Count\")\n",
        "plt.title(\"category Counts\")\n",
        "plt.show()"
      ]
    },
    {
      "cell_type": "code",
      "execution_count": 24,
      "metadata": {
        "id": "XF6eVF1UKaow"
      },
      "outputs": [],
      "source": [
        "# creamos tokenizador bert\n",
        "tokenizer = BertTokenizer.from_pretrained(PRE_TRAINED_MODEL_NAME)"
      ]
    },
    {
      "cell_type": "code",
      "execution_count": 25,
      "metadata": {
        "id": "SWWMYxnbKp7g"
      },
      "outputs": [
        {
          "name": "stdout",
          "output_type": "stream",
          "text": [
            " Sentence: This time we are tokenizing an english sentence, as you can see its the same as in the spanish one.\n",
            "   Tokens: ['This', 'time', 'we', 'are', 'tok', '##eni', '##zing', 'an', 'engl', '##ish', 'sentence', ',', 'as', 'you', 'can', 'see', 'its', 'the', 'same', 'as', 'in', 'the', 'span', '##ish', 'one', '.']\n",
            "Token IDs: [10747, 10635, 11951, 10301, 18436, 18687, 19308, 10151, 20207, 15529, 49219, 117, 10146, 13028, 10944, 12888, 10474, 10105, 11561, 10146, 10106, 10105, 51551, 15529, 10464, 119]\n"
          ]
        }
      ],
      "source": [
        "# frase ejemplo \n",
        "sample_txt = 'This time we are tokenizing an english sentence, as you can see its the same as in the spanish one.'\n",
        "# ejemplo tokenización manual (separando x listas )\n",
        "tokens = tokenizer.tokenize(sample_txt)\n",
        "token_ids = tokenizer.convert_tokens_to_ids(tokens)\n",
        "\n",
        "print(f' Sentence: {sample_txt}')\n",
        "print(f'   Tokens: {tokens}')\n",
        "print(f'Token IDs: {token_ids}')"
      ]
    },
    {
      "cell_type": "code",
      "execution_count": 26,
      "metadata": {
        "id": "I_pzoJsWK6XG"
      },
      "outputs": [
        {
          "data": {
            "text/plain": [
              "dict_keys(['input_ids', 'attention_mask'])"
            ]
          },
          "execution_count": 26,
          "metadata": {},
          "output_type": "execute_result"
        }
      ],
      "source": [
        "# Mismo ejemplo pero preparandolo para Pytorch (tensors) con encode_plus\n",
        "\n",
        "sample_txt = r\"'The medic NPCs from half life 2 can heal you up to 20% of your health bar every 90 seconds.'\"\n",
        "\n",
        "\n",
        "encoding = tokenizer.encode_plus(\n",
        "  sample_txt,\n",
        "  max_length=32,\n",
        "  add_special_tokens=True, # Añadir '[CLS]' & '[SEP]'\n",
        "  return_token_type_ids=False,\n",
        "  padding='max_length',\n",
        "  return_attention_mask=True,\n",
        "  return_tensors='pt',  # Devolver PyTorch tensors\n",
        ")\n",
        "\n",
        "encoding.keys()\n"
      ]
    },
    {
      "cell_type": "code",
      "execution_count": 27,
      "metadata": {
        "id": "807R1vytcB3u"
      },
      "outputs": [
        {
          "name": "stdout",
          "output_type": "stream",
          "text": [
            "--->longitud tokens: 32\n"
          ]
        },
        {
          "data": {
            "text/plain": [
              "['[CLS]',\n",
              " \"'\",\n",
              " 'The',\n",
              " 'med',\n",
              " '##ic',\n",
              " 'NP',\n",
              " '##C',\n",
              " '##s',\n",
              " 'from',\n",
              " 'half',\n",
              " 'life',\n",
              " '2',\n",
              " 'can',\n",
              " 'he',\n",
              " '##al',\n",
              " 'you',\n",
              " 'up',\n",
              " 'to',\n",
              " '20',\n",
              " '%',\n",
              " 'of',\n",
              " 'your',\n",
              " 'health',\n",
              " 'bar',\n",
              " 'every',\n",
              " '90',\n",
              " 'seconds',\n",
              " '.',\n",
              " \"'\",\n",
              " '[SEP]',\n",
              " '[PAD]',\n",
              " '[PAD]']"
            ]
          },
          "execution_count": 27,
          "metadata": {},
          "output_type": "execute_result"
        }
      ],
      "source": [
        "# para ver los tokens (convertirlo a algo legible)\n",
        "print(f\"--->longitud tokens: {len(tokenizer.convert_ids_to_tokens(encoding['input_ids'][0]) )}\")\n",
        "tokenizer.convert_ids_to_tokens(encoding['input_ids'][0]) "
      ]
    },
    {
      "attachments": {},
      "cell_type": "markdown",
      "metadata": {
        "id": "-hnn6D5BLoyS"
      },
      "source": [
        "### Eligiendo la longitud de la secuencia (Sequence Length)\n",
        "\n",
        "BERT funciona bien con secuencias de igual tamaño (longitud). Se usa una estrategia simple para elegir la longitud maxima. \n",
        "\n",
        "Veamos la longitud de los tokens para cada review"
      ]
    },
    {
      "cell_type": "code",
      "execution_count": 28,
      "metadata": {
        "id": "egOCqTiwLiMG"
      },
      "outputs": [
        {
          "name": "stderr",
          "output_type": "stream",
          "text": [
            "Truncation was not explicitly activated but `max_length` is provided a specific value, please use `truncation=True` to explicitly truncate examples to max length. Defaulting to 'longest_first' truncation strategy. If you encode pairs of sequences (GLUE-style) with the tokenizer you can select this strategy more precisely by providing a specific strategy to `truncation`.\n",
            "C:\\Users\\RomanGu\\AppData\\Local\\Temp\\ipykernel_8972\\192746740.py:7: UserWarning: \n",
            "\n",
            "`distplot` is a deprecated function and will be removed in seaborn v0.14.0.\n",
            "\n",
            "Please adapt your code to use either `displot` (a figure-level function with\n",
            "similar flexibility) or `histplot` (an axes-level function for histograms).\n",
            "\n",
            "For a guide to updating your code to use the new functions, please see\n",
            "https://gist.github.com/mwaskom/de44147ed2974457ad6372750bbe5751\n",
            "\n",
            "  sns.distplot(token_lens)\n"
          ]
        },
        {
          "data": {
            "image/png": "[encoded data removed]",
            "text/plain": [
              "<Figure size 1200x800 with 1 Axes>"
            ]
          },
          "metadata": {
            "image/png": {
              "height": 689,
              "width": 1032
            }
          },
          "output_type": "display_data"
        }
      ],
      "source": [
        "token_lens = []\n",
        "\n",
        "for txt in df.description:\n",
        "  tokens = tokenizer.encode(txt, max_length=512)\n",
        "  token_lens.append(len(tokens))\n",
        "# lo visualizamos para hacernos una idea\n",
        "sns.distplot(token_lens)\n",
        "plt.xlim([0, 256]);\n",
        "plt.xlabel('Token count');\n",
        "\n",
        "# vemos a ojo el numero de tokens.\n",
        "# y asignamos un valor"
      ]
    },
    {
      "cell_type": "code",
      "execution_count": 36,
      "metadata": {
        "id": "dmYybzVbMAxE"
      },
      "outputs": [],
      "source": [
        "# valor para el numero de tokens por lote (ALGO RAZONABLE 160)\n",
        "MAX_LEN = 80"
      ]
    },
    {
      "attachments": {},
      "cell_type": "markdown",
      "metadata": {
        "id": "1YwSw-cnMJye"
      },
      "source": [
        "# Construir el dataset y dataloader"
      ]
    },
    {
      "cell_type": "code",
      "execution_count": 29,
      "metadata": {
        "id": "w_vUG1-PMI3J"
      },
      "outputs": [],
      "source": [
        "# construimos dataloader\n",
        "class GPReviewDataset(Dataset):\n",
        "    \"\"\"\n",
        "    Un conjunto de datos personalizado para cargar y tokenizar datos de revisión.\n",
        "\n",
        "    Atributos\n",
        "    ----------\n",
        "    reviews : numpy.ndarray\n",
        "        El texto a clasificar.\n",
        "    targets : numpy.ndarray\n",
        "        El topic/sentiment/objetivo.\n",
        "    tokenizer : transformers.PreTrainedTokenizer\n",
        "        El objeto tokenizer de Huggingface o transformación aplicada a los datos.\n",
        "    max_len : int\n",
        "        Número de tokens por frase.\n",
        "\n",
        "    Métodos\n",
        "    -------\n",
        "    __len__(self):\n",
        "        Devuelve la longitud del conjunto de datos.\n",
        "    __getitem__(self, item):\n",
        "        Devuelve un elemento del conjunto de datos.\n",
        "\n",
        "    \"\"\"\n",
        "    \n",
        "    def __init__(self, text_toclasify, targets, tokenizer, max_len):\n",
        "        \"\"\"\n",
        "        Inicializa el conjunto de datos con los datos y el tokenizador.\n",
        "\n",
        "        Parámetros\n",
        "        ----------\n",
        "        text_toclasify : numpy.ndarray\n",
        "            El texto a clasificar.\n",
        "        targets : numpy.ndarray\n",
        "            El topic/sentiment/objetivo.\n",
        "        tokenizer : transformers.PreTrainedTokenizer\n",
        "            El objeto tokenizer de Huggingface o transformación aplicada a los datos.\n",
        "        max_len : int\n",
        "            Número de tokens por frase.\n",
        "\n",
        "        \"\"\"\n",
        "        self.reviews = text_toclasify # el texto a clasificar\n",
        "        self.targets = targets # el topic/sentiment/objetivo.\n",
        "        self.tokenizer = tokenizer # el objeto tokenizer de Huggingface o transformación aplicada a los datos\n",
        "        self.max_len = max_len # número de tokens por frase\n",
        "\n",
        "    def __len__(self):\n",
        "        \"\"\"\n",
        "        Devuelve la longitud del conjunto de datos.\n",
        "\n",
        "        Devoluciones\n",
        "        -------\n",
        "        int\n",
        "            La longitud del conjunto de datos.\n",
        "\n",
        "        \"\"\"\n",
        "        return len(self.reviews)\n",
        "\n",
        "    def __getitem__(self, item):\n",
        "        \"\"\"\n",
        "        Devuelve un elemento del conjunto de datos.\n",
        "\n",
        "        Parámetros\n",
        "        ----------\n",
        "        item : int\n",
        "            El índice del elemento a devolver.\n",
        "\n",
        "        Devoluciones\n",
        "        -------\n",
        "        dict\n",
        "            Un diccionario que contiene el texto de revisión, los identificadores de entrada,\n",
        "            la máscara de atención y las etiquetas objetivo.\n",
        "\n",
        "        \"\"\"\n",
        "        \n",
        "        review = str(self.reviews[item])\n",
        "        target = self.targets[item]\n",
        "        \n",
        "        # Configuración del tokenizador.        \n",
        "        encoding = self.tokenizer.encode_plus(\n",
        "            review,\n",
        "            add_special_tokens=True,\n",
        "            max_length=self.max_len,\n",
        "            return_token_type_ids=False,\n",
        "            truncation=True,\n",
        "            padding='max_length',\n",
        "            return_attention_mask=True,\n",
        "            return_tensors='pt',\n",
        "         )\n",
        "        \n",
        "        # Devolvemos un diccionario con los input codificados.         \n",
        "        return {\n",
        "            'review_text': review,\n",
        "            'input_ids': encoding['input_ids'].flatten(),\n",
        "            'attention_mask': encoding['attention_mask'].flatten(),\n",
        "            'targets': torch.tensor(target, dtype=torch.long)\n",
        "        }\n"
      ]
    },
    {
      "attachments": {},
      "cell_type": "markdown",
      "metadata": {
        "id": "iIGTcSrSonjI"
      },
      "source": [
        "## Train-test split"
      ]
    },
    {
      "cell_type": "code",
      "execution_count": 30,
      "metadata": {
        "id": "c8DcdXh9ogcE"
      },
      "outputs": [],
      "source": [
        "df_train, df_test = train_test_split(df, test_size=0.1, random_state=RANDOM_SEED)\n",
        "# aqui añado los datos csv del segundo dataset `testdata`\n",
        "df_val, df_test2 = train_test_split(df_testdata, test_size=0.5, random_state=RANDOM_SEED)"
      ]
    },
    {
      "cell_type": "code",
      "execution_count": 31,
      "metadata": {
        "id": "PC2UayEnosvF"
      },
      "outputs": [
        {
          "name": "stdout",
          "output_type": "stream",
          "text": [
            "Training Dataset shape: (107996, 3)\n",
            "Evaluation Dataset shape: (3800, 3)\n",
            "Test Dataset shape: (12000, 3)\n"
          ]
        }
      ],
      "source": [
        "# df_train.shape, df_val.shape, df_test.shape\n",
        "\n",
        "print(\"Training Dataset shape: \" + str(df_train.shape))\n",
        "print(\"Evaluation Dataset shape: \" + str(df_val.shape))\n",
        "print(\"Test Dataset shape: \" + str(df_test.shape))"
      ]
    },
    {
      "cell_type": "code",
      "execution_count": 32,
      "metadata": {
        "id": "GK5MBVGfpOPi"
      },
      "outputs": [],
      "source": [
        "def create_data_loader(df, col_text, col_targets, tokenizer, max_len, batch_size):\n",
        "    \"\"\"\n",
        "    Crea un cargador de datos a partir de un DataFrame.\n",
        "\n",
        "    Parámetros\n",
        "    ----------\n",
        "    df : pandas.DataFrame\n",
        "        El DataFrame que contiene los datos.\n",
        "    col_text : str\n",
        "        El nombre de la columna que contiene el texto a clasificar.\n",
        "    col_targets : str\n",
        "        El nombre de la columna que contiene las etiquetas objetivo.\n",
        "    tokenizer : transformers.PreTrainedTokenizer\n",
        "        El tokenizador a utilizar para tokenizar el texto.\n",
        "    max_len : int\n",
        "        La longitud máxima de las secuencias tokenizadas.\n",
        "    batch_size : int\n",
        "        El tamaño del lote a utilizar al cargar los datos.\n",
        "\n",
        "    Output\n",
        "    -------\n",
        "    torch.utils.data.DataLoader\n",
        "        Un cargador de datos que proporciona lotes de datos para entrenamiento o evaluación.\n",
        "\n",
        "    \"\"\"\n",
        "    ds = GPReviewDataset(\n",
        "        text_toclasify=df[col_text].to_numpy(),\n",
        "        targets=df[col_targets].to_numpy(),\n",
        "        tokenizer=tokenizer,\n",
        "        max_len=max_len\n",
        "    )\n",
        "\n",
        "    return DataLoader(\n",
        "        ds,\n",
        "        batch_size=batch_size,\n",
        "        # Antes el número de workers era num_workers=4, pero para optimizar mejor el rendimiento el sistema pide 2\n",
        "        num_workers=2\n",
        "    )\n"
      ]
    },
    {
      "cell_type": "code",
      "execution_count": 33,
      "metadata": {
        "id": "YfbHCc1xqk60"
      },
      "outputs": [
        {
          "data": {
            "text/plain": [
              "Index(['category', 'description', 'category_encoded'], dtype='object')"
            ]
          },
          "execution_count": 33,
          "metadata": {},
          "output_type": "execute_result"
        }
      ],
      "source": [
        "df.columns"
      ]
    },
    {
      "cell_type": "code",
      "execution_count": 34,
      "metadata": {
        "id": "G6fBbHlLYxH3"
      },
      "outputs": [],
      "source": [
        "### HAY QUE HACER ONE HOT ENCODING PARA PODER METERLO EN EL BERT"
      ]
    },
    {
      "cell_type": "code",
      "execution_count": 37,
      "metadata": {
        "id": "tZOu150Tqejy"
      },
      "outputs": [],
      "source": [
        "train_data_loader = create_data_loader(df_train, \"description\",\"category_encoded\", tokenizer, MAX_LEN, BATCH_SIZE)\n",
        "val_data_loader = create_data_loader(df_val,\"description\",\"category_encoded\",tokenizer, MAX_LEN, BATCH_SIZE)\n",
        "test_data_loader = create_data_loader(df_test,   \"description\",\"category_encoded\",tokenizer, MAX_LEN, BATCH_SIZE)"
      ]
    },
    {
      "cell_type": "code",
      "execution_count": 38,
      "metadata": {
        "id": "aWgGXG45q1Cd"
      },
      "outputs": [],
      "source": [
        "# vemos la estructura de un batch para el training\n",
        "data = next(iter(train_data_loader))\n",
        "data.keys()"
      ]
    },
    {
      "cell_type": "code",
      "execution_count": null,
      "metadata": {
        "id": "X2Z8VebBq3e0"
      },
      "outputs": [],
      "source": [
        "print(\"keys train dataset\",data.keys())\n",
        "print(data['input_ids'].shape)\n",
        "print(data['attention_mask'].shape)\n",
        "print(data['targets'].shape)"
      ]
    },
    {
      "cell_type": "code",
      "execution_count": null,
      "metadata": {
        "id": "vnbVOR2nhbkH"
      },
      "outputs": [],
      "source": [
        "data = next(iter(val_data_loader))\n",
        "print(\"keys evaluation dataset\",data.keys())\n",
        "print(data['input_ids'].shape)\n",
        "print(data['attention_mask'].shape)\n",
        "print(data['targets'].shape)"
      ]
    },
    {
      "cell_type": "code",
      "execution_count": 38,
      "metadata": {
        "id": "OMhPsjtHv5UE"
      },
      "outputs": [],
      "source": [
        "# cargamos el modelo BERT\n",
        "#creamos un clasificador BERT para realizar clasificaciones\n",
        "class SentimentClassifier(nn.Module):\n",
        "\n",
        "  def __init__(self, n_classes):\n",
        "    super(SentimentClassifier, self).__init__() # hereda propiedades y methods de otras clases. llama al init de otra clase.\n",
        "    # Cuando creamos nuestro modelo, podemos elegir el modelo base o pillar BertForSequenceClassification.from_pretrained(PRE_TRAINED_MODEL_NAME)\n",
        "    self.bert = BertModel.from_pretrained(PRE_TRAINED_MODEL_NAME)\n",
        "    self.drop = nn.Dropout(p=0.3) # dropout layer\n",
        "    self.out = nn.Linear(self.bert.config.hidden_size, n_classes)\n",
        "  \n",
        "  def forward(self, input_ids, attention_mask):\n",
        "    _, pooled_output = self.bert(\n",
        "      input_ids=input_ids,\n",
        "      attention_mask=attention_mask,\n",
        "      # es necesario añadirlo despues del cambio de la v3 a la v4\n",
        "      return_dict=False \n",
        "    )\n",
        "    output = self.drop(pooled_output)\n",
        "    return self.out(output)"
      ]
    },
    {
      "cell_type": "code",
      "execution_count": 39,
      "metadata": {
        "id": "cTiTkP12znqi"
      },
      "outputs": [
        {
          "name": "stdout",
          "output_type": "stream",
          "text": [
            "Numero de cagetorias: 4\n"
          ]
        }
      ],
      "source": [
        "class_names=le.classes_\n",
        "# print(f\"Numero de cagetorias: {len(class_names)}\")\n",
        "print(f\"Numero de cagetorias: {len(le.classes_)}\")"
      ]
    },
    {
      "attachments": {},
      "cell_type": "markdown",
      "metadata": {
        "id": "cd3En_92e3pt"
      },
      "source": [
        "## asignamos el modelo"
      ]
    },
    {
      "cell_type": "code",
      "execution_count": 40,
      "metadata": {
        "id": "CzF5yPLCzUsW"
      },
      "outputs": [
        {
          "name": "stderr",
          "output_type": "stream",
          "text": [
            "Downloading pytorch_model.bin: 100%|██████████| 714M/714M [02:13<00:00, 5.36MB/s] \n",
            "c:\\Users\\RomanGu\\OneDrive - BASF\\Documents\\CODE\\tfmfresh\\lib\\site-packages\\huggingface_hub\\file_download.py:133: UserWarning: `huggingface_hub` cache-system uses symlinks by default to efficiently store duplicated files but your machine does not support them in C:\\Users\\RomanGu\\.cache\\huggingface\\hub. Caching files will still work but in a degraded version that might require more space on your disk. This warning can be disabled by setting the `HF_HUB_DISABLE_SYMLINKS_WARNING` environment variable. For more details, see https://huggingface.co/docs/huggingface_hub/how-to-cache#limitations.\n",
            "To support symlinks on Windows, you either need to activate Developer Mode or to run Python as an administrator. In order to see activate developer mode, see this article: https://docs.microsoft.com/en-us/windows/apps/get-started/enable-your-device-for-development\n",
            "  warnings.warn(message)\n",
            "Some weights of the model checkpoint at bert-base-multilingual-cased were not used when initializing BertModel: ['cls.predictions.transform.LayerNorm.weight', 'cls.seq_relationship.bias', 'cls.predictions.bias', 'cls.predictions.decoder.weight', 'cls.seq_relationship.weight', 'cls.predictions.transform.dense.weight', 'cls.predictions.transform.LayerNorm.bias', 'cls.predictions.transform.dense.bias']\n",
            "- This IS expected if you are initializing BertModel from the checkpoint of a model trained on another task or with another architecture (e.g. initializing a BertForSequenceClassification model from a BertForPreTraining model).\n",
            "- This IS NOT expected if you are initializing BertModel from the checkpoint of a model that you expect to be exactly identical (initializing a BertForSequenceClassification model from a BertForSequenceClassification model).\n"
          ]
        }
      ],
      "source": [
        "# asignamos el modelo a un objeto, le pasamos como argumento el countdistinct de todas las etiquetas que tenemos.\n",
        "# y lo movemos a la memoria de la GPU\n",
        "\n",
        "model = SentimentClassifier(len(le.classes_))\n",
        "model = model.to(device)"
      ]
    },
    {
      "attachments": {},
      "cell_type": "markdown",
      "metadata": {
        "id": "g9xikRdtRN1N"
      },
      "source": [
        "### Training"
      ]
    },
    {
      "attachments": {},
      "cell_type": "markdown",
      "metadata": {
        "id": "76g7FV85H-T8"
      },
      "source": [
        "Para reproducir el procedimiento de entrenamiento del **documento BERT**  usaremos el optimizador [AdamW](https://huggingface.co/transformers/main_classes/optimizer_schedules.html#adamw) de Hugging Face. Corregirá el reparto/decadencia de pesos (weight decay), para que sea similar al documento original.  Tambien usaremos un planificador lineal (para la curva de aprendizaje) sin steps de calentamiento (warmup steps). "
      ]
    },
    {
      "cell_type": "code",
      "execution_count": 41,
      "metadata": {
        "id": "5v-ArJ2fCCcU"
      },
      "outputs": [
        {
          "name": "stderr",
          "output_type": "stream",
          "text": [
            "c:\\Users\\RomanGu\\OneDrive - BASF\\Documents\\CODE\\tfmfresh\\lib\\site-packages\\transformers\\optimization.py:407: FutureWarning: This implementation of AdamW is deprecated and will be removed in a future version. Use the PyTorch implementation torch.optim.AdamW instead, or set `no_deprecation_warning=True` to disable this warning\n",
            "  warnings.warn(\n"
          ]
        }
      ],
      "source": [
        "# EPOCHS = 4 # 10\n",
        "# LEARNING_RATE = 2e-5\n",
        "optimizer = AdamW(model.parameters(), lr=LEARNING_RATE, correct_bias=False)\n",
        "total_steps = len(train_data_loader) * EPOCHS\n",
        "\n",
        "scheduler = get_linear_schedule_with_warmup(\n",
        "  optimizer,\n",
        "  num_warmup_steps=0,\n",
        "  num_training_steps=total_steps\n",
        ")\n",
        "# la funcion de perdida en este caso es entropia cruzada, que combina LogSoftMax y NLLLoss en una sola clase. Muy utilizada en ML y concretamente en clasificación multietiqueta. \n",
        "loss_fn = nn.CrossEntropyLoss().to(device)"
      ]
    },
    {
      "attachments": {},
      "cell_type": "markdown",
      "metadata": {
        "id": "A8522g7JIu5J"
      },
      "source": [
        "¿Cómo llegamos a la conclusion de usar este numero de hiperparámetros? Los autores de BERT tienen algunas recomendaciones para el ajuste fino: \n",
        "\n",
        "- Batch size: 16, 32\n",
        "- Learning rate (Adam): 5e-5, 3e-5, 2e-5\n",
        "- Number of epochs: 2, 3, 4\n",
        "\n",
        "Vamos a ignorar la recomendación del numero de \"vueltas\" *epochs* pero nos quedamos con el resto. A tener en cuenta, que al aumentar el tamaño del lote (batch size) se reduce significativamente el tiempo de entrenamiento a costas de una menor precision (lower accuracy).\n",
        "\n",
        "Escribimos una funcion auxiliar que nos ayude a entrenar nuestro modelo solo una vuelta."
      ]
    },
    {
      "cell_type": "code",
      "execution_count": 42,
      "metadata": {
        "id": "bzl9UhuNx1_Q"
      },
      "outputs": [],
      "source": [
        "def train_epoch(model, data_loader, loss_fn, optimizer, device, scheduler, n_examples):\n",
        "    \"\"\"\n",
        "    Entrena el modelo para una época.\n",
        "\n",
        "    Parámetros\n",
        "    ----------\n",
        "    model : torch.nn.Module\n",
        "        El modelo a entrenar.\n",
        "    data_loader : torch.utils.data.DataLoader\n",
        "        El cargador de datos que proporciona lotes de datos de entrenamiento.\n",
        "    loss_fn : callable\n",
        "        La función de pérdida a utilizar.\n",
        "    optimizer : torch.optim.Optimizer\n",
        "        El optimizador a utilizar para actualizar los parámetros del modelo.\n",
        "    device : torch.device\n",
        "        El dispositivo al que mover los datos (por ejemplo, 'cuda' o 'cpu').\n",
        "    scheduler : torch.optim.lr_scheduler._LRScheduler\n",
        "        El programador de tasa de aprendizaje a utilizar.\n",
        "    n_examples : int\n",
        "        El número de ejemplos en el conjunto de datos.\n",
        "\n",
        "    Output\n",
        "    -------\n",
        "    float\n",
        "        La precisión del modelo en los datos de entrenamiento.\n",
        "    float\n",
        "        La pérdida promedio del modelo en los datos de entrenamiento.\n",
        "\n",
        "    \"\"\"\n",
        "    model = model.train()\n",
        "\n",
        "    losses = []\n",
        "    correct_predictions = 0\n",
        "    # Aquí el Scheduler se llama cada vez que se alimenta otro lote (d) al modelo.\n",
        "    for d in data_loader:\n",
        "        input_ids = d[\"input_ids\"].to(device)\n",
        "        attention_mask = d[\"attention_mask\"].to(device)\n",
        "        targets = d[\"targets\"].to(device)\n",
        "        # Salidas del modelo \n",
        "        outputs = model(\n",
        "            input_ids=input_ids,\n",
        "            attention_mask=attention_mask\n",
        "        )\n",
        "\n",
        "        _, preds = torch.max(outputs, dim=1)\n",
        "        \n",
        "        loss = loss_fn(outputs, targets)\n",
        "\n",
        "        correct_predictions += torch.sum(preds == targets)\n",
        "        losses.append(loss.item())\n",
        "\n",
        "        loss.backward()\n",
        "        # Con clip_grad_norm normalizamos los parámetros del modelo evitando Gradient exploding\n",
        "        nn.utils.clip_grad_norm_(model.parameters(), max_norm=1.0)\n",
        "        optimizer.step()\n",
        "        scheduler.step()\n",
        "        optimizer.zero_grad()\n",
        "\n",
        "    return correct_predictions.double() / n_examples, np.mean(losses)\n"
      ]
    },
    {
      "attachments": {},
      "cell_type": "markdown",
      "metadata": {
        "id": "336WoqhwVwA9"
      },
      "source": [
        "# Evaluar el modelo\n",
        "funcion para evaluar el modelo y luego crear loop"
      ]
    },
    {
      "cell_type": "code",
      "execution_count": 43,
      "metadata": {
        "id": "yx4pU4RXVut0"
      },
      "outputs": [],
      "source": [
        "def eval_model(model, data_loader, loss_fn, device, n_examples):\n",
        "  \"\"\"\n",
        "  Evaluate the performance of a PyTorch model on a given dataset.\n",
        "\n",
        "  Parameters\n",
        "  ----------\n",
        "  model : torch.nn.Module\n",
        "      The PyTorch model to evaluate.\n",
        "  data_loader : torch.utils.data.DataLoader\n",
        "      The data loader for the dataset to evaluate on.\n",
        "  loss_fn : callable\n",
        "      The loss function to use for evaluation.\n",
        "  device : torch.device\n",
        "      The device (CPU or GPU) to use for evaluation.\n",
        "  n_examples : int\n",
        "      The total number of examples in the dataset.\n",
        "\n",
        "  Returns\n",
        "  -------\n",
        "  accuracy : float\n",
        "      The accuracy of the model on the dataset.\n",
        "  loss : float\n",
        "      The average loss of the model on the dataset.\n",
        "  \"\"\"\n",
        "  model = model.eval()\n",
        "\n",
        "  losses = []\n",
        "  correct_predictions = 0\n",
        "\n",
        "  with torch.no_grad():\n",
        "    for d in data_loader:\n",
        "      input_ids = d[\"input_ids\"].to(device)\n",
        "      attention_mask = d[\"attention_mask\"].to(device)\n",
        "      targets = d[\"targets\"].to(device)\n",
        "\n",
        "      outputs = model(\n",
        "        input_ids=input_ids,\n",
        "        attention_mask=attention_mask\n",
        "      )\n",
        "      _, preds = torch.max(outputs, dim=1)\n",
        "\n",
        "      loss = loss_fn(outputs, targets)\n",
        "\n",
        "      correct_predictions += torch.sum(preds == targets)\n",
        "      losses.append(loss.item())\n",
        "\n",
        "  return correct_predictions.double() / n_examples, np.mean(losses)"
      ]
    },
    {
      "attachments": {},
      "cell_type": "markdown",
      "metadata": {
        "id": "9c27XnwfWHoU"
      },
      "source": [
        "### loop de entrenamiento"
      ]
    },
    {
      "cell_type": "code",
      "execution_count": 44,
      "metadata": {
        "id": "ANzYwBuiWG8X"
      },
      "outputs": [
        {
          "name": "stdout",
          "output_type": "stream",
          "text": [
            "Epoch 1/4\n",
            "----------\n"
          ]
        }
      ],
      "source": [
        "%%time\n",
        "\n",
        "history = defaultdict(list)# creamos un diccionario de listas vacio, para añadir las vueltas\n",
        "best_accuracy = 0\n",
        "\n",
        "for epoch in range(EPOCHS):\n",
        "\n",
        "  print(f'Epoch {epoch + 1}/{EPOCHS}')\n",
        "  print('-' * 10)\n",
        "\n",
        "  train_acc, train_loss = train_epoch(\n",
        "    model,\n",
        "    train_data_loader,    \n",
        "    loss_fn, \n",
        "    optimizer, \n",
        "    device, \n",
        "    scheduler, \n",
        "    len(df_train)\n",
        "  )\n",
        "\n",
        "  print(f'Train loss {train_loss} accuracy {train_acc}')\n",
        "\n",
        "  val_acc, val_loss = eval_model(\n",
        "    model,\n",
        "    val_data_loader,\n",
        "    loss_fn, \n",
        "    device, \n",
        "    len(df_val)\n",
        "  )\n",
        "\n",
        "  print(f'Val   loss {val_loss} accuracy {val_acc}')\n",
        "\n",
        "  history['train_acc'].append(train_acc)\n",
        "  history['train_loss'].append(train_loss)\n",
        "  history['val_acc'].append(val_acc)\n",
        "  history['val_loss'].append(val_loss)\n",
        "  # almacenamos el mejor estado del modelo \n",
        "  if val_acc > best_accuracy:\n",
        "    torch.save(model.state_dict(), 'best_model_state.bin')\n",
        "    best_accuracy = val_acc"
      ]
    },
    {
      "cell_type": "code",
      "execution_count": null,
      "metadata": {
        "id": "dwld1s97UL6r"
      },
      "outputs": [],
      "source": [
        "if not os.path.exists('./modelos'):\n",
        "    os.makedirs('./modelos')"
      ]
    },
    {
      "cell_type": "code",
      "execution_count": null,
      "metadata": {
        "id": "oLV3w1ONS6F0"
      },
      "outputs": [],
      "source": [
        "# si el modelo es de nuestro agrado podemos guardarlo en drive\n",
        "import datetime\n",
        "import os\n",
        "startdate=str(datetime.datetime.now())\n",
        "startdate=startdate.replace(' ','_').replace(':','').replace('-','').replace('.','_')\n",
        "\n",
        "ruta_guardado = os.path.join('./modelos',startdate+\"_\"+'bert_model_state.bin')\n",
        "# !cp {'best_model_state.bin'} {ruta_guardado}"
      ]
    },
    {
      "attachments": {},
      "cell_type": "markdown",
      "metadata": {
        "id": "wLQf52c7fbzr"
      },
      "source": [
        "Ahora podemos ver el historial de entrenamiento Vs la precisión de la validación."
      ]
    },
    {
      "cell_type": "code",
      "execution_count": null,
      "metadata": {
        "id": "-FWG7kBm372V"
      },
      "outputs": [],
      "source": [
        "plt.plot(history['train_acc'], label='train accuracy') # precisión de entrenamiento\n",
        "plt.plot(history['val_acc'], label='validation accuracy') # precisión de validación.\n",
        "\n",
        "plt.title('Historial de entrenamiento')\n",
        "plt.ylabel('Accuracy')\n",
        "plt.xlabel('Epoch')\n",
        "plt.legend()\n",
        "plt.ylim([0, 1]);"
      ]
    },
    {
      "attachments": {},
      "cell_type": "markdown",
      "metadata": {
        "id": "U3HZb3NWFtFf"
      },
      "source": [
        "## Evaluacion\n",
        "Como sabemos que nuestro modelo está prediciendo bien? Se empieza calculando la precisión en nuestro set de prueba."
      ]
    },
    {
      "cell_type": "code",
      "execution_count": null,
      "metadata": {
        "id": "jS3gJ_qBEljD"
      },
      "outputs": [],
      "source": [
        "test_acc, _ = eval_model(\n",
        "  model,\n",
        "  test_data_loader,\n",
        "  loss_fn,\n",
        "  device,\n",
        "  len(df_test)\n",
        ")\n",
        "\n",
        "test_acc.item()"
      ]
    },
    {
      "attachments": {},
      "cell_type": "markdown",
      "metadata": {
        "id": "mdQ7-ylCj8Gd"
      },
      "source": [
        "La precisión es casi un 1% mas baja que en la de validación. Nuestro modelo parece generalizar bien.\n",
        "\n",
        "Este modelo con tan solo 40MB de peso y 4 epochs nos ha permitido alcanzar casi un 90% de accuracy en menos de 30 min utilizando GPU.\n",
        "\n",
        "Definamos una función para ayudarnos a tomar predicciones de nuestro modelo:\n",
        "\n",
        "\n",
        "La función siguiente `get_predictions` toma un modelo y un cargador de datos como argumentos y devuelve las predicciones del modelo, las probabilidades de predicción y los valores reales para los datos en el cargador de datos.\n",
        "\n",
        "La función comienza poniendo el modelo en modo de evaluación con `model.eval()`. Luego, inicializa cuatro listas vacías para almacenar los textos de revisión, las predicciones, las probabilidades de predicción y los valores reales.\n",
        "\n",
        "La función itera sobre los lotes de datos en el cargador de datos utilizando un bucle `for`. Para cada lote, extrae el texto de revisión, los identificadores de entrada, la máscara de atención y las etiquetas objetivo del lote y los mueve al dispositivo especificado.\n",
        "\n",
        "Luego, la función pasa los identificadores de entrada y la máscara de atención al modelo para obtener las salidas del modelo. Utiliza `torch.max` para obtener las predicciones del modelo y `F.softmax` para obtener las probabilidades de predicción.\n",
        "\n",
        "La función agrega el texto de revisión, las predicciones, las probabilidades de predicción y las etiquetas objetivo a las listas correspondientes. Después de iterar sobre todos los lotes en el cargador de datos, la función apila las listas de predicciones, probabilidades de predicción y valores reales utilizando `torch.stack` y las mueve a la CPU.\n",
        "\n",
        "Finalmente, la función devuelve las cuatro listas: `review_texts`, `predictions`, `prediction_probs` y `real_values`."
      ]
    },
    {
      "cell_type": "code",
      "execution_count": null,
      "metadata": {
        "id": "EgR6MuNS8jr_"
      },
      "outputs": [],
      "source": [
        "def get_predictions(model, data_loader):\n",
        "  \"\"\"\n",
        "    Función para obtener predicciones de un modelo PyTorch.\n",
        "\n",
        "    Parameters\n",
        "    ----------\n",
        "    model : torch.nn.Module\n",
        "        Modelo de PyTorch ya entrenado.\n",
        "    data_loader : torch.utils.data.DataLoader\n",
        "        DataLoader de PyTorch que contiene los datos de entrada.\n",
        "\n",
        "    Returns\n",
        "    -------\n",
        "    tuple\n",
        "        Una tupla que contiene las siguientes listas:\n",
        "        - review_texts: Lista de cadenas de texto que representan las reseñas.\n",
        "        - predictions: Lista de predicciones para cada reseña.\n",
        "        - prediction_probs: Lista de probabilidades de predicción para cada reseña.\n",
        "        - real_values: Lista de valores reales para cada reseña.\n",
        "  \"\"\"\n",
        "\n",
        "  model = model.eval()\n",
        "  \n",
        "  review_texts = []\n",
        "  predictions = []\n",
        "  prediction_probs = []\n",
        "  real_values = []\n",
        "\n",
        "  with torch.no_grad():\n",
        "    for d in data_loader:\n",
        "\n",
        "      texts = d[\"review_text\"]\n",
        "      input_ids = d[\"input_ids\"].to(device)\n",
        "      attention_mask = d[\"attention_mask\"].to(device)\n",
        "      targets = d[\"targets\"].to(device)\n",
        "\n",
        "      outputs = model(\n",
        "        input_ids=input_ids,\n",
        "        attention_mask=attention_mask\n",
        "      )\n",
        "      _, preds = torch.max(outputs, dim=1)\n",
        "\n",
        "      probs = F.softmax(outputs, dim=1)\n",
        "\n",
        "      review_texts.extend(texts)\n",
        "      predictions.extend(preds)\n",
        "      prediction_probs.extend(probs)\n",
        "      real_values.extend(targets)\n",
        "\n",
        "  predictions = torch.stack(predictions).cpu()\n",
        "  prediction_probs = torch.stack(prediction_probs).cpu()\n",
        "  real_values = torch.stack(real_values).cpu()\n",
        "  return review_texts, predictions, prediction_probs, real_values"
      ]
    },
    {
      "attachments": {},
      "cell_type": "markdown",
      "metadata": {
        "id": "dkbnBTI7kd_y"
      },
      "source": [
        "Esto es similar a la función de evaluación, excepto que almacenamos el texto de las Reviews y las predicciones. (aplicando la función softmax en la salida del modelo):\n"
      ]
    },
    {
      "cell_type": "code",
      "execution_count": null,
      "metadata": {
        "id": "zHdPZr60-0c_"
      },
      "outputs": [],
      "source": [
        "y_review_texts, y_pred, y_pred_probs, y_test = get_predictions(\n",
        "  model,\n",
        "  test_data_loader\n",
        ")"
      ]
    },
    {
      "attachments": {},
      "cell_type": "markdown",
      "metadata": {
        "id": "gVwoVij2lC7F"
      },
      "source": [
        "Veeamos el informe de la clasificación."
      ]
    },
    {
      "cell_type": "code",
      "execution_count": null,
      "metadata": {
        "id": "L8a9_8-ND3Is"
      },
      "outputs": [],
      "source": [
        "print(classification_report(y_test, y_pred, target_names=class_names))\n",
        "print(accuracy_score(y_test, y_pred))"
      ]
    },
    {
      "attachments": {},
      "cell_type": "markdown",
      "metadata": {
        "id": "rFAekw3mmWUi"
      },
      "source": [
        "VER SI ESTA EVALUANDO CORRECTAMENTE.\n",
        "\n",
        "La matriz de confusión:"
      ]
    },
    {
      "cell_type": "code",
      "execution_count": null,
      "metadata": {
        "id": "6d1qxsc__DTh"
      },
      "outputs": [],
      "source": [
        "# def show_confusion_matrix(confusion_matrix):\n",
        "#   hmap = sns.heatmap(confusion_matrix, annot=True, fmt=\"d\", cmap=\"Blues\")\n",
        "#   hmap.yaxis.set_ticklabels(hmap.yaxis.get_ticklabels(), rotation=0, ha='right')\n",
        "#   hmap.xaxis.set_ticklabels(hmap.xaxis.get_ticklabels(), rotation=30, ha='right')\n",
        "#   plt.ylabel('True category')\n",
        "#   plt.xlabel('Predicted category');\n",
        "\n",
        "\n",
        "def show_confusion_matrix(confusion_matrix):\n",
        "    \"\"\"\n",
        "    Muestra una matriz de confusión utilizando una mapa de calor.\n",
        "\n",
        "    Parameters\n",
        "    ----------\n",
        "    confusion_matrix : numpy.ndarray\n",
        "        Una matriz de confusión de forma (n_classes, n_classes) donde las filas representan las categorías verdaderas y las columnas representan las categorías predichas.\n",
        "\n",
        "    Returns\n",
        "    -------\n",
        "    None\n",
        "    \"\"\"\n",
        "    sns.heatmap(confusion_matrix, annot=True, fmt=\"d\", cmap=\"Blues\")\n",
        "    plt.yticks(rotation=0)\n",
        "    plt.xticks(rotation=30)\n",
        "    plt.ylabel('Categoría verdadera')\n",
        "    plt.xlabel('Categoría predicha');\n",
        "\n",
        "\n",
        "cm = confusion_matrix(y_test, y_pred)\n",
        "df_cm = pd.DataFrame(cm, index=class_names, columns=class_names)\n",
        "show_confusion_matrix(df_cm)"
      ]
    },
    {
      "cell_type": "code",
      "execution_count": null,
      "metadata": {
        "id": "BbjNCs5IXRj-"
      },
      "outputs": [],
      "source": [
        "## VER AQUI FALSOS POSITIVOS Y AJUSTE\n",
        "'''\n",
        "Como podemos observar, al modelo le cuesta diferenciar entre ciencia y tecnología\\n\n",
        "y Negocios, estas categorias agrupan la mayor concentración de falsos positivos.\n",
        "'''"
      ]
    },
    {
      "cell_type": "code",
      "execution_count": null,
      "metadata": {
        "id": "iANBiY3sLo-K"
      },
      "outputs": [],
      "source": [
        "idx = 2\n",
        "\n",
        "review_text = y_review_texts[idx]\n",
        "true_category = y_test[idx]\n",
        "pred_df = pd.DataFrame({\n",
        "  'class_names': class_names,\n",
        "  'values': y_pred_probs[idx]\n",
        "})"
      ]
    },
    {
      "cell_type": "code",
      "execution_count": null,
      "metadata": {
        "id": "-8D0rb1yfnv4"
      },
      "outputs": [],
      "source": [
        "print(\"\\n\".join(wrap(review_text)))\n",
        "print()\n",
        "print(f'True category: {class_names[true_category]}')"
      ]
    },
    {
      "attachments": {},
      "cell_type": "markdown",
      "metadata": {
        "id": "f7hj_IZFnn2X"
      },
      "source": [
        "Ahora podemos mirar la confianza de cada clasificación de nuestro modelo:"
      ]
    },
    {
      "cell_type": "code",
      "execution_count": null,
      "metadata": {
        "id": "XmdTvuIXXsVq"
      },
      "outputs": [],
      "source": [
        "# VER LA CONFIANZA DE LA PREDICCIÓN DEL EJEMPLO ANTERIOR.\n",
        "sns.barplot(x='values', y='class_names', data=pred_df, orient='h')\n",
        "plt.ylabel('category')\n",
        "plt.xlabel('probability')\n",
        "plt.xlim([0, 1]);"
      ]
    },
    {
      "cell_type": "code",
      "execution_count": null,
      "metadata": {
        "id": "fuYBm45CGlkD"
      },
      "outputs": [],
      "source": []
    }
  ],
  "metadata": {
    "colab": {
      "gpuType": "T4",
      "provenance": []
    },
    "gpuClass": "standard",
    "kernelspec": {
      "display_name": "Python 3",
      "name": "python3"
    },
    "language_info": {
      "codemirror_mode": {
        "name": "ipython",
        "version": 3
      },
      "file_extension": ".py",
      "mimetype": "text/x-python",
      "name": "python",
      "nbconvert_exporter": "python",
      "pygments_lexer": "ipython3",
      "version": "3.8.1"
    }
  },
  "nbformat": 4,
  "nbformat_minor": 0
}
