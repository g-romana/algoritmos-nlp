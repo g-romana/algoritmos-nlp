{
  "cells": [
    {
      "cell_type": "markdown",
      "metadata": {
        "application/vnd.databricks.v1+cell": {
          "cellMetadata": {
            "byteLimit": 2048000,
            "rowLimit": 10000
          },
          "inputWidgets": {},
          "nuid": "f8adb2f7-fb2f-434a-b98f-2382f7f752ed",
          "showTitle": false,
          "title": ""
        },
        "id": "SFWacCW2OdUG"
      },
      "source": [
        "# Funciones iniciales"
      ]
    },
    {
      "cell_type": "code",
      "execution_count": 1,
      "metadata": {
        "application/vnd.databricks.v1+cell": {
          "cellMetadata": {
            "byteLimit": 2048000,
            "rowLimit": 10000
          },
          "inputWidgets": {},
          "nuid": "069ad511-ba62-4e04-b1eb-d707ae1aad6c",
          "showTitle": false,
          "title": ""
        },
        "colab": {
          "base_uri": "https://localhost:8080/"
        },
        "id": "4wIwIlCsolrS",
        "outputId": "bed28f91-3814-4e06-b786-7666f50909ee"
      },
      "outputs": [
        {
          "output_type": "stream",
          "name": "stdout",
          "text": [
            "openjdk version \"11.0.19\" 2023-04-18\n",
            "OpenJDK Runtime Environment (build 11.0.19+7-post-Ubuntu-0ubuntu120.04.1)\n",
            "OpenJDK 64-Bit Server VM (build 11.0.19+7-post-Ubuntu-0ubuntu120.04.1, mixed mode, sharing)\n",
            "\n",
            "Java is installed\n",
            "Instalando PySpark 3.2.3 y Spark NLP 4.4.2\n",
            "Actualizando libcudnn8 a 8.1.0 para GPU\n",
            "\u001b[2K     \u001b[90m━━━━━━━━━━━━━━━━━━━━━━━━━━━━━━━━━━━━━━━\u001b[0m \u001b[32m281.5/281.5 MB\u001b[0m \u001b[31m4.8 MB/s\u001b[0m eta \u001b[36m0:00:00\u001b[0m\n",
            "\u001b[?25h  Preparing metadata (setup.py) ... \u001b[?25l\u001b[?25hdone\n",
            "\u001b[2K     \u001b[90m━━━━━━━━━━━━━━━━━━━━━━━━━━━━━━━━━━━━━━\u001b[0m \u001b[32m489.4/489.4 kB\u001b[0m \u001b[31m42.2 MB/s\u001b[0m eta \u001b[36m0:00:00\u001b[0m\n",
            "\u001b[2K     \u001b[90m━━━━━━━━━━━━━━━━━━━━━━━━━━━━━━━━━━━━━━\u001b[0m \u001b[32m199.7/199.7 kB\u001b[0m \u001b[31m25.0 MB/s\u001b[0m eta \u001b[36m0:00:00\u001b[0m\n",
            "\u001b[?25h  Building wheel for pyspark (setup.py) ... \u001b[?25l\u001b[?25hdone\n"
          ]
        }
      ],
      "source": [
        "import os\n",
        "import subprocess\n",
        "import platform\n",
        "import shutil\n",
        "import urllib.request\n",
        "import tarfile\n",
        "\n",
        "def is_java_installed():\n",
        "    try:\n",
        "        output = subprocess.check_output(['java', '-version'], stderr=subprocess.STDOUT)\n",
        "        print(output.decode())\n",
        "        return True\n",
        "    except Exception as e:\n",
        "        print(e)\n",
        "        return False\n",
        "\n",
        "if is_java_installed():\n",
        "    print(\"Java is installed\")\n",
        "else:\n",
        "    print(\"Java is not installed\")\n",
        "\n",
        "\n",
        "def setup_spark_nlp(base_path=r'C:'):\n",
        "    \"\"\"\n",
        "    Sets up Spark NLP with Spark 3.2.3 on Windows.\n",
        "    :param base_path: base path for installation (optional)\n",
        "    \"\"\"\n",
        "    # Step 1: descargar e installar Adopt OpenJDK 1.8\n",
        "    # Este paso no puede ser automatizado y debe ser realizado manualmente. \n",
        "    \n",
        "    # Step 2: Descargar pre-compiled Hadoop binaries\n",
        "    hadoop_bin_url = 'https://github.com/cdarlint/winutils/raw/master/hadoop-3.2.0/bin/'\n",
        "    hadoop_bin_dir = os.path.join(base_path, 'hadoop', 'bin')\n",
        "    os.makedirs(hadoop_bin_dir, exist_ok=True)\n",
        "\n",
        "    for file in ['winutils.exe', 'hadoop.dll']:\n",
        "        urllib.request.urlretrieve(hadoop_bin_url + file, os.path.join(hadoop_bin_dir, file))\n",
        "\n",
        "    # Step 3: Descargar Apache Spark 3.2.3\n",
        "\n",
        "    spark_url = 'https://archive.apache.org/dist/spark/spark-3.2.3/spark-3.2.3-bin-hadoop3.2.tgz'\n",
        "    spark_dir = os.path.join(base_path, 'spark')\n",
        "\n",
        "    with urllib.request.urlopen(spark_url) as response:\n",
        "        with open('spark.tgz', 'wb') as f:\n",
        "            shutil.copyfileobj(response, f)\n",
        "\n",
        "    with tarfile.open('spark.tgz', 'r:gz') as tf:\n",
        "        tf.extractall(spark_dir)\n",
        "\n",
        "    # Step 4: Set environment variables \n",
        "    os.environ['HADOOP_HOME'] = os.path.join(base_path, 'hadoop','bin')\n",
        "    os.environ['SPARK_HOME'] = spark_dir\n",
        "\n",
        "    # Step 5: Add to PATH environment variable\n",
        "    os.environ['PATH'] += os.pathsep + os.path.join(os.environ['HADOOP_HOME'], 'bin')\n",
        "    os.environ['PATH'] += os.pathsep + os.path.join(os.environ['SPARK_HOME'], 'bin')\n",
        "\n",
        "    # Step 6: Install Microsoft Visual C++ 2010 Redistributed Package (x64)\n",
        "    # This step cannot be automated and must be done manually.\n",
        "\n",
        "    # Step 7: Create folders C:\\tmp and C:\\tmp\\hive\n",
        "    os.makedirs(os.path.join(base_path, 'tmp', 'hive'), exist_ok=True)\n",
        "\n",
        "    # Change permissions for C:\\tmp and C:\\tmp\\hive\n",
        "    winutils = os.path.join(os.environ['HADOOP_HOME'], 'bin', 'winutils.exe')\n",
        "    os.system(f'{winutils} chmod 777 /tmp/hive')\n",
        "    os.system(f'{winutils} chmod 777 /tmp/')\n",
        "\n",
        "\n",
        "def setup(pyspark_version=\"3.2.3\", sparknlp_version=\"4.4.2\"):\n",
        "    \"\"\"\n",
        "    Configura el entorno de Google Colab con PySpark y Spark NLP.\n",
        "    :param pyspark_version: versión de PySpark a instalar (opcional)\n",
        "    :param sparknlp_version: versión de Spark NLP a instalar (opcional)\n",
        "    \"\"\"\n",
        "    if 'dbutils' in globals():\n",
        "        print(\"Este notebook se está ejecutando en Databricks, sigue los siguientes pasos para configurarlo si no lo has hecho ya\") \n",
        "        data = [[\"Paso\", \"Descripción\"],\n",
        "        [\"1\", \"Configurar `spark.kryoserializer.buffer.max` a `2000M` y `spark.serializer` a `org.apache.spark.serializer.KryoSerializer`\"],\n",
        "        [\"2\", \"En la pestaña de Bibliotecas dentro de tu clúster, sigue estos pasos:\"],\n",
        "        [\"3.1\", \"Instalar nuevo -> PyPI -> spark-nlp -> Instalar\"],\n",
        "        [\"3.2\", \"Instalar nuevo -> Maven -> Coordenadas -> com.johnsnowlabs.nlp:spark-nlp_2.12:4.4.3\"]]\n",
        "        for row in data:\n",
        "            print(\"{: <5} {: <10}\".format(*row))\n",
        "        return\n",
        "    elif platform.system() == 'Linux':\n",
        "        os.environ[\"JAVA_HOME\"] = \"/usr/lib/jvm/java-11-openjdk-amd64\"\n",
        "        print(f\"Instalando PySpark {pyspark_version} y Spark NLP {sparknlp_version}\")\n",
        "        if 'NVIDIA' in subprocess.getoutput('nvidia-smi'):\n",
        "            print(\"Actualizando libcudnn8 a 8.1.0 para GPU\")\n",
        "            !apt install -qq --allow-change-held-packages libcudnn8=8.1.0.77-1+cuda11.2 -y &> /dev/null\n",
        "        !pip install --upgrade -q pyspark==$pyspark_version spark-nlp==$sparknlp_version findspark\n",
        "\n",
        "    elif platform.system() == 'Windows':\n",
        "        print(f\"Instalando PySpark {pyspark_version} y Spark NLP {sparknlp_version}\")\n",
        "        !pip install --upgrade -q pyspark==$pyspark_version spark-nlp==$sparknlp_version findspark\n",
        "        # SOLO EJECUTAR 1 VEZ \n",
        "        setup_spark_nlp(os.path.join(os.getcwd(),\"ARCHIVOS_BASE\"))\n",
        "\n",
        "setup()"
      ]
    },
    {
      "cell_type": "code",
      "execution_count": 2,
      "metadata": {
        "application/vnd.databricks.v1+cell": {
          "cellMetadata": {
            "byteLimit": 2048000,
            "rowLimit": 10000
          },
          "inputWidgets": {},
          "nuid": "6f67c14b-56ec-4e35-a976-b507c9c5a19b",
          "showTitle": false,
          "title": ""
        },
        "id": "GyX-VElwOdUM"
      },
      "outputs": [],
      "source": [
        "# [Environment]::SetEnvironmentVariable(\"HADOOP_HOME\", \"C:\\Users\\RomanGu\\OneDrive - BASF\\Documents\\CODE\\romangu-repo\\notebooks\\TFM\\experimentos\\ARCHIVOS_BASE\\hadoop\\bin\", \"User\")\n",
        "# [Environment]::SetEnvironmentVariable(\"SPARK_HOME\", \"C:\\Users\\RomanGu\\OneDrive - BASF\\Documents\\CODE\\romangu-repo\\notebooks\\TFM\\experimentos\\ARCHIVOS_BASE\\ARCHIVOS_BASE\\spark\\spark-3.2.3-bin-hadoop3.2\\bin\", \"User\")\n",
        "\n",
        "\n",
        "# $CurrentValue = [Environment]::GetEnvironmentVariable(\"PATH\", \"User\")\n",
        "# [Environment]::SetEnvironmentVariable(\"PATH\", $CurrentValue + \";C:\\Users\\RomanGu\\OneDrive - BASF\\Documents\\CODE\\romangu-repo\\notebooks\\TFM\\experimentos\\ARCHIVOS_BASE\\hadoop\\bin\", \"User\")\n",
        "\n",
        "# $CurrentValue = [Environment]::GetEnvironmentVariable(\"PATH\", \"User\")\n",
        "# [Environment]::SetEnvironmentVariable(\"PATH\", $CurrentValue + \";C:\\Users\\RomanGu\\OneDrive - BASF\\Documents\\CODE\\romangu-repo\\notebooks\\TFM\\experimentos\\ARCHIVOS_BASE\\spark\\spark-3.2.3-bin-hadoop3.2\\bin\", \"User\")\n",
        "\n"
      ]
    },
    {
      "cell_type": "code",
      "execution_count": 3,
      "metadata": {
        "application/vnd.databricks.v1+cell": {
          "cellMetadata": {
            "byteLimit": 2048000,
            "rowLimit": 10000
          },
          "inputWidgets": {},
          "nuid": "ed58345f-bc06-4540-a74c-5847a1a5efad",
          "showTitle": false,
          "title": ""
        },
        "colab": {
          "base_uri": "https://localhost:8080/"
        },
        "id": "VYKjq2fcOdUN",
        "outputId": "dd5ba6a0-bbe6-46e0-a608-9aff7621b22e"
      },
      "outputs": [
        {
          "output_type": "stream",
          "name": "stdout",
          "text": [
            "HADOOP_HOME no está configurada\n",
            "SPARK_HOME no está configurada\n",
            "JAVA_HOME /usr/lib/jvm/java-11-openjdk-amd64\n"
          ]
        }
      ],
      "source": [
        "# os.environ[\"HADOOP_HOME\"] = r\"C:\\Users\\RomanGu\\OneDrive - BASF\\Documents\\CODE\\romangu-repo\\notebooks\\TFM\\experimentos\\ARCHIVOS_BASE\\hadoop\\bin\"\n",
        "\n",
        "\n",
        "# os.environ[\"SPARK_HOME\"] = r\"C:\\Users\\RomanGu\\OneDrive - BASF\\Documents\\CODE\\romangu-repo\\notebooks\\TFM\\experimentos\\ARCHIVOS_BASE\\ARCHIVOS_BASE\\spark\\spark-3.2.3-bin-hadoop3.2\\bin\"\n",
        "\n",
        "\n",
        "\n",
        "# # Add to PATH environment variable\n",
        "# os.environ['PATH'] += os.pathsep + os.path.join(os.environ['HADOOP_HOME'])\n",
        "# os.environ['PATH'] += os.pathsep + os.path.join(os.environ['SPARK_HOME'])\n",
        "\n",
        "# %%cmd\n",
        "# setx PATH %PATH%;\"C:\\Users\\RomanGu\\OneDrive - BASF\\Documents\\CODE\\romangu-repo\\notebooks\\TFM\\experimentos\\ARCHIVOS_BASE\\hadoop\\bin\"\n",
        "# setx HADOOP_HOME \"C:\\Users\\RomanGu\\OneDrive - BASF\\Documents\\CODE\\romangu-repo\\notebooks\\TFM\\experimentos\\ARCHIVOS_BASE\\hadoop\\bin\"\n",
        "# setx PATH %PATH%;\"C:\\Users\\RomanGu\\OneDrive - BASF\\Documents\\CODE\\romangu-repo\\notebooks\\TFM\\experimentos\\ARCHIVOS_BASE\\spark\\spark-3.2.3-bin-hadoop3.2\\bin\"\n",
        "# setx SPARK_HOME  \"C:\\Users\\RomanGu\\OneDrive - BASF\\Documents\\CODE\\romangu-repo\\notebooks\\TFM\\experimentos\\ARCHIVOS_BASE\\spark\\spark-3.2.3-bin-hadoop3.2\\bin\"\n",
        "# abrir enviroment variables desde powershell: & \"$env:SystemRoot\\System32\\SystemPropertiesAdvanced.exe\"\n",
        "\n",
        "for environ in [\"HADOOP_HOME\",\"SPARK_HOME\",\"JAVA_HOME\"]:\n",
        "    try:\n",
        "        print(environ,os.environ[environ])\n",
        "    except:\n",
        "        print(environ, \"no está configurada\")\n",
        "\n",
        "\n",
        "\n"
      ]
    },
    {
      "cell_type": "code",
      "execution_count": 4,
      "metadata": {
        "application/vnd.databricks.v1+cell": {
          "cellMetadata": {
            "byteLimit": 2048000,
            "rowLimit": 10000
          },
          "inputWidgets": {},
          "nuid": "9c36c395-1fe3-4117-9292-e1f752b1d8c7",
          "showTitle": false,
          "title": ""
        },
        "colab": {
          "base_uri": "https://localhost:8080/"
        },
        "id": "ceW3PQY8o_up",
        "outputId": "df34ca8f-9614-45e6-acba-502311cd8d90"
      },
      "outputs": [
        {
          "output_type": "stream",
          "name": "stdout",
          "text": [
            "Spark NLP version: 4.4.2\n",
            "Apache Spark version: 3.2.3\n"
          ]
        }
      ],
      "source": [
        "import sparknlp\n",
        "import torch\n",
        "\n",
        "if 'dbutils' not in globals():\n",
        "    spark = sparknlp.start(gpu = torch.cuda.is_available())\n",
        "\n",
        "print(\"Spark NLP version: {}\".format(sparknlp.version()))\n",
        "print(\"Apache Spark version: {}\".format(spark.version))\n"
      ]
    },
    {
      "cell_type": "code",
      "execution_count": 5,
      "metadata": {
        "application/vnd.databricks.v1+cell": {
          "cellMetadata": {
            "byteLimit": 2048000,
            "rowLimit": 10000
          },
          "inputWidgets": {},
          "nuid": "bc2d9652-1ee8-4ed6-bece-6fdfe9db5a9a",
          "showTitle": false,
          "title": ""
        },
        "id": "XRZT6k97pDkB"
      },
      "outputs": [],
      "source": [
        "# Importing necessary libraries\n",
        "from sparknlp.pretrained import PretrainedPipeline\n",
        "# from sparknlp.base import LightPipeline,document_assembler\n",
        "from sparknlp.base import *\n",
        "from sparknlp.annotator import *\n",
        "from pyspark.ml import Pipeline\n",
        "from pyspark.sql import SparkSession\n",
        "from pyspark.sql.functions import countDistinct, col\n",
        "import pyspark.sql.functions as F\n",
        "from sklearn.metrics import classification_report, accuracy_score, confusion_matrix\n",
        "import seaborn as sns\n",
        "import matplotlib.pyplot as plt\n",
        "from pylab import rcParams\n",
        "\n",
        "# Setting up inline plotting and figure format\n",
        "%matplotlib inline\n",
        "%config InlineBackend.figure_format='retina'\n",
        "\n",
        "# Setting up seaborn style and color palette\n",
        "sns.set(style='whitegrid', palette='muted', font_scale=1.2)\n",
        "HAPPY_COLORS_PALETTE = [\"#01BEFE\", \"#FFDD00\", \"#FF7D00\", \"#FF006D\", \"#ADFF02\", \"#8F00FF\"]\n",
        "sns.set_palette(sns.color_palette(HAPPY_COLORS_PALETTE))\n",
        "\n",
        "# Setting up figure size for plots\n",
        "rcParams['figure.figsize'] = 12, 8\n"
      ]
    },
    {
      "cell_type": "code",
      "execution_count": 6,
      "metadata": {
        "application/vnd.databricks.v1+cell": {
          "cellMetadata": {
            "byteLimit": 2048000,
            "rowLimit": 10000
          },
          "inputWidgets": {},
          "nuid": "f2de98b5-56a0-49d2-9133-c2aec7c426b3",
          "showTitle": false,
          "title": ""
        },
        "id": "IvaPZNSOqRfS"
      },
      "outputs": [],
      "source": [
        "def experimento(tipo: str, idioma: str):\n",
        "    \"\"\"\n",
        "    Configura y devuelve los parámetros para un experimento.\n",
        "\n",
        "    Parámetros\n",
        "    ----------\n",
        "    tipo : str\n",
        "        El tipo de experimento a realizar. Debe ser \"AMAZON\" o \"AGNEWS\".\n",
        "    idioma : str\n",
        "        El idioma del modelo pre-entrenado a utilizar. Debe ser \"EN\" o \"ES\".\n",
        "\n",
        "    Devoluciones\n",
        "    -------\n",
        "    int\n",
        "        El tamaño del lote a utilizar en el experimento.\n",
        "    int\n",
        "        El número de épocas a utilizar en el experimento.\n",
        "    float\n",
        "        La tasa de aprendizaje a utilizar en el experimento.\n",
        "    str\n",
        "        El nombre del modelo pre-entrenado a utilizar en el experimento.\n",
        "\n",
        "    \"\"\"\n",
        "    \n",
        "    experiment_params = {\n",
        "        \"AMAZON\": (16, 2, 5e-5),\n",
        "        \"AGNEWS\": (32, 4, 3e-5)\n",
        "    }\n",
        "    \n",
        "    model_names = {\n",
        "        \"ES\": 'bert_base_multilingual_cased',\n",
        "        \"EN\": 'bert_uncased_L-4_H-256_A-4_squad2',\n",
        "    }\n",
        "    \n",
        "    if tipo.upper() not in experiment_params:\n",
        "        print(\"elige experimento\")\n",
        "        return\n",
        "    \n",
        "    if idioma.upper() not in model_names:\n",
        "        print(\"modelo no elegido\")\n",
        "        return\n",
        "    \n",
        "    BATCH_SIZE, EPOCHS, LEARNING_RATE = experiment_params[tipo.upper()]\n",
        "    PRE_TRAINED_MODEL_NAME = model_names[idioma.upper()]\n",
        "    \n",
        "    return BATCH_SIZE, EPOCHS, LEARNING_RATE, PRE_TRAINED_MODEL_NAME\n",
        "\n",
        "\n",
        "BATCH_SIZE, EPOCHS, LEARNING_RATE, PRE_TRAINED_MODEL_NAME = experimento(tipo = \"AMAZON\", idioma =\"es\")"
      ]
    },
    {
      "cell_type": "markdown",
      "metadata": {
        "application/vnd.databricks.v1+cell": {
          "cellMetadata": {
            "byteLimit": 2048000,
            "rowLimit": 10000
          },
          "inputWidgets": {},
          "nuid": "c70200f0-7fd5-4b2f-b994-71d67691285e",
          "showTitle": false,
          "title": ""
        },
        "id": "69WyiC--FogB"
      },
      "source": [
        "# En spark NLP - tamaños para los BERT models\n",
        "\n",
        "Modelos elegidos:\n",
        "* Para el modelo de respuesta en inglés [bert_uncased_L-4_H-256_A-4_squad2](https://sparknlp.org/2022/06/02/bert_qa_bert_uncased_L_4_H_256_A_4_squad2_en_3_0.html) \n",
        "  * el más parecido a [google/bert_uncased_L-4_H-256_A-4](https://huggingface.co/google/bert_uncased_L-4_H-256_A-4)\n",
        "* para el modelo de clasificación en español si está el mismo modelo de HugginFace  [bert_base_multilingual_cased](https://sparknlp.org/2021/05/20/bert_base_multilingual_cased_xx.html)\n",
        "\n",
        "<!-- Original values\n",
        "* PRE_TRAINED_MODEL_NAME = 'bert_base_cased'  **389.1 MB**\n",
        "* PRE_TRAINED_MODEL_NAME = 'sent_small_bert_L8_512' **149.1 MB**\n",
        "* PRE_TRAINED_MODEL_NAME = 'small_bert_L4_256' **40.5 MB**\n",
        "\n",
        "Para sentence embeddings.\n",
        "SENTENCE_PRE_TRAINED_MODEL_NAME = 'sent_bert_base_cased'\n",
        "SENTENCE_PRE_TRAINED_MODEL_NAME = 'sent_small_bert_L8_512' **149.1 MB** -->\n",
        "\n",
        "Fuente: [NLP MODELS EN SPARK-NLP](https://nlp.johnsnowlabs.com/models)"
      ]
    },
    {
      "cell_type": "code",
      "execution_count": 7,
      "metadata": {
        "application/vnd.databricks.v1+cell": {
          "cellMetadata": {
            "byteLimit": 2048000,
            "rowLimit": 10000
          },
          "inputWidgets": {},
          "nuid": "4b3a1119-4a07-4305-b2d4-834bdf48aa9d",
          "showTitle": false,
          "title": ""
        },
        "colab": {
          "base_uri": "https://localhost:8080/"
        },
        "id": "DjSNtU_8qlAZ",
        "outputId": "09483da9-9d8a-4e51-a845-7dd1eba9e27a"
      },
      "outputs": [
        {
          "output_type": "stream",
          "name": "stdout",
          "text": [
            "BATCH_SIZE: 16\n",
            "LEARNING_RATE: 5e-05\n",
            "EPOCHS: 2\n",
            "PRE_TRAINED_MODEL_NAME: bert_base_multilingual_cased\n",
            "PRE_TRAINED_MODEL_NAME FOR SENTENCES: sent_bert_base_multilingual_cased\n"
          ]
        }
      ],
      "source": [
        "# Para las Sentence embeddings el nombre del moldelo lleva un prefijo \"sent_\"\n",
        "SENTENCE_PRE_TRAINED_MODEL_NAME = 'sent_'+PRE_TRAINED_MODEL_NAME\n",
        "\n",
        "# Random Seed \n",
        "RANDOM_SEED = 42\n",
        "\n",
        "\n",
        "print(f\"BATCH_SIZE: {BATCH_SIZE}\")\n",
        "print(f\"LEARNING_RATE: {LEARNING_RATE}\")\n",
        "print(f\"EPOCHS: {EPOCHS}\")\n",
        "print(f\"PRE_TRAINED_MODEL_NAME: {PRE_TRAINED_MODEL_NAME}\")\n",
        "print(f\"PRE_TRAINED_MODEL_NAME FOR SENTENCES: {SENTENCE_PRE_TRAINED_MODEL_NAME}\")"
      ]
    },
    {
      "cell_type": "code",
      "execution_count": 8,
      "metadata": {
        "application/vnd.databricks.v1+cell": {
          "cellMetadata": {
            "byteLimit": 2048000,
            "rowLimit": 10000
          },
          "inputWidgets": {},
          "nuid": "22b7dc4f-7c0a-464d-94b5-66a3077fee3f",
          "showTitle": false,
          "title": ""
        },
        "colab": {
          "base_uri": "https://localhost:8080/"
        },
        "id": "ThqjEH_FqoTA",
        "outputId": "0bc38e67-3b14-4e67-d55a-92e16027012d"
      },
      "outputs": [
        {
          "output_type": "stream",
          "name": "stdout",
          "text": [
            "\u001b[2K     \u001b[90m━━━━━━━━━━━━━━━━━━━━━━━━━━━━━━━━━━━━━━━━\u001b[0m \u001b[32m4.1/4.1 MB\u001b[0m \u001b[31m39.6 MB/s\u001b[0m eta \u001b[36m0:00:00\u001b[0m\n",
            "\u001b[2K     \u001b[90m━━━━━━━━━━━━━━━━━━━━━━━━━━━━━━━━━━━━━━━━\u001b[0m \u001b[32m10.8/10.8 MB\u001b[0m \u001b[31m74.3 MB/s\u001b[0m eta \u001b[36m0:00:00\u001b[0m\n",
            "\u001b[2K     \u001b[90m━━━━━━━━━━━━━━━━━━━━━━━━━━━━━━━━━━━━━━━━\u001b[0m \u001b[32m79.8/79.8 kB\u001b[0m \u001b[31m10.7 MB/s\u001b[0m eta \u001b[36m0:00:00\u001b[0m\n",
            "\u001b[2K     \u001b[90m━━━━━━━━━━━━━━━━━━━━━━━━━━━━━━━━━━━━━━\u001b[0m \u001b[32m175.1/175.1 kB\u001b[0m \u001b[31m21.8 MB/s\u001b[0m eta \u001b[36m0:00:00\u001b[0m\n",
            "\u001b[?25h  Installing build dependencies ... \u001b[?25l\u001b[?25hdone\n",
            "  Getting requirements to build wheel ... \u001b[?25l\u001b[?25hdone\n",
            "  Preparing metadata (pyproject.toml) ... \u001b[?25l\u001b[?25hdone\n",
            "  Building wheel for PyYAML (pyproject.toml) ... \u001b[?25l\u001b[?25hdone\n",
            "./sample_data/\n",
            "descargando test en ./sample_data/\n",
            "descargando train en ./sample_data/\n"
          ]
        }
      ],
      "source": [
        "!pip install awscli -qq\n",
        "\n",
        "\n",
        "if 'dbutils' in globals():\n",
        "    root_folder = os.path.join(\"/dbfs/mnt/edl/data/testing/trs_test\",\"sample_data/\")\n",
        "else:\n",
        "    root_folder = \"./sample_data/\"\n",
        "print(root_folder)\n",
        "\n",
        "\n",
        "# if not os.path.isfile(os.path.join(root_folder,'dataset_es_test.json')):\n",
        "#     !aws s3 cp s3://amazon-reviews-ml/json/test/dataset_es_test.json {root_folder} --no-sign-request\n",
        "# if not os.path.isfile(os.path.join(root_folder,'dataset_es_train.json')):\n",
        "#     !aws s3 cp s3://amazon-reviews-ml/json/train/dataset_es_train.json {root_folder} --no-sign-request\n",
        "\n",
        "import subprocess\n",
        "\n",
        "def download_files(root_folder):\n",
        "    \"\"\"\n",
        "    Descarga los archivos dataset_es_test.json y dataset_es_train.json desde Amazon S3.\n",
        "    :param root_folder: ruta de la carpeta donde se guardarán los archivos descargados\n",
        "    \"\"\"\n",
        " \n",
        "    if not os.path.isfile(os.path.join(root_folder,'dataset_es_test.json')):\n",
        "        print(\"descargando test en\",root_folder)\n",
        "        subprocess.run(f\"aws s3 cp s3://amazon-reviews-ml/json/test/dataset_es_test.json {root_folder} --no-sign-request\", shell=True)\n",
        "    \n",
        "    if not os.path.isfile(os.path.join(root_folder,'dataset_es_train.json')):\n",
        "        print(\"descargando train en\",root_folder)\n",
        "        subprocess.run(f\"aws s3 cp s3://amazon-reviews-ml/json/train/dataset_es_train.json {root_folder} --no-sign-request\", shell=True)\n",
        "\n",
        "download_files(root_folder)"
      ]
    },
    {
      "cell_type": "code",
      "execution_count": 9,
      "metadata": {
        "application/vnd.databricks.v1+cell": {
          "cellMetadata": {
            "byteLimit": 2048000,
            "rowLimit": 10000
          },
          "inputWidgets": {},
          "nuid": "16e30199-fec7-47f7-a4f1-0a0e0f4c86e7",
          "showTitle": false,
          "title": ""
        },
        "id": "6hxkq6zmqs-f"
      },
      "outputs": [],
      "source": [
        "if 'dbutils' in globals():\n",
        "    spark.createDataFrame(dbutils.fs.ls(root_folder.lstrip(\"/dbfs\"))).show(truncate=False)\n",
        "else:\n",
        "    os.listdir(root_folder)"
      ]
    },
    {
      "cell_type": "code",
      "execution_count": 10,
      "metadata": {
        "application/vnd.databricks.v1+cell": {
          "cellMetadata": {
            "byteLimit": 2048000,
            "rowLimit": 10000
          },
          "inputWidgets": {},
          "nuid": "82d1ed2c-a77e-45fa-9148-84ba8b341362",
          "showTitle": false,
          "title": ""
        },
        "id": "o-gFeeluqvZL",
        "colab": {
          "base_uri": "https://localhost:8080/"
        },
        "outputId": "096dbab5-fa3b-4e5a-d18e-efe0dcf437f8"
      },
      "outputs": [
        {
          "output_type": "stream",
          "name": "stdout",
          "text": [
            "./sample_data/dataset_es_train.json\n",
            "./sample_data/dataset_es_test.json\n"
          ]
        }
      ],
      "source": [
        "traindata = os.path.join(root_folder, \"dataset_es_train.json\")\n",
        "testdata = os.path.join(root_folder, \"dataset_es_test.json\") \n",
        "if 'dbutils' in globals():\n",
        "    traindata = traindata.replace(\"/dbfs\",\"\")\n",
        "    testdata = testdata.replace(\"/dbfs\",\"\")\n",
        "print(traindata)\n",
        "print(testdata)"
      ]
    },
    {
      "cell_type": "code",
      "execution_count": 11,
      "metadata": {
        "application/vnd.databricks.v1+cell": {
          "cellMetadata": {
            "byteLimit": 2048000,
            "rowLimit": 10000
          },
          "inputWidgets": {},
          "nuid": "c97f689d-61f0-4be3-b783-5208b89dc508",
          "showTitle": false,
          "title": ""
        },
        "colab": {
          "base_uri": "https://localhost:8080/"
        },
        "id": "nzW521G-OdUR",
        "outputId": "0bfa8f0d-7b68-4ba5-9001-7fa9dd6f4a39"
      },
      "outputs": [
        {
          "output_type": "stream",
          "name": "stdout",
          "text": [
            "{\"review_id\": \"es_0491108\", \"product_id\": \"product_es_0296024\", \"reviewer_id\": \"reviewer_es_0999081\", \"stars\": \"1\", \"review_body\": \"Nada bueno se me fue ka pantalla en menos de 8 meses y no he recibido respuesta del fabricante\", \"review_title\": \"television Nevir\", \"language\": \"es\", \"product_category\": \"electronics\"}\n",
            "{\"review_id\": \"es_0869872\", \"product_id\": \"product_es_0922286\", \"reviewer_id\": \"reviewer_es_0216771\", \"stars\": \"1\", \"review_body\": \"Horrible, nos tuvimos que comprar otro porque ni nosotros que sabemos ingl\\u00e9s, ni un inform\\u00e1tico, despu\\u00e9s de una hora fue capaz de instalarlo\", \"review_title\": \"Dinero tirado a la basura con esta compra\", \"language\": \"es\", \"product_category\": \"electronics\"}\n",
            "{\"review_id\": \"es_0811721\", \"product_id\": \"product_es_0474543\", \"reviewer_id\": \"reviewer_es_0929213\", \"stars\": \"1\", \"review_body\": \"Te obligan a comprar dos unidades y te llega solo una y no hay forma de reclamar, una autentica estafa, no compreis!!\", \"review_title\": \"solo llega una unidad cuando te obligan a comprar dos\", \"language\": \"es\", \"product_category\": \"drugstore\"}\n",
            "{\"review_id\": \"es_0359921\", \"product_id\": \"product_es_0656090\", \"reviewer_id\": \"reviewer_es_0224702\", \"stars\": \"1\", \"review_body\": \"No entro en descalificar al vendedor, solo puedo decir que tras dos meses de espera.... sigo sin el producto y tuve que contactar con Amazon para reclamar su reembolso. Amazon un 10 . Se hace cargo del problema, pero yo e desembolsado mi dinero y en dos meses me lo devuelven Perdida de tiempo TOTAL. Sin palabras. Y Ustedes deciden\", \"review_title\": \"PRODUCTO NO RECIBIDO.\", \"language\": \"es\", \"product_category\": \"wireless\"}\n",
            "{\"review_id\": \"es_0068940\", \"product_id\": \"product_es_0662544\", \"reviewer_id\": \"reviewer_es_0224827\", \"stars\": \"1\", \"review_body\": \"Llega tarde y co la talla equivocada\", \"review_title\": \"Devuelto\", \"language\": \"es\", \"product_category\": \"shoes\"}\n",
            "{\"review_id\": \"es_0779978\", \"product_id\": \"product_es_0103315\", \"reviewer_id\": \"reviewer_es_0304973\", \"stars\": \"1\", \"review_body\": \"Jam\\u00e1s me lleg\\u00f3 y el vendedor nunca contacto conmigo a pesar de intentarlo 2 veces\", \"review_title\": \"Jam\\u00e1s me lleg\\u00f3\", \"language\": \"es\", \"product_category\": \"home\"}\n",
            "{\"review_id\": \"es_0591840\", \"product_id\": \"product_es_0880915\", \"reviewer_id\": \"reviewer_es_0642702\", \"stars\": \"1\", \"review_body\": \"El paraguas es de muy mala calidad,da la sensaci\\u00f3n que se va a romper cuando lo abres. Es muy cutre.\", \"review_title\": \"Horroroso!!!\", \"language\": \"es\", \"product_category\": \"luggage\"}\n",
            "{\"review_id\": \"es_0173297\", \"product_id\": \"product_es_0814677\", \"reviewer_id\": \"reviewer_es_0895784\", \"stars\": \"1\", \"review_body\": \"Tuve que devolverla porque al ser triangular no se agarra de forma c\\u00f3moda para la escritura. Bonita, calidad-precio aceptable, pero poco funcional.\", \"review_title\": \"Poco funcional\", \"language\": \"es\", \"product_category\": \"office_product\"}\n",
            "{\"review_id\": \"es_0101300\", \"product_id\": \"product_es_0654228\", \"reviewer_id\": \"reviewer_es_0789283\", \"stars\": \"1\", \"review_body\": \"Estoy esperando despues de protestar varias veces pero veo que no hay solucion y no haceis caso me dicen de un reembolso pero yo quiero el auricular\", \"review_title\": \"No me llego\", \"language\": \"es\", \"product_category\": \"electronics\"}\n",
            "{\"review_id\": \"es_0487007\", \"product_id\": \"product_es_0877793\", \"reviewer_id\": \"reviewer_es_0986278\", \"stars\": \"1\", \"review_body\": \"Defectuoso. En apariencia muy bien producto, pero al tercer uso del vaso mezclador m\\u00e1s grande ha dejado de funcionar. Intentaba hacer un pur\\u00e9, nada que requiera una fuerza excesiva y las cuchillas dejaron de girar. Una pena porque es una herramienta, en principio, muy funcional. Al final lo \\u201cbarato\\u201d sale caro. Tres meses de vida. Decepcionada.\", \"review_title\": \"Mala calidad, defectuoso\", \"language\": \"es\", \"product_category\": \"kitchen\"}\n"
          ]
        }
      ],
      "source": [
        "if 'dbutils' in globals():\n",
        "    !head /dbfs{traindata}\n",
        "elif platform.system() == 'Linux':\n",
        "    !head {traindata}\n",
        "else:\n",
        "    !powershell -command \"gc {traindata} | select -first 10 # head\""
      ]
    },
    {
      "cell_type": "code",
      "execution_count": 12,
      "metadata": {
        "application/vnd.databricks.v1+cell": {
          "cellMetadata": {
            "byteLimit": 2048000,
            "rowLimit": 10000
          },
          "inputWidgets": {},
          "nuid": "3a5e7095-dd62-4f77-824e-8ed6c980df25",
          "showTitle": false,
          "title": ""
        },
        "colab": {
          "base_uri": "https://localhost:8080/"
        },
        "id": "4c0iy1abqyni",
        "outputId": "f0b10ee9-0a6c-4e5f-d3da-b988995af0c0"
      },
      "outputs": [
        {
          "output_type": "stream",
          "name": "stdout",
          "text": [
            "Tamaño total  200000 2\n",
            "+-----+---------------------------------------------------------------------------------------------------------------------------------------------------------------------------------------------------------------------------------------------------------------------------------------------------------------------------------------------------------+\n",
            "|stars|description                                                                                                                                                                                                                                                                                                                                              |\n",
            "+-----+---------------------------------------------------------------------------------------------------------------------------------------------------------------------------------------------------------------------------------------------------------------------------------------------------------------------------------------------------------+\n",
            "|1    |Nada bueno se me fue ka pantalla en menos de 8 meses y no he recibido respuesta del fabricante                                                                                                                                                                                                                                                           |\n",
            "|1    |Horrible, nos tuvimos que comprar otro porque ni nosotros que sabemos inglés, ni un informático, después de una hora fue capaz de instalarlo                                                                                                                                                                                                             |\n",
            "|1    |Te obligan a comprar dos unidades y te llega solo una y no hay forma de reclamar, una autentica estafa, no compreis!!                                                                                                                                                                                                                                    |\n",
            "|1    |No entro en descalificar al vendedor, solo puedo decir que tras dos meses de espera.... sigo sin el producto y tuve que contactar con Amazon para reclamar su reembolso. Amazon un 10 . Se hace cargo del problema, pero yo e desembolsado mi dinero y en dos meses me lo devuelven Perdida de tiempo TOTAL. Sin palabras. Y Ustedes deciden             |\n",
            "|1    |Llega tarde y co la talla equivocada                                                                                                                                                                                                                                                                                                                     |\n",
            "|1    |Jamás me llegó y el vendedor nunca contacto conmigo a pesar de intentarlo 2 veces                                                                                                                                                                                                                                                                        |\n",
            "|1    |El paraguas es de muy mala calidad,da la sensación que se va a romper cuando lo abres. Es muy cutre.                                                                                                                                                                                                                                                     |\n",
            "|1    |Tuve que devolverla porque al ser triangular no se agarra de forma cómoda para la escritura. Bonita, calidad-precio aceptable, pero poco funcional.                                                                                                                                                                                                      |\n",
            "|1    |Estoy esperando despues de protestar varias veces pero veo que no hay solucion y no haceis caso me dicen de un reembolso pero yo quiero el auricular                                                                                                                                                                                                     |\n",
            "|1    |Defectuoso. En apariencia muy bien producto, pero al tercer uso del vaso mezclador más grande ha dejado de funcionar. Intentaba hacer un puré, nada que requiera una fuerza excesiva y las cuchillas dejaron de girar. Una pena porque es una herramienta, en principio, muy funcional. Al final lo “barato” sale caro. Tres meses de vida. Decepcionada.|\n",
            "+-----+---------------------------------------------------------------------------------------------------------------------------------------------------------------------------------------------------------------------------------------------------------------------------------------------------------------------------------------------------------+\n",
            "only showing top 10 rows\n",
            "\n"
          ]
        }
      ],
      "source": [
        "from pyspark.sql.functions import col, when\n",
        "from pyspark.sql import SparkSession\n",
        "\n",
        "df = spark.read.json(traindata).select(\n",
        "    col(\"stars\"), col(\"review_body\").alias(\"description\")\n",
        ")\n",
        "df_testdata = spark.read.json(testdata).select(\n",
        "    col(\"stars\"), col(\"review_body\").alias(\"description\")\n",
        ")\n",
        "\n",
        "print(\n",
        "    \"Tamaño total \", df.count(), len(df.columns)\n",
        ")  # dataframe shape only exists in recent versions\n",
        "\n",
        "df.show(10, truncate=False)"
      ]
    },
    {
      "cell_type": "markdown",
      "metadata": {
        "application/vnd.databricks.v1+cell": {
          "cellMetadata": {
            "byteLimit": 2048000,
            "rowLimit": 10000
          },
          "inputWidgets": {},
          "nuid": "edd123d1-8803-4ca4-81aa-c6b9cd926ebd",
          "showTitle": false,
          "title": ""
        },
        "id": "NihF6SH0tNHS"
      },
      "source": [
        "# Creando las categorías del sentiment en base al numero de estrellas:\n",
        "Este fragmento de código crea una nueva columna llamada \"sentiment\" en dos DataFrames `df` y `df_testdata`. La columna \"sentiment\" se llena con valores basados en la columna \"stars\" de cada DataFrame.\n",
        "\n",
        "Para cada fila en el DataFrame `df`, si el valor en la columna \"stars\" está entre 0 y 2 (exclusivo), el valor correspondiente en la columna \"sentiment\" se establece en \"negative\". Si el valor en la columna \"stars\" es igual a 3, el valor correspondiente en la columna \"sentiment\" se establece en \"neutral\". Para todos los demás valores en la columna \"stars\", el valor correspondiente en la columna \"sentiment\" se establece en \"positive\".\n",
        "\n",
        "El mismo proceso se aplica al DataFrame `df_testdata`.\n",
        "\n",
        "Esto se logra utilizando la función `when` de spark, que toma una lista de condiciones y una lista de valores a seleccionar cuando se cumple cada condición. Si ninguna de las condiciones se cumple para un elemento dado, se selecciona el valor especificado por el parámetro `otherwise`."
      ]
    },
    {
      "cell_type": "code",
      "execution_count": 13,
      "metadata": {
        "application/vnd.databricks.v1+cell": {
          "cellMetadata": {
            "byteLimit": 2048000,
            "rowLimit": 10000
          },
          "inputWidgets": {},
          "nuid": "4119e4e6-099f-41a5-af69-685eee84dfda",
          "showTitle": false,
          "title": ""
        },
        "colab": {
          "base_uri": "https://localhost:8080/"
        },
        "id": "cM3zbGRZrSSA",
        "outputId": "7c251738-f041-4033-964f-721c51576824"
      },
      "outputs": [
        {
          "output_type": "stream",
          "name": "stdout",
          "text": [
            "+-----+------------------------------------------------------------------------------------------+---------+\n",
            "|stars|                                                                               description|sentiment|\n",
            "+-----+------------------------------------------------------------------------------------------+---------+\n",
            "|    1|no me llego el articulo me lo mando por correos normal sin seguimiento y nunca me llego...| negative|\n",
            "|    1|                                                     la mensajería horrible, no compro mas| negative|\n",
            "|    1|Estoy muy decepcionado con el vendedor ya que el pedido no me llegó a tiempo y no cumpl...| negative|\n",
            "|    1|Mi valoración no es sobre el producto sino sobre AMAZON. Ofrecéis el producto a 299€ y ...| negative|\n",
            "|    1|Pues tenía interés en este libro y probé la versión kindle. se abre la portada pero nad...| negative|\n",
            "|    1|Compre este teclado al ver sus buenos comentarios y apariencia pero al llegar a casa, l...| negative|\n",
            "|    1|                                                         Sigue sin llegar después de meses| negative|\n",
            "|    1|                                       No sirve para nada, es malo y se rompe y se despega| negative|\n",
            "|    1|Todavía espero que me llegue despues dw una semana de retraso, pesimo trato por parte d...| negative|\n",
            "|    1|La peor cámara que he tenido en mis manos. Dos veces la he tenido que reemplazar al pri...| negative|\n",
            "+-----+------------------------------------------------------------------------------------------+---------+\n",
            "only showing top 10 rows\n",
            "\n"
          ]
        }
      ],
      "source": [
        "df = df.withColumn(\n",
        "    \"sentiment\",\n",
        "    when(df[\"stars\"].between(0, 2), \"negative\")\n",
        "    .when(df[\"stars\"] == 3, \"neutral\")\n",
        "    .otherwise(\"positive\")\n",
        ")\n",
        "\n",
        "df_testdata = df_testdata.withColumn(\n",
        "    \"sentiment\",\n",
        "    when(df_testdata[\"stars\"].between(0, 2), \"negative\")\n",
        "    .when(df_testdata[\"stars\"] == 3, \"neutral\")\n",
        "    .otherwise(\"positive\")\n",
        ")\n",
        "\n",
        "df_testdata.show(10,truncate=90)\n"
      ]
    },
    {
      "cell_type": "code",
      "execution_count": 14,
      "metadata": {
        "application/vnd.databricks.v1+cell": {
          "cellMetadata": {
            "byteLimit": 2048000,
            "rowLimit": 10000
          },
          "inputWidgets": {},
          "nuid": "28f2950a-baa6-4200-9dd1-88656db08a74",
          "showTitle": false,
          "title": ""
        },
        "id": "QCz7S_gyrkog"
      },
      "outputs": [],
      "source": [
        "from pyspark.ml.feature import StringIndexer\n",
        "\n",
        "indexer = StringIndexer(inputCol=\"sentiment\", outputCol=\"category_encoded\")\n",
        "indexer_model = indexer.fit(df)\n",
        "df = indexer_model.transform(df)\n",
        "df_testdata = indexer_model.transform(df_testdata)\n"
      ]
    },
    {
      "cell_type": "code",
      "execution_count": 15,
      "metadata": {
        "application/vnd.databricks.v1+cell": {
          "cellMetadata": {
            "byteLimit": 2048000,
            "rowLimit": 10000
          },
          "inputWidgets": {},
          "nuid": "e5437612-5896-4bf5-a037-a1c5f507ab3c",
          "showTitle": false,
          "title": ""
        },
        "colab": {
          "base_uri": "https://localhost:8080/"
        },
        "id": "SbNFcO8iCOgd",
        "outputId": "9f679d80-638c-4020-9ad9-387c2617e57b"
      },
      "outputs": [
        {
          "output_type": "stream",
          "name": "stdout",
          "text": [
            "+---------+-----+\n",
            "|sentiment|count|\n",
            "+---------+-----+\n",
            "| negative|40000|\n",
            "|  neutral|40000|\n",
            "| positive|40000|\n",
            "+---------+-----+\n",
            "\n"
          ]
        }
      ],
      "source": [
        "# igualamos el numero de ocurrencias por categoria para no tener bias.\n",
        "df_temp = df.filter(col(\"sentiment\") == \"negative\").limit(40000) \\\n",
        "    .union(df.filter(col(\"sentiment\") == \"neutral\").limit(40000)) \\\n",
        "    .union(df.filter(col(\"sentiment\") == \"positive\").limit(40000))\n",
        "\n",
        "df_testdata_temp = df_testdata.filter(col(\"sentiment\") == \"negative\").limit(1000) \\\n",
        "    .union(df_testdata.filter(col(\"sentiment\") == \"neutral\").limit(1000)) \\\n",
        "    .union(df_testdata.filter(col(\"sentiment\") == \"positive\").limit(1000))\n",
        "\n",
        "# reemplazamos los dataset uno con los datos, df para train y val, y df_testdata para la prueba \"test\"\n",
        "df = df_temp\n",
        "df_testdata = df_testdata_temp\n",
        "\n",
        "df.groupBy(\"sentiment\").count().filter(col(\"count\") > 1).show()"
      ]
    },
    {
      "cell_type": "code",
      "execution_count": 16,
      "metadata": {
        "application/vnd.databricks.v1+cell": {
          "cellMetadata": {
            "byteLimit": 2048000,
            "rowLimit": 10000
          },
          "inputWidgets": {},
          "nuid": "b68b4933-70a4-452d-acea-9bf2f549a2e7",
          "showTitle": false,
          "title": ""
        },
        "colab": {
          "base_uri": "https://localhost:8080/",
          "height": 734
        },
        "id": "zI-1BlhbC3pT",
        "outputId": "e80effc9-66a3-4f85-a36c-64985884b519"
      },
      "outputs": [
        {
          "output_type": "display_data",
          "data": {
            "text/plain": [
              "<Figure size 1200x800 with 1 Axes>"
            ],
            "image/png": "[encoded data removed]"
          },
          "metadata": {
            "image/png": {
              "width": 1046,
              "height": 717
            }
          }
        }
      ],
      "source": [
        "import matplotlib.pyplot as plt\n",
        "\n",
        "sentiment_counts = df.groupBy(\"sentiment\").count().toPandas()\n",
        "\n",
        "colors = [ \"#7f7f7f\", \"#bcbd22\", \"#17becf\", \"#1a55FF\", \"#1f77b4\", \"#ff7f0e\", \"#2ca02c\", \"#d62728\", \"#9467bd\", \"#8c564b\", \"#e377c2\", ]\n",
        "\n",
        "plt.bar(sentiment_counts[\"sentiment\"], sentiment_counts[\"count\"],color = colors)\n",
        "plt.xlabel(\"Sentiment\")\n",
        "plt.ylabel(\"Count\")\n",
        "plt.title(\"Sentiment Counts\")\n",
        "plt.show()"
      ]
    },
    {
      "cell_type": "markdown",
      "metadata": {
        "application/vnd.databricks.v1+cell": {
          "cellMetadata": {
            "byteLimit": 2048000,
            "rowLimit": 10000
          },
          "inputWidgets": {},
          "nuid": "e4d16161-efc9-4be4-a71d-9ff031c7a9ea",
          "showTitle": false,
          "title": ""
        },
        "id": "k-ywY0uaHCf1"
      },
      "source": [
        "Explicación del naming en los modelos Bert de Spark NLP. \n",
        "* \"L\" indica qué capa de agrupación (pooling layer) se utiliza al producir las incrustaciones (embeddings) \n",
        "* \"H\" significa la dimensión de las embeddings devueltas.\n",
        "\n",
        "Por ejemplo, si utilizamos `BertSentenceEmbeddings` con el valor `'sent_small_bert_L8_512'` significa que simplemente cargamos Bert Sentence Embeddings Small con dimensión L8 y 512 y lo usamos en lugar de USE. Como puede ver, es casi 8 veces más pequeño que el tamaño de USE con el poder de Bert.\n",
        "\n",
        "El modelo se puede utilizar de manera offline si se desea, pero habría que descargarlo previamente. Para no incrementar el tamaño del repositorio dejamos a SPARK_NLP que lo baje automáticamente.\n",
        "\n",
        "\n",
        "En el contexto del Procesamiento del Lenguaje Natural (NLP), USE significa **Universal Sentence Encoder**. Es una herramienta desarrollada por Google que convierte una cadena de palabras en vectores de 512 dimensiones. Estos vectores capturan el significado semántico de la secuencia de palabras en una oración y, por lo tanto, pueden usarse como entradas para otras tareas de NLP posteriores, como clasificación, medición de similitud semántica, etc ."
      ]
    },
    {
      "cell_type": "markdown",
      "metadata": {
        "application/vnd.databricks.v1+cell": {
          "cellMetadata": {
            "byteLimit": 2048000,
            "rowLimit": 10000
          },
          "inputWidgets": {},
          "nuid": "31526d87-65a0-467b-9a41-9c31488fcf6b",
          "showTitle": false,
          "title": ""
        },
        "id": "nNJt-pLmJhPV"
      },
      "source": [
        "A continuación se está construyendo un pipeline de procesamiento de Spark NLP. Primero, se está creando un `DocumentAssembler` para convertir la columna \"review_body\" en un documento y almacenarlo en la columna \"document\". Luego, se está creando un `Tokenizer` para dividir el documento en tokens y almacenarlos en la columna \"token\".\n",
        "\n",
        "Después, se está utilizando `BertEmbeddings` para crear incrustaciones (embeddings) de palabras utilizando un modelo pre-entrenado especificado por `PRE_TRAINED_MODEL_NAME`. Estas incrustaciones se almacenan en la columna \"embeddings\".\n",
        "\n",
        "A continuación, se está utilizando `SentenceEmbeddings` para calcular las incrustaciones de oraciones a partir de las incrustaciones de palabras utilizando un promedio y almacenarlas en la columna \"sentence_embeddings\".\n",
        "\n",
        "Finalmente, se está creando un clasificador `ClassifierDLApproach` que utiliza las incrustaciones de oraciones como entrada para clasificar el sentimiento del texto. El clasificador se entrena durante un número especificado de épocas con una tasa de aprendizaje y tamaño de lote especificados.\n",
        "\n",
        "Todo el pipeline se construye utilizando estas etapas y se almacena en la variable `bert_clf_pipeline`."
      ]
    },
    {
      "cell_type": "code",
      "execution_count": 17,
      "metadata": {
        "application/vnd.databricks.v1+cell": {
          "cellMetadata": {
            "byteLimit": 2048000,
            "rowLimit": 10000
          },
          "inputWidgets": {},
          "nuid": "db54566e-089c-4c1c-b9be-722d8c58e50e",
          "showTitle": false,
          "title": ""
        },
        "colab": {
          "base_uri": "https://localhost:8080/"
        },
        "id": "hoiAvy9yDRTy",
        "outputId": "fce754a3-3221-46a5-9ce2-e15d6510d538"
      },
      "outputs": [
        {
          "output_type": "stream",
          "name": "stdout",
          "text": [
            "bert_base_multilingual_cased download started this may take some time.\n",
            "Approximate size to download 636.6 MB\n",
            "[OK!]\n"
          ]
        }
      ],
      "source": [
        "\n",
        "document_assembler = DocumentAssembler() \\\n",
        "    .setInputCol(\"description\") \\\n",
        "    .setOutputCol(\"document\")\n",
        "    \n",
        "tokenizer = Tokenizer() \\\n",
        "    .setInputCols([\"document\"]) \\\n",
        "    .setOutputCol(\"token\")\n",
        "\n",
        "# BertEmbeddings utiliza los datos de una red neuronal entrenada previamente (el nombre del modelo) para crear codificar las palabras que contiene cada texto \n",
        "# convirtiendo a vectores dichas palabras. (codificandolas) AQUI USE AL PRINCIPIO 'small_bert_L4_256'\n",
        "bert_embeddings = BertEmbeddings().pretrained(name=PRE_TRAINED_MODEL_NAME, lang='xx') \\\n",
        "    .setInputCols([\"document\",'token'])\\\n",
        "    .setOutputCol(\"embeddings\")\n",
        "#\n",
        "embeddingsSentence = SentenceEmbeddings() \\\n",
        "    .setInputCols([\"document\", \"embeddings\"]) \\\n",
        "    .setOutputCol(\"sentence_embeddings\") \\\n",
        "    .setPoolingStrategy(\"AVERAGE\")\n",
        "# ClassifierDLApproach: ClassifierDL Utiliza el State-of-the-art de las Universal Sentence Encoder como input para iniciar clasificaciones de texto.\n",
        "# es un clasificador que contiene casi 100 clases de tensorflow, usa modelos de deep learning DNN\n",
        "# LR 5e-3f BATCHSIZE 8\n",
        "classsifierdl = ClassifierDLApproach()\\\n",
        "    .setInputCols([\"sentence_embeddings\"])\\\n",
        "    .setOutputCol(\"class\")\\\n",
        "    .setLabelColumn(\"sentiment\")\\\n",
        "    .setMaxEpochs(EPOCHS)\\\n",
        "    .setLr(LEARNING_RATE)\\\n",
        "    .setBatchSize(BATCH_SIZE)\\\n",
        "    .setEnableOutputLogs(True)\n",
        "    #.setOutputLogsPath('logs')\n",
        "\n",
        "bert_clf_pipeline = Pipeline(stages=[\n",
        "    document_assembler, \n",
        "    tokenizer,\n",
        "    bert_embeddings,\n",
        "    embeddingsSentence,\n",
        "    classsifierdl\n",
        "])"
      ]
    },
    {
      "cell_type": "markdown",
      "metadata": {
        "application/vnd.databricks.v1+cell": {
          "cellMetadata": {
            "byteLimit": 2048000,
            "rowLimit": 10000
          },
          "inputWidgets": {},
          "nuid": "a43116ef-5005-484c-9ab4-03c42173abb4",
          "showTitle": false,
          "title": ""
        },
        "id": "32vc5FNlKH02"
      },
      "source": [
        "# Creación del train y val datasets\n",
        "\n",
        "HAY QUE HACER ONE HOT ENCODING PARA PODER METERLO EN EL BERT"
      ]
    },
    {
      "cell_type": "code",
      "execution_count": 18,
      "metadata": {
        "application/vnd.databricks.v1+cell": {
          "cellMetadata": {
            "byteLimit": 2048000,
            "rowLimit": 10000
          },
          "inputWidgets": {},
          "nuid": "0b5d43ca-00d9-4aa5-8777-c57d5c2dbb97",
          "showTitle": false,
          "title": ""
        },
        "colab": {
          "base_uri": "https://localhost:8080/"
        },
        "id": "VDE5X3RHKq1s",
        "outputId": "a55da031-2014-4a9f-836e-485f34f49fb8"
      },
      "outputs": [
        {
          "output_type": "stream",
          "name": "stdout",
          "text": [
            "84201\n",
            "35799\n"
          ]
        }
      ],
      "source": [
        "df_train, df_eval = df.randomSplit([0.7, 0.3], seed=RANDOM_SEED)\n",
        "for dataset in (df_train, df_eval):\n",
        "  print(dataset.count())"
      ]
    },
    {
      "cell_type": "markdown",
      "metadata": {
        "application/vnd.databricks.v1+cell": {
          "cellMetadata": {
            "byteLimit": 2048000,
            "rowLimit": 10000
          },
          "inputWidgets": {},
          "nuid": "e41cced4-adb2-4036-b41f-9325d1636ad9",
          "showTitle": false,
          "title": ""
        },
        "id": "cxazd96MT_R1"
      },
      "source": [
        "# Ajuste del modelo (FIT)"
      ]
    },
    {
      "cell_type": "code",
      "execution_count": null,
      "metadata": {
        "application/vnd.databricks.v1+cell": {
          "cellMetadata": {
            "byteLimit": 2048000,
            "rowLimit": 10000
          },
          "inputWidgets": {},
          "nuid": "01aa1e51-9411-4854-994e-d1ccdc6c3eab",
          "showTitle": false,
          "title": ""
        },
        "id": "h4vZXVLKISOc"
      },
      "outputs": [],
      "source": [
        "%%time\n",
        "bert_Model = bert_clf_pipeline.fit(df_train)"
      ]
    },
    {
      "cell_type": "markdown",
      "metadata": {
        "application/vnd.databricks.v1+cell": {
          "cellMetadata": {
            "byteLimit": 2048000,
            "rowLimit": 10000
          },
          "inputWidgets": {},
          "nuid": "d022597f-3aaf-41fe-8c2f-088a5e6ebd31",
          "showTitle": false,
          "title": ""
        },
        "id": "7nM5fJYwURd-"
      },
      "source": [
        "# Realización de predicciones en el conjunto de prueba\n",
        "1. primero con una frase\n",
        "2. con el dataset de test"
      ]
    },
    {
      "cell_type": "code",
      "execution_count": null,
      "metadata": {
        "application/vnd.databricks.v1+cell": {
          "cellMetadata": {
            "byteLimit": 2048000,
            "rowLimit": 10000
          },
          "inputWidgets": {},
          "nuid": "08be4a89-f98e-4b21-bc2d-73934981d322",
          "showTitle": false,
          "title": ""
        },
        "id": "fBtSbpqcUUdA"
      },
      "outputs": [],
      "source": [
        "light_model = LightPipeline(bert_Model)\n",
        "\n",
        "light_result = light_model.annotate(\"Este producto es un poco asqueroso, no me ha gustado nada\")\n",
        "print(light_result)"
      ]
    },
    {
      "cell_type": "code",
      "execution_count": null,
      "metadata": {
        "application/vnd.databricks.v1+cell": {
          "cellMetadata": {
            "byteLimit": 2048000,
            "rowLimit": 10000
          },
          "inputWidgets": {},
          "nuid": "ef91fb05-238c-420c-b3a8-0d4788710aa5",
          "showTitle": false,
          "title": ""
        },
        "id": "MTSSdPntOdUV"
      },
      "outputs": [],
      "source": [
        "predict_bert = bert_Model.transform(df_testdata)\n",
        "predict_bert.printSchema()"
      ]
    },
    {
      "cell_type": "code",
      "execution_count": null,
      "metadata": {
        "application/vnd.databricks.v1+cell": {
          "cellMetadata": {
            "byteLimit": 2048000,
            "rowLimit": 10000
          },
          "inputWidgets": {},
          "nuid": "d0a88f2a-279d-475a-ad76-2c67e1e33231",
          "showTitle": false,
          "title": ""
        },
        "id": "fRmd6kl7cb1C"
      },
      "outputs": [],
      "source": [
        "\n",
        "from pyspark.sql.functions import explode\n",
        "# predict_bert\\\n",
        "#   .select(\"sentiment\",\"description\",\"class.result\")\\\n",
        "#   .withColumn(\"prediccion\", \n",
        "#               when(df.result[0] == 0, ['negative'])\n",
        "#               .when(df.result[0] == 1, ['neutral'])\n",
        "#               .when(df.result[0] == 2, ['positive'])).show(10,truncate=80)\n",
        "  \n",
        "\n",
        "df_predict_bert = (predict_bert\n",
        "  .select(\"sentiment\",\"description\",explode(\"class\").alias(\"class\"))\n",
        "  .withColumn(\"result\", col(\"class.result\"))\n",
        "  .select(\"sentiment\",\"description\",\"result\")\n",
        "  .drop_duplicates()\n",
        "  \n",
        "  )\n",
        "df_predict_bert.show(10,truncate=80)\n"
      ]
    },
    {
      "cell_type": "markdown",
      "metadata": {
        "application/vnd.databricks.v1+cell": {
          "cellMetadata": {
            "byteLimit": 2048000,
            "rowLimit": 10000
          },
          "inputWidgets": {},
          "nuid": "73c6c46f-0019-4d0b-840c-5f9d71ada30e",
          "showTitle": false,
          "title": ""
        },
        "id": "t0JuDphtc-MN"
      },
      "source": [
        "# Obtenemos el rendimiento del modelo para comparar con la opcion de USE"
      ]
    },
    {
      "cell_type": "code",
      "execution_count": null,
      "metadata": {
        "application/vnd.databricks.v1+cell": {
          "cellMetadata": {
            "byteLimit": 2048000,
            "rowLimit": 10000
          },
          "inputWidgets": {},
          "nuid": "96affc25-05b0-45c3-b25d-5996f0dd468f",
          "showTitle": false,
          "title": ""
        },
        "id": "Pxil8JWrc-kx"
      },
      "outputs": [],
      "source": [
        "\n",
        "df_pandas_predict_bert = df_predict_bert.toPandas()\n",
        "\n",
        "\n",
        "class_names = ['negative', 'neutral', 'positive']\n",
        "\n",
        "print(classification_report(df_pandas_predict_bert.sentiment, df_pandas_predict_bert.result,target_names=class_names))\n",
        "print(accuracy_score(df_pandas_predict_bert.sentiment, df_pandas_predict_bert.result))"
      ]
    },
    {
      "cell_type": "markdown",
      "metadata": {
        "application/vnd.databricks.v1+cell": {
          "cellMetadata": {
            "byteLimit": 2048000,
            "rowLimit": 10000
          },
          "inputWidgets": {},
          "nuid": "a0974144-399c-44fa-a81d-867627e574b0",
          "showTitle": false,
          "title": ""
        },
        "id": "3mpE9u1FfGfQ"
      },
      "source": [
        "# Dreamos la matriz de confusion\n",
        "1"
      ]
    },
    {
      "cell_type": "code",
      "execution_count": null,
      "metadata": {
        "application/vnd.databricks.v1+cell": {
          "cellMetadata": {
            "byteLimit": 2048000,
            "rowLimit": 10000
          },
          "inputWidgets": {},
          "nuid": "9d4e62f9-bcb6-4b49-b210-0de7bd120819",
          "showTitle": false,
          "title": ""
        },
        "id": "fX60AZEifIjw"
      },
      "outputs": [],
      "source": [
        "def show_confusion_matrix(confusion_matrix):\n",
        "  hmap = sns.heatmap(confusion_matrix, annot=True, fmt=\"d\", cmap=\"Blues\")\n",
        "  hmap.yaxis.set_ticklabels(hmap.yaxis.get_ticklabels(), rotation=0, ha='right')\n",
        "  hmap.xaxis.set_ticklabels(hmap.xaxis.get_ticklabels(), rotation=30, ha='right')\n",
        "  plt.ylabel('True sentiment')\n",
        "  plt.xlabel('Predicted sentiment');"
      ]
    },
    {
      "cell_type": "code",
      "execution_count": null,
      "metadata": {
        "application/vnd.databricks.v1+cell": {
          "cellMetadata": {
            "byteLimit": 2048000,
            "rowLimit": 10000
          },
          "inputWidgets": {},
          "nuid": "05987b3b-9f86-4c1e-a711-a07f9b32e867",
          "showTitle": false,
          "title": ""
        },
        "id": "RXgHiSLafl1Z"
      },
      "outputs": [],
      "source": [
        "    import pandas as pd\n",
        "    cm = confusion_matrix(df_pandas_predict_bert.sentiment, df_pandas_predict_bert.result)\n",
        "    df_cm = pd.DataFrame(cm, index=class_names, columns=class_names)\n",
        "    show_confusion_matrix(df_cm)"
      ]
    },
    {
      "cell_type": "markdown",
      "metadata": {
        "application/vnd.databricks.v1+cell": {
          "cellMetadata": {
            "byteLimit": 2048000,
            "rowLimit": 10000
          },
          "inputWidgets": {},
          "nuid": "7f7f13b3-7ad6-4d24-80f5-4463bf8918f0",
          "showTitle": false,
          "title": ""
        },
        "id": "fFNLcGt3f4sx"
      },
      "source": [
        "Pruebas de predicción"
      ]
    },
    {
      "cell_type": "code",
      "execution_count": null,
      "metadata": {
        "application/vnd.databricks.v1+cell": {
          "cellMetadata": {
            "byteLimit": 2048000,
            "rowLimit": 10000
          },
          "inputWidgets": {},
          "nuid": "df442b3c-7cb3-49cb-8c8b-8d66f4b47170",
          "showTitle": false,
          "title": ""
        },
        "id": "5o57llAZgAe6"
      },
      "outputs": [],
      "source": [
        "light_model.annotate(\n",
        "    \"Me encanta, lo recomendaría al 100%, no se como no se lo han comprado antes.\"\n",
        ")[\"class\"]"
      ]
    },
    {
      "cell_type": "markdown",
      "metadata": {
        "application/vnd.databricks.v1+cell": {
          "cellMetadata": {
            "byteLimit": 2048000,
            "rowLimit": 10000
          },
          "inputWidgets": {},
          "nuid": "11279048-0cb7-4690-82a8-2180f8bbf06c",
          "showTitle": false,
          "title": ""
        },
        "id": "BcJ3cVt_b-nT"
      },
      "source": [
        "Enlaces relacionados bibliografía organizada en formato markdown:\n",
        "\n",
        "- [Annotators SparkNLP](https://github.com/JohnSnowLabs/spark-nlp-workshop/blob/master/tutorials/Certification_Trainings/Public/5.Text_Classification_with_ClassifierDL.ipynb)\n",
        "- [Opciones de preprocesado](https://github.com/JohnSnowLabs/spark-nlp-workshop/blob/master/tutorials/Certification_Trainings/Public/2.Text_Preprocessing_with_SparkNLP_Annotators_Transformers.ipynb)\n",
        "- [Clasificación de texto en Spark NLP con Bert y Universal Sentence Encoders](https://towardsdatascience.com/text-classification-in-spark-nlp-with-bert-and-universal-sentence-encoders-e644d618ca32)\n",
        "- [Cómo instalar Spark NLP offline](https://nlp.johnsnowlabs.com/docs/en/install#offline)\n",
        "- [Predicción de reseñas de películas con Bert en TF Hub (Python)](https://colab.research.google.com/github/google-research/bert/blob/master/predicting_movie_reviews_with_bert_on_tf_hub.ipynb#scrollTo=OjwJ4bTeWXD8)\n",
        "- [Ajuste fino de Bert con Cloud TPUs (Python)](https://colab.research.google.com/github/tensorflow/tpu/blob/master/tools/colab/bert_finetuning_with_cloud_tpus.ipynb)\n",
        "- [Repositorio de Bert en GitHub](https://github.com/google-research/bert)\n",
        "- [Ventajas de Spark NLP vs Spacy](https://towardsdatascience.com/introduction-to-spark-nlp-foundations-and-basic-components-part-i-c83b7629ed59)\n",
        "- [Explicación de Bert en diapositivas](http://web.stanford.edu/class/cs224n/slides/Jacob_Devlin_BERT.pdf)\n",
        "- [Información sobre la disponibilidad de GPU en Colab](https://research.google.com/colaboratory/faq.html#gpu-availability)\n",
        "- [Configuracion de spark NLP](https://github.com/JohnSnowLabs/spark-nlp/blob/master/README.md#quick-start)"
      ]
    },
    {
      "cell_type": "code",
      "execution_count": null,
      "metadata": {
        "application/vnd.databricks.v1+cell": {
          "cellMetadata": {
            "byteLimit": 2048000,
            "rowLimit": 10000
          },
          "inputWidgets": {},
          "nuid": "84b3c58c-2dc2-42ef-a13b-6939f4ea73f8",
          "showTitle": false,
          "title": ""
        },
        "id": "DcgLyJxRbpVA"
      },
      "outputs": [],
      "source": [
        "if 'dbutils' in globals():\n",
        "    print('borrando lo que hay en el directorio remoto para liberar espacio')\n",
        "    # dbutils.fs.rm(root_folder,recurse=True)\n",
        "elif platform.system() == 'Linux':\n",
        "    from google.colab import runtime\n",
        "    runtime.unassign()"
      ]
    }
  ],
  "metadata": {
    "application/vnd.databricks.v1+notebook": {
      "dashboards": [],
      "language": "python",
      "notebookMetadata": {
        "mostRecentlyExecutedCommandWithImplicitDF": {
          "commandId": -1,
          "dataframes": [
            "_sqldf"
          ]
        },
        "pythonIndentUnit": 4
      },
      "notebookName": "TFM_Experimento_1_BERT_AMAZON_REVIEWS_ES_spark_0.2",
      "widgets": {}
    },
    "colab": {
      "provenance": [],
      "gpuType": "T4"
    },
    "kernelspec": {
      "display_name": "Python 3",
      "name": "python3"
    },
    "language_info": {
      "codemirror_mode": {
        "name": "ipython",
        "version": 3
      },
      "file_extension": ".py",
      "mimetype": "text/x-python",
      "name": "python",
      "nbconvert_exporter": "python",
      "pygments_lexer": "ipython3",
      "version": "3.8.1"
    },
    "accelerator": "GPU",
    "gpuClass": "standard"
  },
  "nbformat": 4,
  "nbformat_minor": 0
}