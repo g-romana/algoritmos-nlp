{
 "cells": [
  {
   "attachments": {},
   "cell_type": "markdown",
   "metadata": {
    "application/vnd.databricks.v1+cell": {
     "cellMetadata": {
      "byteLimit": 2048000,
      "rowLimit": 10000
     },
     "inputWidgets": {},
     "nuid": "f8adb2f7-fb2f-434a-b98f-2382f7f752ed",
     "showTitle": false,
     "title": ""
    }
   },
   "source": [
    "# Funciones iniciales"
   ]
  },
  {
   "cell_type": "code",
   "execution_count": null,
   "metadata": {
    "application/vnd.databricks.v1+cell": {
     "cellMetadata": {
      "byteLimit": 2048000,
      "rowLimit": 10000
     },
     "inputWidgets": {},
     "nuid": "069ad511-ba62-4e04-b1eb-d707ae1aad6c",
     "showTitle": false,
     "title": ""
    },
    "colab": {
     "base_uri": "https://localhost:8080/"
    },
    "id": "4wIwIlCsolrS",
    "outputId": "b5ac9adb-666e-4521-a338-c1ab140a799e"
   },
   "outputs": [
    {
     "name": "stdout",
     "output_type": "stream",
     "text": [
      "openjdk version \"1.8.0_345\"\n",
      "OpenJDK Runtime Environment (Zulu 8.64.0.19-CA-linux64) (build 1.8.0_345-b01)\n",
      "OpenJDK 64-Bit Server VM (Zulu 8.64.0.19-CA-linux64) (build 25.345-b01, mixed mode)\n",
      "\n",
      "Java is installed\n",
      "Este notebook se estÃ¡ ejecutando en Databricks, sigue los siguientes pasos para configurarlo si no lo has hecho ya\n",
      "Paso  DescripciÃ³n\n",
      "1     Configurar `spark.kryoserializer.buffer.max` a `2000M` y `spark.serializer` a `org.apache.spark.serializer.KryoSerializer`\n",
      "2     En la pestaÃ±a de Bibliotecas dentro de tu clÃºster, sigue estos pasos:\n",
      "3.1   Instalar nuevo -> PyPI -> spark-nlp -> Instalar\n",
      "3.2   Instalar nuevo -> Maven -> Coordenadas -> com.johnsnowlabs.nlp:spark-nlp_2.12:4.4.3\n"
     ]
    }
   ],
   "source": [
    "import os\n",
    "import subprocess\n",
    "import platform\n",
    "import shutil\n",
    "import urllib.request\n",
    "import tarfile\n",
    "\n",
    "def is_java_installed():\n",
    "    try:\n",
    "        output = subprocess.check_output(['java', '-version'], stderr=subprocess.STDOUT)\n",
    "        print(output.decode())\n",
    "        return True\n",
    "    except Exception as e:\n",
    "        print(e)\n",
    "        return False\n",
    "\n",
    "if is_java_installed():\n",
    "    print(\"Java is installed\")\n",
    "else:\n",
    "    print(\"Java is not installed\")\n",
    "\n",
    "\n",
    "def setup_spark_nlp(base_path=r'C:'):\n",
    "    \"\"\"\n",
    "    Sets up Spark NLP with Spark 3.2.3 on Windows.\n",
    "    :param base_path: base path for installation (optional)\n",
    "    \"\"\"\n",
    "    # Step 1: descargar e installar Adopt OpenJDK 1.8\n",
    "    # Este paso no puede ser automatizado y debe ser realizado manualmente. \n",
    "    \n",
    "    # Step 2: Descargar pre-compiled Hadoop binaries\n",
    "    hadoop_bin_url = 'https://github.com/cdarlint/winutils/raw/master/hadoop-3.2.0/bin/'\n",
    "    hadoop_bin_dir = os.path.join(base_path, 'hadoop', 'bin')\n",
    "    os.makedirs(hadoop_bin_dir, exist_ok=True)\n",
    "\n",
    "    for file in ['winutils.exe', 'hadoop.dll']:\n",
    "        urllib.request.urlretrieve(hadoop_bin_url + file, os.path.join(hadoop_bin_dir, file))\n",
    "\n",
    "    # Step 3: Descargar Apache Spark 3.2.3\n",
    "\n",
    "    spark_url = 'https://archive.apache.org/dist/spark/spark-3.2.3/spark-3.2.3-bin-hadoop3.2.tgz'\n",
    "    spark_dir = os.path.join(base_path, 'spark')\n",
    "\n",
    "    with urllib.request.urlopen(spark_url) as response:\n",
    "        with open('spark.tgz', 'wb') as f:\n",
    "            shutil.copyfileobj(response, f)\n",
    "\n",
    "    with tarfile.open('spark.tgz', 'r:gz') as tf:\n",
    "        tf.extractall(spark_dir)\n",
    "\n",
    "    # Step 4: Set environment variables \n",
    "    os.environ['HADOOP_HOME'] = os.path.join(base_path, 'hadoop','bin')\n",
    "    os.environ['SPARK_HOME'] = spark_dir\n",
    "\n",
    "    # Step 5: Add to PATH environment variable\n",
    "    os.environ['PATH'] += os.pathsep + os.path.join(os.environ['HADOOP_HOME'], 'bin')\n",
    "    os.environ['PATH'] += os.pathsep + os.path.join(os.environ['SPARK_HOME'], 'bin')\n",
    "\n",
    "    # Step 6: Install Microsoft Visual C++ 2010 Redistributed Package (x64)\n",
    "    # This step cannot be automated and must be done manually.\n",
    "\n",
    "    # Step 7: Create folders C:\\tmp and C:\\tmp\\hive\n",
    "    os.makedirs(os.path.join(base_path, 'tmp', 'hive'), exist_ok=True)\n",
    "\n",
    "    # Change permissions for C:\\tmp and C:\\tmp\\hive\n",
    "    winutils = os.path.join(os.environ['HADOOP_HOME'], 'bin', 'winutils.exe')\n",
    "    os.system(f'{winutils} chmod 777 /tmp/hive')\n",
    "    os.system(f'{winutils} chmod 777 /tmp/')\n",
    "\n",
    "\n",
    "def setup(pyspark_version=\"3.2.3\", sparknlp_version=\"4.4.2\"):\n",
    "    \"\"\"\n",
    "    Configura el entorno de Google Colab con PySpark y Spark NLP.\n",
    "    :param pyspark_version: versiÃ³n de PySpark a instalar (opcional)\n",
    "    :param sparknlp_version: versiÃ³n de Spark NLP a instalar (opcional)\n",
    "    \"\"\"\n",
    "    if 'dbutils' in globals():\n",
    "        print(\"Este notebook se estÃ¡ ejecutando en Databricks, sigue los siguientes pasos para configurarlo si no lo has hecho ya\") \n",
    "        data = [[\"Paso\", \"DescripciÃ³n\"],\n",
    "        [\"1\", \"Configurar `spark.kryoserializer.buffer.max` a `2000M` y `spark.serializer` a `org.apache.spark.serializer.KryoSerializer`\"],\n",
    "        [\"2\", \"En la pestaÃ±a de Bibliotecas dentro de tu clÃºster, sigue estos pasos:\"],\n",
    "        [\"3.1\", \"Instalar nuevo -> PyPI -> spark-nlp -> Instalar\"],\n",
    "        [\"3.2\", \"Instalar nuevo -> Maven -> Coordenadas -> com.johnsnowlabs.nlp:spark-nlp_2.12:4.4.3\"]]\n",
    "        for row in data:\n",
    "            print(\"{: <5} {: <10}\".format(*row))\n",
    "        return\n",
    "    elif platform.system() == 'Linux':\n",
    "        os.environ[\"JAVA_HOME\"] = \"/usr/lib/jvm/java-11-openjdk-amd64\"\n",
    "        print(f\"Instalando PySpark {pyspark_version} y Spark NLP {sparknlp_version}\")\n",
    "        if 'NVIDIA' in subprocess.getoutput('nvidia-smi'):\n",
    "            print(\"Actualizando libcudnn8 a 8.1.0 para GPU\")\n",
    "            !apt install -qq --allow-change-held-packages libcudnn8=8.1.0.77-1+cuda11.2 -y &> /dev/null\n",
    "        !pip install --upgrade -q pyspark==$pyspark_version spark-nlp==$sparknlp_version findspark\n",
    "\n",
    "    elif platform.system() == 'Windows':\n",
    "        print(f\"Instalando PySpark {pyspark_version} y Spark NLP {sparknlp_version}\")\n",
    "        !pip install --upgrade -q pyspark==$pyspark_version spark-nlp==$sparknlp_version findspark\n",
    "        # SOLO EJECUTAR 1 VEZ \n",
    "        setup_spark_nlp(os.path.join(os.getcwd(),\"ARCHIVOS_BASE\"))\n",
    "\n",
    "setup()"
   ]
  },
  {
   "cell_type": "code",
   "execution_count": null,
   "metadata": {
    "application/vnd.databricks.v1+cell": {
     "cellMetadata": {
      "byteLimit": 2048000,
      "rowLimit": 10000
     },
     "inputWidgets": {},
     "nuid": "6f67c14b-56ec-4e35-a976-b507c9c5a19b",
     "showTitle": false,
     "title": ""
    }
   },
   "outputs": [],
   "source": [
    "# [Environment]::SetEnvironmentVariable(\"HADOOP_HOME\", \"C:\\Users\\RomanGu\\OneDrive - BASF\\Documents\\CODE\\romangu-repo\\notebooks\\TFM\\experimentos\\ARCHIVOS_BASE\\hadoop\\bin\", \"User\")\n",
    "# [Environment]::SetEnvironmentVariable(\"SPARK_HOME\", \"C:\\Users\\RomanGu\\OneDrive - BASF\\Documents\\CODE\\romangu-repo\\notebooks\\TFM\\experimentos\\ARCHIVOS_BASE\\ARCHIVOS_BASE\\spark\\spark-3.2.3-bin-hadoop3.2\\bin\", \"User\")\n",
    "\n",
    "\n",
    "# $CurrentValue = [Environment]::GetEnvironmentVariable(\"PATH\", \"User\")\n",
    "# [Environment]::SetEnvironmentVariable(\"PATH\", $CurrentValue + \";C:\\Users\\RomanGu\\OneDrive - BASF\\Documents\\CODE\\romangu-repo\\notebooks\\TFM\\experimentos\\ARCHIVOS_BASE\\hadoop\\bin\", \"User\")\n",
    "\n",
    "# $CurrentValue = [Environment]::GetEnvironmentVariable(\"PATH\", \"User\")\n",
    "# [Environment]::SetEnvironmentVariable(\"PATH\", $CurrentValue + \";C:\\Users\\RomanGu\\OneDrive - BASF\\Documents\\CODE\\romangu-repo\\notebooks\\TFM\\experimentos\\ARCHIVOS_BASE\\spark\\spark-3.2.3-bin-hadoop3.2\\bin\", \"User\")\n",
    "\n"
   ]
  },
  {
   "cell_type": "code",
   "execution_count": null,
   "metadata": {
    "application/vnd.databricks.v1+cell": {
     "cellMetadata": {
      "byteLimit": 2048000,
      "rowLimit": 10000
     },
     "inputWidgets": {},
     "nuid": "ed58345f-bc06-4540-a74c-5847a1a5efad",
     "showTitle": false,
     "title": ""
    }
   },
   "outputs": [
    {
     "name": "stdout",
     "output_type": "stream",
     "text": [
      "HADOOP_HOME no estÃ¡ configurada\n",
      "SPARK_HOME /databricks/spark\n",
      "JAVA_HOME /usr/lib/jvm/zulu8-ca-amd64/jre/\n"
     ]
    }
   ],
   "source": [
    "# os.environ[\"HADOOP_HOME\"] = r\"C:\\Users\\RomanGu\\OneDrive - BASF\\Documents\\CODE\\romangu-repo\\notebooks\\TFM\\experimentos\\ARCHIVOS_BASE\\hadoop\\bin\"\n",
    "\n",
    "\n",
    "# os.environ[\"SPARK_HOME\"] = r\"C:\\Users\\RomanGu\\OneDrive - BASF\\Documents\\CODE\\romangu-repo\\notebooks\\TFM\\experimentos\\ARCHIVOS_BASE\\ARCHIVOS_BASE\\spark\\spark-3.2.3-bin-hadoop3.2\\bin\"\n",
    "\n",
    "\n",
    "\n",
    "# # Add to PATH environment variable\n",
    "# os.environ['PATH'] += os.pathsep + os.path.join(os.environ['HADOOP_HOME'])\n",
    "# os.environ['PATH'] += os.pathsep + os.path.join(os.environ['SPARK_HOME'])\n",
    "\n",
    "# %%cmd\n",
    "# setx PATH %PATH%;\"C:\\Users\\RomanGu\\OneDrive - BASF\\Documents\\CODE\\romangu-repo\\notebooks\\TFM\\experimentos\\ARCHIVOS_BASE\\hadoop\\bin\"\n",
    "# setx HADOOP_HOME \"C:\\Users\\RomanGu\\OneDrive - BASF\\Documents\\CODE\\romangu-repo\\notebooks\\TFM\\experimentos\\ARCHIVOS_BASE\\hadoop\\bin\"\n",
    "# setx PATH %PATH%;\"C:\\Users\\RomanGu\\OneDrive - BASF\\Documents\\CODE\\romangu-repo\\notebooks\\TFM\\experimentos\\ARCHIVOS_BASE\\spark\\spark-3.2.3-bin-hadoop3.2\\bin\"\n",
    "# setx SPARK_HOME  \"C:\\Users\\RomanGu\\OneDrive - BASF\\Documents\\CODE\\romangu-repo\\notebooks\\TFM\\experimentos\\ARCHIVOS_BASE\\spark\\spark-3.2.3-bin-hadoop3.2\\bin\"\n",
    "# abrir enviroment variables desde powershell: & \"$env:SystemRoot\\System32\\SystemPropertiesAdvanced.exe\"\n",
    "\n",
    "for environ in [\"HADOOP_HOME\",\"SPARK_HOME\",\"JAVA_HOME\"]:\n",
    "    try:\n",
    "        print(environ,os.environ[environ])\n",
    "    except:\n",
    "        print(environ, \"no estÃ¡ configurada\")\n",
    "\n",
    "\n",
    "\n"
   ]
  },
  {
   "cell_type": "code",
   "execution_count": null,
   "metadata": {
    "application/vnd.databricks.v1+cell": {
     "cellMetadata": {
      "byteLimit": 2048000,
      "rowLimit": 10000
     },
     "inputWidgets": {},
     "nuid": "9c36c395-1fe3-4117-9292-e1f752b1d8c7",
     "showTitle": false,
     "title": ""
    },
    "colab": {
     "base_uri": "https://localhost:8080/"
    },
    "id": "ceW3PQY8o_up",
    "outputId": "dd76fbbd-27d1-44e9-b824-85a848cd1eca"
   },
   "outputs": [
    {
     "name": "stdout",
     "output_type": "stream",
     "text": [
      "Spark NLP version: 4.4.3\n",
      "Apache Spark version: 3.3.0\n"
     ]
    }
   ],
   "source": [
    "import sparknlp\n",
    "import torch\n",
    "if 'dbutils' not in globals():\n",
    "    spark = sparknlp.start(gpu = torch.cuda.is_available())\n",
    "\n",
    "print(\"Spark NLP version: {}\".format(sparknlp.version()))\n",
    "print(\"Apache Spark version: {}\".format(spark.version))\n"
   ]
  },
  {
   "cell_type": "code",
   "execution_count": null,
   "metadata": {
    "application/vnd.databricks.v1+cell": {
     "cellMetadata": {
      "byteLimit": 2048000,
      "rowLimit": 10000
     },
     "inputWidgets": {},
     "nuid": "bc2d9652-1ee8-4ed6-bece-6fdfe9db5a9a",
     "showTitle": false,
     "title": ""
    },
    "id": "XRZT6k97pDkB"
   },
   "outputs": [],
   "source": [
    "# Importing necessary libraries\n",
    "from sparknlp.pretrained import PretrainedPipeline\n",
    "# from sparknlp.base import LightPipeline,document_assembler\n",
    "from sparknlp.base import *\n",
    "from sparknlp.annotator import *\n",
    "from pyspark.ml import Pipeline\n",
    "from pyspark.sql import SparkSession\n",
    "from pyspark.sql.functions import countDistinct, col\n",
    "import pyspark.sql.functions as F\n",
    "from sklearn.metrics import classification_report, accuracy_score, confusion_matrix\n",
    "import seaborn as sns\n",
    "import matplotlib.pyplot as plt\n",
    "from pylab import rcParams\n",
    "\n",
    "# Setting up inline plotting and figure format\n",
    "%matplotlib inline\n",
    "%config InlineBackend.figure_format='retina'\n",
    "\n",
    "# Setting up seaborn style and color palette\n",
    "sns.set(style='whitegrid', palette='muted', font_scale=1.2)\n",
    "HAPPY_COLORS_PALETTE = [\"#01BEFE\", \"#FFDD00\", \"#FF7D00\", \"#FF006D\", \"#ADFF02\", \"#8F00FF\"]\n",
    "sns.set_palette(sns.color_palette(HAPPY_COLORS_PALETTE))\n",
    "\n",
    "# Setting up figure size for plots\n",
    "rcParams['figure.figsize'] = 12, 8\n"
   ]
  },
  {
   "cell_type": "code",
   "execution_count": null,
   "metadata": {
    "application/vnd.databricks.v1+cell": {
     "cellMetadata": {
      "byteLimit": 2048000,
      "rowLimit": 10000
     },
     "inputWidgets": {},
     "nuid": "f2de98b5-56a0-49d2-9133-c2aec7c426b3",
     "showTitle": false,
     "title": ""
    },
    "id": "IvaPZNSOqRfS"
   },
   "outputs": [],
   "source": [
    "def experimento(tipo: str, idioma: str):\n",
    "    \"\"\"\n",
    "    Configura y devuelve los parÃ¡metros para un experimento.\n",
    "\n",
    "    ParÃ¡metros\n",
    "    ----------\n",
    "    tipo : str\n",
    "        El tipo de experimento a realizar. Debe ser \"AMAZON\" o \"AGNEWS\".\n",
    "    idioma : str\n",
    "        El idioma del modelo pre-entrenado a utilizar. Debe ser \"EN\" o \"ES\".\n",
    "\n",
    "    Devoluciones\n",
    "    -------\n",
    "    int\n",
    "        El tamaÃ±o del lote a utilizar en el experimento.\n",
    "    int\n",
    "        El nÃºmero de Ã©pocas a utilizar en el experimento.\n",
    "    float\n",
    "        La tasa de aprendizaje a utilizar en el experimento.\n",
    "    str\n",
    "        El nombre del modelo pre-entrenado a utilizar en el experimento.\n",
    "\n",
    "    \"\"\"\n",
    "    \n",
    "    experiment_params = {\n",
    "        \"AMAZON\": (16, 2, 5e-5),\n",
    "        \"AGNEWS\": (32, 4, 3e-5)\n",
    "    }\n",
    "    \n",
    "    model_names = {\n",
    "        \"ES\": 'bert_base_multilingual_cased',\n",
    "        \"EN\": 'bert_uncased_L-4_H-256_A-4_squad2',\n",
    "    }\n",
    "    \n",
    "    if tipo.upper() not in experiment_params:\n",
    "        print(\"elige experimento\")\n",
    "        return\n",
    "    \n",
    "    if idioma.upper() not in model_names:\n",
    "        print(\"modelo no elegido\")\n",
    "        return\n",
    "    \n",
    "    BATCH_SIZE, EPOCHS, LEARNING_RATE = experiment_params[tipo.upper()]\n",
    "    PRE_TRAINED_MODEL_NAME = model_names[idioma.upper()]\n",
    "    \n",
    "    return BATCH_SIZE, EPOCHS, LEARNING_RATE, PRE_TRAINED_MODEL_NAME\n",
    "\n",
    "\n",
    "BATCH_SIZE, EPOCHS, LEARNING_RATE, PRE_TRAINED_MODEL_NAME = experimento(tipo = \"AMAZON\", idioma =\"es\")"
   ]
  },
  {
   "attachments": {},
   "cell_type": "markdown",
   "metadata": {
    "application/vnd.databricks.v1+cell": {
     "cellMetadata": {
      "byteLimit": 2048000,
      "rowLimit": 10000
     },
     "inputWidgets": {},
     "nuid": "c70200f0-7fd5-4b2f-b994-71d67691285e",
     "showTitle": false,
     "title": ""
    },
    "id": "69WyiC--FogB"
   },
   "source": [
    "# En spark NLP - tamaÃ±os para los BERT models\n",
    "\n",
    "Modelos elegidos:\n",
    "* Para el modelo de respuesta en inglÃ©s [bert_uncased_L-4_H-256_A-4_squad2](https://sparknlp.org/2022/06/02/bert_qa_bert_uncased_L_4_H_256_A_4_squad2_en_3_0.html) \n",
    "  * el mÃ¡s parecido a [google/bert_uncased_L-4_H-256_A-4](https://huggingface.co/google/bert_uncased_L-4_H-256_A-4)\n",
    "* para el modelo de clasificaciÃ³n en espaÃ±ol si estÃ¡ el mismo modelo de HugginFace  [bert_base_multilingual_cased](https://sparknlp.org/2021/05/20/bert_base_multilingual_cased_xx.html)\n",
    "\n",
    "<!-- Original values\n",
    "* PRE_TRAINED_MODEL_NAME = 'bert_base_cased'  **389.1 MB**\n",
    "* PRE_TRAINED_MODEL_NAME = 'sent_small_bert_L8_512' **149.1 MB**\n",
    "* PRE_TRAINED_MODEL_NAME = 'small_bert_L4_256' **40.5 MB**\n",
    "\n",
    "Para sentence embeddings.\n",
    "SENTENCE_PRE_TRAINED_MODEL_NAME = 'sent_bert_base_cased'\n",
    "SENTENCE_PRE_TRAINED_MODEL_NAME = 'sent_small_bert_L8_512' **149.1 MB** -->\n",
    "\n",
    "Fuente: [NLP MODELS EN SPARK-NLP](https://nlp.johnsnowlabs.com/models)"
   ]
  },
  {
   "cell_type": "code",
   "execution_count": null,
   "metadata": {
    "application/vnd.databricks.v1+cell": {
     "cellMetadata": {
      "byteLimit": 2048000,
      "rowLimit": 10000
     },
     "inputWidgets": {},
     "nuid": "4b3a1119-4a07-4305-b2d4-834bdf48aa9d",
     "showTitle": false,
     "title": ""
    },
    "colab": {
     "base_uri": "https://localhost:8080/"
    },
    "id": "DjSNtU_8qlAZ",
    "outputId": "636d065e-3249-4cf0-b953-313459da42f1"
   },
   "outputs": [
    {
     "name": "stdout",
     "output_type": "stream",
     "text": [
      "BATCH_SIZE: 16\n",
      "LEARNING_RATE: 5e-05\n",
      "EPOCHS: 2\n",
      "PRE_TRAINED_MODEL_NAME: bert_base_multilingual_cased\n",
      "PRE_TRAINED_MODEL_NAME FOR SENTENCES: sent_bert_base_multilingual_cased\n"
     ]
    }
   ],
   "source": [
    "# Para las Sentence embeddings el nombre del moldelo lleva un prefijo \"sent_\"\n",
    "SENTENCE_PRE_TRAINED_MODEL_NAME = 'sent_'+PRE_TRAINED_MODEL_NAME\n",
    "\n",
    "# Random Seed \n",
    "RANDOM_SEED = 42\n",
    "\n",
    "\n",
    "print(f\"BATCH_SIZE: {BATCH_SIZE}\")\n",
    "print(f\"LEARNING_RATE: {LEARNING_RATE}\")\n",
    "print(f\"EPOCHS: {EPOCHS}\")\n",
    "print(f\"PRE_TRAINED_MODEL_NAME: {PRE_TRAINED_MODEL_NAME}\")\n",
    "print(f\"PRE_TRAINED_MODEL_NAME FOR SENTENCES: {SENTENCE_PRE_TRAINED_MODEL_NAME}\")"
   ]
  },
  {
   "cell_type": "code",
   "execution_count": null,
   "metadata": {
    "application/vnd.databricks.v1+cell": {
     "cellMetadata": {
      "byteLimit": 2048000,
      "rowLimit": 10000
     },
     "inputWidgets": {},
     "nuid": "22b7dc4f-7c0a-464d-94b5-66a3077fee3f",
     "showTitle": false,
     "title": ""
    },
    "colab": {
     "base_uri": "https://localhost:8080/"
    },
    "id": "ThqjEH_FqoTA",
    "outputId": "ed3e9bea-011c-4447-8a7a-5c2d506f8314"
   },
   "outputs": [
    {
     "name": "stdout",
     "output_type": "stream",
     "text": [
      "\u001b[31mERROR: pip's dependency resolver does not currently take into account all the packages that are installed. This behaviour is the source of the following dependency conflicts.\r\n",
      "boto3 1.21.18 requires botocore<1.25.0,>=1.24.18, but you have botocore 1.29.141 which is incompatible.\r\n",
      "boto3 1.21.18 requires s3transfer<0.6.0,>=0.5.0, but you have s3transfer 0.6.1 which is incompatible.\u001b[0m\r\n",
      "/dbfs/mnt/edl/data/testing/trs_test/sample_data/\n"
     ]
    }
   ],
   "source": [
    "!pip install awscli -qq\n",
    "\n",
    "\n",
    "if 'dbutils' in globals():\n",
    "    root_folder = os.path.join(\"/dbfs/mnt/edl/data/testing/trs_test\",\"sample_data/\")\n",
    "else:\n",
    "    root_folder = \"./sample_data/\"\n",
    "print(root_folder)\n",
    "\n",
    "\n",
    "# if not os.path.isfile(os.path.join(root_folder,'dataset_es_test.json')):\n",
    "#     !aws s3 cp s3://amazon-reviews-ml/json/test/dataset_es_test.json {root_folder} --no-sign-request\n",
    "# if not os.path.isfile(os.path.join(root_folder,'dataset_es_train.json')):\n",
    "#     !aws s3 cp s3://amazon-reviews-ml/json/train/dataset_es_train.json {root_folder} --no-sign-request\n",
    "\n",
    "import subprocess\n",
    "\n",
    "def download_files(root_folder):\n",
    "    \"\"\"\n",
    "    Descarga los archivos dataset_es_test.json y dataset_es_train.json desde Amazon S3.\n",
    "    :param root_folder: ruta de la carpeta donde se guardarÃ¡n los archivos descargados\n",
    "    \"\"\"\n",
    " \n",
    "    if not os.path.isfile(os.path.join(root_folder,'dataset_es_test.json')):\n",
    "        print(\"descargando test en\",root_folder)\n",
    "        subprocess.run(f\"aws s3 cp s3://amazon-reviews-ml/json/test/dataset_es_test.json {root_folder} --no-sign-request\", shell=True)\n",
    "    \n",
    "    if not os.path.isfile(os.path.join(root_folder,'dataset_es_train.json')):\n",
    "        print(\"descargando train en\",root_folder)\n",
    "        subprocess.run(f\"aws s3 cp s3://amazon-reviews-ml/json/train/dataset_es_train.json {root_folder} --no-sign-request\", shell=True)\n",
    "\n",
    "download_files(root_folder)"
   ]
  },
  {
   "cell_type": "code",
   "execution_count": null,
   "metadata": {
    "application/vnd.databricks.v1+cell": {
     "cellMetadata": {
      "byteLimit": 2048000,
      "rowLimit": 10000
     },
     "inputWidgets": {},
     "nuid": "16e30199-fec7-47f7-a4f1-0a0e0f4c86e7",
     "showTitle": false,
     "title": ""
    },
    "colab": {
     "base_uri": "https://localhost:8080/"
    },
    "id": "6hxkq6zmqs-f",
    "outputId": "0eec35c1-d083-4e5f-f402-b8092a32dfb8"
   },
   "outputs": [
    {
     "name": "stdout",
     "output_type": "stream",
     "text": [
      "+---------------------------------------------------------------------+---------------------+--------+----------------+\n",
      "|path                                                                 |name                 |size    |modificationTime|\n",
      "+---------------------------------------------------------------------+---------------------+--------+----------------+\n",
      "|dbfs:/mnt/edl/data/testing/trs_test/sample_data/dataset_es_test.json |dataset_es_test.json |1939602 |1685049712000   |\n",
      "|dbfs:/mnt/edl/data/testing/trs_test/sample_data/dataset_es_train.json|dataset_es_train.json|77475023|1685050480000   |\n",
      "+---------------------------------------------------------------------+---------------------+--------+----------------+\n",
      "\n"
     ]
    }
   ],
   "source": [
    "if 'dbutils' in globals():\n",
    "    spark.createDataFrame(dbutils.fs.ls(root_folder.lstrip(\"/dbfs\"))).show(truncate=False)\n",
    "else:\n",
    "    os.listdir(root_folder)"
   ]
  },
  {
   "cell_type": "code",
   "execution_count": null,
   "metadata": {
    "application/vnd.databricks.v1+cell": {
     "cellMetadata": {
      "byteLimit": 2048000,
      "rowLimit": 10000
     },
     "inputWidgets": {},
     "nuid": "82d1ed2c-a77e-45fa-9148-84ba8b341362",
     "showTitle": false,
     "title": ""
    },
    "id": "o-gFeeluqvZL"
   },
   "outputs": [
    {
     "name": "stdout",
     "output_type": "stream",
     "text": [
      "/mnt/edl/data/testing/trs_test/sample_data/dataset_es_train.json\n",
      "/mnt/edl/data/testing/trs_test/sample_data/dataset_es_test.json\n"
     ]
    }
   ],
   "source": [
    "traindata = os.path.join(root_folder, \"dataset_es_train.json\")\n",
    "testdata = os.path.join(root_folder, \"dataset_es_test.json\") \n",
    "if 'dbutils' in globals():\n",
    "    traindata = traindata.replace(\"/dbfs\",\"\")\n",
    "    testdata = testdata.replace(\"/dbfs\",\"\")\n",
    "print(traindata)\n",
    "print(testdata)"
   ]
  },
  {
   "cell_type": "code",
   "execution_count": null,
   "metadata": {
    "application/vnd.databricks.v1+cell": {
     "cellMetadata": {
      "byteLimit": 2048000,
      "rowLimit": 10000
     },
     "inputWidgets": {},
     "nuid": "c97f689d-61f0-4be3-b783-5208b89dc508",
     "showTitle": false,
     "title": ""
    }
   },
   "outputs": [
    {
     "name": "stdout",
     "output_type": "stream",
     "text": [
      "{\"review_id\": \"es_0491108\", \"product_id\": \"product_es_0296024\", \"reviewer_id\": \"reviewer_es_0999081\", \"stars\": \"1\", \"review_body\": \"Nada bueno se me fue ka pantalla en menos de 8 meses y no he recibido respuesta del fabricante\", \"review_title\": \"television Nevir\", \"language\": \"es\", \"product_category\": \"electronics\"}\r\n",
      "{\"review_id\": \"es_0869872\", \"product_id\": \"product_es_0922286\", \"reviewer_id\": \"reviewer_es_0216771\", \"stars\": \"1\", \"review_body\": \"Horrible, nos tuvimos que comprar otro porque ni nosotros que sabemos ingl\\u00e9s, ni un inform\\u00e1tico, despu\\u00e9s de una hora fue capaz de instalarlo\", \"review_title\": \"Dinero tirado a la basura con esta compra\", \"language\": \"es\", \"product_category\": \"electronics\"}\r\n",
      "{\"review_id\": \"es_0811721\", \"product_id\": \"product_es_0474543\", \"reviewer_id\": \"reviewer_es_0929213\", \"stars\": \"1\", \"review_body\": \"Te obligan a comprar dos unidades y te llega solo una y no hay forma de reclamar, una autentica estafa, no compreis!!\", \"review_title\": \"solo llega una unidad cuando te obligan a comprar dos\", \"language\": \"es\", \"product_category\": \"drugstore\"}\r\n",
      "{\"review_id\": \"es_0359921\", \"product_id\": \"product_es_0656090\", \"reviewer_id\": \"reviewer_es_0224702\", \"stars\": \"1\", \"review_body\": \"No entro en descalificar al vendedor, solo puedo decir que tras dos meses de espera.... sigo sin el producto y tuve que contactar con Amazon para reclamar su reembolso. Amazon un 10 . Se hace cargo del problema, pero yo e desembolsado mi dinero y en dos meses me lo devuelven Perdida de tiempo TOTAL. Sin palabras. Y Ustedes deciden\", \"review_title\": \"PRODUCTO NO RECIBIDO.\", \"language\": \"es\", \"product_category\": \"wireless\"}\r\n",
      "{\"review_id\": \"es_0068940\", \"product_id\": \"product_es_0662544\", \"reviewer_id\": \"reviewer_es_0224827\", \"stars\": \"1\", \"review_body\": \"Llega tarde y co la talla equivocada\", \"review_title\": \"Devuelto\", \"language\": \"es\", \"product_category\": \"shoes\"}\r\n",
      "{\"review_id\": \"es_0779978\", \"product_id\": \"product_es_0103315\", \"reviewer_id\": \"reviewer_es_0304973\", \"stars\": \"1\", \"review_body\": \"Jam\\u00e1s me lleg\\u00f3 y el vendedor nunca contacto conmigo a pesar de intentarlo 2 veces\", \"review_title\": \"Jam\\u00e1s me lleg\\u00f3\", \"language\": \"es\", \"product_category\": \"home\"}\r\n",
      "{\"review_id\": \"es_0591840\", \"product_id\": \"product_es_0880915\", \"reviewer_id\": \"reviewer_es_0642702\", \"stars\": \"1\", \"review_body\": \"El paraguas es de muy mala calidad,da la sensaci\\u00f3n que se va a romper cuando lo abres. Es muy cutre.\", \"review_title\": \"Horroroso!!!\", \"language\": \"es\", \"product_category\": \"luggage\"}\r\n",
      "{\"review_id\": \"es_0173297\", \"product_id\": \"product_es_0814677\", \"reviewer_id\": \"reviewer_es_0895784\", \"stars\": \"1\", \"review_body\": \"Tuve que devolverla porque al ser triangular no se agarra de forma c\\u00f3moda para la escritura. Bonita, calidad-precio aceptable, pero poco funcional.\", \"review_title\": \"Poco funcional\", \"language\": \"es\", \"product_category\": \"office_product\"}\r\n",
      "{\"review_id\": \"es_0101300\", \"product_id\": \"product_es_0654228\", \"reviewer_id\": \"reviewer_es_0789283\", \"stars\": \"1\", \"review_body\": \"Estoy esperando despues de protestar varias veces pero veo que no hay solucion y no haceis caso me dicen de un reembolso pero yo quiero el auricular\", \"review_title\": \"No me llego\", \"language\": \"es\", \"product_category\": \"electronics\"}\r\n",
      "{\"review_id\": \"es_0487007\", \"product_id\": \"product_es_0877793\", \"reviewer_id\": \"reviewer_es_0986278\", \"stars\": \"1\", \"review_body\": \"Defectuoso. En apariencia muy bien producto, pero al tercer uso del vaso mezclador m\\u00e1s grande ha dejado de funcionar. Intentaba hacer un pur\\u00e9, nada que requiera una fuerza excesiva y las cuchillas dejaron de girar. Una pena porque es una herramienta, en principio, muy funcional. Al final lo \\u201cbarato\\u201d sale caro. Tres meses de vida. Decepcionada.\", \"review_title\": \"Mala calidad, defectuoso\", \"language\": \"es\", \"product_category\": \"kitchen\"}\r\n"
     ]
    }
   ],
   "source": [
    "if 'dbutils' in globals():\n",
    "    !head /dbfs{traindata}\n",
    "elif platform.system() == 'Linux':\n",
    "    !head {traindata}\n",
    "else:\n",
    "    !powershell -command \"gc {traindata} | select -first 10 # head\""
   ]
  },
  {
   "cell_type": "code",
   "execution_count": null,
   "metadata": {
    "application/vnd.databricks.v1+cell": {
     "cellMetadata": {
      "byteLimit": 2048000,
      "rowLimit": 10000
     },
     "inputWidgets": {},
     "nuid": "3a5e7095-dd62-4f77-824e-8ed6c980df25",
     "showTitle": false,
     "title": ""
    },
    "colab": {
     "base_uri": "https://localhost:8080/"
    },
    "id": "4c0iy1abqyni",
    "outputId": "ca21af00-a600-4d82-9656-a74683359ef6"
   },
   "outputs": [
    {
     "name": "stdout",
     "output_type": "stream",
     "text": [
      "TamaÃ±o total  200000 2\n",
      "+-----+---------------------------------------------------------------------------------------------------------------------------------------------------------------------------------------------------------------------------------------------------------------------------------------------------------------------------------------------------------+\n",
      "|stars|description                                                                                                                                                                                                                                                                                                                                              |\n",
      "+-----+---------------------------------------------------------------------------------------------------------------------------------------------------------------------------------------------------------------------------------------------------------------------------------------------------------------------------------------------------------+\n",
      "|1    |Nada bueno se me fue ka pantalla en menos de 8 meses y no he recibido respuesta del fabricante                                                                                                                                                                                                                                                           |\n",
      "|1    |Horrible, nos tuvimos que comprar otro porque ni nosotros que sabemos inglÃ©s, ni un informÃ¡tico, despuÃ©s de una hora fue capaz de instalarlo                                                                                                                                                                                                             |\n",
      "|1    |Te obligan a comprar dos unidades y te llega solo una y no hay forma de reclamar, una autentica estafa, no compreis!!                                                                                                                                                                                                                                    |\n",
      "|1    |No entro en descalificar al vendedor, solo puedo decir que tras dos meses de espera.... sigo sin el producto y tuve que contactar con Amazon para reclamar su reembolso. Amazon un 10 . Se hace cargo del problema, pero yo e desembolsado mi dinero y en dos meses me lo devuelven Perdida de tiempo TOTAL. Sin palabras. Y Ustedes deciden             |\n",
      "|1    |Llega tarde y co la talla equivocada                                                                                                                                                                                                                                                                                                                     |\n",
      "|1    |JamÃ¡s me llegÃ³ y el vendedor nunca contacto conmigo a pesar de intentarlo 2 veces                                                                                                                                                                                                                                                                        |\n",
      "|1    |El paraguas es de muy mala calidad,da la sensaciÃ³n que se va a romper cuando lo abres. Es muy cutre.                                                                                                                                                                                                                                                     |\n",
      "|1    |Tuve que devolverla porque al ser triangular no se agarra de forma cÃ³moda para la escritura. Bonita, calidad-precio aceptable, pero poco funcional.                                                                                                                                                                                                      |\n",
      "|1    |Estoy esperando despues de protestar varias veces pero veo que no hay solucion y no haceis caso me dicen de un reembolso pero yo quiero el auricular                                                                                                                                                                                                     |\n",
      "|1    |Defectuoso. En apariencia muy bien producto, pero al tercer uso del vaso mezclador mÃ¡s grande ha dejado de funcionar. Intentaba hacer un purÃ©, nada que requiera una fuerza excesiva y las cuchillas dejaron de girar. Una pena porque es una herramienta, en principio, muy funcional. Al final lo â€œbaratoâ€ sale caro. Tres meses de vida. Decepcionada.|\n",
      "+-----+---------------------------------------------------------------------------------------------------------------------------------------------------------------------------------------------------------------------------------------------------------------------------------------------------------------------------------------------------------+\n",
      "only showing top 10 rows\n",
      "\n"
     ]
    }
   ],
   "source": [
    "from pyspark.sql.functions import col, when\n",
    "from pyspark.sql import SparkSession\n",
    "\n",
    "df = spark.read.json(traindata).select(\n",
    "    col(\"stars\"), col(\"review_body\").alias(\"description\")\n",
    ")\n",
    "df_testdata = spark.read.json(testdata).select(\n",
    "    col(\"stars\"), col(\"review_body\").alias(\"description\")\n",
    ")\n",
    "\n",
    "print(\n",
    "    \"TamaÃ±o total \", df.count(), len(df.columns)\n",
    ")  # dataframe shape only exists in recent versions\n",
    "\n",
    "df.show(10, truncate=False)"
   ]
  },
  {
   "attachments": {},
   "cell_type": "markdown",
   "metadata": {
    "application/vnd.databricks.v1+cell": {
     "cellMetadata": {
      "byteLimit": 2048000,
      "rowLimit": 10000
     },
     "inputWidgets": {},
     "nuid": "edd123d1-8803-4ca4-81aa-c6b9cd926ebd",
     "showTitle": false,
     "title": ""
    },
    "id": "NihF6SH0tNHS"
   },
   "source": [
    "# Creando las categorÃ­as del sentiment en base al numero de estrellas:\n",
    "Este fragmento de cÃ³digo crea una nueva columna llamada \"sentiment\" en dos DataFrames `df` y `df_testdata`. La columna \"sentiment\" se llena con valores basados en la columna \"stars\" de cada DataFrame.\n",
    "\n",
    "Para cada fila en el DataFrame `df`, si el valor en la columna \"stars\" estÃ¡ entre 0 y 2 (exclusivo), el valor correspondiente en la columna \"sentiment\" se establece en \"negative\". Si el valor en la columna \"stars\" es igual a 3, el valor correspondiente en la columna \"sentiment\" se establece en \"neutral\". Para todos los demÃ¡s valores en la columna \"stars\", el valor correspondiente en la columna \"sentiment\" se establece en \"positive\".\n",
    "\n",
    "El mismo proceso se aplica al DataFrame `df_testdata`.\n",
    "\n",
    "Esto se logra utilizando la funciÃ³n `when` de spark, que toma una lista de condiciones y una lista de valores a seleccionar cuando se cumple cada condiciÃ³n. Si ninguna de las condiciones se cumple para un elemento dado, se selecciona el valor especificado por el parÃ¡metro `otherwise`."
   ]
  },
  {
   "cell_type": "code",
   "execution_count": null,
   "metadata": {
    "application/vnd.databricks.v1+cell": {
     "cellMetadata": {
      "byteLimit": 2048000,
      "rowLimit": 10000
     },
     "inputWidgets": {},
     "nuid": "4119e4e6-099f-41a5-af69-685eee84dfda",
     "showTitle": false,
     "title": ""
    },
    "colab": {
     "base_uri": "https://localhost:8080/"
    },
    "id": "cM3zbGRZrSSA",
    "outputId": "1e56d0dc-29da-4916-a1c2-056f4b78d930"
   },
   "outputs": [
    {
     "name": "stdout",
     "output_type": "stream",
     "text": [
      "+-----+------------------------------------------------------------------------------------------+---------+\n",
      "|stars|                                                                               description|sentiment|\n",
      "+-----+------------------------------------------------------------------------------------------+---------+\n",
      "|    1|no me llego el articulo me lo mando por correos normal sin seguimiento y nunca me llego...| negative|\n",
      "|    1|                                                     la mensajerÃ­a horrible, no compro mas| negative|\n",
      "|    1|Estoy muy decepcionado con el vendedor ya que el pedido no me llegÃ³ a tiempo y no cumpl...| negative|\n",
      "|    1|Mi valoraciÃ³n no es sobre el producto sino sobre AMAZON. OfrecÃ©is el producto a 299â‚¬ y ...| negative|\n",
      "|    1|Pues tenÃ­a interÃ©s en este libro y probÃ© la versiÃ³n kindle. se abre la portada pero nad...| negative|\n",
      "|    1|Compre este teclado al ver sus buenos comentarios y apariencia pero al llegar a casa, l...| negative|\n",
      "|    1|                                                         Sigue sin llegar despuÃ©s de meses| negative|\n",
      "|    1|                                       No sirve para nada, es malo y se rompe y se despega| negative|\n",
      "|    1|TodavÃ­a espero que me llegue despues dw una semana de retraso, pesimo trato por parte d...| negative|\n",
      "|    1|La peor cÃ¡mara que he tenido en mis manos. Dos veces la he tenido que reemplazar al pri...| negative|\n",
      "+-----+------------------------------------------------------------------------------------------+---------+\n",
      "only showing top 10 rows\n",
      "\n"
     ]
    }
   ],
   "source": [
    "df = df.withColumn(\n",
    "    \"sentiment\",\n",
    "    when(df[\"stars\"].between(0, 2), \"negative\")\n",
    "    .when(df[\"stars\"] == 3, \"neutral\")\n",
    "    .otherwise(\"positive\")\n",
    ")\n",
    "\n",
    "df_testdata = df_testdata.withColumn(\n",
    "    \"sentiment\",\n",
    "    when(df_testdata[\"stars\"].between(0, 2), \"negative\")\n",
    "    .when(df_testdata[\"stars\"] == 3, \"neutral\")\n",
    "    .otherwise(\"positive\")\n",
    ")\n",
    "\n",
    "df_testdata.show(10,truncate=90)\n"
   ]
  },
  {
   "cell_type": "code",
   "execution_count": null,
   "metadata": {
    "application/vnd.databricks.v1+cell": {
     "cellMetadata": {
      "byteLimit": 2048000,
      "rowLimit": 10000
     },
     "inputWidgets": {},
     "nuid": "28f2950a-baa6-4200-9dd1-88656db08a74",
     "showTitle": false,
     "title": ""
    },
    "id": "QCz7S_gyrkog"
   },
   "outputs": [],
   "source": [
    "from pyspark.ml.feature import StringIndexer\n",
    "\n",
    "indexer = StringIndexer(inputCol=\"sentiment\", outputCol=\"category_encoded\")\n",
    "indexer_model = indexer.fit(df)\n",
    "df = indexer_model.transform(df)\n",
    "df_testdata = indexer_model.transform(df_testdata)\n"
   ]
  },
  {
   "cell_type": "code",
   "execution_count": null,
   "metadata": {
    "application/vnd.databricks.v1+cell": {
     "cellMetadata": {
      "byteLimit": 2048000,
      "rowLimit": 10000
     },
     "inputWidgets": {},
     "nuid": "e5437612-5896-4bf5-a037-a1c5f507ab3c",
     "showTitle": false,
     "title": ""
    },
    "colab": {
     "base_uri": "https://localhost:8080/"
    },
    "id": "SbNFcO8iCOgd",
    "outputId": "6ae22d23-df6f-4192-d7d2-2fd78164da36"
   },
   "outputs": [
    {
     "name": "stdout",
     "output_type": "stream",
     "text": [
      "+---------+-----+\n",
      "|sentiment|count|\n",
      "+---------+-----+\n",
      "| negative|40000|\n",
      "|  neutral|40000|\n",
      "| positive|40000|\n",
      "+---------+-----+\n",
      "\n"
     ]
    }
   ],
   "source": [
    "# igualamos el numero de ocurrencias por categoria para no tener bias.\n",
    "df_temp = df.filter(col(\"sentiment\") == \"negative\").limit(40000) \\\n",
    "    .union(df.filter(col(\"sentiment\") == \"neutral\").limit(40000)) \\\n",
    "    .union(df.filter(col(\"sentiment\") == \"positive\").limit(40000))\n",
    "\n",
    "df_testdata_temp = df_testdata.filter(col(\"sentiment\") == \"negative\").limit(1000) \\\n",
    "    .union(df_testdata.filter(col(\"sentiment\") == \"neutral\").limit(1000)) \\\n",
    "    .union(df_testdata.filter(col(\"sentiment\") == \"positive\").limit(1000))\n",
    "\n",
    "# reemplazamos los dataset uno con los datos, df para train y val, y df_testdata para la prueba \"test\"\n",
    "df = df_temp\n",
    "df_testdata = df_testdata_temp\n",
    "\n",
    "df.groupBy(\"sentiment\").count().filter(col(\"count\") > 1).show()"
   ]
  },
  {
   "cell_type": "code",
   "execution_count": null,
   "metadata": {
    "application/vnd.databricks.v1+cell": {
     "cellMetadata": {
      "byteLimit": 2048000,
      "rowLimit": 10000
     },
     "inputWidgets": {},
     "nuid": "b68b4933-70a4-452d-acea-9bf2f549a2e7",
     "showTitle": false,
     "title": ""
    },
    "colab": {
     "base_uri": "https://localhost:8080/",
     "height": 472
    },
    "id": "zI-1BlhbC3pT",
    "outputId": "4df76ddd-5c5c-4644-ab55-cde85878109e"
   },
   "outputs": [
    {
     "data": {
      "image/png": "[encoded data removed]"
     },
     "metadata": {
      "application/vnd.databricks.v1+output": {
       "addedWidgets": {},
       "arguments": {},
       "data": "data:image/png;base64,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\n",
       "datasetInfos": [],
       "metadata": {
        "imageDimensions": {
         "height": 506,
         "width": 753
        }
       },
       "removedWidgets": [],
       "type": "image"
      },
      "image/png": {
       "height": 506,
       "width": 753
      }
     },
     "output_type": "display_data"
    }
   ],
   "source": [
    "import matplotlib.pyplot as plt\n",
    "\n",
    "sentiment_counts = df.groupBy(\"sentiment\").count().toPandas()\n",
    "\n",
    "colors = [ \"#7f7f7f\", \"#bcbd22\", \"#17becf\", \"#1a55FF\", \"#1f77b4\", \"#ff7f0e\", \"#2ca02c\", \"#d62728\", \"#9467bd\", \"#8c564b\", \"#e377c2\", ]\n",
    "\n",
    "plt.bar(sentiment_counts[\"sentiment\"], sentiment_counts[\"count\"],color = colors)\n",
    "plt.xlabel(\"Sentiment\")\n",
    "plt.ylabel(\"Count\")\n",
    "plt.title(\"Sentiment Counts\")\n",
    "plt.show()"
   ]
  },
  {
   "attachments": {},
   "cell_type": "markdown",
   "metadata": {
    "application/vnd.databricks.v1+cell": {
     "cellMetadata": {
      "byteLimit": 2048000,
      "rowLimit": 10000
     },
     "inputWidgets": {},
     "nuid": "e4d16161-efc9-4be4-a71d-9ff031c7a9ea",
     "showTitle": false,
     "title": ""
    },
    "id": "k-ywY0uaHCf1"
   },
   "source": [
    "ExplicaciÃ³n del naming en los modelos Bert de Spark NLP. \n",
    "* \"L\" indica quÃ© capa de agrupaciÃ³n (pooling layer) se utiliza al producir las incrustaciones (embeddings) \n",
    "* \"H\" significa la dimensiÃ³n de las embeddings devueltas.\n",
    "\n",
    "Por ejemplo, si utilizamos `BertSentenceEmbeddings` con el valor `'sent_small_bert_L8_512'` significa que simplemente cargamos Bert Sentence Embeddings Small con dimensiÃ³n L8 y 512 y lo usamos en lugar de USE. Como puede ver, es casi 8 veces mÃ¡s pequeÃ±o que el tamaÃ±o de USE con el poder de Bert.\n",
    "\n",
    "El modelo se puede utilizar de manera offline si se desea, pero habrÃ­a que descargarlo previamente. Para no incrementar el tamaÃ±o del repositorio dejamos a SPARK_NLP que lo baje automÃ¡ticamente.\n",
    "\n",
    "\n",
    "En el contexto del Procesamiento del Lenguaje Natural (NLP), USE significa **Universal Sentence Encoder**. Es una herramienta desarrollada por Google que convierte una cadena de palabras en vectores de 512 dimensiones. Estos vectores capturan el significado semÃ¡ntico de la secuencia de palabras en una oraciÃ³n y, por lo tanto, pueden usarse como entradas para otras tareas de NLP posteriores, como clasificaciÃ³n, mediciÃ³n de similitud semÃ¡ntica, etc ."
   ]
  },
  {
   "attachments": {},
   "cell_type": "markdown",
   "metadata": {
    "application/vnd.databricks.v1+cell": {
     "cellMetadata": {
      "byteLimit": 2048000,
      "rowLimit": 10000
     },
     "inputWidgets": {},
     "nuid": "31526d87-65a0-467b-9a41-9c31488fcf6b",
     "showTitle": false,
     "title": ""
    },
    "id": "nNJt-pLmJhPV"
   },
   "source": [
    "A continuaciÃ³n se estÃ¡ construyendo un pipeline de procesamiento de Spark NLP. Primero, se estÃ¡ creando un `DocumentAssembler` para convertir la columna \"review_body\" en un documento y almacenarlo en la columna \"document\". Luego, se estÃ¡ creando un `Tokenizer` para dividir el documento en tokens y almacenarlos en la columna \"token\".\n",
    "\n",
    "DespuÃ©s, se estÃ¡ utilizando `BertEmbeddings` para crear incrustaciones (embeddings) de palabras utilizando un modelo pre-entrenado especificado por `PRE_TRAINED_MODEL_NAME`. Estas incrustaciones se almacenan en la columna \"embeddings\".\n",
    "\n",
    "A continuaciÃ³n, se estÃ¡ utilizando `SentenceEmbeddings` para calcular las incrustaciones de oraciones a partir de las incrustaciones de palabras utilizando un promedio y almacenarlas en la columna \"sentence_embeddings\".\n",
    "\n",
    "Finalmente, se estÃ¡ creando un clasificador `ClassifierDLApproach` que utiliza las incrustaciones de oraciones como entrada para clasificar el sentimiento del texto. El clasificador se entrena durante un nÃºmero especificado de Ã©pocas con una tasa de aprendizaje y tamaÃ±o de lote especificados.\n",
    "\n",
    "Todo el pipeline se construye utilizando estas etapas y se almacena en la variable `bert_clf_pipeline`."
   ]
  },
  {
   "cell_type": "code",
   "execution_count": null,
   "metadata": {
    "application/vnd.databricks.v1+cell": {
     "cellMetadata": {
      "byteLimit": 2048000,
      "rowLimit": 10000
     },
     "inputWidgets": {},
     "nuid": "db54566e-089c-4c1c-b9be-722d8c58e50e",
     "showTitle": false,
     "title": ""
    },
    "colab": {
     "base_uri": "https://localhost:8080/"
    },
    "id": "hoiAvy9yDRTy",
    "outputId": "2bb14b6b-5eb5-4748-f8b4-c1417b0821bb"
   },
   "outputs": [
    {
     "name": "stdout",
     "output_type": "stream",
     "text": [
      "bert_base_multilingual_cased download started this may take some time.\n",
      "Approximate size to download 636.6 MB\n",
      "\r[ | ]\r[ / ]\r[ â€” ]\r[ \\ ]\r[ | ]\r[ / ]\r[ â€” ]\r[ \\ ]\r[ | ]\r[ / ]\r[ â€” ]\r[ \\ ]\r[ | ]\r[ / ]\r[ â€” ]\r[ \\ ]\r[ | ]\r[OK!]\n"
     ]
    }
   ],
   "source": [
    "\n",
    "document_assembler = DocumentAssembler() \\\n",
    "    .setInputCol(\"description\") \\\n",
    "    .setOutputCol(\"document\")\n",
    "    \n",
    "tokenizer = Tokenizer() \\\n",
    "    .setInputCols([\"document\"]) \\\n",
    "    .setOutputCol(\"token\")\n",
    "\n",
    "# BertEmbeddings utiliza los datos de una red neuronal entrenada previamente (el nombre del modelo) para crear codificar las palabras que contiene cada texto \n",
    "# convirtiendo a vectores dichas palabras. (codificandolas) AQUI USE AL PRINCIPIO 'small_bert_L4_256'\n",
    "bert_embeddings = BertEmbeddings().pretrained(name=PRE_TRAINED_MODEL_NAME, lang='xx') \\\n",
    "    .setInputCols([\"document\",'token'])\\\n",
    "    .setOutputCol(\"embeddings\")\n",
    "#\n",
    "embeddingsSentence = SentenceEmbeddings() \\\n",
    "    .setInputCols([\"document\", \"embeddings\"]) \\\n",
    "    .setOutputCol(\"sentence_embeddings\") \\\n",
    "    .setPoolingStrategy(\"AVERAGE\")\n",
    "# ClassifierDLApproach: ClassifierDL Utiliza el State-of-the-art de las Universal Sentence Encoder como input para iniciar clasificaciones de texto.\n",
    "# es un clasificador que contiene casi 100 clases de tensorflow, usa modelos de deep learning DNN\n",
    "# LR 5e-3f BATCHSIZE 8\n",
    "classsifierdl = ClassifierDLApproach()\\\n",
    "    .setInputCols([\"sentence_embeddings\"])\\\n",
    "    .setOutputCol(\"class\")\\\n",
    "    .setLabelColumn(\"sentiment\")\\\n",
    "    .setMaxEpochs(EPOCHS)\\\n",
    "    .setLr(LEARNING_RATE)\\\n",
    "    .setBatchSize(BATCH_SIZE)\\\n",
    "    .setEnableOutputLogs(True)\n",
    "    #.setOutputLogsPath('logs')\n",
    "\n",
    "bert_clf_pipeline = Pipeline(stages=[\n",
    "    document_assembler, \n",
    "    tokenizer,\n",
    "    bert_embeddings,\n",
    "    embeddingsSentence,\n",
    "    classsifierdl\n",
    "])"
   ]
  },
  {
   "attachments": {},
   "cell_type": "markdown",
   "metadata": {
    "application/vnd.databricks.v1+cell": {
     "cellMetadata": {
      "byteLimit": 2048000,
      "rowLimit": 10000
     },
     "inputWidgets": {},
     "nuid": "a43116ef-5005-484c-9ab4-03c42173abb4",
     "showTitle": false,
     "title": ""
    },
    "id": "32vc5FNlKH02"
   },
   "source": [
    "# CreaciÃ³n del train y val datasets\n",
    "\n",
    "HAY QUE HACER ONE HOT ENCODING PARA PODER METERLO EN EL BERT"
   ]
  },
  {
   "cell_type": "code",
   "execution_count": null,
   "metadata": {
    "application/vnd.databricks.v1+cell": {
     "cellMetadata": {
      "byteLimit": 2048000,
      "rowLimit": 10000
     },
     "inputWidgets": {},
     "nuid": "0b5d43ca-00d9-4aa5-8777-c57d5c2dbb97",
     "showTitle": false,
     "title": ""
    },
    "colab": {
     "base_uri": "https://localhost:8080/"
    },
    "id": "VDE5X3RHKq1s",
    "outputId": "74d6682a-b35c-49ba-ce03-f10bcd7d1595"
   },
   "outputs": [
    {
     "name": "stdout",
     "output_type": "stream",
     "text": [
      "84201\n",
      "35799\n"
     ]
    }
   ],
   "source": [
    "df_train, df_eval = df.randomSplit([0.7, 0.3], seed=RANDOM_SEED)\n",
    "for dataset in (df_train, df_eval):\n",
    "  print(dataset.count())"
   ]
  },
  {
   "attachments": {},
   "cell_type": "markdown",
   "metadata": {
    "application/vnd.databricks.v1+cell": {
     "cellMetadata": {
      "byteLimit": 2048000,
      "rowLimit": 10000
     },
     "inputWidgets": {},
     "nuid": "e41cced4-adb2-4036-b41f-9325d1636ad9",
     "showTitle": false,
     "title": ""
    },
    "id": "cxazd96MT_R1"
   },
   "source": [
    "# Ajuste del modelo (FIT)"
   ]
  },
  {
   "cell_type": "code",
   "execution_count": null,
   "metadata": {
    "application/vnd.databricks.v1+cell": {
     "cellMetadata": {
      "byteLimit": 2048000,
      "rowLimit": 10000
     },
     "inputWidgets": {},
     "nuid": "01aa1e51-9411-4854-994e-d1ccdc6c3eab",
     "showTitle": false,
     "title": ""
    },
    "id": "h4vZXVLKISOc"
   },
   "outputs": [],
   "source": [
    "%%time\n",
    "bert_Model = bert_clf_pipeline.fit(df_train)"
   ]
  },
  {
   "attachments": {},
   "cell_type": "markdown",
   "metadata": {
    "application/vnd.databricks.v1+cell": {
     "cellMetadata": {
      "byteLimit": 2048000,
      "rowLimit": 10000
     },
     "inputWidgets": {},
     "nuid": "d022597f-3aaf-41fe-8c2f-088a5e6ebd31",
     "showTitle": false,
     "title": ""
    },
    "id": "7nM5fJYwURd-"
   },
   "source": [
    "# RealizaciÃ³n de predicciones en el conjunto de prueba\n",
    "1. primero con una frase\n",
    "2. con el dataset de test"
   ]
  },
  {
   "cell_type": "code",
   "execution_count": null,
   "metadata": {
    "application/vnd.databricks.v1+cell": {
     "cellMetadata": {
      "byteLimit": 2048000,
      "rowLimit": 10000
     },
     "inputWidgets": {},
     "nuid": "08be4a89-f98e-4b21-bc2d-73934981d322",
     "showTitle": false,
     "title": ""
    },
    "id": "fBtSbpqcUUdA"
   },
   "outputs": [
    {
     "name": "stdout",
     "output_type": "stream",
     "text": [
      "{'document': ['Este producto es un poco asqueroso, no me ha gustado nada'], 'sentence_embeddings': ['Este producto es un poco asqueroso, no me ha gustado nada'], 'token': ['Este', 'producto', 'es', 'un', 'poco', 'asqueroso', ',', 'no', 'me', 'ha', 'gustado', 'nada'], 'class': ['negative'], 'embeddings': ['Este', 'producto', 'es', 'un', 'poco', 'asqueroso', ',', 'no', 'me', 'ha', 'gustado', 'nada']}\n"
     ]
    },
    {
     "data": {
      "text/html": [
       "<style scoped>\n",
       "  .ansiout {\n",
       "    display: block;\n",
       "    unicode-bidi: embed;\n",
       "    white-space: pre-wrap;\n",
       "    word-wrap: break-word;\n",
       "    word-break: break-all;\n",
       "    font-family: \"Source Code Pro\", \"Menlo\", monospace;;\n",
       "    font-size: 13px;\n",
       "    color: #555;\n",
       "    margin-left: 4px;\n",
       "    line-height: 19px;\n",
       "  }\n",
       "</style>"
      ]
     },
     "metadata": {
      "application/vnd.databricks.v1+output": {
       "arguments": {},
       "data": "",
       "errorSummary": "",
       "errorTraceType": null,
       "metadata": {},
       "type": "ipynbError"
      }
     },
     "output_type": "display_data"
    }
   ],
   "source": [
    "light_model = LightPipeline(bert_Model)\n",
    "\n",
    "light_result = light_model.annotate(\"Este producto es un poco asqueroso, no me ha gustado nada\")\n",
    "print(light_result)"
   ]
  },
  {
   "cell_type": "code",
   "execution_count": null,
   "metadata": {
    "application/vnd.databricks.v1+cell": {
     "cellMetadata": {
      "byteLimit": 2048000,
      "rowLimit": 10000
     },
     "inputWidgets": {},
     "nuid": "ef91fb05-238c-420c-b3a8-0d4788710aa5",
     "showTitle": false,
     "title": ""
    }
   },
   "outputs": [
    {
     "data": {
      "text/html": [
       "<style scoped>\n",
       "  .ansiout {\n",
       "    display: block;\n",
       "    unicode-bidi: embed;\n",
       "    white-space: pre-wrap;\n",
       "    word-wrap: break-word;\n",
       "    word-break: break-all;\n",
       "    font-family: \"Source Code Pro\", \"Menlo\", monospace;;\n",
       "    font-size: 13px;\n",
       "    color: #555;\n",
       "    margin-left: 4px;\n",
       "    line-height: 19px;\n",
       "  }\n",
       "</style>"
      ]
     },
     "metadata": {
      "application/vnd.databricks.v1+output": {
       "arguments": {},
       "data": "",
       "errorSummary": "",
       "errorTraceType": null,
       "metadata": {},
       "type": "ipynbError"
      }
     },
     "output_type": "display_data"
    }
   ],
   "source": [
    "predict_bert = bert_Model.transform(df_testdata)\n",
    "predict_bert.printSchema()"
   ]
  },
  {
   "cell_type": "code",
   "execution_count": null,
   "metadata": {
    "application/vnd.databricks.v1+cell": {
     "cellMetadata": {
      "byteLimit": 2048000,
      "rowLimit": 10000
     },
     "inputWidgets": {},
     "nuid": "d0a88f2a-279d-475a-ad76-2c67e1e33231",
     "showTitle": false,
     "title": ""
    },
    "id": "fRmd6kl7cb1C"
   },
   "outputs": [
    {
     "data": {
      "text/plain": [
       "\u001b[0;31m---------------------------------------------------------------------------\u001b[0m\n",
       "\u001b[0;31mAttributeError\u001b[0m                            Traceback (most recent call last)\n",
       "\u001b[0;32m<command-1611880341518030>\u001b[0m in \u001b[0;36m<cell line: 3>\u001b[0;34m()\u001b[0m\n",
       "\u001b[1;32m      4\u001b[0m   \u001b[0;34m.\u001b[0m\u001b[0mselect\u001b[0m\u001b[0;34m(\u001b[0m\u001b[0;34m\"sentiment\"\u001b[0m\u001b[0;34m,\u001b[0m\u001b[0;34m\"description\"\u001b[0m\u001b[0;34m,\u001b[0m\u001b[0;34m\"class.result\"\u001b[0m\u001b[0;34m)\u001b[0m\u001b[0;31m\\\u001b[0m\u001b[0;34m\u001b[0m\u001b[0;34m\u001b[0m\u001b[0m\n",
       "\u001b[1;32m      5\u001b[0m   .withColumn(\"prediccion\", \n",
       "\u001b[0;32m----> 6\u001b[0;31m               \u001b[0mwhen\u001b[0m\u001b[0;34m(\u001b[0m\u001b[0mdf\u001b[0m\u001b[0;34m.\u001b[0m\u001b[0mresult\u001b[0m\u001b[0;34m[\u001b[0m\u001b[0;36m0\u001b[0m\u001b[0;34m]\u001b[0m \u001b[0;34m==\u001b[0m \u001b[0;36m0\u001b[0m\u001b[0;34m,\u001b[0m \u001b[0;34m[\u001b[0m\u001b[0;34m'negative'\u001b[0m\u001b[0;34m]\u001b[0m\u001b[0;34m)\u001b[0m\u001b[0;34m\u001b[0m\u001b[0;34m\u001b[0m\u001b[0m\n",
       "\u001b[0m\u001b[1;32m      7\u001b[0m               \u001b[0;34m.\u001b[0m\u001b[0mwhen\u001b[0m\u001b[0;34m(\u001b[0m\u001b[0mdf\u001b[0m\u001b[0;34m.\u001b[0m\u001b[0mresult\u001b[0m\u001b[0;34m[\u001b[0m\u001b[0;36m0\u001b[0m\u001b[0;34m]\u001b[0m \u001b[0;34m==\u001b[0m \u001b[0;36m1\u001b[0m\u001b[0;34m,\u001b[0m \u001b[0;34m[\u001b[0m\u001b[0;34m'neutral'\u001b[0m\u001b[0;34m]\u001b[0m\u001b[0;34m)\u001b[0m\u001b[0;34m\u001b[0m\u001b[0;34m\u001b[0m\u001b[0m\n",
       "\u001b[1;32m      8\u001b[0m               .when(df.result[0] == 2, ['positive'])).show(10,truncate=80)\n",
       "\n",
       "\u001b[0;32m/databricks/spark/python/pyspark/instrumentation_utils.py\u001b[0m in \u001b[0;36mwrapper\u001b[0;34m(*args, **kwargs)\u001b[0m\n",
       "\u001b[1;32m     46\u001b[0m             \u001b[0mstart\u001b[0m \u001b[0;34m=\u001b[0m \u001b[0mtime\u001b[0m\u001b[0;34m.\u001b[0m\u001b[0mperf_counter\u001b[0m\u001b[0;34m(\u001b[0m\u001b[0;34m)\u001b[0m\u001b[0;34m\u001b[0m\u001b[0;34m\u001b[0m\u001b[0m\n",
       "\u001b[1;32m     47\u001b[0m             \u001b[0;32mtry\u001b[0m\u001b[0;34m:\u001b[0m\u001b[0;34m\u001b[0m\u001b[0;34m\u001b[0m\u001b[0m\n",
       "\u001b[0;32m---> 48\u001b[0;31m                 \u001b[0mres\u001b[0m \u001b[0;34m=\u001b[0m \u001b[0mfunc\u001b[0m\u001b[0;34m(\u001b[0m\u001b[0;34m*\u001b[0m\u001b[0margs\u001b[0m\u001b[0;34m,\u001b[0m \u001b[0;34m**\u001b[0m\u001b[0mkwargs\u001b[0m\u001b[0;34m)\u001b[0m\u001b[0;34m\u001b[0m\u001b[0;34m\u001b[0m\u001b[0m\n",
       "\u001b[0m\u001b[1;32m     49\u001b[0m                 logger.log_success(\n",
       "\u001b[1;32m     50\u001b[0m                     \u001b[0mmodule_name\u001b[0m\u001b[0;34m,\u001b[0m \u001b[0mclass_name\u001b[0m\u001b[0;34m,\u001b[0m \u001b[0mfunction_name\u001b[0m\u001b[0;34m,\u001b[0m \u001b[0mtime\u001b[0m\u001b[0;34m.\u001b[0m\u001b[0mperf_counter\u001b[0m\u001b[0;34m(\u001b[0m\u001b[0;34m)\u001b[0m \u001b[0;34m-\u001b[0m \u001b[0mstart\u001b[0m\u001b[0;34m,\u001b[0m \u001b[0msignature\u001b[0m\u001b[0;34m\u001b[0m\u001b[0;34m\u001b[0m\u001b[0m\n",
       "\n",
       "\u001b[0;32m/databricks/spark/python/pyspark/sql/dataframe.py\u001b[0m in \u001b[0;36m__getattr__\u001b[0;34m(self, name)\u001b[0m\n",
       "\u001b[1;32m   2072\u001b[0m         \"\"\"\n",
       "\u001b[1;32m   2073\u001b[0m         \u001b[0;32mif\u001b[0m \u001b[0mname\u001b[0m \u001b[0;32mnot\u001b[0m \u001b[0;32min\u001b[0m \u001b[0mself\u001b[0m\u001b[0;34m.\u001b[0m\u001b[0mcolumns\u001b[0m\u001b[0;34m:\u001b[0m\u001b[0;34m\u001b[0m\u001b[0;34m\u001b[0m\u001b[0m\n",
       "\u001b[0;32m-> 2074\u001b[0;31m             raise AttributeError(\n",
       "\u001b[0m\u001b[1;32m   2075\u001b[0m                 \u001b[0;34m\"'%s' object has no attribute '%s'\"\u001b[0m \u001b[0;34m%\u001b[0m \u001b[0;34m(\u001b[0m\u001b[0mself\u001b[0m\u001b[0;34m.\u001b[0m\u001b[0m__class__\u001b[0m\u001b[0;34m.\u001b[0m\u001b[0m__name__\u001b[0m\u001b[0;34m,\u001b[0m \u001b[0mname\u001b[0m\u001b[0;34m)\u001b[0m\u001b[0;34m\u001b[0m\u001b[0;34m\u001b[0m\u001b[0m\n",
       "\u001b[1;32m   2076\u001b[0m             )\n",
       "\n",
       "\u001b[0;31mAttributeError\u001b[0m: 'DataFrame' object has no attribute 'result'"
      ]
     },
     "metadata": {
      "application/vnd.databricks.v1+output": {
       "arguments": {},
       "data": "\u001b[0;31m---------------------------------------------------------------------------\u001b[0m\n\u001b[0;31mAttributeError\u001b[0m                            Traceback (most recent call last)\n\u001b[0;32m<command-1611880341518030>\u001b[0m in \u001b[0;36m<cell line: 3>\u001b[0;34m()\u001b[0m\n\u001b[1;32m      4\u001b[0m   \u001b[0;34m.\u001b[0m\u001b[0mselect\u001b[0m\u001b[0;34m(\u001b[0m\u001b[0;34m\"sentiment\"\u001b[0m\u001b[0;34m,\u001b[0m\u001b[0;34m\"description\"\u001b[0m\u001b[0;34m,\u001b[0m\u001b[0;34m\"class.result\"\u001b[0m\u001b[0;34m)\u001b[0m\u001b[0;31m\\\u001b[0m\u001b[0;34m\u001b[0m\u001b[0;34m\u001b[0m\u001b[0m\n\u001b[1;32m      5\u001b[0m   .withColumn(\"prediccion\", \n\u001b[0;32m----> 6\u001b[0;31m               \u001b[0mwhen\u001b[0m\u001b[0;34m(\u001b[0m\u001b[0mdf\u001b[0m\u001b[0;34m.\u001b[0m\u001b[0mresult\u001b[0m\u001b[0;34m[\u001b[0m\u001b[0;36m0\u001b[0m\u001b[0;34m]\u001b[0m \u001b[0;34m==\u001b[0m \u001b[0;36m0\u001b[0m\u001b[0;34m,\u001b[0m \u001b[0;34m[\u001b[0m\u001b[0;34m'negative'\u001b[0m\u001b[0;34m]\u001b[0m\u001b[0;34m)\u001b[0m\u001b[0;34m\u001b[0m\u001b[0;34m\u001b[0m\u001b[0m\n\u001b[0m\u001b[1;32m      7\u001b[0m               \u001b[0;34m.\u001b[0m\u001b[0mwhen\u001b[0m\u001b[0;34m(\u001b[0m\u001b[0mdf\u001b[0m\u001b[0;34m.\u001b[0m\u001b[0mresult\u001b[0m\u001b[0;34m[\u001b[0m\u001b[0;36m0\u001b[0m\u001b[0;34m]\u001b[0m \u001b[0;34m==\u001b[0m \u001b[0;36m1\u001b[0m\u001b[0;34m,\u001b[0m \u001b[0;34m[\u001b[0m\u001b[0;34m'neutral'\u001b[0m\u001b[0;34m]\u001b[0m\u001b[0;34m)\u001b[0m\u001b[0;34m\u001b[0m\u001b[0;34m\u001b[0m\u001b[0m\n\u001b[1;32m      8\u001b[0m               .when(df.result[0] == 2, ['positive'])).show(10,truncate=80)\n\n\u001b[0;32m/databricks/spark/python/pyspark/instrumentation_utils.py\u001b[0m in \u001b[0;36mwrapper\u001b[0;34m(*args, **kwargs)\u001b[0m\n\u001b[1;32m     46\u001b[0m             \u001b[0mstart\u001b[0m \u001b[0;34m=\u001b[0m \u001b[0mtime\u001b[0m\u001b[0;34m.\u001b[0m\u001b[0mperf_counter\u001b[0m\u001b[0;34m(\u001b[0m\u001b[0;34m)\u001b[0m\u001b[0;34m\u001b[0m\u001b[0;34m\u001b[0m\u001b[0m\n\u001b[1;32m     47\u001b[0m             \u001b[0;32mtry\u001b[0m\u001b[0;34m:\u001b[0m\u001b[0;34m\u001b[0m\u001b[0;34m\u001b[0m\u001b[0m\n\u001b[0;32m---> 48\u001b[0;31m                 \u001b[0mres\u001b[0m \u001b[0;34m=\u001b[0m \u001b[0mfunc\u001b[0m\u001b[0;34m(\u001b[0m\u001b[0;34m*\u001b[0m\u001b[0margs\u001b[0m\u001b[0;34m,\u001b[0m \u001b[0;34m**\u001b[0m\u001b[0mkwargs\u001b[0m\u001b[0;34m)\u001b[0m\u001b[0;34m\u001b[0m\u001b[0;34m\u001b[0m\u001b[0m\n\u001b[0m\u001b[1;32m     49\u001b[0m                 logger.log_success(\n\u001b[1;32m     50\u001b[0m                     \u001b[0mmodule_name\u001b[0m\u001b[0;34m,\u001b[0m \u001b[0mclass_name\u001b[0m\u001b[0;34m,\u001b[0m \u001b[0mfunction_name\u001b[0m\u001b[0;34m,\u001b[0m \u001b[0mtime\u001b[0m\u001b[0;34m.\u001b[0m\u001b[0mperf_counter\u001b[0m\u001b[0;34m(\u001b[0m\u001b[0;34m)\u001b[0m \u001b[0;34m-\u001b[0m \u001b[0mstart\u001b[0m\u001b[0;34m,\u001b[0m \u001b[0msignature\u001b[0m\u001b[0;34m\u001b[0m\u001b[0;34m\u001b[0m\u001b[0m\n\n\u001b[0;32m/databricks/spark/python/pyspark/sql/dataframe.py\u001b[0m in \u001b[0;36m__getattr__\u001b[0;34m(self, name)\u001b[0m\n\u001b[1;32m   2072\u001b[0m         \"\"\"\n\u001b[1;32m   2073\u001b[0m         \u001b[0;32mif\u001b[0m \u001b[0mname\u001b[0m \u001b[0;32mnot\u001b[0m \u001b[0;32min\u001b[0m \u001b[0mself\u001b[0m\u001b[0;34m.\u001b[0m\u001b[0mcolumns\u001b[0m\u001b[0;34m:\u001b[0m\u001b[0;34m\u001b[0m\u001b[0;34m\u001b[0m\u001b[0m\n\u001b[0;32m-> 2074\u001b[0;31m             raise AttributeError(\n\u001b[0m\u001b[1;32m   2075\u001b[0m                 \u001b[0;34m\"'%s' object has no attribute '%s'\"\u001b[0m \u001b[0;34m%\u001b[0m \u001b[0;34m(\u001b[0m\u001b[0mself\u001b[0m\u001b[0;34m.\u001b[0m\u001b[0m__class__\u001b[0m\u001b[0;34m.\u001b[0m\u001b[0m__name__\u001b[0m\u001b[0;34m,\u001b[0m \u001b[0mname\u001b[0m\u001b[0;34m)\u001b[0m\u001b[0;34m\u001b[0m\u001b[0;34m\u001b[0m\u001b[0m\n\u001b[1;32m   2076\u001b[0m             )\n\n\u001b[0;31mAttributeError\u001b[0m: 'DataFrame' object has no attribute 'result'",
       "errorSummary": "<span class='ansi-red-fg'>AttributeError</span>: 'DataFrame' object has no attribute 'result'",
       "errorTraceType": "ansi",
       "metadata": {},
       "type": "ipynbError"
      }
     },
     "output_type": "display_data"
    }
   ],
   "source": [
    "\n",
    "\n",
    "# predict_bert\\\n",
    "#   .select(\"sentiment\",\"description\",\"class.result\")\\\n",
    "#   .withColumn(\"prediccion\", \n",
    "#               when(df.result[0] == 0, ['negative'])\n",
    "#               .when(df.result[0] == 1, ['neutral'])\n",
    "#               .when(df.result[0] == 2, ['positive'])).show(10,truncate=80)\n",
    "  \n",
    "\n",
    "(predict_bert\n",
    "  .select(\"sentiment\",\"description\",explode(\"class\").alias(\"class\"))\n",
    "  .withColumn(\"result\", col(\"class.result\"))\n",
    "  .select(\"sentiment\",\"description\",\"result\")\n",
    "  .drop_duplicates()\n",
    "  .show(10,truncate=80)\n",
    "  )\n"
   ]
  },
  {
   "attachments": {},
   "cell_type": "markdown",
   "metadata": {
    "application/vnd.databricks.v1+cell": {
     "cellMetadata": {
      "byteLimit": 2048000,
      "rowLimit": 10000
     },
     "inputWidgets": {},
     "nuid": "73c6c46f-0019-4d0b-840c-5f9d71ada30e",
     "showTitle": false,
     "title": ""
    },
    "id": "t0JuDphtc-MN"
   },
   "source": [
    "# Obtenemos el rendimiento del modelo para comparar con la opcion de USE"
   ]
  },
  {
   "cell_type": "code",
   "execution_count": null,
   "metadata": {
    "application/vnd.databricks.v1+cell": {
     "cellMetadata": {
      "byteLimit": 2048000,
      "rowLimit": 10000
     },
     "inputWidgets": {},
     "nuid": "96affc25-05b0-45c3-b25d-5996f0dd468f",
     "showTitle": false,
     "title": ""
    },
    "id": "Pxil8JWrc-kx"
   },
   "outputs": [
    {
     "name": "stdout",
     "output_type": "stream",
     "text": [
      "/databricks/spark/python/pyspark/sql/pandas/conversion.py:119: UserWarning: toPandas attempted Arrow optimization because 'spark.sql.execution.arrow.pyspark.enabled' is set to true; however, failed by the reason below:\n",
      "  Unable to convert the field document. If this column is not necessary, you may consider dropping it or converting to primitive type before the conversion.\n",
      "Direct cause: Unsupported type in conversion to Arrow: ArrayType(StructType([StructField('annotatorType', StringType(), True), StructField('begin', IntegerType(), False), StructField('end', IntegerType(), False), StructField('result', StringType(), True), StructField('metadata', MapType(StringType(), StringType(), True), True), StructField('embeddings', ArrayType(FloatType(), False), True)]), True)\n",
      "Attempting non-optimization as 'spark.sql.execution.arrow.pyspark.fallback.enabled' is set to true.\n",
      "  warn(msg)\n"
     ]
    },
    {
     "data": {
      "text/plain": [
       "\u001b[0;31m---------------------------------------------------------------------------\u001b[0m\n",
       "\u001b[0;31mAttributeError\u001b[0m                            Traceback (most recent call last)\n",
       "\u001b[0;32m<command-1611880341518032>\u001b[0m in \u001b[0;36m<cell line: 6>\u001b[0;34m()\u001b[0m\n",
       "\u001b[1;32m      4\u001b[0m \u001b[0mclass_names\u001b[0m \u001b[0;34m=\u001b[0m \u001b[0;34m[\u001b[0m\u001b[0;34m'negative'\u001b[0m\u001b[0;34m,\u001b[0m \u001b[0;34m'neutral'\u001b[0m\u001b[0;34m,\u001b[0m \u001b[0;34m'positive'\u001b[0m\u001b[0;34m]\u001b[0m\u001b[0;34m\u001b[0m\u001b[0;34m\u001b[0m\u001b[0m\n",
       "\u001b[1;32m      5\u001b[0m \u001b[0;34m\u001b[0m\u001b[0m\n",
       "\u001b[0;32m----> 6\u001b[0;31m \u001b[0mprint\u001b[0m\u001b[0;34m(\u001b[0m\u001b[0mclassification_report\u001b[0m\u001b[0;34m(\u001b[0m\u001b[0mdf_pandas_predict_bert\u001b[0m\u001b[0;34m.\u001b[0m\u001b[0msentiment\u001b[0m\u001b[0;34m,\u001b[0m \u001b[0mdf_pandas_predict_bert\u001b[0m\u001b[0;34m.\u001b[0m\u001b[0mresult\u001b[0m\u001b[0;34m,\u001b[0m\u001b[0mtarget_names\u001b[0m\u001b[0;34m=\u001b[0m\u001b[0mclass_names\u001b[0m\u001b[0;34m)\u001b[0m\u001b[0;34m)\u001b[0m\u001b[0;34m\u001b[0m\u001b[0;34m\u001b[0m\u001b[0m\n",
       "\u001b[0m\u001b[1;32m      7\u001b[0m \u001b[0mprint\u001b[0m\u001b[0;34m(\u001b[0m\u001b[0maccuracy_score\u001b[0m\u001b[0;34m(\u001b[0m\u001b[0mdf_pandas_predict_bert\u001b[0m\u001b[0;34m.\u001b[0m\u001b[0msentiment\u001b[0m\u001b[0;34m,\u001b[0m \u001b[0mdf_pandas_predict_bert\u001b[0m\u001b[0;34m.\u001b[0m\u001b[0mresult\u001b[0m\u001b[0;34m)\u001b[0m\u001b[0;34m)\u001b[0m\u001b[0;34m\u001b[0m\u001b[0;34m\u001b[0m\u001b[0m\n",
       "\n",
       "\u001b[0;32m/databricks/python/lib/python3.9/site-packages/pandas/core/generic.py\u001b[0m in \u001b[0;36m__getattr__\u001b[0;34m(self, name)\u001b[0m\n",
       "\u001b[1;32m   5485\u001b[0m         ):\n",
       "\u001b[1;32m   5486\u001b[0m             \u001b[0;32mreturn\u001b[0m \u001b[0mself\u001b[0m\u001b[0;34m[\u001b[0m\u001b[0mname\u001b[0m\u001b[0;34m]\u001b[0m\u001b[0;34m\u001b[0m\u001b[0;34m\u001b[0m\u001b[0m\n",
       "\u001b[0;32m-> 5487\u001b[0;31m         \u001b[0;32mreturn\u001b[0m \u001b[0mobject\u001b[0m\u001b[0;34m.\u001b[0m\u001b[0m__getattribute__\u001b[0m\u001b[0;34m(\u001b[0m\u001b[0mself\u001b[0m\u001b[0;34m,\u001b[0m \u001b[0mname\u001b[0m\u001b[0;34m)\u001b[0m\u001b[0;34m\u001b[0m\u001b[0;34m\u001b[0m\u001b[0m\n",
       "\u001b[0m\u001b[1;32m   5488\u001b[0m \u001b[0;34m\u001b[0m\u001b[0m\n",
       "\u001b[1;32m   5489\u001b[0m     \u001b[0;32mdef\u001b[0m \u001b[0m__setattr__\u001b[0m\u001b[0;34m(\u001b[0m\u001b[0mself\u001b[0m\u001b[0;34m,\u001b[0m \u001b[0mname\u001b[0m\u001b[0;34m:\u001b[0m \u001b[0mstr\u001b[0m\u001b[0;34m,\u001b[0m \u001b[0mvalue\u001b[0m\u001b[0;34m)\u001b[0m \u001b[0;34m->\u001b[0m \u001b[0;32mNone\u001b[0m\u001b[0;34m:\u001b[0m\u001b[0;34m\u001b[0m\u001b[0;34m\u001b[0m\u001b[0m\n",
       "\n",
       "\u001b[0;31mAttributeError\u001b[0m: 'DataFrame' object has no attribute 'result'"
      ]
     },
     "metadata": {
      "application/vnd.databricks.v1+output": {
       "arguments": {},
       "data": "\u001b[0;31m---------------------------------------------------------------------------\u001b[0m\n\u001b[0;31mAttributeError\u001b[0m                            Traceback (most recent call last)\n\u001b[0;32m<command-1611880341518032>\u001b[0m in \u001b[0;36m<cell line: 6>\u001b[0;34m()\u001b[0m\n\u001b[1;32m      4\u001b[0m \u001b[0mclass_names\u001b[0m \u001b[0;34m=\u001b[0m \u001b[0;34m[\u001b[0m\u001b[0;34m'negative'\u001b[0m\u001b[0;34m,\u001b[0m \u001b[0;34m'neutral'\u001b[0m\u001b[0;34m,\u001b[0m \u001b[0;34m'positive'\u001b[0m\u001b[0;34m]\u001b[0m\u001b[0;34m\u001b[0m\u001b[0;34m\u001b[0m\u001b[0m\n\u001b[1;32m      5\u001b[0m \u001b[0;34m\u001b[0m\u001b[0m\n\u001b[0;32m----> 6\u001b[0;31m \u001b[0mprint\u001b[0m\u001b[0;34m(\u001b[0m\u001b[0mclassification_report\u001b[0m\u001b[0;34m(\u001b[0m\u001b[0mdf_pandas_predict_bert\u001b[0m\u001b[0;34m.\u001b[0m\u001b[0msentiment\u001b[0m\u001b[0;34m,\u001b[0m \u001b[0mdf_pandas_predict_bert\u001b[0m\u001b[0;34m.\u001b[0m\u001b[0mresult\u001b[0m\u001b[0;34m,\u001b[0m\u001b[0mtarget_names\u001b[0m\u001b[0;34m=\u001b[0m\u001b[0mclass_names\u001b[0m\u001b[0;34m)\u001b[0m\u001b[0;34m)\u001b[0m\u001b[0;34m\u001b[0m\u001b[0;34m\u001b[0m\u001b[0m\n\u001b[0m\u001b[1;32m      7\u001b[0m \u001b[0mprint\u001b[0m\u001b[0;34m(\u001b[0m\u001b[0maccuracy_score\u001b[0m\u001b[0;34m(\u001b[0m\u001b[0mdf_pandas_predict_bert\u001b[0m\u001b[0;34m.\u001b[0m\u001b[0msentiment\u001b[0m\u001b[0;34m,\u001b[0m \u001b[0mdf_pandas_predict_bert\u001b[0m\u001b[0;34m.\u001b[0m\u001b[0mresult\u001b[0m\u001b[0;34m)\u001b[0m\u001b[0;34m)\u001b[0m\u001b[0;34m\u001b[0m\u001b[0;34m\u001b[0m\u001b[0m\n\n\u001b[0;32m/databricks/python/lib/python3.9/site-packages/pandas/core/generic.py\u001b[0m in \u001b[0;36m__getattr__\u001b[0;34m(self, name)\u001b[0m\n\u001b[1;32m   5485\u001b[0m         ):\n\u001b[1;32m   5486\u001b[0m             \u001b[0;32mreturn\u001b[0m \u001b[0mself\u001b[0m\u001b[0;34m[\u001b[0m\u001b[0mname\u001b[0m\u001b[0;34m]\u001b[0m\u001b[0;34m\u001b[0m\u001b[0;34m\u001b[0m\u001b[0m\n\u001b[0;32m-> 5487\u001b[0;31m         \u001b[0;32mreturn\u001b[0m \u001b[0mobject\u001b[0m\u001b[0;34m.\u001b[0m\u001b[0m__getattribute__\u001b[0m\u001b[0;34m(\u001b[0m\u001b[0mself\u001b[0m\u001b[0;34m,\u001b[0m \u001b[0mname\u001b[0m\u001b[0;34m)\u001b[0m\u001b[0;34m\u001b[0m\u001b[0;34m\u001b[0m\u001b[0m\n\u001b[0m\u001b[1;32m   5488\u001b[0m \u001b[0;34m\u001b[0m\u001b[0m\n\u001b[1;32m   5489\u001b[0m     \u001b[0;32mdef\u001b[0m \u001b[0m__setattr__\u001b[0m\u001b[0;34m(\u001b[0m\u001b[0mself\u001b[0m\u001b[0;34m,\u001b[0m \u001b[0mname\u001b[0m\u001b[0;34m:\u001b[0m \u001b[0mstr\u001b[0m\u001b[0;34m,\u001b[0m \u001b[0mvalue\u001b[0m\u001b[0;34m)\u001b[0m \u001b[0;34m->\u001b[0m \u001b[0;32mNone\u001b[0m\u001b[0;34m:\u001b[0m\u001b[0;34m\u001b[0m\u001b[0;34m\u001b[0m\u001b[0m\n\n\u001b[0;31mAttributeError\u001b[0m: 'DataFrame' object has no attribute 'result'",
       "errorSummary": "<span class='ansi-red-fg'>AttributeError</span>: 'DataFrame' object has no attribute 'result'",
       "errorTraceType": "ansi",
       "metadata": {},
       "type": "ipynbError"
      }
     },
     "output_type": "display_data"
    }
   ],
   "source": [
    "\n",
    "df_pandas_predict_bert = predict_bert.toPandas()\n",
    "\n",
    "\n",
    "class_names = ['negative', 'neutral', 'positive']\n",
    "\n",
    "print(classification_report(df_pandas_predict_bert.sentiment, df_pandas_predict_bert.result,target_names=class_names))\n",
    "print(accuracy_score(df_pandas_predict_bert.sentiment, df_pandas_predict_bert.result))"
   ]
  },
  {
   "attachments": {},
   "cell_type": "markdown",
   "metadata": {
    "application/vnd.databricks.v1+cell": {
     "cellMetadata": {
      "byteLimit": 2048000,
      "rowLimit": 10000
     },
     "inputWidgets": {},
     "nuid": "a0974144-399c-44fa-a81d-867627e574b0",
     "showTitle": false,
     "title": ""
    },
    "id": "3mpE9u1FfGfQ"
   },
   "source": [
    "# Dreamos la matriz de confusion\n",
    "1"
   ]
  },
  {
   "cell_type": "code",
   "execution_count": null,
   "metadata": {
    "application/vnd.databricks.v1+cell": {
     "cellMetadata": {
      "byteLimit": 2048000,
      "rowLimit": 10000
     },
     "inputWidgets": {},
     "nuid": "9d4e62f9-bcb6-4b49-b210-0de7bd120819",
     "showTitle": false,
     "title": ""
    },
    "id": "fX60AZEifIjw"
   },
   "outputs": [
    {
     "data": {
      "text/html": [
       "<style scoped>\n",
       "  .ansiout {\n",
       "    display: block;\n",
       "    unicode-bidi: embed;\n",
       "    white-space: pre-wrap;\n",
       "    word-wrap: break-word;\n",
       "    word-break: break-all;\n",
       "    font-family: \"Source Code Pro\", \"Menlo\", monospace;;\n",
       "    font-size: 13px;\n",
       "    color: #555;\n",
       "    margin-left: 4px;\n",
       "    line-height: 19px;\n",
       "  }\n",
       "</style>"
      ]
     },
     "metadata": {
      "application/vnd.databricks.v1+output": {
       "arguments": {},
       "data": "",
       "errorSummary": "",
       "errorTraceType": null,
       "metadata": {},
       "type": "ipynbError"
      }
     },
     "output_type": "display_data"
    }
   ],
   "source": [
    "def show_confusion_matrix(confusion_matrix):\n",
    "  hmap = sns.heatmap(confusion_matrix, annot=True, fmt=\"d\", cmap=\"Blues\")\n",
    "  hmap.yaxis.set_ticklabels(hmap.yaxis.get_ticklabels(), rotation=0, ha='right')\n",
    "  hmap.xaxis.set_ticklabels(hmap.xaxis.get_ticklabels(), rotation=30, ha='right')\n",
    "  plt.ylabel('True sentiment')\n",
    "  plt.xlabel('Predicted sentiment');"
   ]
  },
  {
   "cell_type": "code",
   "execution_count": null,
   "metadata": {
    "application/vnd.databricks.v1+cell": {
     "cellMetadata": {
      "byteLimit": 2048000,
      "rowLimit": 10000
     },
     "inputWidgets": {},
     "nuid": "05987b3b-9f86-4c1e-a711-a07f9b32e867",
     "showTitle": false,
     "title": ""
    },
    "id": "RXgHiSLafl1Z"
   },
   "outputs": [
    {
     "data": {
      "text/plain": [
       "\u001b[0;31m---------------------------------------------------------------------------\u001b[0m\n",
       "\u001b[0;31mAttributeError\u001b[0m                            Traceback (most recent call last)\n",
       "\u001b[0;32m<command-1611880341518035>\u001b[0m in \u001b[0;36m<cell line: 1>\u001b[0;34m()\u001b[0m\n",
       "\u001b[0;32m----> 1\u001b[0;31m \u001b[0mcm\u001b[0m \u001b[0;34m=\u001b[0m \u001b[0mconfusion_matrix\u001b[0m\u001b[0;34m(\u001b[0m\u001b[0mdf\u001b[0m\u001b[0;34m.\u001b[0m\u001b[0msentiment\u001b[0m\u001b[0;34m,\u001b[0m \u001b[0mdf\u001b[0m\u001b[0;34m.\u001b[0m\u001b[0mresult\u001b[0m\u001b[0;34m)\u001b[0m\u001b[0;34m\u001b[0m\u001b[0;34m\u001b[0m\u001b[0m\n",
       "\u001b[0m\u001b[1;32m      2\u001b[0m \u001b[0mdf_cm\u001b[0m \u001b[0;34m=\u001b[0m \u001b[0mpd\u001b[0m\u001b[0;34m.\u001b[0m\u001b[0mDataFrame\u001b[0m\u001b[0;34m(\u001b[0m\u001b[0mcm\u001b[0m\u001b[0;34m,\u001b[0m \u001b[0mindex\u001b[0m\u001b[0;34m=\u001b[0m\u001b[0mclass_names\u001b[0m\u001b[0;34m,\u001b[0m \u001b[0mcolumns\u001b[0m\u001b[0;34m=\u001b[0m\u001b[0mclass_names\u001b[0m\u001b[0;34m)\u001b[0m\u001b[0;34m\u001b[0m\u001b[0;34m\u001b[0m\u001b[0m\n",
       "\u001b[1;32m      3\u001b[0m \u001b[0mshow_confusion_matrix\u001b[0m\u001b[0;34m(\u001b[0m\u001b[0mdf_cm\u001b[0m\u001b[0;34m)\u001b[0m\u001b[0;34m\u001b[0m\u001b[0;34m\u001b[0m\u001b[0m\n",
       "\n",
       "\u001b[0;32m/databricks/spark/python/pyspark/instrumentation_utils.py\u001b[0m in \u001b[0;36mwrapper\u001b[0;34m(*args, **kwargs)\u001b[0m\n",
       "\u001b[1;32m     46\u001b[0m             \u001b[0mstart\u001b[0m \u001b[0;34m=\u001b[0m \u001b[0mtime\u001b[0m\u001b[0;34m.\u001b[0m\u001b[0mperf_counter\u001b[0m\u001b[0;34m(\u001b[0m\u001b[0;34m)\u001b[0m\u001b[0;34m\u001b[0m\u001b[0;34m\u001b[0m\u001b[0m\n",
       "\u001b[1;32m     47\u001b[0m             \u001b[0;32mtry\u001b[0m\u001b[0;34m:\u001b[0m\u001b[0;34m\u001b[0m\u001b[0;34m\u001b[0m\u001b[0m\n",
       "\u001b[0;32m---> 48\u001b[0;31m                 \u001b[0mres\u001b[0m \u001b[0;34m=\u001b[0m \u001b[0mfunc\u001b[0m\u001b[0;34m(\u001b[0m\u001b[0;34m*\u001b[0m\u001b[0margs\u001b[0m\u001b[0;34m,\u001b[0m \u001b[0;34m**\u001b[0m\u001b[0mkwargs\u001b[0m\u001b[0;34m)\u001b[0m\u001b[0;34m\u001b[0m\u001b[0;34m\u001b[0m\u001b[0m\n",
       "\u001b[0m\u001b[1;32m     49\u001b[0m                 logger.log_success(\n",
       "\u001b[1;32m     50\u001b[0m                     \u001b[0mmodule_name\u001b[0m\u001b[0;34m,\u001b[0m \u001b[0mclass_name\u001b[0m\u001b[0;34m,\u001b[0m \u001b[0mfunction_name\u001b[0m\u001b[0;34m,\u001b[0m \u001b[0mtime\u001b[0m\u001b[0;34m.\u001b[0m\u001b[0mperf_counter\u001b[0m\u001b[0;34m(\u001b[0m\u001b[0;34m)\u001b[0m \u001b[0;34m-\u001b[0m \u001b[0mstart\u001b[0m\u001b[0;34m,\u001b[0m \u001b[0msignature\u001b[0m\u001b[0;34m\u001b[0m\u001b[0;34m\u001b[0m\u001b[0m\n",
       "\n",
       "\u001b[0;32m/databricks/spark/python/pyspark/sql/dataframe.py\u001b[0m in \u001b[0;36m__getattr__\u001b[0;34m(self, name)\u001b[0m\n",
       "\u001b[1;32m   2072\u001b[0m         \"\"\"\n",
       "\u001b[1;32m   2073\u001b[0m         \u001b[0;32mif\u001b[0m \u001b[0mname\u001b[0m \u001b[0;32mnot\u001b[0m \u001b[0;32min\u001b[0m \u001b[0mself\u001b[0m\u001b[0;34m.\u001b[0m\u001b[0mcolumns\u001b[0m\u001b[0;34m:\u001b[0m\u001b[0;34m\u001b[0m\u001b[0;34m\u001b[0m\u001b[0m\n",
       "\u001b[0;32m-> 2074\u001b[0;31m             raise AttributeError(\n",
       "\u001b[0m\u001b[1;32m   2075\u001b[0m                 \u001b[0;34m\"'%s' object has no attribute '%s'\"\u001b[0m \u001b[0;34m%\u001b[0m \u001b[0;34m(\u001b[0m\u001b[0mself\u001b[0m\u001b[0;34m.\u001b[0m\u001b[0m__class__\u001b[0m\u001b[0;34m.\u001b[0m\u001b[0m__name__\u001b[0m\u001b[0;34m,\u001b[0m \u001b[0mname\u001b[0m\u001b[0;34m)\u001b[0m\u001b[0;34m\u001b[0m\u001b[0;34m\u001b[0m\u001b[0m\n",
       "\u001b[1;32m   2076\u001b[0m             )\n",
       "\n",
       "\u001b[0;31mAttributeError\u001b[0m: 'DataFrame' object has no attribute 'result'"
      ]
     },
     "metadata": {
      "application/vnd.databricks.v1+output": {
       "arguments": {},
       "data": "\u001b[0;31m---------------------------------------------------------------------------\u001b[0m\n\u001b[0;31mAttributeError\u001b[0m                            Traceback (most recent call last)\n\u001b[0;32m<command-1611880341518035>\u001b[0m in \u001b[0;36m<cell line: 1>\u001b[0;34m()\u001b[0m\n\u001b[0;32m----> 1\u001b[0;31m \u001b[0mcm\u001b[0m \u001b[0;34m=\u001b[0m \u001b[0mconfusion_matrix\u001b[0m\u001b[0;34m(\u001b[0m\u001b[0mdf\u001b[0m\u001b[0;34m.\u001b[0m\u001b[0msentiment\u001b[0m\u001b[0;34m,\u001b[0m \u001b[0mdf\u001b[0m\u001b[0;34m.\u001b[0m\u001b[0mresult\u001b[0m\u001b[0;34m)\u001b[0m\u001b[0;34m\u001b[0m\u001b[0;34m\u001b[0m\u001b[0m\n\u001b[0m\u001b[1;32m      2\u001b[0m \u001b[0mdf_cm\u001b[0m \u001b[0;34m=\u001b[0m \u001b[0mpd\u001b[0m\u001b[0;34m.\u001b[0m\u001b[0mDataFrame\u001b[0m\u001b[0;34m(\u001b[0m\u001b[0mcm\u001b[0m\u001b[0;34m,\u001b[0m \u001b[0mindex\u001b[0m\u001b[0;34m=\u001b[0m\u001b[0mclass_names\u001b[0m\u001b[0;34m,\u001b[0m \u001b[0mcolumns\u001b[0m\u001b[0;34m=\u001b[0m\u001b[0mclass_names\u001b[0m\u001b[0;34m)\u001b[0m\u001b[0;34m\u001b[0m\u001b[0;34m\u001b[0m\u001b[0m\n\u001b[1;32m      3\u001b[0m \u001b[0mshow_confusion_matrix\u001b[0m\u001b[0;34m(\u001b[0m\u001b[0mdf_cm\u001b[0m\u001b[0;34m)\u001b[0m\u001b[0;34m\u001b[0m\u001b[0;34m\u001b[0m\u001b[0m\n\n\u001b[0;32m/databricks/spark/python/pyspark/instrumentation_utils.py\u001b[0m in \u001b[0;36mwrapper\u001b[0;34m(*args, **kwargs)\u001b[0m\n\u001b[1;32m     46\u001b[0m             \u001b[0mstart\u001b[0m \u001b[0;34m=\u001b[0m \u001b[0mtime\u001b[0m\u001b[0;34m.\u001b[0m\u001b[0mperf_counter\u001b[0m\u001b[0;34m(\u001b[0m\u001b[0;34m)\u001b[0m\u001b[0;34m\u001b[0m\u001b[0;34m\u001b[0m\u001b[0m\n\u001b[1;32m     47\u001b[0m             \u001b[0;32mtry\u001b[0m\u001b[0;34m:\u001b[0m\u001b[0;34m\u001b[0m\u001b[0;34m\u001b[0m\u001b[0m\n\u001b[0;32m---> 48\u001b[0;31m                 \u001b[0mres\u001b[0m \u001b[0;34m=\u001b[0m \u001b[0mfunc\u001b[0m\u001b[0;34m(\u001b[0m\u001b[0;34m*\u001b[0m\u001b[0margs\u001b[0m\u001b[0;34m,\u001b[0m \u001b[0;34m**\u001b[0m\u001b[0mkwargs\u001b[0m\u001b[0;34m)\u001b[0m\u001b[0;34m\u001b[0m\u001b[0;34m\u001b[0m\u001b[0m\n\u001b[0m\u001b[1;32m     49\u001b[0m                 logger.log_success(\n\u001b[1;32m     50\u001b[0m                     \u001b[0mmodule_name\u001b[0m\u001b[0;34m,\u001b[0m \u001b[0mclass_name\u001b[0m\u001b[0;34m,\u001b[0m \u001b[0mfunction_name\u001b[0m\u001b[0;34m,\u001b[0m \u001b[0mtime\u001b[0m\u001b[0;34m.\u001b[0m\u001b[0mperf_counter\u001b[0m\u001b[0;34m(\u001b[0m\u001b[0;34m)\u001b[0m \u001b[0;34m-\u001b[0m \u001b[0mstart\u001b[0m\u001b[0;34m,\u001b[0m \u001b[0msignature\u001b[0m\u001b[0;34m\u001b[0m\u001b[0;34m\u001b[0m\u001b[0m\n\n\u001b[0;32m/databricks/spark/python/pyspark/sql/dataframe.py\u001b[0m in \u001b[0;36m__getattr__\u001b[0;34m(self, name)\u001b[0m\n\u001b[1;32m   2072\u001b[0m         \"\"\"\n\u001b[1;32m   2073\u001b[0m         \u001b[0;32mif\u001b[0m \u001b[0mname\u001b[0m \u001b[0;32mnot\u001b[0m \u001b[0;32min\u001b[0m \u001b[0mself\u001b[0m\u001b[0;34m.\u001b[0m\u001b[0mcolumns\u001b[0m\u001b[0;34m:\u001b[0m\u001b[0;34m\u001b[0m\u001b[0;34m\u001b[0m\u001b[0m\n\u001b[0;32m-> 2074\u001b[0;31m             raise AttributeError(\n\u001b[0m\u001b[1;32m   2075\u001b[0m                 \u001b[0;34m\"'%s' object has no attribute '%s'\"\u001b[0m \u001b[0;34m%\u001b[0m \u001b[0;34m(\u001b[0m\u001b[0mself\u001b[0m\u001b[0;34m.\u001b[0m\u001b[0m__class__\u001b[0m\u001b[0;34m.\u001b[0m\u001b[0m__name__\u001b[0m\u001b[0;34m,\u001b[0m \u001b[0mname\u001b[0m\u001b[0;34m)\u001b[0m\u001b[0;34m\u001b[0m\u001b[0;34m\u001b[0m\u001b[0m\n\u001b[1;32m   2076\u001b[0m             )\n\n\u001b[0;31mAttributeError\u001b[0m: 'DataFrame' object has no attribute 'result'",
       "errorSummary": "<span class='ansi-red-fg'>AttributeError</span>: 'DataFrame' object has no attribute 'result'",
       "errorTraceType": "ansi",
       "metadata": {},
       "type": "ipynbError"
      }
     },
     "output_type": "display_data"
    }
   ],
   "source": [
    "cm = confusion_matrix(df.sentiment, df.result)\n",
    "df_cm = pd.DataFrame(cm, index=class_names, columns=class_names)\n",
    "show_confusion_matrix(df_cm)"
   ]
  },
  {
   "attachments": {},
   "cell_type": "markdown",
   "metadata": {
    "application/vnd.databricks.v1+cell": {
     "cellMetadata": {
      "byteLimit": 2048000,
      "rowLimit": 10000
     },
     "inputWidgets": {},
     "nuid": "7f7f13b3-7ad6-4d24-80f5-4463bf8918f0",
     "showTitle": false,
     "title": ""
    },
    "id": "fFNLcGt3f4sx"
   },
   "source": [
    "Pruebas de predicciÃ³n"
   ]
  },
  {
   "cell_type": "code",
   "execution_count": null,
   "metadata": {
    "application/vnd.databricks.v1+cell": {
     "cellMetadata": {
      "byteLimit": 2048000,
      "rowLimit": 10000
     },
     "inputWidgets": {},
     "nuid": "df442b3c-7cb3-49cb-8c8b-8d66f4b47170",
     "showTitle": false,
     "title": ""
    },
    "id": "5o57llAZgAe6"
   },
   "outputs": [
    {
     "name": "stdout",
     "output_type": "stream",
     "text": [
      "Out[113]: ['negative']"
     ]
    },
    {
     "data": {
      "text/html": [
       "<style scoped>\n",
       "  .ansiout {\n",
       "    display: block;\n",
       "    unicode-bidi: embed;\n",
       "    white-space: pre-wrap;\n",
       "    word-wrap: break-word;\n",
       "    word-break: break-all;\n",
       "    font-family: \"Source Code Pro\", \"Menlo\", monospace;;\n",
       "    font-size: 13px;\n",
       "    color: #555;\n",
       "    margin-left: 4px;\n",
       "    line-height: 19px;\n",
       "  }\n",
       "</style>"
      ]
     },
     "metadata": {
      "application/vnd.databricks.v1+output": {
       "arguments": {},
       "data": "",
       "errorSummary": "",
       "errorTraceType": null,
       "metadata": {},
       "type": "ipynbError"
      }
     },
     "output_type": "display_data"
    }
   ],
   "source": [
    "light_model.annotate(\n",
    "    \"Me encanta, lo recomendarÃ­a al 100%, no se como no se lo han comprado antes.\"\n",
    ")[\"class\"]"
   ]
  },
  {
   "attachments": {},
   "cell_type": "markdown",
   "metadata": {
    "application/vnd.databricks.v1+cell": {
     "cellMetadata": {
      "byteLimit": 2048000,
      "rowLimit": 10000
     },
     "inputWidgets": {},
     "nuid": "11279048-0cb7-4690-82a8-2180f8bbf06c",
     "showTitle": false,
     "title": ""
    },
    "id": "BcJ3cVt_b-nT"
   },
   "source": [
    "Enlaces relacionados bibliografÃ­a organizada en formato markdown:\n",
    "\n",
    "- [Annotators SparkNLP](https://github.com/JohnSnowLabs/spark-nlp-workshop/blob/master/tutorials/Certification_Trainings/Public/5.Text_Classification_with_ClassifierDL.ipynb)\n",
    "- [Opciones de preprocesado](https://github.com/JohnSnowLabs/spark-nlp-workshop/blob/master/tutorials/Certification_Trainings/Public/2.Text_Preprocessing_with_SparkNLP_Annotators_Transformers.ipynb)\n",
    "- [ClasificaciÃ³n de texto en Spark NLP con Bert y Universal Sentence Encoders](https://towardsdatascience.com/text-classification-in-spark-nlp-with-bert-and-universal-sentence-encoders-e644d618ca32)\n",
    "- [CÃ³mo instalar Spark NLP offline](https://nlp.johnsnowlabs.com/docs/en/install#offline)\n",
    "- [PredicciÃ³n de reseÃ±as de pelÃ­culas con Bert en TF Hub (Python)](https://colab.research.google.com/github/google-research/bert/blob/master/predicting_movie_reviews_with_bert_on_tf_hub.ipynb#scrollTo=OjwJ4bTeWXD8)\n",
    "- [Ajuste fino de Bert con Cloud TPUs (Python)](https://colab.research.google.com/github/tensorflow/tpu/blob/master/tools/colab/bert_finetuning_with_cloud_tpus.ipynb)\n",
    "- [Repositorio de Bert en GitHub](https://github.com/google-research/bert)\n",
    "- [Ventajas de Spark NLP vs Spacy](https://towardsdatascience.com/introduction-to-spark-nlp-foundations-and-basic-components-part-i-c83b7629ed59)\n",
    "- [ExplicaciÃ³n de Bert en diapositivas](http://web.stanford.edu/class/cs224n/slides/Jacob_Devlin_BERT.pdf)\n",
    "- [InformaciÃ³n sobre la disponibilidad de GPU en Colab](https://research.google.com/colaboratory/faq.html#gpu-availability)\n",
    "- [Configuracion de spark NLP](https://github.com/JohnSnowLabs/spark-nlp/blob/master/README.md#quick-start)"
   ]
  },
  {
   "cell_type": "code",
   "execution_count": null,
   "metadata": {
    "application/vnd.databricks.v1+cell": {
     "cellMetadata": {
      "byteLimit": 2048000,
      "rowLimit": 10000
     },
     "inputWidgets": {},
     "nuid": "84b3c58c-2dc2-42ef-a13b-6939f4ea73f8",
     "showTitle": false,
     "title": ""
    },
    "id": "DcgLyJxRbpVA"
   },
   "outputs": [
    {
     "data": {
      "text/plain": []
     },
     "metadata": {
      "application/vnd.databricks.v1+output": {
       "arguments": {},
       "data": "",
       "errorSummary": "Command skipped",
       "errorTraceType": "ansi",
       "metadata": {},
       "type": "ipynbError"
      }
     },
     "output_type": "display_data"
    }
   ],
   "source": [
    "if 'dbutils' in globals():\n",
    "    print('borrando lo que hay en el directorio remoto para liberar espacio')\n",
    "    # dbutils.fs.rm(root_folder,recurse=True)\n",
    "elif platform.system() == 'Linux':\n",
    "    from google.colab import runtime\n",
    "    runtime.unassign()"
   ]
  }
 ],
 "metadata": {
  "application/vnd.databricks.v1+notebook": {
   "dashboards": [],
   "language": "python",
   "notebookMetadata": {
    "mostRecentlyExecutedCommandWithImplicitDF": {
     "commandId": -1,
     "dataframes": [
      "_sqldf"
     ]
    },
    "pythonIndentUnit": 4
   },
   "notebookName": "TFM_Experimento_1_BERT_AMAZON_REVIEWS_ES_spark_0.2",
   "widgets": {}
  },
  "colab": {
   "provenance": []
  },
  "kernelspec": {
   "display_name": "Python 3",
   "name": "python3"
  },
  "language_info": {
   "codemirror_mode": {
    "name": "ipython",
    "version": 3
   },
   "file_extension": ".py",
   "mimetype": "text/x-python",
   "name": "python",
   "nbconvert_exporter": "python",
   "pygments_lexer": "ipython3",
   "version": "3.8.1"
  }
 },
 "nbformat": 4,
 "nbformat_minor": 0
}
