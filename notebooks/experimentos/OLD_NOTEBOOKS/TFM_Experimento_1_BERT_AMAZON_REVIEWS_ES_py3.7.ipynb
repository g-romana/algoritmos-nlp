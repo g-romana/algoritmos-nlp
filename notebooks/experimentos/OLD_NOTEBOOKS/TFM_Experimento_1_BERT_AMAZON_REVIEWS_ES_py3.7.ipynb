{
  "cells": [
    {
      "cell_type": "code",
      "execution_count": 1,
      "metadata": {
        "colab": {
          "base_uri": "https://localhost:8080/",
          "height": 52
        },
        "id": "cA2SCKDLQ78E",
        "outputId": "c4706a0f-cc60-460e-fab9-c4d7c35bdf7b"
      },
      "outputs": [
        {
          "data": {
            "text/plain": [
              "'\\npara evitar que se ponga en off, hacer ctrol + shift + i y luego a consola\\nfunction ConnectButton(){\\n    console.log(\"Connect pushed\"); \\n    document.querySelector(\"#top-toolbar > colab-connect-button\").shadowRoot.querySelector(\"#connect\").click() \\n}\\nsetInterval(ConnectButton,60000);\\n'"
            ]
          },
          "execution_count": 1,
          "metadata": {},
          "output_type": "execute_result"
        }
      ],
      "source": [
        "'''\n",
        "para evitar que se ponga en off, hacer ctrol + shift + i y luego a consola\n",
        "function ConnectButton(){\n",
        "    console.log(\"Connect pushed\"); \n",
        "    document.querySelector(\"#top-toolbar > colab-connect-button\").shadowRoot.querySelector(\"#connect\").click() \n",
        "}\n",
        "setInterval(ConnectButton,60000);\n",
        "'''"
      ]
    },
    {
      "cell_type": "code",
      "execution_count": 2,
      "metadata": {},
      "outputs": [
        {
          "data": {
            "text/plain": [
              "'c:\\\\Users\\\\RomanGu\\\\OneDrive - BASF\\\\Documents\\\\CODE\\\\tfmfresh'"
            ]
          },
          "execution_count": 2,
          "metadata": {},
          "output_type": "execute_result"
        }
      ],
      "source": [
        "import sys\n",
        "sys.prefix"
      ]
    },
    {
      "cell_type": "code",
      "execution_count": 3,
      "metadata": {},
      "outputs": [
        {
          "name": "stdout",
          "output_type": "stream",
          "text": [
            "transformers\n",
            "torch\n",
            "numpy\n",
            "pandas\n",
            "seaborn\n",
            "matplotlib\n",
            "scikit-learn\n",
            "watermark\n",
            "psutil\n",
            "IProgress\n",
            "sympy\n",
            "filelock\n",
            "jinja2\n",
            "networkx\n",
            "typing-extensions\n",
            "IProgress \n",
            "awscli\n"
          ]
        }
      ],
      "source": [
        "!type ..\\requirements\\pytorch_requirements.txt"
      ]
    },
    {
      "cell_type": "code",
      "execution_count": 4,
      "metadata": {
        "colab": {
          "base_uri": "https://localhost:8080/"
        },
        "id": "Mj32xDVz7rgw",
        "outputId": "61ddca7d-1c41-4669-f4b6-947ee17e518d"
      },
      "outputs": [
        {
          "data": {
            "text/plain": [
              "[]"
            ]
          },
          "execution_count": 4,
          "metadata": {},
          "output_type": "execute_result"
        }
      ],
      "source": [
        "# !nvidia-smi --force-reinstall\n",
        "!!pip install -qq -r ..\\requirements\\pytorch_requirements.txt\n",
        "# !pip install sympy\n"
      ]
    },
    {
      "attachments": {},
      "cell_type": "markdown",
      "metadata": {
        "id": "lb-Rkj0PGaVF"
      },
      "source": [
        "## Setup\n",
        "\n",
        "We'll need [the Transformers library](https://huggingface.co/transformers/) by Hugging Face:"
      ]
    },
    {
      "cell_type": "code",
      "execution_count": 5,
      "metadata": {
        "colab": {
          "base_uri": "https://localhost:8080/"
        },
        "id": "FaVZzQ9oGNXp",
        "outputId": "4f27282d-c5bd-40ef-d5d9-3b01e52782a5"
      },
      "outputs": [],
      "source": [
        "# !pip3 install torch==1.9.0+cu111 torchvision==0.10.0+cu111 torchaudio==0.9.0 -f\n",
        "# !pip install -qq transformers torch pandas psutil scikit-learn \n",
        "# !pip install -qq -U watermark seaborn\n",
        "# !where python"
      ]
    },
    {
      "cell_type": "code",
      "execution_count": 6,
      "metadata": {},
      "outputs": [
        {
          "name": "stdout",
          "output_type": "stream",
          "text": [
            "Name: torch\n",
            "Version: 2.0.1\n",
            "Summary: Tensors and Dynamic neural networks in Python with strong GPU acceleration\n",
            "Home-page: https://pytorch.org/\n",
            "Author: PyTorch Team\n",
            "Author-email: packages@pytorch.org\n",
            "License: BSD-3\n",
            "Location: c:\\users\\romangu\\onedrive - basf\\documents\\code\\tfmfresh\\lib\\site-packages\n",
            "Requires: filelock, jinja2, networkx, sympy, typing-extensions\n",
            "Required-by: \n"
          ]
        }
      ],
      "source": [
        "!pip show torch"
      ]
    },
    {
      "cell_type": "code",
      "execution_count": 7,
      "metadata": {
        "colab": {
          "base_uri": "https://localhost:8080/"
        },
        "id": "3gZ6z1LQGe-F",
        "outputId": "eed8de26-2341-43c8-c40a-8c7b01b7f258"
      },
      "outputs": [
        {
          "name": "stderr",
          "output_type": "stream",
          "text": [
            "c:\\Users\\RomanGu\\OneDrive - BASF\\Documents\\CODE\\tfmfresh\\lib\\site-packages\\tqdm\\auto.py:21: TqdmWarning: IProgress not found. Please update jupyter and ipywidgets. See https://ipywidgets.readthedocs.io/en/stable/user_install.html\n",
            "  from .autonotebook import tqdm as notebook_tqdm\n"
          ]
        },
        {
          "name": "stdout",
          "output_type": "stream",
          "text": [
            "Python implementation: CPython\n",
            "Python version       : 3.8.1\n",
            "IPython version      : 8.12.2\n",
            "\n",
            "numpy       : 1.24.3\n",
            "pandas      : 2.0.1\n",
            "torch       : 2.0.1\n",
            "transformers: 4.29.2\n",
            "\n"
          ]
        }
      ],
      "source": [
        "%reload_ext watermark\n",
        "%watermark -v -p numpy,pandas,torch,transformers"
      ]
    },
    {
      "cell_type": "code",
      "execution_count": 8,
      "metadata": {
        "colab": {
          "base_uri": "https://localhost:8080/"
        },
        "id": "phxWt3SHGogY",
        "outputId": "5cd4e510-5fa8-4604-9db8-b7e53c2d91ed"
      },
      "outputs": [
        {
          "data": {
            "text/plain": [
              "device(type='cpu')"
            ]
          },
          "execution_count": 8,
          "metadata": {},
          "output_type": "execute_result"
        }
      ],
      "source": [
        "#@title Setup & Config\n",
        "import transformers\n",
        "from transformers import BertModel, BertTokenizer, AdamW, get_linear_schedule_with_warmup\n",
        "import torch,os\n",
        "\n",
        "import numpy as np\n",
        "import pandas as pd\n",
        "import seaborn as sns\n",
        "from pylab import rcParams\n",
        "import matplotlib.pyplot as plt\n",
        "from matplotlib import rc\n",
        "from sklearn.model_selection import train_test_split\n",
        "from sklearn.metrics import confusion_matrix, classification_report, accuracy_score\n",
        "from collections import defaultdict\n",
        "from textwrap import wrap\n",
        "\n",
        "from torch import nn, optim\n",
        "from torch.utils.data import Dataset, DataLoader\n",
        "import torch.nn.functional as F\n",
        "\n",
        "import os\n",
        "\n",
        "if not os.path.exists('./sample_data'):\n",
        "    os.makedirs('./sample_data')\n",
        "\n",
        "%matplotlib inline\n",
        "%config InlineBackend.figure_format='retina'\n",
        "\n",
        "sns.set(style='whitegrid', palette='muted', font_scale=1.2)\n",
        "\n",
        "HAPPY_COLORS_PALETTE = [\"#01BEFE\", \"#FFDD00\", \"#FF7D00\", \"#FF006D\", \"#ADFF02\", \"#8F00FF\"]\n",
        "\n",
        "sns.set_palette(sns.color_palette(HAPPY_COLORS_PALETTE))\n",
        "\n",
        "rcParams['figure.figsize'] = 12, 8\n",
        "\n",
        "RANDOM_SEED = 42\n",
        "np.random.seed(RANDOM_SEED)\n",
        "torch.manual_seed(RANDOM_SEED)\n",
        "# seleccionamos la GPU si está disponible\n",
        "device = torch.device(\"cuda:0\" if torch.cuda.is_available() else \"cpu\")\n",
        "device"
      ]
    },
    {
      "attachments": {},
      "cell_type": "markdown",
      "metadata": {
        "id": "aABKlrKFM92G"
      },
      "source": [
        "## CONFIGURACIÓN DE LOS MODELOS PREENTRENADOS BERT\n",
        "\n",
        ">CONSULTAR LOS MODELOS PREENTRENADOS DISPONIBLES [AQUI](https://huggingface.co/transformers/pretrained_models.html)\n",
        "\n"
      ]
    },
    {
      "cell_type": "code",
      "execution_count": 9,
      "metadata": {
        "id": "yyTKvv4bdFX-"
      },
      "outputs": [],
      "source": [
        "def experimento(tipo: str, idioma: str):\n",
        "  if tipo.upper()==\"A\":\n",
        "    BATCH_SIZE = 16\n",
        "    EPOCHS = 2\n",
        "    LEARNING_RATE = 5e-5\n",
        "  elif tipo.upper()==\"B\":\n",
        "    BATCH_SIZE = 32\n",
        "    EPOCHS = 4\n",
        "    LEARNING_RATE = 3e-5\n",
        "  else:\n",
        "      print(\"elige experimento\")\n",
        "  \n",
        "  if idioma.upper()==\"EN\":\n",
        "    PRE_TRAINED_MODEL_NAME = 'google/bert_uncased_L-4_H-256_A-4'\n",
        "  elif idioma.upper()==\"ES\":\n",
        "    PRE_TRAINED_MODEL_NAME = 'bert-base-multilingual-cased'\n",
        "  else:\n",
        "    print(\"modelo no elegido\")\n",
        "  return BATCH_SIZE, EPOCHS, LEARNING_RATE,PRE_TRAINED_MODEL_NAME\n",
        "\n"
      ]
    },
    {
      "cell_type": "code",
      "execution_count": 10,
      "metadata": {
        "colab": {
          "base_uri": "https://localhost:8080/"
        },
        "id": "CuIw7VhddzCv",
        "outputId": "fedeb7f3-9223-41ea-d434-82bc1cd76043"
      },
      "outputs": [
        {
          "name": "stdout",
          "output_type": "stream",
          "text": [
            "BATCH_SIZE: 16\n",
            "LEARNING_RATE: 5e-05\n",
            "EPOCHS: 2\n",
            "PRE_TRAINED_MODEL_NAME: bert-base-multilingual-cased\n"
          ]
        }
      ],
      "source": [
        "BATCH_SIZE, EPOCHS, LEARNING_RATE, PRE_TRAINED_MODEL_NAME = experimento(tipo = \"a\", idioma =\"es\")\n",
        "# Original values\n",
        "# LEARNING_RATE = 2e-5\n",
        "# BATCH_SIZE = 32\n",
        "# PRE_TRAINED_MODEL_NAME = 'bert-base-cased'\n",
        "# PRE_TRAINED_MODEL_NAME = 'google/bert_uncased_L-4_H-256_A-4'\n",
        "\n",
        "print(f\"BATCH_SIZE: {BATCH_SIZE}\")\n",
        "print(f\"LEARNING_RATE: {LEARNING_RATE}\")\n",
        "print(f\"EPOCHS: {EPOCHS}\")\n",
        "print(f\"PRE_TRAINED_MODEL_NAME: {PRE_TRAINED_MODEL_NAME}\")"
      ]
    },
    {
      "attachments": {},
      "cell_type": "markdown",
      "metadata": {
        "id": "biJVRoiiGzbL"
      },
      "source": [
        "## Data Exploration\n",
        "\n"
      ]
    },
    {
      "attachments": {},
      "cell_type": "markdown",
      "metadata": {
        "id": "kzfXwdbdUGOq"
      },
      "source": [
        "### download data"
      ]
    },
    {
      "cell_type": "code",
      "execution_count": 11,
      "metadata": {
        "colab": {
          "base_uri": "https://localhost:8080/",
          "height": 714
        },
        "id": "cxSM3-q9QI-D",
        "outputId": "dba17500-1bbe-4005-f532-747deab5b4da"
      },
      "outputs": [
        {
          "name": "stdout",
          "output_type": "stream",
          "text": [
            "Requirement already satisfied: awscli in c:\\users\\romangu\\onedrive - basf\\documents\\code\\tfmfresh\\lib\\site-packages (1.27.137)\n",
            "Requirement already satisfied: botocore==1.29.137 in c:\\users\\romangu\\onedrive - basf\\documents\\code\\tfmfresh\\lib\\site-packages (from awscli) (1.29.137)\n",
            "Requirement already satisfied: docutils<0.17,>=0.10 in c:\\users\\romangu\\onedrive - basf\\documents\\code\\tfmfresh\\lib\\site-packages (from awscli) (0.16)\n",
            "Requirement already satisfied: s3transfer<0.7.0,>=0.6.0 in c:\\users\\romangu\\onedrive - basf\\documents\\code\\tfmfresh\\lib\\site-packages (from awscli) (0.6.1)\n",
            "Requirement already satisfied: PyYAML<5.5,>=3.10 in c:\\users\\romangu\\onedrive - basf\\documents\\code\\tfmfresh\\lib\\site-packages (from awscli) (5.4.1)\n",
            "Requirement already satisfied: colorama<0.4.5,>=0.2.5 in c:\\users\\romangu\\onedrive - basf\\documents\\code\\tfmfresh\\lib\\site-packages (from awscli) (0.4.4)\n",
            "Requirement already satisfied: rsa<4.8,>=3.1.2 in c:\\users\\romangu\\onedrive - basf\\documents\\code\\tfmfresh\\lib\\site-packages (from awscli) (4.7.2)\n",
            "Requirement already satisfied: jmespath<2.0.0,>=0.7.1 in c:\\users\\romangu\\onedrive - basf\\documents\\code\\tfmfresh\\lib\\site-packages (from botocore==1.29.137->awscli) (1.0.1)\n",
            "Requirement already satisfied: python-dateutil<3.0.0,>=2.1 in c:\\users\\romangu\\onedrive - basf\\documents\\code\\tfmfresh\\lib\\site-packages (from botocore==1.29.137->awscli) (2.8.2)\n",
            "Requirement already satisfied: urllib3<1.27,>=1.25.4 in c:\\users\\romangu\\onedrive - basf\\documents\\code\\tfmfresh\\lib\\site-packages (from botocore==1.29.137->awscli) (1.26.15)\n",
            "Requirement already satisfied: pyasn1>=0.1.3 in c:\\users\\romangu\\onedrive - basf\\documents\\code\\tfmfresh\\lib\\site-packages (from rsa<4.8,>=3.1.2->awscli) (0.5.0)\n",
            "Requirement already satisfied: six>=1.5 in c:\\users\\romangu\\onedrive - basf\\documents\\code\\tfmfresh\\lib\\site-packages (from python-dateutil<3.0.0,>=2.1->botocore==1.29.137->awscli) (1.16.0)\n",
            "Completed 256.0 KiB/1.8 MiB (173.0 KiB/s) with 1 file(s) remaining\n",
            "Completed 512.0 KiB/1.8 MiB (302.0 KiB/s) with 1 file(s) remaining\n",
            "Completed 768.0 KiB/1.8 MiB (411.1 KiB/s) with 1 file(s) remaining\n",
            "Completed 1.0 MiB/1.8 MiB (533.7 KiB/s) with 1 file(s) remaining  \n",
            "Completed 1.2 MiB/1.8 MiB (540.6 KiB/s) with 1 file(s) remaining  \n",
            "Completed 1.5 MiB/1.8 MiB (648.1 KiB/s) with 1 file(s) remaining  \n",
            "Completed 1.8 MiB/1.8 MiB (755.8 KiB/s) with 1 file(s) remaining  \n",
            "Completed 1.8 MiB/1.8 MiB (798.5 KiB/s) with 1 file(s) remaining  \n",
            "download: s3://amazon-reviews-ml/json/test/dataset_es_test.json to sample_data\\dataset_es_test.json\n",
            "Completed 256.0 KiB/73.9 MiB (175.4 KiB/s) with 1 file(s) remaining\n",
            "Completed 512.0 KiB/73.9 MiB (328.8 KiB/s) with 1 file(s) remaining\n",
            "Completed 768.0 KiB/73.9 MiB (486.8 KiB/s) with 1 file(s) remaining\n",
            "Completed 1.0 MiB/73.9 MiB (644.6 KiB/s) with 1 file(s) remaining  \n",
            "Completed 1.2 MiB/73.9 MiB (793.1 KiB/s) with 1 file(s) remaining  \n",
            "Completed 1.5 MiB/73.9 MiB (943.5 KiB/s) with 1 file(s) remaining  \n",
            "Completed 1.8 MiB/73.9 MiB (1.1 MiB/s) with 1 file(s) remaining    \n",
            "Completed 2.0 MiB/73.9 MiB (1.2 MiB/s) with 1 file(s) remaining    \n",
            "Completed 2.2 MiB/73.9 MiB (1.3 MiB/s) with 1 file(s) remaining    \n",
            "Completed 2.5 MiB/73.9 MiB (1.5 MiB/s) with 1 file(s) remaining    \n",
            "Completed 2.8 MiB/73.9 MiB (1.6 MiB/s) with 1 file(s) remaining    \n",
            "Completed 3.0 MiB/73.9 MiB (1.7 MiB/s) with 1 file(s) remaining    \n",
            "Completed 3.2 MiB/73.9 MiB (1.8 MiB/s) with 1 file(s) remaining    \n",
            "Completed 3.5 MiB/73.9 MiB (1.9 MiB/s) with 1 file(s) remaining    \n",
            "Completed 3.8 MiB/73.9 MiB (2.0 MiB/s) with 1 file(s) remaining    \n",
            "Completed 4.0 MiB/73.9 MiB (2.1 MiB/s) with 1 file(s) remaining    \n",
            "Completed 4.2 MiB/73.9 MiB (2.2 MiB/s) with 1 file(s) remaining    \n",
            "Completed 4.5 MiB/73.9 MiB (2.3 MiB/s) with 1 file(s) remaining    \n",
            "Completed 4.8 MiB/73.9 MiB (2.4 MiB/s) with 1 file(s) remaining    \n",
            "Completed 5.0 MiB/73.9 MiB (2.5 MiB/s) with 1 file(s) remaining    \n",
            "Completed 5.2 MiB/73.9 MiB (2.5 MiB/s) with 1 file(s) remaining    \n",
            "Completed 5.5 MiB/73.9 MiB (2.6 MiB/s) with 1 file(s) remaining    \n",
            "Completed 5.8 MiB/73.9 MiB (2.7 MiB/s) with 1 file(s) remaining    \n",
            "Completed 6.0 MiB/73.9 MiB (2.7 MiB/s) with 1 file(s) remaining    \n",
            "Completed 6.2 MiB/73.9 MiB (2.8 MiB/s) with 1 file(s) remaining    \n",
            "Completed 6.5 MiB/73.9 MiB (2.9 MiB/s) with 1 file(s) remaining    \n",
            "Completed 6.8 MiB/73.9 MiB (3.0 MiB/s) with 1 file(s) remaining    \n",
            "Completed 7.0 MiB/73.9 MiB (3.1 MiB/s) with 1 file(s) remaining    \n",
            "Completed 7.2 MiB/73.9 MiB (3.1 MiB/s) with 1 file(s) remaining    \n",
            "Completed 7.5 MiB/73.9 MiB (3.2 MiB/s) with 1 file(s) remaining    \n",
            "Completed 7.6 MiB/73.9 MiB (3.2 MiB/s) with 1 file(s) remaining    \n",
            "Completed 7.9 MiB/73.9 MiB (3.2 MiB/s) with 1 file(s) remaining    \n",
            "Completed 8.1 MiB/73.9 MiB (3.3 MiB/s) with 1 file(s) remaining    \n",
            "Completed 8.4 MiB/73.9 MiB (3.4 MiB/s) with 1 file(s) remaining    \n",
            "Completed 8.6 MiB/73.9 MiB (3.4 MiB/s) with 1 file(s) remaining    \n",
            "Completed 8.9 MiB/73.9 MiB (3.5 MiB/s) with 1 file(s) remaining    \n",
            "Completed 9.1 MiB/73.9 MiB (3.6 MiB/s) with 1 file(s) remaining    \n",
            "Completed 9.4 MiB/73.9 MiB (3.6 MiB/s) with 1 file(s) remaining    \n",
            "Completed 9.6 MiB/73.9 MiB (3.7 MiB/s) with 1 file(s) remaining    \n",
            "Completed 9.9 MiB/73.9 MiB (3.7 MiB/s) with 1 file(s) remaining    \n",
            "Completed 10.1 MiB/73.9 MiB (3.8 MiB/s) with 1 file(s) remaining   \n",
            "Completed 10.4 MiB/73.9 MiB (3.8 MiB/s) with 1 file(s) remaining   \n",
            "Completed 10.6 MiB/73.9 MiB (3.8 MiB/s) with 1 file(s) remaining   \n",
            "Completed 10.9 MiB/73.9 MiB (3.9 MiB/s) with 1 file(s) remaining   \n",
            "Completed 11.1 MiB/73.9 MiB (4.0 MiB/s) with 1 file(s) remaining   \n",
            "Completed 11.4 MiB/73.9 MiB (4.0 MiB/s) with 1 file(s) remaining   \n",
            "Completed 11.6 MiB/73.9 MiB (4.0 MiB/s) with 1 file(s) remaining   \n",
            "Completed 11.9 MiB/73.9 MiB (4.1 MiB/s) with 1 file(s) remaining   \n",
            "Completed 12.1 MiB/73.9 MiB (4.1 MiB/s) with 1 file(s) remaining   \n",
            "Completed 12.4 MiB/73.9 MiB (4.2 MiB/s) with 1 file(s) remaining   \n",
            "Completed 12.6 MiB/73.9 MiB (4.2 MiB/s) with 1 file(s) remaining   \n",
            "Completed 12.9 MiB/73.9 MiB (4.3 MiB/s) with 1 file(s) remaining   \n",
            "Completed 13.1 MiB/73.9 MiB (4.3 MiB/s) with 1 file(s) remaining   \n",
            "Completed 13.4 MiB/73.9 MiB (4.4 MiB/s) with 1 file(s) remaining   \n",
            "Completed 13.6 MiB/73.9 MiB (4.4 MiB/s) with 1 file(s) remaining   \n",
            "Completed 13.9 MiB/73.9 MiB (4.5 MiB/s) with 1 file(s) remaining   \n",
            "Completed 14.1 MiB/73.9 MiB (4.5 MiB/s) with 1 file(s) remaining   \n",
            "Completed 14.4 MiB/73.9 MiB (4.6 MiB/s) with 1 file(s) remaining   \n",
            "Completed 14.6 MiB/73.9 MiB (4.6 MiB/s) with 1 file(s) remaining   \n",
            "Completed 14.9 MiB/73.9 MiB (4.7 MiB/s) with 1 file(s) remaining   \n",
            "Completed 15.1 MiB/73.9 MiB (4.7 MiB/s) with 1 file(s) remaining   \n",
            "Completed 15.4 MiB/73.9 MiB (4.7 MiB/s) with 1 file(s) remaining   \n",
            "Completed 15.6 MiB/73.9 MiB (4.8 MiB/s) with 1 file(s) remaining   \n",
            "Completed 15.9 MiB/73.9 MiB (4.8 MiB/s) with 1 file(s) remaining   \n",
            "Completed 16.1 MiB/73.9 MiB (4.9 MiB/s) with 1 file(s) remaining   \n",
            "Completed 16.4 MiB/73.9 MiB (4.9 MiB/s) with 1 file(s) remaining   \n",
            "Completed 16.6 MiB/73.9 MiB (4.9 MiB/s) with 1 file(s) remaining   \n",
            "Completed 16.9 MiB/73.9 MiB (4.9 MiB/s) with 1 file(s) remaining   \n",
            "Completed 17.1 MiB/73.9 MiB (5.0 MiB/s) with 1 file(s) remaining   \n",
            "Completed 17.4 MiB/73.9 MiB (5.0 MiB/s) with 1 file(s) remaining   \n",
            "Completed 17.6 MiB/73.9 MiB (5.0 MiB/s) with 1 file(s) remaining   \n",
            "Completed 17.9 MiB/73.9 MiB (5.0 MiB/s) with 1 file(s) remaining   \n",
            "Completed 18.1 MiB/73.9 MiB (5.0 MiB/s) with 1 file(s) remaining   \n",
            "Completed 18.4 MiB/73.9 MiB (5.0 MiB/s) with 1 file(s) remaining   \n",
            "Completed 18.6 MiB/73.9 MiB (5.1 MiB/s) with 1 file(s) remaining   \n",
            "Completed 18.9 MiB/73.9 MiB (5.1 MiB/s) with 1 file(s) remaining   \n",
            "Completed 19.1 MiB/73.9 MiB (5.1 MiB/s) with 1 file(s) remaining   \n",
            "Completed 19.4 MiB/73.9 MiB (5.2 MiB/s) with 1 file(s) remaining   \n",
            "Completed 19.6 MiB/73.9 MiB (5.2 MiB/s) with 1 file(s) remaining   \n",
            "Completed 19.9 MiB/73.9 MiB (5.2 MiB/s) with 1 file(s) remaining   \n",
            "Completed 20.1 MiB/73.9 MiB (5.3 MiB/s) with 1 file(s) remaining   \n",
            "Completed 20.4 MiB/73.9 MiB (5.3 MiB/s) with 1 file(s) remaining   \n",
            "Completed 20.6 MiB/73.9 MiB (5.3 MiB/s) with 1 file(s) remaining   \n",
            "Completed 20.9 MiB/73.9 MiB (5.4 MiB/s) with 1 file(s) remaining   \n",
            "Completed 21.1 MiB/73.9 MiB (5.4 MiB/s) with 1 file(s) remaining   \n",
            "Completed 21.4 MiB/73.9 MiB (5.4 MiB/s) with 1 file(s) remaining   \n",
            "Completed 21.6 MiB/73.9 MiB (5.5 MiB/s) with 1 file(s) remaining   \n",
            "Completed 21.9 MiB/73.9 MiB (5.4 MiB/s) with 1 file(s) remaining   \n",
            "Completed 22.1 MiB/73.9 MiB (5.5 MiB/s) with 1 file(s) remaining   \n",
            "Completed 22.4 MiB/73.9 MiB (5.5 MiB/s) with 1 file(s) remaining   \n",
            "Completed 22.6 MiB/73.9 MiB (5.5 MiB/s) with 1 file(s) remaining   \n",
            "Completed 22.9 MiB/73.9 MiB (5.6 MiB/s) with 1 file(s) remaining   \n",
            "Completed 23.1 MiB/73.9 MiB (5.6 MiB/s) with 1 file(s) remaining   \n",
            "Completed 23.4 MiB/73.9 MiB (5.7 MiB/s) with 1 file(s) remaining   \n",
            "Completed 23.6 MiB/73.9 MiB (5.7 MiB/s) with 1 file(s) remaining   \n",
            "Completed 23.9 MiB/73.9 MiB (5.8 MiB/s) with 1 file(s) remaining   \n",
            "Completed 24.1 MiB/73.9 MiB (5.8 MiB/s) with 1 file(s) remaining   \n",
            "Completed 24.4 MiB/73.9 MiB (5.8 MiB/s) with 1 file(s) remaining   \n",
            "Completed 24.6 MiB/73.9 MiB (5.8 MiB/s) with 1 file(s) remaining   \n",
            "Completed 24.9 MiB/73.9 MiB (5.8 MiB/s) with 1 file(s) remaining   \n",
            "Completed 25.1 MiB/73.9 MiB (5.8 MiB/s) with 1 file(s) remaining   \n",
            "Completed 25.4 MiB/73.9 MiB (5.9 MiB/s) with 1 file(s) remaining   \n",
            "Completed 25.6 MiB/73.9 MiB (5.8 MiB/s) with 1 file(s) remaining   \n",
            "Completed 25.9 MiB/73.9 MiB (5.9 MiB/s) with 1 file(s) remaining   \n",
            "Completed 26.1 MiB/73.9 MiB (5.9 MiB/s) with 1 file(s) remaining   \n",
            "Completed 26.4 MiB/73.9 MiB (5.9 MiB/s) with 1 file(s) remaining   \n",
            "Completed 26.6 MiB/73.9 MiB (5.9 MiB/s) with 1 file(s) remaining   \n",
            "Completed 26.9 MiB/73.9 MiB (5.9 MiB/s) with 1 file(s) remaining   \n",
            "Completed 27.1 MiB/73.9 MiB (5.9 MiB/s) with 1 file(s) remaining   \n",
            "Completed 27.4 MiB/73.9 MiB (6.0 MiB/s) with 1 file(s) remaining   \n",
            "Completed 27.6 MiB/73.9 MiB (6.0 MiB/s) with 1 file(s) remaining   \n",
            "Completed 27.9 MiB/73.9 MiB (6.0 MiB/s) with 1 file(s) remaining   \n",
            "Completed 28.1 MiB/73.9 MiB (6.0 MiB/s) with 1 file(s) remaining   \n",
            "Completed 28.4 MiB/73.9 MiB (6.0 MiB/s) with 1 file(s) remaining   \n",
            "Completed 28.6 MiB/73.9 MiB (6.1 MiB/s) with 1 file(s) remaining   \n",
            "Completed 28.9 MiB/73.9 MiB (6.1 MiB/s) with 1 file(s) remaining   \n",
            "Completed 29.1 MiB/73.9 MiB (6.1 MiB/s) with 1 file(s) remaining   \n",
            "Completed 29.4 MiB/73.9 MiB (6.1 MiB/s) with 1 file(s) remaining   \n",
            "Completed 29.6 MiB/73.9 MiB (6.1 MiB/s) with 1 file(s) remaining   \n",
            "Completed 29.9 MiB/73.9 MiB (6.1 MiB/s) with 1 file(s) remaining   \n",
            "Completed 30.1 MiB/73.9 MiB (6.1 MiB/s) with 1 file(s) remaining   \n",
            "Completed 30.4 MiB/73.9 MiB (6.2 MiB/s) with 1 file(s) remaining   \n",
            "Completed 30.6 MiB/73.9 MiB (6.2 MiB/s) with 1 file(s) remaining   \n",
            "Completed 30.9 MiB/73.9 MiB (6.3 MiB/s) with 1 file(s) remaining   \n",
            "Completed 31.1 MiB/73.9 MiB (6.3 MiB/s) with 1 file(s) remaining   \n",
            "Completed 31.4 MiB/73.9 MiB (6.3 MiB/s) with 1 file(s) remaining   \n",
            "Completed 31.6 MiB/73.9 MiB (6.3 MiB/s) with 1 file(s) remaining   \n",
            "Completed 31.9 MiB/73.9 MiB (6.3 MiB/s) with 1 file(s) remaining   \n",
            "Completed 32.1 MiB/73.9 MiB (6.3 MiB/s) with 1 file(s) remaining   \n",
            "Completed 32.4 MiB/73.9 MiB (6.4 MiB/s) with 1 file(s) remaining   \n",
            "Completed 32.6 MiB/73.9 MiB (6.4 MiB/s) with 1 file(s) remaining   \n",
            "Completed 32.9 MiB/73.9 MiB (6.4 MiB/s) with 1 file(s) remaining   \n",
            "Completed 33.1 MiB/73.9 MiB (6.4 MiB/s) with 1 file(s) remaining   \n",
            "Completed 33.4 MiB/73.9 MiB (6.5 MiB/s) with 1 file(s) remaining   \n",
            "Completed 33.6 MiB/73.9 MiB (6.5 MiB/s) with 1 file(s) remaining   \n",
            "Completed 33.9 MiB/73.9 MiB (6.5 MiB/s) with 1 file(s) remaining   \n",
            "Completed 34.1 MiB/73.9 MiB (6.5 MiB/s) with 1 file(s) remaining   \n",
            "Completed 34.4 MiB/73.9 MiB (6.5 MiB/s) with 1 file(s) remaining   \n",
            "Completed 34.6 MiB/73.9 MiB (6.5 MiB/s) with 1 file(s) remaining   \n",
            "Completed 34.9 MiB/73.9 MiB (6.5 MiB/s) with 1 file(s) remaining   \n",
            "Completed 35.1 MiB/73.9 MiB (6.6 MiB/s) with 1 file(s) remaining   \n",
            "Completed 35.4 MiB/73.9 MiB (6.6 MiB/s) with 1 file(s) remaining   \n",
            "Completed 35.6 MiB/73.9 MiB (6.6 MiB/s) with 1 file(s) remaining   \n",
            "Completed 35.9 MiB/73.9 MiB (6.7 MiB/s) with 1 file(s) remaining   \n",
            "Completed 36.1 MiB/73.9 MiB (6.7 MiB/s) with 1 file(s) remaining   \n",
            "Completed 36.4 MiB/73.9 MiB (6.7 MiB/s) with 1 file(s) remaining   \n",
            "Completed 36.6 MiB/73.9 MiB (6.7 MiB/s) with 1 file(s) remaining   \n",
            "Completed 36.9 MiB/73.9 MiB (6.7 MiB/s) with 1 file(s) remaining   \n",
            "Completed 37.1 MiB/73.9 MiB (6.7 MiB/s) with 1 file(s) remaining   \n",
            "Completed 37.4 MiB/73.9 MiB (6.7 MiB/s) with 1 file(s) remaining   \n",
            "Completed 37.6 MiB/73.9 MiB (6.8 MiB/s) with 1 file(s) remaining   \n",
            "Completed 37.9 MiB/73.9 MiB (6.7 MiB/s) with 1 file(s) remaining   \n",
            "Completed 38.1 MiB/73.9 MiB (6.8 MiB/s) with 1 file(s) remaining   \n",
            "Completed 38.4 MiB/73.9 MiB (6.8 MiB/s) with 1 file(s) remaining   \n",
            "Completed 38.6 MiB/73.9 MiB (6.8 MiB/s) with 1 file(s) remaining   \n",
            "Completed 38.9 MiB/73.9 MiB (6.8 MiB/s) with 1 file(s) remaining   \n",
            "Completed 39.1 MiB/73.9 MiB (6.8 MiB/s) with 1 file(s) remaining   \n",
            "Completed 39.4 MiB/73.9 MiB (6.8 MiB/s) with 1 file(s) remaining   \n",
            "Completed 39.6 MiB/73.9 MiB (6.8 MiB/s) with 1 file(s) remaining   \n",
            "Completed 39.9 MiB/73.9 MiB (6.8 MiB/s) with 1 file(s) remaining   \n",
            "Completed 40.1 MiB/73.9 MiB (6.9 MiB/s) with 1 file(s) remaining   \n",
            "Completed 40.4 MiB/73.9 MiB (6.9 MiB/s) with 1 file(s) remaining   \n",
            "Completed 40.6 MiB/73.9 MiB (6.9 MiB/s) with 1 file(s) remaining   \n",
            "Completed 40.9 MiB/73.9 MiB (6.9 MiB/s) with 1 file(s) remaining   \n",
            "Completed 41.1 MiB/73.9 MiB (6.9 MiB/s) with 1 file(s) remaining   \n",
            "Completed 41.4 MiB/73.9 MiB (6.9 MiB/s) with 1 file(s) remaining   \n",
            "Completed 41.6 MiB/73.9 MiB (6.9 MiB/s) with 1 file(s) remaining   \n",
            "Completed 41.9 MiB/73.9 MiB (7.0 MiB/s) with 1 file(s) remaining   \n",
            "Completed 42.1 MiB/73.9 MiB (7.0 MiB/s) with 1 file(s) remaining   \n",
            "Completed 42.4 MiB/73.9 MiB (7.0 MiB/s) with 1 file(s) remaining   \n",
            "Completed 42.6 MiB/73.9 MiB (7.0 MiB/s) with 1 file(s) remaining   \n",
            "Completed 42.9 MiB/73.9 MiB (7.0 MiB/s) with 1 file(s) remaining   \n",
            "Completed 43.1 MiB/73.9 MiB (7.0 MiB/s) with 1 file(s) remaining   \n",
            "Completed 43.4 MiB/73.9 MiB (7.0 MiB/s) with 1 file(s) remaining   \n",
            "Completed 43.6 MiB/73.9 MiB (7.0 MiB/s) with 1 file(s) remaining   \n",
            "Completed 43.9 MiB/73.9 MiB (7.0 MiB/s) with 1 file(s) remaining   \n",
            "Completed 44.1 MiB/73.9 MiB (7.1 MiB/s) with 1 file(s) remaining   \n",
            "Completed 44.4 MiB/73.9 MiB (7.1 MiB/s) with 1 file(s) remaining   \n",
            "Completed 44.6 MiB/73.9 MiB (7.0 MiB/s) with 1 file(s) remaining   \n",
            "Completed 44.9 MiB/73.9 MiB (7.0 MiB/s) with 1 file(s) remaining   \n",
            "Completed 45.1 MiB/73.9 MiB (7.0 MiB/s) with 1 file(s) remaining   \n",
            "Completed 45.4 MiB/73.9 MiB (7.0 MiB/s) with 1 file(s) remaining   \n",
            "Completed 45.6 MiB/73.9 MiB (7.0 MiB/s) with 1 file(s) remaining   \n",
            "Completed 45.9 MiB/73.9 MiB (7.0 MiB/s) with 1 file(s) remaining   \n",
            "Completed 46.1 MiB/73.9 MiB (7.0 MiB/s) with 1 file(s) remaining   \n",
            "Completed 46.4 MiB/73.9 MiB (7.1 MiB/s) with 1 file(s) remaining   \n",
            "Completed 46.6 MiB/73.9 MiB (7.0 MiB/s) with 1 file(s) remaining   \n",
            "Completed 46.9 MiB/73.9 MiB (7.1 MiB/s) with 1 file(s) remaining   \n",
            "Completed 47.1 MiB/73.9 MiB (7.1 MiB/s) with 1 file(s) remaining   \n",
            "Completed 47.4 MiB/73.9 MiB (7.1 MiB/s) with 1 file(s) remaining   \n",
            "Completed 47.6 MiB/73.9 MiB (7.1 MiB/s) with 1 file(s) remaining   \n",
            "Completed 47.9 MiB/73.9 MiB (7.1 MiB/s) with 1 file(s) remaining   \n",
            "Completed 48.1 MiB/73.9 MiB (7.1 MiB/s) with 1 file(s) remaining   \n",
            "Completed 48.4 MiB/73.9 MiB (7.1 MiB/s) with 1 file(s) remaining   \n",
            "Completed 48.6 MiB/73.9 MiB (7.2 MiB/s) with 1 file(s) remaining   \n",
            "Completed 48.9 MiB/73.9 MiB (7.2 MiB/s) with 1 file(s) remaining   \n",
            "Completed 49.1 MiB/73.9 MiB (7.2 MiB/s) with 1 file(s) remaining   \n",
            "Completed 49.4 MiB/73.9 MiB (7.2 MiB/s) with 1 file(s) remaining   \n",
            "Completed 49.6 MiB/73.9 MiB (7.2 MiB/s) with 1 file(s) remaining   \n",
            "Completed 49.9 MiB/73.9 MiB (7.2 MiB/s) with 1 file(s) remaining   \n",
            "Completed 50.1 MiB/73.9 MiB (7.2 MiB/s) with 1 file(s) remaining   \n",
            "Completed 50.4 MiB/73.9 MiB (7.2 MiB/s) with 1 file(s) remaining   \n",
            "Completed 50.6 MiB/73.9 MiB (7.2 MiB/s) with 1 file(s) remaining   \n",
            "Completed 50.9 MiB/73.9 MiB (7.2 MiB/s) with 1 file(s) remaining   \n",
            "Completed 51.1 MiB/73.9 MiB (7.2 MiB/s) with 1 file(s) remaining   \n",
            "Completed 51.4 MiB/73.9 MiB (7.2 MiB/s) with 1 file(s) remaining   \n",
            "Completed 51.6 MiB/73.9 MiB (7.2 MiB/s) with 1 file(s) remaining   \n",
            "Completed 51.9 MiB/73.9 MiB (7.3 MiB/s) with 1 file(s) remaining   \n",
            "Completed 52.1 MiB/73.9 MiB (7.3 MiB/s) with 1 file(s) remaining   \n",
            "Completed 52.4 MiB/73.9 MiB (7.3 MiB/s) with 1 file(s) remaining   \n",
            "Completed 52.6 MiB/73.9 MiB (7.3 MiB/s) with 1 file(s) remaining   \n",
            "Completed 52.9 MiB/73.9 MiB (7.3 MiB/s) with 1 file(s) remaining   \n",
            "Completed 53.1 MiB/73.9 MiB (7.3 MiB/s) with 1 file(s) remaining   \n",
            "Completed 53.4 MiB/73.9 MiB (7.3 MiB/s) with 1 file(s) remaining   \n",
            "Completed 53.6 MiB/73.9 MiB (7.3 MiB/s) with 1 file(s) remaining   \n",
            "Completed 53.9 MiB/73.9 MiB (7.3 MiB/s) with 1 file(s) remaining   \n",
            "Completed 54.1 MiB/73.9 MiB (7.3 MiB/s) with 1 file(s) remaining   \n",
            "Completed 54.4 MiB/73.9 MiB (7.3 MiB/s) with 1 file(s) remaining   \n",
            "Completed 54.6 MiB/73.9 MiB (7.3 MiB/s) with 1 file(s) remaining   \n",
            "Completed 54.9 MiB/73.9 MiB (7.3 MiB/s) with 1 file(s) remaining   \n",
            "Completed 55.1 MiB/73.9 MiB (7.3 MiB/s) with 1 file(s) remaining   \n",
            "Completed 55.4 MiB/73.9 MiB (7.4 MiB/s) with 1 file(s) remaining   \n",
            "Completed 55.6 MiB/73.9 MiB (7.3 MiB/s) with 1 file(s) remaining   \n",
            "Completed 55.9 MiB/73.9 MiB (7.4 MiB/s) with 1 file(s) remaining   \n",
            "Completed 56.1 MiB/73.9 MiB (7.4 MiB/s) with 1 file(s) remaining   \n",
            "Completed 56.4 MiB/73.9 MiB (7.4 MiB/s) with 1 file(s) remaining   \n",
            "Completed 56.6 MiB/73.9 MiB (7.4 MiB/s) with 1 file(s) remaining   \n",
            "Completed 56.9 MiB/73.9 MiB (7.4 MiB/s) with 1 file(s) remaining   \n",
            "Completed 57.1 MiB/73.9 MiB (7.4 MiB/s) with 1 file(s) remaining   \n",
            "Completed 57.4 MiB/73.9 MiB (7.4 MiB/s) with 1 file(s) remaining   \n",
            "Completed 57.6 MiB/73.9 MiB (7.4 MiB/s) with 1 file(s) remaining   \n",
            "Completed 57.9 MiB/73.9 MiB (7.4 MiB/s) with 1 file(s) remaining   \n",
            "Completed 58.1 MiB/73.9 MiB (7.4 MiB/s) with 1 file(s) remaining   \n",
            "Completed 58.4 MiB/73.9 MiB (7.5 MiB/s) with 1 file(s) remaining   \n",
            "Completed 58.6 MiB/73.9 MiB (7.5 MiB/s) with 1 file(s) remaining   \n",
            "Completed 58.9 MiB/73.9 MiB (7.5 MiB/s) with 1 file(s) remaining   \n",
            "Completed 59.1 MiB/73.9 MiB (7.5 MiB/s) with 1 file(s) remaining   \n",
            "Completed 59.4 MiB/73.9 MiB (7.5 MiB/s) with 1 file(s) remaining   \n",
            "Completed 59.6 MiB/73.9 MiB (7.5 MiB/s) with 1 file(s) remaining   \n",
            "Completed 59.9 MiB/73.9 MiB (7.5 MiB/s) with 1 file(s) remaining   \n",
            "Completed 60.1 MiB/73.9 MiB (7.5 MiB/s) with 1 file(s) remaining   \n",
            "Completed 60.4 MiB/73.9 MiB (7.5 MiB/s) with 1 file(s) remaining   \n",
            "Completed 60.6 MiB/73.9 MiB (7.5 MiB/s) with 1 file(s) remaining   \n",
            "Completed 60.9 MiB/73.9 MiB (7.6 MiB/s) with 1 file(s) remaining   \n",
            "Completed 61.1 MiB/73.9 MiB (7.6 MiB/s) with 1 file(s) remaining   \n",
            "Completed 61.4 MiB/73.9 MiB (7.6 MiB/s) with 1 file(s) remaining   \n",
            "Completed 61.6 MiB/73.9 MiB (7.6 MiB/s) with 1 file(s) remaining   \n",
            "Completed 61.9 MiB/73.9 MiB (7.6 MiB/s) with 1 file(s) remaining   \n",
            "Completed 62.1 MiB/73.9 MiB (7.6 MiB/s) with 1 file(s) remaining   \n",
            "Completed 62.4 MiB/73.9 MiB (7.6 MiB/s) with 1 file(s) remaining   \n",
            "Completed 62.6 MiB/73.9 MiB (7.6 MiB/s) with 1 file(s) remaining   \n",
            "Completed 62.9 MiB/73.9 MiB (7.6 MiB/s) with 1 file(s) remaining   \n",
            "Completed 63.1 MiB/73.9 MiB (7.6 MiB/s) with 1 file(s) remaining   \n",
            "Completed 63.4 MiB/73.9 MiB (7.6 MiB/s) with 1 file(s) remaining   \n",
            "Completed 63.6 MiB/73.9 MiB (7.6 MiB/s) with 1 file(s) remaining   \n",
            "Completed 63.9 MiB/73.9 MiB (7.7 MiB/s) with 1 file(s) remaining   \n",
            "Completed 64.1 MiB/73.9 MiB (7.7 MiB/s) with 1 file(s) remaining   \n",
            "Completed 64.4 MiB/73.9 MiB (7.5 MiB/s) with 1 file(s) remaining   \n",
            "Completed 64.6 MiB/73.9 MiB (7.5 MiB/s) with 1 file(s) remaining   \n",
            "Completed 64.9 MiB/73.9 MiB (7.5 MiB/s) with 1 file(s) remaining   \n",
            "Completed 65.1 MiB/73.9 MiB (7.4 MiB/s) with 1 file(s) remaining   \n",
            "Completed 65.4 MiB/73.9 MiB (7.4 MiB/s) with 1 file(s) remaining   \n",
            "Completed 65.6 MiB/73.9 MiB (7.4 MiB/s) with 1 file(s) remaining   \n",
            "Completed 65.9 MiB/73.9 MiB (7.4 MiB/s) with 1 file(s) remaining   \n",
            "Completed 66.1 MiB/73.9 MiB (7.5 MiB/s) with 1 file(s) remaining   \n",
            "Completed 66.4 MiB/73.9 MiB (7.4 MiB/s) with 1 file(s) remaining   \n",
            "Completed 66.6 MiB/73.9 MiB (7.3 MiB/s) with 1 file(s) remaining   \n",
            "Completed 66.9 MiB/73.9 MiB (7.0 MiB/s) with 1 file(s) remaining   \n",
            "Completed 67.1 MiB/73.9 MiB (6.8 MiB/s) with 1 file(s) remaining   \n",
            "Completed 67.4 MiB/73.9 MiB (6.6 MiB/s) with 1 file(s) remaining   \n",
            "Completed 67.6 MiB/73.9 MiB (6.5 MiB/s) with 1 file(s) remaining   \n",
            "Completed 67.9 MiB/73.9 MiB (6.4 MiB/s) with 1 file(s) remaining   \n",
            "Completed 68.1 MiB/73.9 MiB (6.3 MiB/s) with 1 file(s) remaining   \n",
            "Completed 68.4 MiB/73.9 MiB (6.2 MiB/s) with 1 file(s) remaining   \n",
            "Completed 68.6 MiB/73.9 MiB (6.1 MiB/s) with 1 file(s) remaining   \n",
            "Completed 68.9 MiB/73.9 MiB (6.0 MiB/s) with 1 file(s) remaining   \n",
            "Completed 69.1 MiB/73.9 MiB (6.0 MiB/s) with 1 file(s) remaining   \n",
            "Completed 69.4 MiB/73.9 MiB (5.9 MiB/s) with 1 file(s) remaining   \n",
            "Completed 69.6 MiB/73.9 MiB (5.9 MiB/s) with 1 file(s) remaining   \n",
            "Completed 69.9 MiB/73.9 MiB (5.8 MiB/s) with 1 file(s) remaining   \n",
            "Completed 70.1 MiB/73.9 MiB (5.7 MiB/s) with 1 file(s) remaining   \n",
            "Completed 70.4 MiB/73.9 MiB (5.7 MiB/s) with 1 file(s) remaining   \n",
            "Completed 70.6 MiB/73.9 MiB (5.6 MiB/s) with 1 file(s) remaining   \n",
            "Completed 70.9 MiB/73.9 MiB (5.5 MiB/s) with 1 file(s) remaining   \n",
            "Completed 71.1 MiB/73.9 MiB (5.5 MiB/s) with 1 file(s) remaining   \n",
            "Completed 71.4 MiB/73.9 MiB (5.4 MiB/s) with 1 file(s) remaining   \n",
            "Completed 71.6 MiB/73.9 MiB (5.3 MiB/s) with 1 file(s) remaining   \n",
            "Completed 71.9 MiB/73.9 MiB (5.3 MiB/s) with 1 file(s) remaining   \n",
            "Completed 72.1 MiB/73.9 MiB (5.2 MiB/s) with 1 file(s) remaining   \n",
            "Completed 72.4 MiB/73.9 MiB (5.2 MiB/s) with 1 file(s) remaining   \n",
            "Completed 72.6 MiB/73.9 MiB (5.2 MiB/s) with 1 file(s) remaining   \n",
            "Completed 72.9 MiB/73.9 MiB (5.1 MiB/s) with 1 file(s) remaining   \n",
            "Completed 73.1 MiB/73.9 MiB (5.1 MiB/s) with 1 file(s) remaining   \n",
            "Completed 73.4 MiB/73.9 MiB (5.0 MiB/s) with 1 file(s) remaining   \n",
            "Completed 73.6 MiB/73.9 MiB (5.0 MiB/s) with 1 file(s) remaining   \n",
            "Completed 73.9 MiB/73.9 MiB (5.0 MiB/s) with 1 file(s) remaining   \n",
            "download: s3://amazon-reviews-ml/json/train/dataset_es_train.json to sample_data\\dataset_es_train.json\n"
          ]
        }
      ],
      "source": [
        "!pip install awscli\n",
        "!aws s3 cp s3://amazon-reviews-ml/json/test/dataset_es_test.json ./sample_data/ --no-sign-request\n",
        "!aws s3 cp s3://amazon-reviews-ml/json/train/dataset_es_train.json ./sample_data/ --no-sign-request"
      ]
    },
    {
      "cell_type": "code",
      "execution_count": 12,
      "metadata": {
        "colab": {
          "base_uri": "https://localhost:8080/"
        },
        "id": "GarGXlW2UFZ4",
        "outputId": "4055d387-3175-47e3-cb10-8199f4aa0b43"
      },
      "outputs": [
        {
          "name": "stderr",
          "output_type": "stream",
          "text": [
            "'ls' is not recognized as an internal or external command,\n",
            "operable program or batch file.\n"
          ]
        }
      ],
      "source": [
        "!ls ./sample_data"
      ]
    },
    {
      "cell_type": "code",
      "execution_count": 13,
      "metadata": {
        "colab": {
          "base_uri": "https://localhost:8080/",
          "height": 52
        },
        "id": "Z-8J7Hh9wrPP",
        "outputId": "2a83d58a-7158-469c-fccf-bf6966f3306c"
      },
      "outputs": [
        {
          "data": {
            "text/plain": [
              "'\\n(trainingData, testData) = trainDataset.randomSplit([0.7, 0.3], seed = 100)\\nprint(\"Training Dataset Count: \" + str(trainingData.count()))\\nprint(\"Test Dataset Count: \" + str(testData.count()))\\n'"
            ]
          },
          "execution_count": 13,
          "metadata": {},
          "output_type": "execute_result"
        }
      ],
      "source": [
        "\n",
        "# Si queremos hacer el split al dataset\n",
        "'''\n",
        "(trainingData, testData) = trainDataset.randomSplit([0.7, 0.3], seed = 100)\n",
        "print(\"Training Dataset Count: \" + str(trainingData.count()))\n",
        "print(\"Test Dataset Count: \" + str(testData.count()))\n",
        "'''"
      ]
    },
    {
      "cell_type": "code",
      "execution_count": 14,
      "metadata": {
        "id": "KgwfSC1SQGsG"
      },
      "outputs": [],
      "source": [
        "root_folder = \"./sample_data/\"\n",
        "\n",
        "traindata = root_folder + \"dataset_es_train.json\"\n",
        "testdata = root_folder + \"dataset_es_test.json\"\n"
      ]
    },
    {
      "cell_type": "code",
      "execution_count": 15,
      "metadata": {
        "colab": {
          "base_uri": "https://localhost:8080/"
        },
        "id": "BtH3Zwq37J1y",
        "outputId": "2e252219-cd66-45e9-edc4-c7b01698c1a8"
      },
      "outputs": [
        {
          "name": "stderr",
          "output_type": "stream",
          "text": [
            "'head' is not recognized as an internal or external command,\n",
            "operable program or batch file.\n"
          ]
        }
      ],
      "source": [
        "!head {traindata}"
      ]
    },
    {
      "cell_type": "code",
      "execution_count": 16,
      "metadata": {
        "colab": {
          "base_uri": "https://localhost:8080/",
          "height": 374
        },
        "id": "zSJVlvMYG3XY",
        "outputId": "bceb5611-dfec-4b3a-d304-47533ee98986"
      },
      "outputs": [
        {
          "name": "stdout",
          "output_type": "stream",
          "text": [
            "Tamaño total  (200000, 2)\n"
          ]
        },
        {
          "data": {
            "text/html": [
              "<div>\n",
              "<style scoped>\n",
              "    .dataframe tbody tr th:only-of-type {\n",
              "        vertical-align: middle;\n",
              "    }\n",
              "\n",
              "    .dataframe tbody tr th {\n",
              "        vertical-align: top;\n",
              "    }\n",
              "\n",
              "    .dataframe thead th {\n",
              "        text-align: right;\n",
              "    }\n",
              "</style>\n",
              "<table border=\"1\" class=\"dataframe\">\n",
              "  <thead>\n",
              "    <tr style=\"text-align: right;\">\n",
              "      <th></th>\n",
              "      <th>stars</th>\n",
              "      <th>description</th>\n",
              "    </tr>\n",
              "  </thead>\n",
              "  <tbody>\n",
              "    <tr>\n",
              "      <th>0</th>\n",
              "      <td>1</td>\n",
              "      <td>Nada bueno se me fue ka pantalla en menos de 8...</td>\n",
              "    </tr>\n",
              "    <tr>\n",
              "      <th>1</th>\n",
              "      <td>1</td>\n",
              "      <td>Horrible, nos tuvimos que comprar otro porque ...</td>\n",
              "    </tr>\n",
              "    <tr>\n",
              "      <th>2</th>\n",
              "      <td>1</td>\n",
              "      <td>Te obligan a comprar dos unidades y te llega s...</td>\n",
              "    </tr>\n",
              "    <tr>\n",
              "      <th>3</th>\n",
              "      <td>1</td>\n",
              "      <td>No entro en descalificar al vendedor, solo pue...</td>\n",
              "    </tr>\n",
              "    <tr>\n",
              "      <th>4</th>\n",
              "      <td>1</td>\n",
              "      <td>Llega tarde y co la talla equivocada</td>\n",
              "    </tr>\n",
              "    <tr>\n",
              "      <th>5</th>\n",
              "      <td>1</td>\n",
              "      <td>Jamás me llegó y el vendedor nunca contacto co...</td>\n",
              "    </tr>\n",
              "    <tr>\n",
              "      <th>6</th>\n",
              "      <td>1</td>\n",
              "      <td>El paraguas es de muy mala calidad,da la sensa...</td>\n",
              "    </tr>\n",
              "    <tr>\n",
              "      <th>7</th>\n",
              "      <td>1</td>\n",
              "      <td>Tuve que devolverla porque al ser triangular n...</td>\n",
              "    </tr>\n",
              "    <tr>\n",
              "      <th>8</th>\n",
              "      <td>1</td>\n",
              "      <td>Estoy esperando despues de protestar varias ve...</td>\n",
              "    </tr>\n",
              "    <tr>\n",
              "      <th>9</th>\n",
              "      <td>1</td>\n",
              "      <td>Defectuoso. En apariencia muy bien producto, p...</td>\n",
              "    </tr>\n",
              "  </tbody>\n",
              "</table>\n",
              "</div>"
            ],
            "text/plain": [
              "   stars                                        description\n",
              "0      1  Nada bueno se me fue ka pantalla en menos de 8...\n",
              "1      1  Horrible, nos tuvimos que comprar otro porque ...\n",
              "2      1  Te obligan a comprar dos unidades y te llega s...\n",
              "3      1  No entro en descalificar al vendedor, solo pue...\n",
              "4      1               Llega tarde y co la talla equivocada\n",
              "5      1  Jamás me llegó y el vendedor nunca contacto co...\n",
              "6      1  El paraguas es de muy mala calidad,da la sensa...\n",
              "7      1  Tuve que devolverla porque al ser triangular n...\n",
              "8      1  Estoy esperando despues de protestar varias ve...\n",
              "9      1  Defectuoso. En apariencia muy bien producto, p..."
            ]
          },
          "execution_count": 16,
          "metadata": {},
          "output_type": "execute_result"
        }
      ],
      "source": [
        "# from google.colab import data_table\n",
        "import json \n",
        "df = pd.read_json(traindata,lines=True)[[\"stars\",\t\"review_body\"]].rename(columns={\"review_body\": \"description\"})\n",
        "df_testdata = pd.read_json(testdata,lines=True)[[\"stars\",\t\"review_body\"]].rename(columns={\"review_body\": \"description\"})\n",
        "print(\"Tamaño total \",df.shape)\n",
        "# data_table.DataTable(df, include_index=False, num_rows_per_page=10)\n",
        "df[:10]"
      ]
    },
    {
      "attachments": {},
      "cell_type": "markdown",
      "metadata": {
        "id": "rRKzWbPueY6M"
      },
      "source": [
        "# Creando las categorías del sentiment en base al numero de estrellas:\n",
        "- Negative\n",
        "- Neutral\n",
        "- Positive"
      ]
    },
    {
      "cell_type": "code",
      "execution_count": 19,
      "metadata": {
        "id": "2P9zX6fTXggS"
      },
      "outputs": [],
      "source": [
        "\n",
        "df[\"sentiment\"]= np.select([df['stars'].between(0, 2, inclusive='neither'), df['stars']==3], \n",
        "    ['negative', 'neutral'],\n",
        "    default=\"positive\")\n",
        "\n",
        "df_testdata[\"sentiment\"]= np.select([df_testdata['stars'].between(0, 2, inclusive='neither'), df_testdata['stars']==3], \n",
        "    ['negative', 'neutral'],\n",
        "    default=\"positive\")\n"
      ]
    },
    {
      "cell_type": "code",
      "execution_count": 20,
      "metadata": {
        "colab": {
          "base_uri": "https://localhost:8080/",
          "height": 258
        },
        "id": "yyymmQWTZsRK",
        "outputId": "da37ec9e-7981-4dc0-9691-39309c7191fc"
      },
      "outputs": [
        {
          "data": {
            "text/html": [
              "<div>\n",
              "<style scoped>\n",
              "    .dataframe tbody tr th:only-of-type {\n",
              "        vertical-align: middle;\n",
              "    }\n",
              "\n",
              "    .dataframe tbody tr th {\n",
              "        vertical-align: top;\n",
              "    }\n",
              "\n",
              "    .dataframe thead th {\n",
              "        text-align: right;\n",
              "    }\n",
              "</style>\n",
              "<table border=\"1\" class=\"dataframe\">\n",
              "  <thead>\n",
              "    <tr style=\"text-align: right;\">\n",
              "      <th></th>\n",
              "      <th>stars</th>\n",
              "      <th>description</th>\n",
              "      <th>sentiment</th>\n",
              "    </tr>\n",
              "  </thead>\n",
              "  <tbody>\n",
              "    <tr>\n",
              "      <th>0</th>\n",
              "      <td>1</td>\n",
              "      <td>no me llego el articulo me lo mando por correo...</td>\n",
              "      <td>negative</td>\n",
              "    </tr>\n",
              "    <tr>\n",
              "      <th>1</th>\n",
              "      <td>1</td>\n",
              "      <td>la mensajería horrible, no compro mas</td>\n",
              "      <td>negative</td>\n",
              "    </tr>\n",
              "    <tr>\n",
              "      <th>2</th>\n",
              "      <td>1</td>\n",
              "      <td>Estoy muy decepcionado con el vendedor ya que ...</td>\n",
              "      <td>negative</td>\n",
              "    </tr>\n",
              "    <tr>\n",
              "      <th>3</th>\n",
              "      <td>1</td>\n",
              "      <td>Mi valoración no es sobre el producto sino sob...</td>\n",
              "      <td>negative</td>\n",
              "    </tr>\n",
              "    <tr>\n",
              "      <th>4</th>\n",
              "      <td>1</td>\n",
              "      <td>Pues tenía interés en este libro y probé la ve...</td>\n",
              "      <td>negative</td>\n",
              "    </tr>\n",
              "  </tbody>\n",
              "</table>\n",
              "</div>"
            ],
            "text/plain": [
              "   stars                                        description sentiment\n",
              "0      1  no me llego el articulo me lo mando por correo...  negative\n",
              "1      1              la mensajería horrible, no compro mas  negative\n",
              "2      1  Estoy muy decepcionado con el vendedor ya que ...  negative\n",
              "3      1  Mi valoración no es sobre el producto sino sob...  negative\n",
              "4      1  Pues tenía interés en este libro y probé la ve...  negative"
            ]
          },
          "execution_count": 20,
          "metadata": {},
          "output_type": "execute_result"
        }
      ],
      "source": [
        "df_testdata[:5]"
      ]
    },
    {
      "cell_type": "code",
      "execution_count": 21,
      "metadata": {
        "id": "6XW5cat-R53V"
      },
      "outputs": [],
      "source": [
        "from sklearn import preprocessing\n",
        "le = preprocessing.LabelEncoder()\n",
        "df[\"category_encoded\"]=le.fit_transform(df.sentiment)\n",
        "df_testdata[\"category_encoded\"]=le.fit_transform(df_testdata.sentiment)"
      ]
    },
    {
      "cell_type": "code",
      "execution_count": 22,
      "metadata": {
        "colab": {
          "base_uri": "https://localhost:8080/"
        },
        "id": "sNU8baZyTJjG",
        "outputId": "d3e8dbf4-062b-4c03-9036-42ebde8dcfef"
      },
      "outputs": [
        {
          "data": {
            "text/plain": [
              "array(['negative', 'neutral', 'positive'], dtype=object)"
            ]
          },
          "execution_count": 22,
          "metadata": {},
          "output_type": "execute_result"
        }
      ],
      "source": [
        "le.classes_"
      ]
    },
    {
      "cell_type": "code",
      "execution_count": 24,
      "metadata": {},
      "outputs": [
        {
          "name": "stdout",
          "output_type": "stream",
          "text": [
            "Name: pandas\n",
            "Version: 2.0.1\n",
            "Summary: Powerful data structures for data analysis, time series, and statistics\n",
            "Home-page: \n",
            "Author: \n",
            "Author-email: The Pandas Development Team <pandas-dev@python.org>\n",
            "License: BSD 3-Clause License\n",
            "        \n",
            "        Copyright (c) 2008-2011, AQR Capital Management, LLC, Lambda Foundry, Inc. and PyData Development Team\n",
            "        All rights reserved.\n",
            "        \n",
            "        Copyright (c) 2011-2023, Open source contributors.\n",
            "        \n",
            "        Redistribution and use in source and binary forms, with or without\n",
            "        modification, are permitted provided that the following conditions are met:\n",
            "        \n",
            "        * Redistributions of source code must retain the above copyright notice, this\n",
            "          list of conditions and the following disclaimer.\n",
            "        \n",
            "        * Redistributions in binary form must reproduce the above copyright notice,\n",
            "          this list of conditions and the following disclaimer in the documentation\n",
            "          and/or other materials provided with the distribution.\n",
            "        \n",
            "        * Neither the name of the copyright holder nor the names of its\n",
            "          contributors may be used to endorse or promote products derived from\n",
            "          this software without specific prior written permission.\n",
            "        \n",
            "        THIS SOFTWARE IS PROVIDED BY THE COPYRIGHT HOLDERS AND CONTRIBUTORS \"AS IS\"\n",
            "        AND ANY EXPRESS OR IMPLIED WARRANTIES, INCLUDING, BUT NOT LIMITED TO, THE\n",
            "        IMPLIED WARRANTIES OF MERCHANTABILITY AND FITNESS FOR A PARTICULAR PURPOSE ARE\n",
            "        DISCLAIMED. IN NO EVENT SHALL THE COPYRIGHT HOLDER OR CONTRIBUTORS BE LIABLE\n",
            "        FOR ANY DIRECT, INDIRECT, INCIDENTAL, SPECIAL, EXEMPLARY, OR CONSEQUENTIAL\n",
            "        DAMAGES (INCLUDING, BUT NOT LIMITED TO, PROCUREMENT OF SUBSTITUTE GOODS OR\n",
            "        SERVICES; LOSS OF USE, DATA, OR PROFITS; OR BUSINESS INTERRUPTION) HOWEVER\n",
            "        CAUSED AND ON ANY THEORY OF LIABILITY, WHETHER IN CONTRACT, STRICT LIABILITY,\n",
            "        OR TORT (INCLUDING NEGLIGENCE OR OTHERWISE) ARISING IN ANY WAY OUT OF THE USE\n",
            "        OF THIS SOFTWARE, EVEN IF ADVISED OF THE POSSIBILITY OF SUCH DAMAGE.\n",
            "        \n",
            "Location: c:\\users\\romangu\\onedrive - basf\\documents\\code\\tfmfresh\\lib\\site-packages\n",
            "Requires: numpy, python-dateutil, pytz, tzdata\n",
            "Required-by: seaborn\n"
          ]
        }
      ],
      "source": [
        "!pip show pandas"
      ]
    },
    {
      "cell_type": "code",
      "execution_count": 25,
      "metadata": {
        "id": "zEfU48rvbrjw"
      },
      "outputs": [],
      "source": [
        "# igualamos el numero de ocurrencias por categoria para no tener bias.\n",
        "# df_temp = (\n",
        "#     df.query(\"sentiment=='negative'\")[:40000]\n",
        "#     .append(df.query(\"sentiment=='neutral'\")[:40000])\n",
        "#     .append(df.query(\"sentiment=='positive'\")[:40000])\n",
        "# )\n",
        "# df_testdata_temp = (\n",
        "#     df_testdata.query(\"sentiment=='negative'\")[:1000]\n",
        "#     .append(df_testdata.query(\"sentiment=='neutral'\")[:1000])\n",
        "#     .append(df_testdata.query(\"sentiment=='positive'\")[:1000])\n",
        "# )\n",
        "df_temp = pd.concat([\n",
        "    df.query(\"sentiment=='negative'\")[:40000],\n",
        "    df.query(\"sentiment=='neutral'\")[:40000],\n",
        "    df.query(\"sentiment=='positive'\")[:40000]\n",
        "], ignore_index=True)\n",
        "\n",
        "df_testdata_temp = pd.concat([\n",
        "    df_testdata.query(\"sentiment=='negative'\")[:1000],\n",
        "    df_testdata.query(\"sentiment=='neutral'\")[:1000],\n",
        "    df_testdata.query(\"sentiment=='positive'\")[:1000]\n",
        "], ignore_index=True)\n"
      ]
    },
    {
      "cell_type": "code",
      "execution_count": 26,
      "metadata": {
        "colab": {
          "base_uri": "https://localhost:8080/"
        },
        "id": "JoXgawHn79nn",
        "outputId": "6c4f946f-af4d-439d-c07b-54db117b843c"
      },
      "outputs": [
        {
          "data": {
            "text/plain": [
              "sentiment\n",
              "negative    40000\n",
              "neutral     40000\n",
              "positive    40000\n",
              "Name: count, dtype: int64"
            ]
          },
          "execution_count": 26,
          "metadata": {},
          "output_type": "execute_result"
        }
      ],
      "source": [
        "df = df_temp\n",
        "df_testdata = df_testdata_temp\n",
        "df.sentiment.value_counts().where(lambda x: x>1).dropna()"
      ]
    },
    {
      "cell_type": "code",
      "execution_count": 27,
      "metadata": {
        "colab": {
          "base_uri": "https://localhost:8080/"
        },
        "id": "0JNext0zai7M",
        "outputId": "958ea48e-de28-492f-e207-a03113d476c4"
      },
      "outputs": [
        {
          "data": {
            "text/plain": [
              "sentiment\n",
              "negative    1000\n",
              "neutral     1000\n",
              "positive    1000\n",
              "Name: count, dtype: int64"
            ]
          },
          "execution_count": 27,
          "metadata": {},
          "output_type": "execute_result"
        }
      ],
      "source": [
        "df_testdata.sentiment.value_counts().where(lambda x: x > 1).dropna()"
      ]
    },
    {
      "cell_type": "code",
      "execution_count": 29,
      "metadata": {
        "colab": {
          "base_uri": "https://localhost:8080/",
          "height": 550
        },
        "id": "eINI59X63KGW",
        "outputId": "7ec99361-b80e-421a-a417-0466d5758190"
      },
      "outputs": [
        {
          "data": {
            "text/plain": [
              "<Axes: xlabel='sentiment'>"
            ]
          },
          "execution_count": 29,
          "metadata": {},
          "output_type": "execute_result"
        },
        {
          "data": {
            "image/png": "[encoded data removed]",
            "text/plain": [
              "<Figure size 1200x800 with 1 Axes>"
            ]
          },
          "metadata": {
            "image/png": {
              "height": 742,
              "width": 1014
            }
          },
          "output_type": "display_data"
        }
      ],
      "source": [
        "colors = [\n",
        "    \"#7f7f7f\",\n",
        "    \"#bcbd22\",\n",
        "    \"#17becf\",\n",
        "    \"#1a55FF\",\n",
        "    \"#1f77b4\",\n",
        "    \"#ff7f0e\",\n",
        "    \"#2ca02c\",\n",
        "    \"#d62728\",\n",
        "    \"#9467bd\",\n",
        "    \"#8c564b\",\n",
        "    \"#e377c2\",\n",
        "]\n",
        "df.sentiment.value_counts().where(lambda x: x > 1000).dropna().plot.bar(color=colors)"
      ]
    },
    {
      "cell_type": "code",
      "execution_count": 30,
      "metadata": {
        "colab": {
          "base_uri": "https://localhost:8080/",
          "height": 164,
          "referenced_widgets": [
            "b23f78283c014533a290c1515e11490c",
            "3e411c9f8bd74d47ae7e60fc0fa1ed4e",
            "e201b4e6170943fc8112d31013565cdf",
            "775e86e5c9ae41a9863a4c1cba26902f",
            "f3ff7065962b4ae2af9891be56a16902",
            "5251f9981dbb4b73982f4c877927879b",
            "9406e3f64943490f863f08de324cd146",
            "f33f896cbf584e39a43316d05f65c04b",
            "0955bd0cf12d436ab7932dc2ff0ec8a9",
            "6ab71c3da48d4737a88d772625d6a2ec",
            "7c70ece882f54db2b414135623b3a674",
            "25aeed40f33e41e683d3918d709f5140",
            "99f1bbc018ed4492b417760a0ed7fabf",
            "432fa70bb38245ab866a0bc0b7d14bfd",
            "7dd250af1f454043aa475d5fac56363a",
            "1e13346067264ba0a84f2646f7513f79",
            "2abadeee39694f75ad36bd36fa9b9e7e",
            "d6093a3e0a664d62b16dac59a8281385",
            "88f3855ac04649e5ba0276f64cf8efd9",
            "d020e1864a3f4c7680c3a8fcb269bad6",
            "1c9006c3458743e0a3d7f9005ca17dbc",
            "28700e0df0384bbaa1fd1cae0f44939f",
            "cee1e1c97b7d4a2bb5e3f2a402edf1b9",
            "1aadb09c02ce4661be1fd824b7ca12df"
          ]
        },
        "id": "XF6eVF1UKaow",
        "outputId": "66423bac-5f9e-4c1e-b0b6-bcf60c8f5784"
      },
      "outputs": [
        {
          "name": "stderr",
          "output_type": "stream",
          "text": [
            "Downloading (…)solve/main/vocab.txt: 100%|██████████| 996k/996k [00:00<00:00, 1.95MB/s]\n",
            "c:\\Users\\RomanGu\\OneDrive - BASF\\Documents\\CODE\\tfmfresh\\lib\\site-packages\\huggingface_hub\\file_download.py:133: UserWarning: `huggingface_hub` cache-system uses symlinks by default to efficiently store duplicated files but your machine does not support them in C:\\Users\\RomanGu\\.cache\\huggingface\\hub. Caching files will still work but in a degraded version that might require more space on your disk. This warning can be disabled by setting the `HF_HUB_DISABLE_SYMLINKS_WARNING` environment variable. For more details, see https://huggingface.co/docs/huggingface_hub/how-to-cache#limitations.\n",
            "To support symlinks on Windows, you either need to activate Developer Mode or to run Python as an administrator. In order to see activate developer mode, see this article: https://docs.microsoft.com/en-us/windows/apps/get-started/enable-your-device-for-development\n",
            "  warnings.warn(message)\n",
            "Downloading (…)okenizer_config.json: 100%|██████████| 29.0/29.0 [00:00<00:00, 4.37kB/s]\n",
            "Downloading (…)lve/main/config.json: 100%|██████████| 625/625 [00:00<00:00, 172kB/s]\n"
          ]
        }
      ],
      "source": [
        "# creamos tokenizador bert\n",
        "tokenizer = BertTokenizer.from_pretrained(PRE_TRAINED_MODEL_NAME)"
      ]
    },
    {
      "cell_type": "code",
      "execution_count": 31,
      "metadata": {
        "colab": {
          "base_uri": "https://localhost:8080/"
        },
        "id": "SWWMYxnbKp7g",
        "outputId": "cbbade58-203f-4358-fb17-1f015b1ce904"
      },
      "outputs": [
        {
          "name": "stdout",
          "output_type": "stream",
          "text": [
            " Sentence: Cuanto fue la ultima vez que salí? Me quedé encerrado en casa dos semanas.\n",
            "   Tokens: ['Cu', '##anto', 'fue', 'la', 'ultima', 'vez', 'que', 'sal', '##í', '?', 'Me', 'que', '##dé', 'en', '##cer', '##rado', 'en', 'casa', 'dos', 'semanas', '.']\n",
            "Token IDs: [34387, 41167, 10553, 10109, 20371, 11675, 10121, 31119, 10545, 136, 11589, 10121, 29239, 10110, 17505, 18781, 10110, 12088, 10398, 33972, 119]\n"
          ]
        }
      ],
      "source": [
        "# frase ejemplo \n",
        "sample_txt = 'Cuanto fue la ultima vez que salí? Me quedé encerrado en casa dos semanas.'\n",
        "# ejemplo tokenización manual (separando x listas )\n",
        "tokens = tokenizer.tokenize(sample_txt)\n",
        "token_ids = tokenizer.convert_tokens_to_ids(tokens)\n",
        "\n",
        "print(f' Sentence: {sample_txt}')\n",
        "print(f'   Tokens: {tokens}')\n",
        "print(f'Token IDs: {token_ids}')"
      ]
    },
    {
      "cell_type": "code",
      "execution_count": 32,
      "metadata": {
        "colab": {
          "base_uri": "https://localhost:8080/"
        },
        "id": "I_pzoJsWK6XG",
        "outputId": "66e0b0fb-ea41-4a88-9b36-1d45de23e39b"
      },
      "outputs": [
        {
          "data": {
            "text/plain": [
              "dict_keys(['input_ids', 'attention_mask'])"
            ]
          },
          "execution_count": 32,
          "metadata": {},
          "output_type": "execute_result"
        }
      ],
      "source": [
        "# Mismo ejemplo pero preparandolo para Pytorch (tensors) con encode_plus\n",
        "\n",
        "sample_txt = \"'Los medicos entregan a Freeman 'Devastado' y encuentran los escaneres cerebrales computerizados.'\"\n",
        "\n",
        "encoding = tokenizer.encode_plus(\n",
        "  sample_txt,\n",
        "  max_length=32,\n",
        "  add_special_tokens=True, # Añadir '[CLS]' & '[SEP]'\n",
        "  return_token_type_ids=False,\n",
        "  padding='max_length',\n",
        "  return_attention_mask=True,\n",
        "  return_tensors='pt',  # Devolver PyTorch tensors\n",
        ")\n",
        "\n",
        "encoding.keys()\n"
      ]
    },
    {
      "cell_type": "code",
      "execution_count": 33,
      "metadata": {
        "colab": {
          "base_uri": "https://localhost:8080/"
        },
        "id": "807R1vytcB3u",
        "outputId": "ce951f63-92c9-4c4f-962f-29334629b414"
      },
      "outputs": [
        {
          "name": "stdout",
          "output_type": "stream",
          "text": [
            "--->longitud tokens: 32\n"
          ]
        },
        {
          "data": {
            "text/plain": [
              "['[CLS]',\n",
              " \"'\",\n",
              " 'Los',\n",
              " 'medico',\n",
              " '##s',\n",
              " 'entrega',\n",
              " '##n',\n",
              " 'a',\n",
              " 'Freeman',\n",
              " \"'\",\n",
              " 'Dev',\n",
              " '##asta',\n",
              " '##do',\n",
              " \"'\",\n",
              " 'y',\n",
              " 'encuentran',\n",
              " 'los',\n",
              " 'es',\n",
              " '##can',\n",
              " '##eres',\n",
              " 'cerebral',\n",
              " '##es',\n",
              " 'computer',\n",
              " '##izados',\n",
              " '.',\n",
              " \"'\",\n",
              " '[SEP]',\n",
              " '[PAD]',\n",
              " '[PAD]',\n",
              " '[PAD]',\n",
              " '[PAD]',\n",
              " '[PAD]']"
            ]
          },
          "execution_count": 33,
          "metadata": {},
          "output_type": "execute_result"
        }
      ],
      "source": [
        "# para ver los tokens (convertirlo a algo legible)\n",
        "print(f\"--->longitud tokens: {len(tokenizer.convert_ids_to_tokens(encoding['input_ids'][0]) )}\")\n",
        "tokenizer.convert_ids_to_tokens(encoding['input_ids'][0]) "
      ]
    },
    {
      "attachments": {},
      "cell_type": "markdown",
      "metadata": {
        "id": "-hnn6D5BLoyS"
      },
      "source": [
        "### Eligiendo la longitud de la secuencia (Sequence Length)\n",
        "\n",
        "BERT funciona bien con secuencias de igual tamaño (longitud). Se usa una estrategia simple para elegir la longitud maxima. \n",
        "\n",
        "Veamos la longitud de los tokens para cada review"
      ]
    },
    {
      "cell_type": "code",
      "execution_count": 34,
      "metadata": {
        "colab": {
          "base_uri": "https://localhost:8080/",
          "height": 577
        },
        "id": "egOCqTiwLiMG",
        "outputId": "d3192992-47eb-447e-c95e-5efab2dbf04f"
      },
      "outputs": [
        {
          "name": "stderr",
          "output_type": "stream",
          "text": [
            "Truncation was not explicitly activated but `max_length` is provided a specific value, please use `truncation=True` to explicitly truncate examples to max length. Defaulting to 'longest_first' truncation strategy. If you encode pairs of sequences (GLUE-style) with the tokenizer you can select this strategy more precisely by providing a specific strategy to `truncation`.\n",
            "C:\\Users\\RomanGu\\AppData\\Local\\Temp\\ipykernel_22840\\192746740.py:7: UserWarning: \n",
            "\n",
            "`distplot` is a deprecated function and will be removed in seaborn v0.14.0.\n",
            "\n",
            "Please adapt your code to use either `displot` (a figure-level function with\n",
            "similar flexibility) or `histplot` (an axes-level function for histograms).\n",
            "\n",
            "For a guide to updating your code to use the new functions, please see\n",
            "https://gist.github.com/mwaskom/de44147ed2974457ad6372750bbe5751\n",
            "\n",
            "  sns.distplot(token_lens)\n"
          ]
        },
        {
          "data": {
            "image/png": "[encoded data removed]",
            "text/plain": [
              "<Figure size 1200x800 with 1 Axes>"
            ]
          },
          "metadata": {
            "image/png": {
              "height": 689,
              "width": 1042
            }
          },
          "output_type": "display_data"
        }
      ],
      "source": [
        "token_lens = []\n",
        "\n",
        "for txt in df.description:\n",
        "  tokens = tokenizer.encode(txt, max_length=512)\n",
        "  token_lens.append(len(tokens))\n",
        "# lo visualizamos para hacernos una idea\n",
        "sns.distplot(token_lens)\n",
        "plt.xlim([0, 256]);\n",
        "plt.xlabel('Token count');\n",
        "\n",
        "# vemos a ojo el numero de tokens.\n",
        "# y asignamos un valor"
      ]
    },
    {
      "cell_type": "code",
      "execution_count": 36,
      "metadata": {
        "id": "dmYybzVbMAxE"
      },
      "outputs": [],
      "source": [
        "# valor para el numero de tokens por lote (ALGO RAZONABLE 160)\n",
        "MAX_LEN = 150"
      ]
    },
    {
      "attachments": {},
      "cell_type": "markdown",
      "metadata": {
        "id": "1YwSw-cnMJye"
      },
      "source": [
        "# Construir el dataset y dataloader"
      ]
    },
    {
      "cell_type": "code",
      "execution_count": 37,
      "metadata": {
        "id": "w_vUG1-PMI3J"
      },
      "outputs": [],
      "source": [
        "# construimos dataloader\n",
        "class GPReviewDataset(Dataset):\n",
        "  # definimos las variables de iniciación con los datos.\n",
        "  def __init__(self, text_toclasify, targets, tokenizer, max_len):\n",
        "    self.reviews = text_toclasify # el texto a clasificar\n",
        "    self.targets = targets # el topic/sentiment/objetivo.\n",
        "    self.tokenizer = tokenizer # el objeto tokenizer de Huggingface o transformación aplicada a los datos\n",
        "    self.max_len = max_len # numero de tokens por frase\n",
        "  \n",
        "  def __len__(self):\n",
        "    return len(self.reviews)\n",
        "  \n",
        "  def __getitem__(self, item):\n",
        "    review = str(self.reviews[item])\n",
        "    target = self.targets[item]\n",
        "    # configuración del tokenizador.\n",
        "    encoding = self.tokenizer.encode_plus(\n",
        "      review,\n",
        "      add_special_tokens=True,\n",
        "      max_length=self.max_len,\n",
        "      return_token_type_ids=False,\n",
        "      #pad_to_max_length=True,\n",
        "      # lets try with:\n",
        "      truncation=True,\n",
        "      padding='max_length',\n",
        "      return_attention_mask=True,\n",
        "      return_tensors='pt',\n",
        "    )\n",
        "    # devolvemos un diccionario con los input codificados.\n",
        "    return {\n",
        "      'review_text': review,\n",
        "      'input_ids': encoding['input_ids'].flatten(),\n",
        "      'attention_mask': encoding['attention_mask'].flatten(),\n",
        "      'targets': torch.tensor(target, dtype=torch.long)\n",
        "    }"
      ]
    },
    {
      "attachments": {},
      "cell_type": "markdown",
      "metadata": {
        "id": "iIGTcSrSonjI"
      },
      "source": [
        "## Train-test split"
      ]
    },
    {
      "cell_type": "code",
      "execution_count": 38,
      "metadata": {
        "id": "c8DcdXh9ogcE"
      },
      "outputs": [],
      "source": [
        "df_train, df_test = train_test_split(df, test_size=0.1, random_state=RANDOM_SEED)\n",
        "# aqui añado los datos csv del segundo dataset `testdata`\n",
        "df_val, df_test2 = train_test_split(df_testdata, test_size=0.5, random_state=RANDOM_SEED)"
      ]
    },
    {
      "cell_type": "code",
      "execution_count": 39,
      "metadata": {
        "colab": {
          "base_uri": "https://localhost:8080/"
        },
        "id": "PC2UayEnosvF",
        "outputId": "9abe635e-d87a-4198-e978-cf4e4c6099b1"
      },
      "outputs": [
        {
          "name": "stdout",
          "output_type": "stream",
          "text": [
            "Training Dataset shape: (108000, 4)\n",
            "Evaluation Dataset shape: (1500, 4)\n",
            "Test Dataset shape: (12000, 4)\n"
          ]
        }
      ],
      "source": [
        "# df_train.shape, df_val.shape, df_test.shape\n",
        "\n",
        "print(\"Training Dataset shape: \" + str(df_train.shape))\n",
        "print(\"Evaluation Dataset shape: \" + str(df_val.shape))\n",
        "print(\"Test Dataset shape: \" + str(df_test.shape))"
      ]
    },
    {
      "cell_type": "code",
      "execution_count": 40,
      "metadata": {
        "id": "GK5MBVGfpOPi"
      },
      "outputs": [],
      "source": [
        "def create_data_loader(df,col_text,col_targets,  tokenizer, max_len, batch_size):\n",
        "  '''\n",
        "  df: nombre del dataframe,\n",
        "  col_text: columna que contiene el texto a procesar,\n",
        "  col_targets: columna con las etiquetas.\n",
        "  max_len: el numero de token por frase, \n",
        "  batch_size: el numero de frases por lote.\n",
        "  '''\n",
        "  ds = GPReviewDataset(\n",
        "    text_toclasify=df[col_text].to_numpy(),\n",
        "    targets=df[col_targets].to_numpy(),\n",
        "    tokenizer=tokenizer,\n",
        "    max_len=max_len\n",
        "  )\n",
        "\n",
        "  return DataLoader(\n",
        "    ds,\n",
        "    batch_size=batch_size,\n",
        "    # Antes el numero de workers era num_workers=4, pero para optimizar mejor el rendimiento el sistema pide 2\n",
        "    num_workers=2\n",
        "  )"
      ]
    },
    {
      "cell_type": "code",
      "execution_count": 41,
      "metadata": {
        "colab": {
          "base_uri": "https://localhost:8080/"
        },
        "id": "YfbHCc1xqk60",
        "outputId": "30dd8508-705f-43a2-8952-66b88db12c9a"
      },
      "outputs": [
        {
          "data": {
            "text/plain": [
              "Index(['stars', 'description', 'sentiment', 'category_encoded'], dtype='object')"
            ]
          },
          "execution_count": 41,
          "metadata": {},
          "output_type": "execute_result"
        }
      ],
      "source": [
        "df.columns"
      ]
    },
    {
      "cell_type": "code",
      "execution_count": 42,
      "metadata": {
        "id": "G6fBbHlLYxH3"
      },
      "outputs": [],
      "source": [
        "### HAY QUE HACER ONE HOT ENCODING PARA PODER METERLO EN EL BERT"
      ]
    },
    {
      "cell_type": "code",
      "execution_count": 43,
      "metadata": {
        "id": "tZOu150Tqejy"
      },
      "outputs": [],
      "source": [
        "train_data_loader = create_data_loader(df_train, \"description\",\"category_encoded\", tokenizer, MAX_LEN, BATCH_SIZE)\n",
        "val_data_loader = create_data_loader(df_val,\"description\",\"category_encoded\",tokenizer, MAX_LEN, BATCH_SIZE)\n",
        "test_data_loader = create_data_loader(df_test,   \"description\",\"category_encoded\",tokenizer, MAX_LEN, BATCH_SIZE)"
      ]
    },
    {
      "cell_type": "code",
      "execution_count": 44,
      "metadata": {
        "colab": {
          "base_uri": "https://localhost:8080/"
        },
        "id": "aWgGXG45q1Cd",
        "outputId": "0945c989-2df8-45d8-ad0e-6bb25cf7e717"
      },
      "outputs": [],
      "source": [
        "# vemos la estructura de un batch para el training\n",
        "data = next(iter(train_data_loader))\n",
        "data.keys()"
      ]
    },
    {
      "cell_type": "code",
      "execution_count": null,
      "metadata": {
        "colab": {
          "base_uri": "https://localhost:8080/"
        },
        "id": "X2Z8VebBq3e0",
        "outputId": "523edc06-c88f-4993-922b-5192137c1b11"
      },
      "outputs": [
        {
          "name": "stdout",
          "output_type": "stream",
          "text": [
            "keys train dataset dict_keys(['review_text', 'input_ids', 'attention_mask', 'targets'])\n",
            "torch.Size([16, 150])\n",
            "torch.Size([16, 150])\n",
            "torch.Size([16])\n"
          ]
        }
      ],
      "source": [
        "print(\"keys train dataset\",data.keys())\n",
        "print(data['input_ids'].shape)\n",
        "print(data['attention_mask'].shape)\n",
        "print(data['targets'].shape)"
      ]
    },
    {
      "cell_type": "code",
      "execution_count": null,
      "metadata": {
        "colab": {
          "base_uri": "https://localhost:8080/"
        },
        "id": "vnbVOR2nhbkH",
        "outputId": "d96458cd-cbc3-4683-8eed-3a77ffaa2fc8"
      },
      "outputs": [
        {
          "name": "stdout",
          "output_type": "stream",
          "text": [
            "keys evaluation dataset dict_keys(['review_text', 'input_ids', 'attention_mask', 'targets'])\n",
            "torch.Size([16, 150])\n",
            "torch.Size([16, 150])\n",
            "torch.Size([16])\n"
          ]
        }
      ],
      "source": [
        "data = next(iter(val_data_loader))\n",
        "print(\"keys evaluation dataset\",data.keys())\n",
        "print(data['input_ids'].shape)\n",
        "print(data['attention_mask'].shape)\n",
        "print(data['targets'].shape)"
      ]
    },
    {
      "cell_type": "code",
      "execution_count": null,
      "metadata": {
        "id": "OMhPsjtHv5UE"
      },
      "outputs": [],
      "source": [
        "# cargamos el modelo BERT\n",
        "#creamos un clasificador BERT para realizar clasificaciones\n",
        "class SentimentClassifier(nn.Module):\n",
        "\n",
        "  def __init__(self, n_classes):\n",
        "    super(SentimentClassifier, self).__init__() # hereda propiedades y methods de otras clases. llama al init de otra clase.\n",
        "    # Cuando creamos nuestro modelo, podemos elegir el modelo base o pillar BertForSequenceClassification.from_pretrained(PRE_TRAINED_MODEL_NAME)\n",
        "    self.bert = BertModel.from_pretrained(PRE_TRAINED_MODEL_NAME)\n",
        "    self.drop = nn.Dropout(p=0.3) # dropout layer\n",
        "    self.out = nn.Linear(self.bert.config.hidden_size, n_classes)\n",
        "  \n",
        "  def forward(self, input_ids, attention_mask):\n",
        "    _, pooled_output = self.bert(\n",
        "      input_ids=input_ids,\n",
        "      attention_mask=attention_mask,\n",
        "      # es necesario añadirlo despues del cambio de la v3 a la v4\n",
        "      return_dict=False \n",
        "    )\n",
        "    output = self.drop(pooled_output)\n",
        "    return self.out(output)"
      ]
    },
    {
      "cell_type": "code",
      "execution_count": null,
      "metadata": {
        "colab": {
          "base_uri": "https://localhost:8080/"
        },
        "id": "cTiTkP12znqi",
        "outputId": "ddabbb7e-1052-4bb4-91f7-b9194bbd99e9"
      },
      "outputs": [
        {
          "name": "stdout",
          "output_type": "stream",
          "text": [
            "Numero de cagetorias: 3\n"
          ]
        }
      ],
      "source": [
        "class_names=le.classes_\n",
        "# print(f\"Numero de cagetorias: {len(class_names)}\")\n",
        "print(f\"Numero de cagetorias: {len(le.classes_)}\")"
      ]
    },
    {
      "attachments": {},
      "cell_type": "markdown",
      "metadata": {
        "id": "cd3En_92e3pt"
      },
      "source": [
        "## asignamos el modelo"
      ]
    },
    {
      "cell_type": "code",
      "execution_count": null,
      "metadata": {
        "colab": {
          "base_uri": "https://localhost:8080/",
          "height": 186,
          "referenced_widgets": [
            "9cea015efc72450f93fd450ede6f048d",
            "33ed3721abda472aa6c8149879303d9d",
            "f1e19a1e9cab4cdbb9a98275e49cb59d",
            "b702bbf26cb74def93c75417a102d0bc",
            "70fbcc5ef710496fba6cf7affac23e4c",
            "3891a28d372e491a9a60517f846403e3",
            "74647a7de8b24fdcbca801c91c29ecaa",
            "0289c2d93f6847cba98ec5578d067db8",
            "3f0dd3c3b3044797a8a6f25ccbabf06f",
            "e533b04253e941e4b390943aaa76e4c2",
            "29b17462cceb4098a5e53c20ae7b0800",
            "7e381437c5454948b7e52db42b2531ac",
            "1c2fd874ce3a4098988e4558a942d925",
            "dd3ce68f63794d1c85858b0b3e610215",
            "0c86b0bd71c543529ebdf19b066a7d5c",
            "3464eaaf0c194407bb1aa29e31dd22cb"
          ]
        },
        "id": "CzF5yPLCzUsW",
        "outputId": "66cc70f3-8e68-4769-f4f8-19176b78df96"
      },
      "outputs": [
        {
          "data": {
            "application/vnd.jupyter.widget-view+json": {
              "model_id": "9cea015efc72450f93fd450ede6f048d",
              "version_major": 2,
              "version_minor": 0
            },
            "text/plain": [
              "HBox(children=(FloatProgress(value=0.0, description='Downloading', max=383.0, style=ProgressStyle(description_…"
            ]
          },
          "metadata": {
            "tags": []
          },
          "output_type": "display_data"
        },
        {
          "name": "stdout",
          "output_type": "stream",
          "text": [
            "\n"
          ]
        },
        {
          "data": {
            "application/vnd.jupyter.widget-view+json": {
              "model_id": "3f0dd3c3b3044797a8a6f25ccbabf06f",
              "version_major": 2,
              "version_minor": 0
            },
            "text/plain": [
              "HBox(children=(FloatProgress(value=0.0, description='Downloading', max=45088961.0, style=ProgressStyle(descrip…"
            ]
          },
          "metadata": {
            "tags": []
          },
          "output_type": "display_data"
        },
        {
          "name": "stderr",
          "output_type": "stream",
          "text": [
            "Some weights of the model checkpoint at google/bert_uncased_L-4_H-256_A-4 were not used when initializing BertModel: ['cls.seq_relationship.bias', 'cls.predictions.decoder.weight', 'cls.predictions.bias', 'cls.predictions.transform.dense.bias', 'cls.predictions.decoder.bias', 'cls.predictions.transform.dense.weight', 'cls.predictions.transform.LayerNorm.weight', 'cls.predictions.transform.LayerNorm.bias', 'cls.seq_relationship.weight']\n",
            "- This IS expected if you are initializing BertModel from the checkpoint of a model trained on another task or with another architecture (e.g. initializing a BertForSequenceClassification model from a BertForPreTraining model).\n",
            "- This IS NOT expected if you are initializing BertModel from the checkpoint of a model that you expect to be exactly identical (initializing a BertForSequenceClassification model from a BertForSequenceClassification model).\n"
          ]
        },
        {
          "name": "stdout",
          "output_type": "stream",
          "text": [
            "\n"
          ]
        }
      ],
      "source": [
        "# asignamos el modelo a un objeto, le pasamos como argumento el countdistinct de todas las etiquetas que tenemos.\n",
        "# y lo movemos a la memoria de la GPU\n",
        "\n",
        "model = SentimentClassifier(len(le.classes_))\n",
        "model = model.to(device)"
      ]
    },
    {
      "attachments": {},
      "cell_type": "markdown",
      "metadata": {
        "id": "g9xikRdtRN1N"
      },
      "source": [
        "### Training"
      ]
    },
    {
      "attachments": {},
      "cell_type": "markdown",
      "metadata": {
        "id": "76g7FV85H-T8"
      },
      "source": [
        "Para reproducir el procedimiento de entrenamiento del **documento BERT**  usaremos el optimizador [AdamW](https://huggingface.co/transformers/main_classes/optimizer_schedules.html#adamw) de Hugging Face. Corregirá el reparto/decadencia de pesos (weight decay), para que sea similar al documento original.  Tambien usaremos un planificador lineal (para la curva de aprendizaje) sin steps de calentamiento (warmup steps). "
      ]
    },
    {
      "cell_type": "code",
      "execution_count": null,
      "metadata": {
        "id": "5v-ArJ2fCCcU"
      },
      "outputs": [],
      "source": [
        "# EPOCHS = 4 # 10\n",
        "# LEARNING_RATE = 2e-5\n",
        "optimizer = AdamW(model.parameters(), lr=LEARNING_RATE, correct_bias=False)\n",
        "total_steps = len(train_data_loader) * EPOCHS\n",
        "\n",
        "scheduler = get_linear_schedule_with_warmup(\n",
        "  optimizer,\n",
        "  num_warmup_steps=0,\n",
        "  num_training_steps=total_steps\n",
        ")\n",
        "# la funcion de perdida en este caso es entropia cruzada, que combina LogSoftMax y NLLLoss en una sola clase. Muy utilizada en ML y concretamente en clasificación multietiqueta. \n",
        "loss_fn = nn.CrossEntropyLoss().to(device)"
      ]
    },
    {
      "attachments": {},
      "cell_type": "markdown",
      "metadata": {
        "id": "A8522g7JIu5J"
      },
      "source": [
        "¿Cómo llegamos a la conclusion de usar este numero de hiperparámetros? Los autores de BERT tienen algunas recomendaciones para el ajuste fino: \n",
        "\n",
        "- Batch size: 16, 32\n",
        "- Learning rate (Adam): 5e-5, 3e-5, 2e-5\n",
        "- Number of epochs: 2, 3, 4\n",
        "\n",
        "Vamos a ignorar la recomendación del numero de \"vueltas\" *epochs* pero nos quedamos con el resto. A tener en cuenta, que al aumentar el tamaño del lote (batch size) se reduce significativamente el tiempo de entrenamiento a costas de una menor precision (lower accuracy).\n",
        "\n",
        "Escribimos una funcion auxiliar que nos ayude a entrenar nuestro modelo solo una vuelta."
      ]
    },
    {
      "cell_type": "code",
      "execution_count": null,
      "metadata": {
        "id": "bzl9UhuNx1_Q"
      },
      "outputs": [],
      "source": [
        "def train_epoch(\n",
        "  model, \n",
        "  data_loader, \n",
        "  loss_fn, \n",
        "  optimizer, \n",
        "  device, \n",
        "  scheduler, \n",
        "  n_examples\n",
        "):\n",
        "  model = model.train()\n",
        "\n",
        "  losses = []\n",
        "  correct_predictions = 0\n",
        "  # aqui el Scheduler se llama cada vez que se alimenta otro lote (d) al modelo.\n",
        "  for d in data_loader:\n",
        "    input_ids = d[\"input_ids\"].to(device)\n",
        "    attention_mask = d[\"attention_mask\"].to(device)\n",
        "    targets = d[\"targets\"].to(device)\n",
        "    # outputs del modelo \n",
        "    outputs = model(\n",
        "      input_ids=input_ids,\n",
        "      attention_mask=attention_mask\n",
        "    )\n",
        "\n",
        "    _, preds = torch.max(outputs, dim=1)\n",
        "    # \n",
        "    loss = loss_fn(outputs, targets)\n",
        "\n",
        "    correct_predictions += torch.sum(preds == targets)\n",
        "    losses.append(loss.item())\n",
        "\n",
        "    loss.backward()\n",
        "    # con clip_grad_norm normalizamos los parametros del modelo evitando Gradient exploding\n",
        "    nn.utils.clip_grad_norm_(model.parameters(), max_norm=1.0)\n",
        "    optimizer.step()\n",
        "    scheduler.step()\n",
        "    optimizer.zero_grad()\n",
        "\n",
        "  return correct_predictions.double() / n_examples, np.mean(losses)"
      ]
    },
    {
      "attachments": {},
      "cell_type": "markdown",
      "metadata": {
        "id": "336WoqhwVwA9"
      },
      "source": [
        "# Evaluar el modelo\n",
        "funcion para evaluar el modelo y luego crear loop"
      ]
    },
    {
      "cell_type": "code",
      "execution_count": null,
      "metadata": {
        "id": "yx4pU4RXVut0"
      },
      "outputs": [],
      "source": [
        "def eval_model(model, data_loader, loss_fn, device, n_examples):\n",
        "  model = model.eval()\n",
        "\n",
        "  losses = []\n",
        "  correct_predictions = 0\n",
        "\n",
        "  with torch.no_grad():\n",
        "    for d in data_loader:\n",
        "      input_ids = d[\"input_ids\"].to(device)\n",
        "      attention_mask = d[\"attention_mask\"].to(device)\n",
        "      targets = d[\"targets\"].to(device)\n",
        "\n",
        "      outputs = model(\n",
        "        input_ids=input_ids,\n",
        "        attention_mask=attention_mask\n",
        "      )\n",
        "      _, preds = torch.max(outputs, dim=1)\n",
        "\n",
        "      loss = loss_fn(outputs, targets)\n",
        "\n",
        "      correct_predictions += torch.sum(preds == targets)\n",
        "      losses.append(loss.item())\n",
        "\n",
        "  return correct_predictions.double() / n_examples, np.mean(losses)"
      ]
    },
    {
      "attachments": {},
      "cell_type": "markdown",
      "metadata": {
        "id": "9c27XnwfWHoU"
      },
      "source": [
        "### loop de entrenamiento"
      ]
    },
    {
      "cell_type": "code",
      "execution_count": null,
      "metadata": {
        "colab": {
          "base_uri": "https://localhost:8080/"
        },
        "id": "ANzYwBuiWG8X",
        "outputId": "18b812be-593d-4d92-fd15-04a4d11f1b58"
      },
      "outputs": [
        {
          "name": "stdout",
          "output_type": "stream",
          "text": [
            "Epoch 1/4\n",
            "----------\n",
            "Train loss 0.3266758765876293 accuracy 0.8873960628900536\n",
            "Val   loss 0.2985817668255137 accuracy 0.8955263157894736\n",
            "Epoch 2/4\n",
            "----------\n",
            "Train loss 0.24869657614937535 accuracy 0.914766940128521\n",
            "Val   loss 0.2776578267832764 accuracy 0.9071052631578947\n",
            "Epoch 3/4\n",
            "----------\n",
            "Train loss 0.21921244114471805 accuracy 0.9250449082390415\n",
            "Val   loss 0.2708842696293312 accuracy 0.9107894736842105\n",
            "Epoch 4/4\n",
            "----------\n",
            "Train loss 0.20239636412538864 accuracy 0.9317116983647846\n",
            "Val   loss 0.2680794372685066 accuracy 0.9134210526315789\n",
            "CPU times: user 24min 39s, sys: 13.3 s, total: 24min 53s\n",
            "Wall time: 25min 42s\n"
          ]
        }
      ],
      "source": [
        "%%time\n",
        "\n",
        "history = defaultdict(list)# creamos un diccionario de listas vacio, para añadir las vueltas\n",
        "best_accuracy = 0\n",
        "\n",
        "for epoch in range(EPOCHS):\n",
        "\n",
        "  print(f'Epoch {epoch + 1}/{EPOCHS}')\n",
        "  print('-' * 10)\n",
        "\n",
        "  train_acc, train_loss = train_epoch(\n",
        "    model,\n",
        "    train_data_loader,    \n",
        "    loss_fn, \n",
        "    optimizer, \n",
        "    device, \n",
        "    scheduler, \n",
        "    len(df_train)\n",
        "  )\n",
        "\n",
        "  print(f'Train loss {train_loss} accuracy {train_acc}')\n",
        "\n",
        "  val_acc, val_loss = eval_model(\n",
        "    model,\n",
        "    val_data_loader,\n",
        "    loss_fn, \n",
        "    device, \n",
        "    len(df_val)\n",
        "  )\n",
        "\n",
        "  print(f'Val   loss {val_loss} accuracy {val_acc}')\n",
        "\n",
        "  history['train_acc'].append(train_acc)\n",
        "  history['train_loss'].append(train_loss)\n",
        "  history['val_acc'].append(val_acc)\n",
        "  history['val_loss'].append(val_loss)\n",
        "  # almacenamos el mejor estado del modelo \n",
        "  if val_acc > best_accuracy:\n",
        "    torch.save(model.state_dict(), 'best_model_state.bin')\n",
        "    best_accuracy = val_acc"
      ]
    },
    {
      "cell_type": "code",
      "execution_count": null,
      "metadata": {
        "id": "dwld1s97UL6r"
      },
      "outputs": [],
      "source": [
        "if not os.path.exists('./modelos'):\n",
        "    os.makedirs('./modelos')"
      ]
    },
    {
      "cell_type": "code",
      "execution_count": null,
      "metadata": {
        "colab": {
          "base_uri": "https://localhost:8080/",
          "height": 35
        },
        "id": "oLV3w1ONS6F0",
        "outputId": "741a35fe-14a1-4b4f-9299-cadccd042e26"
      },
      "outputs": [
        {
          "data": {
            "application/vnd.google.colaboratory.intrinsic+json": {
              "type": "string"
            },
            "text/plain": [
              "'/content/gdrive/MyDrive/modelos/20210713_144247_503393_best_model_state.bin'"
            ]
          },
          "execution_count": 10,
          "metadata": {
            "tags": []
          },
          "output_type": "execute_result"
        }
      ],
      "source": [
        "# si el modelo es de nuestro agrado podemos guardarlo en drive\n",
        "import datetime\n",
        "import os\n",
        "startdate=str(datetime.datetime.now())\n",
        "startdate=startdate.replace(' ','_').replace(':','').replace('-','').replace('.','_')\n",
        "\n",
        "ruta_guardado = os.path.join('./modelos',startdate+\"_\"+'bert_model_state.bin')\n",
        "# !cp {'best_model_state.bin'} {ruta_guardado}"
      ]
    },
    {
      "attachments": {},
      "cell_type": "markdown",
      "metadata": {
        "id": "wLQf52c7fbzr"
      },
      "source": [
        "Ahora podemos ver el historial de entrenamiento Vs la precisión de la validación."
      ]
    },
    {
      "cell_type": "code",
      "execution_count": null,
      "metadata": {
        "colab": {
          "base_uri": "https://localhost:8080/",
          "height": 523
        },
        "id": "-FWG7kBm372V",
        "outputId": "8a90d8d9-ace1-4f47-f143-fea914735809"
      },
      "outputs": [
        {
          "data": {
            "image/png": "[encoded data removed]",
            "text/plain": [
              "<Figure size 864x576 with 1 Axes>"
            ]
          },
          "metadata": {
            "image/png": {
              "height": 506,
              "width": 732
            },
            "tags": []
          },
          "output_type": "display_data"
        }
      ],
      "source": [
        "plt.plot(history['train_acc'], label='train accuracy') # precisión de entrenamiento\n",
        "plt.plot(history['val_acc'], label='validation accuracy') # precisión de validación.\n",
        "\n",
        "plt.title('Historial de entrenamiento')\n",
        "plt.ylabel('Accuracy')\n",
        "plt.xlabel('Epoch')\n",
        "plt.legend()\n",
        "plt.ylim([0, 1]);"
      ]
    },
    {
      "attachments": {},
      "cell_type": "markdown",
      "metadata": {
        "id": "U3HZb3NWFtFf"
      },
      "source": [
        "## Evaluacion\n",
        "Como sabemos que nuestro modelo está prediciendo bien? Se empieza calculando la precisión en nuestro set de prueba."
      ]
    },
    {
      "cell_type": "code",
      "execution_count": null,
      "metadata": {
        "colab": {
          "base_uri": "https://localhost:8080/"
        },
        "id": "jS3gJ_qBEljD",
        "outputId": "6de5eca4-3996-453d-bb0b-83d08ca4f043"
      },
      "outputs": [
        {
          "data": {
            "text/plain": [
              "0.91875"
            ]
          },
          "execution_count": 51,
          "metadata": {
            "tags": []
          },
          "output_type": "execute_result"
        }
      ],
      "source": [
        "test_acc, _ = eval_model(\n",
        "  model,\n",
        "  test_data_loader,\n",
        "  loss_fn,\n",
        "  device,\n",
        "  len(df_test)\n",
        ")\n",
        "\n",
        "test_acc.item()"
      ]
    },
    {
      "attachments": {},
      "cell_type": "markdown",
      "metadata": {
        "id": "mdQ7-ylCj8Gd"
      },
      "source": [
        "La precisión es casi un 1% mas baja que en la de validación. Nuestro modelo parece generalizar bien.\n",
        "\n",
        "Este modelo con tan solo 40MB de peso y 4 epochs nos ha permitido alcanzar casi un 90% de accuracy en menos de 30 min utilizando GPU.\n",
        "\n",
        "Definamos una función para ayudarnos a tomar predicciones de nuestro modelo:"
      ]
    },
    {
      "cell_type": "code",
      "execution_count": null,
      "metadata": {
        "id": "EgR6MuNS8jr_"
      },
      "outputs": [],
      "source": [
        "def get_predictions(model, data_loader):\n",
        "  model = model.eval()\n",
        "  \n",
        "  review_texts = []\n",
        "  predictions = []\n",
        "  prediction_probs = []\n",
        "  real_values = []\n",
        "\n",
        "  with torch.no_grad():\n",
        "    for d in data_loader:\n",
        "\n",
        "      texts = d[\"review_text\"]\n",
        "      input_ids = d[\"input_ids\"].to(device)\n",
        "      attention_mask = d[\"attention_mask\"].to(device)\n",
        "      targets = d[\"targets\"].to(device)\n",
        "\n",
        "      outputs = model(\n",
        "        input_ids=input_ids,\n",
        "        attention_mask=attention_mask\n",
        "      )\n",
        "      _, preds = torch.max(outputs, dim=1)\n",
        "\n",
        "      probs = F.softmax(outputs, dim=1)\n",
        "\n",
        "      review_texts.extend(texts)\n",
        "      predictions.extend(preds)\n",
        "      prediction_probs.extend(probs)\n",
        "      real_values.extend(targets)\n",
        "\n",
        "  predictions = torch.stack(predictions).cpu()\n",
        "  prediction_probs = torch.stack(prediction_probs).cpu()\n",
        "  real_values = torch.stack(real_values).cpu()\n",
        "  return review_texts, predictions, prediction_probs, real_values"
      ]
    },
    {
      "attachments": {},
      "cell_type": "markdown",
      "metadata": {
        "id": "dkbnBTI7kd_y"
      },
      "source": [
        "Esto es similar a la función de evaluación, excepto que almacenamos el texto de las Reviews y las predicciones. (aplicando la función softmax en la salida del modelo):\n"
      ]
    },
    {
      "cell_type": "code",
      "execution_count": null,
      "metadata": {
        "id": "zHdPZr60-0c_"
      },
      "outputs": [],
      "source": [
        "y_review_texts, y_pred, y_pred_probs, y_test = get_predictions(\n",
        "  model,\n",
        "  test_data_loader\n",
        ")"
      ]
    },
    {
      "attachments": {},
      "cell_type": "markdown",
      "metadata": {
        "id": "gVwoVij2lC7F"
      },
      "source": [
        "Veeamos el informe de la clasificación."
      ]
    },
    {
      "cell_type": "code",
      "execution_count": null,
      "metadata": {
        "colab": {
          "base_uri": "https://localhost:8080/"
        },
        "id": "L8a9_8-ND3Is",
        "outputId": "1c9310da-7f32-4486-a473-889f6b86413e"
      },
      "outputs": [
        {
          "name": "stdout",
          "output_type": "stream",
          "text": [
            "              precision    recall  f1-score   support\n",
            "\n",
            "    Business       0.90      0.86      0.88      3018\n",
            "    Sci/Tech       0.88      0.90      0.89      3039\n",
            "      Sports       0.97      0.98      0.97      2976\n",
            "       World       0.93      0.93      0.93      2967\n",
            "\n",
            "    accuracy                           0.92     12000\n",
            "   macro avg       0.92      0.92      0.92     12000\n",
            "weighted avg       0.92      0.92      0.92     12000\n",
            "\n"
          ]
        }
      ],
      "source": [
        "print(classification_report(y_test, y_pred, target_names=class_names))\n",
        "print(accuracy_score(y_test, y_pred))"
      ]
    },
    {
      "attachments": {},
      "cell_type": "markdown",
      "metadata": {
        "id": "rFAekw3mmWUi"
      },
      "source": [
        "VER SI ESTA EVALUANDO CORRECTAMENTE.\n",
        "\n",
        "La matriz de confusión:"
      ]
    },
    {
      "cell_type": "code",
      "execution_count": null,
      "metadata": {
        "colab": {
          "base_uri": "https://localhost:8080/",
          "height": 534
        },
        "id": "6d1qxsc__DTh",
        "outputId": "636d39ad-f45d-4e68-e382-3838cd2cf8d4"
      },
      "outputs": [
        {
          "data": {
            "image/png": "[encoded data removed]",
            "text/plain": [
              "<Figure size 864x576 with 2 Axes>"
            ]
          },
          "metadata": {
            "image/png": {
              "height": 517,
              "width": 734
            },
            "tags": []
          },
          "output_type": "display_data"
        }
      ],
      "source": [
        "def show_confusion_matrix(confusion_matrix):\n",
        "  hmap = sns.heatmap(confusion_matrix, annot=True, fmt=\"d\", cmap=\"Blues\")\n",
        "  hmap.yaxis.set_ticklabels(hmap.yaxis.get_ticklabels(), rotation=0, ha='right')\n",
        "  hmap.xaxis.set_ticklabels(hmap.xaxis.get_ticklabels(), rotation=30, ha='right')\n",
        "  plt.ylabel('True category')\n",
        "  plt.xlabel('Predicted category');\n",
        "\n",
        "cm = confusion_matrix(y_test, y_pred)\n",
        "df_cm = pd.DataFrame(cm, index=class_names, columns=class_names)\n",
        "show_confusion_matrix(df_cm)"
      ]
    },
    {
      "cell_type": "code",
      "execution_count": null,
      "metadata": {
        "id": "BbjNCs5IXRj-"
      },
      "outputs": [],
      "source": [
        "## VER AQUI FALSOS POSITIVOS Y AJUSTE\n",
        "'''\n",
        "Como podemos observar, al modelo le cuesta diferenciar entre ciencia y tecnología\\n\n",
        "y Negocios, estas categorias agrupan la mayor concentración de falsos positivos.\n",
        "'''"
      ]
    },
    {
      "cell_type": "code",
      "execution_count": null,
      "metadata": {
        "id": "iANBiY3sLo-K"
      },
      "outputs": [],
      "source": [
        "idx = 2\n",
        "\n",
        "review_text = y_review_texts[idx]\n",
        "true_category = y_test[idx]\n",
        "pred_df = pd.DataFrame({\n",
        "  'class_names': class_names,\n",
        "  'values': y_pred_probs[idx]\n",
        "})"
      ]
    },
    {
      "cell_type": "code",
      "execution_count": null,
      "metadata": {
        "colab": {
          "base_uri": "https://localhost:8080/"
        },
        "id": "-8D0rb1yfnv4",
        "outputId": "12668627-267d-4821-998d-ea0a33ac5989"
      },
      "outputs": [
        {
          "name": "stdout",
          "output_type": "stream",
          "text": [
            "GREEN BAY, WIS. - Lovie Smith did not take long to fulfill his No. 1\n",
            "goal of beating Green Bay. But the man who helped him do it wasn #39;t\n",
            "around afterward to celebrate.\n",
            "\n",
            "True classification: Sports\n"
          ]
        }
      ],
      "source": [
        "print(\"\\n\".join(wrap(review_text)))\n",
        "print()\n",
        "print(f'True category: {class_names[true_category]}')"
      ]
    },
    {
      "attachments": {},
      "cell_type": "markdown",
      "metadata": {
        "id": "f7hj_IZFnn2X"
      },
      "source": [
        "Ahora podemos mirar la confianza de cada clasificación de nuestro modelo:"
      ]
    },
    {
      "cell_type": "code",
      "execution_count": null,
      "metadata": {
        "colab": {
          "base_uri": "https://localhost:8080/",
          "height": 506
        },
        "id": "XmdTvuIXXsVq",
        "outputId": "da8898ba-cb03-4b94-bcdf-581d1e6f7c1d"
      },
      "outputs": [
        {
          "data": {
            "image/png": "[encoded data removed]",
            "text/plain": [
              "<Figure size 864x576 with 1 Axes>"
            ]
          },
          "metadata": {
            "image/png": {
              "height": 489,
              "width": 780
            },
            "tags": []
          },
          "output_type": "display_data"
        }
      ],
      "source": [
        "# VER LA CONFIANZA DE LA PREDICCIÓN DEL EJEMPLO ANTERIOR.\n",
        "sns.barplot(x='values', y='class_names', data=pred_df, orient='h')\n",
        "plt.ylabel('category')\n",
        "plt.xlabel('probability')\n",
        "plt.xlim([0, 1]);"
      ]
    },
    {
      "cell_type": "code",
      "execution_count": null,
      "metadata": {},
      "outputs": [],
      "source": []
    }
  ],
  "metadata": {
    "colab": {
      "name": "Clasificacion BERT + Pytorch (mismo dataset que spark) SPANISH.ipynb",
      "provenance": []
    },
    "kernelspec": {
      "display_name": "Python 3",
      "name": "python3"
    },
    "language_info": {
      "codemirror_mode": {
        "name": "ipython",
        "version": 3
      },
      "file_extension": ".py",
      "mimetype": "text/x-python",
      "name": "python",
      "nbconvert_exporter": "python",
      "pygments_lexer": "ipython3",
      "version": "3.8.1"
    },
    "widgets": {
      "application/vnd.jupyter.widget-state+json": {
        "0289c2d93f6847cba98ec5578d067db8": {
          "model_module": "@jupyter-widgets/base",
          "model_module_version": "1.2.0",
          "model_name": "LayoutModel",
          "state": {
            "_model_module": "@jupyter-widgets/base",
            "_model_module_version": "1.2.0",
            "_model_name": "LayoutModel",
            "_view_count": null,
            "_view_module": "@jupyter-widgets/base",
            "_view_module_version": "1.2.0",
            "_view_name": "LayoutView",
            "align_content": null,
            "align_items": null,
            "align_self": null,
            "border": null,
            "bottom": null,
            "display": null,
            "flex": null,
            "flex_flow": null,
            "grid_area": null,
            "grid_auto_columns": null,
            "grid_auto_flow": null,
            "grid_auto_rows": null,
            "grid_column": null,
            "grid_gap": null,
            "grid_row": null,
            "grid_template_areas": null,
            "grid_template_columns": null,
            "grid_template_rows": null,
            "height": null,
            "justify_content": null,
            "justify_items": null,
            "left": null,
            "margin": null,
            "max_height": null,
            "max_width": null,
            "min_height": null,
            "min_width": null,
            "object_fit": null,
            "object_position": null,
            "order": null,
            "overflow": null,
            "overflow_x": null,
            "overflow_y": null,
            "padding": null,
            "right": null,
            "top": null,
            "visibility": null,
            "width": null
          }
        },
        "0955bd0cf12d436ab7932dc2ff0ec8a9": {
          "model_module": "@jupyter-widgets/controls",
          "model_module_version": "1.5.0",
          "model_name": "HBoxModel",
          "state": {
            "_dom_classes": [],
            "_model_module": "@jupyter-widgets/controls",
            "_model_module_version": "1.5.0",
            "_model_name": "HBoxModel",
            "_view_count": null,
            "_view_module": "@jupyter-widgets/controls",
            "_view_module_version": "1.5.0",
            "_view_name": "HBoxView",
            "box_style": "",
            "children": [
              "IPY_MODEL_7c70ece882f54db2b414135623b3a674",
              "IPY_MODEL_25aeed40f33e41e683d3918d709f5140"
            ],
            "layout": "IPY_MODEL_6ab71c3da48d4737a88d772625d6a2ec"
          }
        },
        "0c86b0bd71c543529ebdf19b066a7d5c": {
          "model_module": "@jupyter-widgets/controls",
          "model_module_version": "1.5.0",
          "model_name": "DescriptionStyleModel",
          "state": {
            "_model_module": "@jupyter-widgets/controls",
            "_model_module_version": "1.5.0",
            "_model_name": "DescriptionStyleModel",
            "_view_count": null,
            "_view_module": "@jupyter-widgets/base",
            "_view_module_version": "1.2.0",
            "_view_name": "StyleView",
            "description_width": ""
          }
        },
        "1aadb09c02ce4661be1fd824b7ca12df": {
          "model_module": "@jupyter-widgets/base",
          "model_module_version": "1.2.0",
          "model_name": "LayoutModel",
          "state": {
            "_model_module": "@jupyter-widgets/base",
            "_model_module_version": "1.2.0",
            "_model_name": "LayoutModel",
            "_view_count": null,
            "_view_module": "@jupyter-widgets/base",
            "_view_module_version": "1.2.0",
            "_view_name": "LayoutView",
            "align_content": null,
            "align_items": null,
            "align_self": null,
            "border": null,
            "bottom": null,
            "display": null,
            "flex": null,
            "flex_flow": null,
            "grid_area": null,
            "grid_auto_columns": null,
            "grid_auto_flow": null,
            "grid_auto_rows": null,
            "grid_column": null,
            "grid_gap": null,
            "grid_row": null,
            "grid_template_areas": null,
            "grid_template_columns": null,
            "grid_template_rows": null,
            "height": null,
            "justify_content": null,
            "justify_items": null,
            "left": null,
            "margin": null,
            "max_height": null,
            "max_width": null,
            "min_height": null,
            "min_width": null,
            "object_fit": null,
            "object_position": null,
            "order": null,
            "overflow": null,
            "overflow_x": null,
            "overflow_y": null,
            "padding": null,
            "right": null,
            "top": null,
            "visibility": null,
            "width": null
          }
        },
        "1c2fd874ce3a4098988e4558a942d925": {
          "model_module": "@jupyter-widgets/controls",
          "model_module_version": "1.5.0",
          "model_name": "ProgressStyleModel",
          "state": {
            "_model_module": "@jupyter-widgets/controls",
            "_model_module_version": "1.5.0",
            "_model_name": "ProgressStyleModel",
            "_view_count": null,
            "_view_module": "@jupyter-widgets/base",
            "_view_module_version": "1.2.0",
            "_view_name": "StyleView",
            "bar_color": null,
            "description_width": "initial"
          }
        },
        "1c9006c3458743e0a3d7f9005ca17dbc": {
          "model_module": "@jupyter-widgets/controls",
          "model_module_version": "1.5.0",
          "model_name": "ProgressStyleModel",
          "state": {
            "_model_module": "@jupyter-widgets/controls",
            "_model_module_version": "1.5.0",
            "_model_name": "ProgressStyleModel",
            "_view_count": null,
            "_view_module": "@jupyter-widgets/base",
            "_view_module_version": "1.2.0",
            "_view_name": "StyleView",
            "bar_color": null,
            "description_width": "initial"
          }
        },
        "1e13346067264ba0a84f2646f7513f79": {
          "model_module": "@jupyter-widgets/base",
          "model_module_version": "1.2.0",
          "model_name": "LayoutModel",
          "state": {
            "_model_module": "@jupyter-widgets/base",
            "_model_module_version": "1.2.0",
            "_model_name": "LayoutModel",
            "_view_count": null,
            "_view_module": "@jupyter-widgets/base",
            "_view_module_version": "1.2.0",
            "_view_name": "LayoutView",
            "align_content": null,
            "align_items": null,
            "align_self": null,
            "border": null,
            "bottom": null,
            "display": null,
            "flex": null,
            "flex_flow": null,
            "grid_area": null,
            "grid_auto_columns": null,
            "grid_auto_flow": null,
            "grid_auto_rows": null,
            "grid_column": null,
            "grid_gap": null,
            "grid_row": null,
            "grid_template_areas": null,
            "grid_template_columns": null,
            "grid_template_rows": null,
            "height": null,
            "justify_content": null,
            "justify_items": null,
            "left": null,
            "margin": null,
            "max_height": null,
            "max_width": null,
            "min_height": null,
            "min_width": null,
            "object_fit": null,
            "object_position": null,
            "order": null,
            "overflow": null,
            "overflow_x": null,
            "overflow_y": null,
            "padding": null,
            "right": null,
            "top": null,
            "visibility": null,
            "width": null
          }
        },
        "25aeed40f33e41e683d3918d709f5140": {
          "model_module": "@jupyter-widgets/controls",
          "model_module_version": "1.5.0",
          "model_name": "HTMLModel",
          "state": {
            "_dom_classes": [],
            "_model_module": "@jupyter-widgets/controls",
            "_model_module_version": "1.5.0",
            "_model_name": "HTMLModel",
            "_view_count": null,
            "_view_module": "@jupyter-widgets/controls",
            "_view_module_version": "1.5.0",
            "_view_name": "HTMLView",
            "description": "",
            "description_tooltip": null,
            "layout": "IPY_MODEL_1e13346067264ba0a84f2646f7513f79",
            "placeholder": "​",
            "style": "IPY_MODEL_7dd250af1f454043aa475d5fac56363a",
            "value": " 29.0/29.0 [00:00&lt;00:00, 55.0B/s]"
          }
        },
        "28700e0df0384bbaa1fd1cae0f44939f": {
          "model_module": "@jupyter-widgets/base",
          "model_module_version": "1.2.0",
          "model_name": "LayoutModel",
          "state": {
            "_model_module": "@jupyter-widgets/base",
            "_model_module_version": "1.2.0",
            "_model_name": "LayoutModel",
            "_view_count": null,
            "_view_module": "@jupyter-widgets/base",
            "_view_module_version": "1.2.0",
            "_view_name": "LayoutView",
            "align_content": null,
            "align_items": null,
            "align_self": null,
            "border": null,
            "bottom": null,
            "display": null,
            "flex": null,
            "flex_flow": null,
            "grid_area": null,
            "grid_auto_columns": null,
            "grid_auto_flow": null,
            "grid_auto_rows": null,
            "grid_column": null,
            "grid_gap": null,
            "grid_row": null,
            "grid_template_areas": null,
            "grid_template_columns": null,
            "grid_template_rows": null,
            "height": null,
            "justify_content": null,
            "justify_items": null,
            "left": null,
            "margin": null,
            "max_height": null,
            "max_width": null,
            "min_height": null,
            "min_width": null,
            "object_fit": null,
            "object_position": null,
            "order": null,
            "overflow": null,
            "overflow_x": null,
            "overflow_y": null,
            "padding": null,
            "right": null,
            "top": null,
            "visibility": null,
            "width": null
          }
        },
        "29b17462cceb4098a5e53c20ae7b0800": {
          "model_module": "@jupyter-widgets/controls",
          "model_module_version": "1.5.0",
          "model_name": "FloatProgressModel",
          "state": {
            "_dom_classes": [],
            "_model_module": "@jupyter-widgets/controls",
            "_model_module_version": "1.5.0",
            "_model_name": "FloatProgressModel",
            "_view_count": null,
            "_view_module": "@jupyter-widgets/controls",
            "_view_module_version": "1.5.0",
            "_view_name": "ProgressView",
            "bar_style": "success",
            "description": "Downloading: 100%",
            "description_tooltip": null,
            "layout": "IPY_MODEL_dd3ce68f63794d1c85858b0b3e610215",
            "max": 45088961,
            "min": 0,
            "orientation": "horizontal",
            "style": "IPY_MODEL_1c2fd874ce3a4098988e4558a942d925",
            "value": 45088961
          }
        },
        "2abadeee39694f75ad36bd36fa9b9e7e": {
          "model_module": "@jupyter-widgets/controls",
          "model_module_version": "1.5.0",
          "model_name": "HBoxModel",
          "state": {
            "_dom_classes": [],
            "_model_module": "@jupyter-widgets/controls",
            "_model_module_version": "1.5.0",
            "_model_name": "HBoxModel",
            "_view_count": null,
            "_view_module": "@jupyter-widgets/controls",
            "_view_module_version": "1.5.0",
            "_view_name": "HBoxView",
            "box_style": "",
            "children": [
              "IPY_MODEL_88f3855ac04649e5ba0276f64cf8efd9",
              "IPY_MODEL_d020e1864a3f4c7680c3a8fcb269bad6"
            ],
            "layout": "IPY_MODEL_d6093a3e0a664d62b16dac59a8281385"
          }
        },
        "33ed3721abda472aa6c8149879303d9d": {
          "model_module": "@jupyter-widgets/base",
          "model_module_version": "1.2.0",
          "model_name": "LayoutModel",
          "state": {
            "_model_module": "@jupyter-widgets/base",
            "_model_module_version": "1.2.0",
            "_model_name": "LayoutModel",
            "_view_count": null,
            "_view_module": "@jupyter-widgets/base",
            "_view_module_version": "1.2.0",
            "_view_name": "LayoutView",
            "align_content": null,
            "align_items": null,
            "align_self": null,
            "border": null,
            "bottom": null,
            "display": null,
            "flex": null,
            "flex_flow": null,
            "grid_area": null,
            "grid_auto_columns": null,
            "grid_auto_flow": null,
            "grid_auto_rows": null,
            "grid_column": null,
            "grid_gap": null,
            "grid_row": null,
            "grid_template_areas": null,
            "grid_template_columns": null,
            "grid_template_rows": null,
            "height": null,
            "justify_content": null,
            "justify_items": null,
            "left": null,
            "margin": null,
            "max_height": null,
            "max_width": null,
            "min_height": null,
            "min_width": null,
            "object_fit": null,
            "object_position": null,
            "order": null,
            "overflow": null,
            "overflow_x": null,
            "overflow_y": null,
            "padding": null,
            "right": null,
            "top": null,
            "visibility": null,
            "width": null
          }
        },
        "3464eaaf0c194407bb1aa29e31dd22cb": {
          "model_module": "@jupyter-widgets/base",
          "model_module_version": "1.2.0",
          "model_name": "LayoutModel",
          "state": {
            "_model_module": "@jupyter-widgets/base",
            "_model_module_version": "1.2.0",
            "_model_name": "LayoutModel",
            "_view_count": null,
            "_view_module": "@jupyter-widgets/base",
            "_view_module_version": "1.2.0",
            "_view_name": "LayoutView",
            "align_content": null,
            "align_items": null,
            "align_self": null,
            "border": null,
            "bottom": null,
            "display": null,
            "flex": null,
            "flex_flow": null,
            "grid_area": null,
            "grid_auto_columns": null,
            "grid_auto_flow": null,
            "grid_auto_rows": null,
            "grid_column": null,
            "grid_gap": null,
            "grid_row": null,
            "grid_template_areas": null,
            "grid_template_columns": null,
            "grid_template_rows": null,
            "height": null,
            "justify_content": null,
            "justify_items": null,
            "left": null,
            "margin": null,
            "max_height": null,
            "max_width": null,
            "min_height": null,
            "min_width": null,
            "object_fit": null,
            "object_position": null,
            "order": null,
            "overflow": null,
            "overflow_x": null,
            "overflow_y": null,
            "padding": null,
            "right": null,
            "top": null,
            "visibility": null,
            "width": null
          }
        },
        "3891a28d372e491a9a60517f846403e3": {
          "model_module": "@jupyter-widgets/base",
          "model_module_version": "1.2.0",
          "model_name": "LayoutModel",
          "state": {
            "_model_module": "@jupyter-widgets/base",
            "_model_module_version": "1.2.0",
            "_model_name": "LayoutModel",
            "_view_count": null,
            "_view_module": "@jupyter-widgets/base",
            "_view_module_version": "1.2.0",
            "_view_name": "LayoutView",
            "align_content": null,
            "align_items": null,
            "align_self": null,
            "border": null,
            "bottom": null,
            "display": null,
            "flex": null,
            "flex_flow": null,
            "grid_area": null,
            "grid_auto_columns": null,
            "grid_auto_flow": null,
            "grid_auto_rows": null,
            "grid_column": null,
            "grid_gap": null,
            "grid_row": null,
            "grid_template_areas": null,
            "grid_template_columns": null,
            "grid_template_rows": null,
            "height": null,
            "justify_content": null,
            "justify_items": null,
            "left": null,
            "margin": null,
            "max_height": null,
            "max_width": null,
            "min_height": null,
            "min_width": null,
            "object_fit": null,
            "object_position": null,
            "order": null,
            "overflow": null,
            "overflow_x": null,
            "overflow_y": null,
            "padding": null,
            "right": null,
            "top": null,
            "visibility": null,
            "width": null
          }
        },
        "3e411c9f8bd74d47ae7e60fc0fa1ed4e": {
          "model_module": "@jupyter-widgets/base",
          "model_module_version": "1.2.0",
          "model_name": "LayoutModel",
          "state": {
            "_model_module": "@jupyter-widgets/base",
            "_model_module_version": "1.2.0",
            "_model_name": "LayoutModel",
            "_view_count": null,
            "_view_module": "@jupyter-widgets/base",
            "_view_module_version": "1.2.0",
            "_view_name": "LayoutView",
            "align_content": null,
            "align_items": null,
            "align_self": null,
            "border": null,
            "bottom": null,
            "display": null,
            "flex": null,
            "flex_flow": null,
            "grid_area": null,
            "grid_auto_columns": null,
            "grid_auto_flow": null,
            "grid_auto_rows": null,
            "grid_column": null,
            "grid_gap": null,
            "grid_row": null,
            "grid_template_areas": null,
            "grid_template_columns": null,
            "grid_template_rows": null,
            "height": null,
            "justify_content": null,
            "justify_items": null,
            "left": null,
            "margin": null,
            "max_height": null,
            "max_width": null,
            "min_height": null,
            "min_width": null,
            "object_fit": null,
            "object_position": null,
            "order": null,
            "overflow": null,
            "overflow_x": null,
            "overflow_y": null,
            "padding": null,
            "right": null,
            "top": null,
            "visibility": null,
            "width": null
          }
        },
        "3f0dd3c3b3044797a8a6f25ccbabf06f": {
          "model_module": "@jupyter-widgets/controls",
          "model_module_version": "1.5.0",
          "model_name": "HBoxModel",
          "state": {
            "_dom_classes": [],
            "_model_module": "@jupyter-widgets/controls",
            "_model_module_version": "1.5.0",
            "_model_name": "HBoxModel",
            "_view_count": null,
            "_view_module": "@jupyter-widgets/controls",
            "_view_module_version": "1.5.0",
            "_view_name": "HBoxView",
            "box_style": "",
            "children": [
              "IPY_MODEL_29b17462cceb4098a5e53c20ae7b0800",
              "IPY_MODEL_7e381437c5454948b7e52db42b2531ac"
            ],
            "layout": "IPY_MODEL_e533b04253e941e4b390943aaa76e4c2"
          }
        },
        "432fa70bb38245ab866a0bc0b7d14bfd": {
          "model_module": "@jupyter-widgets/base",
          "model_module_version": "1.2.0",
          "model_name": "LayoutModel",
          "state": {
            "_model_module": "@jupyter-widgets/base",
            "_model_module_version": "1.2.0",
            "_model_name": "LayoutModel",
            "_view_count": null,
            "_view_module": "@jupyter-widgets/base",
            "_view_module_version": "1.2.0",
            "_view_name": "LayoutView",
            "align_content": null,
            "align_items": null,
            "align_self": null,
            "border": null,
            "bottom": null,
            "display": null,
            "flex": null,
            "flex_flow": null,
            "grid_area": null,
            "grid_auto_columns": null,
            "grid_auto_flow": null,
            "grid_auto_rows": null,
            "grid_column": null,
            "grid_gap": null,
            "grid_row": null,
            "grid_template_areas": null,
            "grid_template_columns": null,
            "grid_template_rows": null,
            "height": null,
            "justify_content": null,
            "justify_items": null,
            "left": null,
            "margin": null,
            "max_height": null,
            "max_width": null,
            "min_height": null,
            "min_width": null,
            "object_fit": null,
            "object_position": null,
            "order": null,
            "overflow": null,
            "overflow_x": null,
            "overflow_y": null,
            "padding": null,
            "right": null,
            "top": null,
            "visibility": null,
            "width": null
          }
        },
        "5251f9981dbb4b73982f4c877927879b": {
          "model_module": "@jupyter-widgets/base",
          "model_module_version": "1.2.0",
          "model_name": "LayoutModel",
          "state": {
            "_model_module": "@jupyter-widgets/base",
            "_model_module_version": "1.2.0",
            "_model_name": "LayoutModel",
            "_view_count": null,
            "_view_module": "@jupyter-widgets/base",
            "_view_module_version": "1.2.0",
            "_view_name": "LayoutView",
            "align_content": null,
            "align_items": null,
            "align_self": null,
            "border": null,
            "bottom": null,
            "display": null,
            "flex": null,
            "flex_flow": null,
            "grid_area": null,
            "grid_auto_columns": null,
            "grid_auto_flow": null,
            "grid_auto_rows": null,
            "grid_column": null,
            "grid_gap": null,
            "grid_row": null,
            "grid_template_areas": null,
            "grid_template_columns": null,
            "grid_template_rows": null,
            "height": null,
            "justify_content": null,
            "justify_items": null,
            "left": null,
            "margin": null,
            "max_height": null,
            "max_width": null,
            "min_height": null,
            "min_width": null,
            "object_fit": null,
            "object_position": null,
            "order": null,
            "overflow": null,
            "overflow_x": null,
            "overflow_y": null,
            "padding": null,
            "right": null,
            "top": null,
            "visibility": null,
            "width": null
          }
        },
        "6ab71c3da48d4737a88d772625d6a2ec": {
          "model_module": "@jupyter-widgets/base",
          "model_module_version": "1.2.0",
          "model_name": "LayoutModel",
          "state": {
            "_model_module": "@jupyter-widgets/base",
            "_model_module_version": "1.2.0",
            "_model_name": "LayoutModel",
            "_view_count": null,
            "_view_module": "@jupyter-widgets/base",
            "_view_module_version": "1.2.0",
            "_view_name": "LayoutView",
            "align_content": null,
            "align_items": null,
            "align_self": null,
            "border": null,
            "bottom": null,
            "display": null,
            "flex": null,
            "flex_flow": null,
            "grid_area": null,
            "grid_auto_columns": null,
            "grid_auto_flow": null,
            "grid_auto_rows": null,
            "grid_column": null,
            "grid_gap": null,
            "grid_row": null,
            "grid_template_areas": null,
            "grid_template_columns": null,
            "grid_template_rows": null,
            "height": null,
            "justify_content": null,
            "justify_items": null,
            "left": null,
            "margin": null,
            "max_height": null,
            "max_width": null,
            "min_height": null,
            "min_width": null,
            "object_fit": null,
            "object_position": null,
            "order": null,
            "overflow": null,
            "overflow_x": null,
            "overflow_y": null,
            "padding": null,
            "right": null,
            "top": null,
            "visibility": null,
            "width": null
          }
        },
        "70fbcc5ef710496fba6cf7affac23e4c": {
          "model_module": "@jupyter-widgets/controls",
          "model_module_version": "1.5.0",
          "model_name": "ProgressStyleModel",
          "state": {
            "_model_module": "@jupyter-widgets/controls",
            "_model_module_version": "1.5.0",
            "_model_name": "ProgressStyleModel",
            "_view_count": null,
            "_view_module": "@jupyter-widgets/base",
            "_view_module_version": "1.2.0",
            "_view_name": "StyleView",
            "bar_color": null,
            "description_width": "initial"
          }
        },
        "74647a7de8b24fdcbca801c91c29ecaa": {
          "model_module": "@jupyter-widgets/controls",
          "model_module_version": "1.5.0",
          "model_name": "DescriptionStyleModel",
          "state": {
            "_model_module": "@jupyter-widgets/controls",
            "_model_module_version": "1.5.0",
            "_model_name": "DescriptionStyleModel",
            "_view_count": null,
            "_view_module": "@jupyter-widgets/base",
            "_view_module_version": "1.2.0",
            "_view_name": "StyleView",
            "description_width": ""
          }
        },
        "775e86e5c9ae41a9863a4c1cba26902f": {
          "model_module": "@jupyter-widgets/controls",
          "model_module_version": "1.5.0",
          "model_name": "HTMLModel",
          "state": {
            "_dom_classes": [],
            "_model_module": "@jupyter-widgets/controls",
            "_model_module_version": "1.5.0",
            "_model_name": "HTMLModel",
            "_view_count": null,
            "_view_module": "@jupyter-widgets/controls",
            "_view_module_version": "1.5.0",
            "_view_name": "HTMLView",
            "description": "",
            "description_tooltip": null,
            "layout": "IPY_MODEL_f33f896cbf584e39a43316d05f65c04b",
            "placeholder": "​",
            "style": "IPY_MODEL_9406e3f64943490f863f08de324cd146",
            "value": " 996k/996k [00:01&lt;00:00, 552kB/s]"
          }
        },
        "7c70ece882f54db2b414135623b3a674": {
          "model_module": "@jupyter-widgets/controls",
          "model_module_version": "1.5.0",
          "model_name": "FloatProgressModel",
          "state": {
            "_dom_classes": [],
            "_model_module": "@jupyter-widgets/controls",
            "_model_module_version": "1.5.0",
            "_model_name": "FloatProgressModel",
            "_view_count": null,
            "_view_module": "@jupyter-widgets/controls",
            "_view_module_version": "1.5.0",
            "_view_name": "ProgressView",
            "bar_style": "success",
            "description": "Downloading: 100%",
            "description_tooltip": null,
            "layout": "IPY_MODEL_432fa70bb38245ab866a0bc0b7d14bfd",
            "max": 29,
            "min": 0,
            "orientation": "horizontal",
            "style": "IPY_MODEL_99f1bbc018ed4492b417760a0ed7fabf",
            "value": 29
          }
        },
        "7dd250af1f454043aa475d5fac56363a": {
          "model_module": "@jupyter-widgets/controls",
          "model_module_version": "1.5.0",
          "model_name": "DescriptionStyleModel",
          "state": {
            "_model_module": "@jupyter-widgets/controls",
            "_model_module_version": "1.5.0",
            "_model_name": "DescriptionStyleModel",
            "_view_count": null,
            "_view_module": "@jupyter-widgets/base",
            "_view_module_version": "1.2.0",
            "_view_name": "StyleView",
            "description_width": ""
          }
        },
        "7e381437c5454948b7e52db42b2531ac": {
          "model_module": "@jupyter-widgets/controls",
          "model_module_version": "1.5.0",
          "model_name": "HTMLModel",
          "state": {
            "_dom_classes": [],
            "_model_module": "@jupyter-widgets/controls",
            "_model_module_version": "1.5.0",
            "_model_name": "HTMLModel",
            "_view_count": null,
            "_view_module": "@jupyter-widgets/controls",
            "_view_module_version": "1.5.0",
            "_view_name": "HTMLView",
            "description": "",
            "description_tooltip": null,
            "layout": "IPY_MODEL_3464eaaf0c194407bb1aa29e31dd22cb",
            "placeholder": "​",
            "style": "IPY_MODEL_0c86b0bd71c543529ebdf19b066a7d5c",
            "value": " 45.1M/45.1M [00:02&lt;00:00, 19.2MB/s]"
          }
        },
        "88f3855ac04649e5ba0276f64cf8efd9": {
          "model_module": "@jupyter-widgets/controls",
          "model_module_version": "1.5.0",
          "model_name": "FloatProgressModel",
          "state": {
            "_dom_classes": [],
            "_model_module": "@jupyter-widgets/controls",
            "_model_module_version": "1.5.0",
            "_model_name": "FloatProgressModel",
            "_view_count": null,
            "_view_module": "@jupyter-widgets/controls",
            "_view_module_version": "1.5.0",
            "_view_name": "ProgressView",
            "bar_style": "success",
            "description": "Downloading: 100%",
            "description_tooltip": null,
            "layout": "IPY_MODEL_28700e0df0384bbaa1fd1cae0f44939f",
            "max": 1961828,
            "min": 0,
            "orientation": "horizontal",
            "style": "IPY_MODEL_1c9006c3458743e0a3d7f9005ca17dbc",
            "value": 1961828
          }
        },
        "9406e3f64943490f863f08de324cd146": {
          "model_module": "@jupyter-widgets/controls",
          "model_module_version": "1.5.0",
          "model_name": "DescriptionStyleModel",
          "state": {
            "_model_module": "@jupyter-widgets/controls",
            "_model_module_version": "1.5.0",
            "_model_name": "DescriptionStyleModel",
            "_view_count": null,
            "_view_module": "@jupyter-widgets/base",
            "_view_module_version": "1.2.0",
            "_view_name": "StyleView",
            "description_width": ""
          }
        },
        "99f1bbc018ed4492b417760a0ed7fabf": {
          "model_module": "@jupyter-widgets/controls",
          "model_module_version": "1.5.0",
          "model_name": "ProgressStyleModel",
          "state": {
            "_model_module": "@jupyter-widgets/controls",
            "_model_module_version": "1.5.0",
            "_model_name": "ProgressStyleModel",
            "_view_count": null,
            "_view_module": "@jupyter-widgets/base",
            "_view_module_version": "1.2.0",
            "_view_name": "StyleView",
            "bar_color": null,
            "description_width": "initial"
          }
        },
        "9cea015efc72450f93fd450ede6f048d": {
          "model_module": "@jupyter-widgets/controls",
          "model_module_version": "1.5.0",
          "model_name": "HBoxModel",
          "state": {
            "_dom_classes": [],
            "_model_module": "@jupyter-widgets/controls",
            "_model_module_version": "1.5.0",
            "_model_name": "HBoxModel",
            "_view_count": null,
            "_view_module": "@jupyter-widgets/controls",
            "_view_module_version": "1.5.0",
            "_view_name": "HBoxView",
            "box_style": "",
            "children": [
              "IPY_MODEL_f1e19a1e9cab4cdbb9a98275e49cb59d",
              "IPY_MODEL_b702bbf26cb74def93c75417a102d0bc"
            ],
            "layout": "IPY_MODEL_33ed3721abda472aa6c8149879303d9d"
          }
        },
        "b23f78283c014533a290c1515e11490c": {
          "model_module": "@jupyter-widgets/controls",
          "model_module_version": "1.5.0",
          "model_name": "HBoxModel",
          "state": {
            "_dom_classes": [],
            "_model_module": "@jupyter-widgets/controls",
            "_model_module_version": "1.5.0",
            "_model_name": "HBoxModel",
            "_view_count": null,
            "_view_module": "@jupyter-widgets/controls",
            "_view_module_version": "1.5.0",
            "_view_name": "HBoxView",
            "box_style": "",
            "children": [
              "IPY_MODEL_e201b4e6170943fc8112d31013565cdf",
              "IPY_MODEL_775e86e5c9ae41a9863a4c1cba26902f"
            ],
            "layout": "IPY_MODEL_3e411c9f8bd74d47ae7e60fc0fa1ed4e"
          }
        },
        "b702bbf26cb74def93c75417a102d0bc": {
          "model_module": "@jupyter-widgets/controls",
          "model_module_version": "1.5.0",
          "model_name": "HTMLModel",
          "state": {
            "_dom_classes": [],
            "_model_module": "@jupyter-widgets/controls",
            "_model_module_version": "1.5.0",
            "_model_name": "HTMLModel",
            "_view_count": null,
            "_view_module": "@jupyter-widgets/controls",
            "_view_module_version": "1.5.0",
            "_view_name": "HTMLView",
            "description": "",
            "description_tooltip": null,
            "layout": "IPY_MODEL_0289c2d93f6847cba98ec5578d067db8",
            "placeholder": "​",
            "style": "IPY_MODEL_74647a7de8b24fdcbca801c91c29ecaa",
            "value": " 383/383 [01:45&lt;00:00, 3.64B/s]"
          }
        },
        "cee1e1c97b7d4a2bb5e3f2a402edf1b9": {
          "model_module": "@jupyter-widgets/controls",
          "model_module_version": "1.5.0",
          "model_name": "DescriptionStyleModel",
          "state": {
            "_model_module": "@jupyter-widgets/controls",
            "_model_module_version": "1.5.0",
            "_model_name": "DescriptionStyleModel",
            "_view_count": null,
            "_view_module": "@jupyter-widgets/base",
            "_view_module_version": "1.2.0",
            "_view_name": "StyleView",
            "description_width": ""
          }
        },
        "d020e1864a3f4c7680c3a8fcb269bad6": {
          "model_module": "@jupyter-widgets/controls",
          "model_module_version": "1.5.0",
          "model_name": "HTMLModel",
          "state": {
            "_dom_classes": [],
            "_model_module": "@jupyter-widgets/controls",
            "_model_module_version": "1.5.0",
            "_model_name": "HTMLModel",
            "_view_count": null,
            "_view_module": "@jupyter-widgets/controls",
            "_view_module_version": "1.5.0",
            "_view_name": "HTMLView",
            "description": "",
            "description_tooltip": null,
            "layout": "IPY_MODEL_1aadb09c02ce4661be1fd824b7ca12df",
            "placeholder": "​",
            "style": "IPY_MODEL_cee1e1c97b7d4a2bb5e3f2a402edf1b9",
            "value": " 1.96M/1.96M [00:00&lt;00:00, 5.94MB/s]"
          }
        },
        "d6093a3e0a664d62b16dac59a8281385": {
          "model_module": "@jupyter-widgets/base",
          "model_module_version": "1.2.0",
          "model_name": "LayoutModel",
          "state": {
            "_model_module": "@jupyter-widgets/base",
            "_model_module_version": "1.2.0",
            "_model_name": "LayoutModel",
            "_view_count": null,
            "_view_module": "@jupyter-widgets/base",
            "_view_module_version": "1.2.0",
            "_view_name": "LayoutView",
            "align_content": null,
            "align_items": null,
            "align_self": null,
            "border": null,
            "bottom": null,
            "display": null,
            "flex": null,
            "flex_flow": null,
            "grid_area": null,
            "grid_auto_columns": null,
            "grid_auto_flow": null,
            "grid_auto_rows": null,
            "grid_column": null,
            "grid_gap": null,
            "grid_row": null,
            "grid_template_areas": null,
            "grid_template_columns": null,
            "grid_template_rows": null,
            "height": null,
            "justify_content": null,
            "justify_items": null,
            "left": null,
            "margin": null,
            "max_height": null,
            "max_width": null,
            "min_height": null,
            "min_width": null,
            "object_fit": null,
            "object_position": null,
            "order": null,
            "overflow": null,
            "overflow_x": null,
            "overflow_y": null,
            "padding": null,
            "right": null,
            "top": null,
            "visibility": null,
            "width": null
          }
        },
        "dd3ce68f63794d1c85858b0b3e610215": {
          "model_module": "@jupyter-widgets/base",
          "model_module_version": "1.2.0",
          "model_name": "LayoutModel",
          "state": {
            "_model_module": "@jupyter-widgets/base",
            "_model_module_version": "1.2.0",
            "_model_name": "LayoutModel",
            "_view_count": null,
            "_view_module": "@jupyter-widgets/base",
            "_view_module_version": "1.2.0",
            "_view_name": "LayoutView",
            "align_content": null,
            "align_items": null,
            "align_self": null,
            "border": null,
            "bottom": null,
            "display": null,
            "flex": null,
            "flex_flow": null,
            "grid_area": null,
            "grid_auto_columns": null,
            "grid_auto_flow": null,
            "grid_auto_rows": null,
            "grid_column": null,
            "grid_gap": null,
            "grid_row": null,
            "grid_template_areas": null,
            "grid_template_columns": null,
            "grid_template_rows": null,
            "height": null,
            "justify_content": null,
            "justify_items": null,
            "left": null,
            "margin": null,
            "max_height": null,
            "max_width": null,
            "min_height": null,
            "min_width": null,
            "object_fit": null,
            "object_position": null,
            "order": null,
            "overflow": null,
            "overflow_x": null,
            "overflow_y": null,
            "padding": null,
            "right": null,
            "top": null,
            "visibility": null,
            "width": null
          }
        },
        "e201b4e6170943fc8112d31013565cdf": {
          "model_module": "@jupyter-widgets/controls",
          "model_module_version": "1.5.0",
          "model_name": "FloatProgressModel",
          "state": {
            "_dom_classes": [],
            "_model_module": "@jupyter-widgets/controls",
            "_model_module_version": "1.5.0",
            "_model_name": "FloatProgressModel",
            "_view_count": null,
            "_view_module": "@jupyter-widgets/controls",
            "_view_module_version": "1.5.0",
            "_view_name": "ProgressView",
            "bar_style": "success",
            "description": "Downloading: 100%",
            "description_tooltip": null,
            "layout": "IPY_MODEL_5251f9981dbb4b73982f4c877927879b",
            "max": 995526,
            "min": 0,
            "orientation": "horizontal",
            "style": "IPY_MODEL_f3ff7065962b4ae2af9891be56a16902",
            "value": 995526
          }
        },
        "e533b04253e941e4b390943aaa76e4c2": {
          "model_module": "@jupyter-widgets/base",
          "model_module_version": "1.2.0",
          "model_name": "LayoutModel",
          "state": {
            "_model_module": "@jupyter-widgets/base",
            "_model_module_version": "1.2.0",
            "_model_name": "LayoutModel",
            "_view_count": null,
            "_view_module": "@jupyter-widgets/base",
            "_view_module_version": "1.2.0",
            "_view_name": "LayoutView",
            "align_content": null,
            "align_items": null,
            "align_self": null,
            "border": null,
            "bottom": null,
            "display": null,
            "flex": null,
            "flex_flow": null,
            "grid_area": null,
            "grid_auto_columns": null,
            "grid_auto_flow": null,
            "grid_auto_rows": null,
            "grid_column": null,
            "grid_gap": null,
            "grid_row": null,
            "grid_template_areas": null,
            "grid_template_columns": null,
            "grid_template_rows": null,
            "height": null,
            "justify_content": null,
            "justify_items": null,
            "left": null,
            "margin": null,
            "max_height": null,
            "max_width": null,
            "min_height": null,
            "min_width": null,
            "object_fit": null,
            "object_position": null,
            "order": null,
            "overflow": null,
            "overflow_x": null,
            "overflow_y": null,
            "padding": null,
            "right": null,
            "top": null,
            "visibility": null,
            "width": null
          }
        },
        "f1e19a1e9cab4cdbb9a98275e49cb59d": {
          "model_module": "@jupyter-widgets/controls",
          "model_module_version": "1.5.0",
          "model_name": "FloatProgressModel",
          "state": {
            "_dom_classes": [],
            "_model_module": "@jupyter-widgets/controls",
            "_model_module_version": "1.5.0",
            "_model_name": "FloatProgressModel",
            "_view_count": null,
            "_view_module": "@jupyter-widgets/controls",
            "_view_module_version": "1.5.0",
            "_view_name": "ProgressView",
            "bar_style": "success",
            "description": "Downloading: 100%",
            "description_tooltip": null,
            "layout": "IPY_MODEL_3891a28d372e491a9a60517f846403e3",
            "max": 383,
            "min": 0,
            "orientation": "horizontal",
            "style": "IPY_MODEL_70fbcc5ef710496fba6cf7affac23e4c",
            "value": 383
          }
        },
        "f33f896cbf584e39a43316d05f65c04b": {
          "model_module": "@jupyter-widgets/base",
          "model_module_version": "1.2.0",
          "model_name": "LayoutModel",
          "state": {
            "_model_module": "@jupyter-widgets/base",
            "_model_module_version": "1.2.0",
            "_model_name": "LayoutModel",
            "_view_count": null,
            "_view_module": "@jupyter-widgets/base",
            "_view_module_version": "1.2.0",
            "_view_name": "LayoutView",
            "align_content": null,
            "align_items": null,
            "align_self": null,
            "border": null,
            "bottom": null,
            "display": null,
            "flex": null,
            "flex_flow": null,
            "grid_area": null,
            "grid_auto_columns": null,
            "grid_auto_flow": null,
            "grid_auto_rows": null,
            "grid_column": null,
            "grid_gap": null,
            "grid_row": null,
            "grid_template_areas": null,
            "grid_template_columns": null,
            "grid_template_rows": null,
            "height": null,
            "justify_content": null,
            "justify_items": null,
            "left": null,
            "margin": null,
            "max_height": null,
            "max_width": null,
            "min_height": null,
            "min_width": null,
            "object_fit": null,
            "object_position": null,
            "order": null,
            "overflow": null,
            "overflow_x": null,
            "overflow_y": null,
            "padding": null,
            "right": null,
            "top": null,
            "visibility": null,
            "width": null
          }
        },
        "f3ff7065962b4ae2af9891be56a16902": {
          "model_module": "@jupyter-widgets/controls",
          "model_module_version": "1.5.0",
          "model_name": "ProgressStyleModel",
          "state": {
            "_model_module": "@jupyter-widgets/controls",
            "_model_module_version": "1.5.0",
            "_model_name": "ProgressStyleModel",
            "_view_count": null,
            "_view_module": "@jupyter-widgets/base",
            "_view_module_version": "1.2.0",
            "_view_name": "StyleView",
            "bar_color": null,
            "description_width": "initial"
          }
        }
      }
    }
  },
  "nbformat": 4,
  "nbformat_minor": 0
}
