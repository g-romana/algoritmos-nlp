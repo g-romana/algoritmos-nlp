{
 "cells": [
  {
   "attachments": {},
   "cell_type": "markdown",
   "metadata": {
    "application/vnd.databricks.v1+cell": {
     "cellMetadata": {
      "byteLimit": 2048000,
      "rowLimit": 10000
     },
     "inputWidgets": {},
     "nuid": "f8adb2f7-fb2f-434a-b98f-2382f7f752ed",
     "showTitle": false,
     "title": ""
    },
    "id": "SFWacCW2OdUG"
   },
   "source": [
    "# Funciones iniciales"
   ]
  },
  {
   "cell_type": "code",
   "execution_count": 1,
   "metadata": {
    "application/vnd.databricks.v1+cell": {
     "cellMetadata": {
      "byteLimit": 2048000,
      "rowLimit": 10000
     },
     "inputWidgets": {},
     "nuid": "069ad511-ba62-4e04-b1eb-d707ae1aad6c",
     "showTitle": false,
     "title": ""
    },
    "colab": {
     "base_uri": "https://localhost:8080/"
    },
    "id": "4wIwIlCsolrS",
    "outputId": "bed28f91-3814-4e06-b786-7666f50909ee"
   },
   "outputs": [
    {
     "name": "stdout",
     "output_type": "stream",
     "text": [
      "java version \"1.8.0_371\"\n",
      "Java(TM) SE Runtime Environment (build 1.8.0_371-b11)\n",
      "Java HotSpot(TM) 64-Bit Server VM (build 25.371-b11, mixed mode)\n",
      "\n",
      "Java is installed\n"
     ]
    }
   ],
   "source": [
    "import os\n",
    "import subprocess\n",
    "import platform\n",
    "import shutil\n",
    "import urllib.request\n",
    "import tarfile\n",
    "import time\n",
    "\n",
    "def is_java_installed():\n",
    "    try:\n",
    "        output = subprocess.check_output(['java', '-version'], stderr=subprocess.STDOUT)\n",
    "        print(output.decode())\n",
    "        return True\n",
    "    except Exception as e:\n",
    "        print(e)\n",
    "        return False\n",
    "\n",
    "if is_java_installed():\n",
    "    print(\"Java is installed\")\n",
    "else:\n",
    "    print(\"Java is not installed\")\n",
    "\n",
    "\n",
    "def setup_spark_nlp(base_path='C:\\\\'):\n",
    "    \"\"\"\n",
    "    Sets up Spark NLP with Spark 3.2.3 on Windows.\n",
    "    :param base_path: base path for installation (optional)\n",
    "    \"\"\"\n",
    "    # Step 1: descargar e installar Adopt OpenJDK 1.8\n",
    "    # Este paso no puede ser automatizado y debe ser realizado manualmente. \n",
    "    \n",
    "    # Step 2: Descargar pre-compiled Hadoop binaries\n",
    "    hadoop_bin_url = 'https://github.com/cdarlint/winutils/raw/master/hadoop-3.2.0/bin/'\n",
    "    hadoop_bin_dir = os.path.join(base_path, 'hadoop', 'bin')\n",
    "    os.makedirs(hadoop_bin_dir, exist_ok=True)\n",
    "\n",
    "    for file in ['winutils.exe', 'hadoop.dll']:\n",
    "        urllib.request.urlretrieve(hadoop_bin_url + file, os.path.join(hadoop_bin_dir, file))\n",
    "\n",
    "    # Step 3: Descargar Apache Spark 3.2.3\n",
    "\n",
    "    spark_url = 'https://archive.apache.org/dist/spark/spark-3.2.3/spark-3.2.3-bin-hadoop3.2.tgz'\n",
    "    spark_dir = os.path.join(base_path, 'spark','spark-3.2.3-bin-hadoop3.2')\n",
    "\n",
    "    with urllib.request.urlopen(spark_url) as response:\n",
    "        with open('spark.tgz', 'wb') as f:\n",
    "            shutil.copyfileobj(response, f)\n",
    "\n",
    "    with tarfile.open('spark.tgz', 'r:gz') as tf:\n",
    "        tf.extractall(spark_dir)\n",
    "\n",
    "    # Step 4: Set environment variables \n",
    "    os.environ['HADOOP_HOME'] = os.path.join(base_path, 'hadoop','bin')\n",
    "    os.environ['SPARK_HOME'] = spark_dir\n",
    "\n",
    "    # Step 5: Add to PATH environment variable\n",
    "    os.environ['PATH'] += os.pathsep + os.path.join(os.environ['HADOOP_HOME'], 'bin')\n",
    "    os.environ['PATH'] += os.pathsep + os.path.join(os.environ['SPARK_HOME'], 'bin')\n",
    "\n",
    "    # Step 6: Install Microsoft Visual C++ 2010 Redistributed Package (x64)\n",
    "    # This step cannot be automated and must be done manually.\n",
    "\n",
    "    # Step 7: Create folders C:\\tmp and C:\\tmp\\hive\n",
    "    os.makedirs(os.path.join(base_path, 'tmp', 'hive'), exist_ok=True)\n",
    "\n",
    "    # Change permissions for C:\\tmp and C:\\tmp\\hive\n",
    "    winutils = os.path.join(os.environ['HADOOP_HOME'], 'bin', 'winutils.exe')\n",
    "    os.system(f'{winutils} chmod 777 /tmp/hive')\n",
    "    os.system(f'{winutils} chmod 777 /tmp/')\n",
    "\n",
    "\n",
    "def setup(pyspark_version=\"3.2.3\", sparknlp_version=\"4.4.2\"):\n",
    "    \"\"\"\n",
    "    Configura el entorno de Google Colab con PySpark y Spark NLP.\n",
    "    :param pyspark_version: versión de PySpark a instalar (opcional)\n",
    "    :param sparknlp_version: versión de Spark NLP a instalar (opcional)\n",
    "    \"\"\"\n",
    "    if 'dbutils' in globals():\n",
    "        print(\"Este notebook se está ejecutando en Databricks, sigue los siguientes pasos para configurarlo si no lo has hecho ya\") \n",
    "        data = [[\"Paso\", \"Descripción\"],\n",
    "        [\"1\", \"Configurar `spark.kryoserializer.buffer.max` a `2000M` y `spark.serializer` a `org.apache.spark.serializer.KryoSerializer`\"],\n",
    "        [\"2\", \"En la pestaña de Bibliotecas dentro de tu clúster, sigue estos pasos:\"],\n",
    "        [\"3.1\", \"Instalar nuevo -> PyPI -> spark-nlp -> Instalar\"],\n",
    "        [\"3.2\", \"Instalar nuevo -> Maven -> Coordenadas -> com.johnsnowlabs.nlp:spark-nlp_2.12:4.4.3\"]]\n",
    "        for row in data:\n",
    "            print(\"{: <5} {: <10}\".format(*row))\n",
    "        return\n",
    "    elif platform.system() == 'Linux':\n",
    "        os.environ[\"JAVA_HOME\"] = \"/usr/lib/jvm/java-11-openjdk-amd64\"\n",
    "        print(f\"Instalando PySpark {pyspark_version} y Spark NLP {sparknlp_version}\")\n",
    "        if 'NVIDIA' in subprocess.getoutput('nvidia-smi'):\n",
    "            print(\"Actualizando libcudnn8 a 8.1.0 para GPU\")\n",
    "            !apt install -qq --allow-change-held-packages libcudnn8=8.1.0.77-1+cuda11.2 -y &> /dev/null\n",
    "        !pip install --upgrade -q pyspark==$pyspark_version spark-nlp==$sparknlp_version findspark\n",
    "\n",
    "    elif platform.system() == 'Windows':\n",
    "        print(f\"Instalando PySpark {pyspark_version} y Spark NLP {sparknlp_version}\")\n",
    "        !pip install --upgrade -q pyspark==$pyspark_version spark-nlp==$sparknlp_version findspark\n",
    "        !pip install numpy\n",
    "        !pip install -qq watermark awscli\n",
    "        !pip install torch==2.0.0+cu118 torchvision==0.15.1+cu118 torchaudio==2.0.1 --index-url https://download.pytorch.org/whl/cu118\n",
    "        !conda install -c anaconda scikit-learn -y\n",
    "        # SOLO EJECUTAR 1 VEZ \n",
    "        # !conda install numpy torch \n",
    "        setup_spark_nlp()\n",
    "\n",
    "# setup()"
   ]
  },
  {
   "cell_type": "code",
   "execution_count": 2,
   "metadata": {
    "application/vnd.databricks.v1+cell": {
     "cellMetadata": {
      "byteLimit": 2048000,
      "rowLimit": 10000
     },
     "inputWidgets": {},
     "nuid": "6f67c14b-56ec-4e35-a976-b507c9c5a19b",
     "showTitle": false,
     "title": ""
    },
    "id": "GyX-VElwOdUM"
   },
   "outputs": [],
   "source": [
    "\n",
    "\n",
    "# [Environment]::SetEnvironmentVariable(\"HADOOP_HOME\", \"C:\\Users\\RomanGu\\OneDrive - BASF\\Documents\\CODE\\romangu-repo\\notebooks\\TFM\\experimentos\\ARCHIVOS_BASE\\hadoop\\bin\", \"User\")\n",
    "# [Environment]::SetEnvironmentVariable(\"SPARK_HOME\", \"C:\\Users\\RomanGu\\OneDrive - BASF\\Documents\\CODE\\romangu-repo\\notebooks\\TFM\\experimentos\\ARCHIVOS_BASE\\ARCHIVOS_BASE\\spark\\spark-3.2.3-bin-hadoop3.2\\bin\", \"User\")\n",
    "\n",
    "\n",
    "# $CurrentValue = [Environment]::GetEnvironmentVariable(\"PATH\", \"User\")\n",
    "# [Environment]::SetEnvironmentVariable(\"PATH\", $CurrentValue + \";C:\\Users\\RomanGu\\OneDrive - BASF\\Documents\\CODE\\romangu-repo\\notebooks\\TFM\\experimentos\\ARCHIVOS_BASE\\hadoop\\bin\", \"User\")\n",
    "\n",
    "# $CurrentValue = [Environment]::GetEnvironmentVariable(\"PATH\", \"User\")\n",
    "# [Environment]::SetEnvironmentVariable(\"PATH\", $CurrentValue + \";C:\\Users\\RomanGu\\OneDrive - BASF\\Documents\\CODE\\romangu-repo\\notebooks\\TFM\\experimentos\\ARCHIVOS_BASE\\spark\\spark-3.2.3-bin-hadoop3.2\\bin\", \"User\")\n",
    "\n"
   ]
  },
  {
   "cell_type": "code",
   "execution_count": 3,
   "metadata": {
    "application/vnd.databricks.v1+cell": {
     "cellMetadata": {
      "byteLimit": 2048000,
      "rowLimit": 10000
     },
     "inputWidgets": {},
     "nuid": "ed58345f-bc06-4540-a74c-5847a1a5efad",
     "showTitle": false,
     "title": ""
    },
    "colab": {
     "base_uri": "https://localhost:8080/"
    },
    "id": "VYKjq2fcOdUN",
    "outputId": "dd5ba6a0-bbe6-46e0-a608-9aff7621b22e"
   },
   "outputs": [
    {
     "name": "stdout",
     "output_type": "stream",
     "text": [
      "HADOOP_HOME C:\\hadoop\n",
      "SPARK_HOME C:\\spark\\spark-3.2.3-bin-hadoop3.2\n",
      "JAVA_HOME C:\\Java\\Java\\jdk1.8.0_231\n"
     ]
    }
   ],
   "source": [
    "# os.environ[\"HADOOP_HOME\"] = r\"C:\\Users\\RomanGu\\OneDrive - BASF\\Documents\\CODE\\romangu-repo\\notebooks\\TFM\\experimentos\\ARCHIVOS_BASE\\hadoop\\bin\"\n",
    "\n",
    "\n",
    "# os.environ[\"SPARK_HOME\"] = r\"C:\\Users\\RomanGu\\OneDrive - BASF\\Documents\\CODE\\romangu-repo\\notebooks\\TFM\\experimentos\\ARCHIVOS_BASE\\ARCHIVOS_BASE\\spark\\spark-3.2.3-bin-hadoop3.2\\bin\"\n",
    "\n",
    "\n",
    "\n",
    "# # Add to PATH environment variable\n",
    "# os.environ['PATH'] += os.pathsep + os.path.join(os.environ['HADOOP_HOME'])\n",
    "# os.environ['PATH'] += os.pathsep + os.path.join(os.environ['SPARK_HOME'])\n",
    "\n",
    "# %%cmd\n",
    "# setx PATH %PATH%;\"C:\\Users\\RomanGu\\OneDrive - BASF\\Documents\\CODE\\romangu-repo\\notebooks\\TFM\\experimentos\\ARCHIVOS_BASE\\hadoop\\bin\"\n",
    "# setx HADOOP_HOME \"C:\\Users\\RomanGu\\OneDrive - BASF\\Documents\\CODE\\romangu-repo\\notebooks\\TFM\\experimentos\\ARCHIVOS_BASE\\hadoop\\bin\"\n",
    "# setx PATH %PATH%;\"C:\\Users\\RomanGu\\OneDrive - BASF\\Documents\\CODE\\romangu-repo\\notebooks\\TFM\\experimentos\\ARCHIVOS_BASE\\spark\\spark-3.2.3-bin-hadoop3.2\\bin\"\n",
    "# setx SPARK_HOME  \"C:\\Users\\RomanGu\\OneDrive - BASF\\Documents\\CODE\\romangu-repo\\notebooks\\TFM\\experimentos\\ARCHIVOS_BASE\\spark\\spark-3.2.3-bin-hadoop3.2\\bin\"\n",
    "# abrir enviroment variables desde powershell: & \"$env:SystemRoot\\System32\\SystemPropertiesAdvanced.exe\"\n",
    "\n",
    "for environ in [\"HADOOP_HOME\",\"SPARK_HOME\",\"JAVA_HOME\"]:\n",
    "    try:\n",
    "        print(environ,os.environ[environ])\n",
    "    except:\n",
    "        print(environ, \"no está configurada\")\n"
   ]
  },
  {
   "cell_type": "code",
   "execution_count": 4,
   "metadata": {
    "application/vnd.databricks.v1+cell": {
     "cellMetadata": {
      "byteLimit": 2048000,
      "rowLimit": 10000
     },
     "inputWidgets": {},
     "nuid": "9c36c395-1fe3-4117-9292-e1f752b1d8c7",
     "showTitle": false,
     "title": ""
    },
    "colab": {
     "base_uri": "https://localhost:8080/"
    },
    "id": "ceW3PQY8o_up",
    "outputId": "df34ca8f-9614-45e6-acba-502311cd8d90"
   },
   "outputs": [
    {
     "name": "stdout",
     "output_type": "stream",
     "text": [
      "Spark NLP version: 4.4.2\n",
      "Apache Spark version: 3.2.3\n",
      "Is cuda available:  True\n"
     ]
    }
   ],
   "source": [
    "import sparknlp\n",
    "import torch\n",
    "\n",
    "if 'dbutils' not in globals():\n",
    "    spark = sparknlp.start(gpu = torch.cuda.is_available())\n",
    "\n",
    "print(\"Spark NLP version: {}\".format(sparknlp.version()))\n",
    "print(\"Apache Spark version: {}\".format(spark.version))\n",
    "print(\"Is cuda available: \",torch.cuda.is_available())\n"
   ]
  },
  {
   "cell_type": "code",
   "execution_count": 5,
   "metadata": {},
   "outputs": [
    {
     "data": {
      "text/html": [
       "\n",
       "        <div>\n",
       "            <p><b>SparkContext</b></p>\n",
       "\n",
       "            <p><a href=\"http://DESKTOP-QHN2DRU:4040\">Spark UI</a></p>\n",
       "\n",
       "            <dl>\n",
       "              <dt>Version</dt>\n",
       "                <dd><code>v3.2.3</code></dd>\n",
       "              <dt>Master</dt>\n",
       "                <dd><code>local[*]</code></dd>\n",
       "              <dt>AppName</dt>\n",
       "                <dd><code>Spark NLP</code></dd>\n",
       "            </dl>\n",
       "        </div>\n",
       "        "
      ],
      "text/plain": [
       "<SparkContext master=local[*] appName=Spark NLP>"
      ]
     },
     "execution_count": 5,
     "metadata": {},
     "output_type": "execute_result"
    }
   ],
   "source": [
    "spark.sparkContext"
   ]
  },
  {
   "cell_type": "code",
   "execution_count": 6,
   "metadata": {},
   "outputs": [
    {
     "name": "stdout",
     "output_type": "stream",
     "text": [
      "Python implementation: CPython\n",
      "Python version       : 3.10.11\n",
      "IPython version      : 8.13.2\n",
      "\n",
      "numpy       : 1.24.3\n",
      "pandas      : 2.0.1\n",
      "torch       : 2.0.0+cu118\n",
      "transformers: not installed\n",
      "sklearn     : 0.0.post5\n",
      "\n"
     ]
    }
   ],
   "source": [
    "%reload_ext watermark\n",
    "%watermark -v -p numpy,pandas,torch,transformers,sklearn"
   ]
  },
  {
   "cell_type": "code",
   "execution_count": 7,
   "metadata": {
    "application/vnd.databricks.v1+cell": {
     "cellMetadata": {
      "byteLimit": 2048000,
      "rowLimit": 10000
     },
     "inputWidgets": {},
     "nuid": "bc2d9652-1ee8-4ed6-bece-6fdfe9db5a9a",
     "showTitle": false,
     "title": ""
    },
    "id": "XRZT6k97pDkB"
   },
   "outputs": [],
   "source": [
    "# Importing necessary libraries\n",
    "from sparknlp.pretrained import PretrainedPipeline\n",
    "# from sparknlp.base import LightPipeline,document_assembler\n",
    "from sparknlp.base import *\n",
    "from sparknlp.annotator import *\n",
    "from pyspark.ml import Pipeline\n",
    "from pyspark.sql import SparkSession\n",
    "from pyspark.sql.functions import countDistinct, col\n",
    "import pyspark.sql.functions as F\n",
    "from sklearn.metrics import classification_report, accuracy_score, confusion_matrix\n",
    "import seaborn as sns\n",
    "import matplotlib.pyplot as plt\n",
    "from pylab import rcParams\n",
    "\n",
    "# Setting up inline plotting and figure format\n",
    "%matplotlib inline\n",
    "%config InlineBackend.figure_format='retina'\n",
    "\n",
    "# Setting up seaborn style and color palette\n",
    "sns.set(style='whitegrid', palette='muted', font_scale=1.2)\n",
    "HAPPY_COLORS_PALETTE = [\"#01BEFE\", \"#FFDD00\", \"#FF7D00\", \"#FF006D\", \"#ADFF02\", \"#8F00FF\"]\n",
    "sns.set_palette(sns.color_palette(HAPPY_COLORS_PALETTE))\n",
    "\n",
    "# Setting up figure size for plots\n",
    "rcParams['figure.figsize'] = 12, 8\n"
   ]
  },
  {
   "cell_type": "code",
   "execution_count": 8,
   "metadata": {
    "application/vnd.databricks.v1+cell": {
     "cellMetadata": {
      "byteLimit": 2048000,
      "rowLimit": 10000
     },
     "inputWidgets": {},
     "nuid": "f2de98b5-56a0-49d2-9133-c2aec7c426b3",
     "showTitle": false,
     "title": ""
    },
    "id": "IvaPZNSOqRfS"
   },
   "outputs": [],
   "source": [
    "def experimento(tipo: str, idioma: str):\n",
    "    \"\"\"\n",
    "    Configura y devuelve los parámetros para un experimento.\n",
    "\n",
    "    Parámetros\n",
    "    ----------\n",
    "    tipo : str\n",
    "        El tipo de experimento a realizar. Debe ser \"AMAZON\" o \"AGNEWS\".\n",
    "    idioma : str\n",
    "        El idioma del modelo pre-entrenado a utilizar. Debe ser \"EN\" o \"ES\".\n",
    "\n",
    "    Devoluciones\n",
    "    -------\n",
    "    int\n",
    "        El tamaño del lote a utilizar en el experimento.\n",
    "    int\n",
    "        El número de épocas a utilizar en el experimento.\n",
    "    float\n",
    "        La tasa de aprendizaje a utilizar en el experimento.\n",
    "    str\n",
    "        El nombre del modelo pre-entrenado a utilizar en el experimento.\n",
    "\n",
    "    \"\"\"\n",
    "    \n",
    "    experiment_params = {\n",
    "         \"AMAZON\": (16,2,1e-5),\n",
    "        # \"AMAZON\": (16,5,1e-5), # demasiado 5 epochs, casi 6h de entrenamiento. con 2 se consigue casi lo mismo. \n",
    "        # \"AMAZON\":(16, 4, 2e-5),\n",
    "        # \"AMAZON\": (16, 2, 5e-5),\n",
    "        \"AGNEWS\": (32, 4, 3e-5) \n",
    "    }\n",
    "    \n",
    "    model_names = {\n",
    "        \"ES\": 'bert_base_cased', # https://sparknlp.org/2021/09/07/bert_base_cased_es.html\n",
    "        \"EN\": 'small_bert_L4_256',# https://sparknlp.org/2020/08/25/small_bert_L4_256.html\n",
    "    }\n",
    "    \n",
    "    if tipo.upper() not in experiment_params:\n",
    "        print(\"elige experimento\")\n",
    "        return\n",
    "    \n",
    "    if idioma.upper() not in model_names:\n",
    "        print(\"modelo no elegido\")\n",
    "        return\n",
    "    \n",
    "    BATCH_SIZE, EPOCHS, LEARNING_RATE = experiment_params[tipo.upper()]\n",
    "    PRE_TRAINED_MODEL_NAME = model_names[idioma.upper()]\n",
    "    \n",
    "    return  BATCH_SIZE, EPOCHS, LEARNING_RATE, PRE_TRAINED_MODEL_NAME, tipo, idioma\n",
    "\n",
    "BATCH_SIZE, EPOCHS, LEARNING_RATE, PRE_TRAINED_MODEL_NAME, tipo, idioma = experimento(tipo = \"AMAZON\", idioma =\"es\")"
   ]
  },
  {
   "attachments": {},
   "cell_type": "markdown",
   "metadata": {
    "application/vnd.databricks.v1+cell": {
     "cellMetadata": {
      "byteLimit": 2048000,
      "rowLimit": 10000
     },
     "inputWidgets": {},
     "nuid": "c70200f0-7fd5-4b2f-b994-71d67691285e",
     "showTitle": false,
     "title": ""
    },
    "id": "69WyiC--FogB"
   },
   "source": [
    "# En spark NLP - tamaños para los BERT models\n",
    "\n",
    "Modelos elegidos:\n",
    "* Para el modelo de respuesta en inglés [bert_uncased_L-4_H-256_A-4_squad2](https://sparknlp.org/2022/06/02/bert_qa_bert_uncased_L_4_H_256_A_4_squad2_en_3_0.html) \n",
    "  * el más parecido a [google/bert_uncased_L-4_H-256_A-4](https://huggingface.co/google/bert_uncased_L-4_H-256_A-4)\n",
    "* para el modelo de clasificación en español si está el mismo modelo de HugginFace  [bert_base_multilingual_cased](https://sparknlp.org/2021/05/20/bert_base_multilingual_cased_xx.html)\n",
    "\n",
    "<!-- Original values\n",
    "* PRE_TRAINED_MODEL_NAME = 'bert_base_cased'  **389.1 MB**\n",
    "* PRE_TRAINED_MODEL_NAME = 'sent_small_bert_L8_512' **149.1 MB**\n",
    "* PRE_TRAINED_MODEL_NAME = 'small_bert_L4_256' **40.5 MB**\n",
    "\n",
    "Para sentence embeddings.\n",
    "SENTENCE_PRE_TRAINED_MODEL_NAME = 'sent_bert_base_cased'\n",
    "SENTENCE_PRE_TRAINED_MODEL_NAME = 'sent_small_bert_L8_512' **149.1 MB** -->\n",
    "\n",
    "Fuente: [NLP MODELS EN SPARK-NLP](https://nlp.johnsnowlabs.com/models)"
   ]
  },
  {
   "cell_type": "code",
   "execution_count": 9,
   "metadata": {
    "application/vnd.databricks.v1+cell": {
     "cellMetadata": {
      "byteLimit": 2048000,
      "rowLimit": 10000
     },
     "inputWidgets": {},
     "nuid": "4b3a1119-4a07-4305-b2d4-834bdf48aa9d",
     "showTitle": false,
     "title": ""
    },
    "colab": {
     "base_uri": "https://localhost:8080/"
    },
    "id": "DjSNtU_8qlAZ",
    "outputId": "09483da9-9d8a-4e51-a845-7dd1eba9e27a"
   },
   "outputs": [
    {
     "name": "stdout",
     "output_type": "stream",
     "text": [
      "BATCH_SIZE: 16\n",
      "LEARNING_RATE: 1e-05\n",
      "EPOCHS: 2\n",
      "PRE_TRAINED_MODEL_NAME: bert_base_cased\n",
      "PRE_TRAINED_MODEL_NAME FOR SENTENCES: sent_bert_base_cased\n",
      "DATASET: AMAZON\n",
      "Idioma: es\n"
     ]
    }
   ],
   "source": [
    "# Para las Sentence embeddings el nombre del moldelo lleva un prefijo \"sent_\"\n",
    "SENTENCE_PRE_TRAINED_MODEL_NAME = 'sent_'+PRE_TRAINED_MODEL_NAME\n",
    "\n",
    "# Random Seed \n",
    "RANDOM_SEED = 42\n",
    "\n",
    "\n",
    "print(f\"BATCH_SIZE: {BATCH_SIZE}\")\n",
    "print(f\"LEARNING_RATE: {LEARNING_RATE}\")\n",
    "print(f\"EPOCHS: {EPOCHS}\")\n",
    "print(f\"PRE_TRAINED_MODEL_NAME: {PRE_TRAINED_MODEL_NAME}\")\n",
    "print(f\"PRE_TRAINED_MODEL_NAME FOR SENTENCES: {SENTENCE_PRE_TRAINED_MODEL_NAME}\")\n",
    "print(f\"DATASET: {tipo}\")\n",
    "print(f\"Idioma: {idioma}\")"
   ]
  },
  {
   "cell_type": "code",
   "execution_count": 10,
   "metadata": {
    "application/vnd.databricks.v1+cell": {
     "cellMetadata": {
      "byteLimit": 2048000,
      "rowLimit": 10000
     },
     "inputWidgets": {},
     "nuid": "22b7dc4f-7c0a-464d-94b5-66a3077fee3f",
     "showTitle": false,
     "title": ""
    },
    "colab": {
     "base_uri": "https://localhost:8080/"
    },
    "id": "ThqjEH_FqoTA",
    "outputId": "0bc38e67-3b14-4e67-d55a-92e16027012d"
   },
   "outputs": [
    {
     "name": "stdout",
     "output_type": "stream",
     "text": [
      "./sample_data/\n"
     ]
    }
   ],
   "source": [
    "!pip install awscli -qq\n",
    "\n",
    "import subprocess\n",
    "import os\n",
    "import platform\n",
    "\n",
    "if 'dbutils' in globals():\n",
    "    root_folder = os.path.join(\"/dbfs/mnt/edl/data/testing/trs_test\",\"sample_data/\")\n",
    "else:\n",
    "    root_folder = \"./sample_data/\"\n",
    "print(root_folder)\n",
    "\n",
    "\n",
    "def download_files(root_folder,tipo):\n",
    "    \"\"\"\n",
    "    Descarga los archivos dataset_es_test.json y dataset_es_train.json desde Amazon S3.\n",
    "    :param root_folder: ruta de la carpeta donde se guardarán los archivos descargados\n",
    "    \"\"\"\n",
    "    if tipo.upper() == 'AGNEWS':\n",
    "        \n",
    "        if not os.path.isfile(os.path.join(root_folder,'news_category_train.csv')):\n",
    "            print(\"descargando train en\",root_folder)\n",
    "            subprocess.run(f\"wget https://raw.githubusercontent.com/JohnSnowLabs/spark-nlp-workshop/master/tutorials/Certification_Trainings/Public/data/news_category_train.csv -P  {root_folder} -q\")\n",
    "        if not os.path.isfile(os.path.join(root_folder,'news_category_test.csv')):\n",
    "            print(\"descargando test en\",root_folder)\n",
    "            subprocess.run(f\"wget https://raw.githubusercontent.com/JohnSnowLabs/spark-nlp-workshop/master/tutorials/Certification_Trainings/Public/data/news_category_test.csv -P {root_folder} -q\")\n",
    "    else:\n",
    "        if not os.path.isfile(os.path.join(root_folder,'dataset_es_test.json')):\n",
    "            print(\"descargando test en\",root_folder)\n",
    "            subprocess.run(f\"aws s3 cp s3://amazon-reviews-ml/json/test/dataset_es_test.json {root_folder} --no-sign-request\", shell=True)\n",
    "    \n",
    "        if not os.path.isfile(os.path.join(root_folder,'dataset_es_train.json')):\n",
    "            print(\"descargando train en\",root_folder)\n",
    "            subprocess.run(f\"aws s3 cp s3://amazon-reviews-ml/json/train/dataset_es_train.json {root_folder} --no-sign-request\", shell=True)\n",
    "\n",
    "download_files(root_folder,tipo)"
   ]
  },
  {
   "cell_type": "code",
   "execution_count": 11,
   "metadata": {
    "application/vnd.databricks.v1+cell": {
     "cellMetadata": {
      "byteLimit": 2048000,
      "rowLimit": 10000
     },
     "inputWidgets": {},
     "nuid": "16e30199-fec7-47f7-a4f1-0a0e0f4c86e7",
     "showTitle": false,
     "title": ""
    },
    "id": "6hxkq6zmqs-f"
   },
   "outputs": [
    {
     "name": "stdout",
     "output_type": "stream",
     "text": [
      "['dataset_es_test.json', 'dataset_es_train.json', 'news_category_test.csv', 'news_category_train.csv']\n"
     ]
    }
   ],
   "source": [
    "if 'dbutils' in globals():\n",
    "    spark.createDataFrame(dbutils.fs.ls(root_folder.lstrip(\"/dbfs\"))).show(truncate=False)\n",
    "else:\n",
    "    print(os.listdir(root_folder))"
   ]
  },
  {
   "cell_type": "code",
   "execution_count": 12,
   "metadata": {
    "application/vnd.databricks.v1+cell": {
     "cellMetadata": {
      "byteLimit": 2048000,
      "rowLimit": 10000
     },
     "inputWidgets": {},
     "nuid": "82d1ed2c-a77e-45fa-9148-84ba8b341362",
     "showTitle": false,
     "title": ""
    },
    "colab": {
     "base_uri": "https://localhost:8080/"
    },
    "id": "o-gFeeluqvZL",
    "outputId": "096dbab5-fa3b-4e5a-d18e-efe0dcf437f8"
   },
   "outputs": [
    {
     "name": "stdout",
     "output_type": "stream",
     "text": [
      "./sample_data/dataset_es_train.json\n",
      "./sample_data/dataset_es_test.json\n"
     ]
    }
   ],
   "source": [
    "if tipo.upper() == 'AGNEWS':\n",
    "    # para AGNEWS\n",
    "    traindata = os.path.join(root_folder, \"news_category_train.csv\")\n",
    "    testdata = os.path.join(root_folder, \"news_category_test.csv\") \n",
    "    if 'dbutils' in globals():\n",
    "        traindata = traindata.replace(\"/dbfs\",\"\")\n",
    "        testdata = testdata.replace(\"/dbfs\",\"\")\n",
    "\n",
    "else:\n",
    "    # para amazon    \n",
    "    traindata = os.path.join(root_folder, \"dataset_es_train.json\")\n",
    "    testdata = os.path.join(root_folder, \"dataset_es_test.json\") \n",
    "    if 'dbutils' in globals():\n",
    "        traindata = traindata.replace(\"/dbfs\",\"\")\n",
    "        testdata = testdata.replace(\"/dbfs\",\"\")\n",
    "print(traindata)\n",
    "print(testdata)"
   ]
  },
  {
   "cell_type": "code",
   "execution_count": 13,
   "metadata": {
    "application/vnd.databricks.v1+cell": {
     "cellMetadata": {
      "byteLimit": 2048000,
      "rowLimit": 10000
     },
     "inputWidgets": {},
     "nuid": "c97f689d-61f0-4be3-b783-5208b89dc508",
     "showTitle": false,
     "title": ""
    },
    "colab": {
     "base_uri": "https://localhost:8080/"
    },
    "id": "nzW521G-OdUR",
    "outputId": "0bfa8f0d-7b68-4ba5-9001-7fa9dd6f4a39"
   },
   "outputs": [
    {
     "name": "stdout",
     "output_type": "stream",
     "text": [
      "{\"review_id\": \"es_0491108\", \"product_id\": \"product_es_0296024\", \"reviewer_id\": \"reviewer_es_0999081\", \"stars\": \"1\", \"review_body\": \"Nada bueno se me fue ka pantalla en menos de 8 meses y no he recibido respuesta del fabricante\", \"review_title\": \"television Nevir\", \"language\": \"es\", \"product_category\": \"electronics\"}\n",
      "{\"review_id\": \"es_0869872\", \"product_id\": \"product_es_0922286\", \"reviewer_id\": \"reviewer_es_0216771\", \"stars\": \"1\", \"review_body\": \"Horrible, nos tuvimos que comprar otro porque ni nosotros que sabemos ingl\\u00e9s, ni un inform\\u00e1tico, despu\\u00e9s de una hora fue capaz de instalarlo\", \"review_title\": \"Dinero tirado a la basura con esta compra\", \"language\": \"es\", \"product_category\": \"electronics\"}\n",
      "{\"review_id\": \"es_0811721\", \"product_id\": \"product_es_0474543\", \"reviewer_id\": \"reviewer_es_0929213\", \"stars\": \"1\", \"review_body\": \"Te obligan a comprar dos unidades y te llega solo una y no hay forma de reclamar, una autentica estafa, no compreis!!\", \"review_title\": \"solo llega una unidad cuando te obligan a comprar dos\", \"language\": \"es\", \"product_category\": \"drugstore\"}\n",
      "{\"review_id\": \"es_0359921\", \"product_id\": \"product_es_0656090\", \"reviewer_id\": \"reviewer_es_0224702\", \"stars\": \"1\", \"review_body\": \"No entro en descalificar al vendedor, solo puedo decir que tras dos meses de espera.... sigo sin el producto y tuve que contactar con Amazon para reclamar su reembolso. Amazon un 10 . Se hace cargo del problema, pero yo e desembolsado mi dinero y en dos meses me lo devuelven Perdida de tiempo TOTAL. Sin palabras. Y Ustedes deciden\", \"review_title\": \"PRODUCTO NO RECIBIDO.\", \"language\": \"es\", \"product_category\": \"wireless\"}\n",
      "{\"review_id\": \"es_0068940\", \"product_id\": \"product_es_0662544\", \"reviewer_id\": \"reviewer_es_0224827\", \"stars\": \"1\", \"review_body\": \"Llega tarde y co la talla equivocada\", \"review_title\": \"Devuelto\", \"language\": \"es\", \"product_category\": \"shoes\"}\n",
      "{\"review_id\": \"es_0779978\", \"product_id\": \"product_es_0103315\", \"reviewer_id\": \"reviewer_es_0304973\", \"stars\": \"1\", \"review_body\": \"Jam\\u00e1s me lleg\\u00f3 y el vendedor nunca contacto conmigo a pesar de intentarlo 2 veces\", \"review_title\": \"Jam\\u00e1s me lleg\\u00f3\", \"language\": \"es\", \"product_category\": \"home\"}\n",
      "{\"review_id\": \"es_0591840\", \"product_id\": \"product_es_0880915\", \"reviewer_id\": \"reviewer_es_0642702\", \"stars\": \"1\", \"review_body\": \"El paraguas es de muy mala calidad,da la sensaci\\u00f3n que se va a romper cuando lo abres. Es muy cutre.\", \"review_title\": \"Horroroso!!!\", \"language\": \"es\", \"product_category\": \"luggage\"}\n",
      "{\"review_id\": \"es_0173297\", \"product_id\": \"product_es_0814677\", \"reviewer_id\": \"reviewer_es_0895784\", \"stars\": \"1\", \"review_body\": \"Tuve que devolverla porque al ser triangular no se agarra de forma c\\u00f3moda para la escritura. Bonita, calidad-precio aceptable, pero poco funcional.\", \"review_title\": \"Poco funcional\", \"language\": \"es\", \"product_category\": \"office_product\"}\n",
      "{\"review_id\": \"es_0101300\", \"product_id\": \"product_es_0654228\", \"reviewer_id\": \"reviewer_es_0789283\", \"stars\": \"1\", \"review_body\": \"Estoy esperando despues de protestar varias veces pero veo que no hay solucion y no haceis caso me dicen de un reembolso pero yo quiero el auricular\", \"review_title\": \"No me llego\", \"language\": \"es\", \"product_category\": \"electronics\"}\n",
      "{\"review_id\": \"es_0487007\", \"product_id\": \"product_es_0877793\", \"reviewer_id\": \"reviewer_es_0986278\", \"stars\": \"1\", \"review_body\": \"Defectuoso. En apariencia muy bien producto, pero al tercer uso del vaso mezclador m\\u00e1s grande ha dejado de funcionar. Intentaba hacer un pur\\u00e9, nada que requiera una fuerza excesiva y las cuchillas dejaron de girar. Una pena porque es una herramienta, en principio, muy funcional. Al final lo \\u201cbarato\\u201d sale caro. Tres meses de vida. Decepcionada.\", \"review_title\": \"Mala calidad, defectuoso\", \"language\": \"es\", \"product_category\": \"kitchen\"}\n"
     ]
    }
   ],
   "source": [
    "if 'dbutils' in globals():\n",
    "    !head /dbfs{traindata}\n",
    "elif platform.system() == 'Linux':\n",
    "    !head {traindata}\n",
    "else:\n",
    "    !powershell -command \"gc {traindata} | select -first 10 # head\""
   ]
  },
  {
   "cell_type": "code",
   "execution_count": 14,
   "metadata": {
    "application/vnd.databricks.v1+cell": {
     "cellMetadata": {
      "byteLimit": 2048000,
      "rowLimit": 10000
     },
     "inputWidgets": {},
     "nuid": "3a5e7095-dd62-4f77-824e-8ed6c980df25",
     "showTitle": false,
     "title": ""
    },
    "colab": {
     "base_uri": "https://localhost:8080/"
    },
    "id": "4c0iy1abqyni",
    "outputId": "f0b10ee9-0a6c-4e5f-d3da-b988995af0c0"
   },
   "outputs": [
    {
     "name": "stdout",
     "output_type": "stream",
     "text": [
      "Tamaño total  200000 2\n",
      "+-----+---------------------------------------------------------------------------------------------------------------------------------------------------------------------------------------------------------------------------------------------------------------------------------------------------------------------------------------------------------+\n",
      "|stars|description                                                                                                                                                                                                                                                                                                                                              |\n",
      "+-----+---------------------------------------------------------------------------------------------------------------------------------------------------------------------------------------------------------------------------------------------------------------------------------------------------------------------------------------------------------+\n",
      "|1    |Nada bueno se me fue ka pantalla en menos de 8 meses y no he recibido respuesta del fabricante                                                                                                                                                                                                                                                           |\n",
      "|1    |Horrible, nos tuvimos que comprar otro porque ni nosotros que sabemos inglés, ni un informático, después de una hora fue capaz de instalarlo                                                                                                                                                                                                             |\n",
      "|1    |Te obligan a comprar dos unidades y te llega solo una y no hay forma de reclamar, una autentica estafa, no compreis!!                                                                                                                                                                                                                                    |\n",
      "|1    |No entro en descalificar al vendedor, solo puedo decir que tras dos meses de espera.... sigo sin el producto y tuve que contactar con Amazon para reclamar su reembolso. Amazon un 10 . Se hace cargo del problema, pero yo e desembolsado mi dinero y en dos meses me lo devuelven Perdida de tiempo TOTAL. Sin palabras. Y Ustedes deciden             |\n",
      "|1    |Llega tarde y co la talla equivocada                                                                                                                                                                                                                                                                                                                     |\n",
      "|1    |Jamás me llegó y el vendedor nunca contacto conmigo a pesar de intentarlo 2 veces                                                                                                                                                                                                                                                                        |\n",
      "|1    |El paraguas es de muy mala calidad,da la sensación que se va a romper cuando lo abres. Es muy cutre.                                                                                                                                                                                                                                                     |\n",
      "|1    |Tuve que devolverla porque al ser triangular no se agarra de forma cómoda para la escritura. Bonita, calidad-precio aceptable, pero poco funcional.                                                                                                                                                                                                      |\n",
      "|1    |Estoy esperando despues de protestar varias veces pero veo que no hay solucion y no haceis caso me dicen de un reembolso pero yo quiero el auricular                                                                                                                                                                                                     |\n",
      "|1    |Defectuoso. En apariencia muy bien producto, pero al tercer uso del vaso mezclador más grande ha dejado de funcionar. Intentaba hacer un puré, nada que requiera una fuerza excesiva y las cuchillas dejaron de girar. Una pena porque es una herramienta, en principio, muy funcional. Al final lo “barato” sale caro. Tres meses de vida. Decepcionada.|\n",
      "+-----+---------------------------------------------------------------------------------------------------------------------------------------------------------------------------------------------------------------------------------------------------------------------------------------------------------------------------------------------------------+\n",
      "only showing top 10 rows\n",
      "\n"
     ]
    }
   ],
   "source": [
    "from pyspark.sql.functions import col, when\n",
    "from pyspark.sql import SparkSession\n",
    "\n",
    "if tipo.upper() == 'AGNEWS':\n",
    "    df = spark.read.option(\"header\", True).csv(traindata,mode=\"DROPMALFORMED\")\n",
    "    df_testdata = spark.read.option(\"header\", True).csv(testdata,mode=\"DROPMALFORMED\")\n",
    "else:        \n",
    "    df = spark.read.json(traindata).select(\n",
    "        col(\"stars\"), col(\"review_body\").alias(\"description\")\n",
    "    )\n",
    "    df_testdata = spark.read.json(testdata).select(\n",
    "        col(\"stars\"), col(\"review_body\").alias(\"description\")\n",
    "    )\n",
    "\n",
    "print(\n",
    "    \"Tamaño total \", df.count(), len(df.columns)\n",
    ")  # dataframe shape only exists in recent versions\n",
    "\n",
    "df.show(10, truncate=False)"
   ]
  },
  {
   "attachments": {},
   "cell_type": "markdown",
   "metadata": {
    "application/vnd.databricks.v1+cell": {
     "cellMetadata": {
      "byteLimit": 2048000,
      "rowLimit": 10000
     },
     "inputWidgets": {},
     "nuid": "edd123d1-8803-4ca4-81aa-c6b9cd926ebd",
     "showTitle": false,
     "title": ""
    },
    "id": "NihF6SH0tNHS"
   },
   "source": [
    "# Creando las categorías del sentiment en base al numero de estrellas:\n",
    "Este fragmento de código crea una nueva columna llamada \"sentiment\" en dos DataFrames `df` y `df_testdata`. La columna \"sentiment\" se llena con valores basados en la columna \"stars\" de cada DataFrame.\n",
    "\n",
    "Para cada fila en el DataFrame `df`, si el valor en la columna \"stars\" está entre 0 y 2 (exclusivo), el valor correspondiente en la columna \"sentiment\" se establece en \"negative\". Si el valor en la columna \"stars\" es igual a 3, el valor correspondiente en la columna \"sentiment\" se establece en \"neutral\". Para todos los demás valores en la columna \"stars\", el valor correspondiente en la columna \"sentiment\" se establece en \"positive\".\n",
    "\n",
    "El mismo proceso se aplica al DataFrame `df_testdata`.\n",
    "\n",
    "Esto se logra utilizando la función `when` de spark, que toma una lista de condiciones y una lista de valores a seleccionar cuando se cumple cada condición. Si ninguna de las condiciones se cumple para un elemento dado, se selecciona el valor especificado por el parámetro `otherwise`."
   ]
  },
  {
   "cell_type": "code",
   "execution_count": 15,
   "metadata": {
    "application/vnd.databricks.v1+cell": {
     "cellMetadata": {
      "byteLimit": 2048000,
      "rowLimit": 10000
     },
     "inputWidgets": {},
     "nuid": "4119e4e6-099f-41a5-af69-685eee84dfda",
     "showTitle": false,
     "title": ""
    },
    "colab": {
     "base_uri": "https://localhost:8080/"
    },
    "id": "cM3zbGRZrSSA",
    "outputId": "7c251738-f041-4033-964f-721c51576824"
   },
   "outputs": [
    {
     "name": "stdout",
     "output_type": "stream",
     "text": [
      "+-----+------------------------------------------------------------------------------------------+---------+----------------+\n",
      "|stars|                                                                               description|sentiment|category_encoded|\n",
      "+-----+------------------------------------------------------------------------------------------+---------+----------------+\n",
      "|    1|no me llego el articulo me lo mando por correos normal sin seguimiento y nunca me llego...| negative|             0.0|\n",
      "|    1|                                                     la mensajería horrible, no compro mas| negative|             0.0|\n",
      "|    1|Estoy muy decepcionado con el vendedor ya que el pedido no me llegó a tiempo y no cumpl...| negative|             0.0|\n",
      "|    1|Mi valoración no es sobre el producto sino sobre AMAZON. Ofrecéis el producto a 299€ y ...| negative|             0.0|\n",
      "|    1|Pues tenía interés en este libro y probé la versión kindle. se abre la portada pero nad...| negative|             0.0|\n",
      "|    1|Compre este teclado al ver sus buenos comentarios y apariencia pero al llegar a casa, l...| negative|             0.0|\n",
      "|    1|                                                         Sigue sin llegar después de meses| negative|             0.0|\n",
      "|    1|                                       No sirve para nada, es malo y se rompe y se despega| negative|             0.0|\n",
      "|    1|Todavía espero que me llegue despues dw una semana de retraso, pesimo trato por parte d...| negative|             0.0|\n",
      "|    1|La peor cámara que he tenido en mis manos. Dos veces la he tenido que reemplazar al pri...| negative|             0.0|\n",
      "+-----+------------------------------------------------------------------------------------------+---------+----------------+\n",
      "only showing top 10 rows\n",
      "\n"
     ]
    }
   ],
   "source": [
    "from pyspark.ml.feature import StringIndexer\n",
    "if tipo.upper() == 'AGNEWS':\n",
    "    # Codificar las etiquetas categóricas como números enteros\n",
    "    label_indexer = StringIndexer(inputCol=\"category\", outputCol=\"label\").fit(df)\n",
    "    df = label_indexer.transform(df)\n",
    "    df_testdata = label_indexer.transform(df_testdata)\n",
    "\n",
    "else: \n",
    "    # me creo categorias porque para Amazon hay hasta 6 estrellas, de diversos grados, es mejor reducir\n",
    "    df = df.withColumn(\n",
    "        \"sentiment\",\n",
    "        when(df[\"stars\"].between(0, 2), \"negative\")\n",
    "        .when(df[\"stars\"] == 3, \"neutral\")\n",
    "        .otherwise(\"positive\")\n",
    "    )\n",
    "\n",
    "    df_testdata = df_testdata.withColumn(\n",
    "        \"sentiment\",\n",
    "        when(df_testdata[\"stars\"].between(0, 2), \"negative\")\n",
    "        .when(df_testdata[\"stars\"] == 3, \"neutral\")\n",
    "        .otherwise(\"positive\")\n",
    "    )\n",
    "    indexer = StringIndexer(inputCol=\"sentiment\", outputCol=\"category_encoded\")\n",
    "    indexer_model = indexer.fit(df)\n",
    "    df = indexer_model.transform(df)\n",
    "    df_testdata = indexer_model.transform(df_testdata)\n",
    "\n",
    "df_testdata.show(10,truncate=90)\n"
   ]
  },
  {
   "cell_type": "code",
   "execution_count": 16,
   "metadata": {
    "application/vnd.databricks.v1+cell": {
     "cellMetadata": {
      "byteLimit": 2048000,
      "rowLimit": 10000
     },
     "inputWidgets": {},
     "nuid": "e5437612-5896-4bf5-a037-a1c5f507ab3c",
     "showTitle": false,
     "title": ""
    },
    "colab": {
     "base_uri": "https://localhost:8080/"
    },
    "id": "SbNFcO8iCOgd",
    "outputId": "9f679d80-638c-4020-9ad9-387c2617e57b"
   },
   "outputs": [
    {
     "name": "stdout",
     "output_type": "stream",
     "text": [
      "+---------+-----+\n",
      "|sentiment|count|\n",
      "+---------+-----+\n",
      "| negative|40000|\n",
      "|  neutral|40000|\n",
      "| positive|40000|\n",
      "+---------+-----+\n",
      "\n"
     ]
    }
   ],
   "source": [
    "# # igualamos el numero de ocurrencias por categoria para no tener bias.\n",
    "# df_temp = df.filter(col(\"sentiment\") == \"negative\").limit(40000) \\\n",
    "#     .union(df.filter(col(\"sentiment\") == \"neutral\").limit(40000)) \\\n",
    "#     .union(df.filter(col(\"sentiment\") == \"positive\").limit(40000))\n",
    "\n",
    "# df_testdata_temp = df_testdata.filter(col(\"sentiment\") == \"negative\").limit(1000) \\\n",
    "#     .union(df_testdata.filter(col(\"sentiment\") == \"neutral\").limit(1000)) \\\n",
    "#     .union(df_testdata.filter(col(\"sentiment\") == \"positive\").limit(1000))\n",
    "\n",
    "# # reemplazamos los dataset uno con los datos, df para train y val, y df_testdata para la prueba \"test\"\n",
    "# df = df_temp\n",
    "# df_testdata = df_testdata_temp\n",
    "\n",
    "\n",
    "\n",
    "def balance_df(df, category_col):\n",
    "    # Obtener el número mínimo de registros por categoría\n",
    "    min_count = df.groupBy(category_col).count().select(\"count\").agg({\"count\": \"min\"}).collect()[0][0]\n",
    "    \n",
    "    # Crear una lista vacía para almacenar los dataframes por categoría\n",
    "    dfs = []\n",
    "    \n",
    "    # Iterar sobre cada categoría y obtener un sub-dataframe con el número mínimo de registros\n",
    "    for category in df.select(category_col).distinct().collect():\n",
    "        category_df = df.filter(col(category_col) == category[category_col]).limit(min_count)\n",
    "        dfs.append(category_df)\n",
    "    \n",
    "    # Unir todos los dataframes por categoría en un solo dataframe\n",
    "    balanced_df = dfs[0]\n",
    "    for df in dfs[1:]:\n",
    "        balanced_df = balanced_df.union(df)\n",
    "    \n",
    "    return balanced_df\n",
    "\n",
    "if tipo.upper() == 'AGNEWS':\n",
    "    col_categoria = \"category\"\n",
    "else:\n",
    "    col_categoria = \"sentiment\"\n",
    "\n",
    "df = balance_df(df, col_categoria)\n",
    "df_testdata = balance_df(df_testdata, col_categoria)\n",
    "\n",
    "\n",
    "df.groupBy(col_categoria).count().filter(col(\"count\") > 1).show()"
   ]
  },
  {
   "cell_type": "code",
   "execution_count": 17,
   "metadata": {
    "application/vnd.databricks.v1+cell": {
     "cellMetadata": {
      "byteLimit": 2048000,
      "rowLimit": 10000
     },
     "inputWidgets": {},
     "nuid": "b68b4933-70a4-452d-acea-9bf2f549a2e7",
     "showTitle": false,
     "title": ""
    },
    "colab": {
     "base_uri": "https://localhost:8080/",
     "height": 734
    },
    "id": "zI-1BlhbC3pT",
    "outputId": "e80effc9-66a3-4f85-a36c-64985884b519"
   },
   "outputs": [
    {
     "data": {
      "image/png": "[encoded data removed]",
      "text/plain": [
       "<Figure size 1200x800 with 1 Axes>"
      ]
     },
     "metadata": {
      "image/png": {
       "height": 712,
       "width": 1037
      }
     },
     "output_type": "display_data"
    }
   ],
   "source": [
    "import matplotlib.pyplot as plt\n",
    "\n",
    "sentiment_counts = df.groupBy(col_categoria).count().toPandas()\n",
    "\n",
    "colors = [ \"#7f7f7f\", \"#bcbd22\", \"#17becf\", \"#1a55FF\", \"#1f77b4\", \"#ff7f0e\", \"#2ca02c\", \"#d62728\", \"#9467bd\", \"#8c564b\", \"#e377c2\", ]\n",
    "\n",
    "plt.bar(sentiment_counts[col_categoria], sentiment_counts[\"count\"],color = colors)\n",
    "plt.xlabel(col_categoria)\n",
    "plt.ylabel(\"Recuento\")\n",
    "plt.title(f\"{col_categoria} Recuento\")\n",
    "plt.show()"
   ]
  },
  {
   "attachments": {},
   "cell_type": "markdown",
   "metadata": {
    "application/vnd.databricks.v1+cell": {
     "cellMetadata": {
      "byteLimit": 2048000,
      "rowLimit": 10000
     },
     "inputWidgets": {},
     "nuid": "e4d16161-efc9-4be4-a71d-9ff031c7a9ea",
     "showTitle": false,
     "title": ""
    },
    "id": "k-ywY0uaHCf1"
   },
   "source": [
    "Explicación del naming en los modelos Bert de Spark NLP. \n",
    "* \"L\" indica qué capa de agrupación (pooling layer) se utiliza al producir las incrustaciones (embeddings) \n",
    "* \"H\" significa la dimensión de las embeddings devueltas.\n",
    "\n",
    "Por ejemplo, si utilizamos `BertSentenceEmbeddings` con el valor `'sent_small_bert_L8_512'` significa que simplemente cargamos Bert Sentence Embeddings Small con dimensión L8 y 512 y lo usamos en lugar de USE. Como puede ver, es casi 8 veces más pequeño que el tamaño de USE con el poder de Bert.\n",
    "\n",
    "El modelo se puede utilizar de manera offline si se desea, pero habría que descargarlo previamente. Para no incrementar el tamaño del repositorio dejamos a SPARK_NLP que lo baje automáticamente.\n",
    "\n",
    "\n",
    "En el contexto del Procesamiento del Lenguaje Natural (NLP), USE significa **Universal Sentence Encoder**. Es una herramienta desarrollada por Google que convierte una cadena de palabras en vectores de 512 dimensiones. Estos vectores capturan el significado semántico de la secuencia de palabras en una oración y, por lo tanto, pueden usarse como entradas para otras tareas de NLP posteriores, como clasificación, medición de similitud semántica, etc ."
   ]
  },
  {
   "attachments": {},
   "cell_type": "markdown",
   "metadata": {
    "application/vnd.databricks.v1+cell": {
     "cellMetadata": {
      "byteLimit": 2048000,
      "rowLimit": 10000
     },
     "inputWidgets": {},
     "nuid": "31526d87-65a0-467b-9a41-9c31488fcf6b",
     "showTitle": false,
     "title": ""
    },
    "id": "nNJt-pLmJhPV"
   },
   "source": [
    "A continuación se está construyendo un pipeline de procesamiento de Spark NLP. Primero, se está creando un `DocumentAssembler` para convertir la columna \"review_body\" en un documento y almacenarlo en la columna \"document\". Luego, se está creando un `Tokenizer` para dividir el documento en tokens y almacenarlos en la columna \"token\".\n",
    "\n",
    "Después, se está utilizando `BertEmbeddings` para crear incrustaciones (embeddings) de palabras utilizando un modelo pre-entrenado especificado por `PRE_TRAINED_MODEL_NAME`. Estas incrustaciones se almacenan en la columna \"embeddings\".\n",
    "\n",
    "A continuación, se está utilizando `SentenceEmbeddings` para calcular las incrustaciones de oraciones a partir de las incrustaciones de palabras utilizando un promedio y almacenarlas en la columna \"sentence_embeddings\".\n",
    "\n",
    "Finalmente, se está creando un clasificador `ClassifierDLApproach` que utiliza las incrustaciones de oraciones como entrada para clasificar el sentimiento del texto. El clasificador se entrena durante un número especificado de épocas con una tasa de aprendizaje y tamaño de lote especificados.\n",
    "\n",
    "Todo el pipeline se construye utilizando estas etapas y se almacena en la variable `bert_clf_pipeline`."
   ]
  },
  {
   "cell_type": "code",
   "execution_count": 20,
   "metadata": {},
   "outputs": [
    {
     "name": "stdout",
     "output_type": "stream",
     "text": [
      "idioma es\n"
     ]
    }
   ],
   "source": [
    "languaje='en'\n",
    "if idioma.upper() == \"ES\":\n",
    "    # se configura el tokenizador/embebedor en multiidioma \n",
    "    languaje='es'\n",
    "print(f\"idioma {languaje}\")"
   ]
  },
  {
   "cell_type": "code",
   "execution_count": 21,
   "metadata": {
    "application/vnd.databricks.v1+cell": {
     "cellMetadata": {
      "byteLimit": 2048000,
      "rowLimit": 10000
     },
     "inputWidgets": {},
     "nuid": "db54566e-089c-4c1c-b9be-722d8c58e50e",
     "showTitle": false,
     "title": ""
    },
    "colab": {
     "base_uri": "https://localhost:8080/"
    },
    "id": "hoiAvy9yDRTy",
    "outputId": "fce754a3-3221-46a5-9ce2-e15d6510d538"
   },
   "outputs": [
    {
     "name": "stdout",
     "output_type": "stream",
     "text": [
      "bert_base_cased download started this may take some time.\n",
      "Approximate size to download 392,9 MB\n",
      "[OK!]\n"
     ]
    }
   ],
   "source": [
    "document_assembler = DocumentAssembler() \\\n",
    "    .setInputCol(\"description\") \\\n",
    "    .setOutputCol(\"document\")\n",
    "    \n",
    "tokenizer = Tokenizer() \\\n",
    "    .setInputCols([\"document\"]) \\\n",
    "    .setOutputCol(\"token\") \\\n",
    "    .setMaxLength(150)\n",
    "\n",
    "# BertEmbeddings utiliza los datos de una red neuronal entrenada previamente (el nombre del modelo) para crear codificar las palabras que contiene cada texto \n",
    "# convirtiendo a vectores dichas palabras. (codificandolas) AQUI USE AL PRINCIPIO 'small_bert_L4_256'\n",
    "bert_embeddings = BertEmbeddings().pretrained(name=PRE_TRAINED_MODEL_NAME, lang=languaje) \\\n",
    "    .setInputCols([\"document\",'token'])\\\n",
    "    .setOutputCol(\"embeddings\")\n",
    "#\n",
    "embeddingsSentence = SentenceEmbeddings() \\\n",
    "    .setInputCols([\"document\", \"embeddings\"]) \\\n",
    "    .setOutputCol(\"sentence_embeddings\") \\\n",
    "    .setPoolingStrategy(\"AVERAGE\")\n",
    "# ClassifierDLApproach: ClassifierDL Utiliza el State-of-the-art de las Universal Sentence Encoder como input para iniciar clasificaciones de texto.\n",
    "# es un clasificador que contiene casi 100 clases de tensorflow, usa modelos de deep learning DNN\n",
    "# LR 5e-3f BATCHSIZE 8\n",
    "classsifierdl = ClassifierDLApproach()\\\n",
    "    .setInputCols([\"sentence_embeddings\"])\\\n",
    "    .setOutputCol(\"class\")\\\n",
    "    .setLabelColumn(col_categoria)\\\n",
    "    .setMaxEpochs(EPOCHS)\\\n",
    "    .setLr(LEARNING_RATE)\\\n",
    "    .setBatchSize(BATCH_SIZE)\\\n",
    "    .setEnableOutputLogs(True)\n",
    "    #.setOutputLogsPath('logs')\n",
    "\n",
    "bert_clf_pipeline = Pipeline(stages=[\n",
    "    document_assembler, \n",
    "    tokenizer,\n",
    "    bert_embeddings,\n",
    "    embeddingsSentence,\n",
    "    classsifierdl\n",
    "])"
   ]
  },
  {
   "attachments": {},
   "cell_type": "markdown",
   "metadata": {
    "application/vnd.databricks.v1+cell": {
     "cellMetadata": {
      "byteLimit": 2048000,
      "rowLimit": 10000
     },
     "inputWidgets": {},
     "nuid": "a43116ef-5005-484c-9ab4-03c42173abb4",
     "showTitle": false,
     "title": ""
    },
    "id": "32vc5FNlKH02"
   },
   "source": [
    "# Creación del train y val datasets\n",
    "\n",
    "HAY QUE HACER ONE HOT ENCODING PARA PODER METERLO EN EL BERT"
   ]
  },
  {
   "cell_type": "code",
   "execution_count": 22,
   "metadata": {
    "application/vnd.databricks.v1+cell": {
     "cellMetadata": {
      "byteLimit": 2048000,
      "rowLimit": 10000
     },
     "inputWidgets": {},
     "nuid": "0b5d43ca-00d9-4aa5-8777-c57d5c2dbb97",
     "showTitle": false,
     "title": ""
    },
    "colab": {
     "base_uri": "https://localhost:8080/"
    },
    "id": "VDE5X3RHKq1s",
    "outputId": "a55da031-2014-4a9f-836e-485f34f49fb8"
   },
   "outputs": [
    {
     "name": "stdout",
     "output_type": "stream",
     "text": [
      "84201\n",
      "35799\n"
     ]
    }
   ],
   "source": [
    "df_train, df_eval = df.randomSplit([0.7, 0.3], seed=RANDOM_SEED)\n",
    "for dataset in (df_train, df_eval):\n",
    "  print(dataset.count())"
   ]
  },
  {
   "attachments": {},
   "cell_type": "markdown",
   "metadata": {
    "application/vnd.databricks.v1+cell": {
     "cellMetadata": {
      "byteLimit": 2048000,
      "rowLimit": 10000
     },
     "inputWidgets": {},
     "nuid": "e41cced4-adb2-4036-b41f-9325d1636ad9",
     "showTitle": false,
     "title": ""
    },
    "id": "cxazd96MT_R1"
   },
   "source": [
    "# Ajuste del modelo (FIT)"
   ]
  },
  {
   "cell_type": "code",
   "execution_count": 23,
   "metadata": {
    "application/vnd.databricks.v1+cell": {
     "cellMetadata": {
      "byteLimit": 2048000,
      "rowLimit": 10000
     },
     "inputWidgets": {},
     "nuid": "01aa1e51-9411-4854-994e-d1ccdc6c3eab",
     "showTitle": false,
     "title": ""
    },
    "id": "h4vZXVLKISOc"
   },
   "outputs": [
    {
     "name": "stdout",
     "output_type": "stream",
     "text": [
      "CPU times: total: 359 ms\n",
      "Wall time: 4h 35min 55s\n"
     ]
    }
   ],
   "source": [
    "%%time\n",
    "inicio = time.time()\n",
    "bert_Model = bert_clf_pipeline.fit(df_train)\n",
    "fin = time.time() - inicio "
   ]
  },
  {
   "cell_type": "code",
   "execution_count": 24,
   "metadata": {},
   "outputs": [
    {
     "name": "stdout",
     "output_type": "stream",
     "text": [
      "modelo guardado en ../resultados/modelos/2023-05-27_22-58-02_AMAZON_bert_model_state_es_sparknlp.bin\n"
     ]
    }
   ],
   "source": [
    "import os\n",
    "import shutil\n",
    "import datetime\n",
    "from pyspark.ml.pipeline import PipelineModel\n",
    "\n",
    "def guardar_modelo(tipo, idioma, modelo: PipelineModel):\n",
    "    \"\"\"\n",
    "    Guarda el modelo en la ruta especificada.\n",
    "\n",
    "    Args:\n",
    "    modelo: modelo a guardar.\n",
    "    ruta_guardado: ruta donde se guardará el modelo.\n",
    "    nombre_especifico: nombre específico para el archivo del modelo guardado.\n",
    "    \"\"\"\n",
    "    ruta_guardado = '../resultados/modelos/'\n",
    "    # Crear la carpeta si no existe\n",
    "    carpeta_guardado = os.path.dirname(ruta_guardado)\n",
    "    if not os.path.exists(carpeta_guardado):\n",
    "        os.makedirs(carpeta_guardado)\n",
    "    \n",
    "    fecha_actual = datetime.datetime.now().strftime(r\"%Y-%m-%d_%H-%M-%S\")\n",
    "    nombre_archivo = f\"{fecha_actual}_{tipo}_bert_model_state_{idioma}_sparknlp.bin\"\n",
    "\n",
    "    # Unir la ruta de la carpeta con el nombre del archivo\n",
    "    ruta_archivo = os.path.join(ruta_guardado, nombre_archivo)\n",
    "    modelo.save(ruta_archivo)\n",
    "    print(f\"modelo guardado en {ruta_archivo}\")\n",
    "\n",
    "\n",
    "guardar_modelo(tipo, idioma, bert_Model )\n"
   ]
  },
  {
   "cell_type": "code",
   "execution_count": 32,
   "metadata": {},
   "outputs": [],
   "source": [
    "import pandas as pd\n",
    "def guardar_metadata(BATCH_SIZE, EPOCHS, LEARNING_RATE, PRE_TRAINED_MODEL_NAME, tipo, idioma, train_acc:torch.tensor, val_acc:torch.tensor, fin):\n",
    "    # donde se guardan por defecto\n",
    "    ruta_guardado = '../resultados/notas/'\n",
    "    ruta_guardado = os.path.dirname(ruta_guardado)    \n",
    "    \n",
    "    if not os.path.exists(ruta_guardado):\n",
    "        os.makedirs(ruta_guardado)\n",
    "    metadata = {\n",
    "        \"BATCH_SIZE\": [BATCH_SIZE],\n",
    "        \"EPOCHS\": [EPOCHS],\n",
    "        \"LEARNING_RATE\": [LEARNING_RATE],\n",
    "        \"PRE_TRAINED_MODEL_NAME\": [PRE_TRAINED_MODEL_NAME],\n",
    "        \"tipo\": [tipo],\n",
    "        \"idioma\": [idioma],\n",
    "        \"train_acc\": [train_acc.item()],\n",
    "        \"val_acc\": [val_acc.item()],\n",
    "        \"tiempo_seg\":[fin],\n",
    "    }\n",
    "    df = pd.DataFrame(metadata)\n",
    "    fecha_actual = datetime.datetime.now().strftime(\"%Y-%m-%d_%H-%M-%S\")\n",
    "    nombre_archivo = f\"{fecha_actual}_metadata.csv\"\n",
    "    ruta_archivo = os.path.join(ruta_guardado, nombre_archivo)\n",
    "    df.to_csv(ruta_archivo, index=False)\n",
    "    print(f\"csv {nombre_archivo}\\n guardado en {ruta_archivo}\")\n",
    "\n",
    "  "
   ]
  },
  {
   "attachments": {},
   "cell_type": "markdown",
   "metadata": {
    "application/vnd.databricks.v1+cell": {
     "cellMetadata": {
      "byteLimit": 2048000,
      "rowLimit": 10000
     },
     "inputWidgets": {},
     "nuid": "d022597f-3aaf-41fe-8c2f-088a5e6ebd31",
     "showTitle": false,
     "title": ""
    },
    "id": "7nM5fJYwURd-"
   },
   "source": [
    "# Realización de predicciones en el conjunto de prueba\n",
    "1. primero con una frase\n",
    "2. con el dataset de test"
   ]
  },
  {
   "cell_type": "code",
   "execution_count": 26,
   "metadata": {
    "application/vnd.databricks.v1+cell": {
     "cellMetadata": {
      "byteLimit": 2048000,
      "rowLimit": 10000
     },
     "inputWidgets": {},
     "nuid": "08be4a89-f98e-4b21-bc2d-73934981d322",
     "showTitle": false,
     "title": ""
    },
    "id": "fBtSbpqcUUdA"
   },
   "outputs": [
    {
     "name": "stdout",
     "output_type": "stream",
     "text": [
      "{'document': ['According to the new order, we all suffer in strong pain'], 'sentence_embeddings': ['According to the new order, we all suffer in strong pain'], 'token': ['According', 'to', 'the', 'new', 'order', ',', 'we', 'all', 'suffer', 'in', 'strong', 'pain'], 'class': ['negative'], 'embeddings': ['According', 'to', 'the', 'new', 'order', ',', 'we', 'all', 'suffer', 'in', 'strong', 'pain']}\n"
     ]
    }
   ],
   "source": [
    "light_model = LightPipeline(bert_Model)\n",
    "\n",
    "light_result = light_model.annotate(\"According to the new order, we all suffer in strong pain\")\n",
    "print(light_result)"
   ]
  },
  {
   "cell_type": "code",
   "execution_count": 27,
   "metadata": {
    "application/vnd.databricks.v1+cell": {
     "cellMetadata": {
      "byteLimit": 2048000,
      "rowLimit": 10000
     },
     "inputWidgets": {},
     "nuid": "ef91fb05-238c-420c-b3a8-0d4788710aa5",
     "showTitle": false,
     "title": ""
    },
    "id": "MTSSdPntOdUV"
   },
   "outputs": [
    {
     "name": "stdout",
     "output_type": "stream",
     "text": [
      "root\n",
      " |-- stars: string (nullable = true)\n",
      " |-- description: string (nullable = true)\n",
      " |-- sentiment: string (nullable = false)\n",
      " |-- category_encoded: double (nullable = false)\n",
      " |-- document: array (nullable = true)\n",
      " |    |-- element: struct (containsNull = true)\n",
      " |    |    |-- annotatorType: string (nullable = true)\n",
      " |    |    |-- begin: integer (nullable = false)\n",
      " |    |    |-- end: integer (nullable = false)\n",
      " |    |    |-- result: string (nullable = true)\n",
      " |    |    |-- metadata: map (nullable = true)\n",
      " |    |    |    |-- key: string\n",
      " |    |    |    |-- value: string (valueContainsNull = true)\n",
      " |    |    |-- embeddings: array (nullable = true)\n",
      " |    |    |    |-- element: float (containsNull = false)\n",
      " |-- token: array (nullable = true)\n",
      " |    |-- element: struct (containsNull = true)\n",
      " |    |    |-- annotatorType: string (nullable = true)\n",
      " |    |    |-- begin: integer (nullable = false)\n",
      " |    |    |-- end: integer (nullable = false)\n",
      " |    |    |-- result: string (nullable = true)\n",
      " |    |    |-- metadata: map (nullable = true)\n",
      " |    |    |    |-- key: string\n",
      " |    |    |    |-- value: string (valueContainsNull = true)\n",
      " |    |    |-- embeddings: array (nullable = true)\n",
      " |    |    |    |-- element: float (containsNull = false)\n",
      " |-- embeddings: array (nullable = true)\n",
      " |    |-- element: struct (containsNull = true)\n",
      " |    |    |-- annotatorType: string (nullable = true)\n",
      " |    |    |-- begin: integer (nullable = false)\n",
      " |    |    |-- end: integer (nullable = false)\n",
      " |    |    |-- result: string (nullable = true)\n",
      " |    |    |-- metadata: map (nullable = true)\n",
      " |    |    |    |-- key: string\n",
      " |    |    |    |-- value: string (valueContainsNull = true)\n",
      " |    |    |-- embeddings: array (nullable = true)\n",
      " |    |    |    |-- element: float (containsNull = false)\n",
      " |-- sentence_embeddings: array (nullable = true)\n",
      " |    |-- element: struct (containsNull = true)\n",
      " |    |    |-- annotatorType: string (nullable = true)\n",
      " |    |    |-- begin: integer (nullable = false)\n",
      " |    |    |-- end: integer (nullable = false)\n",
      " |    |    |-- result: string (nullable = true)\n",
      " |    |    |-- metadata: map (nullable = true)\n",
      " |    |    |    |-- key: string\n",
      " |    |    |    |-- value: string (valueContainsNull = true)\n",
      " |    |    |-- embeddings: array (nullable = true)\n",
      " |    |    |    |-- element: float (containsNull = false)\n",
      " |-- class: array (nullable = true)\n",
      " |    |-- element: struct (containsNull = true)\n",
      " |    |    |-- annotatorType: string (nullable = true)\n",
      " |    |    |-- begin: integer (nullable = false)\n",
      " |    |    |-- end: integer (nullable = false)\n",
      " |    |    |-- result: string (nullable = true)\n",
      " |    |    |-- metadata: map (nullable = true)\n",
      " |    |    |    |-- key: string\n",
      " |    |    |    |-- value: string (valueContainsNull = true)\n",
      " |    |    |-- embeddings: array (nullable = true)\n",
      " |    |    |    |-- element: float (containsNull = false)\n",
      "\n"
     ]
    }
   ],
   "source": [
    "predict_bert_eval = bert_Model.transform(df_eval)\n",
    "predict_bert = bert_Model.transform(df_testdata)\n",
    "predict_bert.printSchema()"
   ]
  },
  {
   "cell_type": "code",
   "execution_count": 28,
   "metadata": {
    "application/vnd.databricks.v1+cell": {
     "cellMetadata": {
      "byteLimit": 2048000,
      "rowLimit": 10000
     },
     "inputWidgets": {},
     "nuid": "d0a88f2a-279d-475a-ad76-2c67e1e33231",
     "showTitle": false,
     "title": ""
    },
    "id": "fRmd6kl7cb1C"
   },
   "outputs": [
    {
     "name": "stdout",
     "output_type": "stream",
     "text": [
      "+---------+--------------------------------------------------------------------------------+--------+\n",
      "|sentiment|                                                                     description|  result|\n",
      "+---------+--------------------------------------------------------------------------------+--------+\n",
      "| positive|El delantal está muy bien y tiene muchos bolsillos para meter cosas. es de te...| neutral|\n",
      "| positive|Cojí el que no tiene cremallera Talla bastante completa Tengo una xxl y pedí ...|positive|\n",
      "| positive| Son más largos de lo que esperaba pero quedan genial. Parecen de buena calidad.|positive|\n",
      "| positive|Es un buen libro para repasar preguntas pese a no tener explicaciones, con el...|positive|\n",
      "| positive|es lo que se indica, mariposas de plástico con brillantina tal y como se dice...|positive|\n",
      "| positive|Se me adapta perfectamente en Mac Book Pro de 13 pulgadas. Lo he podido poner...|positive|\n",
      "| positive|                               Buen teclado de estudio. Ideal para principiantes|positive|\n",
      "| positive|                                              todo perfecto en tiempo y producto|positive|\n",
      "| positive|                                      Huele genial, aunque no dura mucho el olor|positive|\n",
      "| positive|Muy bueno, el gran defecto que tiene es que se calienta muchísimo (A veces ca...|negative|\n",
      "+---------+--------------------------------------------------------------------------------+--------+\n",
      "only showing top 10 rows\n",
      "\n"
     ]
    }
   ],
   "source": [
    "\n",
    "from pyspark.sql.functions import explode\n",
    "\n",
    "\n",
    "\n",
    "df_predict_bert_eval = (predict_bert_eval\n",
    "  .select(col_categoria,\"description\",explode(\"class\").alias(\"class\"))\n",
    "  .withColumn(\"result\", col(\"class.result\"))\n",
    "  .select(col_categoria,\"description\",\"result\")\n",
    "  .drop_duplicates()\n",
    "  \n",
    "  )\n",
    "\n",
    "\n",
    "df_predict_bert = (predict_bert\n",
    "  .select(col_categoria,\"description\",explode(\"class\").alias(\"class\"))\n",
    "  .withColumn(\"result\", col(\"class.result\"))\n",
    "  .select(col_categoria,\"description\",\"result\")\n",
    "  .drop_duplicates()\n",
    "  \n",
    "  )\n",
    "df_predict_bert.show(10,truncate=80)\n"
   ]
  },
  {
   "attachments": {},
   "cell_type": "markdown",
   "metadata": {
    "application/vnd.databricks.v1+cell": {
     "cellMetadata": {
      "byteLimit": 2048000,
      "rowLimit": 10000
     },
     "inputWidgets": {},
     "nuid": "73c6c46f-0019-4d0b-840c-5f9d71ada30e",
     "showTitle": false,
     "title": ""
    },
    "id": "t0JuDphtc-MN"
   },
   "source": [
    "# Obtenemos el rendimiento del modelo para comparar con la opcion de USE "
   ]
  },
  {
   "attachments": {},
   "cell_type": "markdown",
   "metadata": {},
   "source": [
    "## para del dataset de evaluacion\n",
    "`df_eval`"
   ]
  },
  {
   "cell_type": "code",
   "execution_count": 29,
   "metadata": {
    "application/vnd.databricks.v1+cell": {
     "cellMetadata": {
      "byteLimit": 2048000,
      "rowLimit": 10000
     },
     "inputWidgets": {},
     "nuid": "96affc25-05b0-45c3-b25d-5996f0dd468f",
     "showTitle": false,
     "title": ""
    },
    "id": "Pxil8JWrc-kx"
   },
   "outputs": [
    {
     "name": "stdout",
     "output_type": "stream",
     "text": [
      "              precision    recall  f1-score   support\n",
      "\n",
      "    negative       0.53      0.87      0.66     11892\n",
      "     neutral       0.51      0.11      0.17     11837\n",
      "    positive       0.57      0.65      0.61     11955\n",
      "\n",
      "    accuracy                           0.55     35684\n",
      "   macro avg       0.54      0.54      0.48     35684\n",
      "weighted avg       0.54      0.55      0.48     35684\n",
      "\n",
      "0.5452303553413295\n"
     ]
    }
   ],
   "source": [
    "df_pandas_predict_bert_eval = df_predict_bert_eval.toPandas()\n",
    "\n",
    "class_names = list(df_pandas_predict_bert_eval[col_categoria].unique())\n",
    "\n",
    "# class_names = ['negative', 'neutral', 'positive']\n",
    "\n",
    "print(classification_report(df_pandas_predict_bert_eval[col_categoria], df_pandas_predict_bert_eval.result,target_names=class_names))\n",
    "accuracy_eval_score = accuracy_score(df_pandas_predict_bert_eval[col_categoria], df_pandas_predict_bert_eval.result)\n",
    "\n",
    "print(accuracy_eval_score)"
   ]
  },
  {
   "attachments": {},
   "cell_type": "markdown",
   "metadata": {},
   "source": [
    "## para del dataset de test\n",
    "`df_testdata`"
   ]
  },
  {
   "cell_type": "code",
   "execution_count": 30,
   "metadata": {},
   "outputs": [
    {
     "name": "stdout",
     "output_type": "stream",
     "text": [
      "              precision    recall  f1-score   support\n",
      "\n",
      "    positive       0.55      0.88      0.67      1000\n",
      "     neutral       0.52      0.11      0.18      1000\n",
      "    negative       0.57      0.67      0.62       999\n",
      "\n",
      "    accuracy                           0.55      2999\n",
      "   macro avg       0.55      0.55      0.49      2999\n",
      "weighted avg       0.55      0.55      0.49      2999\n",
      "\n",
      "0.5548516172057353\n"
     ]
    }
   ],
   "source": [
    "df_pandas_predict_bert = df_predict_bert.toPandas()\n",
    "\n",
    "class_names = list(df_pandas_predict_bert[col_categoria].unique())\n",
    "\n",
    "# class_names = ['negative', 'neutral', 'positive']\n",
    "\n",
    "print(classification_report(df_pandas_predict_bert[col_categoria], df_pandas_predict_bert.result,target_names=class_names))\n",
    "accuracy_test_score = accuracy_score(df_pandas_predict_bert[col_categoria], df_pandas_predict_bert.result)\n",
    "\n",
    "print(accuracy_test_score)"
   ]
  },
  {
   "cell_type": "code",
   "execution_count": 33,
   "metadata": {},
   "outputs": [
    {
     "name": "stdout",
     "output_type": "stream",
     "text": [
      "csv 2023-05-28_00-15-11_metadata.csv\n",
      " guardado en ../resultados/notas\\2023-05-28_00-15-11_metadata.csv\n"
     ]
    }
   ],
   "source": [
    "guardar_metadata(BATCH_SIZE, EPOCHS, LEARNING_RATE, PRE_TRAINED_MODEL_NAME, tipo, idioma, accuracy_eval_score, accuracy_test_score, fin)"
   ]
  },
  {
   "attachments": {},
   "cell_type": "markdown",
   "metadata": {
    "application/vnd.databricks.v1+cell": {
     "cellMetadata": {
      "byteLimit": 2048000,
      "rowLimit": 10000
     },
     "inputWidgets": {},
     "nuid": "a0974144-399c-44fa-a81d-867627e574b0",
     "showTitle": false,
     "title": ""
    },
    "id": "3mpE9u1FfGfQ"
   },
   "source": [
    "# Dreamos la matriz de confusion\n",
    "1"
   ]
  },
  {
   "cell_type": "code",
   "execution_count": 34,
   "metadata": {
    "application/vnd.databricks.v1+cell": {
     "cellMetadata": {
      "byteLimit": 2048000,
      "rowLimit": 10000
     },
     "inputWidgets": {},
     "nuid": "9d4e62f9-bcb6-4b49-b210-0de7bd120819",
     "showTitle": false,
     "title": ""
    },
    "id": "fX60AZEifIjw"
   },
   "outputs": [],
   "source": [
    "def show_confusion_matrix(confusion_matrix):\n",
    "  hmap = sns.heatmap(confusion_matrix, annot=True, fmt=\"d\", cmap=\"Blues\")\n",
    "  hmap.yaxis.set_ticklabels(hmap.yaxis.get_ticklabels(), rotation=0, ha='right')\n",
    "  hmap.xaxis.set_ticklabels(hmap.xaxis.get_ticklabels(), rotation=30, ha='right')\n",
    "  plt.ylabel('True sentiment')\n",
    "  plt.xlabel('Predicted sentiment');"
   ]
  },
  {
   "cell_type": "code",
   "execution_count": 41,
   "metadata": {
    "application/vnd.databricks.v1+cell": {
     "cellMetadata": {
      "byteLimit": 2048000,
      "rowLimit": 10000
     },
     "inputWidgets": {},
     "nuid": "05987b3b-9f86-4c1e-a711-a07f9b32e867",
     "showTitle": false,
     "title": ""
    },
    "id": "RXgHiSLafl1Z"
   },
   "outputs": [
    {
     "data": {
      "image/png": "[encoded data removed]",
      "text/plain": [
       "<Figure size 1200x800 with 2 Axes>"
      ]
     },
     "metadata": {
      "image/png": {
       "height": 722,
       "width": 991
      }
     },
     "output_type": "display_data"
    }
   ],
   "source": [
    "import pandas as pd\n",
    "cm = confusion_matrix(df_pandas_predict_bert[col_categoria], df_pandas_predict_bert.result)\n",
    "df_cm = pd.DataFrame(cm, index=class_names, columns=class_names)\n",
    "show_confusion_matrix(df_cm)"
   ]
  },
  {
   "attachments": {},
   "cell_type": "markdown",
   "metadata": {
    "application/vnd.databricks.v1+cell": {
     "cellMetadata": {
      "byteLimit": 2048000,
      "rowLimit": 10000
     },
     "inputWidgets": {},
     "nuid": "7f7f13b3-7ad6-4d24-80f5-4463bf8918f0",
     "showTitle": false,
     "title": ""
    },
    "id": "fFNLcGt3f4sx"
   },
   "source": [
    "Pruebas de predicción"
   ]
  },
  {
   "cell_type": "code",
   "execution_count": 36,
   "metadata": {
    "application/vnd.databricks.v1+cell": {
     "cellMetadata": {
      "byteLimit": 2048000,
      "rowLimit": 10000
     },
     "inputWidgets": {},
     "nuid": "df442b3c-7cb3-49cb-8c8b-8d66f4b47170",
     "showTitle": false,
     "title": ""
    },
    "id": "5o57llAZgAe6"
   },
   "outputs": [
    {
     "data": {
      "text/plain": [
       "['negative']"
      ]
     },
     "execution_count": 36,
     "metadata": {},
     "output_type": "execute_result"
    }
   ],
   "source": [
    "light_model.annotate(\n",
    "    \"Mi hijo no sabe usarlo. creo que las instrucciones son escasas\"\n",
    ")[\"class\"]"
   ]
  },
  {
   "cell_type": "code",
   "execution_count": 37,
   "metadata": {},
   "outputs": [
    {
     "data": {
      "text/plain": [
       "['negative']"
      ]
     },
     "execution_count": 37,
     "metadata": {},
     "output_type": "execute_result"
    }
   ],
   "source": [
    "light_model.annotate(\n",
    "    \"Estamos de acuerdo en que es el peor de los mejores telefonos moviles, pero no lo voy a devolver.\"\n",
    ")[\"class\"]"
   ]
  },
  {
   "attachments": {},
   "cell_type": "markdown",
   "metadata": {
    "application/vnd.databricks.v1+cell": {
     "cellMetadata": {
      "byteLimit": 2048000,
      "rowLimit": 10000
     },
     "inputWidgets": {},
     "nuid": "11279048-0cb7-4690-82a8-2180f8bbf06c",
     "showTitle": false,
     "title": ""
    },
    "id": "BcJ3cVt_b-nT"
   },
   "source": [
    "Enlaces relacionados bibliografía organizada en formato markdown:\n",
    "\n",
    "- [Annotators SparkNLP](https://github.com/JohnSnowLabs/spark-nlp-workshop/blob/master/tutorials/Certification_Trainings/Public/5.Text_Classification_with_ClassifierDL.ipynb)\n",
    "- [Opciones de preprocesado](https://github.com/JohnSnowLabs/spark-nlp-workshop/blob/master/tutorials/Certification_Trainings/Public/2.Text_Preprocessing_with_SparkNLP_Annotators_Transformers.ipynb)\n",
    "- [Clasificación de texto en Spark NLP con Bert y Universal Sentence Encoders](https://towardsdatascience.com/text-classification-in-spark-nlp-with-bert-and-universal-sentence-encoders-e644d618ca32)\n",
    "- [Cómo instalar Spark NLP offline](https://nlp.johnsnowlabs.com/docs/en/install#offline)\n",
    "- [Predicción de reseñas de películas con Bert en TF Hub (Python)](https://colab.research.google.com/github/google-research/bert/blob/master/predicting_movie_reviews_with_bert_on_tf_hub.ipynb#scrollTo=OjwJ4bTeWXD8)\n",
    "- [Ajuste fino de Bert con Cloud TPUs (Python)](https://colab.research.google.com/github/tensorflow/tpu/blob/master/tools/colab/bert_finetuning_with_cloud_tpus.ipynb)\n",
    "- [Repositorio de Bert en GitHub](https://github.com/google-research/bert)\n",
    "- [Ventajas de Spark NLP vs Spacy](https://towardsdatascience.com/introduction-to-spark-nlp-foundations-and-basic-components-part-i-c83b7629ed59)\n",
    "- [Explicación de Bert en diapositivas](http://web.stanford.edu/class/cs224n/slides/Jacob_Devlin_BERT.pdf)\n",
    "- [Información sobre la disponibilidad de GPU en Colab](https://research.google.com/colaboratory/faq.html#gpu-availability)\n",
    "- [Configuracion de spark NLP](https://github.com/JohnSnowLabs/spark-nlp/blob/master/README.md#quick-start)"
   ]
  },
  {
   "cell_type": "code",
   "execution_count": null,
   "metadata": {
    "application/vnd.databricks.v1+cell": {
     "cellMetadata": {
      "byteLimit": 2048000,
      "rowLimit": 10000
     },
     "inputWidgets": {},
     "nuid": "84b3c58c-2dc2-42ef-a13b-6939f4ea73f8",
     "showTitle": false,
     "title": ""
    },
    "id": "DcgLyJxRbpVA"
   },
   "outputs": [],
   "source": [
    "if 'dbutils' in globals():\n",
    "    print('borrando lo que hay en el directorio remoto para liberar espacio')\n",
    "    # dbutils.fs.rm(root_folder,recurse=True)\n",
    "elif platform.system() == 'Linux':\n",
    "    from google.colab import runtime\n",
    "    runtime.unassign()"
   ]
  }
 ],
 "metadata": {
  "accelerator": "GPU",
  "application/vnd.databricks.v1+notebook": {
   "dashboards": [],
   "language": "python",
   "notebookMetadata": {
    "mostRecentlyExecutedCommandWithImplicitDF": {
     "commandId": -1,
     "dataframes": [
      "_sqldf"
     ]
    },
    "pythonIndentUnit": 4
   },
   "notebookName": "TFM_Experimento_1_BERT_AMAZON_REVIEWS_ES_spark_0.2",
   "widgets": {}
  },
  "colab": {
   "gpuType": "T4",
   "provenance": []
  },
  "gpuClass": "standard",
  "kernelspec": {
   "display_name": "Python 3 (ipykernel)",
   "language": "python",
   "name": "python3"
  },
  "language_info": {
   "codemirror_mode": {
    "name": "ipython",
    "version": 3
   },
   "file_extension": ".py",
   "mimetype": "text/x-python",
   "name": "python",
   "nbconvert_exporter": "python",
   "pygments_lexer": "ipython3",
   "version": "3.10.11"
  }
 },
 "nbformat": 4,
 "nbformat_minor": 1
}
